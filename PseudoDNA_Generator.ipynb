{
  "nbformat": 4,
  "nbformat_minor": 0,
  "metadata": {
    "colab": {
      "name": "PseudoDNA_Generator.ipynb",
      "provenance": [],
      "collapsed_sections": [],
      "toc_visible": true
    },
    "kernelspec": {
      "name": "python3",
      "display_name": "Python 3"
    },
    "accelerator": "GPU"
  },
  "cells": [
    {
      "cell_type": "markdown",
      "metadata": {
        "id": "w_e5GXnWH9tO",
        "colab_type": "text"
      },
      "source": [
        "# Character-Level Pseudo DNA Generator\n",
        "\n",
        "Based on a sample of genomic sequences, we train LSTM model to generate pseudo DNA, i.e. sequences that look like a real DNA but cannot be found in a genome."
      ]
    },
    {
      "cell_type": "code",
      "metadata": {
        "id": "RX8-d2WTZ7rc",
        "colab_type": "code",
        "outputId": "9f4858b9-9f73-41c4-a841-ae109fe7067a",
        "colab": {
          "base_uri": "https://localhost:8080/",
          "height": 79
        }
      },
      "source": [
        "#%tensorflow_version 1.x (use it in Colab)\n",
        "import keras\n",
        "import pandas as pd\n",
        "import numpy as np\n",
        "#import re, collections            # for text processing\n",
        "from google.colab import files    # for download files\n"
      ],
      "execution_count": 1,
      "outputs": [
        {
          "output_type": "stream",
          "text": [
            "Using TensorFlow backend.\n"
          ],
          "name": "stderr"
        },
        {
          "output_type": "display_data",
          "data": {
            "text/html": [
              "<p style=\"color: red;\">\n",
              "The default version of TensorFlow in Colab will soon switch to TensorFlow 2.x.<br>\n",
              "We recommend you <a href=\"https://www.tensorflow.org/guide/migrate\" target=\"_blank\">upgrade</a> now \n",
              "or ensure your notebook will continue to use TensorFlow 1.x via the <code>%tensorflow_version 1.x</code> magic:\n",
              "<a href=\"https://colab.research.google.com/notebooks/tensorflow_version.ipynb\" target=\"_blank\">more info</a>.</p>\n"
            ],
            "text/plain": [
              "<IPython.core.display.HTML object>"
            ]
          },
          "metadata": {
            "tags": []
          }
        }
      ]
    },
    {
      "cell_type": "markdown",
      "metadata": {
        "id": "BLMS2qirKgCs",
        "colab_type": "text"
      },
      "source": [
        "## Step 1) Read DNA sequences\n",
        "\n",
        "These sequences were generated in a previous notebook from intergenic regions."
      ]
    },
    {
      "cell_type": "code",
      "metadata": {
        "id": "Tzfhr5p1aFWD",
        "colab_type": "code",
        "outputId": "8de1e9d1-c6c6-4d35-a11b-482fb78230a6",
        "colab": {
          "base_uri": "https://localhost:8080/",
          "height": 34
        }
      },
      "source": [
        "df = pd.read_csv(\"random_seqs.csv\")\n",
        "print('corpus length:', sum(df.seq.str.len()))\n"
      ],
      "execution_count": 2,
      "outputs": [
        {
          "output_type": "stream",
          "text": [
            "corpus length: 2836621\n"
          ],
          "name": "stdout"
        }
      ]
    },
    {
      "cell_type": "markdown",
      "metadata": {
        "id": "iDGmLs5eK3NI",
        "colab_type": "text"
      },
      "source": [
        "## Step 2) Text preprocessing\n",
        "\n",
        "For simplicity, we remove every sequence containing `N` (unknown)."
      ]
    },
    {
      "cell_type": "code",
      "metadata": {
        "id": "fbvOJk0JauHR",
        "colab_type": "code",
        "colab": {}
      },
      "source": [
        "containsN = df.seq.str.contains(\"N\")\n",
        "sum(containsN)\n",
        "df = df[~containsN]\n",
        "\n",
        "assert all(~df.seq.str.contains(\"N\"))"
      ],
      "execution_count": 0,
      "outputs": []
    },
    {
      "cell_type": "markdown",
      "metadata": {
        "id": "aOT2fC_-MJZD",
        "colab_type": "text"
      },
      "source": [
        "## Step 3) Cut the text in semi-redundant sequences\n",
        "\n",
        "For training, the test is cut into smaller pieces of the same length. Longer pieces enable better context but needs more time and memory for training."
      ]
    },
    {
      "cell_type": "code",
      "metadata": {
        "id": "su1RvGsRbLxc",
        "colab_type": "code",
        "colab": {}
      },
      "source": [
        "SEQ_LENGTH = 49   # length of sequences\n",
        "STEP = 20         # shift in cursor between sequences\n",
        "DEPTH = 1         # number of hidden LSTM/GRU layers\n",
        "UNIT_SIZE = 64   # number of units per LSTM\n",
        "DROPOUT = 0.1     # dropout parameter"
      ],
      "execution_count": 0,
      "outputs": []
    },
    {
      "cell_type": "code",
      "metadata": {
        "id": "OBXopIx-nwU8",
        "colab_type": "code",
        "outputId": "3cf4ebbb-2a0e-4299-b1f6-3aa6296440de",
        "colab": {
          "base_uri": "https://localhost:8080/",
          "height": 34
        }
      },
      "source": [
        "sentences = list()\n",
        "targets = list()\n",
        "\n",
        "for s in df.seq: \n",
        "  for i in range(0, len(s) - SEQ_LENGTH - 1, STEP):\n",
        "    sentences.append(s[i: i + SEQ_LENGTH])\n",
        "    targets.append(s[i + 1: i + SEQ_LENGTH + 1])\n",
        "print('number of sequences:', len(sentences))"
      ],
      "execution_count": 5,
      "outputs": [
        {
          "output_type": "stream",
          "text": [
            "number of sequences: 102000\n"
          ],
          "name": "stdout"
        }
      ]
    },
    {
      "cell_type": "markdown",
      "metadata": {
        "id": "qcxSCl-0NUHF",
        "colab_type": "text"
      },
      "source": [
        "## Step 4) Vectorization\n",
        "\n",
        "One reason to do this is that entering raw numbers into a RNN may not make sense\n",
        "    because it assumes an ordering for catergorical variables."
      ]
    },
    {
      "cell_type": "code",
      "metadata": {
        "id": "aYavT4Lko2t-",
        "colab_type": "code",
        "colab": {}
      },
      "source": [
        "# dictionaries to convert characters to numbers and vice-versa\n",
        "chars = ['A', 'C', 'T', 'G']\n",
        "num_chars = 4\n",
        "char_to_indices = dict((c, i) for i, c in enumerate(chars))\n",
        "indices_to_char = dict((i, c) for i, c in enumerate(chars))\n",
        "\n",
        "X = np.zeros((len(sentences), SEQ_LENGTH, num_chars), dtype=np.bool)\n",
        "y = np.zeros((len(sentences), SEQ_LENGTH, num_chars), dtype=np.bool)\n",
        "for i in range(len(sentences)):\n",
        "    sentence = sentences[i]\n",
        "    target = targets[i]\n",
        "    for j in range(SEQ_LENGTH):\n",
        "        X[i][j][char_to_indices[sentence[j]]] = 1\n",
        "        y[i][j][char_to_indices[target[j]]] = 1"
      ],
      "execution_count": 0,
      "outputs": []
    },
    {
      "cell_type": "markdown",
      "metadata": {
        "id": "O_fGbXpYP_3d",
        "colab_type": "text"
      },
      "source": [
        "## Step 5) Model definition\n",
        "\n",
        "One, two (or three) layers of LSTM and dropout, followed by dense connected layer and softmax. Possibly, LSTM could be replaced by GRU (keras.layers.GRU), or RMSprop optimizer can be replaced by SGD or Adam."
      ]
    },
    {
      "cell_type": "code",
      "metadata": {
        "id": "XOHedg-vboEs",
        "colab_type": "code",
        "outputId": "2a22ebcb-b7cf-4468-c3f7-96d36349ce29",
        "colab": {
          "base_uri": "https://localhost:8080/",
          "height": 222
        }
      },
      "source": [
        "model = keras.models.Sequential()\n",
        "for _ in range(DEPTH):\n",
        "    model.add(keras.layers.LSTM(UNIT_SIZE, input_shape=(None, num_chars), return_sequences=True))\n",
        "    model.add(keras.layers.Dropout(DROPOUT))\n",
        "model.add(keras.layers.wrappers.TimeDistributed(keras.layers.Dense(num_chars)))\n",
        "model.add(keras.layers.Activation('softmax'))"
      ],
      "execution_count": 7,
      "outputs": [
        {
          "output_type": "stream",
          "text": [
            "WARNING:tensorflow:From /usr/local/lib/python3.6/dist-packages/keras/backend/tensorflow_backend.py:66: The name tf.get_default_graph is deprecated. Please use tf.compat.v1.get_default_graph instead.\n",
            "\n",
            "WARNING:tensorflow:From /usr/local/lib/python3.6/dist-packages/keras/backend/tensorflow_backend.py:541: The name tf.placeholder is deprecated. Please use tf.compat.v1.placeholder instead.\n",
            "\n",
            "WARNING:tensorflow:From /usr/local/lib/python3.6/dist-packages/keras/backend/tensorflow_backend.py:4432: The name tf.random_uniform is deprecated. Please use tf.random.uniform instead.\n",
            "\n",
            "WARNING:tensorflow:From /usr/local/lib/python3.6/dist-packages/keras/backend/tensorflow_backend.py:148: The name tf.placeholder_with_default is deprecated. Please use tf.compat.v1.placeholder_with_default instead.\n",
            "\n",
            "WARNING:tensorflow:From /usr/local/lib/python3.6/dist-packages/keras/backend/tensorflow_backend.py:3733: calling dropout (from tensorflow.python.ops.nn_ops) with keep_prob is deprecated and will be removed in a future version.\n",
            "Instructions for updating:\n",
            "Please use `rate` instead of `keep_prob`. Rate should be set to `rate = 1 - keep_prob`.\n"
          ],
          "name": "stdout"
        }
      ]
    },
    {
      "cell_type": "code",
      "metadata": {
        "id": "lTXKpmFLdpG7",
        "colab_type": "code",
        "outputId": "73559b84-36be-4498-c009-6b7ef9bf8008",
        "colab": {
          "base_uri": "https://localhost:8080/",
          "height": 104
        }
      },
      "source": [
        "optimizer = keras.optimizers.RMSprop(lr=0.01)\n",
        "model.compile(loss='categorical_crossentropy', optimizer=optimizer, metrics=['accuracy'])"
      ],
      "execution_count": 8,
      "outputs": [
        {
          "output_type": "stream",
          "text": [
            "WARNING:tensorflow:From /usr/local/lib/python3.6/dist-packages/keras/optimizers.py:793: The name tf.train.Optimizer is deprecated. Please use tf.compat.v1.train.Optimizer instead.\n",
            "\n",
            "WARNING:tensorflow:From /usr/local/lib/python3.6/dist-packages/keras/backend/tensorflow_backend.py:3576: The name tf.log is deprecated. Please use tf.math.log instead.\n",
            "\n"
          ],
          "name": "stdout"
        }
      ]
    },
    {
      "cell_type": "markdown",
      "metadata": {
        "id": "sS1LR_jlRiEd",
        "colab_type": "text"
      },
      "source": [
        "## Helper functions: Generating text from the model\n",
        "\n",
        "The function **sample** takes the trained model and get you a sample of a text generated from it. Lower temperatures make result more boring (but avoid crazy outputs)."
      ]
    },
    {
      "cell_type": "code",
      "metadata": {
        "id": "fKDuSeEpd8Fr",
        "colab_type": "code",
        "colab": {}
      },
      "source": [
        "def multinomial_with_temperature(preds, temperature=1.0):\n",
        "    \"\"\"\n",
        "    Helper function to sample from a multinomial distribution (+adj. for temperature)\n",
        "    \"\"\" \n",
        "    preds = np.asarray(preds).astype('float64')\n",
        "    preds = np.log(preds + 1e-8) / temperature  \n",
        "    exp_preds = np.exp(preds)\n",
        "    preds = exp_preds / np.sum(exp_preds)\n",
        "    probas = np.random.multinomial(1, preds, 1)\n",
        "    return np.argmax(probas)\n",
        "\n",
        "\n",
        "def sample(model, char_to_indices, indices_to_char, \n",
        "           seed_string=\" \", temperature=1.0, test_length=150):\n",
        "    \"\"\"\n",
        "    Generates text of test_length length from model starting with seed_string.\n",
        "    \"\"\"\n",
        "    num_chars = len(char_to_indices.keys())\n",
        "    for i in range(test_length):\n",
        "        test_in = np.zeros((1, len(seed_string), num_chars))\n",
        "        for t, char in enumerate(seed_string):\n",
        "            test_in[0, t, char_to_indices[char]] = 1\n",
        "        entire_prediction = model.predict(test_in, verbose=0)[0]\n",
        "        next_index = multinomial_with_temperature(entire_prediction[-1], temperature)\n",
        "        next_char = indices_to_char[next_index]\n",
        "        seed_string = seed_string + next_char\n",
        "    return seed_string"
      ],
      "execution_count": 0,
      "outputs": []
    },
    {
      "cell_type": "markdown",
      "metadata": {
        "id": "B9aqL0FsTr1t",
        "colab_type": "text"
      },
      "source": [
        "## Step 6) Model training\n",
        "\n",
        "Each time you run the code below, the model is trained for 15 epochs  (each sequence is visited 15 times). If the quality of predictions is not sufficient, you can add another 15 epochs, etc."
      ]
    },
    {
      "cell_type": "code",
      "metadata": {
        "id": "-GWjeLVYeBz3",
        "colab_type": "code",
        "outputId": "b1a275c4-79e3-4f74-b97f-2dd4044a0874",
        "colab": {
          "base_uri": "https://localhost:8080/",
          "height": 860
        }
      },
      "source": [
        "history = model.fit(X, y,\n",
        "            batch_size=1024,\n",
        "            epochs=15)"
      ],
      "execution_count": 10,
      "outputs": [
        {
          "output_type": "stream",
          "text": [
            "WARNING:tensorflow:From /usr/local/lib/python3.6/dist-packages/tensorflow_core/python/ops/math_grad.py:1424: where (from tensorflow.python.ops.array_ops) is deprecated and will be removed in a future version.\n",
            "Instructions for updating:\n",
            "Use tf.where in 2.0, which has the same broadcast rule as np.where\n",
            "WARNING:tensorflow:From /usr/local/lib/python3.6/dist-packages/keras/backend/tensorflow_backend.py:1033: The name tf.assign_add is deprecated. Please use tf.compat.v1.assign_add instead.\n",
            "\n",
            "WARNING:tensorflow:From /usr/local/lib/python3.6/dist-packages/keras/backend/tensorflow_backend.py:1020: The name tf.assign is deprecated. Please use tf.compat.v1.assign instead.\n",
            "\n",
            "WARNING:tensorflow:From /usr/local/lib/python3.6/dist-packages/keras/backend/tensorflow_backend.py:3005: The name tf.Session is deprecated. Please use tf.compat.v1.Session instead.\n",
            "\n",
            "Epoch 1/15\n",
            "WARNING:tensorflow:From /usr/local/lib/python3.6/dist-packages/keras/backend/tensorflow_backend.py:190: The name tf.get_default_session is deprecated. Please use tf.compat.v1.get_default_session instead.\n",
            "\n",
            "WARNING:tensorflow:From /usr/local/lib/python3.6/dist-packages/keras/backend/tensorflow_backend.py:197: The name tf.ConfigProto is deprecated. Please use tf.compat.v1.ConfigProto instead.\n",
            "\n",
            "WARNING:tensorflow:From /usr/local/lib/python3.6/dist-packages/keras/backend/tensorflow_backend.py:207: The name tf.global_variables is deprecated. Please use tf.compat.v1.global_variables instead.\n",
            "\n",
            "WARNING:tensorflow:From /usr/local/lib/python3.6/dist-packages/keras/backend/tensorflow_backend.py:216: The name tf.is_variable_initialized is deprecated. Please use tf.compat.v1.is_variable_initialized instead.\n",
            "\n",
            "WARNING:tensorflow:From /usr/local/lib/python3.6/dist-packages/keras/backend/tensorflow_backend.py:223: The name tf.variables_initializer is deprecated. Please use tf.compat.v1.variables_initializer instead.\n",
            "\n",
            "102000/102000 [==============================] - 16s 156us/step - loss: 1.3308 - acc: 0.3411\n",
            "Epoch 2/15\n",
            "102000/102000 [==============================] - 6s 61us/step - loss: 1.3177 - acc: 0.3558\n",
            "Epoch 3/15\n",
            "102000/102000 [==============================] - 6s 62us/step - loss: 1.3101 - acc: 0.3640\n",
            "Epoch 4/15\n",
            "102000/102000 [==============================] - 6s 61us/step - loss: 1.2962 - acc: 0.3746\n",
            "Epoch 5/15\n",
            "102000/102000 [==============================] - 6s 61us/step - loss: 1.2822 - acc: 0.3832\n",
            "Epoch 6/15\n",
            "102000/102000 [==============================] - 6s 61us/step - loss: 1.2718 - acc: 0.3890\n",
            "Epoch 7/15\n",
            "102000/102000 [==============================] - 6s 61us/step - loss: 1.2645 - acc: 0.3930\n",
            "Epoch 8/15\n",
            "102000/102000 [==============================] - 6s 61us/step - loss: 1.2595 - acc: 0.3956\n",
            "Epoch 9/15\n",
            "102000/102000 [==============================] - 6s 61us/step - loss: 1.2553 - acc: 0.3979\n",
            "Epoch 10/15\n",
            "102000/102000 [==============================] - 6s 61us/step - loss: 1.2528 - acc: 0.3990\n",
            "Epoch 11/15\n",
            "102000/102000 [==============================] - 6s 62us/step - loss: 1.2507 - acc: 0.4003\n",
            "Epoch 12/15\n",
            "102000/102000 [==============================] - 6s 61us/step - loss: 1.2489 - acc: 0.4010\n",
            "Epoch 13/15\n",
            "102000/102000 [==============================] - 6s 61us/step - loss: 1.2472 - acc: 0.4017\n",
            "Epoch 14/15\n",
            "102000/102000 [==============================] - 6s 61us/step - loss: 1.2463 - acc: 0.4021\n",
            "Epoch 15/15\n",
            "102000/102000 [==============================] - 6s 61us/step - loss: 1.2454 - acc: 0.4028\n"
          ],
          "name": "stdout"
        }
      ]
    },
    {
      "cell_type": "markdown",
      "metadata": {
        "id": "XRPywzlTUyBj",
        "colab_type": "text"
      },
      "source": [
        "## Step 7) Generate pseudo genomic sequence\n",
        "\n",
        "Generate a pseudogenomic sequence from the model trained above."
      ]
    },
    {
      "cell_type": "code",
      "metadata": {
        "id": "UZnAKchWmigy",
        "colab_type": "code",
        "outputId": "6ce5a0de-80a9-4578-eff5-25cf11a41cd1",
        "colab": {
          "base_uri": "https://localhost:8080/",
          "height": 87
        }
      },
      "source": [
        "%%time\n",
        "random_seed = np.random.choice(chars)\n",
        "random_seq = sample(model, char_to_indices=char_to_indices, indices_to_char=indices_to_char, seed_string=random_seed, temperature=0.7)\n",
        "print(random_seq)"
      ],
      "execution_count": 20,
      "outputs": [
        {
          "output_type": "stream",
          "text": [
            "GGAGGAGAGGGAGAGAGACATATGACAGAGGGAGGCCTCCAAACCTTGACCCCCTCAGTGATCTAGCTGAGGGATGACTCAGTAGGAGAGGGGACTCTGGGCCTCCCAGAGAGGCTCACTGCTCAAGCACCTTGGCCCTGATCTTTCCAGT\n",
            "CPU times: user 2.55 s, sys: 32.2 ms, total: 2.58 s\n",
            "Wall time: 2.49 s\n"
          ],
          "name": "stdout"
        }
      ]
    },
    {
      "cell_type": "markdown",
      "metadata": {
        "id": "zq5jWTRmV0vK",
        "colab_type": "text"
      },
      "source": [
        "## Step 8) Saving the model\n",
        "\n",
        "Save the model for the later use."
      ]
    },
    {
      "cell_type": "code",
      "metadata": {
        "id": "hLMURFCF7ncu",
        "colab_type": "code",
        "colab": {}
      },
      "source": [
        "model_filename = 'random_dna.loss{0:.2f}.h5'.format(history.history['loss'][-1])\n",
        "model.save(model_filename)\n",
        "#files.download(model_filename)"
      ],
      "execution_count": 0,
      "outputs": []
    },
    {
      "cell_type": "markdown",
      "metadata": {
        "id": "jQUKJwW2WEgs",
        "colab_type": "text"
      },
      "source": [
        "## Notes\n",
        "\n",
        "This notebook is based on my [Nietzche-like text generator](https://github.com/karlafej/keras_pyconCZ/blob/master/04-Nietzsche_text_generation.ipynb) from PyconCZ2017 workshop. It was adapted from Michael Zhang's [Char-RNN](https://github.com/michaelrzhang/Char-RNN) and [lstm_text_generation.py](https://github.com/keras-team/keras/blob/master/examples/lstm_text_generation.py) example in keras github repo. Both were inspired from Andrej Karpathy's blog post [The Unreasonable Effectiveness of Recurrent Neural Networks](http://karpathy.github.io/2015/05/21/rnn-effectiveness/).\n",
        "\n",
        "It is based on an old version of Keras/TF and should be updated."
      ]
    }
  ]
}