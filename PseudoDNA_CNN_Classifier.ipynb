{
  "nbformat": 4,
  "nbformat_minor": 0,
  "metadata": {
    "colab": {
      "name": "PseudoDNA_CNN_Classifier.ipynb",
      "provenance": [],
      "collapsed_sections": []
    },
    "kernelspec": {
      "name": "python3",
      "display_name": "Python 3"
    },
    "accelerator": "GPU"
  },
  "cells": [
    {
      "cell_type": "markdown",
      "metadata": {
        "id": "w_e5GXnWH9tO",
        "colab_type": "text"
      },
      "source": [
        "# Character-Level CNN Pseudo DNA Classifier\n",
        "\n",
        "We train CNN model on a set of positive examples (DNA sequences) vs. their random permutations. The model should recognize this type of genomic sequences (e.g. intergenomic sequences)."
      ]
    },
    {
      "cell_type": "code",
      "metadata": {
        "id": "RX8-d2WTZ7rc",
        "colab_type": "code",
        "outputId": "3a2e10a5-7d93-4067-fd70-209a9510fd89",
        "colab": {
          "base_uri": "https://localhost:8080/",
          "height": 34
        }
      },
      "source": [
        "%tensorflow_version 1.x\n",
        "import pandas as pd\n",
        "import numpy as np\n",
        "from tqdm import tqdm\n",
        "import random\n",
        "\n",
        "from keras.models import Sequential\n",
        "from keras import layers\n",
        "from keras.optimizers import RMSprop\n"
      ],
      "execution_count": 1,
      "outputs": [
        {
          "output_type": "stream",
          "text": [
            "Using TensorFlow backend.\n"
          ],
          "name": "stderr"
        }
      ]
    },
    {
      "cell_type": "markdown",
      "metadata": {
        "id": "BLMS2qirKgCs",
        "colab_type": "text"
      },
      "source": [
        "## Step 1) Read DNA sequences\n",
        "\n",
        "These sequences were generated in a previous notebook from intergenic regions."
      ]
    },
    {
      "cell_type": "code",
      "metadata": {
        "id": "Tzfhr5p1aFWD",
        "colab_type": "code",
        "outputId": "3657a554-069e-4b02-bd5f-a9bc2810c1ca",
        "colab": {
          "base_uri": "https://localhost:8080/",
          "height": 50
        }
      },
      "source": [
        "df = pd.read_csv(\"random_seqs.csv\")\n",
        "print('corpus length:', sum(df.seq.str.len()))\n",
        "df.shape"
      ],
      "execution_count": 2,
      "outputs": [
        {
          "output_type": "stream",
          "text": [
            "corpus length: 10000000\n"
          ],
          "name": "stdout"
        },
        {
          "output_type": "execute_result",
          "data": {
            "text/plain": [
              "(50000, 4)"
            ]
          },
          "metadata": {
            "tags": []
          },
          "execution_count": 2
        }
      ]
    },
    {
      "cell_type": "markdown",
      "metadata": {
        "id": "iDGmLs5eK3NI",
        "colab_type": "text"
      },
      "source": [
        "## Step 2) Text preprocessing\n",
        "\n",
        "For simplicity, we remove every sequence containing `N` (unknown), drop the new index and shuffle rows."
      ]
    },
    {
      "cell_type": "code",
      "metadata": {
        "id": "fbvOJk0JauHR",
        "colab_type": "code",
        "colab": {
          "base_uri": "https://localhost:8080/",
          "height": 34
        },
        "outputId": "d9e4855f-17f7-403c-8a59-da00ee9d12cc"
      },
      "source": [
        "containsN = df.seq.str.contains(\"N\")\n",
        "print(sum(containsN))\n",
        "df = df[~containsN]"
      ],
      "execution_count": 3,
      "outputs": [
        {
          "output_type": "stream",
          "text": [
            "4867\n"
          ],
          "name": "stdout"
        }
      ]
    },
    {
      "cell_type": "code",
      "metadata": {
        "id": "D1kS7YWjUtl2",
        "colab_type": "code",
        "outputId": "54a2a5e7-b514-48fe-ea75-f1c488d8931f",
        "colab": {
          "base_uri": "https://localhost:8080/",
          "height": 34
        }
      },
      "source": [
        "df = df.reset_index().drop(columns=\"index\").sample(frac=1)\n",
        "\n",
        "assert all(~df.seq.str.contains(\"N\"))\n",
        "df.shape"
      ],
      "execution_count": 5,
      "outputs": [
        {
          "output_type": "execute_result",
          "data": {
            "text/plain": [
              "(45133, 4)"
            ]
          },
          "metadata": {
            "tags": []
          },
          "execution_count": 5
        }
      ]
    },
    {
      "cell_type": "markdown",
      "metadata": {
        "id": "yB9ZqvMrK9m_",
        "colab_type": "text"
      },
      "source": [
        "## Step 3) Permutation\n",
        "\n",
        "For each sequence, get a permuted version."
      ]
    },
    {
      "cell_type": "code",
      "metadata": {
        "id": "cbFJNWg3IeC6",
        "colab_type": "code",
        "colab": {}
      },
      "source": [
        "def random_str_shuffle(s):\n",
        "  return ''.join(random.sample(s,len(s)))"
      ],
      "execution_count": 0,
      "outputs": []
    },
    {
      "cell_type": "code",
      "metadata": {
        "id": "9_8Z9Z-CKLCW",
        "colab_type": "code",
        "colab": {}
      },
      "source": [
        "df['seq_permuted'] = df.seq.apply(random_str_shuffle)"
      ],
      "execution_count": 0,
      "outputs": []
    },
    {
      "cell_type": "markdown",
      "metadata": {
        "id": "qcxSCl-0NUHF",
        "colab_type": "text"
      },
      "source": [
        "## Step 4) Vectorization\n",
        "\n",
        "Encode the sequences into `numpy.array`."
      ]
    },
    {
      "cell_type": "code",
      "metadata": {
        "id": "gUJtjU-KNrTM",
        "colab_type": "code",
        "outputId": "f407294a-c9d6-425d-f667-53b50f0b688e",
        "colab": {
          "base_uri": "https://localhost:8080/",
          "height": 34
        }
      },
      "source": [
        "# dictionaries to convert characters to numbers and vice-versa\n",
        "chars = ['A', 'C', 'T', 'G']\n",
        "num_chars = 4\n",
        "char_to_indices = dict((c, i) for i, c in enumerate(chars))\n",
        "indices_to_char = dict((i, c) for i, c in enumerate(chars))\n",
        "\n",
        "seq_length = len(df.seq[0])\n",
        "n_seq = df.shape[0]\n",
        "seq_length, n_seq"
      ],
      "execution_count": 19,
      "outputs": [
        {
          "output_type": "execute_result",
          "data": {
            "text/plain": [
              "(200, 45133)"
            ]
          },
          "metadata": {
            "tags": []
          },
          "execution_count": 19
        }
      ]
    },
    {
      "cell_type": "code",
      "metadata": {
        "id": "aYavT4Lko2t-",
        "colab_type": "code",
        "colab": {
          "base_uri": "https://localhost:8080/",
          "height": 34
        },
        "outputId": "2846236e-ef78-46f7-d9b0-520c891895dc"
      },
      "source": [
        "X = np.zeros((2*n_seq, seq_length, num_chars), dtype=np.bool)\n",
        "y = np.zeros((2*n_seq), dtype=np.bool)\n",
        "\n",
        "for i in tqdm(range(n_seq)):\n",
        "    for j in range(seq_length):\n",
        "        X[i][j][char_to_indices[df.seq[i][j]]] = 1\n",
        "        y[i] = 1\n",
        "        X[i+n_seq][j][char_to_indices[df.seq_permuted[i][j]]] = 1\n",
        "        y[i+n_seq] = 0\n"
      ],
      "execution_count": 20,
      "outputs": [
        {
          "output_type": "stream",
          "text": [
            "100%|██████████| 45133/45133 [04:02<00:00, 185.95it/s]\n"
          ],
          "name": "stderr"
        }
      ]
    },
    {
      "cell_type": "code",
      "metadata": {
        "id": "UsdQ_8ejXEA5",
        "colab_type": "code",
        "outputId": "8eeb4832-e36c-4324-8484-851bb1ed7894",
        "colab": {
          "base_uri": "https://localhost:8080/",
          "height": 34
        }
      },
      "source": [
        "X.shape, y.shape"
      ],
      "execution_count": 21,
      "outputs": [
        {
          "output_type": "execute_result",
          "data": {
            "text/plain": [
              "((90266, 200, 4), (90266,))"
            ]
          },
          "metadata": {
            "tags": []
          },
          "execution_count": 21
        }
      ]
    },
    {
      "cell_type": "markdown",
      "metadata": {
        "id": "xVozm6t9qXc7",
        "colab_type": "text"
      },
      "source": [
        "## Step 5) Train-Test Split\n",
        "\n",
        "Two thirds of data will be used for training, one third for testing."
      ]
    },
    {
      "cell_type": "code",
      "metadata": {
        "id": "rEidelNUqf2_",
        "colab_type": "code",
        "colab": {
          "base_uri": "https://localhost:8080/",
          "height": 34
        },
        "outputId": "b2d82371-8d22-4b9b-9902-acfba253e61c"
      },
      "source": [
        "from sklearn.model_selection import train_test_split\n",
        "\n",
        "X_train, X_test, y_train, y_test = train_test_split(X, y, test_size=0.33, random_state=42)\n",
        "X_train.shape, X_test.shape, y_train.shape, y_test.shape"
      ],
      "execution_count": 22,
      "outputs": [
        {
          "output_type": "execute_result",
          "data": {
            "text/plain": [
              "((60478, 200, 4), (29788, 200, 4), (60478,), (29788,))"
            ]
          },
          "metadata": {
            "tags": []
          },
          "execution_count": 22
        }
      ]
    },
    {
      "cell_type": "markdown",
      "metadata": {
        "id": "O_fGbXpYP_3d",
        "colab_type": "text"
      },
      "source": [
        "## Step 6) Model definition\n",
        "\n",
        "We will use two layers of `Conv1D` followed by one Dense layer and max. pooling."
      ]
    },
    {
      "cell_type": "code",
      "metadata": {
        "id": "XOHedg-vboEs",
        "colab_type": "code",
        "colab": {}
      },
      "source": [
        "model = Sequential()\n",
        "model.add(layers.Conv1D(num_chars, 7, activation='relu'))\n",
        "#model.add(layers.Dropout(0.1))\n",
        "model.add(layers.MaxPooling1D(5))\n",
        "model.add(layers.Conv1D(num_chars, 7, activation='relu'))\n",
        "#model.add(layers.Dropout(0.1))\n",
        "model.add(layers.GlobalMaxPooling1D())\n",
        "model.add(layers.Dense(1))\n",
        "model.build()\n",
        "\n",
        "model.compile(optimizer=RMSprop(lr=5e-5),\n",
        "              loss='binary_crossentropy',\n",
        "              metrics=['acc'])\n"
      ],
      "execution_count": 0,
      "outputs": []
    },
    {
      "cell_type": "markdown",
      "metadata": {
        "id": "B9aqL0FsTr1t",
        "colab_type": "text"
      },
      "source": [
        "## Step 7) Model training\n",
        "\n",
        "Each time you run the code below, the model is trained for 10 epochs  (each sequence is visited 10 times). Seems that ~30 epochs are ideal."
      ]
    },
    {
      "cell_type": "code",
      "metadata": {
        "id": "-GWjeLVYeBz3",
        "colab_type": "code",
        "outputId": "193f7f7d-bebd-4564-e76c-f90e4dc8c3af",
        "colab": {
          "base_uri": "https://localhost:8080/",
          "height": 390
        }
      },
      "source": [
        "history = model.fit(X_train, y_train,\n",
        "                    epochs=10,\n",
        "                    batch_size=128,\n",
        "                    validation_split=0.2)"
      ],
      "execution_count": 38,
      "outputs": [
        {
          "output_type": "stream",
          "text": [
            "Train on 48382 samples, validate on 12096 samples\n",
            "Epoch 1/10\n",
            "48382/48382 [==============================] - 2s 38us/step - loss: 0.5173 - acc: 0.7612 - val_loss: 0.5121 - val_acc: 0.7674\n",
            "Epoch 2/10\n",
            "48382/48382 [==============================] - 2s 39us/step - loss: 0.5073 - acc: 0.7687 - val_loss: 0.5028 - val_acc: 0.7750\n",
            "Epoch 3/10\n",
            "48382/48382 [==============================] - 2s 39us/step - loss: 0.4988 - acc: 0.7757 - val_loss: 0.4941 - val_acc: 0.7805\n",
            "Epoch 4/10\n",
            "48382/48382 [==============================] - 2s 40us/step - loss: 0.4904 - acc: 0.7838 - val_loss: 0.4836 - val_acc: 0.7884\n",
            "Epoch 5/10\n",
            "48382/48382 [==============================] - 2s 39us/step - loss: 0.4793 - acc: 0.7916 - val_loss: 0.4724 - val_acc: 0.7945\n",
            "Epoch 6/10\n",
            "48382/48382 [==============================] - 2s 39us/step - loss: 0.4689 - acc: 0.7981 - val_loss: 0.4640 - val_acc: 0.7993\n",
            "Epoch 7/10\n",
            "48382/48382 [==============================] - 2s 40us/step - loss: 0.4608 - acc: 0.8029 - val_loss: 0.4553 - val_acc: 0.8062\n",
            "Epoch 8/10\n",
            "48382/48382 [==============================] - 2s 39us/step - loss: 0.4534 - acc: 0.8088 - val_loss: 0.4482 - val_acc: 0.8085\n",
            "Epoch 9/10\n",
            "48382/48382 [==============================] - 2s 40us/step - loss: 0.4494 - acc: 0.8105 - val_loss: 0.4442 - val_acc: 0.8118\n",
            "Epoch 10/10\n",
            "48382/48382 [==============================] - 2s 39us/step - loss: 0.4449 - acc: 0.8137 - val_loss: 0.4376 - val_acc: 0.8167\n"
          ],
          "name": "stdout"
        }
      ]
    },
    {
      "cell_type": "code",
      "metadata": {
        "id": "T-VxohyVjTAq",
        "colab_type": "code",
        "colab": {
          "base_uri": "https://localhost:8080/",
          "height": 319
        },
        "outputId": "23a485a8-f905-4f1f-fc5e-c53ebdb2fdb6"
      },
      "source": [
        "model.summary()"
      ],
      "execution_count": 39,
      "outputs": [
        {
          "output_type": "stream",
          "text": [
            "Model: \"sequential_5\"\n",
            "_________________________________________________________________\n",
            "Layer (type)                 Output Shape              Param #   \n",
            "=================================================================\n",
            "conv1d_9 (Conv1D)            (None, 194, 4)            116       \n",
            "_________________________________________________________________\n",
            "max_pooling1d_5 (MaxPooling1 (None, 38, 4)             0         \n",
            "_________________________________________________________________\n",
            "conv1d_10 (Conv1D)           (None, 32, 4)             116       \n",
            "_________________________________________________________________\n",
            "global_max_pooling1d_5 (Glob (None, 4)                 0         \n",
            "_________________________________________________________________\n",
            "dense_5 (Dense)              (None, 1)                 5         \n",
            "=================================================================\n",
            "Total params: 237\n",
            "Trainable params: 237\n",
            "Non-trainable params: 0\n",
            "_________________________________________________________________\n"
          ],
          "name": "stdout"
        }
      ]
    },
    {
      "cell_type": "markdown",
      "metadata": {
        "id": "XRPywzlTUyBj",
        "colab_type": "text"
      },
      "source": [
        "## Step 8) Performance on the test set\n",
        "\n",
        "Generate a pseudogenomic sequence from the model trained above."
      ]
    },
    {
      "cell_type": "code",
      "metadata": {
        "id": "UZnAKchWmigy",
        "colab_type": "code",
        "outputId": "eaaad2c5-e9bf-43fe-f85e-6af47bd27087",
        "colab": {
          "base_uri": "https://localhost:8080/",
          "height": 50
        }
      },
      "source": [
        "model.evaluate(X_test, y_test)"
      ],
      "execution_count": 40,
      "outputs": [
        {
          "output_type": "stream",
          "text": [
            "29788/29788 [==============================] - 2s 52us/step\n"
          ],
          "name": "stdout"
        },
        {
          "output_type": "execute_result",
          "data": {
            "text/plain": [
              "[0.4493050959240883, 0.8146233382650201]"
            ]
          },
          "metadata": {
            "tags": []
          },
          "execution_count": 40
        }
      ]
    },
    {
      "cell_type": "code",
      "metadata": {
        "id": "O80uguLakI3w",
        "colab_type": "code",
        "colab": {
          "base_uri": "https://localhost:8080/",
          "height": 134
        },
        "outputId": "5ff6f6e0-05b0-4c93-d714-033da2787bbf"
      },
      "source": [
        "y_pred = model.predict_classes(X_test)\n",
        "y_pred"
      ],
      "execution_count": 42,
      "outputs": [
        {
          "output_type": "execute_result",
          "data": {
            "text/plain": [
              "array([[1],\n",
              "       [0],\n",
              "       [0],\n",
              "       ...,\n",
              "       [0],\n",
              "       [0],\n",
              "       [1]], dtype=int32)"
            ]
          },
          "metadata": {
            "tags": []
          },
          "execution_count": 42
        }
      ]
    },
    {
      "cell_type": "code",
      "metadata": {
        "id": "2HlxvVH9xZVZ",
        "colab_type": "code",
        "colab": {
          "base_uri": "https://localhost:8080/",
          "height": 34
        },
        "outputId": "4204a161-a389-4995-a4a4-2cbb01f8ba71"
      },
      "source": [
        "(y_pred[:,0] == y_test).mean()"
      ],
      "execution_count": 45,
      "outputs": [
        {
          "output_type": "execute_result",
          "data": {
            "text/plain": [
              "0.815227608432926"
            ]
          },
          "metadata": {
            "tags": []
          },
          "execution_count": 45
        }
      ]
    },
    {
      "cell_type": "markdown",
      "metadata": {
        "id": "zq5jWTRmV0vK",
        "colab_type": "text"
      },
      "source": [
        "## Step 8) Saving the model\n",
        "\n",
        "Save the model for the later use."
      ]
    },
    {
      "cell_type": "code",
      "metadata": {
        "id": "hLMURFCF7ncu",
        "colab_type": "code",
        "colab": {}
      },
      "source": [
        "model_filename = 'dna_classifier.loss{0:.2f}.h5'.format(history.history['loss'][-1])\n",
        "model.save(model_filename)\n",
        "#files.download(model_filename)"
      ],
      "execution_count": 0,
      "outputs": []
    },
    {
      "cell_type": "markdown",
      "metadata": {
        "id": "jQUKJwW2WEgs",
        "colab_type": "text"
      },
      "source": [
        "## Notes\n",
        "\n",
        "This notebook was inspired by [Convolutional Neural Networks for Sequence Processing: Part 1](https://medium.com/@jon.froiland/convolutional-neural-networks-for-sequence-processing-part-1-420dd9b500). The hyperparameters have not yet been tunes. I have tried to add `Dropout` layers but they do not improve the metrics.\n",
        "\n",
        "It is based on an old version of Keras/TF and should be updated."
      ]
    }
  ]
}