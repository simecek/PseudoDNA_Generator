{
  "nbformat": 4,
  "nbformat_minor": 0,
  "metadata": {
    "colab": {
      "name": "PseudoDNA_CNN_Classifier.ipynb",
      "provenance": [],
      "collapsed_sections": []
    },
    "kernelspec": {
      "name": "python3",
      "display_name": "Python 3"
    },
    "accelerator": "GPU"
  },
  "cells": [
    {
      "cell_type": "markdown",
      "metadata": {
        "id": "w_e5GXnWH9tO",
        "colab_type": "text"
      },
      "source": [
        "# Character-Level CNN Pseudo DNA Classifier\n",
        "\n",
        "We train CNN model on a set of positive examples (DNA sequences) vs. their random permutations. The model should recognize this type of genomic sequences (e.g. intergenomic sequences)."
      ]
    },
    {
      "cell_type": "code",
      "metadata": {
        "id": "RX8-d2WTZ7rc",
        "colab_type": "code",
        "outputId": "57e1b8d5-1498-46f6-9c97-4a26045a7729",
        "colab": {
          "base_uri": "https://localhost:8080/",
          "height": 34
        }
      },
      "source": [
        "%tensorflow_version 1.x\n",
        "import pandas as pd\n",
        "import numpy as np\n",
        "from tqdm import tqdm\n",
        "import random\n",
        "\n",
        "from keras.models import Sequential\n",
        "from keras import layers\n",
        "from keras.optimizers import RMSprop\n"
      ],
      "execution_count": 1,
      "outputs": [
        {
          "output_type": "stream",
          "text": [
            "Using TensorFlow backend.\n"
          ],
          "name": "stderr"
        }
      ]
    },
    {
      "cell_type": "markdown",
      "metadata": {
        "id": "BLMS2qirKgCs",
        "colab_type": "text"
      },
      "source": [
        "## Step 1) Read DNA sequences\n",
        "\n",
        "These sequences were generated in a previous notebook from intergenic regions."
      ]
    },
    {
      "cell_type": "code",
      "metadata": {
        "id": "Tzfhr5p1aFWD",
        "colab_type": "code",
        "outputId": "e22c1f18-3ebd-4326-fdcc-0709b1631d5d",
        "colab": {
          "base_uri": "https://localhost:8080/",
          "height": 50
        }
      },
      "source": [
        "df = pd.read_csv(\"random_seqs.csv\")\n",
        "print('corpus length:', sum(df.seq.str.len()))\n",
        "df.shape"
      ],
      "execution_count": 5,
      "outputs": [
        {
          "output_type": "stream",
          "text": [
            "corpus length: 10000000\n"
          ],
          "name": "stdout"
        },
        {
          "output_type": "execute_result",
          "data": {
            "text/plain": [
              "(50000, 4)"
            ]
          },
          "metadata": {
            "tags": []
          },
          "execution_count": 5
        }
      ]
    },
    {
      "cell_type": "markdown",
      "metadata": {
        "id": "iDGmLs5eK3NI",
        "colab_type": "text"
      },
      "source": [
        "## Step 2) Text preprocessing\n",
        "\n",
        "For simplicity, we remove every sequence containing `N` (unknown), drop the new index and shuffle rows."
      ]
    },
    {
      "cell_type": "code",
      "metadata": {
        "id": "fbvOJk0JauHR",
        "colab_type": "code",
        "outputId": "f036fbb5-5d24-4163-9108-72d405659252",
        "colab": {
          "base_uri": "https://localhost:8080/",
          "height": 34
        }
      },
      "source": [
        "containsN = df.seq.str.contains(\"N\")\n",
        "print(sum(containsN))\n",
        "df = df[~containsN]"
      ],
      "execution_count": 6,
      "outputs": [
        {
          "output_type": "stream",
          "text": [
            "4867\n"
          ],
          "name": "stdout"
        }
      ]
    },
    {
      "cell_type": "code",
      "metadata": {
        "id": "D1kS7YWjUtl2",
        "colab_type": "code",
        "outputId": "1aae9d65-770e-4fba-92b1-2b3c30494c72",
        "colab": {
          "base_uri": "https://localhost:8080/",
          "height": 34
        }
      },
      "source": [
        "df = df.reset_index().drop(columns=\"index\").sample(frac=1)\n",
        "\n",
        "assert all(~df.seq.str.contains(\"N\"))\n",
        "df.shape"
      ],
      "execution_count": 7,
      "outputs": [
        {
          "output_type": "execute_result",
          "data": {
            "text/plain": [
              "(45133, 4)"
            ]
          },
          "metadata": {
            "tags": []
          },
          "execution_count": 7
        }
      ]
    },
    {
      "cell_type": "markdown",
      "metadata": {
        "id": "yB9ZqvMrK9m_",
        "colab_type": "text"
      },
      "source": [
        "## Step 3) Permutation\n",
        "\n",
        "For each sequence, get a permuted version."
      ]
    },
    {
      "cell_type": "code",
      "metadata": {
        "id": "cbFJNWg3IeC6",
        "colab_type": "code",
        "colab": {}
      },
      "source": [
        "def random_str_shuffle(s):\n",
        "  return ''.join(random.sample(s,len(s)))"
      ],
      "execution_count": 0,
      "outputs": []
    },
    {
      "cell_type": "code",
      "metadata": {
        "id": "9_8Z9Z-CKLCW",
        "colab_type": "code",
        "colab": {}
      },
      "source": [
        "df['seq_permuted'] = df.seq.apply(random_str_shuffle)"
      ],
      "execution_count": 0,
      "outputs": []
    },
    {
      "cell_type": "markdown",
      "metadata": {
        "id": "qcxSCl-0NUHF",
        "colab_type": "text"
      },
      "source": [
        "## Step 4) Vectorization\n",
        "\n",
        "Encode the sequences into `numpy.array`."
      ]
    },
    {
      "cell_type": "code",
      "metadata": {
        "id": "gUJtjU-KNrTM",
        "colab_type": "code",
        "outputId": "c0572686-a2fc-4023-fc14-361f5917a370",
        "colab": {
          "base_uri": "https://localhost:8080/",
          "height": 34
        }
      },
      "source": [
        "# dictionaries to convert characters to numbers and vice-versa\n",
        "chars = ['A', 'C', 'T', 'G']\n",
        "num_chars = 4\n",
        "char_to_indices = dict((c, i) for i, c in enumerate(chars))\n",
        "indices_to_char = dict((i, c) for i, c in enumerate(chars))\n",
        "\n",
        "seq_length = len(df.seq[0])\n",
        "n_seq = df.shape[0]\n",
        "seq_length, n_seq"
      ],
      "execution_count": 10,
      "outputs": [
        {
          "output_type": "execute_result",
          "data": {
            "text/plain": [
              "(200, 45133)"
            ]
          },
          "metadata": {
            "tags": []
          },
          "execution_count": 10
        }
      ]
    },
    {
      "cell_type": "code",
      "metadata": {
        "id": "aYavT4Lko2t-",
        "colab_type": "code",
        "outputId": "4111fd03-1812-421f-d12f-d4be0f659518",
        "colab": {
          "base_uri": "https://localhost:8080/",
          "height": 34
        }
      },
      "source": [
        "X = np.zeros((2*n_seq, seq_length, num_chars), dtype=np.bool)\n",
        "y = np.zeros((2*n_seq), dtype=np.bool)\n",
        "\n",
        "for i in tqdm(range(n_seq)):\n",
        "    for j in range(seq_length):\n",
        "        X[i][j][char_to_indices[df.seq[i][j]]] = 1\n",
        "        y[i] = 1\n",
        "        X[i+n_seq][j][char_to_indices[df.seq_permuted[i][j]]] = 1\n",
        "        y[i+n_seq] = 0\n"
      ],
      "execution_count": 11,
      "outputs": [
        {
          "output_type": "stream",
          "text": [
            "100%|██████████| 45133/45133 [04:03<00:00, 191.71it/s]\n"
          ],
          "name": "stderr"
        }
      ]
    },
    {
      "cell_type": "code",
      "metadata": {
        "id": "UsdQ_8ejXEA5",
        "colab_type": "code",
        "outputId": "8555b76b-3db7-40ba-a174-d7b9acd6e5a6",
        "colab": {
          "base_uri": "https://localhost:8080/",
          "height": 34
        }
      },
      "source": [
        "X.shape, y.shape"
      ],
      "execution_count": 12,
      "outputs": [
        {
          "output_type": "execute_result",
          "data": {
            "text/plain": [
              "((90266, 200, 4), (90266,))"
            ]
          },
          "metadata": {
            "tags": []
          },
          "execution_count": 12
        }
      ]
    },
    {
      "cell_type": "markdown",
      "metadata": {
        "id": "xVozm6t9qXc7",
        "colab_type": "text"
      },
      "source": [
        "## Step 5) Train-Test Split\n",
        "\n",
        "Two thirds of data will be used for training, one third for testing."
      ]
    },
    {
      "cell_type": "code",
      "metadata": {
        "id": "rEidelNUqf2_",
        "colab_type": "code",
        "outputId": "cb55d84a-55d5-43c6-8a5c-85797f1a2598",
        "colab": {
          "base_uri": "https://localhost:8080/",
          "height": 34
        }
      },
      "source": [
        "from sklearn.model_selection import train_test_split\n",
        "\n",
        "X_train, X_test, y_train, y_test = train_test_split(X, y, test_size=0.33, random_state=42)\n",
        "X_train.shape, X_test.shape, y_train.shape, y_test.shape"
      ],
      "execution_count": 13,
      "outputs": [
        {
          "output_type": "execute_result",
          "data": {
            "text/plain": [
              "((60478, 200, 4), (29788, 200, 4), (60478,), (29788,))"
            ]
          },
          "metadata": {
            "tags": []
          },
          "execution_count": 13
        }
      ]
    },
    {
      "cell_type": "markdown",
      "metadata": {
        "id": "O_fGbXpYP_3d",
        "colab_type": "text"
      },
      "source": [
        "## Step 6) Model definition\n",
        "\n",
        "We will use two layers of `Conv1D` followed by one Dense layer and max. pooling."
      ]
    },
    {
      "cell_type": "code",
      "metadata": {
        "id": "XOHedg-vboEs",
        "colab_type": "code",
        "colab": {
          "base_uri": "https://localhost:8080/",
          "height": 104
        },
        "outputId": "0541b82f-0f60-401b-f1e8-2f06ec097163"
      },
      "source": [
        "model = Sequential()\n",
        "model.add(layers.Conv1D(num_chars, 7, activation='relu'))\n",
        "#model.add(layers.Dropout(0.1))\n",
        "model.add(layers.MaxPooling1D(5))\n",
        "model.add(layers.Conv1D(num_chars, 7, activation='relu'))\n",
        "#model.add(layers.Dropout(0.1))\n",
        "model.add(layers.GlobalMaxPooling1D())\n",
        "model.add(layers.Dense(1))\n",
        "model.build()\n",
        "\n",
        "model.compile(optimizer=RMSprop(lr=5e-5),\n",
        "              loss='binary_crossentropy',\n",
        "              metrics=['acc'])\n"
      ],
      "execution_count": 14,
      "outputs": [
        {
          "output_type": "stream",
          "text": [
            "WARNING:tensorflow:From /usr/local/lib/python3.6/dist-packages/keras/backend/tensorflow_backend.py:66: The name tf.get_default_graph is deprecated. Please use tf.compat.v1.get_default_graph instead.\n",
            "\n",
            "WARNING:tensorflow:From /usr/local/lib/python3.6/dist-packages/keras/optimizers.py:793: The name tf.train.Optimizer is deprecated. Please use tf.compat.v1.train.Optimizer instead.\n",
            "\n"
          ],
          "name": "stdout"
        }
      ]
    },
    {
      "cell_type": "markdown",
      "metadata": {
        "id": "B9aqL0FsTr1t",
        "colab_type": "text"
      },
      "source": [
        "## Step 7) Model training\n",
        "\n",
        "Each time you run the code below, the model is trained for 10 epochs  (each sequence is visited 10 times). Seems that ~30 epochs are ideal."
      ]
    },
    {
      "cell_type": "code",
      "metadata": {
        "id": "-GWjeLVYeBz3",
        "colab_type": "code",
        "outputId": "9f011746-2d67-47e3-a083-ddd05f800e25",
        "colab": {
          "base_uri": "https://localhost:8080/",
          "height": 390
        }
      },
      "source": [
        "history = model.fit(X_train, y_train,\n",
        "                    epochs=10,\n",
        "                    batch_size=128,\n",
        "                    validation_split=0.2)"
      ],
      "execution_count": 19,
      "outputs": [
        {
          "output_type": "stream",
          "text": [
            "Train on 48382 samples, validate on 12096 samples\n",
            "Epoch 1/10\n",
            "48382/48382 [==============================] - 2s 43us/step - loss: 0.5392 - acc: 0.7457 - val_loss: 0.5266 - val_acc: 0.7500\n",
            "Epoch 2/10\n",
            "48382/48382 [==============================] - 2s 41us/step - loss: 0.5228 - acc: 0.7587 - val_loss: 0.5112 - val_acc: 0.7641\n",
            "Epoch 3/10\n",
            "48382/48382 [==============================] - 2s 42us/step - loss: 0.5074 - acc: 0.7689 - val_loss: 0.4953 - val_acc: 0.7751\n",
            "Epoch 4/10\n",
            "48382/48382 [==============================] - 2s 41us/step - loss: 0.4941 - acc: 0.7793 - val_loss: 0.4837 - val_acc: 0.7828\n",
            "Epoch 5/10\n",
            "48382/48382 [==============================] - 2s 43us/step - loss: 0.4824 - acc: 0.7872 - val_loss: 0.4697 - val_acc: 0.7898\n",
            "Epoch 6/10\n",
            "48382/48382 [==============================] - 2s 42us/step - loss: 0.4712 - acc: 0.7950 - val_loss: 0.4601 - val_acc: 0.7991\n",
            "Epoch 7/10\n",
            "48382/48382 [==============================] - 2s 40us/step - loss: 0.4612 - acc: 0.8017 - val_loss: 0.4495 - val_acc: 0.8057\n",
            "Epoch 8/10\n",
            "48382/48382 [==============================] - 2s 40us/step - loss: 0.4520 - acc: 0.8078 - val_loss: 0.4402 - val_acc: 0.8125\n",
            "Epoch 9/10\n",
            "48382/48382 [==============================] - 2s 44us/step - loss: 0.4448 - acc: 0.8134 - val_loss: 0.4329 - val_acc: 0.8185\n",
            "Epoch 10/10\n",
            "48382/48382 [==============================] - 2s 41us/step - loss: 0.4362 - acc: 0.8194 - val_loss: 0.4255 - val_acc: 0.8249\n"
          ],
          "name": "stdout"
        }
      ]
    },
    {
      "cell_type": "code",
      "metadata": {
        "id": "T-VxohyVjTAq",
        "colab_type": "code",
        "outputId": "657d57d4-9e2a-4dea-d0ce-222fa3428ce7",
        "colab": {
          "base_uri": "https://localhost:8080/",
          "height": 319
        }
      },
      "source": [
        "model.summary()"
      ],
      "execution_count": 20,
      "outputs": [
        {
          "output_type": "stream",
          "text": [
            "Model: \"sequential_1\"\n",
            "_________________________________________________________________\n",
            "Layer (type)                 Output Shape              Param #   \n",
            "=================================================================\n",
            "conv1d_1 (Conv1D)            (None, 194, 4)            116       \n",
            "_________________________________________________________________\n",
            "max_pooling1d_1 (MaxPooling1 (None, 38, 4)             0         \n",
            "_________________________________________________________________\n",
            "conv1d_2 (Conv1D)            (None, 32, 4)             116       \n",
            "_________________________________________________________________\n",
            "global_max_pooling1d_1 (Glob (None, 4)                 0         \n",
            "_________________________________________________________________\n",
            "dense_1 (Dense)              (None, 1)                 5         \n",
            "=================================================================\n",
            "Total params: 237\n",
            "Trainable params: 237\n",
            "Non-trainable params: 0\n",
            "_________________________________________________________________\n"
          ],
          "name": "stdout"
        }
      ]
    },
    {
      "cell_type": "markdown",
      "metadata": {
        "id": "XRPywzlTUyBj",
        "colab_type": "text"
      },
      "source": [
        "## Step 8) Performance on the test set\n",
        "\n",
        "Generate a pseudogenomic sequence from the model trained above."
      ]
    },
    {
      "cell_type": "code",
      "metadata": {
        "id": "UZnAKchWmigy",
        "colab_type": "code",
        "outputId": "5b5ef1dc-f5d3-4739-eeeb-00723528d668",
        "colab": {
          "base_uri": "https://localhost:8080/",
          "height": 50
        }
      },
      "source": [
        "model.evaluate(X_test, y_test)"
      ],
      "execution_count": 21,
      "outputs": [
        {
          "output_type": "stream",
          "text": [
            "29788/29788 [==============================] - 1s 49us/step\n"
          ],
          "name": "stdout"
        },
        {
          "output_type": "execute_result",
          "data": {
            "text/plain": [
              "[0.4253279036710098, 0.8215053041253103]"
            ]
          },
          "metadata": {
            "tags": []
          },
          "execution_count": 21
        }
      ]
    },
    {
      "cell_type": "code",
      "metadata": {
        "id": "O80uguLakI3w",
        "colab_type": "code",
        "outputId": "8dbde0a8-c144-4c6c-9646-237861e11f3a",
        "colab": {
          "base_uri": "https://localhost:8080/",
          "height": 34
        }
      },
      "source": [
        "y_pred = model.predict_classes(X_test)\n",
        "(y_pred[:,0] == y_test).mean()"
      ],
      "execution_count": 22,
      "outputs": [
        {
          "output_type": "execute_result",
          "data": {
            "text/plain": [
              "0.8226802739358131"
            ]
          },
          "metadata": {
            "tags": []
          },
          "execution_count": 22
        }
      ]
    },
    {
      "cell_type": "code",
      "metadata": {
        "id": "AhZljrmD1WvN",
        "colab_type": "code",
        "colab": {
          "base_uri": "https://localhost:8080/",
          "height": 50
        },
        "outputId": "5c091823-24e1-4f8a-861c-ddd09b179511"
      },
      "source": [
        "# accuracy on real sequences\n",
        "real_only = y_test == 1\n",
        "model.evaluate(X_test[real_only,:], y_test[real_only])"
      ],
      "execution_count": 25,
      "outputs": [
        {
          "output_type": "stream",
          "text": [
            "14910/14910 [==============================] - 1s 50us/step\n"
          ],
          "name": "stdout"
        },
        {
          "output_type": "execute_result",
          "data": {
            "text/plain": [
              "[0.4246123458338136, 0.8291750503178014]"
            ]
          },
          "metadata": {
            "tags": []
          },
          "execution_count": 25
        }
      ]
    },
    {
      "cell_type": "code",
      "metadata": {
        "id": "u1eNbB3129iY",
        "colab_type": "code",
        "colab": {
          "base_uri": "https://localhost:8080/",
          "height": 50
        },
        "outputId": "f20c2a34-4f54-4eb9-c97a-00f15db4e2a5"
      },
      "source": [
        "# accuracy on unreal sequences\n",
        "model.evaluate(X_test[~real_only,:], y_test[~real_only])"
      ],
      "execution_count": 26,
      "outputs": [
        {
          "output_type": "stream",
          "text": [
            "14878/14878 [==============================] - 1s 47us/step\n"
          ],
          "name": "stdout"
        },
        {
          "output_type": "execute_result",
          "data": {
            "text/plain": [
              "[0.42604500114204646, 0.8138190616537669]"
            ]
          },
          "metadata": {
            "tags": []
          },
          "execution_count": 26
        }
      ]
    },
    {
      "cell_type": "markdown",
      "metadata": {
        "id": "zq5jWTRmV0vK",
        "colab_type": "text"
      },
      "source": [
        "## Step 8) Saving the model\n",
        "\n",
        "Save the model for the later use."
      ]
    },
    {
      "cell_type": "code",
      "metadata": {
        "id": "hLMURFCF7ncu",
        "colab_type": "code",
        "colab": {}
      },
      "source": [
        "model_filename = 'dna_classifier.loss{0:.2f}.h5'.format(history.history['loss'][-1])\n",
        "model.save(model_filename)\n",
        "#files.download(model_filename)"
      ],
      "execution_count": 0,
      "outputs": []
    },
    {
      "cell_type": "markdown",
      "metadata": {
        "id": "jQUKJwW2WEgs",
        "colab_type": "text"
      },
      "source": [
        "## Notes\n",
        "\n",
        "This notebook was inspired by [Convolutional Neural Networks for Sequence Processing: Part 1](https://medium.com/@jon.froiland/convolutional-neural-networks-for-sequence-processing-part-1-420dd9b500). The hyperparameters have not yet been tunes. I have tried to add `Dropout` layers but they do not improve the metrics.\n",
        "\n",
        "It is based on an old version of Keras/TF and should be updated."
      ]
    }
  ]
}