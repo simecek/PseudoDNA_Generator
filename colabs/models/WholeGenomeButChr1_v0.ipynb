{
  "nbformat": 4,
  "nbformat_minor": 0,
  "metadata": {
    "colab": {
      "name": "WholeGenomeButChr1_v0.ipynb",
      "provenance": [],
      "collapsed_sections": [],
      "include_colab_link": true
    },
    "kernelspec": {
      "name": "python3",
      "display_name": "Python 3"
    },
    "accelerator": "GPU"
  },
  "cells": [
    {
      "cell_type": "markdown",
      "metadata": {
        "id": "view-in-github",
        "colab_type": "text"
      },
      "source": [
        "<a href=\"https://colab.research.google.com/github/simecek/PseudoDNA_Generator/blob/master/colabs/models/WholeGenomeButChr1_v0.ipynb\" target=\"_parent\"><img src=\"https://colab.research.google.com/assets/colab-badge.svg\" alt=\"Open In Colab\"/></a>"
      ]
    },
    {
      "cell_type": "markdown",
      "metadata": {
        "id": "y8NYCcZxvM2P",
        "colab_type": "text"
      },
      "source": [
        "## Setup"
      ]
    },
    {
      "cell_type": "code",
      "metadata": {
        "id": "NeFnR_pcvEED",
        "colab_type": "code",
        "colab": {}
      },
      "source": [
        "!pip install fastai2>=0.0.11 ipywidgets matplotlib nbdev>=0.2.12 pandas scikit_learn sentencepiece biopython"
      ],
      "execution_count": 1,
      "outputs": []
    },
    {
      "cell_type": "code",
      "metadata": {
        "id": "K_5IVYhgbuc-",
        "colab_type": "code",
        "colab": {
          "base_uri": "https://localhost:8080/",
          "height": 34
        },
        "outputId": "f65689da-8dd3-4fa7-be41-dfe321594b96"
      },
      "source": [
        "# Mount to your Google Drive allowing lesson files will be saved to your Drive location\n",
        "from google.colab import drive\n",
        "drive.mount('/content/drive')"
      ],
      "execution_count": 2,
      "outputs": [
        {
          "output_type": "stream",
          "text": [
            "Drive already mounted at /content/drive; to attempt to forcibly remount, call drive.mount(\"/content/drive\", force_remount=True).\n"
          ],
          "name": "stdout"
        }
      ]
    },
    {
      "cell_type": "code",
      "metadata": {
        "id": "3uk2xXFncEb8",
        "colab_type": "code",
        "colab": {
          "base_uri": "https://localhost:8080/",
          "height": 34
        },
        "outputId": "2fdb1524-befd-4322-d2f4-9243f88dabb7"
      },
      "source": [
        "%cd 'drive/My Drive/course-v4/nbs'\n",
        "DNA_TOPLEVEL_FASTA_PATH = \"/content/drive/My Drive/data/ensembl/Homo_sapiens.GRCh38.dna.toplevel.fa.gz\"\n",
        "DNA_TEXT_PATH = \"/content/drive/My Drive/data/Homo_sapiens.GRCh38.dna.chrtext/\""
      ],
      "execution_count": 3,
      "outputs": [
        {
          "output_type": "stream",
          "text": [
            "/content/drive/My Drive/course-v4/nbs\n"
          ],
          "name": "stdout"
        }
      ]
    },
    {
      "cell_type": "code",
      "metadata": {
        "id": "F1BP7wB4dsUn",
        "colab_type": "code",
        "colab": {
          "base_uri": "https://localhost:8080/",
          "height": 34
        },
        "outputId": "d6cf429b-e46a-4806-cfb2-af14dd0d363f"
      },
      "source": [
        "torch.cuda.is_available(), torch.cuda.device_count(), torch.cuda.get_device_name(0)"
      ],
      "execution_count": 27,
      "outputs": [
        {
          "output_type": "execute_result",
          "data": {
            "text/plain": [
              "(True, 1, 'Tesla P100-PCIE-16GB')"
            ]
          },
          "metadata": {
            "tags": []
          },
          "execution_count": 27
        }
      ]
    },
    {
      "cell_type": "code",
      "metadata": {
        "id": "ExfZF-bTvSkj",
        "colab_type": "code",
        "colab": {}
      },
      "source": [
        "from fastai2.text.all import *\n",
        "from Bio import SeqIO\n",
        "import pandas as pd\n",
        "import gzip\n",
        "from tqdm.notebook import tqdm\n",
        "from genomic_tokenizer import tkn2\n",
        "import os\n",
        "import shutil\n",
        "import math\n",
        "import random"
      ],
      "execution_count": 4,
      "outputs": []
    },
    {
      "cell_type": "code",
      "metadata": {
        "id": "5llVi05mkYin",
        "colab_type": "code",
        "colab": {
          "base_uri": "https://localhost:8080/",
          "height": 51
        },
        "outputId": "40107e52-20cf-41c9-c3fd-2ce9f97594ad"
      },
      "source": [
        "!ls \"/content/drive/My Drive/data/Homo_sapiens.GRCh38.dna.chrtext/\""
      ],
      "execution_count": 5,
      "outputs": [
        {
          "output_type": "stream",
          "text": [
            "1   11\t13  15\t17  19\t20  22\t4  6  8  MT  Y\n",
            "10  12\t14  16\t18  2\t21  3\t5  7  9  X\n"
          ],
          "name": "stdout"
        }
      ]
    },
    {
      "cell_type": "code",
      "metadata": {
        "id": "V-WYDE4wvZEA",
        "colab_type": "code",
        "colab": {}
      },
      "source": [
        "!rm -rf /content/data\n",
        "!mkdir /content/data\n",
        "!mkdir /content/data/train\n",
        "!mkdir /content/data/valid"
      ],
      "execution_count": 16,
      "outputs": []
    },
    {
      "cell_type": "code",
      "metadata": {
        "id": "BwhLe0S-Yf9S",
        "colab_type": "code",
        "colab": {}
      },
      "source": [
        "def get_chrom_sample(chrom, dest_dir, downscale_factor=20):\n",
        "  chunks = os.listdir(DNA_TEXT_PATH + chrom)\n",
        "  N_chunks = len(chunks)\n",
        "  N_selected = math.ceil(N_chunks / downscale_factor)\n",
        "  chunks_selected = random.sample(chunks, N_selected)\n",
        "  os.mkdir(dest_dir + chrom + \"/\")\n",
        "  for chunk in chunks_selected:\n",
        "    shutil.copyfile(DNA_TEXT_PATH + chrom + \"/\" + chunk, dest_dir + chrom + \"/\" + chunk)\n",
        "  print(chrom, N_selected) "
      ],
      "execution_count": 7,
      "outputs": []
    },
    {
      "cell_type": "code",
      "metadata": {
        "id": "9-qB59cPxI96",
        "colab_type": "code",
        "colab": {
          "base_uri": "https://localhost:8080/",
          "height": 34
        },
        "outputId": "68059489-1fc5-4ac5-cdb8-337961aa98ed"
      },
      "source": [
        "random.seed(42)\n",
        "\n",
        "get_chrom_sample('1', '/content/data/valid/', downscale_factor=5)"
      ],
      "execution_count": 17,
      "outputs": [
        {
          "output_type": "stream",
          "text": [
            "1 498\n"
          ],
          "name": "stdout"
        }
      ]
    },
    {
      "cell_type": "code",
      "metadata": {
        "id": "WsGn-JAOz-zk",
        "colab_type": "code",
        "colab": {
          "base_uri": "https://localhost:8080/",
          "height": 425
        },
        "outputId": "e4564094-674d-4d1d-f033-71cdd03abd7c"
      },
      "source": [
        "TRAIN_CHRS = [str(i) for i in range(2,23)] + ['X', 'Y', 'MT']\n",
        "for chrom in TRAIN_CHRS:\n",
        "  get_chrom_sample(chrom, '/content/data/train/', 25)"
      ],
      "execution_count": 18,
      "outputs": [
        {
          "output_type": "stream",
          "text": [
            "2 97\n",
            "3 80\n",
            "4 77\n",
            "5 73\n",
            "6 69\n",
            "7 64\n",
            "8 59\n",
            "9 56\n",
            "10 54\n",
            "11 55\n",
            "12 54\n",
            "13 40\n",
            "14 37\n",
            "15 34\n",
            "16 37\n",
            "17 34\n",
            "18 33\n",
            "19 24\n",
            "20 26\n",
            "21 17\n",
            "22 17\n",
            "X 63\n",
            "Y 22\n",
            "MT 1\n"
          ],
          "name": "stdout"
        }
      ]
    },
    {
      "cell_type": "code",
      "metadata": {
        "id": "dinqfRwPyPiU",
        "colab_type": "code",
        "colab": {
          "base_uri": "https://localhost:8080/",
          "height": 85
        },
        "outputId": "b628bb59-66ab-4046-e991-123220ebd48d"
      },
      "source": [
        "!ls /content/data/train/Y/"
      ],
      "execution_count": 23,
      "outputs": [
        {
          "output_type": "stream",
          "text": [
            "Y_122.txt  Y_209.txt  Y_261.txt  Y_335.txt  Y_46.txt   Y_56.txt\n",
            "Y_132.txt  Y_216.txt  Y_296.txt  Y_389.txt  Y_498.txt  Y_7.txt\n",
            "Y_140.txt  Y_225.txt  Y_308.txt  Y_404.txt  Y_509.txt\n",
            "Y_179.txt  Y_235.txt  Y_315.txt  Y_440.txt  Y_539.txt\n"
          ],
          "name": "stdout"
        }
      ]
    },
    {
      "cell_type": "markdown",
      "metadata": {
        "id": "bMNqgj9n1TEw",
        "colab_type": "text"
      },
      "source": [
        "## Data Loaders"
      ]
    },
    {
      "cell_type": "code",
      "metadata": {
        "id": "zFgyggiNxlz_",
        "colab_type": "code",
        "colab": {}
      },
      "source": [
        "dls_lm = TextDataLoaders.from_folder(Path(\"/content/data\"), bs=2048, seed=42, \n",
        "                                   is_lm=True, \n",
        "                                   tok_tfm=tkn2, seq_len=50)"
      ],
      "execution_count": 28,
      "outputs": []
    },
    {
      "cell_type": "code",
      "metadata": {
        "id": "TmftEQ6bx42-",
        "colab_type": "code",
        "colab": {
          "base_uri": "https://localhost:8080/",
          "height": 328
        },
        "outputId": "3ea7ab5e-08c3-4030-d923-e5f5d598206f"
      },
      "source": [
        "dls_lm.show_batch()"
      ],
      "execution_count": 24,
      "outputs": [
        {
          "output_type": "display_data",
          "data": {
            "text/html": [
              "<table border=\"1\" class=\"dataframe\">\n",
              "  <thead>\n",
              "    <tr style=\"text-align: right;\">\n",
              "      <th></th>\n",
              "      <th>text</th>\n",
              "      <th>text_</th>\n",
              "    </tr>\n",
              "  </thead>\n",
              "  <tbody>\n",
              "    <tr>\n",
              "      <th>0</th>\n",
              "      <td>xxbos T A T C C A A A G C A A T C T A C A G A T T C A A T G T A A C C C C T A T C A A A A T A C T A A T</td>\n",
              "      <td>T A T C C A A A G C A A T C T A C A G A T T C A A T G T A A C C C C T A T C A A A A T A C T A A T G</td>\n",
              "    </tr>\n",
              "    <tr>\n",
              "      <th>1</th>\n",
              "      <td>T T C T A T T C T T T A C T T T T A T A C T C A C T C T T A T T C T C A T T C T C A C G C C A C C C</td>\n",
              "      <td>T C T A T T C T T T A C T T T T A T A C T C A C T C T T A T T C T C A T T C T C A C G C C A C C C T</td>\n",
              "    </tr>\n",
              "    <tr>\n",
              "      <th>2</th>\n",
              "      <td>T G T A A T C C C A G C A C T T T G C A A A G G A G G C T G A G G T G G G C G G A T C A C C T G A G</td>\n",
              "      <td>G T A A T C C C A G C A C T T T G C A A A G G A G G C T G A G G T G G G C G G A T C A C C T G A G G</td>\n",
              "    </tr>\n",
              "    <tr>\n",
              "      <th>3</th>\n",
              "      <td>A C T T T G A C A T C C A T G T G A T T T A A T G C T A A G A T C T G T C C A T A A T A G A G T G A</td>\n",
              "      <td>C T T T G A C A T C C A T G T G A T T T A A T G C T A A G A T C T G T C C A T A A T A G A G T G A T</td>\n",
              "    </tr>\n",
              "    <tr>\n",
              "      <th>4</th>\n",
              "      <td>T C T G A A T T A C A C A T A C A G T T T G T G G C A T C T C T T T T T T G A A G C C T T A G A T T</td>\n",
              "      <td>C T G A A T T A C A C A T A C A G T T T G T G G C A T C T C T T T T T T G A A G C C T T A G A T T T</td>\n",
              "    </tr>\n",
              "    <tr>\n",
              "      <th>5</th>\n",
              "      <td>T A A G T G A A A G A A G C C A G A C A C A G A A G C C C A C A T A T T G T A T G A T T T C A T T T</td>\n",
              "      <td>A A G T G A A A G A A G C C A G A C A C A G A A G C C C A C A T A T T G T A T G A T T T C A T T T A</td>\n",
              "    </tr>\n",
              "    <tr>\n",
              "      <th>6</th>\n",
              "      <td>T A A A A A T A G G A T T T T G A G T T C T A G G C C T C C A C A G A A T C C A T T T G A A T A T G</td>\n",
              "      <td>A A A A A T A G G A T T T T G A G T T C T A G G C C T C C A C A G A A T C C A T T T G A A T A T G T</td>\n",
              "    </tr>\n",
              "    <tr>\n",
              "      <th>7</th>\n",
              "      <td>A A A C T C C C A G G C T C A A A T G A T C C T C T A G C C T C A C C C T T C T G A G T A G C T G G</td>\n",
              "      <td>A A C T C C C A G G C T C A A A T G A T C C T C T A G C C T C A C C C T T C T G A G T A G C T G G G</td>\n",
              "    </tr>\n",
              "    <tr>\n",
              "      <th>8</th>\n",
              "      <td>G T G A T G T T T G C A T T C A A C T C A C A G A G T T G A A C C T T G C T T T C A T A G T T C A G</td>\n",
              "      <td>T G A T G T T T G C A T T C A A C T C A C A G A G T T G A A C C T T G C T T T C A T A G T T C A G C</td>\n",
              "    </tr>\n",
              "  </tbody>\n",
              "</table>"
            ],
            "text/plain": [
              "<IPython.core.display.HTML object>"
            ]
          },
          "metadata": {
            "tags": []
          }
        }
      ]
    },
    {
      "cell_type": "markdown",
      "metadata": {
        "id": "7sr_NFaB1uHH",
        "colab_type": "text"
      },
      "source": [
        "## Model and Learning"
      ]
    },
    {
      "cell_type": "code",
      "metadata": {
        "id": "xcOLVeQk0tJ8",
        "colab_type": "code",
        "colab": {}
      },
      "source": [
        "learn = language_model_learner(\n",
        "    dls_lm, AWD_LSTM, drop_mult=0.3, pretrained=False, \n",
        "    metrics=[accuracy, Perplexity()])"
      ],
      "execution_count": 31,
      "outputs": []
    },
    {
      "cell_type": "code",
      "metadata": {
        "id": "GdWkfIiG11dd",
        "colab_type": "code",
        "colab": {
          "base_uri": "https://localhost:8080/",
          "height": 621
        },
        "outputId": "b1760967-5ae6-47b3-8c3e-a9c9e427f338"
      },
      "source": [
        "learn.fit_one_cycle(2, 2e-2)\n",
        "learn.export('/content/drive/My Drive/DNAModels/Human_v0/all_but_chr1_v1.pkl')\n",
        "learn.summary()"
      ],
      "execution_count": 33,
      "outputs": [
        {
          "output_type": "display_data",
          "data": {
            "text/html": [
              "<table border=\"1\" class=\"dataframe\">\n",
              "  <thead>\n",
              "    <tr style=\"text-align: left;\">\n",
              "      <th>epoch</th>\n",
              "      <th>train_loss</th>\n",
              "      <th>valid_loss</th>\n",
              "      <th>accuracy</th>\n",
              "      <th>perplexity</th>\n",
              "      <th>time</th>\n",
              "    </tr>\n",
              "  </thead>\n",
              "  <tbody>\n",
              "    <tr>\n",
              "      <td>0</td>\n",
              "      <td>1.292505</td>\n",
              "      <td>1.223054</td>\n",
              "      <td>0.405564</td>\n",
              "      <td>3.397548</td>\n",
              "      <td>5:10:55</td>\n",
              "    </tr>\n",
              "    <tr>\n",
              "      <td>1</td>\n",
              "      <td>1.260468</td>\n",
              "      <td>1.188988</td>\n",
              "      <td>0.430451</td>\n",
              "      <td>3.283757</td>\n",
              "      <td>5:12:11</td>\n",
              "    </tr>\n",
              "  </tbody>\n",
              "</table>"
            ],
            "text/plain": [
              "<IPython.core.display.HTML object>"
            ]
          },
          "metadata": {
            "tags": []
          }
        },
        {
          "output_type": "execute_result",
          "data": {
            "text/plain": [
              "SequentialRNN (Input shape: ['2048 x 50'])\n",
              "================================================================\n",
              "Layer (type)         Output Shape         Param #    Trainable \n",
              "================================================================\n",
              "RNNDropout           2048 x 50 x 400      0          False     \n",
              "________________________________________________________________\n",
              "RNNDropout           2048 x 50 x 1152     0          False     \n",
              "________________________________________________________________\n",
              "RNNDropout           2048 x 50 x 1152     0          False     \n",
              "________________________________________________________________\n",
              "Linear               2048 x 50 x 8        3,208      True      \n",
              "________________________________________________________________\n",
              "RNNDropout           2048 x 50 x 400      0          False     \n",
              "________________________________________________________________\n",
              "\n",
              "Total params: 3,208\n",
              "Total trainable params: 3,208\n",
              "Total non-trainable params: 0\n",
              "\n",
              "Optimizer used: <function Adam at 0x7feefa153ae8>\n",
              "Loss function: FlattenedLoss of CrossEntropyLoss()\n",
              "\n",
              "Model unfrozen\n",
              "\n",
              "Callbacks:\n",
              "  - TrainEvalCallback\n",
              "  - Recorder\n",
              "  - ProgressCallback\n",
              "  - ModelReseter\n",
              "  - RNNRegularizer"
            ]
          },
          "metadata": {
            "tags": []
          },
          "execution_count": 33
        }
      ]
    },
    {
      "cell_type": "markdown",
      "metadata": {
        "id": "HZHDtiwV7OKk",
        "colab_type": "text"
      },
      "source": [
        "## Testing the model"
      ]
    },
    {
      "cell_type": "code",
      "metadata": {
        "id": "4xg2Fdsl6TFl",
        "colab_type": "code",
        "colab": {}
      },
      "source": [
        "learn = load_learner('/content/drive/My Drive/DNAModels/Human_v0/all_but_chr1_v1.pkl')"
      ],
      "execution_count": null,
      "outputs": []
    },
    {
      "cell_type": "code",
      "metadata": {
        "id": "XruSBY7kQ0fm",
        "colab_type": "code",
        "colab": {
          "base_uri": "https://localhost:8080/",
          "height": 51
        },
        "outputId": "6d6913d6-95c6-482f-80b3-8d265f86e81a"
      },
      "source": [
        "TEXT = \"ACTGCCTGCCTGC\"\n",
        "N_WORDS = 40\n",
        "N_SENTENCES = 2\n",
        "preds = [learn.predict(TEXT, N_WORDS, temperature=0.75)[::2] \n",
        "         for _ in range(N_SENTENCES)]\n",
        "preds"
      ],
      "execution_count": 37,
      "outputs": [
        {
          "output_type": "display_data",
          "data": {
            "text/html": [
              ""
            ],
            "text/plain": [
              "<IPython.core.display.HTML object>"
            ]
          },
          "metadata": {
            "tags": []
          }
        },
        {
          "output_type": "display_data",
          "data": {
            "text/html": [
              ""
            ],
            "text/plain": [
              "<IPython.core.display.HTML object>"
            ]
          },
          "metadata": {
            "tags": []
          }
        },
        {
          "output_type": "execute_result",
          "data": {
            "text/plain": [
              "['ACTGCCTGCCTGCAATCTTCTCTCTGTTTGCTTTTGCCACTGATCCTTAATGT',\n",
              " 'ACTGCCTGCCTGCCTAGGACTTGGGAGGCAGGCTCTCATGATTTTCTACGTTG']"
            ]
          },
          "metadata": {
            "tags": []
          },
          "execution_count": 37
        }
      ]
    }
  ]
}