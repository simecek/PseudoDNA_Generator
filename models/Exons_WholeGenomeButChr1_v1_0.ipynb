{
  "nbformat": 4,
  "nbformat_minor": 0,
  "metadata": {
    "colab": {
      "name": "Exons_WholeGenomeButChr1_v1.0.ipynb",
      "provenance": [],
      "collapsed_sections": [],
      "include_colab_link": true
    },
    "kernelspec": {
      "name": "python3",
      "display_name": "Python 3"
    },
    "accelerator": "GPU"
  },
  "cells": [
    {
      "cell_type": "markdown",
      "metadata": {
        "id": "view-in-github",
        "colab_type": "text"
      },
      "source": [
        "<a href=\"https://colab.research.google.com/github/simecek/PseudoDNA_Generator/blob/master/models/Exons_WholeGenomeButChr1_v1_0.ipynb\" target=\"_parent\"><img src=\"https://colab.research.google.com/assets/colab-badge.svg\" alt=\"Open In Colab\"/></a>"
      ]
    },
    {
      "cell_type": "markdown",
      "metadata": {
        "id": "y8NYCcZxvM2P",
        "colab_type": "text"
      },
      "source": [
        "## Setup"
      ]
    },
    {
      "cell_type": "code",
      "metadata": {
        "id": "NeFnR_pcvEED",
        "colab_type": "code",
        "colab": {}
      },
      "source": [
        "!pip install fastai2>=0.0.11 ipywidgets matplotlib nbdev>=0.2.12 pandas scikit_learn sentencepiece"
      ],
      "execution_count": 1,
      "outputs": []
    },
    {
      "cell_type": "code",
      "metadata": {
        "id": "ExfZF-bTvSkj",
        "colab_type": "code",
        "colab": {}
      },
      "source": [
        "from fastai2.text.all import *\n",
        "import pandas as pd\n",
        "import torch"
      ],
      "execution_count": 2,
      "outputs": []
    },
    {
      "cell_type": "code",
      "metadata": {
        "id": "ERTuSw3U-Yxu",
        "colab_type": "code",
        "colab": {
          "base_uri": "https://localhost:8080/",
          "height": 34
        },
        "outputId": "2a85d897-8295-4a94-fb68-f90ebeb609de"
      },
      "source": [
        "torch.cuda.is_available(), torch.cuda.device_count(), torch.cuda.get_device_name(0)"
      ],
      "execution_count": 3,
      "outputs": [
        {
          "output_type": "execute_result",
          "data": {
            "text/plain": [
              "(True, 1, 'Tesla P100-PCIE-16GB')"
            ]
          },
          "metadata": {
            "tags": []
          },
          "execution_count": 3
        }
      ]
    },
    {
      "cell_type": "code",
      "metadata": {
        "id": "qkgkc8rNQCwY",
        "colab_type": "code",
        "colab": {
          "base_uri": "https://localhost:8080/",
          "height": 122
        },
        "outputId": "dabe8cb8-d018-43c6-9b85-efac78470603"
      },
      "source": [
        "# Mount to your Google Drive allowing lesson files will be saved to your Drive location\n",
        "from google.colab import drive\n",
        "drive.mount('/content/drive')"
      ],
      "execution_count": 4,
      "outputs": [
        {
          "output_type": "stream",
          "text": [
            "Go to this URL in a browser: https://accounts.google.com/o/oauth2/auth?client_id=947318989803-6bn6qk8qdgf4n4g3pfee6491hc0brc4i.apps.googleusercontent.com&redirect_uri=urn%3aietf%3awg%3aoauth%3a2.0%3aoob&response_type=code&scope=email%20https%3a%2f%2fwww.googleapis.com%2fauth%2fdocs.test%20https%3a%2f%2fwww.googleapis.com%2fauth%2fdrive%20https%3a%2f%2fwww.googleapis.com%2fauth%2fdrive.photos.readonly%20https%3a%2f%2fwww.googleapis.com%2fauth%2fpeopleapi.readonly\n",
            "\n",
            "Enter your authorization code:\n",
            "··········\n",
            "Mounted at /content/drive\n"
          ],
          "name": "stdout"
        }
      ]
    },
    {
      "cell_type": "code",
      "metadata": {
        "id": "0YhNnMOgyxMo",
        "colab_type": "code",
        "colab": {
          "base_uri": "https://localhost:8080/",
          "height": 204
        },
        "outputId": "843a1ac1-cefc-4f73-fb33-cae725ce5de2"
      },
      "source": [
        "!wget https://raw.githubusercontent.com/simecek/PseudoDNA_Generator/master/models/genomic_tokenizer2.py"
      ],
      "execution_count": 5,
      "outputs": [
        {
          "output_type": "stream",
          "text": [
            "--2020-06-24 11:01:10--  https://raw.githubusercontent.com/simecek/PseudoDNA_Generator/master/models/genomic_tokenizer2.py\n",
            "Resolving raw.githubusercontent.com (raw.githubusercontent.com)... 151.101.0.133, 151.101.64.133, 151.101.128.133, ...\n",
            "Connecting to raw.githubusercontent.com (raw.githubusercontent.com)|151.101.0.133|:443... connected.\n",
            "HTTP request sent, awaiting response... 200 OK\n",
            "Length: 565 [text/plain]\n",
            "Saving to: ‘genomic_tokenizer2.py’\n",
            "\n",
            "\rgenomic_tokenizer2.   0%[                    ]       0  --.-KB/s               \rgenomic_tokenizer2. 100%[===================>]     565  --.-KB/s    in 0s      \n",
            "\n",
            "2020-06-24 11:01:11 (30.5 MB/s) - ‘genomic_tokenizer2.py’ saved [565/565]\n",
            "\n"
          ],
          "name": "stdout"
        }
      ]
    },
    {
      "cell_type": "code",
      "metadata": {
        "id": "1pzwSCnlyv-X",
        "colab_type": "code",
        "colab": {}
      },
      "source": [
        "from genomic_tokenizer2 import tkn2"
      ],
      "execution_count": 6,
      "outputs": []
    },
    {
      "cell_type": "code",
      "metadata": {
        "id": "uAMnbJuNxBkU",
        "colab_type": "code",
        "colab": {
          "base_uri": "https://localhost:8080/",
          "height": 241
        },
        "outputId": "5f3e6e81-3f8f-450c-dc5d-ad7344b5b865"
      },
      "source": [
        "dt = pd.read_csv(\"/content/drive/My Drive/data/random/random_exons.csv\")\n",
        "dt.columns = ['chr', 'start', 'end', 'seq']\n",
        "dt = dt[~dt.seq.str.contains(\"N\")]   # just for sure\n",
        "\n",
        "train = dt[dt.chr!=\"1\"]\n",
        "test = dt[dt.chr==\"1\"]\n",
        "\n",
        "print(dt.shape, train.shape, test.shape)\n",
        "dt.head()"
      ],
      "execution_count": 8,
      "outputs": [
        {
          "output_type": "stream",
          "text": [
            "(50000, 4) (45373, 4) (4627, 4)\n"
          ],
          "name": "stdout"
        },
        {
          "output_type": "execute_result",
          "data": {
            "text/html": [
              "<div>\n",
              "<style scoped>\n",
              "    .dataframe tbody tr th:only-of-type {\n",
              "        vertical-align: middle;\n",
              "    }\n",
              "\n",
              "    .dataframe tbody tr th {\n",
              "        vertical-align: top;\n",
              "    }\n",
              "\n",
              "    .dataframe thead th {\n",
              "        text-align: right;\n",
              "    }\n",
              "</style>\n",
              "<table border=\"1\" class=\"dataframe\">\n",
              "  <thead>\n",
              "    <tr style=\"text-align: right;\">\n",
              "      <th></th>\n",
              "      <th>chr</th>\n",
              "      <th>start</th>\n",
              "      <th>end</th>\n",
              "      <th>seq</th>\n",
              "    </tr>\n",
              "  </thead>\n",
              "  <tbody>\n",
              "    <tr>\n",
              "      <th>0</th>\n",
              "      <td>3</td>\n",
              "      <td>27797844</td>\n",
              "      <td>27798043</td>\n",
              "      <td>ATCAAGAAGATTTGGAGAAGGAGTCTTGGAAGCTCTGGTGAAGTTTTCCAAAACTGGGAAGGACAGAGGTATGTGATTACTGGCATCCTGCCGCCGCACAGTGCTCCCGGGAGGAGGGGGAGTATCAGAAGGGAACGGCTGGCTGGACCCCCTTTGCAGAGGCTTCCAGAATTGGCAGTCTTTCCTGTGCTACAGCTTTG</td>\n",
              "    </tr>\n",
              "    <tr>\n",
              "      <th>1</th>\n",
              "      <td>4</td>\n",
              "      <td>26368050</td>\n",
              "      <td>26368249</td>\n",
              "      <td>ACATAGTTCAGTTCTCTGAATTGGGCATGATATGCTCTTCAGAAATCACGTTTTGAAATTACAGAAGATAAATAACCTCTCCCAATCAGTGTGTTAACTACCCTGATGATGGTTGCTTGTCTTTGTACAGATGTGTGCAGGCATACATCTTTAGTGGTGGAGGCAGTAAATGAAAACATATGGATTCAGAGTATGGAAGA</td>\n",
              "    </tr>\n",
              "    <tr>\n",
              "      <th>2</th>\n",
              "      <td>12</td>\n",
              "      <td>61709960</td>\n",
              "      <td>61710159</td>\n",
              "      <td>AAAGCCATGTGTAGTCCCACTAGCAAATGAACATAGGACCCAGGAACACATCCAGGACAGAAGGACAGTGCACTTGGGATACAGCTTGCAGAAACAAGAAAAGTAGTCACATCTGGAGCCAATAACTCAAAAGGTGACTGTCTCTAACATCACCCTGAAAAAAACAACTCTTCACCAGCTCCTCAGACAGTGACTTCAAA</td>\n",
              "    </tr>\n",
              "    <tr>\n",
              "      <th>3</th>\n",
              "      <td>16</td>\n",
              "      <td>85743349</td>\n",
              "      <td>85743548</td>\n",
              "      <td>ATTCTGGGCCAAGTTTGCTATAAAAACGATGCCACTGAACCCTAACAATGCCCTAAGAGATAAACATTATCACCATCCTGTTTTATAAATGAGGAGCTGGGGCTCACAGCTGTCCAGCGACTCCCAGCACCCAGGGCTAGCAAGCTACAGCTCTGGGCTGCCAGACACTAAAGCCAAGCCCACATCACTGCACTGGGTTG</td>\n",
              "    </tr>\n",
              "    <tr>\n",
              "      <th>4</th>\n",
              "      <td>11</td>\n",
              "      <td>59594111</td>\n",
              "      <td>59594310</td>\n",
              "      <td>TGGAGTAGGAGGACACGGTGAAAGCTGCAACATAACAGAGCTGTTCTAGAGAATTCTCACATTTTGCAGCTCGGTCTAACAGCTCATGGTATTCCAGATCTTCAGTAAGGCGCTGAAGCATGGACAAGGGCTCATTAAAGTTTACCTGTAAGGAGAAGAACAGATATAAAAACTATGCTCACTCATCTATAAGAGACAGT</td>\n",
              "    </tr>\n",
              "  </tbody>\n",
              "</table>\n",
              "</div>"
            ],
            "text/plain": [
              "  chr  ...                                                                                                                                                                                                       seq\n",
              "0   3  ...  ATCAAGAAGATTTGGAGAAGGAGTCTTGGAAGCTCTGGTGAAGTTTTCCAAAACTGGGAAGGACAGAGGTATGTGATTACTGGCATCCTGCCGCCGCACAGTGCTCCCGGGAGGAGGGGGAGTATCAGAAGGGAACGGCTGGCTGGACCCCCTTTGCAGAGGCTTCCAGAATTGGCAGTCTTTCCTGTGCTACAGCTTTG\n",
              "1   4  ...  ACATAGTTCAGTTCTCTGAATTGGGCATGATATGCTCTTCAGAAATCACGTTTTGAAATTACAGAAGATAAATAACCTCTCCCAATCAGTGTGTTAACTACCCTGATGATGGTTGCTTGTCTTTGTACAGATGTGTGCAGGCATACATCTTTAGTGGTGGAGGCAGTAAATGAAAACATATGGATTCAGAGTATGGAAGA\n",
              "2  12  ...  AAAGCCATGTGTAGTCCCACTAGCAAATGAACATAGGACCCAGGAACACATCCAGGACAGAAGGACAGTGCACTTGGGATACAGCTTGCAGAAACAAGAAAAGTAGTCACATCTGGAGCCAATAACTCAAAAGGTGACTGTCTCTAACATCACCCTGAAAAAAACAACTCTTCACCAGCTCCTCAGACAGTGACTTCAAA\n",
              "3  16  ...  ATTCTGGGCCAAGTTTGCTATAAAAACGATGCCACTGAACCCTAACAATGCCCTAAGAGATAAACATTATCACCATCCTGTTTTATAAATGAGGAGCTGGGGCTCACAGCTGTCCAGCGACTCCCAGCACCCAGGGCTAGCAAGCTACAGCTCTGGGCTGCCAGACACTAAAGCCAAGCCCACATCACTGCACTGGGTTG\n",
              "4  11  ...  TGGAGTAGGAGGACACGGTGAAAGCTGCAACATAACAGAGCTGTTCTAGAGAATTCTCACATTTTGCAGCTCGGTCTAACAGCTCATGGTATTCCAGATCTTCAGTAAGGCGCTGAAGCATGGACAAGGGCTCATTAAAGTTTACCTGTAAGGAGAAGAACAGATATAAAAACTATGCTCACTCATCTATAAGAGACAGT\n",
              "\n",
              "[5 rows x 4 columns]"
            ]
          },
          "metadata": {
            "tags": []
          },
          "execution_count": 8
        }
      ]
    },
    {
      "cell_type": "code",
      "metadata": {
        "id": "V-WYDE4wvZEA",
        "colab_type": "code",
        "colab": {}
      },
      "source": [
        "!rm -rf split_tok\n",
        "\n",
        "!rm -rf split\n",
        "!mkdir split\n",
        "!mkdir split/train\n",
        "!mkdir split/valid\n",
        "!mkdir split/train/1/\n",
        "!mkdir split/valid/1/"
      ],
      "execution_count": 10,
      "outputs": []
    },
    {
      "cell_type": "code",
      "metadata": {
        "id": "5KII2R0JvkQT",
        "colab_type": "code",
        "colab": {}
      },
      "source": [
        "# splitting the file into training and test part\n",
        "N = len(dt.seq)\n",
        "\n",
        "for i, s in enumerate(train.seq):\n",
        "  open(\"split/train/1/seq\"+str(i)+\".txt\", 'w').writelines([s])\n",
        "for i, s in enumerate(test.seq):\n",
        "  open(\"split/valid/1/seq\"+str(i)+\".txt\", 'w').writelines([s])"
      ],
      "execution_count": 11,
      "outputs": []
    },
    {
      "cell_type": "markdown",
      "metadata": {
        "id": "bMNqgj9n1TEw",
        "colab_type": "text"
      },
      "source": [
        "## Data Loaders"
      ]
    },
    {
      "cell_type": "code",
      "metadata": {
        "id": "zFgyggiNxlz_",
        "colab_type": "code",
        "colab": {}
      },
      "source": [
        "dls_lm = TextDataLoaders.from_folder(Path(\"./split\"), bs=128, seed=42, \n",
        "                                   is_lm=True, \n",
        "                                   tok_tfm=tkn2, seq_len=50)"
      ],
      "execution_count": 12,
      "outputs": []
    },
    {
      "cell_type": "code",
      "metadata": {
        "id": "TmftEQ6bx42-",
        "colab_type": "code",
        "colab": {
          "base_uri": "https://localhost:8080/",
          "height": 328
        },
        "outputId": "22cfc6b7-e76b-43a8-d227-8415014237b4"
      },
      "source": [
        "dls_lm.show_batch()"
      ],
      "execution_count": 13,
      "outputs": [
        {
          "output_type": "display_data",
          "data": {
            "text/html": [
              "<table border=\"1\" class=\"dataframe\">\n",
              "  <thead>\n",
              "    <tr style=\"text-align: right;\">\n",
              "      <th></th>\n",
              "      <th>text</th>\n",
              "      <th>text_</th>\n",
              "    </tr>\n",
              "  </thead>\n",
              "  <tbody>\n",
              "    <tr>\n",
              "      <th>0</th>\n",
              "      <td>G A T C C C C A T A G C C G G G A G G C C C G T C A G C A G C G C T T T G C C C A C T T C A C T G A</td>\n",
              "      <td>A T C C C C A T A G C C G G G A G G C C C G T C A G C A G C G C T T T G C C C A C T T C A C T G A G</td>\n",
              "    </tr>\n",
              "    <tr>\n",
              "      <th>1</th>\n",
              "      <td>G G A C A G A C A G A A T T A C A G T A T T A C A T G C T A G A A A T A A T T A A C A C T T G A A A</td>\n",
              "      <td>G A C A G A C A G A A T T A C A G T A T T A C A T G C T A G A A A T A A T T A A C A C T T G A A A G</td>\n",
              "    </tr>\n",
              "    <tr>\n",
              "      <th>2</th>\n",
              "      <td>A C A A A G A G A T T A T A C T G T A T G T A T G T A T A C A T A T G A A T A T A T A T A T T T G T</td>\n",
              "      <td>C A A A G A G A T T A T A C T G T A T G T A T G T A T A C A T A T G A A T A T A T A T A T T T G T A</td>\n",
              "    </tr>\n",
              "    <tr>\n",
              "      <th>3</th>\n",
              "      <td>C C C C T C T C C T C T C T T C C A T T T G G T T G G A G A G T G G T G C T C T G T G A A T C A C C</td>\n",
              "      <td>C C C T C T C C T C T C T T C C A T T T G G T T G G A G A G T G G T G C T C T G T G A A T C A C C C</td>\n",
              "    </tr>\n",
              "    <tr>\n",
              "      <th>4</th>\n",
              "      <td>C A G A G A T G A T T T C T C T C G G G T T A A G A G C A C T G T G A G A G C A C C G T G C T T C C</td>\n",
              "      <td>A G A G A T G A T T T C T C T C G G G T T A A G A G C A C T G T G A G A G C A C C G T G C T T C C G</td>\n",
              "    </tr>\n",
              "    <tr>\n",
              "      <th>5</th>\n",
              "      <td>T T G G G T T T T C A T A G A T G C T T A A T A T G G C T G C A G A A T C G A C T G T A G T C T G A</td>\n",
              "      <td>T G G G T T T T C A T A G A T G C T T A A T A T G G C T G C A G A A T C G A C T G T A G T C T G A G</td>\n",
              "    </tr>\n",
              "    <tr>\n",
              "      <th>6</th>\n",
              "      <td>A C T T T G T A A C G T A G A T G C A G C T G A C T T T G C C T G C A C G G C G G C C G A C C C T G</td>\n",
              "      <td>C T T T G T A A C G T A G A T G C A G C T G A C T T T G C C T G C A C G G C G G C C G A C C C T G A</td>\n",
              "    </tr>\n",
              "    <tr>\n",
              "      <th>7</th>\n",
              "      <td>A T G A A G G C A G G C T T G G T A C G T A A T A C A T C T G G T G C A G T C T T T G C C G T G A C</td>\n",
              "      <td>T G A A G G C A G G C T T G G T A C G T A A T A C A T C T G G T G C A G T C T T T G C C G T G A C C</td>\n",
              "    </tr>\n",
              "    <tr>\n",
              "      <th>8</th>\n",
              "      <td>G C C G A T T C A C A G G G A T T C A C A C T C T T C C T A C T T G C A G C T G T C C A C A T G A A</td>\n",
              "      <td>C C G A T T C A C A G G G A T T C A C A C T C T T C C T A C T T G C A G C T G T C C A C A T G A A A</td>\n",
              "    </tr>\n",
              "  </tbody>\n",
              "</table>"
            ],
            "text/plain": [
              "<IPython.core.display.HTML object>"
            ]
          },
          "metadata": {
            "tags": []
          }
        }
      ]
    },
    {
      "cell_type": "markdown",
      "metadata": {
        "id": "7sr_NFaB1uHH",
        "colab_type": "text"
      },
      "source": [
        "## Model and Learning"
      ]
    },
    {
      "cell_type": "code",
      "metadata": {
        "id": "vfs-BbGs9ihP",
        "colab_type": "code",
        "colab": {}
      },
      "source": [
        "learn = language_model_learner(\n",
        "    dls_lm, AWD_LSTM, drop_mult=0.3, pretrained=False, \n",
        "    metrics=[accuracy, Perplexity()])"
      ],
      "execution_count": 14,
      "outputs": []
    },
    {
      "cell_type": "code",
      "metadata": {
        "id": "xcOLVeQk0tJ8",
        "colab_type": "code",
        "colab": {
          "base_uri": "https://localhost:8080/",
          "height": 527
        },
        "outputId": "e4b47c29-1a34-4061-e96b-02dd8df4b047"
      },
      "source": [
        "learn = learn.load('/content/drive/My Drive/DNAModels/Human_v0/all_but_chr1_v2')\n",
        "learn.unfreeze()\n",
        "learn.summary()"
      ],
      "execution_count": 15,
      "outputs": [
        {
          "output_type": "execute_result",
          "data": {
            "text/plain": [
              "SequentialRNN (Input shape: ['128 x 50'])\n",
              "================================================================\n",
              "Layer (type)         Output Shape         Param #    Trainable \n",
              "================================================================\n",
              "RNNDropout           128 x 50 x 400       0          False     \n",
              "________________________________________________________________\n",
              "RNNDropout           128 x 50 x 1152      0          False     \n",
              "________________________________________________________________\n",
              "RNNDropout           128 x 50 x 1152      0          False     \n",
              "________________________________________________________________\n",
              "Linear               128 x 50 x 8         3,208      True      \n",
              "________________________________________________________________\n",
              "RNNDropout           128 x 50 x 400       0          False     \n",
              "________________________________________________________________\n",
              "\n",
              "Total params: 3,208\n",
              "Total trainable params: 3,208\n",
              "Total non-trainable params: 0\n",
              "\n",
              "Optimizer used: <function Adam at 0x7f061c50c9d8>\n",
              "Loss function: FlattenedLoss of CrossEntropyLoss()\n",
              "\n",
              "Model unfrozen\n",
              "\n",
              "Callbacks:\n",
              "  - TrainEvalCallback\n",
              "  - Recorder\n",
              "  - ProgressCallback\n",
              "  - ModelReseter\n",
              "  - RNNRegularizer"
            ]
          },
          "metadata": {
            "tags": []
          },
          "execution_count": 15
        }
      ]
    },
    {
      "cell_type": "code",
      "metadata": {
        "id": "GdWkfIiG11dd",
        "colab_type": "code",
        "colab": {
          "base_uri": "https://localhost:8080/",
          "height": 359
        },
        "outputId": "e2b90ddd-a0de-4a38-ebb5-507a0a38d7fe"
      },
      "source": [
        "learn.fit_one_cycle(10, 1e-2)\n",
        "learn.export(\"/content/drive/My Drive/DNAModels/Exons/all_but_chr1_v2_finetuned.pkl\")"
      ],
      "execution_count": 16,
      "outputs": [
        {
          "output_type": "display_data",
          "data": {
            "text/html": [
              "<table border=\"1\" class=\"dataframe\">\n",
              "  <thead>\n",
              "    <tr style=\"text-align: left;\">\n",
              "      <th>epoch</th>\n",
              "      <th>train_loss</th>\n",
              "      <th>valid_loss</th>\n",
              "      <th>accuracy</th>\n",
              "      <th>perplexity</th>\n",
              "      <th>time</th>\n",
              "    </tr>\n",
              "  </thead>\n",
              "  <tbody>\n",
              "    <tr>\n",
              "      <td>0</td>\n",
              "      <td>1.446595</td>\n",
              "      <td>1.327318</td>\n",
              "      <td>0.351855</td>\n",
              "      <td>3.770917</td>\n",
              "      <td>07:05</td>\n",
              "    </tr>\n",
              "    <tr>\n",
              "      <td>1</td>\n",
              "      <td>1.325315</td>\n",
              "      <td>1.321284</td>\n",
              "      <td>0.355637</td>\n",
              "      <td>3.748232</td>\n",
              "      <td>07:04</td>\n",
              "    </tr>\n",
              "    <tr>\n",
              "      <td>2</td>\n",
              "      <td>1.324022</td>\n",
              "      <td>1.319417</td>\n",
              "      <td>0.356580</td>\n",
              "      <td>3.741239</td>\n",
              "      <td>07:00</td>\n",
              "    </tr>\n",
              "    <tr>\n",
              "      <td>3</td>\n",
              "      <td>1.320853</td>\n",
              "      <td>1.317981</td>\n",
              "      <td>0.357639</td>\n",
              "      <td>3.735870</td>\n",
              "      <td>07:01</td>\n",
              "    </tr>\n",
              "    <tr>\n",
              "      <td>4</td>\n",
              "      <td>1.319118</td>\n",
              "      <td>1.317521</td>\n",
              "      <td>0.357427</td>\n",
              "      <td>3.734151</td>\n",
              "      <td>07:03</td>\n",
              "    </tr>\n",
              "    <tr>\n",
              "      <td>5</td>\n",
              "      <td>1.316695</td>\n",
              "      <td>1.315112</td>\n",
              "      <td>0.360489</td>\n",
              "      <td>3.725167</td>\n",
              "      <td>07:02</td>\n",
              "    </tr>\n",
              "    <tr>\n",
              "      <td>6</td>\n",
              "      <td>1.312928</td>\n",
              "      <td>1.311877</td>\n",
              "      <td>0.362577</td>\n",
              "      <td>3.713136</td>\n",
              "      <td>07:04</td>\n",
              "    </tr>\n",
              "    <tr>\n",
              "      <td>7</td>\n",
              "      <td>1.310264</td>\n",
              "      <td>1.307653</td>\n",
              "      <td>0.366135</td>\n",
              "      <td>3.697487</td>\n",
              "      <td>07:06</td>\n",
              "    </tr>\n",
              "    <tr>\n",
              "      <td>8</td>\n",
              "      <td>1.308343</td>\n",
              "      <td>1.304959</td>\n",
              "      <td>0.368321</td>\n",
              "      <td>3.687539</td>\n",
              "      <td>07:08</td>\n",
              "    </tr>\n",
              "    <tr>\n",
              "      <td>9</td>\n",
              "      <td>1.304923</td>\n",
              "      <td>1.304304</td>\n",
              "      <td>0.369064</td>\n",
              "      <td>3.685124</td>\n",
              "      <td>07:10</td>\n",
              "    </tr>\n",
              "  </tbody>\n",
              "</table>"
            ],
            "text/plain": [
              "<IPython.core.display.HTML object>"
            ]
          },
          "metadata": {
            "tags": []
          }
        }
      ]
    }
  ]
}