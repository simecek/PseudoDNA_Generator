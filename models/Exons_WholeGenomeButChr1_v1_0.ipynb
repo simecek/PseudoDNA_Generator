{
  "nbformat": 4,
  "nbformat_minor": 0,
  "metadata": {
    "colab": {
      "name": "Exons_WholeGenomeButChr1_v1.0.ipynb",
      "provenance": [],
      "collapsed_sections": [],
      "include_colab_link": true
    },
    "kernelspec": {
      "name": "python3",
      "display_name": "Python 3"
    },
    "accelerator": "GPU"
  },
  "cells": [
    {
      "cell_type": "markdown",
      "metadata": {
        "id": "view-in-github",
        "colab_type": "text"
      },
      "source": [
        "<a href=\"https://colab.research.google.com/github/simecek/PseudoDNA_Generator/blob/master/models/Exons_WholeGenomeButChr1_v1_0.ipynb\" target=\"_parent\"><img src=\"https://colab.research.google.com/assets/colab-badge.svg\" alt=\"Open In Colab\"/></a>"
      ]
    },
    {
      "cell_type": "markdown",
      "metadata": {
        "id": "y8NYCcZxvM2P",
        "colab_type": "text"
      },
      "source": [
        "## Setup"
      ]
    },
    {
      "cell_type": "code",
      "metadata": {
        "id": "NeFnR_pcvEED",
        "colab_type": "code",
        "colab": {}
      },
      "source": [
        "!pip install fastai2>=0.0.11 ipywidgets matplotlib nbdev>=0.2.12 pandas scikit_learn sentencepiece"
      ],
      "execution_count": 1,
      "outputs": []
    },
    {
      "cell_type": "code",
      "metadata": {
        "id": "ExfZF-bTvSkj",
        "colab_type": "code",
        "colab": {}
      },
      "source": [
        "from fastai2.text.all import *\n",
        "import pandas as pd\n",
        "import torch"
      ],
      "execution_count": 2,
      "outputs": []
    },
    {
      "cell_type": "code",
      "metadata": {
        "id": "ERTuSw3U-Yxu",
        "colab_type": "code",
        "colab": {
          "base_uri": "https://localhost:8080/",
          "height": 35
        },
        "outputId": "2781bb23-721b-4d43-c260-db29e6e67798"
      },
      "source": [
        "torch.cuda.is_available(), torch.cuda.device_count(), torch.cuda.get_device_name(0)"
      ],
      "execution_count": 3,
      "outputs": [
        {
          "output_type": "execute_result",
          "data": {
            "text/plain": [
              "(True, 1, 'Tesla P100-PCIE-16GB')"
            ]
          },
          "metadata": {
            "tags": []
          },
          "execution_count": 3
        }
      ]
    },
    {
      "cell_type": "code",
      "metadata": {
        "id": "qkgkc8rNQCwY",
        "colab_type": "code",
        "colab": {
          "base_uri": "https://localhost:8080/",
          "height": 128
        },
        "outputId": "bd6038d5-3448-465f-c912-c2ce0ec689f3"
      },
      "source": [
        "# Mount to your Google Drive allowing lesson files will be saved to your Drive location\n",
        "from google.colab import drive\n",
        "drive.mount('/content/drive')"
      ],
      "execution_count": 4,
      "outputs": [
        {
          "output_type": "stream",
          "text": [
            "Go to this URL in a browser: https://accounts.google.com/o/oauth2/auth?client_id=947318989803-6bn6qk8qdgf4n4g3pfee6491hc0brc4i.apps.googleusercontent.com&redirect_uri=urn%3aietf%3awg%3aoauth%3a2.0%3aoob&response_type=code&scope=email%20https%3a%2f%2fwww.googleapis.com%2fauth%2fdocs.test%20https%3a%2f%2fwww.googleapis.com%2fauth%2fdrive%20https%3a%2f%2fwww.googleapis.com%2fauth%2fdrive.photos.readonly%20https%3a%2f%2fwww.googleapis.com%2fauth%2fpeopleapi.readonly\n",
            "\n",
            "Enter your authorization code:\n",
            "··········\n",
            "Mounted at /content/drive\n"
          ],
          "name": "stdout"
        }
      ]
    },
    {
      "cell_type": "code",
      "metadata": {
        "id": "0YhNnMOgyxMo",
        "colab_type": "code",
        "colab": {
          "base_uri": "https://localhost:8080/",
          "height": 217
        },
        "outputId": "6fc0bd4e-79b8-470b-afd8-33cd9d3b97fc"
      },
      "source": [
        "!wget https://raw.githubusercontent.com/simecek/PseudoDNA_Generator/master/models/genomic_tokenizer2.py"
      ],
      "execution_count": 5,
      "outputs": [
        {
          "output_type": "stream",
          "text": [
            "--2020-06-27 18:29:12--  https://raw.githubusercontent.com/simecek/PseudoDNA_Generator/master/models/genomic_tokenizer2.py\n",
            "Resolving raw.githubusercontent.com (raw.githubusercontent.com)... 151.101.0.133, 151.101.64.133, 151.101.128.133, ...\n",
            "Connecting to raw.githubusercontent.com (raw.githubusercontent.com)|151.101.0.133|:443... connected.\n",
            "HTTP request sent, awaiting response... 200 OK\n",
            "Length: 565 [text/plain]\n",
            "Saving to: ‘genomic_tokenizer2.py’\n",
            "\n",
            "\rgenomic_tokenizer2.   0%[                    ]       0  --.-KB/s               \rgenomic_tokenizer2. 100%[===================>]     565  --.-KB/s    in 0s      \n",
            "\n",
            "2020-06-27 18:29:12 (30.1 MB/s) - ‘genomic_tokenizer2.py’ saved [565/565]\n",
            "\n"
          ],
          "name": "stdout"
        }
      ]
    },
    {
      "cell_type": "code",
      "metadata": {
        "id": "1pzwSCnlyv-X",
        "colab_type": "code",
        "colab": {}
      },
      "source": [
        "from genomic_tokenizer2 import tkn2"
      ],
      "execution_count": 6,
      "outputs": []
    },
    {
      "cell_type": "code",
      "metadata": {
        "id": "uAMnbJuNxBkU",
        "colab_type": "code",
        "colab": {
          "base_uri": "https://localhost:8080/",
          "height": 236
        },
        "outputId": "85dd59b6-049c-4a22-faa5-5bb3577f945e"
      },
      "source": [
        "dt = pd.read_csv(\"/content/drive/My Drive/data/random/random_exons.csv\")\n",
        "dt.columns = ['chr', 'start', 'end', 'seq']\n",
        "dt = dt[~dt.seq.str.contains(\"N\")]   # just for sure\n",
        "\n",
        "train = dt[dt.chr!=\"1\"]\n",
        "test = dt[dt.chr==\"1\"]\n",
        "\n",
        "print(dt.shape, train.shape, test.shape)\n",
        "dt.head()"
      ],
      "execution_count": 7,
      "outputs": [
        {
          "output_type": "stream",
          "text": [
            "(50000, 4) (45336, 4) (4664, 4)\n"
          ],
          "name": "stdout"
        },
        {
          "output_type": "execute_result",
          "data": {
            "text/html": [
              "<div>\n",
              "<style scoped>\n",
              "    .dataframe tbody tr th:only-of-type {\n",
              "        vertical-align: middle;\n",
              "    }\n",
              "\n",
              "    .dataframe tbody tr th {\n",
              "        vertical-align: top;\n",
              "    }\n",
              "\n",
              "    .dataframe thead th {\n",
              "        text-align: right;\n",
              "    }\n",
              "</style>\n",
              "<table border=\"1\" class=\"dataframe\">\n",
              "  <thead>\n",
              "    <tr style=\"text-align: right;\">\n",
              "      <th></th>\n",
              "      <th>chr</th>\n",
              "      <th>start</th>\n",
              "      <th>end</th>\n",
              "      <th>seq</th>\n",
              "    </tr>\n",
              "  </thead>\n",
              "  <tbody>\n",
              "    <tr>\n",
              "      <th>0</th>\n",
              "      <td>1</td>\n",
              "      <td>236763182</td>\n",
              "      <td>236763381</td>\n",
              "      <td>GACTACCCAAAAGATTTTTGGCACTTACAATTTTTAAAATAGTTTATGTCATCTCTTCATTATTTAGGGCTGGATGGTCAACTCAGTCAGTGATTTTTTGATGCTTCTCTTATCCTCCAGAATAGAGACCTAAGGACACGTGGAAGTCAGTTTAATTGCCAGAGAGAAGGATGCAATCACTAGGTAAAATGAGGTTTTTA</td>\n",
              "    </tr>\n",
              "    <tr>\n",
              "      <th>1</th>\n",
              "      <td>17</td>\n",
              "      <td>8289582</td>\n",
              "      <td>8289781</td>\n",
              "      <td>AGCCCCCGTAAGGAGGAAGGAACGGGCGGGTATCTCATGACTGGGTTCCCAGGAGAATCGGGCTGGGAGGGACAGAACAGGGAGACTCACTGGTGGGATCCTCCAAGGAAGCAGGAGTGGGCCAGAGGTTTGGGGTAACTGATACCCAGGTCCTCTGGGGAACAGGAATTGGCAATTTCCAAACCTCAGGCCTGGATGAT</td>\n",
              "    </tr>\n",
              "    <tr>\n",
              "      <th>2</th>\n",
              "      <td>3</td>\n",
              "      <td>100455979</td>\n",
              "      <td>100456178</td>\n",
              "      <td>TGAGCCCCAATTCACCATTTCAGGATGTGGATGGGGGCGGGGTTGGGGGTAAAAACAGCTATAAAAAGCAACTGCAGATGCTGACTGACTGCAGTGGGCAGGGTATGTAGCTGCTCCAAGATGACTTGCATCATACCCCAATTACTGCTGGCATCTTAGTTGAGAGTATAATCTGCTTGGTTGCCTTTTTATGGGAATAA</td>\n",
              "    </tr>\n",
              "    <tr>\n",
              "      <th>3</th>\n",
              "      <td>10</td>\n",
              "      <td>94852754</td>\n",
              "      <td>94852953</td>\n",
              "      <td>AGGGCCTGGCCCGCATGGAGCTGTTTTTATTCCTGACCTTCATTTTACAGAACTTTAACCTGAAATCTCTGATTGACCCAAAGGACCTTGACACAACTCCTGTTGTCAATGGATTTGCTTCTGTCCCGCCCTTCTATCAGCTGTGCTTCATTCCTGTCTGAAGAAGCACAGATGGTCTGGCTGCTCCTGTGCTGTCCCTG</td>\n",
              "    </tr>\n",
              "    <tr>\n",
              "      <th>4</th>\n",
              "      <td>1</td>\n",
              "      <td>209756085</td>\n",
              "      <td>209756284</td>\n",
              "      <td>GGGTTTGCGAACCTTGTGGCTTTGTCTGTTTCCTGTTTCAGCAAGGCTGCTGTGCAAAAAGAAAGACGGTACCAAGAAGGGACGTGTTAATGGGGCCCAGACCTATGGATTGAAAGCGTGTGCTTTACCCATCTGCTGTCTTGCTCCATCTGAGACCAGAGCCAAGATCTGCCCAGGACTGGAATGCTTTCCCGAGTGGC</td>\n",
              "    </tr>\n",
              "  </tbody>\n",
              "</table>\n",
              "</div>"
            ],
            "text/plain": [
              "  chr  ...                                                                                                                                                                                                       seq\n",
              "0   1  ...  GACTACCCAAAAGATTTTTGGCACTTACAATTTTTAAAATAGTTTATGTCATCTCTTCATTATTTAGGGCTGGATGGTCAACTCAGTCAGTGATTTTTTGATGCTTCTCTTATCCTCCAGAATAGAGACCTAAGGACACGTGGAAGTCAGTTTAATTGCCAGAGAGAAGGATGCAATCACTAGGTAAAATGAGGTTTTTA\n",
              "1  17  ...  AGCCCCCGTAAGGAGGAAGGAACGGGCGGGTATCTCATGACTGGGTTCCCAGGAGAATCGGGCTGGGAGGGACAGAACAGGGAGACTCACTGGTGGGATCCTCCAAGGAAGCAGGAGTGGGCCAGAGGTTTGGGGTAACTGATACCCAGGTCCTCTGGGGAACAGGAATTGGCAATTTCCAAACCTCAGGCCTGGATGAT\n",
              "2   3  ...  TGAGCCCCAATTCACCATTTCAGGATGTGGATGGGGGCGGGGTTGGGGGTAAAAACAGCTATAAAAAGCAACTGCAGATGCTGACTGACTGCAGTGGGCAGGGTATGTAGCTGCTCCAAGATGACTTGCATCATACCCCAATTACTGCTGGCATCTTAGTTGAGAGTATAATCTGCTTGGTTGCCTTTTTATGGGAATAA\n",
              "3  10  ...  AGGGCCTGGCCCGCATGGAGCTGTTTTTATTCCTGACCTTCATTTTACAGAACTTTAACCTGAAATCTCTGATTGACCCAAAGGACCTTGACACAACTCCTGTTGTCAATGGATTTGCTTCTGTCCCGCCCTTCTATCAGCTGTGCTTCATTCCTGTCTGAAGAAGCACAGATGGTCTGGCTGCTCCTGTGCTGTCCCTG\n",
              "4   1  ...  GGGTTTGCGAACCTTGTGGCTTTGTCTGTTTCCTGTTTCAGCAAGGCTGCTGTGCAAAAAGAAAGACGGTACCAAGAAGGGACGTGTTAATGGGGCCCAGACCTATGGATTGAAAGCGTGTGCTTTACCCATCTGCTGTCTTGCTCCATCTGAGACCAGAGCCAAGATCTGCCCAGGACTGGAATGCTTTCCCGAGTGGC\n",
              "\n",
              "[5 rows x 4 columns]"
            ]
          },
          "metadata": {
            "tags": []
          },
          "execution_count": 7
        }
      ]
    },
    {
      "cell_type": "code",
      "metadata": {
        "id": "V-WYDE4wvZEA",
        "colab_type": "code",
        "colab": {}
      },
      "source": [
        "!rm -rf split_tok\n",
        "\n",
        "!rm -rf split\n",
        "!mkdir split\n",
        "!mkdir split/train\n",
        "!mkdir split/valid\n",
        "!mkdir split/train/1/\n",
        "!mkdir split/valid/1/"
      ],
      "execution_count": 8,
      "outputs": []
    },
    {
      "cell_type": "code",
      "metadata": {
        "id": "5KII2R0JvkQT",
        "colab_type": "code",
        "colab": {}
      },
      "source": [
        "# splitting the file into training and test part\n",
        "N = len(dt.seq)\n",
        "\n",
        "for i, s in enumerate(train.seq):\n",
        "  open(\"split/train/1/seq\"+str(i)+\".txt\", 'w').writelines([s])\n",
        "for i, s in enumerate(test.seq):\n",
        "  open(\"split/valid/1/seq\"+str(i)+\".txt\", 'w').writelines([s])"
      ],
      "execution_count": 9,
      "outputs": []
    },
    {
      "cell_type": "markdown",
      "metadata": {
        "id": "bMNqgj9n1TEw",
        "colab_type": "text"
      },
      "source": [
        "## Data Loaders"
      ]
    },
    {
      "cell_type": "code",
      "metadata": {
        "id": "zFgyggiNxlz_",
        "colab_type": "code",
        "colab": {}
      },
      "source": [
        "dls_lm = TextDataLoaders.from_folder(Path(\"./split\"), bs=128, seed=42, \n",
        "                                   is_lm=True, \n",
        "                                   tok_tfm=tkn2, seq_len=50)"
      ],
      "execution_count": 10,
      "outputs": []
    },
    {
      "cell_type": "code",
      "metadata": {
        "id": "TmftEQ6bx42-",
        "colab_type": "code",
        "colab": {
          "base_uri": "https://localhost:8080/",
          "height": 318
        },
        "outputId": "7acdbae3-51e2-43d9-ee1a-7943c26ec2d4"
      },
      "source": [
        "dls_lm.show_batch()"
      ],
      "execution_count": 11,
      "outputs": [
        {
          "output_type": "display_data",
          "data": {
            "text/html": [
              "<table border=\"1\" class=\"dataframe\">\n",
              "  <thead>\n",
              "    <tr style=\"text-align: right;\">\n",
              "      <th></th>\n",
              "      <th>text</th>\n",
              "      <th>text_</th>\n",
              "    </tr>\n",
              "  </thead>\n",
              "  <tbody>\n",
              "    <tr>\n",
              "      <th>0</th>\n",
              "      <td>G C C T T T C G T A C T C A C C T T G G C A G C A C T G A A A C T C A A G G A G C A A A G C T T C T</td>\n",
              "      <td>C C T T T C G T A C T C A C C T T G G C A G C A C T G A A A C T C A A G G A G C A A A G C T T C T C</td>\n",
              "    </tr>\n",
              "    <tr>\n",
              "      <th>1</th>\n",
              "      <td>C A G C A A C C A T T G G T G C C G A G G A C C A T G G G T C C A T G C A A A A C G A C A T G G G C</td>\n",
              "      <td>A G C A A C C A T T G G T G C C G A G G A C C A T G G G T C C A T G C A A A A C G A C A T G G G C G</td>\n",
              "    </tr>\n",
              "    <tr>\n",
              "      <th>2</th>\n",
              "      <td>C C A C T G C A C T C C A G C C T G G G C G A C A G A G C A A G A C C C T G T C T C A A A A A C A A</td>\n",
              "      <td>C A C T G C A C T C C A G C C T G G G C G A C A G A G C A A G A C C C T G T C T C A A A A A C A A A</td>\n",
              "    </tr>\n",
              "    <tr>\n",
              "      <th>3</th>\n",
              "      <td>C A A T C C C T G A G G A C T G A T T T C A G A G T G A C T A C A C A C A G T A C G A A C C T A C A</td>\n",
              "      <td>A A T C C C T G A G G A C T G A T T T C A G A G T G A C T A C A C A C A G T A C G A A C C T A C A G</td>\n",
              "    </tr>\n",
              "    <tr>\n",
              "      <th>4</th>\n",
              "      <td>A A G G C T T G A G C C C A G T A G T T C G G G G C T G C A G T G A G C C A T G A T T G T G C C A C</td>\n",
              "      <td>A G G C T T G A G C C C A G T A G T T C G G G G C T G C A G T G A G C C A T G A T T G T G C C A C T</td>\n",
              "    </tr>\n",
              "    <tr>\n",
              "      <th>5</th>\n",
              "      <td>C T A C C C C C A G A G G A T C A G A C T G C T G A C G T G C T T C C C G T T A C C A G G G A A A C</td>\n",
              "      <td>T A C C C C C A G A G G A T C A G A C T G C T G A C G T G C T T C C C G T T A C C A G G G A A A C C</td>\n",
              "    </tr>\n",
              "    <tr>\n",
              "      <th>6</th>\n",
              "      <td>G G G A G T A G G C T T T G A G A A G T T G C T A C T C C A G G T G T G A A C C A C C A G G C G G T</td>\n",
              "      <td>G G A G T A G G C T T T G A G A A G T T G C T A C T C C A G G T G T G A A C C A C C A G G C G G T G</td>\n",
              "    </tr>\n",
              "    <tr>\n",
              "      <th>7</th>\n",
              "      <td>G A T C C T G T G A A G A A C C G C T G T G G A G G G C A G C A G C T G G A C G A G G G C A C A G G</td>\n",
              "      <td>A T C C T G T G A A G A A C C G C T G T G G A G G G C A G C A G C T G G A C G A G G G C A C A G G A</td>\n",
              "    </tr>\n",
              "    <tr>\n",
              "      <th>8</th>\n",
              "      <td>C G G C C G C T G T C C C C C C C C A C C A C T G C C G G G G C C C T G C C A A C C A C A C T G A G</td>\n",
              "      <td>G G C C G C T G T C C C C C C C C A C C A C T G C C G G G G C C C T G C C A A C C A C A C T G A G G</td>\n",
              "    </tr>\n",
              "  </tbody>\n",
              "</table>"
            ],
            "text/plain": [
              "<IPython.core.display.HTML object>"
            ]
          },
          "metadata": {
            "tags": []
          }
        }
      ]
    },
    {
      "cell_type": "markdown",
      "metadata": {
        "id": "7sr_NFaB1uHH",
        "colab_type": "text"
      },
      "source": [
        "## Model and Learning"
      ]
    },
    {
      "cell_type": "code",
      "metadata": {
        "id": "vfs-BbGs9ihP",
        "colab_type": "code",
        "colab": {}
      },
      "source": [
        "learn = language_model_learner(\n",
        "    dls_lm, AWD_LSTM, drop_mult=0.3, pretrained=False, \n",
        "    metrics=[accuracy, Perplexity()])"
      ],
      "execution_count": 12,
      "outputs": []
    },
    {
      "cell_type": "code",
      "metadata": {
        "id": "xcOLVeQk0tJ8",
        "colab_type": "code",
        "colab": {
          "base_uri": "https://localhost:8080/",
          "height": 563
        },
        "outputId": "c8dcbb02-9c2c-4957-c3a1-8db3b72baa77"
      },
      "source": [
        "learn = learn.load('/content/drive/My Drive/DNAModels/Human_v0/all_but_chr1_v2')\n",
        "learn.unfreeze()\n",
        "learn.summary()"
      ],
      "execution_count": 13,
      "outputs": [
        {
          "output_type": "execute_result",
          "data": {
            "application/vnd.google.colaboratory.intrinsic": {
              "type": "string"
            },
            "text/plain": [
              "SequentialRNN (Input shape: ['128 x 50'])\n",
              "================================================================\n",
              "Layer (type)         Output Shape         Param #    Trainable \n",
              "================================================================\n",
              "RNNDropout           128 x 50 x 400       0          False     \n",
              "________________________________________________________________\n",
              "RNNDropout           128 x 50 x 1152      0          False     \n",
              "________________________________________________________________\n",
              "RNNDropout           128 x 50 x 1152      0          False     \n",
              "________________________________________________________________\n",
              "Linear               128 x 50 x 8         3,208      True      \n",
              "________________________________________________________________\n",
              "RNNDropout           128 x 50 x 400       0          False     \n",
              "________________________________________________________________\n",
              "\n",
              "Total params: 3,208\n",
              "Total trainable params: 3,208\n",
              "Total non-trainable params: 0\n",
              "\n",
              "Optimizer used: <function Adam at 0x7f8f8d31c268>\n",
              "Loss function: FlattenedLoss of CrossEntropyLoss()\n",
              "\n",
              "Model unfrozen\n",
              "\n",
              "Callbacks:\n",
              "  - TrainEvalCallback\n",
              "  - Recorder\n",
              "  - ProgressCallback\n",
              "  - ModelReseter\n",
              "  - RNNRegularizer"
            ]
          },
          "metadata": {
            "tags": []
          },
          "execution_count": 13
        }
      ]
    },
    {
      "cell_type": "code",
      "metadata": {
        "id": "GdWkfIiG11dd",
        "colab_type": "code",
        "colab": {
          "base_uri": "https://localhost:8080/",
          "height": 348
        },
        "outputId": "50055837-0a65-4455-c4ac-035317cc1269"
      },
      "source": [
        "learn.fit_one_cycle(10, 1e-2)\n",
        "learn.export(\"/content/drive/My Drive/DNAModels/Exons/all_but_chr1_v2_finetuned.pkl\")"
      ],
      "execution_count": 14,
      "outputs": [
        {
          "output_type": "display_data",
          "data": {
            "text/html": [
              "<table border=\"1\" class=\"dataframe\">\n",
              "  <thead>\n",
              "    <tr style=\"text-align: left;\">\n",
              "      <th>epoch</th>\n",
              "      <th>train_loss</th>\n",
              "      <th>valid_loss</th>\n",
              "      <th>accuracy</th>\n",
              "      <th>perplexity</th>\n",
              "      <th>time</th>\n",
              "    </tr>\n",
              "  </thead>\n",
              "  <tbody>\n",
              "    <tr>\n",
              "      <td>0</td>\n",
              "      <td>1.442673</td>\n",
              "      <td>1.331834</td>\n",
              "      <td>0.338965</td>\n",
              "      <td>3.787983</td>\n",
              "      <td>07:07</td>\n",
              "    </tr>\n",
              "    <tr>\n",
              "      <td>1</td>\n",
              "      <td>1.327743</td>\n",
              "      <td>1.324584</td>\n",
              "      <td>0.349833</td>\n",
              "      <td>3.760620</td>\n",
              "      <td>06:55</td>\n",
              "    </tr>\n",
              "    <tr>\n",
              "      <td>2</td>\n",
              "      <td>1.324371</td>\n",
              "      <td>1.327430</td>\n",
              "      <td>0.351272</td>\n",
              "      <td>3.771337</td>\n",
              "      <td>06:57</td>\n",
              "    </tr>\n",
              "    <tr>\n",
              "      <td>3</td>\n",
              "      <td>1.323703</td>\n",
              "      <td>1.320198</td>\n",
              "      <td>0.354371</td>\n",
              "      <td>3.744163</td>\n",
              "      <td>07:08</td>\n",
              "    </tr>\n",
              "    <tr>\n",
              "      <td>4</td>\n",
              "      <td>1.321296</td>\n",
              "      <td>1.321004</td>\n",
              "      <td>0.356050</td>\n",
              "      <td>3.747181</td>\n",
              "      <td>07:03</td>\n",
              "    </tr>\n",
              "    <tr>\n",
              "      <td>5</td>\n",
              "      <td>1.319578</td>\n",
              "      <td>1.317745</td>\n",
              "      <td>0.357292</td>\n",
              "      <td>3.734990</td>\n",
              "      <td>07:00</td>\n",
              "    </tr>\n",
              "    <tr>\n",
              "      <td>6</td>\n",
              "      <td>1.316106</td>\n",
              "      <td>1.315158</td>\n",
              "      <td>0.359315</td>\n",
              "      <td>3.725340</td>\n",
              "      <td>07:03</td>\n",
              "    </tr>\n",
              "    <tr>\n",
              "      <td>7</td>\n",
              "      <td>1.312619</td>\n",
              "      <td>1.312589</td>\n",
              "      <td>0.361487</td>\n",
              "      <td>3.715782</td>\n",
              "      <td>07:06</td>\n",
              "    </tr>\n",
              "    <tr>\n",
              "      <td>8</td>\n",
              "      <td>1.311798</td>\n",
              "      <td>1.310938</td>\n",
              "      <td>0.362555</td>\n",
              "      <td>3.709652</td>\n",
              "      <td>07:06</td>\n",
              "    </tr>\n",
              "    <tr>\n",
              "      <td>9</td>\n",
              "      <td>1.310632</td>\n",
              "      <td>1.310519</td>\n",
              "      <td>0.362889</td>\n",
              "      <td>3.708097</td>\n",
              "      <td>07:05</td>\n",
              "    </tr>\n",
              "  </tbody>\n",
              "</table>"
            ],
            "text/plain": [
              "<IPython.core.display.HTML object>"
            ]
          },
          "metadata": {
            "tags": []
          }
        }
      ]
    }
  ]
}