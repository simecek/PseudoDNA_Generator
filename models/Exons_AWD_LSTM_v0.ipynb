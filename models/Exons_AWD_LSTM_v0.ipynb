{
  "nbformat": 4,
  "nbformat_minor": 0,
  "metadata": {
    "colab": {
      "name": "Exons_AWD_LSTM_v0.ipynb",
      "provenance": [],
      "collapsed_sections": [],
      "toc_visible": true,
      "include_colab_link": true
    },
    "kernelspec": {
      "name": "python3",
      "display_name": "Python 3"
    },
    "accelerator": "GPU"
  },
  "cells": [
    {
      "cell_type": "markdown",
      "metadata": {
        "id": "view-in-github",
        "colab_type": "text"
      },
      "source": [
        "<a href=\"https://colab.research.google.com/github/simecek/PseudoDNA_Generator/blob/master/models/Exons_AWD_LSTM_v0.ipynb\" target=\"_parent\"><img src=\"https://colab.research.google.com/assets/colab-badge.svg\" alt=\"Open In Colab\"/></a>"
      ]
    },
    {
      "cell_type": "markdown",
      "metadata": {
        "id": "y8NYCcZxvM2P",
        "colab_type": "text"
      },
      "source": [
        "## Setup"
      ]
    },
    {
      "cell_type": "code",
      "metadata": {
        "id": "NeFnR_pcvEED",
        "colab_type": "code",
        "colab": {}
      },
      "source": [
        "!pip install fastai2>=0.0.11 ipywidgets matplotlib nbdev>=0.2.12 pandas scikit_learn sentencepiece"
      ],
      "execution_count": 1,
      "outputs": []
    },
    {
      "cell_type": "code",
      "metadata": {
        "id": "ExfZF-bTvSkj",
        "colab_type": "code",
        "colab": {}
      },
      "source": [
        "from fastai2.text.all import *\n",
        "import pandas as pd\n",
        "import torch"
      ],
      "execution_count": 2,
      "outputs": []
    },
    {
      "cell_type": "code",
      "metadata": {
        "id": "ERTuSw3U-Yxu",
        "colab_type": "code",
        "colab": {
          "base_uri": "https://localhost:8080/",
          "height": 34
        },
        "outputId": "e8260bf2-ce5e-4531-9922-cf7fb2217362"
      },
      "source": [
        "torch.cuda.is_available(), torch.cuda.device_count(), torch.cuda.get_device_name(0)"
      ],
      "execution_count": 3,
      "outputs": [
        {
          "output_type": "execute_result",
          "data": {
            "text/plain": [
              "(True, 1, 'Tesla P100-PCIE-16GB')"
            ]
          },
          "metadata": {
            "tags": []
          },
          "execution_count": 3
        }
      ]
    },
    {
      "cell_type": "code",
      "metadata": {
        "id": "qkgkc8rNQCwY",
        "colab_type": "code",
        "colab": {
          "base_uri": "https://localhost:8080/",
          "height": 122
        },
        "outputId": "8d84fced-df27-4632-ca27-692e9f13d5a4"
      },
      "source": [
        "# Mount to your Google Drive allowing lesson files will be saved to your Drive location\n",
        "from google.colab import drive\n",
        "drive.mount('/content/drive')"
      ],
      "execution_count": 4,
      "outputs": [
        {
          "output_type": "stream",
          "text": [
            "Go to this URL in a browser: https://accounts.google.com/o/oauth2/auth?client_id=947318989803-6bn6qk8qdgf4n4g3pfee6491hc0brc4i.apps.googleusercontent.com&redirect_uri=urn%3aietf%3awg%3aoauth%3a2.0%3aoob&response_type=code&scope=email%20https%3a%2f%2fwww.googleapis.com%2fauth%2fdocs.test%20https%3a%2f%2fwww.googleapis.com%2fauth%2fdrive%20https%3a%2f%2fwww.googleapis.com%2fauth%2fdrive.photos.readonly%20https%3a%2f%2fwww.googleapis.com%2fauth%2fpeopleapi.readonly\n",
            "\n",
            "Enter your authorization code:\n",
            "··········\n",
            "Mounted at /content/drive\n"
          ],
          "name": "stdout"
        }
      ]
    },
    {
      "cell_type": "code",
      "metadata": {
        "id": "uAMnbJuNxBkU",
        "colab_type": "code",
        "colab": {
          "base_uri": "https://localhost:8080/",
          "height": 241
        },
        "outputId": "9fb833f8-ba1c-453a-d7c1-5a01b654b6ca"
      },
      "source": [
        "dt = pd.read_csv(\"/content/drive/My Drive/data/random/random_exons.csv\")\n",
        "dt.columns = ['chr', 'start', 'end', 'seq']\n",
        "dt = dt[~dt.seq.str.contains(\"N\")]   # just for sure\n",
        "\n",
        "train = dt[dt.chr!=\"1\"]\n",
        "test = dt[dt.chr==\"1\"]\n",
        "\n",
        "print(dt.shape, train.shape, test.shape)\n",
        "dt.head()"
      ],
      "execution_count": 6,
      "outputs": [
        {
          "output_type": "stream",
          "text": [
            "(50000, 4) (45373, 4) (4627, 4)\n"
          ],
          "name": "stdout"
        },
        {
          "output_type": "execute_result",
          "data": {
            "text/html": [
              "<div>\n",
              "<style scoped>\n",
              "    .dataframe tbody tr th:only-of-type {\n",
              "        vertical-align: middle;\n",
              "    }\n",
              "\n",
              "    .dataframe tbody tr th {\n",
              "        vertical-align: top;\n",
              "    }\n",
              "\n",
              "    .dataframe thead th {\n",
              "        text-align: right;\n",
              "    }\n",
              "</style>\n",
              "<table border=\"1\" class=\"dataframe\">\n",
              "  <thead>\n",
              "    <tr style=\"text-align: right;\">\n",
              "      <th></th>\n",
              "      <th>chr</th>\n",
              "      <th>start</th>\n",
              "      <th>end</th>\n",
              "      <th>seq</th>\n",
              "    </tr>\n",
              "  </thead>\n",
              "  <tbody>\n",
              "    <tr>\n",
              "      <th>0</th>\n",
              "      <td>3</td>\n",
              "      <td>27797844</td>\n",
              "      <td>27798043</td>\n",
              "      <td>ATCAAGAAGATTTGGAGAAGGAGTCTTGGAAGCTCTGGTGAAGTTTTCCAAAACTGGGAAGGACAGAGGTATGTGATTACTGGCATCCTGCCGCCGCACAGTGCTCCCGGGAGGAGGGGGAGTATCAGAAGGGAACGGCTGGCTGGACCCCCTTTGCAGAGGCTTCCAGAATTGGCAGTCTTTCCTGTGCTACAGCTTTG</td>\n",
              "    </tr>\n",
              "    <tr>\n",
              "      <th>1</th>\n",
              "      <td>4</td>\n",
              "      <td>26368050</td>\n",
              "      <td>26368249</td>\n",
              "      <td>ACATAGTTCAGTTCTCTGAATTGGGCATGATATGCTCTTCAGAAATCACGTTTTGAAATTACAGAAGATAAATAACCTCTCCCAATCAGTGTGTTAACTACCCTGATGATGGTTGCTTGTCTTTGTACAGATGTGTGCAGGCATACATCTTTAGTGGTGGAGGCAGTAAATGAAAACATATGGATTCAGAGTATGGAAGA</td>\n",
              "    </tr>\n",
              "    <tr>\n",
              "      <th>2</th>\n",
              "      <td>12</td>\n",
              "      <td>61709960</td>\n",
              "      <td>61710159</td>\n",
              "      <td>AAAGCCATGTGTAGTCCCACTAGCAAATGAACATAGGACCCAGGAACACATCCAGGACAGAAGGACAGTGCACTTGGGATACAGCTTGCAGAAACAAGAAAAGTAGTCACATCTGGAGCCAATAACTCAAAAGGTGACTGTCTCTAACATCACCCTGAAAAAAACAACTCTTCACCAGCTCCTCAGACAGTGACTTCAAA</td>\n",
              "    </tr>\n",
              "    <tr>\n",
              "      <th>3</th>\n",
              "      <td>16</td>\n",
              "      <td>85743349</td>\n",
              "      <td>85743548</td>\n",
              "      <td>ATTCTGGGCCAAGTTTGCTATAAAAACGATGCCACTGAACCCTAACAATGCCCTAAGAGATAAACATTATCACCATCCTGTTTTATAAATGAGGAGCTGGGGCTCACAGCTGTCCAGCGACTCCCAGCACCCAGGGCTAGCAAGCTACAGCTCTGGGCTGCCAGACACTAAAGCCAAGCCCACATCACTGCACTGGGTTG</td>\n",
              "    </tr>\n",
              "    <tr>\n",
              "      <th>4</th>\n",
              "      <td>11</td>\n",
              "      <td>59594111</td>\n",
              "      <td>59594310</td>\n",
              "      <td>TGGAGTAGGAGGACACGGTGAAAGCTGCAACATAACAGAGCTGTTCTAGAGAATTCTCACATTTTGCAGCTCGGTCTAACAGCTCATGGTATTCCAGATCTTCAGTAAGGCGCTGAAGCATGGACAAGGGCTCATTAAAGTTTACCTGTAAGGAGAAGAACAGATATAAAAACTATGCTCACTCATCTATAAGAGACAGT</td>\n",
              "    </tr>\n",
              "  </tbody>\n",
              "</table>\n",
              "</div>"
            ],
            "text/plain": [
              "  chr  ...                                                                                                                                                                                                       seq\n",
              "0   3  ...  ATCAAGAAGATTTGGAGAAGGAGTCTTGGAAGCTCTGGTGAAGTTTTCCAAAACTGGGAAGGACAGAGGTATGTGATTACTGGCATCCTGCCGCCGCACAGTGCTCCCGGGAGGAGGGGGAGTATCAGAAGGGAACGGCTGGCTGGACCCCCTTTGCAGAGGCTTCCAGAATTGGCAGTCTTTCCTGTGCTACAGCTTTG\n",
              "1   4  ...  ACATAGTTCAGTTCTCTGAATTGGGCATGATATGCTCTTCAGAAATCACGTTTTGAAATTACAGAAGATAAATAACCTCTCCCAATCAGTGTGTTAACTACCCTGATGATGGTTGCTTGTCTTTGTACAGATGTGTGCAGGCATACATCTTTAGTGGTGGAGGCAGTAAATGAAAACATATGGATTCAGAGTATGGAAGA\n",
              "2  12  ...  AAAGCCATGTGTAGTCCCACTAGCAAATGAACATAGGACCCAGGAACACATCCAGGACAGAAGGACAGTGCACTTGGGATACAGCTTGCAGAAACAAGAAAAGTAGTCACATCTGGAGCCAATAACTCAAAAGGTGACTGTCTCTAACATCACCCTGAAAAAAACAACTCTTCACCAGCTCCTCAGACAGTGACTTCAAA\n",
              "3  16  ...  ATTCTGGGCCAAGTTTGCTATAAAAACGATGCCACTGAACCCTAACAATGCCCTAAGAGATAAACATTATCACCATCCTGTTTTATAAATGAGGAGCTGGGGCTCACAGCTGTCCAGCGACTCCCAGCACCCAGGGCTAGCAAGCTACAGCTCTGGGCTGCCAGACACTAAAGCCAAGCCCACATCACTGCACTGGGTTG\n",
              "4  11  ...  TGGAGTAGGAGGACACGGTGAAAGCTGCAACATAACAGAGCTGTTCTAGAGAATTCTCACATTTTGCAGCTCGGTCTAACAGCTCATGGTATTCCAGATCTTCAGTAAGGCGCTGAAGCATGGACAAGGGCTCATTAAAGTTTACCTGTAAGGAGAAGAACAGATATAAAAACTATGCTCACTCATCTATAAGAGACAGT\n",
              "\n",
              "[5 rows x 4 columns]"
            ]
          },
          "metadata": {
            "tags": []
          },
          "execution_count": 6
        }
      ]
    },
    {
      "cell_type": "code",
      "metadata": {
        "id": "V-WYDE4wvZEA",
        "colab_type": "code",
        "colab": {}
      },
      "source": [
        "!rm -rf split_tok\n",
        "\n",
        "!rm -rf split\n",
        "!mkdir split\n",
        "!mkdir split/train\n",
        "!mkdir split/valid\n",
        "!mkdir split/train/1/\n",
        "!mkdir split/valid/1/"
      ],
      "execution_count": 7,
      "outputs": []
    },
    {
      "cell_type": "code",
      "metadata": {
        "id": "5KII2R0JvkQT",
        "colab_type": "code",
        "colab": {}
      },
      "source": [
        "# splitting the file into training and test part\n",
        "N = len(dt.seq)\n",
        "\n",
        "for i, s in enumerate(train.seq):\n",
        "  open(\"split/train/1/seq\"+str(i)+\".txt\", 'w').writelines([s])\n",
        "for i, s in enumerate(test.seq):\n",
        "  open(\"split/valid/1/seq\"+str(i)+\".txt\", 'w').writelines([s])"
      ],
      "execution_count": 8,
      "outputs": []
    },
    {
      "cell_type": "markdown",
      "metadata": {
        "id": "DsWZp8dnxSqa",
        "colab_type": "text"
      },
      "source": [
        "## Tokenizer"
      ]
    },
    {
      "cell_type": "code",
      "metadata": {
        "id": "GbRbPRbJv0VB",
        "colab_type": "code",
        "colab": {
          "base_uri": "https://localhost:8080/",
          "height": 204
        },
        "outputId": "e0906f55-aca5-428c-d20e-7748ee2d03d2"
      },
      "source": [
        "!wget https://raw.githubusercontent.com/simecek/PseudoDNA_Generator/master/models/genomic_tokenizer2.py"
      ],
      "execution_count": 9,
      "outputs": [
        {
          "output_type": "stream",
          "text": [
            "--2020-06-24 09:18:31--  https://raw.githubusercontent.com/simecek/PseudoDNA_Generator/master/models/genomic_tokenizer2.py\n",
            "Resolving raw.githubusercontent.com (raw.githubusercontent.com)... 151.101.0.133, 151.101.64.133, 151.101.128.133, ...\n",
            "Connecting to raw.githubusercontent.com (raw.githubusercontent.com)|151.101.0.133|:443... connected.\n",
            "HTTP request sent, awaiting response... 200 OK\n",
            "Length: 565 [text/plain]\n",
            "Saving to: ‘genomic_tokenizer2.py’\n",
            "\n",
            "\rgenomic_tokenizer2.   0%[                    ]       0  --.-KB/s               \rgenomic_tokenizer2. 100%[===================>]     565  --.-KB/s    in 0s      \n",
            "\n",
            "2020-06-24 09:18:32 (41.5 MB/s) - ‘genomic_tokenizer2.py’ saved [565/565]\n",
            "\n"
          ],
          "name": "stdout"
        }
      ]
    },
    {
      "cell_type": "code",
      "metadata": {
        "id": "Qm5Dgbicxa_Z",
        "colab_type": "code",
        "colab": {}
      },
      "source": [
        "from genomic_tokenizer2 import tkn2"
      ],
      "execution_count": 10,
      "outputs": []
    },
    {
      "cell_type": "markdown",
      "metadata": {
        "id": "bMNqgj9n1TEw",
        "colab_type": "text"
      },
      "source": [
        "## Data Loaders"
      ]
    },
    {
      "cell_type": "code",
      "metadata": {
        "id": "zFgyggiNxlz_",
        "colab_type": "code",
        "colab": {}
      },
      "source": [
        "dls_lm = TextDataLoaders.from_folder(Path(\"./split\"), bs=128, seed=42, \n",
        "                                   is_lm=True, \n",
        "                                   tok_tfm=tkn2, seq_len=50)"
      ],
      "execution_count": 11,
      "outputs": []
    },
    {
      "cell_type": "code",
      "metadata": {
        "id": "TmftEQ6bx42-",
        "colab_type": "code",
        "colab": {
          "base_uri": "https://localhost:8080/",
          "height": 328
        },
        "outputId": "fd43de1d-b0a2-41f7-f2af-564929dbb7c1"
      },
      "source": [
        "dls_lm.show_batch()"
      ],
      "execution_count": 12,
      "outputs": [
        {
          "output_type": "display_data",
          "data": {
            "text/html": [
              "<table border=\"1\" class=\"dataframe\">\n",
              "  <thead>\n",
              "    <tr style=\"text-align: right;\">\n",
              "      <th></th>\n",
              "      <th>text</th>\n",
              "      <th>text_</th>\n",
              "    </tr>\n",
              "  </thead>\n",
              "  <tbody>\n",
              "    <tr>\n",
              "      <th>0</th>\n",
              "      <td>C C T G A G A C C A G T T C A C G G A C G G T G G C A A A T A T C A C A T C T G C T G G T C T C T G</td>\n",
              "      <td>C T G A G A C C A G T T C A C G G A C G G T G G C A A A T A T C A C A T C T G C T G G T C T C T G A</td>\n",
              "    </tr>\n",
              "    <tr>\n",
              "      <th>1</th>\n",
              "      <td>A T T T C T T G A C C A C A A G A G T G T T G A G A T T C C C A A T G A A T A C A C G G G A G T T C</td>\n",
              "      <td>T T T C T T G A C C A C A A G A G T G T T G A G A T T C C C A A T G A A T A C A C G G G A G T T C A</td>\n",
              "    </tr>\n",
              "    <tr>\n",
              "      <th>2</th>\n",
              "      <td>A G C T T T C T T C G G G G G A A G A C C G A T G G G C C C T T G G T G G A G G C T G C A A G A G A</td>\n",
              "      <td>G C T T T C T T C G G G G G A A G A C C G A T G G G C C C T T G G T G G A G G C T G C A A G A G A G</td>\n",
              "    </tr>\n",
              "    <tr>\n",
              "      <th>3</th>\n",
              "      <td>A A A A G A T T A A T A A T G C A T T T A A C C C A A T A T A T T A A A T A T A T T A T T T C A A T</td>\n",
              "      <td>A A A G A T T A A T A A T G C A T T T A A C C C A A T A T A T T A A A T A T A T T A T T T C A A T T</td>\n",
              "    </tr>\n",
              "    <tr>\n",
              "      <th>4</th>\n",
              "      <td>T A G A G C T G G G G C A G G C C C A G G T C C C G G G G C C C A G T G G C G G C G C C T G A A G C</td>\n",
              "      <td>A G A G C T G G G G C A G G C C C A G G T C C C G G G G C C C A G T G G C G G C G C C T G A A G C A</td>\n",
              "    </tr>\n",
              "    <tr>\n",
              "      <th>5</th>\n",
              "      <td>C A T C T G G A A A G T A T A G A C G A C G A G G A G G A C G A G G A G G C C A A G G C C T G G C T</td>\n",
              "      <td>A T C T G G A A A G T A T A G A C G A C G A G G A G G A C G A G G A G G C C A A G G C C T G G C T G</td>\n",
              "    </tr>\n",
              "    <tr>\n",
              "      <th>6</th>\n",
              "      <td>C C G T C G A C C A G G C C C C C C G G G A C T C C C A G G C C C A A C C G G C C T G G C A T C T A</td>\n",
              "      <td>C G T C G A C C A G G C C C C C C G G G A C T C C C A G G C C C A A C C G G C C T G G C A T C T A C</td>\n",
              "    </tr>\n",
              "    <tr>\n",
              "      <th>7</th>\n",
              "      <td>G G A C G A T A A T C T G G G T T C C T G G G A G A G A T G G C T T G G T C A C T A T T C C C A C C</td>\n",
              "      <td>G A C G A T A A T C T G G G T T C C T G G G A G A G A T G G C T T G G T C A C T A T T C C C A C C C</td>\n",
              "    </tr>\n",
              "    <tr>\n",
              "      <th>8</th>\n",
              "      <td>G T G T G T G A A T A C T G G T G T T C A C A G A A T G C A A A G G A C T G T G C T G G G G A G T T</td>\n",
              "      <td>T G T G T G A A T A C T G G T G T T C A C A G A A T G C A A A G G A C T G T G C T G G G G A G T T T</td>\n",
              "    </tr>\n",
              "  </tbody>\n",
              "</table>"
            ],
            "text/plain": [
              "<IPython.core.display.HTML object>"
            ]
          },
          "metadata": {
            "tags": []
          }
        }
      ]
    },
    {
      "cell_type": "markdown",
      "metadata": {
        "id": "7sr_NFaB1uHH",
        "colab_type": "text"
      },
      "source": [
        "## Model and Learning"
      ]
    },
    {
      "cell_type": "code",
      "metadata": {
        "id": "xcOLVeQk0tJ8",
        "colab_type": "code",
        "colab": {}
      },
      "source": [
        "learn = language_model_learner(\n",
        "    dls_lm, AWD_LSTM, drop_mult=0.3, pretrained=False, \n",
        "    metrics=[accuracy, Perplexity()])"
      ],
      "execution_count": 13,
      "outputs": []
    },
    {
      "cell_type": "code",
      "metadata": {
        "id": "dZOgoDpnPl2E",
        "colab_type": "code",
        "colab": {
          "base_uri": "https://localhost:8080/",
          "height": 300
        },
        "outputId": "ac8771b7-8654-4279-bca0-6ac6f22be21b"
      },
      "source": [
        "learn.lr_find()"
      ],
      "execution_count": null,
      "outputs": [
        {
          "output_type": "display_data",
          "data": {
            "text/html": [
              ""
            ],
            "text/plain": [
              "<IPython.core.display.HTML object>"
            ]
          },
          "metadata": {
            "tags": []
          }
        },
        {
          "output_type": "execute_result",
          "data": {
            "text/plain": [
              "SuggestedLRs(lr_min=0.04365158379077912, lr_steep=0.0006918309954926372)"
            ]
          },
          "metadata": {
            "tags": []
          },
          "execution_count": 13
        },
        {
          "output_type": "display_data",
          "data": {
            "image/png": "[encoded data removed]",
            "text/plain": [
              "<Figure size 432x288 with 1 Axes>"
            ]
          },
          "metadata": {
            "tags": [],
            "needs_background": "light"
          }
        }
      ]
    },
    {
      "cell_type": "code",
      "metadata": {
        "id": "GdWkfIiG11dd",
        "colab_type": "code",
        "colab": {
          "base_uri": "https://localhost:8080/",
          "height": 204
        },
        "outputId": "cd3ca41a-0a3c-4800-865e-b29a33aeb649"
      },
      "source": [
        "learn.fit_one_cycle(5, 1e-2)\n",
        "learn.export(\"/content/drive/My Drive/DNAModels/Exons/Exons_AWD_LSTM_v0.pkl\")"
      ],
      "execution_count": 14,
      "outputs": [
        {
          "output_type": "display_data",
          "data": {
            "text/html": [
              "<table border=\"1\" class=\"dataframe\">\n",
              "  <thead>\n",
              "    <tr style=\"text-align: left;\">\n",
              "      <th>epoch</th>\n",
              "      <th>train_loss</th>\n",
              "      <th>valid_loss</th>\n",
              "      <th>accuracy</th>\n",
              "      <th>perplexity</th>\n",
              "      <th>time</th>\n",
              "    </tr>\n",
              "  </thead>\n",
              "  <tbody>\n",
              "    <tr>\n",
              "      <td>0</td>\n",
              "      <td>1.330626</td>\n",
              "      <td>1.322312</td>\n",
              "      <td>0.354452</td>\n",
              "      <td>3.752086</td>\n",
              "      <td>05:37</td>\n",
              "    </tr>\n",
              "    <tr>\n",
              "      <td>1</td>\n",
              "      <td>1.320581</td>\n",
              "      <td>1.317948</td>\n",
              "      <td>0.357099</td>\n",
              "      <td>3.735748</td>\n",
              "      <td>05:34</td>\n",
              "    </tr>\n",
              "    <tr>\n",
              "      <td>2</td>\n",
              "      <td>1.319123</td>\n",
              "      <td>1.316482</td>\n",
              "      <td>0.359371</td>\n",
              "      <td>3.730276</td>\n",
              "      <td>05:35</td>\n",
              "    </tr>\n",
              "    <tr>\n",
              "      <td>3</td>\n",
              "      <td>1.314636</td>\n",
              "      <td>1.314145</td>\n",
              "      <td>0.360718</td>\n",
              "      <td>3.721567</td>\n",
              "      <td>05:35</td>\n",
              "    </tr>\n",
              "    <tr>\n",
              "      <td>4</td>\n",
              "      <td>1.314533</td>\n",
              "      <td>1.313132</td>\n",
              "      <td>0.361961</td>\n",
              "      <td>3.717798</td>\n",
              "      <td>05:36</td>\n",
              "    </tr>\n",
              "  </tbody>\n",
              "</table>"
            ],
            "text/plain": [
              "<IPython.core.display.HTML object>"
            ]
          },
          "metadata": {
            "tags": []
          }
        }
      ]
    }
  ]
}