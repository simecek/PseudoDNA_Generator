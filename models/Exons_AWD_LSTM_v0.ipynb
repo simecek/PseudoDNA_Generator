{
  "nbformat": 4,
  "nbformat_minor": 0,
  "metadata": {
    "colab": {
      "name": "Exons_AWD_LSTM_v0.ipynb",
      "provenance": [],
      "collapsed_sections": [],
      "toc_visible": true,
      "include_colab_link": true
    },
    "kernelspec": {
      "name": "python3",
      "display_name": "Python 3"
    },
    "accelerator": "GPU"
  },
  "cells": [
    {
      "cell_type": "markdown",
      "metadata": {
        "id": "view-in-github",
        "colab_type": "text"
      },
      "source": [
        "<a href=\"https://colab.research.google.com/github/simecek/PseudoDNA_Generator/blob/master/models/Exons_AWD_LSTM_v0.ipynb\" target=\"_parent\"><img src=\"https://colab.research.google.com/assets/colab-badge.svg\" alt=\"Open In Colab\"/></a>"
      ]
    },
    {
      "cell_type": "markdown",
      "metadata": {
        "id": "y8NYCcZxvM2P",
        "colab_type": "text"
      },
      "source": [
        "## Setup"
      ]
    },
    {
      "cell_type": "code",
      "metadata": {
        "id": "NeFnR_pcvEED",
        "colab_type": "code",
        "colab": {}
      },
      "source": [
        "!pip install fastai2>=0.0.11 ipywidgets matplotlib nbdev>=0.2.12 pandas scikit_learn sentencepiece"
      ],
      "execution_count": 1,
      "outputs": []
    },
    {
      "cell_type": "code",
      "metadata": {
        "id": "ExfZF-bTvSkj",
        "colab_type": "code",
        "colab": {}
      },
      "source": [
        "from fastai2.text.all import *\n",
        "import pandas as pd\n",
        "import torch"
      ],
      "execution_count": 2,
      "outputs": []
    },
    {
      "cell_type": "code",
      "metadata": {
        "id": "ERTuSw3U-Yxu",
        "colab_type": "code",
        "colab": {
          "base_uri": "https://localhost:8080/",
          "height": 35
        },
        "outputId": "ffa3f0bf-74b5-4b05-8e1b-4b035e4d0a30"
      },
      "source": [
        "torch.cuda.is_available(), torch.cuda.device_count(), torch.cuda.get_device_name(0)"
      ],
      "execution_count": 3,
      "outputs": [
        {
          "output_type": "execute_result",
          "data": {
            "text/plain": [
              "(True, 1, 'Tesla P100-PCIE-16GB')"
            ]
          },
          "metadata": {
            "tags": []
          },
          "execution_count": 3
        }
      ]
    },
    {
      "cell_type": "code",
      "metadata": {
        "id": "qkgkc8rNQCwY",
        "colab_type": "code",
        "colab": {
          "base_uri": "https://localhost:8080/",
          "height": 128
        },
        "outputId": "5bba68b2-9d3d-47e7-ca44-427c7ddd7be3"
      },
      "source": [
        "# Mount to your Google Drive allowing lesson files will be saved to your Drive location\n",
        "from google.colab import drive\n",
        "drive.mount('/content/drive')"
      ],
      "execution_count": 4,
      "outputs": [
        {
          "output_type": "stream",
          "text": [
            "Go to this URL in a browser: https://accounts.google.com/o/oauth2/auth?client_id=947318989803-6bn6qk8qdgf4n4g3pfee6491hc0brc4i.apps.googleusercontent.com&redirect_uri=urn%3aietf%3awg%3aoauth%3a2.0%3aoob&response_type=code&scope=email%20https%3a%2f%2fwww.googleapis.com%2fauth%2fdocs.test%20https%3a%2f%2fwww.googleapis.com%2fauth%2fdrive%20https%3a%2f%2fwww.googleapis.com%2fauth%2fdrive.photos.readonly%20https%3a%2f%2fwww.googleapis.com%2fauth%2fpeopleapi.readonly\n",
            "\n",
            "Enter your authorization code:\n",
            "··········\n",
            "Mounted at /content/drive\n"
          ],
          "name": "stdout"
        }
      ]
    },
    {
      "cell_type": "code",
      "metadata": {
        "id": "uAMnbJuNxBkU",
        "colab_type": "code",
        "colab": {
          "base_uri": "https://localhost:8080/",
          "height": 236
        },
        "outputId": "fe3bc48d-08d4-4028-80bf-a6f359b5c2b9"
      },
      "source": [
        "dt = pd.read_csv(\"/content/drive/My Drive/data/random/random_exons.csv\")\n",
        "dt.columns = ['chr', 'start', 'end', 'seq']\n",
        "dt = dt[~dt.seq.str.contains(\"N\")]   # just for sure\n",
        "\n",
        "train = dt[dt.chr!=\"1\"]\n",
        "test = dt[dt.chr==\"1\"]\n",
        "\n",
        "print(dt.shape, train.shape, test.shape)\n",
        "dt.head()"
      ],
      "execution_count": 5,
      "outputs": [
        {
          "output_type": "stream",
          "text": [
            "(50000, 4) (45336, 4) (4664, 4)\n"
          ],
          "name": "stdout"
        },
        {
          "output_type": "execute_result",
          "data": {
            "text/html": [
              "<div>\n",
              "<style scoped>\n",
              "    .dataframe tbody tr th:only-of-type {\n",
              "        vertical-align: middle;\n",
              "    }\n",
              "\n",
              "    .dataframe tbody tr th {\n",
              "        vertical-align: top;\n",
              "    }\n",
              "\n",
              "    .dataframe thead th {\n",
              "        text-align: right;\n",
              "    }\n",
              "</style>\n",
              "<table border=\"1\" class=\"dataframe\">\n",
              "  <thead>\n",
              "    <tr style=\"text-align: right;\">\n",
              "      <th></th>\n",
              "      <th>chr</th>\n",
              "      <th>start</th>\n",
              "      <th>end</th>\n",
              "      <th>seq</th>\n",
              "    </tr>\n",
              "  </thead>\n",
              "  <tbody>\n",
              "    <tr>\n",
              "      <th>0</th>\n",
              "      <td>1</td>\n",
              "      <td>236763182</td>\n",
              "      <td>236763381</td>\n",
              "      <td>GACTACCCAAAAGATTTTTGGCACTTACAATTTTTAAAATAGTTTATGTCATCTCTTCATTATTTAGGGCTGGATGGTCAACTCAGTCAGTGATTTTTTGATGCTTCTCTTATCCTCCAGAATAGAGACCTAAGGACACGTGGAAGTCAGTTTAATTGCCAGAGAGAAGGATGCAATCACTAGGTAAAATGAGGTTTTTA</td>\n",
              "    </tr>\n",
              "    <tr>\n",
              "      <th>1</th>\n",
              "      <td>17</td>\n",
              "      <td>8289582</td>\n",
              "      <td>8289781</td>\n",
              "      <td>AGCCCCCGTAAGGAGGAAGGAACGGGCGGGTATCTCATGACTGGGTTCCCAGGAGAATCGGGCTGGGAGGGACAGAACAGGGAGACTCACTGGTGGGATCCTCCAAGGAAGCAGGAGTGGGCCAGAGGTTTGGGGTAACTGATACCCAGGTCCTCTGGGGAACAGGAATTGGCAATTTCCAAACCTCAGGCCTGGATGAT</td>\n",
              "    </tr>\n",
              "    <tr>\n",
              "      <th>2</th>\n",
              "      <td>3</td>\n",
              "      <td>100455979</td>\n",
              "      <td>100456178</td>\n",
              "      <td>TGAGCCCCAATTCACCATTTCAGGATGTGGATGGGGGCGGGGTTGGGGGTAAAAACAGCTATAAAAAGCAACTGCAGATGCTGACTGACTGCAGTGGGCAGGGTATGTAGCTGCTCCAAGATGACTTGCATCATACCCCAATTACTGCTGGCATCTTAGTTGAGAGTATAATCTGCTTGGTTGCCTTTTTATGGGAATAA</td>\n",
              "    </tr>\n",
              "    <tr>\n",
              "      <th>3</th>\n",
              "      <td>10</td>\n",
              "      <td>94852754</td>\n",
              "      <td>94852953</td>\n",
              "      <td>AGGGCCTGGCCCGCATGGAGCTGTTTTTATTCCTGACCTTCATTTTACAGAACTTTAACCTGAAATCTCTGATTGACCCAAAGGACCTTGACACAACTCCTGTTGTCAATGGATTTGCTTCTGTCCCGCCCTTCTATCAGCTGTGCTTCATTCCTGTCTGAAGAAGCACAGATGGTCTGGCTGCTCCTGTGCTGTCCCTG</td>\n",
              "    </tr>\n",
              "    <tr>\n",
              "      <th>4</th>\n",
              "      <td>1</td>\n",
              "      <td>209756085</td>\n",
              "      <td>209756284</td>\n",
              "      <td>GGGTTTGCGAACCTTGTGGCTTTGTCTGTTTCCTGTTTCAGCAAGGCTGCTGTGCAAAAAGAAAGACGGTACCAAGAAGGGACGTGTTAATGGGGCCCAGACCTATGGATTGAAAGCGTGTGCTTTACCCATCTGCTGTCTTGCTCCATCTGAGACCAGAGCCAAGATCTGCCCAGGACTGGAATGCTTTCCCGAGTGGC</td>\n",
              "    </tr>\n",
              "  </tbody>\n",
              "</table>\n",
              "</div>"
            ],
            "text/plain": [
              "  chr  ...                                                                                                                                                                                                       seq\n",
              "0   1  ...  GACTACCCAAAAGATTTTTGGCACTTACAATTTTTAAAATAGTTTATGTCATCTCTTCATTATTTAGGGCTGGATGGTCAACTCAGTCAGTGATTTTTTGATGCTTCTCTTATCCTCCAGAATAGAGACCTAAGGACACGTGGAAGTCAGTTTAATTGCCAGAGAGAAGGATGCAATCACTAGGTAAAATGAGGTTTTTA\n",
              "1  17  ...  AGCCCCCGTAAGGAGGAAGGAACGGGCGGGTATCTCATGACTGGGTTCCCAGGAGAATCGGGCTGGGAGGGACAGAACAGGGAGACTCACTGGTGGGATCCTCCAAGGAAGCAGGAGTGGGCCAGAGGTTTGGGGTAACTGATACCCAGGTCCTCTGGGGAACAGGAATTGGCAATTTCCAAACCTCAGGCCTGGATGAT\n",
              "2   3  ...  TGAGCCCCAATTCACCATTTCAGGATGTGGATGGGGGCGGGGTTGGGGGTAAAAACAGCTATAAAAAGCAACTGCAGATGCTGACTGACTGCAGTGGGCAGGGTATGTAGCTGCTCCAAGATGACTTGCATCATACCCCAATTACTGCTGGCATCTTAGTTGAGAGTATAATCTGCTTGGTTGCCTTTTTATGGGAATAA\n",
              "3  10  ...  AGGGCCTGGCCCGCATGGAGCTGTTTTTATTCCTGACCTTCATTTTACAGAACTTTAACCTGAAATCTCTGATTGACCCAAAGGACCTTGACACAACTCCTGTTGTCAATGGATTTGCTTCTGTCCCGCCCTTCTATCAGCTGTGCTTCATTCCTGTCTGAAGAAGCACAGATGGTCTGGCTGCTCCTGTGCTGTCCCTG\n",
              "4   1  ...  GGGTTTGCGAACCTTGTGGCTTTGTCTGTTTCCTGTTTCAGCAAGGCTGCTGTGCAAAAAGAAAGACGGTACCAAGAAGGGACGTGTTAATGGGGCCCAGACCTATGGATTGAAAGCGTGTGCTTTACCCATCTGCTGTCTTGCTCCATCTGAGACCAGAGCCAAGATCTGCCCAGGACTGGAATGCTTTCCCGAGTGGC\n",
              "\n",
              "[5 rows x 4 columns]"
            ]
          },
          "metadata": {
            "tags": []
          },
          "execution_count": 5
        }
      ]
    },
    {
      "cell_type": "code",
      "metadata": {
        "id": "V-WYDE4wvZEA",
        "colab_type": "code",
        "colab": {}
      },
      "source": [
        "!rm -rf split_tok\n",
        "\n",
        "!rm -rf split\n",
        "!mkdir split\n",
        "!mkdir split/train\n",
        "!mkdir split/valid\n",
        "!mkdir split/train/1/\n",
        "!mkdir split/valid/1/"
      ],
      "execution_count": 6,
      "outputs": []
    },
    {
      "cell_type": "code",
      "metadata": {
        "id": "5KII2R0JvkQT",
        "colab_type": "code",
        "colab": {}
      },
      "source": [
        "# splitting the file into training and test part\n",
        "N = len(dt.seq)\n",
        "\n",
        "for i, s in enumerate(train.seq):\n",
        "  open(\"split/train/1/seq\"+str(i)+\".txt\", 'w').writelines([s])\n",
        "for i, s in enumerate(test.seq):\n",
        "  open(\"split/valid/1/seq\"+str(i)+\".txt\", 'w').writelines([s])"
      ],
      "execution_count": 7,
      "outputs": []
    },
    {
      "cell_type": "markdown",
      "metadata": {
        "id": "DsWZp8dnxSqa",
        "colab_type": "text"
      },
      "source": [
        "## Tokenizer"
      ]
    },
    {
      "cell_type": "code",
      "metadata": {
        "id": "GbRbPRbJv0VB",
        "colab_type": "code",
        "colab": {
          "base_uri": "https://localhost:8080/",
          "height": 217
        },
        "outputId": "08d86afd-e053-422f-8a1c-76f85e29c467"
      },
      "source": [
        "!wget https://raw.githubusercontent.com/simecek/PseudoDNA_Generator/master/models/genomic_tokenizer2.py"
      ],
      "execution_count": 8,
      "outputs": [
        {
          "output_type": "stream",
          "text": [
            "--2020-06-27 16:01:30--  https://raw.githubusercontent.com/simecek/PseudoDNA_Generator/master/models/genomic_tokenizer2.py\n",
            "Resolving raw.githubusercontent.com (raw.githubusercontent.com)... 151.101.0.133, 151.101.64.133, 151.101.128.133, ...\n",
            "Connecting to raw.githubusercontent.com (raw.githubusercontent.com)|151.101.0.133|:443... connected.\n",
            "HTTP request sent, awaiting response... 200 OK\n",
            "Length: 565 [text/plain]\n",
            "Saving to: ‘genomic_tokenizer2.py’\n",
            "\n",
            "\rgenomic_tokenizer2.   0%[                    ]       0  --.-KB/s               \rgenomic_tokenizer2. 100%[===================>]     565  --.-KB/s    in 0s      \n",
            "\n",
            "2020-06-27 16:01:31 (28.4 MB/s) - ‘genomic_tokenizer2.py’ saved [565/565]\n",
            "\n"
          ],
          "name": "stdout"
        }
      ]
    },
    {
      "cell_type": "code",
      "metadata": {
        "id": "Qm5Dgbicxa_Z",
        "colab_type": "code",
        "colab": {}
      },
      "source": [
        "from genomic_tokenizer2 import tkn2"
      ],
      "execution_count": 9,
      "outputs": []
    },
    {
      "cell_type": "markdown",
      "metadata": {
        "id": "bMNqgj9n1TEw",
        "colab_type": "text"
      },
      "source": [
        "## Data Loaders"
      ]
    },
    {
      "cell_type": "code",
      "metadata": {
        "id": "zFgyggiNxlz_",
        "colab_type": "code",
        "colab": {}
      },
      "source": [
        "dls_lm = TextDataLoaders.from_folder(Path(\"./split\"), bs=128, seed=42, \n",
        "                                   is_lm=True, \n",
        "                                   tok_tfm=tkn2, seq_len=50)"
      ],
      "execution_count": 10,
      "outputs": []
    },
    {
      "cell_type": "code",
      "metadata": {
        "id": "TmftEQ6bx42-",
        "colab_type": "code",
        "colab": {
          "base_uri": "https://localhost:8080/",
          "height": 474
        },
        "outputId": "effa59e5-1b55-4b87-c19b-9d3e462151ad"
      },
      "source": [
        "dls_lm.show_batch()"
      ],
      "execution_count": 11,
      "outputs": [
        {
          "output_type": "display_data",
          "data": {
            "text/html": [
              "<table border=\"1\" class=\"dataframe\">\n",
              "  <thead>\n",
              "    <tr style=\"text-align: right;\">\n",
              "      <th></th>\n",
              "      <th>text</th>\n",
              "      <th>text_</th>\n",
              "    </tr>\n",
              "  </thead>\n",
              "  <tbody>\n",
              "    <tr>\n",
              "      <th>0</th>\n",
              "      <td>C A A C C A G C C A G T C C C T G G T G A G A G G A C T C A G G T G C C C T T T C C T T T G G C C T</td>\n",
              "      <td>A A C C A G C C A G T C C C T G G T G A G A G G A C T C A G G T G C C C T T T C C T T T G G C C T G</td>\n",
              "    </tr>\n",
              "    <tr>\n",
              "      <th>1</th>\n",
              "      <td>C A A G C C C T G G G C T A G G G A C G C C T G C G G G A G T T C A C G G G G A G G C G C C G G T G</td>\n",
              "      <td>A A G C C C T G G G C T A G G G A C G C C T G C G G G A G T T C A C G G G G A G G C G C C G G T G T</td>\n",
              "    </tr>\n",
              "    <tr>\n",
              "      <th>2</th>\n",
              "      <td>G C C T C C A G G G A C T G A G C C C C A T G C T C A A A C C A G C C C C A A C C T G C C C C T G C</td>\n",
              "      <td>C C T C C A G G G A C T G A G C C C C A T G C T C A A A C C A G C C C C A A C C T G C C C C T G C A</td>\n",
              "    </tr>\n",
              "    <tr>\n",
              "      <th>3</th>\n",
              "      <td>G G G C C G C G G G T G C G G C A G G G C G C A G G G C A G C A C C C A G A G C C C C G G C C A G C</td>\n",
              "      <td>G G C C G C G G G T G C G G C A G G G C G C A G G G C A G C A C C C A G A G C C C C G G C C A G C G</td>\n",
              "    </tr>\n",
              "    <tr>\n",
              "      <th>4</th>\n",
              "      <td>T C A T A T G A A G A C A G A T G C T T C A A A C A A C C T G C A T T A A A T T A T A T T T T T A A</td>\n",
              "      <td>C A T A T G A A G A C A G A T G C T T C A A A C A A C C T G C A T T A A A T T A T A T T T T T A A T</td>\n",
              "    </tr>\n",
              "    <tr>\n",
              "      <th>5</th>\n",
              "      <td>T A G T G T T T G G T T T C T G G T A A T A T A T T G T A T A T C T G A G T T G C A C T C T G G G C</td>\n",
              "      <td>A G T G T T T G G T T T C T G G T A A T A T A T T G T A T A T C T G A G T T G C A C T C T G G G C T</td>\n",
              "    </tr>\n",
              "    <tr>\n",
              "      <th>6</th>\n",
              "      <td>G T T T T T A C T T T C A A A A A T C C A T G G G A G A A T A C A T G G T A T G T C G T T A A A A G</td>\n",
              "      <td>T T T T T A C T T T C A A A A A T C C A T G G G A G A A T A C A T G G T A T G T C G T T A A A A G C</td>\n",
              "    </tr>\n",
              "    <tr>\n",
              "      <th>7</th>\n",
              "      <td>T T C T G T T A G G T G G G A A A C T T T C A G C G A C A A T T G G C A G A A G C T A A A G A A G A</td>\n",
              "      <td>T C T G T T A G G T G G G A A A C T T T C A G C G A C A A T T G G C A G A A G C T A A A G A A G A C</td>\n",
              "    </tr>\n",
              "    <tr>\n",
              "      <th>8</th>\n",
              "      <td>C T A T A G T T C T C A G A A A C A A T T C A T T T C T T C A G C T T T T C A T G C A C A G C T G G</td>\n",
              "      <td>T A T A G T T C T C A G A A A C A A T T C A T T T C T T C A G C T T T T C A T G C A C A G C T G G A</td>\n",
              "    </tr>\n",
              "  </tbody>\n",
              "</table>"
            ],
            "text/plain": [
              "<IPython.core.display.HTML object>"
            ]
          },
          "metadata": {
            "tags": []
          }
        }
      ]
    },
    {
      "cell_type": "markdown",
      "metadata": {
        "id": "7sr_NFaB1uHH",
        "colab_type": "text"
      },
      "source": [
        "## Model and Learning"
      ]
    },
    {
      "cell_type": "code",
      "metadata": {
        "id": "xcOLVeQk0tJ8",
        "colab_type": "code",
        "colab": {}
      },
      "source": [
        "learn = language_model_learner(\n",
        "    dls_lm, AWD_LSTM, drop_mult=0.3, pretrained=False, \n",
        "    metrics=[accuracy, Perplexity()])"
      ],
      "execution_count": 12,
      "outputs": []
    },
    {
      "cell_type": "code",
      "metadata": {
        "id": "dZOgoDpnPl2E",
        "colab_type": "code",
        "colab": {
          "base_uri": "https://localhost:8080/",
          "height": 301
        },
        "outputId": "ab33feaf-15c4-4567-e9bf-4404c32909df"
      },
      "source": [
        "learn.lr_find()"
      ],
      "execution_count": 13,
      "outputs": [
        {
          "output_type": "display_data",
          "data": {
            "text/html": [
              ""
            ],
            "text/plain": [
              "<IPython.core.display.HTML object>"
            ]
          },
          "metadata": {
            "tags": []
          }
        },
        {
          "output_type": "execute_result",
          "data": {
            "text/plain": [
              "SuggestedLRs(lr_min=0.04365158379077912, lr_steep=0.0006918309954926372)"
            ]
          },
          "metadata": {
            "tags": []
          },
          "execution_count": 13
        },
        {
          "output_type": "display_data",
          "data": {
            "image/png": "[encoded data removed]",
            "text/plain": [
              "<Figure size 432x288 with 1 Axes>"
            ]
          },
          "metadata": {
            "tags": [],
            "needs_background": "light"
          }
        }
      ]
    },
    {
      "cell_type": "code",
      "metadata": {
        "id": "GdWkfIiG11dd",
        "colab_type": "code",
        "colab": {
          "base_uri": "https://localhost:8080/",
          "height": 198
        },
        "outputId": "7f942d13-dd61-4624-ff9a-c8342d6cd72e"
      },
      "source": [
        "learn.fit_one_cycle(5, 1e-2)\n",
        "learn.export(\"/content/drive/My Drive/DNAModels/Exons/Exons_AWD_LSTM_v0.pkl\")"
      ],
      "execution_count": 14,
      "outputs": [
        {
          "output_type": "display_data",
          "data": {
            "text/html": [
              "<table border=\"1\" class=\"dataframe\">\n",
              "  <thead>\n",
              "    <tr style=\"text-align: left;\">\n",
              "      <th>epoch</th>\n",
              "      <th>train_loss</th>\n",
              "      <th>valid_loss</th>\n",
              "      <th>accuracy</th>\n",
              "      <th>perplexity</th>\n",
              "      <th>time</th>\n",
              "    </tr>\n",
              "  </thead>\n",
              "  <tbody>\n",
              "    <tr>\n",
              "      <td>0</td>\n",
              "      <td>1.329496</td>\n",
              "      <td>1.325994</td>\n",
              "      <td>0.348917</td>\n",
              "      <td>3.765925</td>\n",
              "      <td>05:43</td>\n",
              "    </tr>\n",
              "    <tr>\n",
              "      <td>1</td>\n",
              "      <td>1.322612</td>\n",
              "      <td>1.321174</td>\n",
              "      <td>0.353330</td>\n",
              "      <td>3.747818</td>\n",
              "      <td>05:42</td>\n",
              "    </tr>\n",
              "    <tr>\n",
              "      <td>2</td>\n",
              "      <td>1.320676</td>\n",
              "      <td>1.318863</td>\n",
              "      <td>0.356075</td>\n",
              "      <td>3.739167</td>\n",
              "      <td>05:42</td>\n",
              "    </tr>\n",
              "    <tr>\n",
              "      <td>3</td>\n",
              "      <td>1.318148</td>\n",
              "      <td>1.316822</td>\n",
              "      <td>0.357660</td>\n",
              "      <td>3.731543</td>\n",
              "      <td>05:42</td>\n",
              "    </tr>\n",
              "    <tr>\n",
              "      <td>4</td>\n",
              "      <td>1.318683</td>\n",
              "      <td>1.316181</td>\n",
              "      <td>0.358742</td>\n",
              "      <td>3.729153</td>\n",
              "      <td>05:43</td>\n",
              "    </tr>\n",
              "  </tbody>\n",
              "</table>"
            ],
            "text/plain": [
              "<IPython.core.display.HTML object>"
            ]
          },
          "metadata": {
            "tags": []
          }
        }
      ]
    }
  ]
}