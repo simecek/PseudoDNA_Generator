{
  "nbformat": 4,
  "nbformat_minor": 0,
  "metadata": {
    "colab": {
      "name": "Transcripts_AWD_LSTM_v0.ipynb",
      "provenance": [],
      "collapsed_sections": [],
      "toc_visible": true,
      "include_colab_link": true
    },
    "kernelspec": {
      "name": "python3",
      "display_name": "Python 3"
    },
    "accelerator": "GPU"
  },
  "cells": [
    {
      "cell_type": "markdown",
      "metadata": {
        "id": "view-in-github",
        "colab_type": "text"
      },
      "source": [
        "<a href=\"https://colab.research.google.com/github/simecek/PseudoDNA_Generator/blob/master/models/Transcripts_AWD_LSTM_v0.ipynb\" target=\"_parent\"><img src=\"https://colab.research.google.com/assets/colab-badge.svg\" alt=\"Open In Colab\"/></a>"
      ]
    },
    {
      "cell_type": "markdown",
      "metadata": {
        "id": "y8NYCcZxvM2P",
        "colab_type": "text"
      },
      "source": [
        "## Setup"
      ]
    },
    {
      "cell_type": "code",
      "metadata": {
        "id": "NeFnR_pcvEED",
        "colab_type": "code",
        "colab": {}
      },
      "source": [
        "!pip install fastai2>=0.0.11 ipywidgets matplotlib nbdev>=0.2.12 pandas scikit_learn sentencepiece"
      ],
      "execution_count": 1,
      "outputs": []
    },
    {
      "cell_type": "code",
      "metadata": {
        "id": "ExfZF-bTvSkj",
        "colab_type": "code",
        "colab": {}
      },
      "source": [
        "from fastai2.text.all import *\n",
        "import pandas as pd\n",
        "import torch"
      ],
      "execution_count": 2,
      "outputs": []
    },
    {
      "cell_type": "code",
      "metadata": {
        "id": "ERTuSw3U-Yxu",
        "colab_type": "code",
        "colab": {
          "base_uri": "https://localhost:8080/",
          "height": 35
        },
        "outputId": "baf9b2f0-6cf5-487e-9afc-15badd7bf3f1"
      },
      "source": [
        "torch.cuda.is_available(), torch.cuda.device_count(), torch.cuda.get_device_name(0)"
      ],
      "execution_count": 3,
      "outputs": [
        {
          "output_type": "execute_result",
          "data": {
            "text/plain": [
              "(True, 1, 'Tesla P100-PCIE-16GB')"
            ]
          },
          "metadata": {
            "tags": []
          },
          "execution_count": 3
        }
      ]
    },
    {
      "cell_type": "code",
      "metadata": {
        "id": "qkgkc8rNQCwY",
        "colab_type": "code",
        "colab": {
          "base_uri": "https://localhost:8080/",
          "height": 128
        },
        "outputId": "e1116dbe-4d31-4534-f1e0-e263c189575a"
      },
      "source": [
        "# Mount to your Google Drive allowing lesson files will be saved to your Drive location\n",
        "from google.colab import drive\n",
        "drive.mount('/content/drive')"
      ],
      "execution_count": 4,
      "outputs": [
        {
          "output_type": "stream",
          "text": [
            "Go to this URL in a browser: https://accounts.google.com/o/oauth2/auth?client_id=947318989803-6bn6qk8qdgf4n4g3pfee6491hc0brc4i.apps.googleusercontent.com&redirect_uri=urn%3aietf%3awg%3aoauth%3a2.0%3aoob&response_type=code&scope=email%20https%3a%2f%2fwww.googleapis.com%2fauth%2fdocs.test%20https%3a%2f%2fwww.googleapis.com%2fauth%2fdrive%20https%3a%2f%2fwww.googleapis.com%2fauth%2fdrive.photos.readonly%20https%3a%2f%2fwww.googleapis.com%2fauth%2fpeopleapi.readonly\n",
            "\n",
            "Enter your authorization code:\n",
            "··········\n",
            "Mounted at /content/drive\n"
          ],
          "name": "stdout"
        }
      ]
    },
    {
      "cell_type": "code",
      "metadata": {
        "id": "uAMnbJuNxBkU",
        "colab_type": "code",
        "colab": {
          "base_uri": "https://localhost:8080/",
          "height": 236
        },
        "outputId": "20986739-20e5-4d78-f9eb-de619f43c49b"
      },
      "source": [
        "dt = pd.read_csv(\"/content/drive/My Drive/data/random/random_transcripts.csv\")\n",
        "dt = dt[~dt.seq.str.contains(\"N\")]   # just for sure\n",
        "\n",
        "train = dt[dt.chr!=\"1\"]\n",
        "test = dt[dt.chr==\"1\"]\n",
        "\n",
        "print(dt.shape, train.shape, test.shape)\n",
        "dt.head()"
      ],
      "execution_count": 6,
      "outputs": [
        {
          "output_type": "stream",
          "text": [
            "(50000, 5) (45079, 5) (4921, 5)\n"
          ],
          "name": "stdout"
        },
        {
          "output_type": "execute_result",
          "data": {
            "text/html": [
              "<div>\n",
              "<style scoped>\n",
              "    .dataframe tbody tr th:only-of-type {\n",
              "        vertical-align: middle;\n",
              "    }\n",
              "\n",
              "    .dataframe tbody tr th {\n",
              "        vertical-align: top;\n",
              "    }\n",
              "\n",
              "    .dataframe thead th {\n",
              "        text-align: right;\n",
              "    }\n",
              "</style>\n",
              "<table border=\"1\" class=\"dataframe\">\n",
              "  <thead>\n",
              "    <tr style=\"text-align: right;\">\n",
              "      <th></th>\n",
              "      <th>id</th>\n",
              "      <th>chr</th>\n",
              "      <th>random_start</th>\n",
              "      <th>random_end</th>\n",
              "      <th>seq</th>\n",
              "    </tr>\n",
              "  </thead>\n",
              "  <tbody>\n",
              "    <tr>\n",
              "      <th>0</th>\n",
              "      <td>ENST00000443659</td>\n",
              "      <td>3</td>\n",
              "      <td>294</td>\n",
              "      <td>493</td>\n",
              "      <td>CTTCTGAAGAAAGAAATCGATAAGTTCAAAGACAAAAAAGAGGTAGCAATTGTGGTATTAGGAAACAAAATCGACCTTTCTGAGCAGAGACAAGTGGACGCTGAAGTGGCACAGCAGTGGGCAAAAAGTGAGAAAGTAAGACTGTGGGAGGTGACTGTTACAGATCGGAAAACTCTGATTGAACCATTCACTTTATTAGC</td>\n",
              "    </tr>\n",
              "    <tr>\n",
              "      <th>1</th>\n",
              "      <td>ENST00000458477</td>\n",
              "      <td>12</td>\n",
              "      <td>647</td>\n",
              "      <td>846</td>\n",
              "      <td>CTGCACCCACTGCCAGGAGGAGATCGGATCCCGGAACTTCTTCGAGCGGGATGGACAGCCCTACTGTGAAAAGGACTACCACAACCTCTTCTCCCCGCGCTGCTACTACTGCAACGGCCCCATCCTGGATAAAGTGGTGACAGCCCTTGACCGGACGTGGCACCCTGAACACTTCTTCTGTGCACAGTGTGGAGCCTTCT</td>\n",
              "    </tr>\n",
              "    <tr>\n",
              "      <th>2</th>\n",
              "      <td>ENST00000610355</td>\n",
              "      <td>4</td>\n",
              "      <td>1042</td>\n",
              "      <td>1241</td>\n",
              "      <td>GTAGTCAATGTGAACCAATTACATTGGAACTCTGCATGAATTTGCCCTACAACAGTACAAGTTATCCAAATTATTTTGGCCACAGGACTCAAAAGGAAGCATCCATCAGCTGGGAGTCTTCTCTTTTCCCTGCACTTGTTCAAACCAACTGTTATAAATACCTCATGTTCTTTTCTTGCACCATTTTGGTACCAAAATGT</td>\n",
              "    </tr>\n",
              "    <tr>\n",
              "      <th>3</th>\n",
              "      <td>ENST00000536187</td>\n",
              "      <td>12</td>\n",
              "      <td>1055</td>\n",
              "      <td>1254</td>\n",
              "      <td>GGAGGTTTACTGGCGGGCCACGCACCACCCAGCCCCTGGCCCCGGACTTCTGGGTCCTCCCAGTGCCATCCCCGGACTTCAGAACCAGCAGCTGCTGGGGGAGCGTGGCGAGGAGCACTCCCCCCTTGAGCGGGACAGCTTGATGCCCTCTGATGAGGCCAGCGAGAGCTCCCGCCAAGCCTGGACAGGATCTTCACAGC</td>\n",
              "    </tr>\n",
              "    <tr>\n",
              "      <th>4</th>\n",
              "      <td>ENST00000561718</td>\n",
              "      <td>16</td>\n",
              "      <td>109</td>\n",
              "      <td>308</td>\n",
              "      <td>ATGAAGCCGAGAAGGCGCTGAAGCACATGGATGGAGGACAAATTGATGGCCAGGAGATCACTGCCACCGCCGTGCTGGCCCCCTGGCCTAGGCCACCCCCCAGGAGATTCAGCCCTCCCAGGAGAATGTTGCCACCACCGCCTATGTGGCGCAGGTCTCCCCCACGGATGAGGAGAAGGTCCCGCTCCCCGAGGCGCAGG</td>\n",
              "    </tr>\n",
              "  </tbody>\n",
              "</table>\n",
              "</div>"
            ],
            "text/plain": [
              "                id  ...                                                                                                                                                                                                       seq\n",
              "0  ENST00000443659  ...  CTTCTGAAGAAAGAAATCGATAAGTTCAAAGACAAAAAAGAGGTAGCAATTGTGGTATTAGGAAACAAAATCGACCTTTCTGAGCAGAGACAAGTGGACGCTGAAGTGGCACAGCAGTGGGCAAAAAGTGAGAAAGTAAGACTGTGGGAGGTGACTGTTACAGATCGGAAAACTCTGATTGAACCATTCACTTTATTAGC\n",
              "1  ENST00000458477  ...  CTGCACCCACTGCCAGGAGGAGATCGGATCCCGGAACTTCTTCGAGCGGGATGGACAGCCCTACTGTGAAAAGGACTACCACAACCTCTTCTCCCCGCGCTGCTACTACTGCAACGGCCCCATCCTGGATAAAGTGGTGACAGCCCTTGACCGGACGTGGCACCCTGAACACTTCTTCTGTGCACAGTGTGGAGCCTTCT\n",
              "2  ENST00000610355  ...  GTAGTCAATGTGAACCAATTACATTGGAACTCTGCATGAATTTGCCCTACAACAGTACAAGTTATCCAAATTATTTTGGCCACAGGACTCAAAAGGAAGCATCCATCAGCTGGGAGTCTTCTCTTTTCCCTGCACTTGTTCAAACCAACTGTTATAAATACCTCATGTTCTTTTCTTGCACCATTTTGGTACCAAAATGT\n",
              "3  ENST00000536187  ...  GGAGGTTTACTGGCGGGCCACGCACCACCCAGCCCCTGGCCCCGGACTTCTGGGTCCTCCCAGTGCCATCCCCGGACTTCAGAACCAGCAGCTGCTGGGGGAGCGTGGCGAGGAGCACTCCCCCCTTGAGCGGGACAGCTTGATGCCCTCTGATGAGGCCAGCGAGAGCTCCCGCCAAGCCTGGACAGGATCTTCACAGC\n",
              "4  ENST00000561718  ...  ATGAAGCCGAGAAGGCGCTGAAGCACATGGATGGAGGACAAATTGATGGCCAGGAGATCACTGCCACCGCCGTGCTGGCCCCCTGGCCTAGGCCACCCCCCAGGAGATTCAGCCCTCCCAGGAGAATGTTGCCACCACCGCCTATGTGGCGCAGGTCTCCCCCACGGATGAGGAGAAGGTCCCGCTCCCCGAGGCGCAGG\n",
              "\n",
              "[5 rows x 5 columns]"
            ]
          },
          "metadata": {
            "tags": []
          },
          "execution_count": 6
        }
      ]
    },
    {
      "cell_type": "code",
      "metadata": {
        "id": "V-WYDE4wvZEA",
        "colab_type": "code",
        "colab": {}
      },
      "source": [
        "!rm -rf split_tok\n",
        "\n",
        "!rm -rf split\n",
        "!mkdir split\n",
        "!mkdir split/train\n",
        "!mkdir split/valid\n",
        "!mkdir split/train/1/\n",
        "!mkdir split/valid/1/"
      ],
      "execution_count": 8,
      "outputs": []
    },
    {
      "cell_type": "code",
      "metadata": {
        "id": "5KII2R0JvkQT",
        "colab_type": "code",
        "colab": {}
      },
      "source": [
        "# splitting the file into training and test part\n",
        "N = len(dt.seq)\n",
        "\n",
        "for i, s in enumerate(train.seq):\n",
        "  open(\"split/train/1/seq\"+str(i)+\".txt\", 'w').writelines([s])\n",
        "for i, s in enumerate(test.seq):\n",
        "  open(\"split/valid/1/seq\"+str(i)+\".txt\", 'w').writelines([s])"
      ],
      "execution_count": 9,
      "outputs": []
    },
    {
      "cell_type": "markdown",
      "metadata": {
        "id": "DsWZp8dnxSqa",
        "colab_type": "text"
      },
      "source": [
        "## Tokenizer"
      ]
    },
    {
      "cell_type": "code",
      "metadata": {
        "id": "GbRbPRbJv0VB",
        "colab_type": "code",
        "colab": {
          "base_uri": "https://localhost:8080/",
          "height": 217
        },
        "outputId": "7d4bc437-1ded-4020-feb1-e579bc7bc392"
      },
      "source": [
        "!wget https://raw.githubusercontent.com/simecek/PseudoDNA_Generator/master/models/genomic_tokenizer2.py"
      ],
      "execution_count": 10,
      "outputs": [
        {
          "output_type": "stream",
          "text": [
            "--2020-06-29 12:22:09--  https://raw.githubusercontent.com/simecek/PseudoDNA_Generator/master/models/genomic_tokenizer2.py\n",
            "Resolving raw.githubusercontent.com (raw.githubusercontent.com)... 151.101.0.133, 151.101.64.133, 151.101.128.133, ...\n",
            "Connecting to raw.githubusercontent.com (raw.githubusercontent.com)|151.101.0.133|:443... connected.\n",
            "HTTP request sent, awaiting response... 200 OK\n",
            "Length: 565 [text/plain]\n",
            "Saving to: ‘genomic_tokenizer2.py’\n",
            "\n",
            "\rgenomic_tokenizer2.   0%[                    ]       0  --.-KB/s               \rgenomic_tokenizer2. 100%[===================>]     565  --.-KB/s    in 0s      \n",
            "\n",
            "2020-06-29 12:22:09 (40.7 MB/s) - ‘genomic_tokenizer2.py’ saved [565/565]\n",
            "\n"
          ],
          "name": "stdout"
        }
      ]
    },
    {
      "cell_type": "code",
      "metadata": {
        "id": "Qm5Dgbicxa_Z",
        "colab_type": "code",
        "colab": {}
      },
      "source": [
        "from genomic_tokenizer2 import tkn2"
      ],
      "execution_count": 11,
      "outputs": []
    },
    {
      "cell_type": "markdown",
      "metadata": {
        "id": "bMNqgj9n1TEw",
        "colab_type": "text"
      },
      "source": [
        "## Data Loaders"
      ]
    },
    {
      "cell_type": "code",
      "metadata": {
        "id": "zFgyggiNxlz_",
        "colab_type": "code",
        "colab": {}
      },
      "source": [
        "dls_lm = TextDataLoaders.from_folder(Path(\"./split\"), bs=128, seed=42, \n",
        "                                   is_lm=True, \n",
        "                                   tok_tfm=tkn2, seq_len=50)"
      ],
      "execution_count": 12,
      "outputs": []
    },
    {
      "cell_type": "code",
      "metadata": {
        "id": "TmftEQ6bx42-",
        "colab_type": "code",
        "colab": {
          "base_uri": "https://localhost:8080/",
          "height": 474
        },
        "outputId": "18b0fa4a-5951-4ea3-bf52-51b3212a46d5"
      },
      "source": [
        "dls_lm.show_batch()"
      ],
      "execution_count": 13,
      "outputs": [
        {
          "output_type": "display_data",
          "data": {
            "text/html": [
              "<table border=\"1\" class=\"dataframe\">\n",
              "  <thead>\n",
              "    <tr style=\"text-align: right;\">\n",
              "      <th></th>\n",
              "      <th>text</th>\n",
              "      <th>text_</th>\n",
              "    </tr>\n",
              "  </thead>\n",
              "  <tbody>\n",
              "    <tr>\n",
              "      <th>0</th>\n",
              "      <td>G G T C C G A G G A A A C C A G T C G A T C T A A A C A G A A G A G T C G A C G T C G G T G C T T C</td>\n",
              "      <td>G T C C G A G G A A A C C A G T C G A T C T A A A C A G A A G A G T C G A C G T C G G T G C T T C C</td>\n",
              "    </tr>\n",
              "    <tr>\n",
              "      <th>1</th>\n",
              "      <td>A G A T C G A G G C T C G C T A C A G C A C T G G A T T A G C T G G A A A C C T C C T G G G A G A C</td>\n",
              "      <td>G A T C G A G G C T C G C T A C A G C A C T G G A T T A G C T G G A A A C C T C C T G G G A G A C C</td>\n",
              "    </tr>\n",
              "    <tr>\n",
              "      <th>2</th>\n",
              "      <td>G A G A T T G T A T G G A G T C C G T G G G C T C C G T C T A C A G T G G C C T G A T G C A G G G A</td>\n",
              "      <td>A G A T T G T A T G G A G T C C G T G G G C T C C G T C T A C A G T G G C C T G A T G C A G G G A G</td>\n",
              "    </tr>\n",
              "    <tr>\n",
              "      <th>3</th>\n",
              "      <td>A A G A A T A A C T G T G T G A T G C C T G A A G A T G T G A A G A A C T T T T A C C T G A T G A C</td>\n",
              "      <td>A G A A T A A C T G T G T G A T G C C T G A A G A T G T G A A G A A C T T T T A C C T G A T G A C C</td>\n",
              "    </tr>\n",
              "    <tr>\n",
              "      <th>4</th>\n",
              "      <td>C T G G C C A A C A A G C A C C T G G C C A T C G G C C T G G T G C A C A A C G G C C A G T A C C G</td>\n",
              "      <td>T G G C C A A C A A G C A C C T G G C C A T C G G C C T G G T G C A C A A C G G C C A G T A C C G C</td>\n",
              "    </tr>\n",
              "    <tr>\n",
              "      <th>5</th>\n",
              "      <td>T C T T C A A A A C C T T C A G A A T C A G G C G T G A G A C T G C A G G A G G A C A T G C A G A A</td>\n",
              "      <td>C T T C A A A A C C T T C A G A A T C A G G C G T G A G A C T G C A G G A G G A C A T G C A G A A T</td>\n",
              "    </tr>\n",
              "    <tr>\n",
              "      <th>6</th>\n",
              "      <td>G G G A A G G G A A G T A C C G A G A T G C T G T G A G T A G G T A C C A T C G A G C T C T G C T T</td>\n",
              "      <td>G G A A G G G A A G T A C C G A G A T G C T G T G A G T A G G T A C C A T C G A G C T C T G C T T C</td>\n",
              "    </tr>\n",
              "    <tr>\n",
              "      <th>7</th>\n",
              "      <td>C A T T G T G A A G A A G T C T A C C C G C T C C T T A A G C A C G A C T C A G G T G G A A T C T C</td>\n",
              "      <td>A T T G T G A A G A A G T C T A C C C G C T C C T T A A G C A C G A C T C A G G T G G A A T C T C C</td>\n",
              "    </tr>\n",
              "    <tr>\n",
              "      <th>8</th>\n",
              "      <td>A A T T T T T C A C C A G T C A G G T T A A G C A G A C A C G A G A T T C C C T C C T G A T C C A T</td>\n",
              "      <td>A T T T T T C A C C A G T C A G G T T A A G C A G A C A C G A G A T T C C C T C C T G A T C C A T T</td>\n",
              "    </tr>\n",
              "  </tbody>\n",
              "</table>"
            ],
            "text/plain": [
              "<IPython.core.display.HTML object>"
            ]
          },
          "metadata": {
            "tags": []
          }
        }
      ]
    },
    {
      "cell_type": "markdown",
      "metadata": {
        "id": "7sr_NFaB1uHH",
        "colab_type": "text"
      },
      "source": [
        "## Model and Learning"
      ]
    },
    {
      "cell_type": "code",
      "metadata": {
        "id": "xcOLVeQk0tJ8",
        "colab_type": "code",
        "colab": {}
      },
      "source": [
        "learn = language_model_learner(\n",
        "    dls_lm, AWD_LSTM, drop_mult=0.3, pretrained=False, \n",
        "    metrics=[accuracy, Perplexity()])"
      ],
      "execution_count": 14,
      "outputs": []
    },
    {
      "cell_type": "code",
      "metadata": {
        "id": "dZOgoDpnPl2E",
        "colab_type": "code",
        "colab": {
          "base_uri": "https://localhost:8080/",
          "height": 301
        },
        "outputId": "b6ad78f3-b6aa-46e8-c92c-ef6f0fd813a7"
      },
      "source": [
        "learn.lr_find()"
      ],
      "execution_count": 15,
      "outputs": [
        {
          "output_type": "display_data",
          "data": {
            "text/html": [
              ""
            ],
            "text/plain": [
              "<IPython.core.display.HTML object>"
            ]
          },
          "metadata": {
            "tags": []
          }
        },
        {
          "output_type": "execute_result",
          "data": {
            "text/plain": [
              "SuggestedLRs(lr_min=0.05248074531555176, lr_steep=0.0008317637839354575)"
            ]
          },
          "metadata": {
            "tags": []
          },
          "execution_count": 15
        },
        {
          "output_type": "display_data",
          "data": {
            "image/png": "[encoded data removed]",
            "text/plain": [
              "<Figure size 432x288 with 1 Axes>"
            ]
          },
          "metadata": {
            "tags": [],
            "needs_background": "light"
          }
        }
      ]
    },
    {
      "cell_type": "code",
      "metadata": {
        "id": "GdWkfIiG11dd",
        "colab_type": "code",
        "colab": {
          "base_uri": "https://localhost:8080/",
          "height": 198
        },
        "outputId": "dd43c2df-2eb8-4b92-e40f-3ecc05805614"
      },
      "source": [
        "learn.fit_one_cycle(5, 1e-2)\n",
        "learn.export(\"/content/drive/My Drive/DNAModels/Transcripts/Transcripts_AWD_LSTM_v0.pkl\")"
      ],
      "execution_count": 16,
      "outputs": [
        {
          "output_type": "display_data",
          "data": {
            "text/html": [
              "<table border=\"1\" class=\"dataframe\">\n",
              "  <thead>\n",
              "    <tr style=\"text-align: left;\">\n",
              "      <th>epoch</th>\n",
              "      <th>train_loss</th>\n",
              "      <th>valid_loss</th>\n",
              "      <th>accuracy</th>\n",
              "      <th>perplexity</th>\n",
              "      <th>time</th>\n",
              "    </tr>\n",
              "  </thead>\n",
              "  <tbody>\n",
              "    <tr>\n",
              "      <td>0</td>\n",
              "      <td>1.336237</td>\n",
              "      <td>1.331991</td>\n",
              "      <td>0.352323</td>\n",
              "      <td>3.788581</td>\n",
              "      <td>05:35</td>\n",
              "    </tr>\n",
              "    <tr>\n",
              "      <td>1</td>\n",
              "      <td>1.326261</td>\n",
              "      <td>1.323582</td>\n",
              "      <td>0.359813</td>\n",
              "      <td>3.756854</td>\n",
              "      <td>05:29</td>\n",
              "    </tr>\n",
              "    <tr>\n",
              "      <td>2</td>\n",
              "      <td>1.321742</td>\n",
              "      <td>1.320501</td>\n",
              "      <td>0.362122</td>\n",
              "      <td>3.745297</td>\n",
              "      <td>05:28</td>\n",
              "    </tr>\n",
              "    <tr>\n",
              "      <td>3</td>\n",
              "      <td>1.320836</td>\n",
              "      <td>1.317652</td>\n",
              "      <td>0.364566</td>\n",
              "      <td>3.734642</td>\n",
              "      <td>05:27</td>\n",
              "    </tr>\n",
              "    <tr>\n",
              "      <td>4</td>\n",
              "      <td>1.319646</td>\n",
              "      <td>1.316780</td>\n",
              "      <td>0.365408</td>\n",
              "      <td>3.731386</td>\n",
              "      <td>05:27</td>\n",
              "    </tr>\n",
              "  </tbody>\n",
              "</table>"
            ],
            "text/plain": [
              "<IPython.core.display.HTML object>"
            ]
          },
          "metadata": {
            "tags": []
          }
        }
      ]
    }
  ]
}