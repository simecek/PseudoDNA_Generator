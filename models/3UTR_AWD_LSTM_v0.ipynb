{
  "nbformat": 4,
  "nbformat_minor": 0,
  "metadata": {
    "colab": {
      "name": "3UTR_AWD_LSTM_v0.ipynb",
      "provenance": [],
      "collapsed_sections": [],
      "toc_visible": true,
      "include_colab_link": true
    },
    "kernelspec": {
      "name": "python3",
      "display_name": "Python 3"
    },
    "accelerator": "GPU"
  },
  "cells": [
    {
      "cell_type": "markdown",
      "metadata": {
        "id": "view-in-github",
        "colab_type": "text"
      },
      "source": [
        "<a href=\"https://colab.research.google.com/github/simecek/PseudoDNA_Generator/blob/master/models/3UTR_AWD_LSTM_v0.ipynb\" target=\"_parent\"><img src=\"https://colab.research.google.com/assets/colab-badge.svg\" alt=\"Open In Colab\"/></a>"
      ]
    },
    {
      "cell_type": "markdown",
      "metadata": {
        "id": "y8NYCcZxvM2P",
        "colab_type": "text"
      },
      "source": [
        "## Setup"
      ]
    },
    {
      "cell_type": "code",
      "metadata": {
        "id": "NeFnR_pcvEED",
        "colab_type": "code",
        "colab": {}
      },
      "source": [
        "!pip install fastai2>=0.0.11 ipywidgets matplotlib nbdev>=0.2.12 pandas scikit_learn sentencepiece"
      ],
      "execution_count": 1,
      "outputs": []
    },
    {
      "cell_type": "code",
      "metadata": {
        "id": "ExfZF-bTvSkj",
        "colab_type": "code",
        "colab": {}
      },
      "source": [
        "from fastai2.text.all import *\n",
        "import pandas as pd\n",
        "import torch"
      ],
      "execution_count": 2,
      "outputs": []
    },
    {
      "cell_type": "code",
      "metadata": {
        "id": "ERTuSw3U-Yxu",
        "colab_type": "code",
        "colab": {
          "base_uri": "https://localhost:8080/",
          "height": 35
        },
        "outputId": "751b7780-a556-4777-bf7b-a7a52a50f8be"
      },
      "source": [
        "torch.cuda.is_available(), torch.cuda.device_count(), torch.cuda.get_device_name(0)"
      ],
      "execution_count": 3,
      "outputs": [
        {
          "output_type": "execute_result",
          "data": {
            "text/plain": [
              "(True, 1, 'Tesla P100-PCIE-16GB')"
            ]
          },
          "metadata": {
            "tags": []
          },
          "execution_count": 3
        }
      ]
    },
    {
      "cell_type": "code",
      "metadata": {
        "id": "qkgkc8rNQCwY",
        "colab_type": "code",
        "colab": {
          "base_uri": "https://localhost:8080/",
          "height": 128
        },
        "outputId": "51475a65-e4a5-4a63-b9ec-52c2ed344c53"
      },
      "source": [
        "# Mount to your Google Drive allowing lesson files will be saved to your Drive location\n",
        "from google.colab import drive\n",
        "drive.mount('/content/drive')"
      ],
      "execution_count": 4,
      "outputs": [
        {
          "output_type": "stream",
          "text": [
            "Go to this URL in a browser: https://accounts.google.com/o/oauth2/auth?client_id=947318989803-6bn6qk8qdgf4n4g3pfee6491hc0brc4i.apps.googleusercontent.com&redirect_uri=urn%3aietf%3awg%3aoauth%3a2.0%3aoob&response_type=code&scope=email%20https%3a%2f%2fwww.googleapis.com%2fauth%2fdocs.test%20https%3a%2f%2fwww.googleapis.com%2fauth%2fdrive%20https%3a%2f%2fwww.googleapis.com%2fauth%2fdrive.photos.readonly%20https%3a%2f%2fwww.googleapis.com%2fauth%2fpeopleapi.readonly\n",
            "\n",
            "Enter your authorization code:\n",
            "··········\n",
            "Mounted at /content/drive\n"
          ],
          "name": "stdout"
        }
      ]
    },
    {
      "cell_type": "code",
      "metadata": {
        "id": "uAMnbJuNxBkU",
        "colab_type": "code",
        "colab": {
          "base_uri": "https://localhost:8080/",
          "height": 236
        },
        "outputId": "30c09f99-2135-435e-dfbc-7ea50dcf2b34"
      },
      "source": [
        "dt = pd.read_csv(\"/content/drive/My Drive/data/random/random_3utr.csv\")\n",
        "\n",
        "train = dt[(dt.chr!=\"1\") & ~dt.seq.isna()]\n",
        "test = dt[(dt.chr==\"1\") & ~dt.seq.isna()]\n",
        "\n",
        "print(dt.shape, train.shape, test.shape)\n",
        "dt.head()"
      ],
      "execution_count": 5,
      "outputs": [
        {
          "output_type": "stream",
          "text": [
            "(50000, 5) (45179, 5) (4821, 5)\n"
          ],
          "name": "stdout"
        },
        {
          "output_type": "execute_result",
          "data": {
            "text/html": [
              "<div>\n",
              "<style scoped>\n",
              "    .dataframe tbody tr th:only-of-type {\n",
              "        vertical-align: middle;\n",
              "    }\n",
              "\n",
              "    .dataframe tbody tr th {\n",
              "        vertical-align: top;\n",
              "    }\n",
              "\n",
              "    .dataframe thead th {\n",
              "        text-align: right;\n",
              "    }\n",
              "</style>\n",
              "<table border=\"1\" class=\"dataframe\">\n",
              "  <thead>\n",
              "    <tr style=\"text-align: right;\">\n",
              "      <th></th>\n",
              "      <th>id</th>\n",
              "      <th>chr</th>\n",
              "      <th>random_start</th>\n",
              "      <th>random_end</th>\n",
              "      <th>seq</th>\n",
              "    </tr>\n",
              "  </thead>\n",
              "  <tbody>\n",
              "    <tr>\n",
              "      <th>0</th>\n",
              "      <td>ENST00000552870</td>\n",
              "      <td>12</td>\n",
              "      <td>116</td>\n",
              "      <td>315</td>\n",
              "      <td>AAAACAAGGACTGCAGCCTAAATTCCAAATACCAGAGACTGAAATTTTCAGCCTTGCTAAGGGAACATCTCGATGTTTGAACCTTTGTTGTGTTTTGTACAGGGCATTCTCTGTACTAGTTTGTCGTGGTTATAAAACAATTAGCAGAATAGCCTACATTTGTATTTATTTTCTATTCCATACTTCTGCCCACGTTGTTT</td>\n",
              "    </tr>\n",
              "    <tr>\n",
              "      <th>1</th>\n",
              "      <td>ENST00000496961</td>\n",
              "      <td>1</td>\n",
              "      <td>2645</td>\n",
              "      <td>2844</td>\n",
              "      <td>GGAGTCATTTATATTCTGCAGGAGGAAGGGGCCCCAGCTGTCGCCTTTCTGACCAGCAGGCCTGGAGGGCAGGGGCACAGAGCAGAGAGGAGGGCACTGGTGGTCTCCTGCTTAGCCTGGTCTGACTGCAGTGTAGGGAATAGGTCACCAGGAGGAGCCCTTCATCCTGGCAGGCCGGATTGTGGAGGGACTTCCCTCCC</td>\n",
              "    </tr>\n",
              "    <tr>\n",
              "      <th>2</th>\n",
              "      <td>ENST00000355654</td>\n",
              "      <td>2</td>\n",
              "      <td>428</td>\n",
              "      <td>627</td>\n",
              "      <td>GTAGAGGGTGTTTTCACCTTCCAAGACATGGGGCAAAGTTTGGAGACACCTGGTTGTCACTGGAGGGGGTGGTGCTCCTGGCTTCTCCTGTGGAGCCCGGGGTGATGCATAAAATCCTGTGTGCCTGGGTCAGCCGCATCACAGACAATGACTTGACATGAAATGTCAGCTGTGCTGGGGCAGAGAGACCTTGGAAGGAA</td>\n",
              "    </tr>\n",
              "    <tr>\n",
              "      <th>3</th>\n",
              "      <td>ENST00000616793</td>\n",
              "      <td>5</td>\n",
              "      <td>3835</td>\n",
              "      <td>4034</td>\n",
              "      <td>GGGTTATCACTTAGGTAGAGAGCAAATGTGTTCTCCACTAGTAATAGGAGAAATAAAGTTTGCCAAATAAATTTTGCTGCAGTATTTTGTTTCAACTTTGCTTTCAATTTTAAATAAATCTCTGGCAAACTTGTTCCTTTTTGCCCATTGACTGTCAAATTTTCCTGTAAACCCATTGTGTAATTCTTATGTTTGCTTTA</td>\n",
              "    </tr>\n",
              "    <tr>\n",
              "      <th>4</th>\n",
              "      <td>ENST00000541924</td>\n",
              "      <td>12</td>\n",
              "      <td>508</td>\n",
              "      <td>707</td>\n",
              "      <td>CCCCACGGTGAGCGCCCTGTGCCCCACACAGCAGGAGATGATGATAGAGGTTGGCTGTCAATGGATGCAGGGGAAAGGGGTGCCTGGCAGGCATTGCAGTCTGCATGTGTCTCTGGGACAAGTGTGTTTCCGTGATTGAGGGTGTCTGCAGGCCAGTGTGTTCCCATGTGAATGCACGTATCTGTGTGTGTGCACGACTG</td>\n",
              "    </tr>\n",
              "  </tbody>\n",
              "</table>\n",
              "</div>"
            ],
            "text/plain": [
              "                id  ...                                                                                                                                                                                                       seq\n",
              "0  ENST00000552870  ...  AAAACAAGGACTGCAGCCTAAATTCCAAATACCAGAGACTGAAATTTTCAGCCTTGCTAAGGGAACATCTCGATGTTTGAACCTTTGTTGTGTTTTGTACAGGGCATTCTCTGTACTAGTTTGTCGTGGTTATAAAACAATTAGCAGAATAGCCTACATTTGTATTTATTTTCTATTCCATACTTCTGCCCACGTTGTTT\n",
              "1  ENST00000496961  ...  GGAGTCATTTATATTCTGCAGGAGGAAGGGGCCCCAGCTGTCGCCTTTCTGACCAGCAGGCCTGGAGGGCAGGGGCACAGAGCAGAGAGGAGGGCACTGGTGGTCTCCTGCTTAGCCTGGTCTGACTGCAGTGTAGGGAATAGGTCACCAGGAGGAGCCCTTCATCCTGGCAGGCCGGATTGTGGAGGGACTTCCCTCCC\n",
              "2  ENST00000355654  ...  GTAGAGGGTGTTTTCACCTTCCAAGACATGGGGCAAAGTTTGGAGACACCTGGTTGTCACTGGAGGGGGTGGTGCTCCTGGCTTCTCCTGTGGAGCCCGGGGTGATGCATAAAATCCTGTGTGCCTGGGTCAGCCGCATCACAGACAATGACTTGACATGAAATGTCAGCTGTGCTGGGGCAGAGAGACCTTGGAAGGAA\n",
              "3  ENST00000616793  ...  GGGTTATCACTTAGGTAGAGAGCAAATGTGTTCTCCACTAGTAATAGGAGAAATAAAGTTTGCCAAATAAATTTTGCTGCAGTATTTTGTTTCAACTTTGCTTTCAATTTTAAATAAATCTCTGGCAAACTTGTTCCTTTTTGCCCATTGACTGTCAAATTTTCCTGTAAACCCATTGTGTAATTCTTATGTTTGCTTTA\n",
              "4  ENST00000541924  ...  CCCCACGGTGAGCGCCCTGTGCCCCACACAGCAGGAGATGATGATAGAGGTTGGCTGTCAATGGATGCAGGGGAAAGGGGTGCCTGGCAGGCATTGCAGTCTGCATGTGTCTCTGGGACAAGTGTGTTTCCGTGATTGAGGGTGTCTGCAGGCCAGTGTGTTCCCATGTGAATGCACGTATCTGTGTGTGTGCACGACTG\n",
              "\n",
              "[5 rows x 5 columns]"
            ]
          },
          "metadata": {
            "tags": []
          },
          "execution_count": 5
        }
      ]
    },
    {
      "cell_type": "code",
      "metadata": {
        "id": "V-WYDE4wvZEA",
        "colab_type": "code",
        "colab": {}
      },
      "source": [
        "!rm -rf split_tok\n",
        "\n",
        "!rm -rf split\n",
        "!mkdir split\n",
        "!mkdir split/train\n",
        "!mkdir split/valid\n",
        "!mkdir split/train/1/\n",
        "!mkdir split/valid/1/"
      ],
      "execution_count": 6,
      "outputs": []
    },
    {
      "cell_type": "code",
      "metadata": {
        "id": "5KII2R0JvkQT",
        "colab_type": "code",
        "colab": {}
      },
      "source": [
        "# splitting the file into training and test part\n",
        "N = len(dt.seq)\n",
        "\n",
        "for i, s in enumerate(train.seq):\n",
        "  open(\"split/train/1/seq\"+str(i)+\".txt\", 'w').writelines([s])\n",
        "for i, s in enumerate(test.seq):\n",
        "  open(\"split/valid/1/seq\"+str(i)+\".txt\", 'w').writelines([s])"
      ],
      "execution_count": 7,
      "outputs": []
    },
    {
      "cell_type": "markdown",
      "metadata": {
        "id": "DsWZp8dnxSqa",
        "colab_type": "text"
      },
      "source": [
        "## Tokenizer"
      ]
    },
    {
      "cell_type": "code",
      "metadata": {
        "id": "GbRbPRbJv0VB",
        "colab_type": "code",
        "colab": {
          "base_uri": "https://localhost:8080/",
          "height": 217
        },
        "outputId": "352fb1c6-5b3b-4964-cba6-4ff57ce7d272"
      },
      "source": [
        "!wget https://raw.githubusercontent.com/simecek/PseudoDNA_Generator/master/models/genomic_tokenizer2.py"
      ],
      "execution_count": 8,
      "outputs": [
        {
          "output_type": "stream",
          "text": [
            "--2020-06-29 13:15:13--  https://raw.githubusercontent.com/simecek/PseudoDNA_Generator/master/models/genomic_tokenizer2.py\n",
            "Resolving raw.githubusercontent.com (raw.githubusercontent.com)... 151.101.0.133, 151.101.64.133, 151.101.128.133, ...\n",
            "Connecting to raw.githubusercontent.com (raw.githubusercontent.com)|151.101.0.133|:443... connected.\n",
            "HTTP request sent, awaiting response... 200 OK\n",
            "Length: 565 [text/plain]\n",
            "Saving to: ‘genomic_tokenizer2.py’\n",
            "\n",
            "\rgenomic_tokenizer2.   0%[                    ]       0  --.-KB/s               \rgenomic_tokenizer2. 100%[===================>]     565  --.-KB/s    in 0s      \n",
            "\n",
            "2020-06-29 13:15:14 (34.6 MB/s) - ‘genomic_tokenizer2.py’ saved [565/565]\n",
            "\n"
          ],
          "name": "stdout"
        }
      ]
    },
    {
      "cell_type": "code",
      "metadata": {
        "id": "Qm5Dgbicxa_Z",
        "colab_type": "code",
        "colab": {}
      },
      "source": [
        "from genomic_tokenizer2 import tkn2"
      ],
      "execution_count": 9,
      "outputs": []
    },
    {
      "cell_type": "markdown",
      "metadata": {
        "id": "bMNqgj9n1TEw",
        "colab_type": "text"
      },
      "source": [
        "## Data Loaders"
      ]
    },
    {
      "cell_type": "code",
      "metadata": {
        "id": "zFgyggiNxlz_",
        "colab_type": "code",
        "colab": {}
      },
      "source": [
        "dls_lm = TextDataLoaders.from_folder(Path(\"./split\"), bs=128, seed=42, \n",
        "                                   is_lm=True, \n",
        "                                   tok_tfm=tkn2, seq_len=50)"
      ],
      "execution_count": 10,
      "outputs": []
    },
    {
      "cell_type": "code",
      "metadata": {
        "id": "TmftEQ6bx42-",
        "colab_type": "code",
        "colab": {
          "base_uri": "https://localhost:8080/",
          "height": 474
        },
        "outputId": "6bd8319b-2d5f-43c5-8d13-ad0e04d81a43"
      },
      "source": [
        "dls_lm.show_batch()"
      ],
      "execution_count": 11,
      "outputs": [
        {
          "output_type": "display_data",
          "data": {
            "text/html": [
              "<table border=\"1\" class=\"dataframe\">\n",
              "  <thead>\n",
              "    <tr style=\"text-align: right;\">\n",
              "      <th></th>\n",
              "      <th>text</th>\n",
              "      <th>text_</th>\n",
              "    </tr>\n",
              "  </thead>\n",
              "  <tbody>\n",
              "    <tr>\n",
              "      <th>0</th>\n",
              "      <td>A T C T T G G A G T C T C T G G G T G T T C C T T C A G C C T C A G C C T C A C T G G T A C C T T C</td>\n",
              "      <td>T C T T G G A G T C T C T G G G T G T T C C T T C A G C C T C A G C C T C A C T G G T A C C T T C T</td>\n",
              "    </tr>\n",
              "    <tr>\n",
              "      <th>1</th>\n",
              "      <td>C T G A C A T C G T T C T C C T T T T G A A C T T G T C A C G A A T T C C A T C T T G T A A A G G A</td>\n",
              "      <td>T G A C A T C G T T C T C C T T T T G A A C T T G T C A C G A A T T C C A T C T T G T A A A G G A T</td>\n",
              "    </tr>\n",
              "    <tr>\n",
              "      <th>2</th>\n",
              "      <td>T G C T A G A G C T T A C T C T G G C A C C C A G C C T C C C T T C T C C T T C C A C T C C C T T A</td>\n",
              "      <td>G C T A G A G C T T A C T C T G G C A C C C A G C C T C C C T T C T C C T T C C A C T C C C T T A G</td>\n",
              "    </tr>\n",
              "    <tr>\n",
              "      <th>3</th>\n",
              "      <td>A G A T G T C C C T C C C G T G C G A G C A C A A A T T A T A T A T A A T G C C T G G T A T T T T A</td>\n",
              "      <td>G A T G T C C C T C C C G T G C G A G C A C A A A T T A T A T A T A A T G C C T G G T A T T T T A C</td>\n",
              "    </tr>\n",
              "    <tr>\n",
              "      <th>4</th>\n",
              "      <td>G T T G G A C A G A C G G G A A A A A T A G T A G C A C C A G A C A C T T G C A T G G A T A A G A A</td>\n",
              "      <td>T T G G A C A G A C G G G A A A A A T A G T A G C A C C A G A C A C T T G C A T G G A T A A G A A A</td>\n",
              "    </tr>\n",
              "    <tr>\n",
              "      <th>5</th>\n",
              "      <td>T A T T T A A G A A A G A A G G A T T T T C T A A C G T G G A A G G T A T T T A G G C A C C A G C T</td>\n",
              "      <td>A T T T A A G A A A G A A G G A T T T T C T A A C G T G G A A G G T A T T T A G G C A C C A G C T C</td>\n",
              "    </tr>\n",
              "    <tr>\n",
              "      <th>6</th>\n",
              "      <td>C T C T C T T T T T T T T T T T T T T T T T T G G A G A C A G A G T C T T G C T C T G T T G C C G T</td>\n",
              "      <td>T C T C T T T T T T T T T T T T T T T T T T G G A G A C A G A G T C T T G C T C T G T T G C C G T A</td>\n",
              "    </tr>\n",
              "    <tr>\n",
              "      <th>7</th>\n",
              "      <td>T T T C T G C T T T C G A A A A G T G A C T A T T T T T T T A G A A A T C T A A G A A C A G A A G T</td>\n",
              "      <td>T T C T G C T T T C G A A A A G T G A C T A T T T T T T T A G A A A T C T A A G A A C A G A A G T T</td>\n",
              "    </tr>\n",
              "    <tr>\n",
              "      <th>8</th>\n",
              "      <td>G A T C C T C C T G G A A G G C G A T G A T G A T A C T C T G T C A T C C G T G G A T G A G A A A G</td>\n",
              "      <td>A T C C T C C T G G A A G G C G A T G A T G A T A C T C T G T C A T C C G T G G A T G A G A A A G A</td>\n",
              "    </tr>\n",
              "  </tbody>\n",
              "</table>"
            ],
            "text/plain": [
              "<IPython.core.display.HTML object>"
            ]
          },
          "metadata": {
            "tags": []
          }
        }
      ]
    },
    {
      "cell_type": "markdown",
      "metadata": {
        "id": "7sr_NFaB1uHH",
        "colab_type": "text"
      },
      "source": [
        "## Model and Learning"
      ]
    },
    {
      "cell_type": "code",
      "metadata": {
        "id": "xcOLVeQk0tJ8",
        "colab_type": "code",
        "colab": {}
      },
      "source": [
        "learn = language_model_learner(\n",
        "    dls_lm, AWD_LSTM, drop_mult=0.3, pretrained=False, \n",
        "    metrics=[accuracy, Perplexity()])"
      ],
      "execution_count": 12,
      "outputs": []
    },
    {
      "cell_type": "code",
      "metadata": {
        "id": "dZOgoDpnPl2E",
        "colab_type": "code",
        "colab": {
          "base_uri": "https://localhost:8080/",
          "height": 301
        },
        "outputId": "89b20b6b-f7a9-43ca-faa6-692abe612db9"
      },
      "source": [
        "learn.lr_find()"
      ],
      "execution_count": 13,
      "outputs": [
        {
          "output_type": "display_data",
          "data": {
            "text/html": [
              ""
            ],
            "text/plain": [
              "<IPython.core.display.HTML object>"
            ]
          },
          "metadata": {
            "tags": []
          }
        },
        {
          "output_type": "execute_result",
          "data": {
            "text/plain": [
              "SuggestedLRs(lr_min=0.03630780577659607, lr_steep=0.0006918309954926372)"
            ]
          },
          "metadata": {
            "tags": []
          },
          "execution_count": 13
        },
        {
          "output_type": "display_data",
          "data": {
            "image/png": "[encoded data removed]",
            "text/plain": [
              "<Figure size 432x288 with 1 Axes>"
            ]
          },
          "metadata": {
            "tags": [],
            "needs_background": "light"
          }
        }
      ]
    },
    {
      "cell_type": "code",
      "metadata": {
        "id": "GdWkfIiG11dd",
        "colab_type": "code",
        "colab": {
          "base_uri": "https://localhost:8080/",
          "height": 198
        },
        "outputId": "cd52e50e-02b3-41e2-cb1a-8ad4f982ad58"
      },
      "source": [
        "learn.fit_one_cycle(5, 1e-2)\n",
        "learn.export(\"/content/drive/My Drive/DNAModels/3UTRs/3UTR_AWD_LSTM_v0.pkl\")"
      ],
      "execution_count": 14,
      "outputs": [
        {
          "output_type": "display_data",
          "data": {
            "text/html": [
              "<table border=\"1\" class=\"dataframe\">\n",
              "  <thead>\n",
              "    <tr style=\"text-align: left;\">\n",
              "      <th>epoch</th>\n",
              "      <th>train_loss</th>\n",
              "      <th>valid_loss</th>\n",
              "      <th>accuracy</th>\n",
              "      <th>perplexity</th>\n",
              "      <th>time</th>\n",
              "    </tr>\n",
              "  </thead>\n",
              "  <tbody>\n",
              "    <tr>\n",
              "      <td>0</td>\n",
              "      <td>1.323402</td>\n",
              "      <td>1.321850</td>\n",
              "      <td>0.351173</td>\n",
              "      <td>3.750352</td>\n",
              "      <td>06:41</td>\n",
              "    </tr>\n",
              "    <tr>\n",
              "      <td>1</td>\n",
              "      <td>1.316190</td>\n",
              "      <td>1.313547</td>\n",
              "      <td>0.358031</td>\n",
              "      <td>3.719343</td>\n",
              "      <td>06:29</td>\n",
              "    </tr>\n",
              "    <tr>\n",
              "      <td>2</td>\n",
              "      <td>1.313442</td>\n",
              "      <td>1.311595</td>\n",
              "      <td>0.359750</td>\n",
              "      <td>3.712089</td>\n",
              "      <td>06:24</td>\n",
              "    </tr>\n",
              "    <tr>\n",
              "      <td>3</td>\n",
              "      <td>1.309436</td>\n",
              "      <td>1.307178</td>\n",
              "      <td>0.363278</td>\n",
              "      <td>3.695731</td>\n",
              "      <td>06:23</td>\n",
              "    </tr>\n",
              "    <tr>\n",
              "      <td>4</td>\n",
              "      <td>1.309059</td>\n",
              "      <td>1.305386</td>\n",
              "      <td>0.364625</td>\n",
              "      <td>3.689114</td>\n",
              "      <td>06:23</td>\n",
              "    </tr>\n",
              "  </tbody>\n",
              "</table>"
            ],
            "text/plain": [
              "<IPython.core.display.HTML object>"
            ]
          },
          "metadata": {
            "tags": []
          }
        }
      ]
    }
  ]
}