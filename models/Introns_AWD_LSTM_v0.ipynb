{
  "nbformat": 4,
  "nbformat_minor": 0,
  "metadata": {
    "colab": {
      "name": "Introns_AWD_LSTM_v0.ipynb",
      "provenance": [],
      "collapsed_sections": [],
      "toc_visible": true,
      "include_colab_link": true
    },
    "kernelspec": {
      "name": "python3",
      "display_name": "Python 3"
    },
    "accelerator": "GPU"
  },
  "cells": [
    {
      "cell_type": "markdown",
      "metadata": {
        "id": "view-in-github",
        "colab_type": "text"
      },
      "source": [
        "<a href=\"https://colab.research.google.com/github/simecek/PseudoDNA_Generator/blob/master/models/Introns_AWD_LSTM_v0.ipynb\" target=\"_parent\"><img src=\"https://colab.research.google.com/assets/colab-badge.svg\" alt=\"Open In Colab\"/></a>"
      ]
    },
    {
      "cell_type": "markdown",
      "metadata": {
        "id": "y8NYCcZxvM2P",
        "colab_type": "text"
      },
      "source": [
        "## Setup"
      ]
    },
    {
      "cell_type": "code",
      "metadata": {
        "id": "NeFnR_pcvEED",
        "colab_type": "code",
        "colab": {}
      },
      "source": [
        "!pip install fastai2>=0.0.11 ipywidgets matplotlib nbdev>=0.2.12 pandas scikit_learn sentencepiece"
      ],
      "execution_count": 1,
      "outputs": []
    },
    {
      "cell_type": "code",
      "metadata": {
        "id": "ExfZF-bTvSkj",
        "colab_type": "code",
        "colab": {}
      },
      "source": [
        "from fastai2.text.all import *\n",
        "import pandas as pd\n",
        "import torch"
      ],
      "execution_count": 2,
      "outputs": []
    },
    {
      "cell_type": "code",
      "metadata": {
        "id": "ERTuSw3U-Yxu",
        "colab_type": "code",
        "colab": {
          "base_uri": "https://localhost:8080/",
          "height": 35
        },
        "outputId": "3abdcdd4-9ff9-4d9c-d9ce-e3bdac905485"
      },
      "source": [
        "torch.cuda.is_available(), torch.cuda.device_count(), torch.cuda.get_device_name(0)"
      ],
      "execution_count": 3,
      "outputs": [
        {
          "output_type": "execute_result",
          "data": {
            "text/plain": [
              "(True, 1, 'Tesla P100-PCIE-16GB')"
            ]
          },
          "metadata": {
            "tags": []
          },
          "execution_count": 3
        }
      ]
    },
    {
      "cell_type": "code",
      "metadata": {
        "id": "qkgkc8rNQCwY",
        "colab_type": "code",
        "colab": {
          "base_uri": "https://localhost:8080/",
          "height": 128
        },
        "outputId": "1b5a4f82-f86d-4fff-ed47-d57512eb6c6f"
      },
      "source": [
        "# Mount to your Google Drive allowing lesson files will be saved to your Drive location\n",
        "from google.colab import drive\n",
        "drive.mount('/content/drive')"
      ],
      "execution_count": 4,
      "outputs": [
        {
          "output_type": "stream",
          "text": [
            "Go to this URL in a browser: https://accounts.google.com/o/oauth2/auth?client_id=947318989803-6bn6qk8qdgf4n4g3pfee6491hc0brc4i.apps.googleusercontent.com&redirect_uri=urn%3aietf%3awg%3aoauth%3a2.0%3aoob&response_type=code&scope=email%20https%3a%2f%2fwww.googleapis.com%2fauth%2fdocs.test%20https%3a%2f%2fwww.googleapis.com%2fauth%2fdrive%20https%3a%2f%2fwww.googleapis.com%2fauth%2fdrive.photos.readonly%20https%3a%2f%2fwww.googleapis.com%2fauth%2fpeopleapi.readonly\n",
            "\n",
            "Enter your authorization code:\n",
            "··········\n",
            "Mounted at /content/drive\n"
          ],
          "name": "stdout"
        }
      ]
    },
    {
      "cell_type": "code",
      "metadata": {
        "id": "uAMnbJuNxBkU",
        "colab_type": "code",
        "colab": {
          "base_uri": "https://localhost:8080/",
          "height": 236
        },
        "outputId": "5af1f828-5517-4294-d10a-56c68c287e4a"
      },
      "source": [
        "dt = pd.read_csv(\"/content/drive/My Drive/data/random/random_introns.csv\")\n",
        "\n",
        "train = dt[(dt.chr!=\"1\") & ~dt.seq.isna()]\n",
        "test = dt[(dt.chr==\"1\") & ~dt.seq.isna()]\n",
        "\n",
        "print(dt.shape, train.shape, test.shape)\n",
        "dt.head()"
      ],
      "execution_count": 19,
      "outputs": [
        {
          "output_type": "stream",
          "text": [
            "(50000, 5) (45058, 5) (4927, 5)\n"
          ],
          "name": "stdout"
        },
        {
          "output_type": "execute_result",
          "data": {
            "text/html": [
              "<div>\n",
              "<style scoped>\n",
              "    .dataframe tbody tr th:only-of-type {\n",
              "        vertical-align: middle;\n",
              "    }\n",
              "\n",
              "    .dataframe tbody tr th {\n",
              "        vertical-align: top;\n",
              "    }\n",
              "\n",
              "    .dataframe thead th {\n",
              "        text-align: right;\n",
              "    }\n",
              "</style>\n",
              "<table border=\"1\" class=\"dataframe\">\n",
              "  <thead>\n",
              "    <tr style=\"text-align: right;\">\n",
              "      <th></th>\n",
              "      <th>gene_id</th>\n",
              "      <th>chr</th>\n",
              "      <th>random_start</th>\n",
              "      <th>random_end</th>\n",
              "      <th>seq</th>\n",
              "    </tr>\n",
              "  </thead>\n",
              "  <tbody>\n",
              "    <tr>\n",
              "      <th>0</th>\n",
              "      <td>ENSG00000114416</td>\n",
              "      <td>3</td>\n",
              "      <td>180950056</td>\n",
              "      <td>180950255</td>\n",
              "      <td>GTAGTATTAAAATATTAAGCTTATCATTATATCTCTGTCTTATCCTAAGGTACTCTGTTTTGTCCTGTTCTTCCCTGCTACACTAGTAGGATACTTGTTCTTCCCACTCACTCACACTTTCTAGATCTAGATGAACACATGTGCATGCACACACTGTGATGTCTCAGAGAAATTAAGATATGTTTATTATCCTTAGGACA</td>\n",
              "    </tr>\n",
              "    <tr>\n",
              "      <th>1</th>\n",
              "      <td>ENSG00000144596</td>\n",
              "      <td>3</td>\n",
              "      <td>14493879</td>\n",
              "      <td>14494078</td>\n",
              "      <td>TGAAGGGAGCAAGAGGCATGTGATGTCCTAAAGATGGGTCCTGCCCCAGCCTTGACGCAAGCCCTGACATCACCAGCACCACACACAGAGGAACATTCTTCCTCTAACTCTCTCTCAGTCCTTCTGTTAGGTTTCATCAAAGAGAAAGTTCTAGGAAGGGGCAGGTATACCTTTCATACCCCTCTAACTCTTGCTTTTCT</td>\n",
              "    </tr>\n",
              "    <tr>\n",
              "      <th>2</th>\n",
              "      <td>ENSG00000169398</td>\n",
              "      <td>8</td>\n",
              "      <td>140740948</td>\n",
              "      <td>140741147</td>\n",
              "      <td>ATCTAGGCAACAAAGTGAGATCTCATCTCTACAAAAAAATCAAAAAATTAGCTGGGCATGGTGGTGTGTGCCTGTGGTCCCAGCTACTCAGGAGGCTGAGGCAGGAGGATGACTTGAGCCCAGGAGGTTGAGGCTGCAGTGACTTGTGCTCATGCCACTGCACTCCAGCCTGGACGACAGAACGAGACCCTGTCTTAAAA</td>\n",
              "    </tr>\n",
              "    <tr>\n",
              "      <th>3</th>\n",
              "      <td>ENSG00000106299</td>\n",
              "      <td>7</td>\n",
              "      <td>123695595</td>\n",
              "      <td>123695794</td>\n",
              "      <td>ACAGTGTATAAAGCCAAGGTACACAAAACCTTAGTCTAAGTCTTTAGAGACTTAGCCATGAATGACAGAACAATAATATGGTTTTAAACCTCAGTTGTATACATACATAAAACACAAGCACATTCAAACAGATACTAGAAACCACAAAAATGAATTTAAAAAAATCTAAAATAGGCCAACACATTTCCACATACAGTTAT</td>\n",
              "    </tr>\n",
              "    <tr>\n",
              "      <th>4</th>\n",
              "      <td>ENSG00000197147</td>\n",
              "      <td>1</td>\n",
              "      <td>89552494</td>\n",
              "      <td>89552693</td>\n",
              "      <td>CTGAGTCAGTTAAAAGCAGACTAATCAGTAAAATACATTTTCTGGTTTTAGAGAGCTTATAATTTACAATAGATTAAAGGGAATGACAGTAACCACAGAAAAATAATTAAGAGAAATGTGATTTACTTGTTACCTAAGAAGCAAAAGATACATTTTTCTCCAAAGTAAGTCATTAAAGATTGCAATCGTTTATACCAGAG</td>\n",
              "    </tr>\n",
              "  </tbody>\n",
              "</table>\n",
              "</div>"
            ],
            "text/plain": [
              "           gene_id  ...                                                                                                                                                                                                       seq\n",
              "0  ENSG00000114416  ...  GTAGTATTAAAATATTAAGCTTATCATTATATCTCTGTCTTATCCTAAGGTACTCTGTTTTGTCCTGTTCTTCCCTGCTACACTAGTAGGATACTTGTTCTTCCCACTCACTCACACTTTCTAGATCTAGATGAACACATGTGCATGCACACACTGTGATGTCTCAGAGAAATTAAGATATGTTTATTATCCTTAGGACA\n",
              "1  ENSG00000144596  ...  TGAAGGGAGCAAGAGGCATGTGATGTCCTAAAGATGGGTCCTGCCCCAGCCTTGACGCAAGCCCTGACATCACCAGCACCACACACAGAGGAACATTCTTCCTCTAACTCTCTCTCAGTCCTTCTGTTAGGTTTCATCAAAGAGAAAGTTCTAGGAAGGGGCAGGTATACCTTTCATACCCCTCTAACTCTTGCTTTTCT\n",
              "2  ENSG00000169398  ...  ATCTAGGCAACAAAGTGAGATCTCATCTCTACAAAAAAATCAAAAAATTAGCTGGGCATGGTGGTGTGTGCCTGTGGTCCCAGCTACTCAGGAGGCTGAGGCAGGAGGATGACTTGAGCCCAGGAGGTTGAGGCTGCAGTGACTTGTGCTCATGCCACTGCACTCCAGCCTGGACGACAGAACGAGACCCTGTCTTAAAA\n",
              "3  ENSG00000106299  ...  ACAGTGTATAAAGCCAAGGTACACAAAACCTTAGTCTAAGTCTTTAGAGACTTAGCCATGAATGACAGAACAATAATATGGTTTTAAACCTCAGTTGTATACATACATAAAACACAAGCACATTCAAACAGATACTAGAAACCACAAAAATGAATTTAAAAAAATCTAAAATAGGCCAACACATTTCCACATACAGTTAT\n",
              "4  ENSG00000197147  ...  CTGAGTCAGTTAAAAGCAGACTAATCAGTAAAATACATTTTCTGGTTTTAGAGAGCTTATAATTTACAATAGATTAAAGGGAATGACAGTAACCACAGAAAAATAATTAAGAGAAATGTGATTTACTTGTTACCTAAGAAGCAAAAGATACATTTTTCTCCAAAGTAAGTCATTAAAGATTGCAATCGTTTATACCAGAG\n",
              "\n",
              "[5 rows x 5 columns]"
            ]
          },
          "metadata": {
            "tags": []
          },
          "execution_count": 19
        }
      ]
    },
    {
      "cell_type": "code",
      "metadata": {
        "id": "V-WYDE4wvZEA",
        "colab_type": "code",
        "colab": {}
      },
      "source": [
        "!rm -rf split_tok\n",
        "\n",
        "!rm -rf split\n",
        "!mkdir split\n",
        "!mkdir split/train\n",
        "!mkdir split/valid\n",
        "!mkdir split/train/1/\n",
        "!mkdir split/valid/1/"
      ],
      "execution_count": 20,
      "outputs": []
    },
    {
      "cell_type": "code",
      "metadata": {
        "id": "5KII2R0JvkQT",
        "colab_type": "code",
        "colab": {}
      },
      "source": [
        "# splitting the file into training and test part\n",
        "N = len(dt.seq)\n",
        "\n",
        "for i, s in enumerate(train.seq):\n",
        "  open(\"split/train/1/seq\"+str(i)+\".txt\", 'w').writelines([s])\n",
        "for i, s in enumerate(test.seq):\n",
        "  open(\"split/valid/1/seq\"+str(i)+\".txt\", 'w').writelines([s])"
      ],
      "execution_count": 21,
      "outputs": []
    },
    {
      "cell_type": "markdown",
      "metadata": {
        "id": "DsWZp8dnxSqa",
        "colab_type": "text"
      },
      "source": [
        "## Tokenizer"
      ]
    },
    {
      "cell_type": "code",
      "metadata": {
        "id": "GbRbPRbJv0VB",
        "colab_type": "code",
        "colab": {
          "base_uri": "https://localhost:8080/",
          "height": 217
        },
        "outputId": "7d37eb8b-0654-4ea9-942a-aa7cf03df8d2"
      },
      "source": [
        "!wget https://raw.githubusercontent.com/simecek/PseudoDNA_Generator/master/models/genomic_tokenizer2.py"
      ],
      "execution_count": 22,
      "outputs": [
        {
          "output_type": "stream",
          "text": [
            "--2020-06-29 12:20:57--  https://raw.githubusercontent.com/simecek/PseudoDNA_Generator/master/models/genomic_tokenizer2.py\n",
            "Resolving raw.githubusercontent.com (raw.githubusercontent.com)... 151.101.0.133, 151.101.64.133, 151.101.128.133, ...\n",
            "Connecting to raw.githubusercontent.com (raw.githubusercontent.com)|151.101.0.133|:443... connected.\n",
            "HTTP request sent, awaiting response... 200 OK\n",
            "Length: 565 [text/plain]\n",
            "Saving to: ‘genomic_tokenizer2.py’\n",
            "\n",
            "\rgenomic_tokenizer2.   0%[                    ]       0  --.-KB/s               \rgenomic_tokenizer2. 100%[===================>]     565  --.-KB/s    in 0s      \n",
            "\n",
            "2020-06-29 12:20:57 (32.9 MB/s) - ‘genomic_tokenizer2.py’ saved [565/565]\n",
            "\n"
          ],
          "name": "stdout"
        }
      ]
    },
    {
      "cell_type": "code",
      "metadata": {
        "id": "Qm5Dgbicxa_Z",
        "colab_type": "code",
        "colab": {}
      },
      "source": [
        "from genomic_tokenizer2 import tkn2"
      ],
      "execution_count": 23,
      "outputs": []
    },
    {
      "cell_type": "markdown",
      "metadata": {
        "id": "bMNqgj9n1TEw",
        "colab_type": "text"
      },
      "source": [
        "## Data Loaders"
      ]
    },
    {
      "cell_type": "code",
      "metadata": {
        "id": "zFgyggiNxlz_",
        "colab_type": "code",
        "colab": {}
      },
      "source": [
        "dls_lm = TextDataLoaders.from_folder(Path(\"./split\"), bs=128, seed=42, \n",
        "                                   is_lm=True, \n",
        "                                   tok_tfm=tkn2, seq_len=50)"
      ],
      "execution_count": 24,
      "outputs": []
    },
    {
      "cell_type": "code",
      "metadata": {
        "id": "TmftEQ6bx42-",
        "colab_type": "code",
        "colab": {
          "base_uri": "https://localhost:8080/",
          "height": 474
        },
        "outputId": "80b4d733-d1a2-4a4d-98de-eff82cbd11fe"
      },
      "source": [
        "dls_lm.show_batch()"
      ],
      "execution_count": 25,
      "outputs": [
        {
          "output_type": "display_data",
          "data": {
            "text/html": [
              "<table border=\"1\" class=\"dataframe\">\n",
              "  <thead>\n",
              "    <tr style=\"text-align: right;\">\n",
              "      <th></th>\n",
              "      <th>text</th>\n",
              "      <th>text_</th>\n",
              "    </tr>\n",
              "  </thead>\n",
              "  <tbody>\n",
              "    <tr>\n",
              "      <th>0</th>\n",
              "      <td>T A T T A G A T A A T C A A A A T A T G T C T T A G A G A T T T T C C T T C T A A G A A T T T T T A</td>\n",
              "      <td>A T T A G A T A A T C A A A A T A T G T C T T A G A G A T T T T C C T T C T A A G A A T T T T T A T</td>\n",
              "    </tr>\n",
              "    <tr>\n",
              "      <th>1</th>\n",
              "      <td>C T G T A A T A G A A A T T C T T G G C T G G T G G A G T G G C T C A T G C A T G T A A T T C C A G</td>\n",
              "      <td>T G T A A T A G A A A T T C T T G G C T G G T G G A G T G G C T C A T G C A T G T A A T T C C A G C</td>\n",
              "    </tr>\n",
              "    <tr>\n",
              "      <th>2</th>\n",
              "      <td>C T G A G A T T A T A G G C A T G A G C C A C T G C A C T T G G C A A A G G T T T T T C A A T T T T</td>\n",
              "      <td>T G A G A T T A T A G G C A T G A G C C A C T G C A C T T G G C A A A G G T T T T T C A A T T T T T</td>\n",
              "    </tr>\n",
              "    <tr>\n",
              "      <th>3</th>\n",
              "      <td>A A A A C T C C A A A T T T T T T A T G C C A T A A G T G A A G T T A T T T T A A A A C A C A A A T</td>\n",
              "      <td>A A A C T C C A A A T T T T T T A T G C C A T A A G T G A A G T T A T T T T A A A A C A C A A A T C</td>\n",
              "    </tr>\n",
              "    <tr>\n",
              "      <th>4</th>\n",
              "      <td>A T A G T T A A C T G A T T T A G G A T C A T G T G T G T C T T C C A G C T T T C A G T G T T T C T</td>\n",
              "      <td>T A G T T A A C T G A T T T A G G A T C A T G T G T G T C T T C C A G C T T T C A G T G T T T C T A</td>\n",
              "    </tr>\n",
              "    <tr>\n",
              "      <th>5</th>\n",
              "      <td>A T A G C T A A T T G T A A A T T A A G C C A G T G C C T T G T C A T T A A A T A A T T C T C A G A</td>\n",
              "      <td>T A G C T A A T T G T A A A T T A A G C C A G T G C C T T G T C A T T A A A T A A T T C T C A G A G</td>\n",
              "    </tr>\n",
              "    <tr>\n",
              "      <th>6</th>\n",
              "      <td>G C T G G G A T T A C A G G C G T G A G C C A C T G C G C T C A G C C A A C C A G C A C C T T T T A</td>\n",
              "      <td>C T G G G A T T A C A G G C G T G A G C C A C T G C G C T C A G C C A A C C A G C A C C T T T T A A</td>\n",
              "    </tr>\n",
              "    <tr>\n",
              "      <th>7</th>\n",
              "      <td>T A A C T G G A A A G G C T G C A C T G G G A A G G T C T G T G T T T C A A G C C T G T C A G G G A</td>\n",
              "      <td>A A C T G G A A A G G C T G C A C T G G G A A G G T C T G T G T T T C A A G C C T G T C A G G G A C</td>\n",
              "    </tr>\n",
              "    <tr>\n",
              "      <th>8</th>\n",
              "      <td>T C T C T G C A T G T G A C C T C C C A T C T T A C G C A G A T A A G A A C C A G T T T G G T T T C</td>\n",
              "      <td>C T C T G C A T G T G A C C T C C C A T C T T A C G C A G A T A A G A A C C A G T T T G G T T T C T</td>\n",
              "    </tr>\n",
              "  </tbody>\n",
              "</table>"
            ],
            "text/plain": [
              "<IPython.core.display.HTML object>"
            ]
          },
          "metadata": {
            "tags": []
          }
        }
      ]
    },
    {
      "cell_type": "markdown",
      "metadata": {
        "id": "7sr_NFaB1uHH",
        "colab_type": "text"
      },
      "source": [
        "## Model and Learning"
      ]
    },
    {
      "cell_type": "code",
      "metadata": {
        "id": "xcOLVeQk0tJ8",
        "colab_type": "code",
        "colab": {}
      },
      "source": [
        "learn = language_model_learner(\n",
        "    dls_lm, AWD_LSTM, drop_mult=0.3, pretrained=False, \n",
        "    metrics=[accuracy, Perplexity()])"
      ],
      "execution_count": 26,
      "outputs": []
    },
    {
      "cell_type": "code",
      "metadata": {
        "id": "dZOgoDpnPl2E",
        "colab_type": "code",
        "colab": {
          "base_uri": "https://localhost:8080/",
          "height": 301
        },
        "outputId": "438192e4-85e3-4d59-dbc6-662d93f74377"
      },
      "source": [
        "learn.lr_find()"
      ],
      "execution_count": 27,
      "outputs": [
        {
          "output_type": "display_data",
          "data": {
            "text/html": [
              ""
            ],
            "text/plain": [
              "<IPython.core.display.HTML object>"
            ]
          },
          "metadata": {
            "tags": []
          }
        },
        {
          "output_type": "execute_result",
          "data": {
            "text/plain": [
              "SuggestedLRs(lr_min=0.15848932266235352, lr_steep=0.0006918309954926372)"
            ]
          },
          "metadata": {
            "tags": []
          },
          "execution_count": 27
        },
        {
          "output_type": "display_data",
          "data": {
            "image/png": "[encoded data removed]",
            "text/plain": [
              "<Figure size 432x288 with 1 Axes>"
            ]
          },
          "metadata": {
            "tags": [],
            "needs_background": "light"
          }
        }
      ]
    },
    {
      "cell_type": "code",
      "metadata": {
        "id": "GdWkfIiG11dd",
        "colab_type": "code",
        "colab": {
          "base_uri": "https://localhost:8080/",
          "height": 198
        },
        "outputId": "c1cda1a5-a0fb-4d85-c9f3-63bf0f832139"
      },
      "source": [
        "learn.fit_one_cycle(5, 1e-2)\n",
        "learn.export(\"/content/drive/My Drive/DNAModels/Introns/Introns_AWD_LSTM_v0.pkl\")"
      ],
      "execution_count": 29,
      "outputs": [
        {
          "output_type": "display_data",
          "data": {
            "text/html": [
              "<table border=\"1\" class=\"dataframe\">\n",
              "  <thead>\n",
              "    <tr style=\"text-align: left;\">\n",
              "      <th>epoch</th>\n",
              "      <th>train_loss</th>\n",
              "      <th>valid_loss</th>\n",
              "      <th>accuracy</th>\n",
              "      <th>perplexity</th>\n",
              "      <th>time</th>\n",
              "    </tr>\n",
              "  </thead>\n",
              "  <tbody>\n",
              "    <tr>\n",
              "      <td>0</td>\n",
              "      <td>1.314453</td>\n",
              "      <td>1.314110</td>\n",
              "      <td>0.357314</td>\n",
              "      <td>3.721436</td>\n",
              "      <td>05:34</td>\n",
              "    </tr>\n",
              "    <tr>\n",
              "      <td>1</td>\n",
              "      <td>1.249920</td>\n",
              "      <td>1.255020</td>\n",
              "      <td>0.397975</td>\n",
              "      <td>3.507907</td>\n",
              "      <td>05:39</td>\n",
              "    </tr>\n",
              "    <tr>\n",
              "      <td>2</td>\n",
              "      <td>1.238960</td>\n",
              "      <td>1.234143</td>\n",
              "      <td>0.409026</td>\n",
              "      <td>3.435434</td>\n",
              "      <td>05:38</td>\n",
              "    </tr>\n",
              "    <tr>\n",
              "      <td>3</td>\n",
              "      <td>1.231028</td>\n",
              "      <td>1.224016</td>\n",
              "      <td>0.414157</td>\n",
              "      <td>3.400819</td>\n",
              "      <td>05:34</td>\n",
              "    </tr>\n",
              "    <tr>\n",
              "      <td>4</td>\n",
              "      <td>1.222996</td>\n",
              "      <td>1.221845</td>\n",
              "      <td>0.415859</td>\n",
              "      <td>3.393441</td>\n",
              "      <td>05:36</td>\n",
              "    </tr>\n",
              "  </tbody>\n",
              "</table>"
            ],
            "text/plain": [
              "<IPython.core.display.HTML object>"
            ]
          },
          "metadata": {
            "tags": []
          }
        }
      ]
    }
  ]
}