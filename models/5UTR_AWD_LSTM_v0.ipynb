{
  "nbformat": 4,
  "nbformat_minor": 0,
  "metadata": {
    "colab": {
      "name": "5UTR_AWD_LSTM_v0.ipynb",
      "provenance": [],
      "collapsed_sections": [],
      "toc_visible": true,
      "include_colab_link": true
    },
    "kernelspec": {
      "name": "python3",
      "display_name": "Python 3"
    },
    "accelerator": "GPU"
  },
  "cells": [
    {
      "cell_type": "markdown",
      "metadata": {
        "id": "view-in-github",
        "colab_type": "text"
      },
      "source": [
        "<a href=\"https://colab.research.google.com/github/simecek/PseudoDNA_Generator/blob/master/models/5UTR_AWD_LSTM_v0.ipynb\" target=\"_parent\"><img src=\"https://colab.research.google.com/assets/colab-badge.svg\" alt=\"Open In Colab\"/></a>"
      ]
    },
    {
      "cell_type": "markdown",
      "metadata": {
        "id": "y8NYCcZxvM2P",
        "colab_type": "text"
      },
      "source": [
        "## Setup"
      ]
    },
    {
      "cell_type": "code",
      "metadata": {
        "id": "NeFnR_pcvEED",
        "colab_type": "code",
        "colab": {}
      },
      "source": [
        "!pip install fastai2>=0.0.11 ipywidgets matplotlib nbdev>=0.2.12 pandas scikit_learn sentencepiece"
      ],
      "execution_count": 1,
      "outputs": []
    },
    {
      "cell_type": "code",
      "metadata": {
        "id": "ExfZF-bTvSkj",
        "colab_type": "code",
        "colab": {}
      },
      "source": [
        "from fastai2.text.all import *\n",
        "import pandas as pd\n",
        "import torch"
      ],
      "execution_count": 2,
      "outputs": []
    },
    {
      "cell_type": "code",
      "metadata": {
        "id": "ERTuSw3U-Yxu",
        "colab_type": "code",
        "colab": {
          "base_uri": "https://localhost:8080/",
          "height": 35
        },
        "outputId": "a85314e1-ddb6-4ce9-d4de-a12f50965842"
      },
      "source": [
        "torch.cuda.is_available(), torch.cuda.device_count(), torch.cuda.get_device_name(0)"
      ],
      "execution_count": 3,
      "outputs": [
        {
          "output_type": "execute_result",
          "data": {
            "text/plain": [
              "(True, 1, 'Tesla P100-PCIE-16GB')"
            ]
          },
          "metadata": {
            "tags": []
          },
          "execution_count": 3
        }
      ]
    },
    {
      "cell_type": "code",
      "metadata": {
        "id": "qkgkc8rNQCwY",
        "colab_type": "code",
        "colab": {
          "base_uri": "https://localhost:8080/",
          "height": 128
        },
        "outputId": "b9b001c8-add2-4924-de6c-bd32989301cd"
      },
      "source": [
        "# Mount to your Google Drive allowing lesson files will be saved to your Drive location\n",
        "from google.colab import drive\n",
        "drive.mount('/content/drive')"
      ],
      "execution_count": 4,
      "outputs": [
        {
          "output_type": "stream",
          "text": [
            "Go to this URL in a browser: https://accounts.google.com/o/oauth2/auth?client_id=947318989803-6bn6qk8qdgf4n4g3pfee6491hc0brc4i.apps.googleusercontent.com&redirect_uri=urn%3aietf%3awg%3aoauth%3a2.0%3aoob&response_type=code&scope=email%20https%3a%2f%2fwww.googleapis.com%2fauth%2fdocs.test%20https%3a%2f%2fwww.googleapis.com%2fauth%2fdrive%20https%3a%2f%2fwww.googleapis.com%2fauth%2fdrive.photos.readonly%20https%3a%2f%2fwww.googleapis.com%2fauth%2fpeopleapi.readonly\n",
            "\n",
            "Enter your authorization code:\n",
            "··········\n",
            "Mounted at /content/drive\n"
          ],
          "name": "stdout"
        }
      ]
    },
    {
      "cell_type": "code",
      "metadata": {
        "id": "uAMnbJuNxBkU",
        "colab_type": "code",
        "colab": {
          "base_uri": "https://localhost:8080/",
          "height": 236
        },
        "outputId": "4f740616-8de5-4edf-b257-a304f9aaedf9"
      },
      "source": [
        "dt = pd.read_csv(\"/content/drive/My Drive/data/random/random_5utr_25k.csv\")\n",
        "\n",
        "train = dt[(dt.chr!=\"1\") & ~dt.seq.isna()]\n",
        "test = dt[(dt.chr==\"1\") & ~dt.seq.isna()]\n",
        "\n",
        "print(dt.shape, train.shape, test.shape)\n",
        "dt.head()"
      ],
      "execution_count": 5,
      "outputs": [
        {
          "output_type": "stream",
          "text": [
            "(25000, 5) (22730, 5) (2270, 5)\n"
          ],
          "name": "stdout"
        },
        {
          "output_type": "execute_result",
          "data": {
            "text/html": [
              "<div>\n",
              "<style scoped>\n",
              "    .dataframe tbody tr th:only-of-type {\n",
              "        vertical-align: middle;\n",
              "    }\n",
              "\n",
              "    .dataframe tbody tr th {\n",
              "        vertical-align: top;\n",
              "    }\n",
              "\n",
              "    .dataframe thead th {\n",
              "        text-align: right;\n",
              "    }\n",
              "</style>\n",
              "<table border=\"1\" class=\"dataframe\">\n",
              "  <thead>\n",
              "    <tr style=\"text-align: right;\">\n",
              "      <th></th>\n",
              "      <th>id</th>\n",
              "      <th>chr</th>\n",
              "      <th>random_start</th>\n",
              "      <th>random_end</th>\n",
              "      <th>seq</th>\n",
              "    </tr>\n",
              "  </thead>\n",
              "  <tbody>\n",
              "    <tr>\n",
              "      <th>0</th>\n",
              "      <td>ENST00000649685</td>\n",
              "      <td>X</td>\n",
              "      <td>3</td>\n",
              "      <td>202</td>\n",
              "      <td>GGAAAAAAATGAAAGGAAAAATATTTCAACCCGGCTGTCGGTCTAAAAGAGGAGAGAATGCTTTCTTTAAAAAAGGATTGTTGATGTTATTGTTGGGAAAGACGAAAAAGGCAGAAAGATCCCAGAATATCTGATCCATTTTAATGGTTGGAACAGAAGCTGGGATAGATGGGCAGCAGAAGATCATGTGCTTCGTGATA</td>\n",
              "    </tr>\n",
              "    <tr>\n",
              "      <th>1</th>\n",
              "      <td>ENST00000452583</td>\n",
              "      <td>3</td>\n",
              "      <td>110</td>\n",
              "      <td>309</td>\n",
              "      <td>GAGTATTAAAGCTATGAGTTAGAAAGGGTTGTGACATTAATGGTCCACAAAGGCTTTAGGCACAAGAGGTAATGATGATTACCGGTGGCTATTTGGAGGACTGCACCGGATCGCTGTCATTAAAAATTAAGCGTGGCTTTTGAGGAAGATGTGACAACTACCGGAGGTCTTTTTGCCATTCCTCCAGGACATCCACCATA</td>\n",
              "    </tr>\n",
              "    <tr>\n",
              "      <th>2</th>\n",
              "      <td>ENST00000360535</td>\n",
              "      <td>19</td>\n",
              "      <td>1</td>\n",
              "      <td>200</td>\n",
              "      <td>TCTCCGCCCCCACCCCCTGTCGGCGTCTGGGCCTCGTCCCCTTCTCTCTGTCTCCCTTGCCTCCCCCATCACGTCCCCTGACACCGACACCCCATTGCTCCCACAGTCTCCCCAGTCTCCACTTTGGTCCCCAGCGCTGTCTGCCCGAGGATTTGCCTGAAGGCTGCCCCCAACTCTGCACCCGCCCCCCGAGGGCCACC</td>\n",
              "    </tr>\n",
              "    <tr>\n",
              "      <th>3</th>\n",
              "      <td>ENST00000360820</td>\n",
              "      <td>12</td>\n",
              "      <td>119</td>\n",
              "      <td>318</td>\n",
              "      <td>GCCTCCCAGGGCCGCTCAGGCTGGTGGGTGTTGCCTGGTGACGGGCCTGCCGGCGGCCGGCCGGGCGATCGGCGGTCGGCGCCCGCGCAAAGCGGGGCTGGACGAGCAGCGAGCTCCGGGGAGCGGATCCGAGAGGGCCGAGTCCTCGAAAGAGGCCTTGAGGCGACGGGAGACCCGGGATCGAAGTCAGCTGCCGGAGG</td>\n",
              "    </tr>\n",
              "    <tr>\n",
              "      <th>4</th>\n",
              "      <td>ENST00000264449</td>\n",
              "      <td>4</td>\n",
              "      <td>10</td>\n",
              "      <td>209</td>\n",
              "      <td>GCGCCGCCACCTTCGCCGCCACCGCTGCCTTTCTCCTCCTCCTGTCGGCGTGCGGGGGCCGCGCCCGGCGGCAGCTCTGCCCTAGGTGGGCGGCGGCGCGGCCCAGGCTGCAGCTGAGCGCTCTGCGCGGCGCAGCCGGGTCTCCCGCGTGTACCACGCCGTGACAGGTGCAGAGTCCGGGCTGAGGACCCACCTGCAGC</td>\n",
              "    </tr>\n",
              "  </tbody>\n",
              "</table>\n",
              "</div>"
            ],
            "text/plain": [
              "                id  ...                                                                                                                                                                                                       seq\n",
              "0  ENST00000649685  ...  GGAAAAAAATGAAAGGAAAAATATTTCAACCCGGCTGTCGGTCTAAAAGAGGAGAGAATGCTTTCTTTAAAAAAGGATTGTTGATGTTATTGTTGGGAAAGACGAAAAAGGCAGAAAGATCCCAGAATATCTGATCCATTTTAATGGTTGGAACAGAAGCTGGGATAGATGGGCAGCAGAAGATCATGTGCTTCGTGATA\n",
              "1  ENST00000452583  ...  GAGTATTAAAGCTATGAGTTAGAAAGGGTTGTGACATTAATGGTCCACAAAGGCTTTAGGCACAAGAGGTAATGATGATTACCGGTGGCTATTTGGAGGACTGCACCGGATCGCTGTCATTAAAAATTAAGCGTGGCTTTTGAGGAAGATGTGACAACTACCGGAGGTCTTTTTGCCATTCCTCCAGGACATCCACCATA\n",
              "2  ENST00000360535  ...  TCTCCGCCCCCACCCCCTGTCGGCGTCTGGGCCTCGTCCCCTTCTCTCTGTCTCCCTTGCCTCCCCCATCACGTCCCCTGACACCGACACCCCATTGCTCCCACAGTCTCCCCAGTCTCCACTTTGGTCCCCAGCGCTGTCTGCCCGAGGATTTGCCTGAAGGCTGCCCCCAACTCTGCACCCGCCCCCCGAGGGCCACC\n",
              "3  ENST00000360820  ...  GCCTCCCAGGGCCGCTCAGGCTGGTGGGTGTTGCCTGGTGACGGGCCTGCCGGCGGCCGGCCGGGCGATCGGCGGTCGGCGCCCGCGCAAAGCGGGGCTGGACGAGCAGCGAGCTCCGGGGAGCGGATCCGAGAGGGCCGAGTCCTCGAAAGAGGCCTTGAGGCGACGGGAGACCCGGGATCGAAGTCAGCTGCCGGAGG\n",
              "4  ENST00000264449  ...  GCGCCGCCACCTTCGCCGCCACCGCTGCCTTTCTCCTCCTCCTGTCGGCGTGCGGGGGCCGCGCCCGGCGGCAGCTCTGCCCTAGGTGGGCGGCGGCGCGGCCCAGGCTGCAGCTGAGCGCTCTGCGCGGCGCAGCCGGGTCTCCCGCGTGTACCACGCCGTGACAGGTGCAGAGTCCGGGCTGAGGACCCACCTGCAGC\n",
              "\n",
              "[5 rows x 5 columns]"
            ]
          },
          "metadata": {
            "tags": []
          },
          "execution_count": 5
        }
      ]
    },
    {
      "cell_type": "code",
      "metadata": {
        "id": "V-WYDE4wvZEA",
        "colab_type": "code",
        "colab": {}
      },
      "source": [
        "!rm -rf split_tok\n",
        "\n",
        "!rm -rf split\n",
        "!mkdir split\n",
        "!mkdir split/train\n",
        "!mkdir split/valid\n",
        "!mkdir split/train/1/\n",
        "!mkdir split/valid/1/"
      ],
      "execution_count": 6,
      "outputs": []
    },
    {
      "cell_type": "code",
      "metadata": {
        "id": "5KII2R0JvkQT",
        "colab_type": "code",
        "colab": {}
      },
      "source": [
        "# splitting the file into training and test part\n",
        "N = len(dt.seq)\n",
        "\n",
        "for i, s in enumerate(train.seq):\n",
        "  open(\"split/train/1/seq\"+str(i)+\".txt\", 'w').writelines([s])\n",
        "for i, s in enumerate(test.seq):\n",
        "  open(\"split/valid/1/seq\"+str(i)+\".txt\", 'w').writelines([s])"
      ],
      "execution_count": 7,
      "outputs": []
    },
    {
      "cell_type": "markdown",
      "metadata": {
        "id": "DsWZp8dnxSqa",
        "colab_type": "text"
      },
      "source": [
        "## Tokenizer"
      ]
    },
    {
      "cell_type": "code",
      "metadata": {
        "id": "GbRbPRbJv0VB",
        "colab_type": "code",
        "colab": {
          "base_uri": "https://localhost:8080/",
          "height": 217
        },
        "outputId": "42091392-9a35-4354-d3bc-15a5790636b6"
      },
      "source": [
        "!wget https://raw.githubusercontent.com/simecek/PseudoDNA_Generator/master/models/genomic_tokenizer2.py"
      ],
      "execution_count": 8,
      "outputs": [
        {
          "output_type": "stream",
          "text": [
            "--2020-06-29 13:15:38--  https://raw.githubusercontent.com/simecek/PseudoDNA_Generator/master/models/genomic_tokenizer2.py\n",
            "Resolving raw.githubusercontent.com (raw.githubusercontent.com)... 151.101.0.133, 151.101.64.133, 151.101.128.133, ...\n",
            "Connecting to raw.githubusercontent.com (raw.githubusercontent.com)|151.101.0.133|:443... connected.\n",
            "HTTP request sent, awaiting response... 200 OK\n",
            "Length: 565 [text/plain]\n",
            "Saving to: ‘genomic_tokenizer2.py’\n",
            "\n",
            "\rgenomic_tokenizer2.   0%[                    ]       0  --.-KB/s               \rgenomic_tokenizer2. 100%[===================>]     565  --.-KB/s    in 0s      \n",
            "\n",
            "2020-06-29 13:15:38 (32.6 MB/s) - ‘genomic_tokenizer2.py’ saved [565/565]\n",
            "\n"
          ],
          "name": "stdout"
        }
      ]
    },
    {
      "cell_type": "code",
      "metadata": {
        "id": "Qm5Dgbicxa_Z",
        "colab_type": "code",
        "colab": {}
      },
      "source": [
        "from genomic_tokenizer2 import tkn2"
      ],
      "execution_count": 9,
      "outputs": []
    },
    {
      "cell_type": "markdown",
      "metadata": {
        "id": "bMNqgj9n1TEw",
        "colab_type": "text"
      },
      "source": [
        "## Data Loaders"
      ]
    },
    {
      "cell_type": "code",
      "metadata": {
        "id": "zFgyggiNxlz_",
        "colab_type": "code",
        "colab": {}
      },
      "source": [
        "dls_lm = TextDataLoaders.from_folder(Path(\"./split\"), bs=128, seed=42, \n",
        "                                   is_lm=True, \n",
        "                                   tok_tfm=tkn2, seq_len=50)"
      ],
      "execution_count": 10,
      "outputs": []
    },
    {
      "cell_type": "code",
      "metadata": {
        "id": "TmftEQ6bx42-",
        "colab_type": "code",
        "colab": {
          "base_uri": "https://localhost:8080/",
          "height": 474
        },
        "outputId": "77b40f07-cbf3-4069-88ab-548012c7e016"
      },
      "source": [
        "dls_lm.show_batch()"
      ],
      "execution_count": 11,
      "outputs": [
        {
          "output_type": "display_data",
          "data": {
            "text/html": [
              "<table border=\"1\" class=\"dataframe\">\n",
              "  <thead>\n",
              "    <tr style=\"text-align: right;\">\n",
              "      <th></th>\n",
              "      <th>text</th>\n",
              "      <th>text_</th>\n",
              "    </tr>\n",
              "  </thead>\n",
              "  <tbody>\n",
              "    <tr>\n",
              "      <th>0</th>\n",
              "      <td>C T C A C C C C T G G C G A C C C C G G A A G T G G G T C G G G G G C T T G G C C T C T G C C C G G</td>\n",
              "      <td>T C A C C C C T G G C G A C C C C G G A A G T G G G T C G G G G G C T T G G C C T C T G C C C G G C</td>\n",
              "    </tr>\n",
              "    <tr>\n",
              "      <th>1</th>\n",
              "      <td>C G A G C C G C G G C C G C C G C C A T C A G C A G C G C A G C T C C A G G G C C G G C T G C A G C</td>\n",
              "      <td>G A G C C G C G G C C G C C G C C A T C A G C A G C G C A G C T C C A G G G C C G G C T G C A G C G</td>\n",
              "    </tr>\n",
              "    <tr>\n",
              "      <th>2</th>\n",
              "      <td>C C G G G T C G T G C T G C A G C G C C C A G G A G C C A G G G C G C T G A C T G T C C T C G G C T</td>\n",
              "      <td>C G G G T C G T G C T G C A G C G C C C A G G A G C C A G G G C G C T G A C T G T C C T C G G C T C</td>\n",
              "    </tr>\n",
              "    <tr>\n",
              "      <th>3</th>\n",
              "      <td>G C T C T C C C C G G T G C C G C C G C C G C T G C C G C C G C C A T G G C T G C C A T G A T G G A</td>\n",
              "      <td>C T C T C C C C G G T G C C G C C G C C G C T G C C G C C G C C A T G G C T G C C A T G A T G G A T</td>\n",
              "    </tr>\n",
              "    <tr>\n",
              "      <th>4</th>\n",
              "      <td>A G G G G A A T C C A T T T C G T A G A C A G C T C T G C C G A G G C A C G G A G A G G G G C G G T</td>\n",
              "      <td>G G G G A A T C C A T T T C G T A G A C A G C T C T G C C G A G G C A C G G A G A G G G G C G G T G</td>\n",
              "    </tr>\n",
              "    <tr>\n",
              "      <th>5</th>\n",
              "      <td>C C A G G C C T G A G G A G C G A T G C G A C A G C T C A G T G G C T G A A C C G T G G G C T G T C</td>\n",
              "      <td>C A G G C C T G A G G A G C G A T G C G A C A G C T C A G T G G C T G A A C C G T G G G C T G T C A</td>\n",
              "    </tr>\n",
              "    <tr>\n",
              "      <th>6</th>\n",
              "      <td>G A C G T T C A C G G C G A A G C A G C T G G A G A A G C T G G C C A A G A A G G C G G A G A A G G</td>\n",
              "      <td>A C G T T C A C G G C G A A G C A G C T G G A G A A G C T G G C C A A G A A G G C G G A G A A G G A</td>\n",
              "    </tr>\n",
              "    <tr>\n",
              "      <th>7</th>\n",
              "      <td>G C G G C C G G A G C T C G G G T C G C C G A C G C T G G C C A G G A C C G C G C T T C T T C C C G</td>\n",
              "      <td>C G G C C G G A G C T C G G G T C G C C G A C G C T G G C C A G G A C C G C G C T T C T T C C C G G</td>\n",
              "    </tr>\n",
              "    <tr>\n",
              "      <th>8</th>\n",
              "      <td>G G A C T G G C G G T C C T G C G G C C C C A G G C C G C C G C G G C C C C G C A G C G C T G G T C</td>\n",
              "      <td>G A C T G G C G G T C C T G C G G C C C C A G G C C G C C G C G G C C C C G C A G C G C T G G T C T</td>\n",
              "    </tr>\n",
              "  </tbody>\n",
              "</table>"
            ],
            "text/plain": [
              "<IPython.core.display.HTML object>"
            ]
          },
          "metadata": {
            "tags": []
          }
        }
      ]
    },
    {
      "cell_type": "markdown",
      "metadata": {
        "id": "7sr_NFaB1uHH",
        "colab_type": "text"
      },
      "source": [
        "## Model and Learning"
      ]
    },
    {
      "cell_type": "code",
      "metadata": {
        "id": "xcOLVeQk0tJ8",
        "colab_type": "code",
        "colab": {}
      },
      "source": [
        "learn = language_model_learner(\n",
        "    dls_lm, AWD_LSTM, drop_mult=0.3, pretrained=False, \n",
        "    metrics=[accuracy, Perplexity()])"
      ],
      "execution_count": 12,
      "outputs": []
    },
    {
      "cell_type": "code",
      "metadata": {
        "id": "dZOgoDpnPl2E",
        "colab_type": "code",
        "colab": {
          "base_uri": "https://localhost:8080/",
          "height": 301
        },
        "outputId": "cdee08c9-1576-4879-8fe0-328b4d6a2785"
      },
      "source": [
        "learn.lr_find()"
      ],
      "execution_count": 13,
      "outputs": [
        {
          "output_type": "display_data",
          "data": {
            "text/html": [
              ""
            ],
            "text/plain": [
              "<IPython.core.display.HTML object>"
            ]
          },
          "metadata": {
            "tags": []
          }
        },
        {
          "output_type": "execute_result",
          "data": {
            "text/plain": [
              "SuggestedLRs(lr_min=0.04365158379077912, lr_steep=0.0006918309954926372)"
            ]
          },
          "metadata": {
            "tags": []
          },
          "execution_count": 13
        },
        {
          "output_type": "display_data",
          "data": {
            "image/png": "[encoded data removed]",
            "text/plain": [
              "<Figure size 432x288 with 1 Axes>"
            ]
          },
          "metadata": {
            "tags": [],
            "needs_background": "light"
          }
        }
      ]
    },
    {
      "cell_type": "code",
      "metadata": {
        "id": "GdWkfIiG11dd",
        "colab_type": "code",
        "colab": {
          "base_uri": "https://localhost:8080/",
          "height": 198
        },
        "outputId": "ce5ef64b-0890-40dc-e1c4-36fc2254f9fe"
      },
      "source": [
        "learn.fit_one_cycle(5, 1e-2)\n",
        "learn.export(\"/content/drive/My Drive/DNAModels/5UTRs/5UTR_AWD_LSTM_v0.pkl\")"
      ],
      "execution_count": 14,
      "outputs": [
        {
          "output_type": "display_data",
          "data": {
            "text/html": [
              "<table border=\"1\" class=\"dataframe\">\n",
              "  <thead>\n",
              "    <tr style=\"text-align: left;\">\n",
              "      <th>epoch</th>\n",
              "      <th>train_loss</th>\n",
              "      <th>valid_loss</th>\n",
              "      <th>accuracy</th>\n",
              "      <th>perplexity</th>\n",
              "      <th>time</th>\n",
              "    </tr>\n",
              "  </thead>\n",
              "  <tbody>\n",
              "    <tr>\n",
              "      <td>0</td>\n",
              "      <td>1.328343</td>\n",
              "      <td>1.480407</td>\n",
              "      <td>0.302433</td>\n",
              "      <td>4.394733</td>\n",
              "      <td>02:51</td>\n",
              "    </tr>\n",
              "    <tr>\n",
              "      <td>1</td>\n",
              "      <td>1.310669</td>\n",
              "      <td>1.307969</td>\n",
              "      <td>0.369757</td>\n",
              "      <td>3.698654</td>\n",
              "      <td>02:48</td>\n",
              "    </tr>\n",
              "    <tr>\n",
              "      <td>2</td>\n",
              "      <td>1.305647</td>\n",
              "      <td>1.303690</td>\n",
              "      <td>0.373411</td>\n",
              "      <td>3.682860</td>\n",
              "      <td>02:47</td>\n",
              "    </tr>\n",
              "    <tr>\n",
              "      <td>3</td>\n",
              "      <td>1.303036</td>\n",
              "      <td>1.302141</td>\n",
              "      <td>0.374983</td>\n",
              "      <td>3.677161</td>\n",
              "      <td>02:53</td>\n",
              "    </tr>\n",
              "    <tr>\n",
              "      <td>4</td>\n",
              "      <td>1.302454</td>\n",
              "      <td>1.301430</td>\n",
              "      <td>0.375648</td>\n",
              "      <td>3.674546</td>\n",
              "      <td>02:49</td>\n",
              "    </tr>\n",
              "  </tbody>\n",
              "</table>"
            ],
            "text/plain": [
              "<IPython.core.display.HTML object>"
            ]
          },
          "metadata": {
            "tags": []
          }
        }
      ]
    }
  ]
}