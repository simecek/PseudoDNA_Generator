{
  "nbformat": 4,
  "nbformat_minor": 0,
  "metadata": {
    "colab": {
      "name": "Intergenomic_AWD_LSTM_v6.ipynb",
      "provenance": [],
      "collapsed_sections": [],
      "toc_visible": true,
      "include_colab_link": true
    },
    "kernelspec": {
      "name": "python3",
      "display_name": "Python 3"
    },
    "accelerator": "GPU"
  },
  "cells": [
    {
      "cell_type": "markdown",
      "metadata": {
        "id": "view-in-github",
        "colab_type": "text"
      },
      "source": [
        "<a href=\"https://colab.research.google.com/github/simecek/PseudoDNA_Generator/blob/master/models/Intergenomic_AWD_LSTM_v6.ipynb\" target=\"_parent\"><img src=\"https://colab.research.google.com/assets/colab-badge.svg\" alt=\"Open In Colab\"/></a>"
      ]
    },
    {
      "cell_type": "markdown",
      "metadata": {
        "id": "y8NYCcZxvM2P",
        "colab_type": "text"
      },
      "source": [
        "## Setup"
      ]
    },
    {
      "cell_type": "code",
      "metadata": {
        "id": "NeFnR_pcvEED",
        "colab_type": "code",
        "colab": {}
      },
      "source": [
        "!pip install fastai2>=0.0.11 ipywidgets matplotlib nbdev>=0.2.12 pandas scikit_learn sentencepiece"
      ],
      "execution_count": 1,
      "outputs": []
    },
    {
      "cell_type": "code",
      "metadata": {
        "id": "ExfZF-bTvSkj",
        "colab_type": "code",
        "colab": {}
      },
      "source": [
        "from fastai2.text.all import *\n",
        "import pandas as pd\n",
        "import torch"
      ],
      "execution_count": 2,
      "outputs": []
    },
    {
      "cell_type": "code",
      "metadata": {
        "id": "ERTuSw3U-Yxu",
        "colab_type": "code",
        "colab": {
          "base_uri": "https://localhost:8080/",
          "height": 34
        },
        "outputId": "4c993d0d-04d4-472e-c87a-015651d97944"
      },
      "source": [
        "torch.cuda.is_available(), torch.cuda.device_count(), torch.cuda.get_device_name(0)"
      ],
      "execution_count": 3,
      "outputs": [
        {
          "output_type": "execute_result",
          "data": {
            "text/plain": [
              "(True, 1, 'Tesla P100-PCIE-16GB')"
            ]
          },
          "metadata": {
            "tags": []
          },
          "execution_count": 3
        }
      ]
    },
    {
      "cell_type": "code",
      "metadata": {
        "id": "qkgkc8rNQCwY",
        "colab_type": "code",
        "colab": {
          "base_uri": "https://localhost:8080/",
          "height": 122
        },
        "outputId": "e696cbbe-5c4c-4361-9379-9ee9d978f4cb"
      },
      "source": [
        "# Mount to your Google Drive allowing lesson files will be saved to your Drive location\n",
        "from google.colab import drive\n",
        "drive.mount('/content/drive')"
      ],
      "execution_count": 4,
      "outputs": [
        {
          "output_type": "stream",
          "text": [
            "Go to this URL in a browser: https://accounts.google.com/o/oauth2/auth?client_id=947318989803-6bn6qk8qdgf4n4g3pfee6491hc0brc4i.apps.googleusercontent.com&redirect_uri=urn%3aietf%3awg%3aoauth%3a2.0%3aoob&response_type=code&scope=email%20https%3a%2f%2fwww.googleapis.com%2fauth%2fdocs.test%20https%3a%2f%2fwww.googleapis.com%2fauth%2fdrive%20https%3a%2f%2fwww.googleapis.com%2fauth%2fdrive.photos.readonly%20https%3a%2f%2fwww.googleapis.com%2fauth%2fpeopleapi.readonly\n",
            "\n",
            "Enter your authorization code:\n",
            "··········\n",
            "Mounted at /content/drive\n"
          ],
          "name": "stdout"
        }
      ]
    },
    {
      "cell_type": "code",
      "metadata": {
        "id": "uAMnbJuNxBkU",
        "colab_type": "code",
        "colab": {
          "base_uri": "https://localhost:8080/",
          "height": 241
        },
        "outputId": "52c8153c-1c4a-4b9f-c010-7b2dad31efa7"
      },
      "source": [
        "dt = pd.read_csv(\"/content/drive/My Drive/data/random/intergenomic_seqs_50k.csv\")\n",
        "dt = dt[~dt.seq.str.contains(\"N\")]   # just for sure\n",
        "\n",
        "train = dt[dt.chr!=\"1\"]\n",
        "test = dt[dt.chr==\"1\"]\n",
        "\n",
        "print(dt.shape, train.shape, test.shape)\n",
        "dt.head()"
      ],
      "execution_count": 5,
      "outputs": [
        {
          "output_type": "stream",
          "text": [
            "(50000, 4) (46286, 4) (3714, 4)\n"
          ],
          "name": "stdout"
        },
        {
          "output_type": "execute_result",
          "data": {
            "text/html": [
              "<div>\n",
              "<style scoped>\n",
              "    .dataframe tbody tr th:only-of-type {\n",
              "        vertical-align: middle;\n",
              "    }\n",
              "\n",
              "    .dataframe tbody tr th {\n",
              "        vertical-align: top;\n",
              "    }\n",
              "\n",
              "    .dataframe thead th {\n",
              "        text-align: right;\n",
              "    }\n",
              "</style>\n",
              "<table border=\"1\" class=\"dataframe\">\n",
              "  <thead>\n",
              "    <tr style=\"text-align: right;\">\n",
              "      <th></th>\n",
              "      <th>chr</th>\n",
              "      <th>start</th>\n",
              "      <th>end</th>\n",
              "      <th>seq</th>\n",
              "    </tr>\n",
              "  </thead>\n",
              "  <tbody>\n",
              "    <tr>\n",
              "      <th>0</th>\n",
              "      <td>17</td>\n",
              "      <td>14239397</td>\n",
              "      <td>14239596</td>\n",
              "      <td>AACTGGGATTCACAGGAGCTTAATGGAGCACATGATGTTAAGTGAAGTGAGCCAGGCACAAAAAGACAACTACCACGTGATCTGACTTATGTGGAATGTAAAACAATTGAACTCATGGAAGCAGAGAGTAGAATGGAGGATACCAGGGGCTGGGAGGCAGGGGTTTGGGGAGACGGTGAAAGCGTTCTAAAGTGTAGTTA</td>\n",
              "    </tr>\n",
              "    <tr>\n",
              "      <th>1</th>\n",
              "      <td>X</td>\n",
              "      <td>90928374</td>\n",
              "      <td>90928573</td>\n",
              "      <td>GCTAGTTGTATGGTTAGCAGCAAGATATTTTTTCTCTCTGATCTTTAATTTTCATATTTAAATTTGGCTAAGAGTACTTGCCTCTTAAAACTGTGTTGCTGGTATTACCAGAGTGTGGTATAATTAAAATATATATTTGCTTTTTGTCACCAGTTTCTCACACAGTACATCAAAAGCCCTTGCAATTTTCTGAGTGATAA</td>\n",
              "    </tr>\n",
              "    <tr>\n",
              "      <th>2</th>\n",
              "      <td>3</td>\n",
              "      <td>104278717</td>\n",
              "      <td>104278916</td>\n",
              "      <td>GACTTTGTAGACTTGTGTGACCTGTGTGCCTCCCTCTCCCCCCAAAAAAAACAAAAAAAATAAAGGATCTTGGGAAAGACTATATAAAAGGCAAGACTCCTTTAATGGAGGGGATATGCTAGATTGCCTCCCATTATGGCCCATGCCAAAGTGTTTAAACTTAGAAAAATGGTTCCAGTTTACTTCTGGGCTTAAAAATC</td>\n",
              "    </tr>\n",
              "    <tr>\n",
              "      <th>3</th>\n",
              "      <td>4</td>\n",
              "      <td>187089054</td>\n",
              "      <td>187089253</td>\n",
              "      <td>ATGTTAACACCAAATCAGTCCATCCTAATTATCACTCAAAAATCAAACATTTTTTAGGGAGGCAAAAACTGTCATGAGAACTACAATTTGATTTGGAGACTATTTCACTTATACAGTTTCTTCACATGATGACCAGCCTTCTTTCTTTAGTAATGGTTATTACTATGGCCATTGCTGTTAATTCTGTGACTTATCACTTC</td>\n",
              "    </tr>\n",
              "    <tr>\n",
              "      <th>4</th>\n",
              "      <td>2</td>\n",
              "      <td>137742849</td>\n",
              "      <td>137743048</td>\n",
              "      <td>GCAGGAGCTCTATCTGTTTGGACTAGTTCAGCCCCATCTCTTTTGGGGTGACTCGGGTGATGCTAAGCTTCCCAGGGCCATTGTGTTCTGTCTTCTGCCTCTGACTTTTTCCCTGCTACCCACATGAGCTTCTGCTATGCTCTCTTCTTTCCTGTCCAGAAATCATGTAGTAAGATGCTTTTTGGCTGGAGACCCTGAAA</td>\n",
              "    </tr>\n",
              "  </tbody>\n",
              "</table>\n",
              "</div>"
            ],
            "text/plain": [
              "  chr  ...                                                                                                                                                                                                       seq\n",
              "0  17  ...  AACTGGGATTCACAGGAGCTTAATGGAGCACATGATGTTAAGTGAAGTGAGCCAGGCACAAAAAGACAACTACCACGTGATCTGACTTATGTGGAATGTAAAACAATTGAACTCATGGAAGCAGAGAGTAGAATGGAGGATACCAGGGGCTGGGAGGCAGGGGTTTGGGGAGACGGTGAAAGCGTTCTAAAGTGTAGTTA\n",
              "1   X  ...  GCTAGTTGTATGGTTAGCAGCAAGATATTTTTTCTCTCTGATCTTTAATTTTCATATTTAAATTTGGCTAAGAGTACTTGCCTCTTAAAACTGTGTTGCTGGTATTACCAGAGTGTGGTATAATTAAAATATATATTTGCTTTTTGTCACCAGTTTCTCACACAGTACATCAAAAGCCCTTGCAATTTTCTGAGTGATAA\n",
              "2   3  ...  GACTTTGTAGACTTGTGTGACCTGTGTGCCTCCCTCTCCCCCCAAAAAAAACAAAAAAAATAAAGGATCTTGGGAAAGACTATATAAAAGGCAAGACTCCTTTAATGGAGGGGATATGCTAGATTGCCTCCCATTATGGCCCATGCCAAAGTGTTTAAACTTAGAAAAATGGTTCCAGTTTACTTCTGGGCTTAAAAATC\n",
              "3   4  ...  ATGTTAACACCAAATCAGTCCATCCTAATTATCACTCAAAAATCAAACATTTTTTAGGGAGGCAAAAACTGTCATGAGAACTACAATTTGATTTGGAGACTATTTCACTTATACAGTTTCTTCACATGATGACCAGCCTTCTTTCTTTAGTAATGGTTATTACTATGGCCATTGCTGTTAATTCTGTGACTTATCACTTC\n",
              "4   2  ...  GCAGGAGCTCTATCTGTTTGGACTAGTTCAGCCCCATCTCTTTTGGGGTGACTCGGGTGATGCTAAGCTTCCCAGGGCCATTGTGTTCTGTCTTCTGCCTCTGACTTTTTCCCTGCTACCCACATGAGCTTCTGCTATGCTCTCTTCTTTCCTGTCCAGAAATCATGTAGTAAGATGCTTTTTGGCTGGAGACCCTGAAA\n",
              "\n",
              "[5 rows x 4 columns]"
            ]
          },
          "metadata": {
            "tags": []
          },
          "execution_count": 5
        }
      ]
    },
    {
      "cell_type": "code",
      "metadata": {
        "id": "V-WYDE4wvZEA",
        "colab_type": "code",
        "colab": {}
      },
      "source": [
        "!rm -rf split_tok\n",
        "\n",
        "!rm -rf split\n",
        "!mkdir split\n",
        "!mkdir split/train\n",
        "!mkdir split/valid\n",
        "!mkdir split/train/1/\n",
        "!mkdir split/valid/1/"
      ],
      "execution_count": 6,
      "outputs": []
    },
    {
      "cell_type": "code",
      "metadata": {
        "id": "5KII2R0JvkQT",
        "colab_type": "code",
        "colab": {}
      },
      "source": [
        "# splitting the file into training and test part\n",
        "N = len(dt.seq)\n",
        "\n",
        "for i, s in enumerate(train.seq):\n",
        "  open(\"split/train/1/seq\"+str(i)+\".txt\", 'w').writelines([s])\n",
        "for i, s in enumerate(test.seq):\n",
        "  open(\"split/valid/1/seq\"+str(i)+\".txt\", 'w').writelines([s])"
      ],
      "execution_count": 7,
      "outputs": []
    },
    {
      "cell_type": "markdown",
      "metadata": {
        "id": "DsWZp8dnxSqa",
        "colab_type": "text"
      },
      "source": [
        "## Tokenizer"
      ]
    },
    {
      "cell_type": "code",
      "metadata": {
        "id": "GbRbPRbJv0VB",
        "colab_type": "code",
        "colab": {
          "base_uri": "https://localhost:8080/",
          "height": 204
        },
        "outputId": "081077fd-c2b9-4047-8fcd-351f57cc9938"
      },
      "source": [
        "!wget https://raw.githubusercontent.com/simecek/PseudoDNA_Generator/master/models/genomic_tokenizer2.py"
      ],
      "execution_count": 8,
      "outputs": [
        {
          "output_type": "stream",
          "text": [
            "--2020-06-20 23:18:07--  https://raw.githubusercontent.com/simecek/PseudoDNA_Generator/master/models/genomic_tokenizer2.py\n",
            "Resolving raw.githubusercontent.com (raw.githubusercontent.com)... 151.101.0.133, 151.101.64.133, 151.101.128.133, ...\n",
            "Connecting to raw.githubusercontent.com (raw.githubusercontent.com)|151.101.0.133|:443... connected.\n",
            "HTTP request sent, awaiting response... 200 OK\n",
            "Length: 565 [text/plain]\n",
            "Saving to: ‘genomic_tokenizer2.py’\n",
            "\n",
            "\rgenomic_tokenizer2.   0%[                    ]       0  --.-KB/s               \rgenomic_tokenizer2. 100%[===================>]     565  --.-KB/s    in 0s      \n",
            "\n",
            "2020-06-20 23:18:07 (40.7 MB/s) - ‘genomic_tokenizer2.py’ saved [565/565]\n",
            "\n"
          ],
          "name": "stdout"
        }
      ]
    },
    {
      "cell_type": "code",
      "metadata": {
        "id": "Qm5Dgbicxa_Z",
        "colab_type": "code",
        "colab": {}
      },
      "source": [
        "from genomic_tokenizer2 import tkn2"
      ],
      "execution_count": 9,
      "outputs": []
    },
    {
      "cell_type": "markdown",
      "metadata": {
        "id": "bMNqgj9n1TEw",
        "colab_type": "text"
      },
      "source": [
        "## Data Loaders"
      ]
    },
    {
      "cell_type": "code",
      "metadata": {
        "id": "zFgyggiNxlz_",
        "colab_type": "code",
        "colab": {}
      },
      "source": [
        "dls_lm = TextDataLoaders.from_folder(Path(\"./split\"), bs=128, seed=42, \n",
        "                                   is_lm=True, \n",
        "                                   tok_tfm=tkn2, seq_len=50)"
      ],
      "execution_count": 10,
      "outputs": []
    },
    {
      "cell_type": "code",
      "metadata": {
        "id": "TmftEQ6bx42-",
        "colab_type": "code",
        "colab": {
          "base_uri": "https://localhost:8080/",
          "height": 328
        },
        "outputId": "0f4ab648-f1bf-4f67-d1b0-801f0dbfa475"
      },
      "source": [
        "dls_lm.show_batch()"
      ],
      "execution_count": 11,
      "outputs": [
        {
          "output_type": "display_data",
          "data": {
            "text/html": [
              "<table border=\"1\" class=\"dataframe\">\n",
              "  <thead>\n",
              "    <tr style=\"text-align: right;\">\n",
              "      <th></th>\n",
              "      <th>text</th>\n",
              "      <th>text_</th>\n",
              "    </tr>\n",
              "  </thead>\n",
              "  <tbody>\n",
              "    <tr>\n",
              "      <th>0</th>\n",
              "      <td>A C A A C A C C T C T C C A G C A A G G G T A C C G A A C T G G A T G G C A G A T G A G T T G G A C</td>\n",
              "      <td>C A A C A C C T C T C C A G C A A G G G T A C C G A A C T G G A T G G C A G A T G A G T T G G A C A</td>\n",
              "    </tr>\n",
              "    <tr>\n",
              "      <th>1</th>\n",
              "      <td>A A G C T T C C A C T G C T T C T T C C C A C A C A G A G A A C T A C C T T C A G T G C A T A C A A</td>\n",
              "      <td>A G C T T C C A C T G C T T C T T C C C A C A C A G A G A A C T A C C T T C A G T G C A T A C A A C</td>\n",
              "    </tr>\n",
              "    <tr>\n",
              "      <th>2</th>\n",
              "      <td>A T G G T C T T T A A C A G G G T T T T G G T A G G G A C A T G G T A G A G G C T G G T T C C T A A</td>\n",
              "      <td>T G G T C T T T A A C A G G G T T T T G G T A G G G A C A T G G T A G A G G C T G G T T C C T A A A</td>\n",
              "    </tr>\n",
              "    <tr>\n",
              "      <th>3</th>\n",
              "      <td>G A A T T T T G A T T G G A A A C A A A G G A A A G A A A A A G T G C A T A A C C C G G G A A G C G</td>\n",
              "      <td>A A T T T T G A T T G G A A A C A A A G G A A A G A A A A A G T G C A T A A C C C G G G A A G C G G</td>\n",
              "    </tr>\n",
              "    <tr>\n",
              "      <th>4</th>\n",
              "      <td>T T C T T C A G C C T A A C C A T G T T G A G T C C C A A A A T T T A G G T T T T T T G T A A C C T</td>\n",
              "      <td>T C T T C A G C C T A A C C A T G T T G A G T C C C A A A A T T T A G G T T T T T T G T A A C C T C</td>\n",
              "    </tr>\n",
              "    <tr>\n",
              "      <th>5</th>\n",
              "      <td>T G A T C T G C C C G C C T C G G T C T C C T A A A G T G C T G G G A T T A C A G G C A T A A G C C</td>\n",
              "      <td>G A T C T G C C C G C C T C G G T C T C C T A A A G T G C T G G G A T T A C A G G C A T A A G C C A</td>\n",
              "    </tr>\n",
              "    <tr>\n",
              "      <th>6</th>\n",
              "      <td>A A A A A C T A C T T T A A A G T T C A T A T G A A A C C A A A G A A G A G C C T G T G T T G C C A</td>\n",
              "      <td>A A A A C T A C T T T A A A G T T C A T A T G A A A C C A A A G A A G A G C C T G T G T T G C C A A</td>\n",
              "    </tr>\n",
              "    <tr>\n",
              "      <th>7</th>\n",
              "      <td>A A C A T G A T A C T A A G T G A A A T A A G A A A G C C A C A A A A A G A C A A A T A C T G T A T</td>\n",
              "      <td>A C A T G A T A C T A A G T G A A A T A A G A A A G C C A C A A A A A G A C A A A T A C T G T A T A</td>\n",
              "    </tr>\n",
              "    <tr>\n",
              "      <th>8</th>\n",
              "      <td>T C A G G A A A T A C A A A G A A C A T C A C A A A G A T A C T C C T T C C T G A G T G C T G G G A</td>\n",
              "      <td>C A G G A A A T A C A A A G A A C A T C A C A A A G A T A C T C C T T C C T G A G T G C T G G G A T</td>\n",
              "    </tr>\n",
              "  </tbody>\n",
              "</table>"
            ],
            "text/plain": [
              "<IPython.core.display.HTML object>"
            ]
          },
          "metadata": {
            "tags": []
          }
        }
      ]
    },
    {
      "cell_type": "markdown",
      "metadata": {
        "id": "7sr_NFaB1uHH",
        "colab_type": "text"
      },
      "source": [
        "## Model and Learning"
      ]
    },
    {
      "cell_type": "code",
      "metadata": {
        "id": "xcOLVeQk0tJ8",
        "colab_type": "code",
        "colab": {}
      },
      "source": [
        "learn = language_model_learner(\n",
        "    dls_lm, AWD_LSTM, drop_mult=0.3, pretrained=False, \n",
        "    metrics=[accuracy, Perplexity()])"
      ],
      "execution_count": 12,
      "outputs": []
    },
    {
      "cell_type": "code",
      "metadata": {
        "id": "dZOgoDpnPl2E",
        "colab_type": "code",
        "colab": {
          "base_uri": "https://localhost:8080/",
          "height": 300
        },
        "outputId": "b71abb76-71c0-4bc1-d755-ff8cf128ce58"
      },
      "source": [
        "learn.lr_find()"
      ],
      "execution_count": 13,
      "outputs": [
        {
          "output_type": "display_data",
          "data": {
            "text/html": [
              ""
            ],
            "text/plain": [
              "<IPython.core.display.HTML object>"
            ]
          },
          "metadata": {
            "tags": []
          }
        },
        {
          "output_type": "execute_result",
          "data": {
            "text/plain": [
              "SuggestedLRs(lr_min=0.0009120108559727668, lr_steep=0.010964781977236271)"
            ]
          },
          "metadata": {
            "tags": []
          },
          "execution_count": 13
        },
        {
          "output_type": "display_data",
          "data": {
            "image/png": "[encoded data removed]",
            "text/plain": [
              "<Figure size 432x288 with 1 Axes>"
            ]
          },
          "metadata": {
            "tags": [],
            "needs_background": "light"
          }
        }
      ]
    },
    {
      "cell_type": "code",
      "metadata": {
        "id": "GdWkfIiG11dd",
        "colab_type": "code",
        "colab": {
          "base_uri": "https://localhost:8080/",
          "height": 359
        },
        "outputId": "7681bee5-f634-47e7-b024-2e40aa80247a"
      },
      "source": [
        "learn.fit_one_cycle(10, 1e-2)\n",
        "learn.export(\"/content/drive/My Drive/DNAModels/Intergenomic/AWD_LSTM_v6.pkl\")"
      ],
      "execution_count": 14,
      "outputs": [
        {
          "output_type": "display_data",
          "data": {
            "text/html": [
              "<table border=\"1\" class=\"dataframe\">\n",
              "  <thead>\n",
              "    <tr style=\"text-align: left;\">\n",
              "      <th>epoch</th>\n",
              "      <th>train_loss</th>\n",
              "      <th>valid_loss</th>\n",
              "      <th>accuracy</th>\n",
              "      <th>perplexity</th>\n",
              "      <th>time</th>\n",
              "    </tr>\n",
              "  </thead>\n",
              "  <tbody>\n",
              "    <tr>\n",
              "      <td>0</td>\n",
              "      <td>1.319026</td>\n",
              "      <td>1.317057</td>\n",
              "      <td>0.356335</td>\n",
              "      <td>3.732421</td>\n",
              "      <td>05:53</td>\n",
              "    </tr>\n",
              "    <tr>\n",
              "      <td>1</td>\n",
              "      <td>1.268806</td>\n",
              "      <td>1.267198</td>\n",
              "      <td>0.395128</td>\n",
              "      <td>3.550891</td>\n",
              "      <td>05:52</td>\n",
              "    </tr>\n",
              "    <tr>\n",
              "      <td>2</td>\n",
              "      <td>1.238815</td>\n",
              "      <td>1.240738</td>\n",
              "      <td>0.407204</td>\n",
              "      <td>3.458166</td>\n",
              "      <td>05:51</td>\n",
              "    </tr>\n",
              "    <tr>\n",
              "      <td>3</td>\n",
              "      <td>1.236883</td>\n",
              "      <td>1.230025</td>\n",
              "      <td>0.414033</td>\n",
              "      <td>3.421314</td>\n",
              "      <td>05:51</td>\n",
              "    </tr>\n",
              "    <tr>\n",
              "      <td>4</td>\n",
              "      <td>1.225663</td>\n",
              "      <td>1.223441</td>\n",
              "      <td>0.417613</td>\n",
              "      <td>3.398863</td>\n",
              "      <td>05:50</td>\n",
              "    </tr>\n",
              "    <tr>\n",
              "      <td>5</td>\n",
              "      <td>1.206722</td>\n",
              "      <td>1.213210</td>\n",
              "      <td>0.422614</td>\n",
              "      <td>3.364266</td>\n",
              "      <td>05:51</td>\n",
              "    </tr>\n",
              "    <tr>\n",
              "      <td>6</td>\n",
              "      <td>1.202842</td>\n",
              "      <td>1.205860</td>\n",
              "      <td>0.426965</td>\n",
              "      <td>3.339630</td>\n",
              "      <td>05:49</td>\n",
              "    </tr>\n",
              "    <tr>\n",
              "      <td>7</td>\n",
              "      <td>1.193184</td>\n",
              "      <td>1.200213</td>\n",
              "      <td>0.429974</td>\n",
              "      <td>3.320825</td>\n",
              "      <td>05:49</td>\n",
              "    </tr>\n",
              "    <tr>\n",
              "      <td>8</td>\n",
              "      <td>1.185562</td>\n",
              "      <td>1.197221</td>\n",
              "      <td>0.432011</td>\n",
              "      <td>3.310902</td>\n",
              "      <td>05:49</td>\n",
              "    </tr>\n",
              "    <tr>\n",
              "      <td>9</td>\n",
              "      <td>1.181196</td>\n",
              "      <td>1.196629</td>\n",
              "      <td>0.432396</td>\n",
              "      <td>3.308943</td>\n",
              "      <td>05:49</td>\n",
              "    </tr>\n",
              "  </tbody>\n",
              "</table>"
            ],
            "text/plain": [
              "<IPython.core.display.HTML object>"
            ]
          },
          "metadata": {
            "tags": []
          }
        }
      ]
    }
  ]
}