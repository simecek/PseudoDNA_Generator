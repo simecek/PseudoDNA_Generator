{
  "nbformat": 4,
  "nbformat_minor": 0,
  "metadata": {
    "colab": {
      "name": "Exons_AWD_LSTM_v1.ipynb",
      "provenance": [],
      "collapsed_sections": [],
      "toc_visible": true,
      "include_colab_link": true
    },
    "kernelspec": {
      "name": "python3",
      "display_name": "Python 3"
    },
    "accelerator": "GPU"
  },
  "cells": [
    {
      "cell_type": "markdown",
      "metadata": {
        "id": "view-in-github",
        "colab_type": "text"
      },
      "source": [
        "<a href=\"https://colab.research.google.com/github/simecek/PseudoDNA_Generator/blob/master/models/Exons_AWD_LSTM_v1.ipynb\" target=\"_parent\"><img src=\"https://colab.research.google.com/assets/colab-badge.svg\" alt=\"Open In Colab\"/></a>"
      ]
    },
    {
      "cell_type": "markdown",
      "metadata": {
        "id": "y8NYCcZxvM2P",
        "colab_type": "text"
      },
      "source": [
        "## Setup"
      ]
    },
    {
      "cell_type": "code",
      "metadata": {
        "id": "NeFnR_pcvEED",
        "colab_type": "code",
        "colab": {}
      },
      "source": [
        "!pip install fastai2>=0.0.11 ipywidgets matplotlib nbdev>=0.2.12 pandas scikit_learn sentencepiece"
      ],
      "execution_count": 2,
      "outputs": []
    },
    {
      "cell_type": "code",
      "metadata": {
        "id": "ExfZF-bTvSkj",
        "colab_type": "code",
        "colab": {}
      },
      "source": [
        "from fastai2.text.all import *\n",
        "import pandas as pd\n",
        "import torch"
      ],
      "execution_count": 3,
      "outputs": []
    },
    {
      "cell_type": "code",
      "metadata": {
        "id": "ERTuSw3U-Yxu",
        "colab_type": "code",
        "colab": {
          "base_uri": "https://localhost:8080/",
          "height": 35
        },
        "outputId": "020accb4-2d85-4c51-ca2e-9864100f771b"
      },
      "source": [
        "torch.cuda.is_available(), torch.cuda.device_count(), torch.cuda.get_device_name(0)"
      ],
      "execution_count": 4,
      "outputs": [
        {
          "output_type": "execute_result",
          "data": {
            "text/plain": [
              "(True, 1, 'Tesla P100-PCIE-16GB')"
            ]
          },
          "metadata": {
            "tags": []
          },
          "execution_count": 4
        }
      ]
    },
    {
      "cell_type": "code",
      "metadata": {
        "id": "qkgkc8rNQCwY",
        "colab_type": "code",
        "colab": {
          "base_uri": "https://localhost:8080/",
          "height": 128
        },
        "outputId": "1470adb1-1859-47ec-ba04-d6ed9fc08317"
      },
      "source": [
        "# Mount to your Google Drive allowing lesson files will be saved to your Drive location\n",
        "from google.colab import drive\n",
        "drive.mount('/content/drive')"
      ],
      "execution_count": 5,
      "outputs": [
        {
          "output_type": "stream",
          "text": [
            "Go to this URL in a browser: https://accounts.google.com/o/oauth2/auth?client_id=947318989803-6bn6qk8qdgf4n4g3pfee6491hc0brc4i.apps.googleusercontent.com&redirect_uri=urn%3aietf%3awg%3aoauth%3a2.0%3aoob&response_type=code&scope=email%20https%3a%2f%2fwww.googleapis.com%2fauth%2fdocs.test%20https%3a%2f%2fwww.googleapis.com%2fauth%2fdrive%20https%3a%2f%2fwww.googleapis.com%2fauth%2fdrive.photos.readonly%20https%3a%2f%2fwww.googleapis.com%2fauth%2fpeopleapi.readonly\n",
            "\n",
            "Enter your authorization code:\n",
            "··········\n",
            "Mounted at /content/drive\n"
          ],
          "name": "stdout"
        }
      ]
    },
    {
      "cell_type": "code",
      "metadata": {
        "id": "uAMnbJuNxBkU",
        "colab_type": "code",
        "colab": {
          "base_uri": "https://localhost:8080/",
          "height": 236
        },
        "outputId": "2402e43b-d331-4c1f-9970-2d63d93b5756"
      },
      "source": [
        "dt = pd.read_csv(\"/content/drive/My Drive/data/random/random_exons.csv\")\n",
        "dt.columns = ['chr', 'start', 'end', 'seq']\n",
        "dt = dt[~dt.seq.str.contains(\"N\")]   # just for sure\n",
        "\n",
        "train = dt[dt.chr!=\"1\"]\n",
        "test = dt[dt.chr==\"1\"]\n",
        "\n",
        "print(dt.shape, train.shape, test.shape)\n",
        "dt.head()"
      ],
      "execution_count": 6,
      "outputs": [
        {
          "output_type": "stream",
          "text": [
            "(50000, 4) (45336, 4) (4664, 4)\n"
          ],
          "name": "stdout"
        },
        {
          "output_type": "execute_result",
          "data": {
            "text/html": [
              "<div>\n",
              "<style scoped>\n",
              "    .dataframe tbody tr th:only-of-type {\n",
              "        vertical-align: middle;\n",
              "    }\n",
              "\n",
              "    .dataframe tbody tr th {\n",
              "        vertical-align: top;\n",
              "    }\n",
              "\n",
              "    .dataframe thead th {\n",
              "        text-align: right;\n",
              "    }\n",
              "</style>\n",
              "<table border=\"1\" class=\"dataframe\">\n",
              "  <thead>\n",
              "    <tr style=\"text-align: right;\">\n",
              "      <th></th>\n",
              "      <th>chr</th>\n",
              "      <th>start</th>\n",
              "      <th>end</th>\n",
              "      <th>seq</th>\n",
              "    </tr>\n",
              "  </thead>\n",
              "  <tbody>\n",
              "    <tr>\n",
              "      <th>0</th>\n",
              "      <td>1</td>\n",
              "      <td>236763182</td>\n",
              "      <td>236763381</td>\n",
              "      <td>GACTACCCAAAAGATTTTTGGCACTTACAATTTTTAAAATAGTTTATGTCATCTCTTCATTATTTAGGGCTGGATGGTCAACTCAGTCAGTGATTTTTTGATGCTTCTCTTATCCTCCAGAATAGAGACCTAAGGACACGTGGAAGTCAGTTTAATTGCCAGAGAGAAGGATGCAATCACTAGGTAAAATGAGGTTTTTA</td>\n",
              "    </tr>\n",
              "    <tr>\n",
              "      <th>1</th>\n",
              "      <td>17</td>\n",
              "      <td>8289582</td>\n",
              "      <td>8289781</td>\n",
              "      <td>AGCCCCCGTAAGGAGGAAGGAACGGGCGGGTATCTCATGACTGGGTTCCCAGGAGAATCGGGCTGGGAGGGACAGAACAGGGAGACTCACTGGTGGGATCCTCCAAGGAAGCAGGAGTGGGCCAGAGGTTTGGGGTAACTGATACCCAGGTCCTCTGGGGAACAGGAATTGGCAATTTCCAAACCTCAGGCCTGGATGAT</td>\n",
              "    </tr>\n",
              "    <tr>\n",
              "      <th>2</th>\n",
              "      <td>3</td>\n",
              "      <td>100455979</td>\n",
              "      <td>100456178</td>\n",
              "      <td>TGAGCCCCAATTCACCATTTCAGGATGTGGATGGGGGCGGGGTTGGGGGTAAAAACAGCTATAAAAAGCAACTGCAGATGCTGACTGACTGCAGTGGGCAGGGTATGTAGCTGCTCCAAGATGACTTGCATCATACCCCAATTACTGCTGGCATCTTAGTTGAGAGTATAATCTGCTTGGTTGCCTTTTTATGGGAATAA</td>\n",
              "    </tr>\n",
              "    <tr>\n",
              "      <th>3</th>\n",
              "      <td>10</td>\n",
              "      <td>94852754</td>\n",
              "      <td>94852953</td>\n",
              "      <td>AGGGCCTGGCCCGCATGGAGCTGTTTTTATTCCTGACCTTCATTTTACAGAACTTTAACCTGAAATCTCTGATTGACCCAAAGGACCTTGACACAACTCCTGTTGTCAATGGATTTGCTTCTGTCCCGCCCTTCTATCAGCTGTGCTTCATTCCTGTCTGAAGAAGCACAGATGGTCTGGCTGCTCCTGTGCTGTCCCTG</td>\n",
              "    </tr>\n",
              "    <tr>\n",
              "      <th>4</th>\n",
              "      <td>1</td>\n",
              "      <td>209756085</td>\n",
              "      <td>209756284</td>\n",
              "      <td>GGGTTTGCGAACCTTGTGGCTTTGTCTGTTTCCTGTTTCAGCAAGGCTGCTGTGCAAAAAGAAAGACGGTACCAAGAAGGGACGTGTTAATGGGGCCCAGACCTATGGATTGAAAGCGTGTGCTTTACCCATCTGCTGTCTTGCTCCATCTGAGACCAGAGCCAAGATCTGCCCAGGACTGGAATGCTTTCCCGAGTGGC</td>\n",
              "    </tr>\n",
              "  </tbody>\n",
              "</table>\n",
              "</div>"
            ],
            "text/plain": [
              "  chr  ...                                                                                                                                                                                                       seq\n",
              "0   1  ...  GACTACCCAAAAGATTTTTGGCACTTACAATTTTTAAAATAGTTTATGTCATCTCTTCATTATTTAGGGCTGGATGGTCAACTCAGTCAGTGATTTTTTGATGCTTCTCTTATCCTCCAGAATAGAGACCTAAGGACACGTGGAAGTCAGTTTAATTGCCAGAGAGAAGGATGCAATCACTAGGTAAAATGAGGTTTTTA\n",
              "1  17  ...  AGCCCCCGTAAGGAGGAAGGAACGGGCGGGTATCTCATGACTGGGTTCCCAGGAGAATCGGGCTGGGAGGGACAGAACAGGGAGACTCACTGGTGGGATCCTCCAAGGAAGCAGGAGTGGGCCAGAGGTTTGGGGTAACTGATACCCAGGTCCTCTGGGGAACAGGAATTGGCAATTTCCAAACCTCAGGCCTGGATGAT\n",
              "2   3  ...  TGAGCCCCAATTCACCATTTCAGGATGTGGATGGGGGCGGGGTTGGGGGTAAAAACAGCTATAAAAAGCAACTGCAGATGCTGACTGACTGCAGTGGGCAGGGTATGTAGCTGCTCCAAGATGACTTGCATCATACCCCAATTACTGCTGGCATCTTAGTTGAGAGTATAATCTGCTTGGTTGCCTTTTTATGGGAATAA\n",
              "3  10  ...  AGGGCCTGGCCCGCATGGAGCTGTTTTTATTCCTGACCTTCATTTTACAGAACTTTAACCTGAAATCTCTGATTGACCCAAAGGACCTTGACACAACTCCTGTTGTCAATGGATTTGCTTCTGTCCCGCCCTTCTATCAGCTGTGCTTCATTCCTGTCTGAAGAAGCACAGATGGTCTGGCTGCTCCTGTGCTGTCCCTG\n",
              "4   1  ...  GGGTTTGCGAACCTTGTGGCTTTGTCTGTTTCCTGTTTCAGCAAGGCTGCTGTGCAAAAAGAAAGACGGTACCAAGAAGGGACGTGTTAATGGGGCCCAGACCTATGGATTGAAAGCGTGTGCTTTACCCATCTGCTGTCTTGCTCCATCTGAGACCAGAGCCAAGATCTGCCCAGGACTGGAATGCTTTCCCGAGTGGC\n",
              "\n",
              "[5 rows x 4 columns]"
            ]
          },
          "metadata": {
            "tags": []
          },
          "execution_count": 6
        }
      ]
    },
    {
      "cell_type": "code",
      "metadata": {
        "id": "V-WYDE4wvZEA",
        "colab_type": "code",
        "colab": {}
      },
      "source": [
        "!rm -rf split_tok\n",
        "\n",
        "!rm -rf split\n",
        "!mkdir split\n",
        "!mkdir split/train\n",
        "!mkdir split/valid\n",
        "!mkdir split/train/1/\n",
        "!mkdir split/valid/1/"
      ],
      "execution_count": 7,
      "outputs": []
    },
    {
      "cell_type": "code",
      "metadata": {
        "id": "5KII2R0JvkQT",
        "colab_type": "code",
        "colab": {}
      },
      "source": [
        "# splitting the file into training and test part\n",
        "N = len(dt.seq)\n",
        "\n",
        "for i, s in enumerate(train.seq):\n",
        "  open(\"split/train/1/seq\"+str(i)+\".txt\", 'w').writelines([s])\n",
        "for i, s in enumerate(test.seq):\n",
        "  open(\"split/valid/1/seq\"+str(i)+\".txt\", 'w').writelines([s])"
      ],
      "execution_count": 8,
      "outputs": []
    },
    {
      "cell_type": "markdown",
      "metadata": {
        "id": "DsWZp8dnxSqa",
        "colab_type": "text"
      },
      "source": [
        "## Tokenizer"
      ]
    },
    {
      "cell_type": "code",
      "metadata": {
        "id": "GbRbPRbJv0VB",
        "colab_type": "code",
        "colab": {
          "base_uri": "https://localhost:8080/",
          "height": 217
        },
        "outputId": "477b6ce9-4360-408e-b8ab-a53036920f86"
      },
      "source": [
        "!wget https://raw.githubusercontent.com/simecek/PseudoDNA_Generator/master/models/genomic_tokenizer2.py"
      ],
      "execution_count": 9,
      "outputs": [
        {
          "output_type": "stream",
          "text": [
            "--2020-06-27 18:27:47--  https://raw.githubusercontent.com/simecek/PseudoDNA_Generator/master/models/genomic_tokenizer2.py\n",
            "Resolving raw.githubusercontent.com (raw.githubusercontent.com)... 151.101.0.133, 151.101.64.133, 151.101.128.133, ...\n",
            "Connecting to raw.githubusercontent.com (raw.githubusercontent.com)|151.101.0.133|:443... connected.\n",
            "HTTP request sent, awaiting response... 200 OK\n",
            "Length: 565 [text/plain]\n",
            "Saving to: ‘genomic_tokenizer2.py’\n",
            "\n",
            "\rgenomic_tokenizer2.   0%[                    ]       0  --.-KB/s               \rgenomic_tokenizer2. 100%[===================>]     565  --.-KB/s    in 0s      \n",
            "\n",
            "2020-06-27 18:27:47 (33.5 MB/s) - ‘genomic_tokenizer2.py’ saved [565/565]\n",
            "\n"
          ],
          "name": "stdout"
        }
      ]
    },
    {
      "cell_type": "code",
      "metadata": {
        "id": "Qm5Dgbicxa_Z",
        "colab_type": "code",
        "colab": {}
      },
      "source": [
        "from genomic_tokenizer2 import tkn2"
      ],
      "execution_count": 10,
      "outputs": []
    },
    {
      "cell_type": "markdown",
      "metadata": {
        "id": "bMNqgj9n1TEw",
        "colab_type": "text"
      },
      "source": [
        "## Data Loaders"
      ]
    },
    {
      "cell_type": "code",
      "metadata": {
        "id": "zFgyggiNxlz_",
        "colab_type": "code",
        "colab": {}
      },
      "source": [
        "dls_lm = TextDataLoaders.from_folder(Path(\"./split\"), bs=128, seed=42, \n",
        "                                   is_lm=True, \n",
        "                                   tok_tfm=tkn2, seq_len=50)"
      ],
      "execution_count": 11,
      "outputs": []
    },
    {
      "cell_type": "code",
      "metadata": {
        "id": "TmftEQ6bx42-",
        "colab_type": "code",
        "colab": {
          "base_uri": "https://localhost:8080/",
          "height": 474
        },
        "outputId": "d28a2286-bbcd-418c-f905-73273e6de467"
      },
      "source": [
        "dls_lm.show_batch()"
      ],
      "execution_count": 12,
      "outputs": [
        {
          "output_type": "display_data",
          "data": {
            "text/html": [
              "<table border=\"1\" class=\"dataframe\">\n",
              "  <thead>\n",
              "    <tr style=\"text-align: right;\">\n",
              "      <th></th>\n",
              "      <th>text</th>\n",
              "      <th>text_</th>\n",
              "    </tr>\n",
              "  </thead>\n",
              "  <tbody>\n",
              "    <tr>\n",
              "      <th>0</th>\n",
              "      <td>A A T G T A A G A G G C A C C A G A G G A T T C C T G C T C T G T C C C C T G G T T T G C G G C T T</td>\n",
              "      <td>A T G T A A G A G G C A C C A G A G G A T T C C T G C T C T G T C C C C T G G T T T G C G G C T T G</td>\n",
              "    </tr>\n",
              "    <tr>\n",
              "      <th>1</th>\n",
              "      <td>T T C T A A G C T A C A T A A A T T A A G A T A T C C A C T G G A C T G G A A A C T A T C A A T T T</td>\n",
              "      <td>T C T A A G C T A C A T A A A T T A A G A T A T C C A C T G G A C T G G A A A C T A T C A A T T T G</td>\n",
              "    </tr>\n",
              "    <tr>\n",
              "      <th>2</th>\n",
              "      <td>C G C G G T C A G C G G C C A G G C A G T C C T G A G G A G G C C G C T G C C C T A G T C G A A G G</td>\n",
              "      <td>G C G G T C A G C G G C C A G G C A G T C C T G A G G A G G C C G C T G C C C T A G T C G A A G G A</td>\n",
              "    </tr>\n",
              "    <tr>\n",
              "      <th>3</th>\n",
              "      <td>A A A A T T A C C T A G T C T A C C A A G A A A A T A C A A A A A C A T A A G G C T G T A A G T A A</td>\n",
              "      <td>A A A T T A C C T A G T C T A C C A A G A A A A T A C A A A A A C A T A A G G C T G T A A G T A A A</td>\n",
              "    </tr>\n",
              "    <tr>\n",
              "      <th>4</th>\n",
              "      <td>A G T A T T A A A A A T C C A A A G C T T T A A A T T A G A A A A T G G G C A A A A G T C A T G A A</td>\n",
              "      <td>G T A T T A A A A A T C C A A A G C T T T A A A T T A G A A A A T G G G C A A A A G T C A T G A A A</td>\n",
              "    </tr>\n",
              "    <tr>\n",
              "      <th>5</th>\n",
              "      <td>T G T A G G C T T C T T T T G A C T A G T C A C T G G C A T G G C C A C A A T C T G A A T T T G G G</td>\n",
              "      <td>G T A G G C T T C T T T T G A C T A G T C A C T G G C A T G G C C A C A A T C T G A A T T T G G G A</td>\n",
              "    </tr>\n",
              "    <tr>\n",
              "      <th>6</th>\n",
              "      <td>G G A G T T C G A A A T C A G C C T G G C C A A C A T G G T G A A A C T C C G C C T C T A C T A A A</td>\n",
              "      <td>G A G T T C G A A A T C A G C C T G G C C A A C A T G G T G A A A C T C C G C C T C T A C T A A A A</td>\n",
              "    </tr>\n",
              "    <tr>\n",
              "      <th>7</th>\n",
              "      <td>A T T A T G A C T A G G T C T A T A A T T T A A T A A C A A G T C A C A A T A T C T C T C T T T C T</td>\n",
              "      <td>T T A T G A C T A G G T C T A T A A T T T A A T A A C A A G T C A C A A T A T C T C T C T T T C T T</td>\n",
              "    </tr>\n",
              "    <tr>\n",
              "      <th>8</th>\n",
              "      <td>A A G C A G G C T G G T T C A C T C A C T T G G C A G T C A C T G G G C G G C T A T T C T T G T G C</td>\n",
              "      <td>A G C A G G C T G G T T C A C T C A C T T G G C A G T C A C T G G G C G G C T A T T C T T G T G C C</td>\n",
              "    </tr>\n",
              "  </tbody>\n",
              "</table>"
            ],
            "text/plain": [
              "<IPython.core.display.HTML object>"
            ]
          },
          "metadata": {
            "tags": []
          }
        }
      ]
    },
    {
      "cell_type": "markdown",
      "metadata": {
        "id": "7sr_NFaB1uHH",
        "colab_type": "text"
      },
      "source": [
        "## Model and Learning"
      ]
    },
    {
      "cell_type": "code",
      "metadata": {
        "id": "xcOLVeQk0tJ8",
        "colab_type": "code",
        "colab": {}
      },
      "source": [
        "learn = language_model_learner(\n",
        "    dls_lm, AWD_LSTM, drop_mult=0.3, pretrained=False, \n",
        "    metrics=[accuracy, Perplexity()])"
      ],
      "execution_count": 13,
      "outputs": []
    },
    {
      "cell_type": "code",
      "metadata": {
        "id": "dZOgoDpnPl2E",
        "colab_type": "code",
        "colab": {
          "base_uri": "https://localhost:8080/",
          "height": 301
        },
        "outputId": "b47d4f0d-f0ec-4795-ae74-e45b88252e36"
      },
      "source": [
        "learn.lr_find()"
      ],
      "execution_count": 14,
      "outputs": [
        {
          "output_type": "display_data",
          "data": {
            "text/html": [
              ""
            ],
            "text/plain": [
              "<IPython.core.display.HTML object>"
            ]
          },
          "metadata": {
            "tags": []
          }
        },
        {
          "output_type": "execute_result",
          "data": {
            "text/plain": [
              "SuggestedLRs(lr_min=0.04365158379077912, lr_steep=0.0006918309954926372)"
            ]
          },
          "metadata": {
            "tags": []
          },
          "execution_count": 14
        },
        {
          "output_type": "display_data",
          "data": {
            "image/png": "[encoded data removed]",
            "text/plain": [
              "<Figure size 432x288 with 1 Axes>"
            ]
          },
          "metadata": {
            "tags": [],
            "needs_background": "light"
          }
        }
      ]
    },
    {
      "cell_type": "code",
      "metadata": {
        "id": "GdWkfIiG11dd",
        "colab_type": "code",
        "colab": {
          "base_uri": "https://localhost:8080/",
          "height": 198
        },
        "outputId": "4ba94e93-d9e3-43c8-db7c-f91abb6df79f"
      },
      "source": [
        "learn.fit_one_cycle(5, 0.05)\n",
        "learn.export(\"/content/drive/My Drive/DNAModels/Exons/Exons_AWD_LSTM_v1.pkl\")"
      ],
      "execution_count": 15,
      "outputs": [
        {
          "output_type": "display_data",
          "data": {
            "text/html": [
              "<table border=\"1\" class=\"dataframe\">\n",
              "  <thead>\n",
              "    <tr style=\"text-align: left;\">\n",
              "      <th>epoch</th>\n",
              "      <th>train_loss</th>\n",
              "      <th>valid_loss</th>\n",
              "      <th>accuracy</th>\n",
              "      <th>perplexity</th>\n",
              "      <th>time</th>\n",
              "    </tr>\n",
              "  </thead>\n",
              "  <tbody>\n",
              "    <tr>\n",
              "      <td>0</td>\n",
              "      <td>1.328912</td>\n",
              "      <td>1.323811</td>\n",
              "      <td>0.349938</td>\n",
              "      <td>3.757716</td>\n",
              "      <td>05:48</td>\n",
              "    </tr>\n",
              "    <tr>\n",
              "      <td>1</td>\n",
              "      <td>1.322950</td>\n",
              "      <td>1.321861</td>\n",
              "      <td>0.352252</td>\n",
              "      <td>3.750393</td>\n",
              "      <td>05:38</td>\n",
              "    </tr>\n",
              "    <tr>\n",
              "      <td>2</td>\n",
              "      <td>1.322914</td>\n",
              "      <td>1.320645</td>\n",
              "      <td>0.354841</td>\n",
              "      <td>3.745836</td>\n",
              "      <td>05:39</td>\n",
              "    </tr>\n",
              "    <tr>\n",
              "      <td>3</td>\n",
              "      <td>1.320869</td>\n",
              "      <td>1.318369</td>\n",
              "      <td>0.356201</td>\n",
              "      <td>3.737319</td>\n",
              "      <td>05:39</td>\n",
              "    </tr>\n",
              "    <tr>\n",
              "      <td>4</td>\n",
              "      <td>1.319773</td>\n",
              "      <td>1.316948</td>\n",
              "      <td>0.357593</td>\n",
              "      <td>3.732014</td>\n",
              "      <td>05:40</td>\n",
              "    </tr>\n",
              "  </tbody>\n",
              "</table>"
            ],
            "text/plain": [
              "<IPython.core.display.HTML object>"
            ]
          },
          "metadata": {
            "tags": []
          }
        }
      ]
    }
  ]
}