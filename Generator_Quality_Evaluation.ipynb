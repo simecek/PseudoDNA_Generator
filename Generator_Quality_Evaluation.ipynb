{
 "cells": [
  {
   "cell_type": "markdown",
   "metadata": {
    "colab_type": "text",
    "id": "w_e5GXnWH9tO"
   },
   "source": [
    "# Generator Quality\n",
    " * We trained previously generated two set of random sequences from (human)intergenomic regions `\"random_seqs.csv\"` and `\"random_seqs2.csv\"`.\n",
    " * We trained CNN model to distinguish a sequence from real genomic sequence from unreal (permuted) sequence (trained on `\"random_seqs.csv\"`)\n",
    " * We also have LSTM generator to give us 1000 pseudo-DNA sequences generated from (trained on `\"random_seqs2.csv\"`)\n",
    " * Now, it is time to evaluation a quality of the generator trained in the previous step.\n"
   ]
  },
  {
   "cell_type": "code",
   "execution_count": 1,
   "metadata": {
    "colab": {
     "base_uri": "https://localhost:8080/",
     "height": 34
    },
    "colab_type": "code",
    "id": "RX8-d2WTZ7rc",
    "outputId": "6113adfe-c935-4bb9-9022-983fc2d08815"
   },
   "outputs": [
    {
     "name": "stderr",
     "output_type": "stream",
     "text": [
      "Using TensorFlow backend.\n"
     ]
    }
   ],
   "source": [
    "%tensorflow_version 1.x\n",
    "import pandas as pd\n",
    "import numpy as np\n",
    "from tqdm import tqdm\n",
    "import random\n",
    "\n",
    "from keras.models import Sequential\n",
    "from keras import layers\n",
    "from keras.optimizers import RMSprop\n",
    "\n",
    "SEQ_FILE = \"generated_seqs.csv\"\n",
    "MODEL_FILE = \"dna_classifier.loss0.44.h5\"\n"
   ]
  },
  {
   "cell_type": "markdown",
   "metadata": {
    "colab_type": "text",
    "id": "BLMS2qirKgCs"
   },
   "source": [
    "## Step 1) Read DNA sequences\n",
    "\n",
    "These sequences were generated in a previous step by LSTM network."
   ]
  },
  {
   "cell_type": "code",
   "execution_count": 2,
   "metadata": {
    "colab": {
     "base_uri": "https://localhost:8080/",
     "height": 212
    },
    "colab_type": "code",
    "id": "Tzfhr5p1aFWD",
    "outputId": "aef4c89e-be7a-44bc-8000-83741c1f865c"
   },
   "outputs": [
    {
     "name": "stdout",
     "output_type": "stream",
     "text": [
      "corpus length: 200000\n"
     ]
    },
    {
     "data": {
      "text/html": [
       "<div>\n",
       "<style scoped>\n",
       "    .dataframe tbody tr th:only-of-type {\n",
       "        vertical-align: middle;\n",
       "    }\n",
       "\n",
       "    .dataframe tbody tr th {\n",
       "        vertical-align: top;\n",
       "    }\n",
       "\n",
       "    .dataframe thead th {\n",
       "        text-align: right;\n",
       "    }\n",
       "</style>\n",
       "<table border=\"1\" class=\"dataframe\">\n",
       "  <thead>\n",
       "    <tr style=\"text-align: right;\">\n",
       "      <th></th>\n",
       "      <th>generated_seqs</th>\n",
       "    </tr>\n",
       "  </thead>\n",
       "  <tbody>\n",
       "    <tr>\n",
       "      <th>0</th>\n",
       "      <td>TTGTATCATATATATATTTTTTTAAATTTTTTATATACTATTTATA...</td>\n",
       "    </tr>\n",
       "    <tr>\n",
       "      <th>1</th>\n",
       "      <td>CAAACTAGAAGTAAAGAAATATAATGCTTAATTTTTTGTTTTAATA...</td>\n",
       "    </tr>\n",
       "    <tr>\n",
       "      <th>2</th>\n",
       "      <td>GCACACACACTCACACATATCTGCATTTGTGTGGGCTGAAAGATGT...</td>\n",
       "    </tr>\n",
       "    <tr>\n",
       "      <th>3</th>\n",
       "      <td>TACATTGGCACATGCTCCACTACAGGAAGCTGAACTCCCTTTGAGA...</td>\n",
       "    </tr>\n",
       "    <tr>\n",
       "      <th>4</th>\n",
       "      <td>TGTGCAGCAGGAATGATTGTGACAATGAGATTGATTTATTTCTTTT...</td>\n",
       "    </tr>\n",
       "  </tbody>\n",
       "</table>\n",
       "</div>"
      ],
      "text/plain": [
       "                                      generated_seqs\n",
       "0  TTGTATCATATATATATTTTTTTAAATTTTTTATATACTATTTATA...\n",
       "1  CAAACTAGAAGTAAAGAAATATAATGCTTAATTTTTTGTTTTAATA...\n",
       "2  GCACACACACTCACACATATCTGCATTTGTGTGGGCTGAAAGATGT...\n",
       "3  TACATTGGCACATGCTCCACTACAGGAAGCTGAACTCCCTTTGAGA...\n",
       "4  TGTGCAGCAGGAATGATTGTGACAATGAGATTGATTTATTTCTTTT..."
      ]
     },
     "execution_count": 2,
     "metadata": {
      "tags": []
     },
     "output_type": "execute_result"
    }
   ],
   "source": [
    "df = pd.read_csv(SEQ_FILE)\n",
    "print('corpus length:', sum(df.generated_seqs.str.len()))\n",
    "df.head()"
   ]
  },
  {
   "cell_type": "markdown",
   "metadata": {
    "colab_type": "text",
    "id": "iDGmLs5eK3NI"
   },
   "source": [
    "## Step 2) Read Model\n",
    "Read CNV classificator. To load the weights, the model must be specified and `input_shape` of the first layer given."
   ]
  },
  {
   "cell_type": "code",
   "execution_count": 3,
   "metadata": {
    "colab": {
     "base_uri": "https://localhost:8080/",
     "height": 591
    },
    "colab_type": "code",
    "id": "fbvOJk0JauHR",
    "outputId": "eb95b7aa-7822-4c61-e754-196fd2743321"
   },
   "outputs": [
    {
     "name": "stdout",
     "output_type": "stream",
     "text": [
      "WARNING:tensorflow:From /usr/local/lib/python3.6/dist-packages/keras/backend/tensorflow_backend.py:66: The name tf.get_default_graph is deprecated. Please use tf.compat.v1.get_default_graph instead.\n",
      "\n",
      "WARNING:tensorflow:From /usr/local/lib/python3.6/dist-packages/keras/backend/tensorflow_backend.py:541: The name tf.placeholder is deprecated. Please use tf.compat.v1.placeholder instead.\n",
      "\n",
      "WARNING:tensorflow:From /usr/local/lib/python3.6/dist-packages/keras/backend/tensorflow_backend.py:4432: The name tf.random_uniform is deprecated. Please use tf.random.uniform instead.\n",
      "\n",
      "WARNING:tensorflow:From /usr/local/lib/python3.6/dist-packages/keras/backend/tensorflow_backend.py:4267: The name tf.nn.max_pool is deprecated. Please use tf.nn.max_pool2d instead.\n",
      "\n",
      "WARNING:tensorflow:From /usr/local/lib/python3.6/dist-packages/keras/optimizers.py:793: The name tf.train.Optimizer is deprecated. Please use tf.compat.v1.train.Optimizer instead.\n",
      "\n",
      "WARNING:tensorflow:From /usr/local/lib/python3.6/dist-packages/keras/backend/tensorflow_backend.py:3657: The name tf.log is deprecated. Please use tf.math.log instead.\n",
      "\n",
      "WARNING:tensorflow:From /usr/local/lib/python3.6/dist-packages/tensorflow_core/python/ops/nn_impl.py:183: where (from tensorflow.python.ops.array_ops) is deprecated and will be removed in a future version.\n",
      "Instructions for updating:\n",
      "Use tf.where in 2.0, which has the same broadcast rule as np.where\n",
      "Model: \"sequential_1\"\n",
      "_________________________________________________________________\n",
      "Layer (type)                 Output Shape              Param #   \n",
      "=================================================================\n",
      "conv1d_1 (Conv1D)            (None, 194, 4)            116       \n",
      "_________________________________________________________________\n",
      "max_pooling1d_1 (MaxPooling1 (None, 38, 4)             0         \n",
      "_________________________________________________________________\n",
      "conv1d_2 (Conv1D)            (None, 32, 4)             116       \n",
      "_________________________________________________________________\n",
      "global_max_pooling1d_1 (Glob (None, 4)                 0         \n",
      "_________________________________________________________________\n",
      "dense_1 (Dense)              (None, 1)                 5         \n",
      "=================================================================\n",
      "Total params: 237\n",
      "Trainable params: 237\n",
      "Non-trainable params: 0\n",
      "_________________________________________________________________\n"
     ]
    }
   ],
   "source": [
    "num_chars = 4\n",
    "\n",
    "model = Sequential()\n",
    "model.add(layers.Conv1D(num_chars, 7, activation='relu', input_shape=(200, 4)))\n",
    "model.add(layers.MaxPooling1D(5))\n",
    "model.add(layers.Conv1D(num_chars, 7, activation='relu'))\n",
    "model.add(layers.GlobalMaxPooling1D())\n",
    "model.add(layers.Dense(1))\n",
    "model.build()\n",
    "\n",
    "model.compile(optimizer=RMSprop(lr=5e-5),\n",
    "              loss='binary_crossentropy',\n",
    "              metrics=['acc'])\n",
    "\n",
    "model.summary()"
   ]
  },
  {
   "cell_type": "code",
   "execution_count": 4,
   "metadata": {
    "colab": {
     "base_uri": "https://localhost:8080/",
     "height": 238
    },
    "colab_type": "code",
    "id": "PbXMsIszjQ-v",
    "outputId": "4822908c-07ae-4bcd-c409-650d6eb517f6"
   },
   "outputs": [
    {
     "name": "stdout",
     "output_type": "stream",
     "text": [
      "WARNING:tensorflow:From /usr/local/lib/python3.6/dist-packages/keras/backend/tensorflow_backend.py:190: The name tf.get_default_session is deprecated. Please use tf.compat.v1.get_default_session instead.\n",
      "\n",
      "WARNING:tensorflow:From /usr/local/lib/python3.6/dist-packages/keras/backend/tensorflow_backend.py:197: The name tf.ConfigProto is deprecated. Please use tf.compat.v1.ConfigProto instead.\n",
      "\n",
      "WARNING:tensorflow:From /usr/local/lib/python3.6/dist-packages/keras/backend/tensorflow_backend.py:203: The name tf.Session is deprecated. Please use tf.compat.v1.Session instead.\n",
      "\n",
      "WARNING:tensorflow:From /usr/local/lib/python3.6/dist-packages/keras/backend/tensorflow_backend.py:207: The name tf.global_variables is deprecated. Please use tf.compat.v1.global_variables instead.\n",
      "\n",
      "WARNING:tensorflow:From /usr/local/lib/python3.6/dist-packages/keras/backend/tensorflow_backend.py:216: The name tf.is_variable_initialized is deprecated. Please use tf.compat.v1.is_variable_initialized instead.\n",
      "\n",
      "WARNING:tensorflow:From /usr/local/lib/python3.6/dist-packages/keras/backend/tensorflow_backend.py:223: The name tf.variables_initializer is deprecated. Please use tf.compat.v1.variables_initializer instead.\n",
      "\n"
     ]
    }
   ],
   "source": [
    "model.load_weights(MODEL_FILE)"
   ]
  },
  {
   "cell_type": "markdown",
   "metadata": {
    "colab_type": "text",
    "id": "LFkJMf-ZlT3Q"
   },
   "source": [
    "## Step 3) Permutation\n",
    "\n",
    "For each sequence, get a permuted version."
   ]
  },
  {
   "cell_type": "code",
   "execution_count": 5,
   "metadata": {
    "colab": {
     "base_uri": "https://localhost:8080/",
     "height": 34
    },
    "colab_type": "code",
    "id": "cy5r5Jqxnh26",
    "outputId": "2528444e-5899-442a-eab8-fc347c1e6782"
   },
   "outputs": [
    {
     "data": {
      "text/plain": [
       "200"
      ]
     },
     "execution_count": 5,
     "metadata": {
      "tags": []
     },
     "output_type": "execute_result"
    }
   ],
   "source": [
    "len(df['generated_seqs'][0])"
   ]
  },
  {
   "cell_type": "code",
   "execution_count": 0,
   "metadata": {
    "colab": {},
    "colab_type": "code",
    "id": "BCjPUnqPlU3j"
   },
   "outputs": [],
   "source": [
    "def random_str_shuffle(s):\n",
    "  return ''.join(random.sample(s,len(s)))"
   ]
  },
  {
   "cell_type": "code",
   "execution_count": 0,
   "metadata": {
    "colab": {},
    "colab_type": "code",
    "id": "dkbkGjbclZSW"
   },
   "outputs": [],
   "source": [
    "df['seq_permuted'] = df.generated_seqs.apply(random_str_shuffle)"
   ]
  },
  {
   "cell_type": "code",
   "execution_count": 0,
   "metadata": {
    "colab": {},
    "colab_type": "code",
    "id": "EsH9JFz2qE1Z"
   },
   "outputs": [],
   "source": [
    "def random_str_shuffle_dimers(s):\n",
    "  dimers = [s[i:i+2] for i in range(0, len(s), 2)]\n",
    "  return ''.join(random.sample(dimers, len(dimers)))"
   ]
  },
  {
   "cell_type": "code",
   "execution_count": 0,
   "metadata": {
    "colab": {},
    "colab_type": "code",
    "id": "cY3ctUqdqi3d"
   },
   "outputs": [],
   "source": [
    "df['seq_permuted2'] = df.generated_seqs.apply(random_str_shuffle_dimers)"
   ]
  },
  {
   "cell_type": "code",
   "execution_count": 0,
   "metadata": {
    "colab": {},
    "colab_type": "code",
    "id": "8taNJMupr344"
   },
   "outputs": [],
   "source": [
    "def random_str_shuffle_tetramers(s):\n",
    "  tetramers = [s[i:i+4] for i in range(0, len(s), 4)]\n",
    "  return ''.join(random.sample(tetramers, len(tetramers)))"
   ]
  },
  {
   "cell_type": "code",
   "execution_count": 0,
   "metadata": {
    "colab": {},
    "colab_type": "code",
    "id": "vJQZzPxXsB4Y"
   },
   "outputs": [],
   "source": [
    "df['seq_permuted4'] = df.generated_seqs.apply(random_str_shuffle_tetramers)"
   ]
  },
  {
   "cell_type": "markdown",
   "metadata": {
    "colab_type": "text",
    "id": "yB9ZqvMrK9m_"
   },
   "source": [
    "## Step 4) Vectorization"
   ]
  },
  {
   "cell_type": "code",
   "execution_count": 21,
   "metadata": {
    "colab": {
     "base_uri": "https://localhost:8080/",
     "height": 34
    },
    "colab_type": "code",
    "id": "cbFJNWg3IeC6",
    "outputId": "c09bcb77-14f1-4c01-e259-dbf16235117c"
   },
   "outputs": [
    {
     "data": {
      "text/plain": [
       "(200, 1000)"
      ]
     },
     "execution_count": 21,
     "metadata": {
      "tags": []
     },
     "output_type": "execute_result"
    }
   ],
   "source": [
    "# dictionaries to convert characters to numbers and vice-versa\n",
    "chars = ['A', 'C', 'T', 'G']\n",
    "char_to_indices = dict((c, i) for i, c in enumerate(chars))\n",
    "indices_to_char = dict((i, c) for i, c in enumerate(chars))\n",
    "\n",
    "seq_length = len(df.generated_seqs[0])\n",
    "n_seq = df.shape[0]\n",
    "seq_length, n_seq"
   ]
  },
  {
   "cell_type": "code",
   "execution_count": 22,
   "metadata": {
    "colab": {
     "base_uri": "https://localhost:8080/",
     "height": 34
    },
    "colab_type": "code",
    "id": "9_8Z9Z-CKLCW",
    "outputId": "63619f15-38ba-4be6-da6c-0335fccc1e5e"
   },
   "outputs": [
    {
     "name": "stderr",
     "output_type": "stream",
     "text": [
      "100%|██████████| 1000/1000 [00:10<00:00, 92.67it/s]\n"
     ]
    }
   ],
   "source": [
    "X = np.zeros((4*n_seq, seq_length, num_chars), dtype=np.bool)\n",
    "y = np.zeros((4*n_seq), dtype=np.bool)\n",
    "\n",
    "for i in tqdm(range(n_seq)):\n",
    "    for j in range(seq_length):\n",
    "        X[i][j][char_to_indices[df.generated_seqs[i][j]]] = 1\n",
    "        y[i] = 1\n",
    "        X[i+n_seq][j][char_to_indices[df.seq_permuted[i][j]]] = 1\n",
    "        y[i+n_seq] = 0\n",
    "        X[i+2*n_seq][j][char_to_indices[df.seq_permuted2[i][j]]] = 1\n",
    "        y[i+2*n_seq] = 0\n",
    "        X[i+3*n_seq][j][char_to_indices[df.seq_permuted4[i][j]]] = 1\n",
    "        y[i+3*n_seq] = 0"
   ]
  },
  {
   "cell_type": "markdown",
   "metadata": {
    "colab_type": "text",
    "id": "qcxSCl-0NUHF"
   },
   "source": [
    "## Step 5) Evaluation on generated sequences"
   ]
  },
  {
   "cell_type": "code",
   "execution_count": 23,
   "metadata": {
    "colab": {
     "base_uri": "https://localhost:8080/",
     "height": 50
    },
    "colab_type": "code",
    "id": "gUJtjU-KNrTM",
    "outputId": "cb51c58d-c624-462b-9099-aec30ed41325"
   },
   "outputs": [
    {
     "name": "stdout",
     "output_type": "stream",
     "text": [
      "1000/1000 [==============================] - 0s 56us/step\n"
     ]
    },
    {
     "data": {
      "text/plain": [
       "[0.4737995822429657, 0.802]"
      ]
     },
     "execution_count": 23,
     "metadata": {
      "tags": []
     },
     "output_type": "execute_result"
    }
   ],
   "source": [
    "model.evaluate(X[:n_seq,:], y[:n_seq])"
   ]
  },
  {
   "cell_type": "code",
   "execution_count": 24,
   "metadata": {
    "colab": {
     "base_uri": "https://localhost:8080/",
     "height": 34
    },
    "colab_type": "code",
    "id": "aYavT4Lko2t-",
    "outputId": "e1b67852-6749-415e-e86a-64fac0603c7e"
   },
   "outputs": [
    {
     "data": {
      "text/plain": [
       "0.802"
      ]
     },
     "execution_count": 24,
     "metadata": {
      "tags": []
     },
     "output_type": "execute_result"
    }
   ],
   "source": [
    "y_real_pred = model.predict_classes(X[:n_seq,:])\n",
    "(y_real_pred[:,0] == 1).mean()"
   ]
  },
  {
   "cell_type": "markdown",
   "metadata": {
    "colab_type": "text",
    "id": "xVozm6t9qXc7"
   },
   "source": [
    "## Step 6) Evaluation on permuted sequences (negative controls)"
   ]
  },
  {
   "cell_type": "code",
   "execution_count": 25,
   "metadata": {
    "colab": {
     "base_uri": "https://localhost:8080/",
     "height": 50
    },
    "colab_type": "code",
    "id": "rEidelNUqf2_",
    "outputId": "2cc54422-de99-4de1-87da-e0c3cff034c1"
   },
   "outputs": [
    {
     "name": "stdout",
     "output_type": "stream",
     "text": [
      "1000/1000 [==============================] - 0s 62us/step\n"
     ]
    },
    {
     "data": {
      "text/plain": [
       "[0.4913084297180176, 0.778]"
      ]
     },
     "execution_count": 25,
     "metadata": {
      "tags": []
     },
     "output_type": "execute_result"
    }
   ],
   "source": [
    "model.evaluate(X[n_seq:(2*n_seq),:], y[n_seq:(2*n_seq)])"
   ]
  },
  {
   "cell_type": "code",
   "execution_count": 26,
   "metadata": {
    "colab": {
     "base_uri": "https://localhost:8080/",
     "height": 34
    },
    "colab_type": "code",
    "id": "h3wNLZTbpUox",
    "outputId": "10ec7724-39a8-4346-fdb7-382aa6557181"
   },
   "outputs": [
    {
     "data": {
      "text/plain": [
       "0.222"
      ]
     },
     "execution_count": 26,
     "metadata": {
      "tags": []
     },
     "output_type": "execute_result"
    }
   ],
   "source": [
    "y_unreal_pred = model.predict_classes(X[n_seq:(2*n_seq),:])\n",
    "(y_unreal_pred[:,0] == 1).mean()"
   ]
  },
  {
   "cell_type": "markdown",
   "metadata": {
    "colab_type": "text",
    "id": "ENlFHa2irIH4"
   },
   "source": [
    "## Step 7) Evaluation on dimer-permuted sequences (negative controls)"
   ]
  },
  {
   "cell_type": "code",
   "execution_count": 27,
   "metadata": {
    "colab": {
     "base_uri": "https://localhost:8080/",
     "height": 50
    },
    "colab_type": "code",
    "id": "_FFOiBjvrRb4",
    "outputId": "322b5e48-2ce8-45aa-b732-9071c4dc6859"
   },
   "outputs": [
    {
     "name": "stdout",
     "output_type": "stream",
     "text": [
      "1000/1000 [==============================] - 0s 63us/step\n"
     ]
    },
    {
     "data": {
      "text/plain": [
       "[0.8961139135360717, 0.534]"
      ]
     },
     "execution_count": 27,
     "metadata": {
      "tags": []
     },
     "output_type": "execute_result"
    }
   ],
   "source": [
    "model.evaluate(X[(2*n_seq):(3*n_seq),:], y[(2*n_seq):(3*n_seq)])"
   ]
  },
  {
   "cell_type": "code",
   "execution_count": 29,
   "metadata": {
    "colab": {
     "base_uri": "https://localhost:8080/",
     "height": 34
    },
    "colab_type": "code",
    "id": "5CkcX_kIrV-z",
    "outputId": "127626eb-836b-4136-b5a6-728fc5399fa1"
   },
   "outputs": [
    {
     "data": {
      "text/plain": [
       "0.466"
      ]
     },
     "execution_count": 29,
     "metadata": {
      "tags": []
     },
     "output_type": "execute_result"
    }
   ],
   "source": [
    "y_unreal_pred2 = model.predict_classes(X[(2*n_seq):(3*n_seq),:])\n",
    "(y_unreal_pred2[:,0] == 1).mean()"
   ]
  },
  {
   "cell_type": "markdown",
   "metadata": {
    "colab_type": "text",
    "id": "JWb3RiS2sqDV"
   },
   "source": [
    "## Step 8) Evaluation on tetramer-permuted sequences (negative controls)"
   ]
  },
  {
   "cell_type": "code",
   "execution_count": 31,
   "metadata": {
    "colab": {
     "base_uri": "https://localhost:8080/",
     "height": 50
    },
    "colab_type": "code",
    "id": "_QDgE5_asoPi",
    "outputId": "37f8337b-9c7b-4105-bede-a8ad2e0b1454"
   },
   "outputs": [
    {
     "name": "stdout",
     "output_type": "stream",
     "text": [
      "1000/1000 [==============================] - 0s 61us/step\n"
     ]
    },
    {
     "data": {
      "text/plain": [
       "[1.3114408340454102, 0.335]"
      ]
     },
     "execution_count": 31,
     "metadata": {
      "tags": []
     },
     "output_type": "execute_result"
    }
   ],
   "source": [
    "model.evaluate(X[(3*n_seq):(4*n_seq),:], y[(3*n_seq):(4*n_seq)])"
   ]
  },
  {
   "cell_type": "code",
   "execution_count": 32,
   "metadata": {
    "colab": {
     "base_uri": "https://localhost:8080/",
     "height": 34
    },
    "colab_type": "code",
    "id": "LcdP86p4sx6P",
    "outputId": "8630d771-3d0c-48bd-9087-15eb12cac755"
   },
   "outputs": [
    {
     "data": {
      "text/plain": [
       "0.665"
      ]
     },
     "execution_count": 32,
     "metadata": {
      "tags": []
     },
     "output_type": "execute_result"
    }
   ],
   "source": [
    "y_unreal_pred4 = model.predict_classes(X[(3*n_seq):(4*n_seq),:])\n",
    "(y_unreal_pred4[:,0] == 1).mean()"
   ]
  }
 ],
 "metadata": {
  "accelerator": "GPU",
  "colab": {
   "collapsed_sections": [],
   "name": "Generator_Quality_Evaluation.ipynb",
   "provenance": []
  },
  "kernelspec": {
   "display_name": "Python 3",
   "language": "python",
   "name": "python3"
  },
  "language_info": {
   "codemirror_mode": {
    "name": "ipython",
    "version": 3
   },
   "file_extension": ".py",
   "mimetype": "text/x-python",
   "name": "python",
   "nbconvert_exporter": "python",
   "pygments_lexer": "ipython3",
   "version": "3.6.9"
  }
 },
 "nbformat": 4,
 "nbformat_minor": 1
}
