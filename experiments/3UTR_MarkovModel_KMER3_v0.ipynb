{
  "nbformat": 4,
  "nbformat_minor": 0,
  "metadata": {
    "colab": {
      "name": "3UTR_MarkovModel_KMER3_v0.ipynb",
      "provenance": [],
      "collapsed_sections": [],
      "include_colab_link": true
    },
    "kernelspec": {
      "name": "python3",
      "display_name": "Python 3"
    },
    "widgets": {
      "application/vnd.jupyter.widget-state+json": {
        "30d6c28cb820455386959f7614215cbb": {
          "model_module": "@jupyter-widgets/controls",
          "model_name": "HBoxModel",
          "state": {
            "_view_name": "HBoxView",
            "_dom_classes": [],
            "_model_name": "HBoxModel",
            "_view_module": "@jupyter-widgets/controls",
            "_model_module_version": "1.5.0",
            "_view_count": null,
            "_view_module_version": "1.5.0",
            "box_style": "",
            "layout": "IPY_MODEL_fba09e3feaab4729a5b3b865f39b2b0b",
            "_model_module": "@jupyter-widgets/controls",
            "children": [
              "IPY_MODEL_760d82dc65914ac198b4e2d53d8004a8",
              "IPY_MODEL_7335130dfb9d4f64b3a173b407657d1c"
            ]
          }
        },
        "fba09e3feaab4729a5b3b865f39b2b0b": {
          "model_module": "@jupyter-widgets/base",
          "model_name": "LayoutModel",
          "state": {
            "_view_name": "LayoutView",
            "grid_template_rows": null,
            "right": null,
            "justify_content": null,
            "_view_module": "@jupyter-widgets/base",
            "overflow": null,
            "_model_module_version": "1.2.0",
            "_view_count": null,
            "flex_flow": null,
            "width": null,
            "min_width": null,
            "border": null,
            "align_items": null,
            "bottom": null,
            "_model_module": "@jupyter-widgets/base",
            "top": null,
            "grid_column": null,
            "overflow_y": null,
            "overflow_x": null,
            "grid_auto_flow": null,
            "grid_area": null,
            "grid_template_columns": null,
            "flex": null,
            "_model_name": "LayoutModel",
            "justify_items": null,
            "grid_row": null,
            "max_height": null,
            "align_content": null,
            "visibility": null,
            "align_self": null,
            "height": null,
            "min_height": null,
            "padding": null,
            "grid_auto_rows": null,
            "grid_gap": null,
            "max_width": null,
            "order": null,
            "_view_module_version": "1.2.0",
            "grid_template_areas": null,
            "object_position": null,
            "object_fit": null,
            "grid_auto_columns": null,
            "margin": null,
            "display": null,
            "left": null
          }
        },
        "760d82dc65914ac198b4e2d53d8004a8": {
          "model_module": "@jupyter-widgets/controls",
          "model_name": "FloatProgressModel",
          "state": {
            "_view_name": "ProgressView",
            "style": "IPY_MODEL_734479efff774659a960cb16ec773d9c",
            "_dom_classes": [],
            "description": "",
            "_model_name": "FloatProgressModel",
            "bar_style": "info",
            "max": 1,
            "_view_module": "@jupyter-widgets/controls",
            "_model_module_version": "1.5.0",
            "value": 0,
            "_view_count": null,
            "_view_module_version": "1.5.0",
            "orientation": "horizontal",
            "min": 0,
            "description_tooltip": null,
            "_model_module": "@jupyter-widgets/controls",
            "layout": "IPY_MODEL_c1f3670f3a38450c8f1c05c27da9bb24"
          }
        },
        "7335130dfb9d4f64b3a173b407657d1c": {
          "model_module": "@jupyter-widgets/controls",
          "model_name": "HTMLModel",
          "state": {
            "_view_name": "HTMLView",
            "style": "IPY_MODEL_38fbe8e6cd9a44d7b8fa8f155353a711",
            "_dom_classes": [],
            "description": "",
            "_model_name": "HTMLModel",
            "placeholder": "​",
            "_view_module": "@jupyter-widgets/controls",
            "_model_module_version": "1.5.0",
            "value": " 0/? [00:00&lt;?, ?it/s]",
            "_view_count": null,
            "_view_module_version": "1.5.0",
            "description_tooltip": null,
            "_model_module": "@jupyter-widgets/controls",
            "layout": "IPY_MODEL_4772fda719b04e97af2e74762b1b8b4a"
          }
        },
        "734479efff774659a960cb16ec773d9c": {
          "model_module": "@jupyter-widgets/controls",
          "model_name": "ProgressStyleModel",
          "state": {
            "_view_name": "StyleView",
            "_model_name": "ProgressStyleModel",
            "description_width": "initial",
            "_view_module": "@jupyter-widgets/base",
            "_model_module_version": "1.5.0",
            "_view_count": null,
            "_view_module_version": "1.2.0",
            "bar_color": null,
            "_model_module": "@jupyter-widgets/controls"
          }
        },
        "c1f3670f3a38450c8f1c05c27da9bb24": {
          "model_module": "@jupyter-widgets/base",
          "model_name": "LayoutModel",
          "state": {
            "_view_name": "LayoutView",
            "grid_template_rows": null,
            "right": null,
            "justify_content": null,
            "_view_module": "@jupyter-widgets/base",
            "overflow": null,
            "_model_module_version": "1.2.0",
            "_view_count": null,
            "flex_flow": null,
            "width": null,
            "min_width": null,
            "border": null,
            "align_items": null,
            "bottom": null,
            "_model_module": "@jupyter-widgets/base",
            "top": null,
            "grid_column": null,
            "overflow_y": null,
            "overflow_x": null,
            "grid_auto_flow": null,
            "grid_area": null,
            "grid_template_columns": null,
            "flex": null,
            "_model_name": "LayoutModel",
            "justify_items": null,
            "grid_row": null,
            "max_height": null,
            "align_content": null,
            "visibility": null,
            "align_self": null,
            "height": null,
            "min_height": null,
            "padding": null,
            "grid_auto_rows": null,
            "grid_gap": null,
            "max_width": null,
            "order": null,
            "_view_module_version": "1.2.0",
            "grid_template_areas": null,
            "object_position": null,
            "object_fit": null,
            "grid_auto_columns": null,
            "margin": null,
            "display": null,
            "left": null
          }
        },
        "38fbe8e6cd9a44d7b8fa8f155353a711": {
          "model_module": "@jupyter-widgets/controls",
          "model_name": "DescriptionStyleModel",
          "state": {
            "_view_name": "StyleView",
            "_model_name": "DescriptionStyleModel",
            "description_width": "",
            "_view_module": "@jupyter-widgets/base",
            "_model_module_version": "1.5.0",
            "_view_count": null,
            "_view_module_version": "1.2.0",
            "_model_module": "@jupyter-widgets/controls"
          }
        },
        "4772fda719b04e97af2e74762b1b8b4a": {
          "model_module": "@jupyter-widgets/base",
          "model_name": "LayoutModel",
          "state": {
            "_view_name": "LayoutView",
            "grid_template_rows": null,
            "right": null,
            "justify_content": null,
            "_view_module": "@jupyter-widgets/base",
            "overflow": null,
            "_model_module_version": "1.2.0",
            "_view_count": null,
            "flex_flow": null,
            "width": null,
            "min_width": null,
            "border": null,
            "align_items": null,
            "bottom": null,
            "_model_module": "@jupyter-widgets/base",
            "top": null,
            "grid_column": null,
            "overflow_y": null,
            "overflow_x": null,
            "grid_auto_flow": null,
            "grid_area": null,
            "grid_template_columns": null,
            "flex": null,
            "_model_name": "LayoutModel",
            "justify_items": null,
            "grid_row": null,
            "max_height": null,
            "align_content": null,
            "visibility": null,
            "align_self": null,
            "height": null,
            "min_height": null,
            "padding": null,
            "grid_auto_rows": null,
            "grid_gap": null,
            "max_width": null,
            "order": null,
            "_view_module_version": "1.2.0",
            "grid_template_areas": null,
            "object_position": null,
            "object_fit": null,
            "grid_auto_columns": null,
            "margin": null,
            "display": null,
            "left": null
          }
        },
        "19d0ba4dd8ad4a0a9d04a26da3b59753": {
          "model_module": "@jupyter-widgets/controls",
          "model_name": "HBoxModel",
          "state": {
            "_view_name": "HBoxView",
            "_dom_classes": [],
            "_model_name": "HBoxModel",
            "_view_module": "@jupyter-widgets/controls",
            "_model_module_version": "1.5.0",
            "_view_count": null,
            "_view_module_version": "1.5.0",
            "box_style": "",
            "layout": "IPY_MODEL_4b27cb4a61e54f3bbe7d5a245875839e",
            "_model_module": "@jupyter-widgets/controls",
            "children": [
              "IPY_MODEL_478fe2ca16f04a039dbff6fa6fa42b8e",
              "IPY_MODEL_f3d329b4e2554965b95049ecb249067f"
            ]
          }
        },
        "4b27cb4a61e54f3bbe7d5a245875839e": {
          "model_module": "@jupyter-widgets/base",
          "model_name": "LayoutModel",
          "state": {
            "_view_name": "LayoutView",
            "grid_template_rows": null,
            "right": null,
            "justify_content": null,
            "_view_module": "@jupyter-widgets/base",
            "overflow": null,
            "_model_module_version": "1.2.0",
            "_view_count": null,
            "flex_flow": null,
            "width": null,
            "min_width": null,
            "border": null,
            "align_items": null,
            "bottom": null,
            "_model_module": "@jupyter-widgets/base",
            "top": null,
            "grid_column": null,
            "overflow_y": null,
            "overflow_x": null,
            "grid_auto_flow": null,
            "grid_area": null,
            "grid_template_columns": null,
            "flex": null,
            "_model_name": "LayoutModel",
            "justify_items": null,
            "grid_row": null,
            "max_height": null,
            "align_content": null,
            "visibility": null,
            "align_self": null,
            "height": null,
            "min_height": null,
            "padding": null,
            "grid_auto_rows": null,
            "grid_gap": null,
            "max_width": null,
            "order": null,
            "_view_module_version": "1.2.0",
            "grid_template_areas": null,
            "object_position": null,
            "object_fit": null,
            "grid_auto_columns": null,
            "margin": null,
            "display": null,
            "left": null
          }
        },
        "478fe2ca16f04a039dbff6fa6fa42b8e": {
          "model_module": "@jupyter-widgets/controls",
          "model_name": "FloatProgressModel",
          "state": {
            "_view_name": "ProgressView",
            "style": "IPY_MODEL_0d03819f190e499bbb1704d2a0f677c1",
            "_dom_classes": [],
            "description": "100%",
            "_model_name": "FloatProgressModel",
            "bar_style": "success",
            "max": 4821,
            "_view_module": "@jupyter-widgets/controls",
            "_model_module_version": "1.5.0",
            "value": 4821,
            "_view_count": null,
            "_view_module_version": "1.5.0",
            "orientation": "horizontal",
            "min": 0,
            "description_tooltip": null,
            "_model_module": "@jupyter-widgets/controls",
            "layout": "IPY_MODEL_2f9d1fac59e34abdbc66ff933fa816f5"
          }
        },
        "f3d329b4e2554965b95049ecb249067f": {
          "model_module": "@jupyter-widgets/controls",
          "model_name": "HTMLModel",
          "state": {
            "_view_name": "HTMLView",
            "style": "IPY_MODEL_f4d72eb7984440cc92823fe440eeaa52",
            "_dom_classes": [],
            "description": "",
            "_model_name": "HTMLModel",
            "placeholder": "​",
            "_view_module": "@jupyter-widgets/controls",
            "_model_module_version": "1.5.0",
            "value": " 4821/4821 [14:29&lt;00:00,  5.54it/s]",
            "_view_count": null,
            "_view_module_version": "1.5.0",
            "description_tooltip": null,
            "_model_module": "@jupyter-widgets/controls",
            "layout": "IPY_MODEL_6578630394ce43f8868b9f444f7dd23c"
          }
        },
        "0d03819f190e499bbb1704d2a0f677c1": {
          "model_module": "@jupyter-widgets/controls",
          "model_name": "ProgressStyleModel",
          "state": {
            "_view_name": "StyleView",
            "_model_name": "ProgressStyleModel",
            "description_width": "initial",
            "_view_module": "@jupyter-widgets/base",
            "_model_module_version": "1.5.0",
            "_view_count": null,
            "_view_module_version": "1.2.0",
            "bar_color": null,
            "_model_module": "@jupyter-widgets/controls"
          }
        },
        "2f9d1fac59e34abdbc66ff933fa816f5": {
          "model_module": "@jupyter-widgets/base",
          "model_name": "LayoutModel",
          "state": {
            "_view_name": "LayoutView",
            "grid_template_rows": null,
            "right": null,
            "justify_content": null,
            "_view_module": "@jupyter-widgets/base",
            "overflow": null,
            "_model_module_version": "1.2.0",
            "_view_count": null,
            "flex_flow": null,
            "width": null,
            "min_width": null,
            "border": null,
            "align_items": null,
            "bottom": null,
            "_model_module": "@jupyter-widgets/base",
            "top": null,
            "grid_column": null,
            "overflow_y": null,
            "overflow_x": null,
            "grid_auto_flow": null,
            "grid_area": null,
            "grid_template_columns": null,
            "flex": null,
            "_model_name": "LayoutModel",
            "justify_items": null,
            "grid_row": null,
            "max_height": null,
            "align_content": null,
            "visibility": null,
            "align_self": null,
            "height": null,
            "min_height": null,
            "padding": null,
            "grid_auto_rows": null,
            "grid_gap": null,
            "max_width": null,
            "order": null,
            "_view_module_version": "1.2.0",
            "grid_template_areas": null,
            "object_position": null,
            "object_fit": null,
            "grid_auto_columns": null,
            "margin": null,
            "display": null,
            "left": null
          }
        },
        "f4d72eb7984440cc92823fe440eeaa52": {
          "model_module": "@jupyter-widgets/controls",
          "model_name": "DescriptionStyleModel",
          "state": {
            "_view_name": "StyleView",
            "_model_name": "DescriptionStyleModel",
            "description_width": "",
            "_view_module": "@jupyter-widgets/base",
            "_model_module_version": "1.5.0",
            "_view_count": null,
            "_view_module_version": "1.2.0",
            "_model_module": "@jupyter-widgets/controls"
          }
        },
        "6578630394ce43f8868b9f444f7dd23c": {
          "model_module": "@jupyter-widgets/base",
          "model_name": "LayoutModel",
          "state": {
            "_view_name": "LayoutView",
            "grid_template_rows": null,
            "right": null,
            "justify_content": null,
            "_view_module": "@jupyter-widgets/base",
            "overflow": null,
            "_model_module_version": "1.2.0",
            "_view_count": null,
            "flex_flow": null,
            "width": null,
            "min_width": null,
            "border": null,
            "align_items": null,
            "bottom": null,
            "_model_module": "@jupyter-widgets/base",
            "top": null,
            "grid_column": null,
            "overflow_y": null,
            "overflow_x": null,
            "grid_auto_flow": null,
            "grid_area": null,
            "grid_template_columns": null,
            "flex": null,
            "_model_name": "LayoutModel",
            "justify_items": null,
            "grid_row": null,
            "max_height": null,
            "align_content": null,
            "visibility": null,
            "align_self": null,
            "height": null,
            "min_height": null,
            "padding": null,
            "grid_auto_rows": null,
            "grid_gap": null,
            "max_width": null,
            "order": null,
            "_view_module_version": "1.2.0",
            "grid_template_areas": null,
            "object_position": null,
            "object_fit": null,
            "grid_auto_columns": null,
            "margin": null,
            "display": null,
            "left": null
          }
        }
      }
    }
  },
  "cells": [
    {
      "cell_type": "markdown",
      "metadata": {
        "id": "view-in-github",
        "colab_type": "text"
      },
      "source": [
        "<a href=\"https://colab.research.google.com/github/simecek/PseudoDNA_Generator/blob/master/experiments/3UTR_MarkovModel_KMER3_v0.ipynb\" target=\"_parent\"><img src=\"https://colab.research.google.com/assets/colab-badge.svg\" alt=\"Open In Colab\"/></a>"
      ]
    },
    {
      "cell_type": "markdown",
      "metadata": {
        "id": "lqemEIHEIsnc",
        "colab_type": "text"
      },
      "source": [
        "## Setup"
      ]
    },
    {
      "cell_type": "code",
      "metadata": {
        "id": "HPiEEg9eJqYx",
        "colab_type": "code",
        "colab": {
          "base_uri": "https://localhost:8080/",
          "height": 1000
        },
        "outputId": "2660f107-b3a3-443e-c5e9-fc02a5db871a"
      },
      "source": [
        "!pip install git+https://github.com/ML-Bioinfo-CEITEC/rbp"
      ],
      "execution_count": 1,
      "outputs": [
        {
          "output_type": "stream",
          "text": [
            "Collecting git+https://github.com/ML-Bioinfo-CEITEC/rbp\n",
            "  Cloning https://github.com/ML-Bioinfo-CEITEC/rbp to /tmp/pip-req-build-rtpfre4f\n",
            "  Running command git clone -q https://github.com/ML-Bioinfo-CEITEC/rbp /tmp/pip-req-build-rtpfre4f\n",
            "Collecting pip>=20.0.1\n",
            "\u001b[?25l  Downloading https://files.pythonhosted.org/packages/43/84/23ed6a1796480a6f1a2d38f2802901d078266bda38388954d01d3f2e821d/pip-20.1.1-py2.py3-none-any.whl (1.5MB)\n",
            "\u001b[K     |████████████████████████████████| 1.5MB 2.8MB/s \n",
            "\u001b[?25hCollecting pytest>=4.6.1\n",
            "\u001b[?25l  Downloading https://files.pythonhosted.org/packages/9f/f3/0a83558da436a081344aa6c8b85ea5b5f05071214106036ce341b7769b0b/pytest-5.4.3-py3-none-any.whl (248kB)\n",
            "\u001b[K     |████████████████████████████████| 256kB 17.6MB/s \n",
            "\u001b[?25hCollecting codecov>=2.0.15\n",
            "  Downloading https://files.pythonhosted.org/packages/7e/38/1c491db8c60a8c2d4c0e2b2523c03e3a5404811c1739373c376576882fb0/codecov-2.1.7-py2.py3-none-any.whl\n",
            "Collecting pytest-cov>=2.6.1\n",
            "  Downloading https://files.pythonhosted.org/packages/3d/13/ae3dec587b1cc07fb9f294e52ea9ad140266aea55adb9e12eade3625bd27/pytest_cov-2.10.0-py2.py3-none-any.whl\n",
            "Requirement already satisfied: numpy>=1.17.0 in /usr/local/lib/python3.6/dist-packages (from rbp==0.1.3) (1.18.5)\n",
            "Requirement already satisfied: pandas>=0.25.0 in /usr/local/lib/python3.6/dist-packages (from rbp==0.1.3) (1.0.5)\n",
            "Collecting pyaml>=18.11.0\n",
            "  Downloading https://files.pythonhosted.org/packages/15/c4/1310a054d33abc318426a956e7d6df0df76a6ddfa9c66f6310274fb75d42/pyaml-20.4.0-py2.py3-none-any.whl\n",
            "Requirement already satisfied: seaborn>=0.9.0 in /usr/local/lib/python3.6/dist-packages (from rbp==0.1.3) (0.10.1)\n",
            "Requirement already satisfied: matplotlib>=3.1.1 in /usr/local/lib/python3.6/dist-packages (from rbp==0.1.3) (3.2.2)\n",
            "Requirement already satisfied: tqdm>=4.41.1 in /usr/local/lib/python3.6/dist-packages (from rbp==0.1.3) (4.41.1)\n",
            "\u001b[33mWARNING: Retrying (Retry(total=4, connect=None, read=None, redirect=None, status=None)) after connection broken by 'ProtocolError('Connection aborted.', ConnectionResetError(104, 'Connection reset by peer'))': /simple/pybedtools/\u001b[0m\n",
            "Collecting pybedtools>=0.8.1\n",
            "\u001b[33m  WARNING: Retrying (Retry(total=4, connect=None, read=None, redirect=None, status=None)) after connection broken by 'ProtocolError('Connection aborted.', ConnectionResetError(104, 'Connection reset by peer'))': /packages/bf/14/152220f39cda6b9b72810eeed103c6ec78422429adabe3aafc3eaf6feb40/pybedtools-0.8.1.tar.gz\u001b[0m\n",
            "\u001b[?25l  Downloading https://files.pythonhosted.org/packages/bf/14/152220f39cda6b9b72810eeed103c6ec78422429adabe3aafc3eaf6feb40/pybedtools-0.8.1.tar.gz (12.5MB)\n",
            "\u001b[K     |████████████████████████████████| 12.5MB 314kB/s \n",
            "\u001b[?25hCollecting pyBigWig>=0.3.17\n",
            "\u001b[?25l  Downloading https://files.pythonhosted.org/packages/b0/e2/cf945d541a10bb9c675f986d5bf0b0268544721054d17cc6260cfcfb3685/pyBigWig-0.3.17.tar.gz (64kB)\n",
            "\u001b[K     |████████████████████████████████| 71kB 9.1MB/s \n",
            "\u001b[?25hRequirement already satisfied: wcwidth in /usr/local/lib/python3.6/dist-packages (from pytest>=4.6.1->rbp==0.1.3) (0.2.5)\n",
            "Requirement already satisfied: packaging in /usr/local/lib/python3.6/dist-packages (from pytest>=4.6.1->rbp==0.1.3) (20.4)\n",
            "Collecting pluggy<1.0,>=0.12\n",
            "  Downloading https://files.pythonhosted.org/packages/a0/28/85c7aa31b80d150b772fbe4a229487bc6644da9ccb7e427dd8cc60cb8a62/pluggy-0.13.1-py2.py3-none-any.whl\n",
            "Requirement already satisfied: more-itertools>=4.0.0 in /usr/local/lib/python3.6/dist-packages (from pytest>=4.6.1->rbp==0.1.3) (8.4.0)\n",
            "Requirement already satisfied: importlib-metadata>=0.12; python_version < \"3.8\" in /usr/local/lib/python3.6/dist-packages (from pytest>=4.6.1->rbp==0.1.3) (1.6.1)\n",
            "Requirement already satisfied: attrs>=17.4.0 in /usr/local/lib/python3.6/dist-packages (from pytest>=4.6.1->rbp==0.1.3) (19.3.0)\n",
            "Requirement already satisfied: py>=1.5.0 in /usr/local/lib/python3.6/dist-packages (from pytest>=4.6.1->rbp==0.1.3) (1.8.2)\n",
            "Requirement already satisfied: requests>=2.7.9 in /usr/local/lib/python3.6/dist-packages (from codecov>=2.0.15->rbp==0.1.3) (2.23.0)\n",
            "Requirement already satisfied: coverage in /usr/local/lib/python3.6/dist-packages (from codecov>=2.0.15->rbp==0.1.3) (3.7.1)\n",
            "Requirement already satisfied: python-dateutil>=2.6.1 in /usr/local/lib/python3.6/dist-packages (from pandas>=0.25.0->rbp==0.1.3) (2.8.1)\n",
            "Requirement already satisfied: pytz>=2017.2 in /usr/local/lib/python3.6/dist-packages (from pandas>=0.25.0->rbp==0.1.3) (2018.9)\n",
            "Requirement already satisfied: PyYAML in /usr/local/lib/python3.6/dist-packages (from pyaml>=18.11.0->rbp==0.1.3) (3.13)\n",
            "Requirement already satisfied: scipy>=1.0.1 in /usr/local/lib/python3.6/dist-packages (from seaborn>=0.9.0->rbp==0.1.3) (1.4.1)\n",
            "Requirement already satisfied: cycler>=0.10 in /usr/local/lib/python3.6/dist-packages (from matplotlib>=3.1.1->rbp==0.1.3) (0.10.0)\n",
            "Requirement already satisfied: kiwisolver>=1.0.1 in /usr/local/lib/python3.6/dist-packages (from matplotlib>=3.1.1->rbp==0.1.3) (1.2.0)\n",
            "Requirement already satisfied: pyparsing!=2.0.4,!=2.1.2,!=2.1.6,>=2.0.1 in /usr/local/lib/python3.6/dist-packages (from matplotlib>=3.1.1->rbp==0.1.3) (2.4.7)\n",
            "Requirement already satisfied: six in /usr/local/lib/python3.6/dist-packages (from pybedtools>=0.8.1->rbp==0.1.3) (1.12.0)\n",
            "Collecting pysam\n",
            "\u001b[?25l  Downloading https://files.pythonhosted.org/packages/87/a1/73e80a7a873f3fb0e52d368a4343eb9882b737c932b95020d82251f1087e/pysam-0.16.0.1-cp36-cp36m-manylinux1_x86_64.whl (9.9MB)\n",
            "\u001b[K     |████████████████████████████████| 10.0MB 18.5MB/s \n",
            "\u001b[?25hRequirement already satisfied: zipp>=0.5 in /usr/local/lib/python3.6/dist-packages (from importlib-metadata>=0.12; python_version < \"3.8\"->pytest>=4.6.1->rbp==0.1.3) (3.1.0)\n",
            "Requirement already satisfied: chardet<4,>=3.0.2 in /usr/local/lib/python3.6/dist-packages (from requests>=2.7.9->codecov>=2.0.15->rbp==0.1.3) (3.0.4)\n",
            "Requirement already satisfied: idna<3,>=2.5 in /usr/local/lib/python3.6/dist-packages (from requests>=2.7.9->codecov>=2.0.15->rbp==0.1.3) (2.9)\n",
            "Requirement already satisfied: certifi>=2017.4.17 in /usr/local/lib/python3.6/dist-packages (from requests>=2.7.9->codecov>=2.0.15->rbp==0.1.3) (2020.6.20)\n",
            "Requirement already satisfied: urllib3!=1.25.0,!=1.25.1,<1.26,>=1.21.1 in /usr/local/lib/python3.6/dist-packages (from requests>=2.7.9->codecov>=2.0.15->rbp==0.1.3) (1.24.3)\n",
            "Building wheels for collected packages: rbp, pybedtools, pyBigWig\n",
            "  Building wheel for rbp (setup.py) ... \u001b[?25l\u001b[?25hdone\n",
            "  Created wheel for rbp: filename=rbp-0.1.3-cp36-none-any.whl size=11792 sha256=f3073b53c4ae581b9888fac85686f7b4e6ff08611562d53ebdf26d8beb8434be\n",
            "  Stored in directory: /tmp/pip-ephem-wheel-cache-uyx7a3ta/wheels/2a/9c/79/c18ab902d7c45e2854bf635bd6fef7b7ee084b07dcf818ee97\n",
            "  Building wheel for pybedtools (setup.py) ... \u001b[?25l\u001b[?25hdone\n",
            "  Created wheel for pybedtools: filename=pybedtools-0.8.1-cp36-cp36m-linux_x86_64.whl size=13606358 sha256=ee872ef53f0793bbc17c0734f9e5108d441c2c8c1cb31993de0f1605990e66d7\n",
            "  Stored in directory: /root/.cache/pip/wheels/6b/50/97/7d0e4f605d0d1578997f4bba3061869c2dee9f8cd29f626323\n",
            "  Building wheel for pyBigWig (setup.py) ... \u001b[?25l\u001b[?25hdone\n",
            "  Created wheel for pyBigWig: filename=pyBigWig-0.3.17-cp36-cp36m-linux_x86_64.whl size=178621 sha256=339ce95ac27c66668a7ade7c9db58e3adb0c438ac145ed2dbf7e5c5af9cfeb80\n",
            "  Stored in directory: /root/.cache/pip/wheels/fb/27/2d/ac3e2e2d17894877fd3c4595ebd6fbd25ad805bfeab333f19b\n",
            "Successfully built rbp pybedtools pyBigWig\n",
            "\u001b[31mERROR: datascience 0.10.6 has requirement folium==0.2.1, but you'll have folium 0.8.3 which is incompatible.\u001b[0m\n",
            "\u001b[31mERROR: pytest-cov 2.10.0 has requirement coverage>=4.4, but you'll have coverage 3.7.1 which is incompatible.\u001b[0m\n",
            "Installing collected packages: pip, pluggy, pytest, codecov, pytest-cov, pyaml, pysam, pybedtools, pyBigWig, rbp\n",
            "  Found existing installation: pip 19.3.1\n",
            "    Uninstalling pip-19.3.1:\n",
            "      Successfully uninstalled pip-19.3.1\n",
            "  Found existing installation: pluggy 0.7.1\n",
            "    Uninstalling pluggy-0.7.1:\n",
            "      Successfully uninstalled pluggy-0.7.1\n",
            "  Found existing installation: pytest 3.6.4\n",
            "    Uninstalling pytest-3.6.4:\n",
            "      Successfully uninstalled pytest-3.6.4\n",
            "Successfully installed codecov-2.1.7 pip-20.1.1 pluggy-0.13.1 pyBigWig-0.3.17 pyaml-20.4.0 pybedtools-0.8.1 pysam-0.16.0.1 pytest-5.4.3 pytest-cov-2.10.0 rbp-0.1.3\n"
          ],
          "name": "stdout"
        }
      ]
    },
    {
      "cell_type": "code",
      "metadata": {
        "id": "A_QazIkNKAsA",
        "colab_type": "code",
        "colab": {
          "base_uri": "https://localhost:8080/",
          "height": 49,
          "referenced_widgets": [
            "30d6c28cb820455386959f7614215cbb",
            "fba09e3feaab4729a5b3b865f39b2b0b",
            "760d82dc65914ac198b4e2d53d8004a8",
            "7335130dfb9d4f64b3a173b407657d1c",
            "734479efff774659a960cb16ec773d9c",
            "c1f3670f3a38450c8f1c05c27da9bb24",
            "38fbe8e6cd9a44d7b8fa8f155353a711",
            "4772fda719b04e97af2e74762b1b8b4a"
          ]
        },
        "outputId": "0401d96a-24b6-4bfd-e37b-181f423d524c"
      },
      "source": [
        "import pandas as pd\n",
        "import numpy as np\n",
        "from rbp.random.markov_model import MarkovModel\n",
        "from tqdm import tqdm, notebook\n",
        "notebook.tqdm().pandas()"
      ],
      "execution_count": 2,
      "outputs": [
        {
          "output_type": "display_data",
          "data": {
            "application/vnd.jupyter.widget-view+json": {
              "model_id": "30d6c28cb820455386959f7614215cbb",
              "version_minor": 0,
              "version_major": 2
            },
            "text/plain": [
              "HBox(children=(FloatProgress(value=1.0, bar_style='info', max=1.0), HTML(value='')))"
            ]
          },
          "metadata": {
            "tags": []
          }
        }
      ]
    },
    {
      "cell_type": "code",
      "metadata": {
        "id": "K-yKerxBKet7",
        "colab_type": "code",
        "colab": {
          "base_uri": "https://localhost:8080/",
          "height": 122
        },
        "outputId": "f44a21e2-c8b5-44bb-fdd5-22d8ef2e145c"
      },
      "source": [
        "# Mount to your Google Drive allowing lesson files will be saved to your Drive location\n",
        "from google.colab import drive\n",
        "drive.mount('/content/drive')"
      ],
      "execution_count": 3,
      "outputs": [
        {
          "output_type": "stream",
          "text": [
            "Go to this URL in a browser: https://accounts.google.com/o/oauth2/auth?client_id=947318989803-6bn6qk8qdgf4n4g3pfee6491hc0brc4i.apps.googleusercontent.com&redirect_uri=urn%3aietf%3awg%3aoauth%3a2.0%3aoob&response_type=code&scope=email%20https%3a%2f%2fwww.googleapis.com%2fauth%2fdocs.test%20https%3a%2f%2fwww.googleapis.com%2fauth%2fdrive%20https%3a%2f%2fwww.googleapis.com%2fauth%2fdrive.photos.readonly%20https%3a%2f%2fwww.googleapis.com%2fauth%2fpeopleapi.readonly\n",
            "\n",
            "Enter your authorization code:\n",
            "··········\n",
            "Mounted at /content/drive\n"
          ],
          "name": "stdout"
        }
      ]
    },
    {
      "cell_type": "markdown",
      "metadata": {
        "id": "tb6UVKgvLenx",
        "colab_type": "text"
      },
      "source": [
        "## Data"
      ]
    },
    {
      "cell_type": "code",
      "metadata": {
        "id": "--TB7DZ9Lj7B",
        "colab_type": "code",
        "colab": {
          "base_uri": "https://localhost:8080/",
          "height": 221
        },
        "outputId": "70aeac79-36e0-4eef-e468-7c2cbf4c1390"
      },
      "source": [
        "dt = pd.read_csv(\"/content/drive/My Drive/data/random/random_3utr.csv\")\n",
        "dt.columns = ['id', 'chr', 'start', 'end', 'seq']\n",
        "dt = dt[~dt.seq.str.contains(\"N\")]   # just for sure\n",
        "\n",
        "train = dt[dt.chr!=\"1\"]\n",
        "test = dt[dt.chr==\"1\"]\n",
        "\n",
        "print(dt.shape, train.shape, test.shape)\n",
        "dt.head()"
      ],
      "execution_count": 7,
      "outputs": [
        {
          "output_type": "stream",
          "text": [
            "(50000, 5) (45179, 5) (4821, 5)\n"
          ],
          "name": "stdout"
        },
        {
          "output_type": "execute_result",
          "data": {
            "text/html": [
              "<div>\n",
              "<style scoped>\n",
              "    .dataframe tbody tr th:only-of-type {\n",
              "        vertical-align: middle;\n",
              "    }\n",
              "\n",
              "    .dataframe tbody tr th {\n",
              "        vertical-align: top;\n",
              "    }\n",
              "\n",
              "    .dataframe thead th {\n",
              "        text-align: right;\n",
              "    }\n",
              "</style>\n",
              "<table border=\"1\" class=\"dataframe\">\n",
              "  <thead>\n",
              "    <tr style=\"text-align: right;\">\n",
              "      <th></th>\n",
              "      <th>id</th>\n",
              "      <th>chr</th>\n",
              "      <th>start</th>\n",
              "      <th>end</th>\n",
              "      <th>seq</th>\n",
              "    </tr>\n",
              "  </thead>\n",
              "  <tbody>\n",
              "    <tr>\n",
              "      <th>0</th>\n",
              "      <td>ENST00000552870</td>\n",
              "      <td>12</td>\n",
              "      <td>116</td>\n",
              "      <td>315</td>\n",
              "      <td>AAAACAAGGACTGCAGCCTAAATTCCAAATACCAGAGACTGAAATT...</td>\n",
              "    </tr>\n",
              "    <tr>\n",
              "      <th>1</th>\n",
              "      <td>ENST00000496961</td>\n",
              "      <td>1</td>\n",
              "      <td>2645</td>\n",
              "      <td>2844</td>\n",
              "      <td>GGAGTCATTTATATTCTGCAGGAGGAAGGGGCCCCAGCTGTCGCCT...</td>\n",
              "    </tr>\n",
              "    <tr>\n",
              "      <th>2</th>\n",
              "      <td>ENST00000355654</td>\n",
              "      <td>2</td>\n",
              "      <td>428</td>\n",
              "      <td>627</td>\n",
              "      <td>GTAGAGGGTGTTTTCACCTTCCAAGACATGGGGCAAAGTTTGGAGA...</td>\n",
              "    </tr>\n",
              "    <tr>\n",
              "      <th>3</th>\n",
              "      <td>ENST00000616793</td>\n",
              "      <td>5</td>\n",
              "      <td>3835</td>\n",
              "      <td>4034</td>\n",
              "      <td>GGGTTATCACTTAGGTAGAGAGCAAATGTGTTCTCCACTAGTAATA...</td>\n",
              "    </tr>\n",
              "    <tr>\n",
              "      <th>4</th>\n",
              "      <td>ENST00000541924</td>\n",
              "      <td>12</td>\n",
              "      <td>508</td>\n",
              "      <td>707</td>\n",
              "      <td>CCCCACGGTGAGCGCCCTGTGCCCCACACAGCAGGAGATGATGATA...</td>\n",
              "    </tr>\n",
              "  </tbody>\n",
              "</table>\n",
              "</div>"
            ],
            "text/plain": [
              "                id chr  ...   end                                                seq\n",
              "0  ENST00000552870  12  ...   315  AAAACAAGGACTGCAGCCTAAATTCCAAATACCAGAGACTGAAATT...\n",
              "1  ENST00000496961   1  ...  2844  GGAGTCATTTATATTCTGCAGGAGGAAGGGGCCCCAGCTGTCGCCT...\n",
              "2  ENST00000355654   2  ...   627  GTAGAGGGTGTTTTCACCTTCCAAGACATGGGGCAAAGTTTGGAGA...\n",
              "3  ENST00000616793   5  ...  4034  GGGTTATCACTTAGGTAGAGAGCAAATGTGTTCTCCACTAGTAATA...\n",
              "4  ENST00000541924  12  ...   707  CCCCACGGTGAGCGCCCTGTGCCCCACACAGCAGGAGATGATGATA...\n",
              "\n",
              "[5 rows x 5 columns]"
            ]
          },
          "metadata": {
            "tags": []
          },
          "execution_count": 7
        }
      ]
    },
    {
      "cell_type": "markdown",
      "metadata": {
        "id": "Wz4kMa0VLypz",
        "colab_type": "text"
      },
      "source": [
        "## Markov Model"
      ]
    },
    {
      "cell_type": "code",
      "metadata": {
        "id": "wD100gYRLuuP",
        "colab_type": "code",
        "colab": {}
      },
      "source": [
        "mm = MarkovModel(k=3)\n",
        "mm.fit(train.seq)"
      ],
      "execution_count": 8,
      "outputs": []
    },
    {
      "cell_type": "code",
      "metadata": {
        "id": "VNGI6at2L1MG",
        "colab_type": "code",
        "colab": {
          "base_uri": "https://localhost:8080/",
          "height": 35
        },
        "outputId": "1f943316-90b7-4c4b-81a7-c923707dd4c2"
      },
      "source": [
        "def predict3(prev3):\n",
        "    tmp = mm.kmer_pairs[mm.kmer_pairs.index.get_level_values('prev') == prev3].reset_index().drop(columns='prev').sort_values(0, ascending=False)\n",
        "    return tmp.curr.iloc[0]\n",
        "\n",
        "predict3(\"ACG\")"
      ],
      "execution_count": 9,
      "outputs": [
        {
          "output_type": "execute_result",
          "data": {
            "application/vnd.google.colaboratory.intrinsic": {
              "type": "string"
            },
            "text/plain": [
              "'TGG'"
            ]
          },
          "metadata": {
            "tags": []
          },
          "execution_count": 9
        }
      ]
    },
    {
      "cell_type": "code",
      "metadata": {
        "id": "Yk5Ad2OSMChG",
        "colab_type": "code",
        "colab": {
          "base_uri": "https://localhost:8080/",
          "height": 35
        },
        "outputId": "a12f8ee5-3d5e-4901-cda5-68e5a5c059a8"
      },
      "source": [
        "next3 = {x: predict3(x) for x in mm.kmer_pairs.index.get_level_values('prev')}\n",
        "next3['ACG']"
      ],
      "execution_count": 10,
      "outputs": [
        {
          "output_type": "execute_result",
          "data": {
            "application/vnd.google.colaboratory.intrinsic": {
              "type": "string"
            },
            "text/plain": [
              "'TGG'"
            ]
          },
          "metadata": {
            "tags": []
          },
          "execution_count": 10
        }
      ]
    },
    {
      "cell_type": "code",
      "metadata": {
        "id": "eLzYwMwAMOUf",
        "colab_type": "code",
        "colab": {
          "base_uri": "https://localhost:8080/",
          "height": 34
        },
        "outputId": "56f5c992-ba9d-442f-8c9a-0daf01525db5"
      },
      "source": [
        "def compare3(x, y):\n",
        "    return int(x[0] == y[0]), int(x[1] == y[1]), int(x[2] == y[2])\n",
        "compare3('GGG', 'AGG')"
      ],
      "execution_count": 11,
      "outputs": [
        {
          "output_type": "execute_result",
          "data": {
            "text/plain": [
              "(0, 1, 1)"
            ]
          },
          "metadata": {
            "tags": []
          },
          "execution_count": 11
        }
      ]
    },
    {
      "cell_type": "code",
      "metadata": {
        "id": "JwV_K5bTMaOg",
        "colab_type": "code",
        "colab": {}
      },
      "source": [
        "def stat3(s):\n",
        "    sdf = pd.DataFrame({'prev': [s[i:i+3] for i in range(50,200-3,3)], 'next': [s[i:i+3] for i in range(53,200,3)]})\n",
        "    sdf['nextpred'] = sdf.prev.apply(predict3)\n",
        "    sdf[['c1', 'c2', 'c3']] = pd.DataFrame.from_records(sdf.apply(lambda row: compare3(row['next'], row['nextpred']), axis=1), columns=['c1', 'c2', 'c3'])\n",
        "    return sdf[['c1', 'c2', 'c3']].mean(axis=0)"
      ],
      "execution_count": 12,
      "outputs": []
    },
    {
      "cell_type": "code",
      "metadata": {
        "id": "UyGcJtTMMd6O",
        "colab_type": "code",
        "colab": {
          "base_uri": "https://localhost:8080/",
          "height": 66,
          "referenced_widgets": [
            "19d0ba4dd8ad4a0a9d04a26da3b59753",
            "4b27cb4a61e54f3bbe7d5a245875839e",
            "478fe2ca16f04a039dbff6fa6fa42b8e",
            "f3d329b4e2554965b95049ecb249067f",
            "0d03819f190e499bbb1704d2a0f677c1",
            "2f9d1fac59e34abdbc66ff933fa816f5",
            "f4d72eb7984440cc92823fe440eeaa52",
            "6578630394ce43f8868b9f444f7dd23c"
          ]
        },
        "outputId": "3e8145b0-970e-4a67-cf8a-17f3119f5c1c"
      },
      "source": [
        "stats = test.seq.progress_apply(stat3)"
      ],
      "execution_count": 13,
      "outputs": [
        {
          "output_type": "display_data",
          "data": {
            "application/vnd.jupyter.widget-view+json": {
              "model_id": "19d0ba4dd8ad4a0a9d04a26da3b59753",
              "version_minor": 0,
              "version_major": 2
            },
            "text/plain": [
              "HBox(children=(FloatProgress(value=0.0, max=4821.0), HTML(value='')))"
            ]
          },
          "metadata": {
            "tags": []
          }
        },
        {
          "output_type": "stream",
          "text": [
            "\n"
          ],
          "name": "stdout"
        }
      ]
    },
    {
      "cell_type": "code",
      "metadata": {
        "id": "aD0gIQXkOaIb",
        "colab_type": "code",
        "colab": {
          "base_uri": "https://localhost:8080/",
          "height": 85
        },
        "outputId": "f75481d4-a81d-4c74-aeff-177a5fade090"
      },
      "source": [
        "stats.mean(axis=0)"
      ],
      "execution_count": 14,
      "outputs": [
        {
          "output_type": "execute_result",
          "data": {
            "text/plain": [
              "c1    0.323724\n",
              "c2    0.295103\n",
              "c3    0.290557\n",
              "dtype: float64"
            ]
          },
          "metadata": {
            "tags": []
          },
          "execution_count": 14
        }
      ]
    }
  ]
}