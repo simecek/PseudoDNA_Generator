{
 "cells": [
  {
   "cell_type": "markdown",
   "metadata": {},
   "source": [
    "# Generate Random Genome Sequences\n",
    "\n",
    "This notebook generates `N` random of the length `K` with the minimal distance `MIN_DIST` to any Ensembl gene.\n",
    "\n",
    "Note that some sequences may be missing in the human genome (= consists of 'N' letters only)."
   ]
  },
  {
   "cell_type": "code",
   "execution_count": 21,
   "metadata": {},
   "outputs": [],
   "source": [
    "import pandas as pd\n",
    "import numpy as np\n",
    "import gzip\n",
    "from tqdm.notebook import tqdm\n",
    "\n",
    "from Bio import SeqIO   # for reading fasta files\n",
    "from pyensembl import EnsemblRelease   # to get the gene list\n",
    "\n",
    "ENSEMBL_RELEASE = 97\n",
    "DNA_TOPLEVEL_FASTA_PATH = \"/home/petr/Downloads/Homo_sapiens.GRCh38.dna.toplevel.fa.gz\"\n",
    "\n",
    "# to generate random sequences\n",
    "N = 50_000    # how many\n",
    "K = 200       # how long\n",
    "MIN_DIST = 50 # how far should they be from the gene\n",
    "OUTPUT_FILE = 'random_seqs2.csv'   # where to save them\n",
    "# OUTPUT_FILE = 'random_seqs.csv'\n",
    "\n",
    "CHRS = [str(chr) for chr in range(1,23)] + ['X', 'Y', 'MT']"
   ]
  },
  {
   "cell_type": "markdown",
   "metadata": {},
   "source": [
    "## Get length of each chromosome"
   ]
  },
  {
   "cell_type": "code",
   "execution_count": 2,
   "metadata": {},
   "outputs": [
    {
     "data": {
      "application/vnd.jupyter.widget-view+json": {
       "model_id": "9c2fe8d709ca4e4cbddbf6fa1460685b",
       "version_major": 2,
       "version_minor": 0
      },
      "text/plain": [
       "HBox(children=(FloatProgress(value=0.0, max=24.0), HTML(value='')))"
      ]
     },
     "metadata": {},
     "output_type": "display_data"
    },
    {
     "data": {
      "text/plain": [
       "{'1': 248956422,\n",
       " '2': 242193529,\n",
       " '3': 198295559,\n",
       " '4': 190214555,\n",
       " '5': 181538259,\n",
       " '6': 170805979,\n",
       " '7': 159345973,\n",
       " '8': 145138636,\n",
       " '9': 138394717,\n",
       " '10': 133797422,\n",
       " '11': 135086622,\n",
       " '12': 133275309,\n",
       " '13': 114364328,\n",
       " '14': 107043718,\n",
       " '15': 101991189,\n",
       " '16': 90338345,\n",
       " '17': 83257441,\n",
       " '18': 80373285,\n",
       " '19': 58617616,\n",
       " '20': 64444167,\n",
       " '21': 46709983,\n",
       " '22': 50818468,\n",
       " 'X': 156040895,\n",
       " 'Y': 57227415,\n",
       " 'MT': 16569}"
      ]
     },
     "execution_count": 2,
     "metadata": {},
     "output_type": "execute_result"
    }
   ],
   "source": [
    "def get_chr_lengths(fasta_path=DNA_TOPLEVEL_FASTA_PATH):\n",
    "    chr_lengths = {}\n",
    "    \n",
    "    with gzip.open(fasta_path, \"rt\") as handle:\n",
    "        for record in tqdm(SeqIO.parse(handle, \"fasta\"), total=24):\n",
    "            chr_lengths[record.id] = len(record.seq)\n",
    "            if record.id == \"MT\": \n",
    "                # stop, do not read small contigs\n",
    "                break\n",
    "    \n",
    "    # check that we have all chromosomes\n",
    "    assert set(chr_lengths.keys()) == set(CHRS) \n",
    "    \n",
    "    return chr_lengths\n",
    "\n",
    "contig_lengths = get_chr_lengths()\n",
    "contig_lengths"
   ]
  },
  {
   "cell_type": "code",
   "execution_count": 4,
   "metadata": {},
   "outputs": [
    {
     "data": {
      "text/plain": [
       "3088286401"
      ]
     },
     "execution_count": 4,
     "metadata": {},
     "output_type": "execute_result"
    }
   ],
   "source": [
    "total_length = pd.Series(contig_lengths).sum()\n",
    "total_length"
   ]
  },
  {
   "cell_type": "markdown",
   "metadata": {},
   "source": [
    "## Get gene list"
   ]
  },
  {
   "cell_type": "code",
   "execution_count": 5,
   "metadata": {},
   "outputs": [],
   "source": [
    "# release 97 uses human reference genome GRCh38\n",
    "data = EnsemblRelease(ENSEMBL_RELEASE)"
   ]
  },
  {
   "cell_type": "code",
   "execution_count": 6,
   "metadata": {},
   "outputs": [
    {
     "data": {
      "text/plain": [
       "60617"
      ]
     },
     "execution_count": 6,
     "metadata": {},
     "output_type": "execute_result"
    }
   ],
   "source": [
    "human_genes = data.genes()\n",
    "len(human_genes)"
   ]
  },
  {
   "cell_type": "code",
   "execution_count": 7,
   "metadata": {},
   "outputs": [
    {
     "data": {
      "text/plain": [
       "Gene(gene_id='ENSG00000000003', gene_name='TSPAN6', biotype='protein_coding', contig='X', start=100627109, end=100639991, strand='-', genome='GRCh38')"
      ]
     },
     "execution_count": 7,
     "metadata": {},
     "output_type": "execute_result"
    }
   ],
   "source": [
    "human_genes[0]"
   ]
  },
  {
   "cell_type": "code",
   "execution_count": 8,
   "metadata": {},
   "outputs": [
    {
     "data": {
      "text/html": [
       "<div>\n",
       "<style scoped>\n",
       "    .dataframe tbody tr th:only-of-type {\n",
       "        vertical-align: middle;\n",
       "    }\n",
       "\n",
       "    .dataframe tbody tr th {\n",
       "        vertical-align: top;\n",
       "    }\n",
       "\n",
       "    .dataframe thead th {\n",
       "        text-align: right;\n",
       "    }\n",
       "</style>\n",
       "<table border=\"1\" class=\"dataframe\">\n",
       "  <thead>\n",
       "    <tr style=\"text-align: right;\">\n",
       "      <th></th>\n",
       "      <th>id</th>\n",
       "      <th>symbol</th>\n",
       "      <th>biotype</th>\n",
       "      <th>chr</th>\n",
       "      <th>start</th>\n",
       "      <th>end</th>\n",
       "      <th>strand</th>\n",
       "    </tr>\n",
       "  </thead>\n",
       "  <tbody>\n",
       "    <tr>\n",
       "      <th>0</th>\n",
       "      <td>ENSG00000000003</td>\n",
       "      <td>TSPAN6</td>\n",
       "      <td>protein_coding</td>\n",
       "      <td>X</td>\n",
       "      <td>100627109</td>\n",
       "      <td>100639991</td>\n",
       "      <td>-</td>\n",
       "    </tr>\n",
       "    <tr>\n",
       "      <th>1</th>\n",
       "      <td>ENSG00000000005</td>\n",
       "      <td>TNMD</td>\n",
       "      <td>protein_coding</td>\n",
       "      <td>X</td>\n",
       "      <td>100584936</td>\n",
       "      <td>100599885</td>\n",
       "      <td>+</td>\n",
       "    </tr>\n",
       "    <tr>\n",
       "      <th>2</th>\n",
       "      <td>ENSG00000000419</td>\n",
       "      <td>DPM1</td>\n",
       "      <td>protein_coding</td>\n",
       "      <td>20</td>\n",
       "      <td>50934867</td>\n",
       "      <td>50958555</td>\n",
       "      <td>-</td>\n",
       "    </tr>\n",
       "    <tr>\n",
       "      <th>3</th>\n",
       "      <td>ENSG00000000457</td>\n",
       "      <td>SCYL3</td>\n",
       "      <td>protein_coding</td>\n",
       "      <td>1</td>\n",
       "      <td>169849631</td>\n",
       "      <td>169894267</td>\n",
       "      <td>-</td>\n",
       "    </tr>\n",
       "    <tr>\n",
       "      <th>4</th>\n",
       "      <td>ENSG00000000460</td>\n",
       "      <td>C1orf112</td>\n",
       "      <td>protein_coding</td>\n",
       "      <td>1</td>\n",
       "      <td>169662007</td>\n",
       "      <td>169854080</td>\n",
       "      <td>+</td>\n",
       "    </tr>\n",
       "  </tbody>\n",
       "</table>\n",
       "</div>"
      ],
      "text/plain": [
       "                id    symbol         biotype chr      start        end strand\n",
       "0  ENSG00000000003    TSPAN6  protein_coding   X  100627109  100639991      -\n",
       "1  ENSG00000000005      TNMD  protein_coding   X  100584936  100599885      +\n",
       "2  ENSG00000000419      DPM1  protein_coding  20   50934867   50958555      -\n",
       "3  ENSG00000000457     SCYL3  protein_coding   1  169849631  169894267      -\n",
       "4  ENSG00000000460  C1orf112  protein_coding   1  169662007  169854080      +"
      ]
     },
     "execution_count": 8,
     "metadata": {},
     "output_type": "execute_result"
    }
   ],
   "source": [
    "human_genes_tuples = [(x.gene_id, x.gene_name, x.biotype, x.contig, x.start, x.end, x.strand) for x in human_genes]\n",
    "human_genes_table = pd.DataFrame.from_records(human_genes_tuples, columns=[\"id\", \"symbol\", \"biotype\", \"chr\", \"start\", \"end\", \"strand\"])\n",
    "assert all(human_genes_table.start <= human_genes_table.end)\n",
    "\n",
    "human_genes_table.head()"
   ]
  },
  {
   "cell_type": "code",
   "execution_count": 9,
   "metadata": {},
   "outputs": [
    {
     "data": {
      "text/plain": [
       "1     5471\n",
       "2     4196\n",
       "11    3360\n",
       "3     3185\n",
       "17    3060\n",
       "6     3059\n",
       "12    3054\n",
       "7     3014\n",
       "19    2992\n",
       "5     2983\n",
       "4     2651\n",
       "16    2556\n",
       "8     2482\n",
       "X     2422\n",
       "10    2332\n",
       "9     2327\n",
       "14    2282\n",
       "15    2221\n",
       "20    1457\n",
       "13    1397\n",
       "22    1384\n",
       "18    1242\n",
       "21     872\n",
       "Y      522\n",
       "MT      37\n",
       "Name: chr, dtype: int64"
      ]
     },
     "execution_count": 9,
     "metadata": {},
     "output_type": "execute_result"
    }
   ],
   "source": [
    "excluded_regions = human_genes_table[[\"chr\", \"start\", \"end\"]][human_genes_table.chr.isin(CHRS)].copy()\n",
    "excluded_regions.chr.value_counts()"
   ]
  },
  {
   "cell_type": "code",
   "execution_count": 10,
   "metadata": {},
   "outputs": [
    {
     "data": {
      "text/html": [
       "<div>\n",
       "<style scoped>\n",
       "    .dataframe tbody tr th:only-of-type {\n",
       "        vertical-align: middle;\n",
       "    }\n",
       "\n",
       "    .dataframe tbody tr th {\n",
       "        vertical-align: top;\n",
       "    }\n",
       "\n",
       "    .dataframe thead th {\n",
       "        text-align: right;\n",
       "    }\n",
       "</style>\n",
       "<table border=\"1\" class=\"dataframe\">\n",
       "  <thead>\n",
       "    <tr style=\"text-align: right;\">\n",
       "      <th></th>\n",
       "      <th>chr</th>\n",
       "      <th>start</th>\n",
       "      <th>end</th>\n",
       "    </tr>\n",
       "  </thead>\n",
       "  <tbody>\n",
       "    <tr>\n",
       "      <th>0</th>\n",
       "      <td>X</td>\n",
       "      <td>100627109</td>\n",
       "      <td>100639991</td>\n",
       "    </tr>\n",
       "    <tr>\n",
       "      <th>1</th>\n",
       "      <td>X</td>\n",
       "      <td>100584936</td>\n",
       "      <td>100599885</td>\n",
       "    </tr>\n",
       "    <tr>\n",
       "      <th>2</th>\n",
       "      <td>20</td>\n",
       "      <td>50934867</td>\n",
       "      <td>50958555</td>\n",
       "    </tr>\n",
       "    <tr>\n",
       "      <th>3</th>\n",
       "      <td>1</td>\n",
       "      <td>169849631</td>\n",
       "      <td>169894267</td>\n",
       "    </tr>\n",
       "    <tr>\n",
       "      <th>4</th>\n",
       "      <td>1</td>\n",
       "      <td>169662007</td>\n",
       "      <td>169854080</td>\n",
       "    </tr>\n",
       "  </tbody>\n",
       "</table>\n",
       "</div>"
      ],
      "text/plain": [
       "  chr      start        end\n",
       "0   X  100627109  100639991\n",
       "1   X  100584936  100599885\n",
       "2  20   50934867   50958555\n",
       "3   1  169849631  169894267\n",
       "4   1  169662007  169854080"
      ]
     },
     "execution_count": 10,
     "metadata": {},
     "output_type": "execute_result"
    }
   ],
   "source": [
    "excluded_regions.head()"
   ]
  },
  {
   "cell_type": "code",
   "execution_count": 11,
   "metadata": {},
   "outputs": [
    {
     "data": {
      "text/plain": [
       "(1976405758, 0.6399684165820992)"
      ]
     },
     "execution_count": 11,
     "metadata": {},
     "output_type": "execute_result"
    }
   ],
   "source": [
    "total_gene_length = ((excluded_regions.end - excluded_regions.start) + 1).sum()\n",
    "total_gene_length, total_gene_length/total_length"
   ]
  },
  {
   "cell_type": "code",
   "execution_count": 12,
   "metadata": {},
   "outputs": [],
   "source": [
    "excluded_regions['start_dist'] = excluded_regions['start'] - MIN_DIST - K\n",
    "excluded_regions['end_dist'] = excluded_regions['end'] + MIN_DIST"
   ]
  },
  {
   "cell_type": "markdown",
   "metadata": {},
   "source": [
    "## Check on chr1 how many possible seqs are really there"
   ]
  },
  {
   "cell_type": "code",
   "execution_count": 13,
   "metadata": {},
   "outputs": [
    {
     "data": {
      "application/vnd.jupyter.widget-view+json": {
       "model_id": "5bc3e55ff99d48d6a096f538017ef213",
       "version_major": 2,
       "version_minor": 0
      },
      "text/plain": [
       "HBox(children=(FloatProgress(value=0.0, max=60558.0), HTML(value='')))"
      ]
     },
     "metadata": {},
     "output_type": "display_data"
    },
    {
     "name": "stdout",
     "output_type": "stream",
     "text": [
      "\n"
     ]
    }
   ],
   "source": [
    "c = '1'\n",
    "c_len = contig_lengths[c]\n",
    "possible_seq_starts = np.ones(c_len, dtype=bool)\n",
    "\n",
    "for i in tqdm(range(excluded_regions.shape[0])):\n",
    "    if excluded_regions.chr.values[i] == c:\n",
    "        start = max(excluded_regions.start_dist.values[i], 1)\n",
    "        end = min(excluded_regions.end_dist.values[i], c_len)\n",
    "        possible_seq_starts[(start-1):end] = 0"
   ]
  },
  {
   "cell_type": "code",
   "execution_count": 14,
   "metadata": {},
   "outputs": [
    {
     "data": {
      "text/plain": [
       "(101541431, 0.4078682935120268)"
      ]
     },
     "execution_count": 14,
     "metadata": {},
     "output_type": "execute_result"
    }
   ],
   "source": [
    "possible_seq_starts.sum(), possible_seq_starts.sum()/c_len"
   ]
  },
  {
   "cell_type": "code",
   "execution_count": 15,
   "metadata": {},
   "outputs": [
    {
     "data": {
      "text/plain": [
       "protein_coding                        19986\n",
       "lncRNA                                16828\n",
       "processed_pseudogene                  10170\n",
       "unprocessed_pseudogene                 2626\n",
       "misc_RNA                               2220\n",
       "snRNA                                  1910\n",
       "miRNA                                  1879\n",
       "TEC                                    1064\n",
       "snoRNA                                  942\n",
       "transcribed_unprocessed_pseudogene      916\n",
       "rRNA_pseudogene                         499\n",
       "transcribed_processed_pseudogene        491\n",
       "IG_V_pseudogene                         188\n",
       "IG_V_gene                               144\n",
       "transcribed_unitary_pseudogene          129\n",
       "TR_V_gene                               106\n",
       "unitary_pseudogene                       97\n",
       "TR_J_gene                                79\n",
       "rRNA                                     58\n",
       "scaRNA                                   49\n",
       "polymorphic_pseudogene                   42\n",
       "IG_D_gene                                37\n",
       "TR_V_pseudogene                          33\n",
       "pseudogene                               22\n",
       "Mt_tRNA                                  22\n",
       "IG_J_gene                                18\n",
       "IG_C_gene                                14\n",
       "IG_C_pseudogene                           9\n",
       "ribozyme                                  8\n",
       "TR_C_gene                                 6\n",
       "sRNA                                      5\n",
       "TR_J_pseudogene                           4\n",
       "TR_D_gene                                 4\n",
       "IG_J_pseudogene                           3\n",
       "Mt_rRNA                                   2\n",
       "translated_processed_pseudogene           2\n",
       "translated_unprocessed_pseudogene         2\n",
       "vaultRNA                                  1\n",
       "scRNA                                     1\n",
       "IG_pseudogene                             1\n",
       "dtype: int64"
      ]
     },
     "execution_count": 15,
     "metadata": {},
     "output_type": "execute_result"
    }
   ],
   "source": [
    "biotypes = pd.Series([g.biotype for g in human_genes])\n",
    "biotypes.value_counts()"
   ]
  },
  {
   "cell_type": "markdown",
   "metadata": {},
   "source": [
    "## Random sequence generation"
   ]
  },
  {
   "cell_type": "code",
   "execution_count": 16,
   "metadata": {},
   "outputs": [],
   "source": [
    "def get_random_chr(chr_lengths: pd.Series):\n",
    "    chr_probs = chr_lengths / chr_lengths.sum()\n",
    "    return CHRS[np.argwhere(np.random.multinomial(1, chr_probs))[0][0]]\n",
    "\n",
    "def is_intersecting(c, pos, df_forbidden):\n",
    "    intersecting = (df_forbidden.chr.values == c) & (df_forbidden.start_dist.values <= pos) & (df_forbidden.end_dist.values >= pos)\n",
    "    return intersecting.any()\n",
    "\n",
    "def get_random_pos(df_forbidden: pd.DataFrame, chr_lengths: pd.Series):\n",
    "    c = get_random_chr(chr_lengths)\n",
    "    c_len = chr_lengths[c]\n",
    "    pos = np.random.randint(c_len) + 1\n",
    "    \n",
    "    while is_intersecting(c, pos, df_forbidden):\n",
    "        pos = np.random.randint(c_len) + 1\n",
    "    \n",
    "    return c, pos"
   ]
  },
  {
   "cell_type": "code",
   "execution_count": 17,
   "metadata": {},
   "outputs": [
    {
     "data": {
      "text/plain": [
       "'16'"
      ]
     },
     "execution_count": 17,
     "metadata": {},
     "output_type": "execute_result"
    }
   ],
   "source": [
    "chr_lengths = pd.Series(contig_lengths)\n",
    "get_random_chr(chr_lengths) "
   ]
  },
  {
   "cell_type": "code",
   "execution_count": 18,
   "metadata": {},
   "outputs": [
    {
     "data": {
      "text/plain": [
       "False"
      ]
     },
     "execution_count": 18,
     "metadata": {},
     "output_type": "execute_result"
    }
   ],
   "source": [
    "is_intersecting('1', 11_000_000, excluded_regions)"
   ]
  },
  {
   "cell_type": "code",
   "execution_count": 19,
   "metadata": {},
   "outputs": [
    {
     "data": {
      "text/plain": [
       "('10', 98129005)"
      ]
     },
     "execution_count": 19,
     "metadata": {},
     "output_type": "execute_result"
    }
   ],
   "source": [
    "get_random_pos(excluded_regions, chr_lengths)"
   ]
  },
  {
   "cell_type": "code",
   "execution_count": 20,
   "metadata": {},
   "outputs": [
    {
     "data": {
      "application/vnd.jupyter.widget-view+json": {
       "model_id": "1e8ae478f23f486e9c2381c9df6891a5",
       "version_major": 2,
       "version_minor": 0
      },
      "text/plain": [
       "HBox(children=(FloatProgress(value=0.0, max=50000.0), HTML(value='')))"
      ]
     },
     "metadata": {},
     "output_type": "display_data"
    },
    {
     "name": "stdout",
     "output_type": "stream",
     "text": [
      "\n"
     ]
    }
   ],
   "source": [
    "random_seqs = [get_random_pos(excluded_regions, chr_lengths) for i in tqdm(range(N))]"
   ]
  },
  {
   "cell_type": "markdown",
   "metadata": {},
   "source": [
    "## Get actual genomic sequences"
   ]
  },
  {
   "cell_type": "code",
   "execution_count": 22,
   "metadata": {},
   "outputs": [],
   "source": [
    "seqs = pd.DataFrame.from_records(random_seqs, columns=[\"chr\", \"start\"])\n",
    "seqs['end'] = seqs['start'] + K - 1\n",
    "seqs['seq'] = ''"
   ]
  },
  {
   "cell_type": "code",
   "execution_count": 23,
   "metadata": {},
   "outputs": [
    {
     "data": {
      "text/html": [
       "<div>\n",
       "<style scoped>\n",
       "    .dataframe tbody tr th:only-of-type {\n",
       "        vertical-align: middle;\n",
       "    }\n",
       "\n",
       "    .dataframe tbody tr th {\n",
       "        vertical-align: top;\n",
       "    }\n",
       "\n",
       "    .dataframe thead th {\n",
       "        text-align: right;\n",
       "    }\n",
       "</style>\n",
       "<table border=\"1\" class=\"dataframe\">\n",
       "  <thead>\n",
       "    <tr style=\"text-align: right;\">\n",
       "      <th></th>\n",
       "      <th>chr</th>\n",
       "      <th>start</th>\n",
       "      <th>end</th>\n",
       "      <th>seq</th>\n",
       "    </tr>\n",
       "  </thead>\n",
       "  <tbody>\n",
       "    <tr>\n",
       "      <th>0</th>\n",
       "      <td>8</td>\n",
       "      <td>138579104</td>\n",
       "      <td>138579303</td>\n",
       "      <td></td>\n",
       "    </tr>\n",
       "    <tr>\n",
       "      <th>1</th>\n",
       "      <td>13</td>\n",
       "      <td>64438060</td>\n",
       "      <td>64438259</td>\n",
       "      <td></td>\n",
       "    </tr>\n",
       "    <tr>\n",
       "      <th>2</th>\n",
       "      <td>19</td>\n",
       "      <td>31709650</td>\n",
       "      <td>31709849</td>\n",
       "      <td></td>\n",
       "    </tr>\n",
       "    <tr>\n",
       "      <th>3</th>\n",
       "      <td>X</td>\n",
       "      <td>40439651</td>\n",
       "      <td>40439850</td>\n",
       "      <td></td>\n",
       "    </tr>\n",
       "    <tr>\n",
       "      <th>4</th>\n",
       "      <td>9</td>\n",
       "      <td>73805400</td>\n",
       "      <td>73805599</td>\n",
       "      <td></td>\n",
       "    </tr>\n",
       "  </tbody>\n",
       "</table>\n",
       "</div>"
      ],
      "text/plain": [
       "  chr      start        end seq\n",
       "0   8  138579104  138579303    \n",
       "1  13   64438060   64438259    \n",
       "2  19   31709650   31709849    \n",
       "3   X   40439651   40439850    \n",
       "4   9   73805400   73805599    "
      ]
     },
     "execution_count": 23,
     "metadata": {},
     "output_type": "execute_result"
    }
   ],
   "source": [
    "seqs.head()"
   ]
  },
  {
   "cell_type": "code",
   "execution_count": 24,
   "metadata": {},
   "outputs": [
    {
     "data": {
      "application/vnd.jupyter.widget-view+json": {
       "model_id": "b41053e9602846689dff2864bee77f38",
       "version_major": 2,
       "version_minor": 0
      },
      "text/plain": [
       "HBox(children=(FloatProgress(value=0.0, max=24.0), HTML(value='')))"
      ]
     },
     "metadata": {},
     "output_type": "display_data"
    }
   ],
   "source": [
    "def which(self):\n",
    "    try:\n",
    "        self = list(iter(self))\n",
    "    except TypeError as e:\n",
    "        raise Exception(\"\"\"'which' method can only be applied to iterables.\n",
    "        {}\"\"\".format(str(e)))\n",
    "    indices = [i for i, x in enumerate(self) if bool(x) == True]\n",
    "    return(indices)\n",
    "\n",
    "with gzip.open(DNA_TOPLEVEL_FASTA_PATH, \"rt\") as handle:\n",
    "    for record in tqdm(SeqIO.parse(handle, \"fasta\"), total=24):\n",
    "        sel_seqs = which(seqs.chr == record.id)\n",
    "        for i in sel_seqs:\n",
    "            seqs.loc[i, \"seq\"] = str(record.seq[(seqs.start[i]-1):seqs.end[i]])\n",
    "        \n",
    "        if record.id == \"MT\": \n",
    "            # stop, do not read small contigs\n",
    "            break"
   ]
  },
  {
   "cell_type": "code",
   "execution_count": 26,
   "metadata": {},
   "outputs": [
    {
     "data": {
      "text/html": [
       "<div>\n",
       "<style scoped>\n",
       "    .dataframe tbody tr th:only-of-type {\n",
       "        vertical-align: middle;\n",
       "    }\n",
       "\n",
       "    .dataframe tbody tr th {\n",
       "        vertical-align: top;\n",
       "    }\n",
       "\n",
       "    .dataframe thead th {\n",
       "        text-align: right;\n",
       "    }\n",
       "</style>\n",
       "<table border=\"1\" class=\"dataframe\">\n",
       "  <thead>\n",
       "    <tr style=\"text-align: right;\">\n",
       "      <th></th>\n",
       "      <th>chr</th>\n",
       "      <th>start</th>\n",
       "      <th>end</th>\n",
       "      <th>seq</th>\n",
       "    </tr>\n",
       "  </thead>\n",
       "  <tbody>\n",
       "    <tr>\n",
       "      <th>0</th>\n",
       "      <td>8</td>\n",
       "      <td>138579104</td>\n",
       "      <td>138579303</td>\n",
       "      <td>GCTCCTGAAGGTGGTTGGACCCCAGGTAGAGATGAGTGAGATTGTG...</td>\n",
       "    </tr>\n",
       "    <tr>\n",
       "      <th>1</th>\n",
       "      <td>13</td>\n",
       "      <td>64438060</td>\n",
       "      <td>64438259</td>\n",
       "      <td>TGATTTTAGTCCTCATTTAAGTATTGTAAAAATTACTATCGATTGT...</td>\n",
       "    </tr>\n",
       "    <tr>\n",
       "      <th>2</th>\n",
       "      <td>19</td>\n",
       "      <td>31709650</td>\n",
       "      <td>31709849</td>\n",
       "      <td>GGCAGAAACAGTCATGCCTGCCAAAGAGTCCATATGTCCCCTACAT...</td>\n",
       "    </tr>\n",
       "    <tr>\n",
       "      <th>3</th>\n",
       "      <td>X</td>\n",
       "      <td>40439651</td>\n",
       "      <td>40439850</td>\n",
       "      <td>AAGATTCAGCATGGGCAAATGAGCTGAGAAGCCTGAGAAGCCTGAG...</td>\n",
       "    </tr>\n",
       "    <tr>\n",
       "      <th>4</th>\n",
       "      <td>9</td>\n",
       "      <td>73805400</td>\n",
       "      <td>73805599</td>\n",
       "      <td>TTCCATGAGCCTTTATGAAACAAACTGACTTCCTCAAATATTTTAG...</td>\n",
       "    </tr>\n",
       "  </tbody>\n",
       "</table>\n",
       "</div>"
      ],
      "text/plain": [
       "  chr      start        end                                                seq\n",
       "0   8  138579104  138579303  GCTCCTGAAGGTGGTTGGACCCCAGGTAGAGATGAGTGAGATTGTG...\n",
       "1  13   64438060   64438259  TGATTTTAGTCCTCATTTAAGTATTGTAAAAATTACTATCGATTGT...\n",
       "2  19   31709650   31709849  GGCAGAAACAGTCATGCCTGCCAAAGAGTCCATATGTCCCCTACAT...\n",
       "3   X   40439651   40439850  AAGATTCAGCATGGGCAAATGAGCTGAGAAGCCTGAGAAGCCTGAG...\n",
       "4   9   73805400   73805599  TTCCATGAGCCTTTATGAAACAAACTGACTTCCTCAAATATTTTAG..."
      ]
     },
     "execution_count": 26,
     "metadata": {},
     "output_type": "execute_result"
    }
   ],
   "source": [
    "seqs.head()"
   ]
  },
  {
   "cell_type": "code",
   "execution_count": 27,
   "metadata": {},
   "outputs": [
    {
     "data": {
      "text/plain": [
       "200"
      ]
     },
     "execution_count": 27,
     "metadata": {},
     "output_type": "execute_result"
    }
   ],
   "source": [
    "len(seqs.seq.values[0])"
   ]
  },
  {
   "cell_type": "code",
   "execution_count": 28,
   "metadata": {},
   "outputs": [
    {
     "data": {
      "text/plain": [
       "'TGATTTTAGTCCTCATTTAAGTATTGTAAAAATTACTATCGATTGTCTCAAGAATGATTTTGATGTACTCCCCACCCCCAACAGCCTCCTTCATTACCAGTCTCTTCATGCTAATGATGTGAGGGTGACTTTGACTGGGAGAGAGCTAAATTAAACCAGGGTCATGCTTGCCACTGTGTCCTTGGAATGCTTTTCTTTTG'"
      ]
     },
     "execution_count": 28,
     "metadata": {},
     "output_type": "execute_result"
    }
   ],
   "source": [
    "seqs.seq.values[1]"
   ]
  },
  {
   "cell_type": "markdown",
   "metadata": {},
   "source": [
    "## Save generated sequences to file"
   ]
  },
  {
   "cell_type": "code",
   "execution_count": 29,
   "metadata": {},
   "outputs": [],
   "source": [
    "seqs.to_csv(OUTPUT_FILE, index=False)"
   ]
  }
 ],
 "metadata": {
  "kernelspec": {
   "display_name": "Python 3",
   "language": "python",
   "name": "python3"
  },
  "language_info": {
   "codemirror_mode": {
    "name": "ipython",
    "version": 3
   },
   "file_extension": ".py",
   "mimetype": "text/x-python",
   "name": "python",
   "nbconvert_exporter": "python",
   "pygments_lexer": "ipython3",
   "version": "3.6.9"
  }
 },
 "nbformat": 4,
 "nbformat_minor": 4
}
