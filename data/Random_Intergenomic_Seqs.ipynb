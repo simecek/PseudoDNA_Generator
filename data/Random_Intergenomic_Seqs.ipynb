{
  "nbformat": 4,
  "nbformat_minor": 0,
  "metadata": {
    "kernelspec": {
      "display_name": "Python 3",
      "language": "python",
      "name": "python3"
    },
    "language_info": {
      "codemirror_mode": {
        "name": "ipython",
        "version": 3
      },
      "file_extension": ".py",
      "mimetype": "text/x-python",
      "name": "python",
      "nbconvert_exporter": "python",
      "pygments_lexer": "ipython3",
      "version": "3.6.9"
    },
    "colab": {
      "name": "Random_Intergenomic_Seqs.ipynb",
      "provenance": [],
      "collapsed_sections": [],
      "include_colab_link": true
    },
    "widgets": {
      "application/vnd.jupyter.widget-state+json": {
        "c0db9dc9a0f040eca79dadd004184c0f": {
          "model_module": "@jupyter-widgets/controls",
          "model_name": "HBoxModel",
          "state": {
            "_view_name": "HBoxView",
            "_dom_classes": [],
            "_model_name": "HBoxModel",
            "_view_module": "@jupyter-widgets/controls",
            "_model_module_version": "1.5.0",
            "_view_count": null,
            "_view_module_version": "1.5.0",
            "box_style": "",
            "layout": "IPY_MODEL_edefe4a233874d17b35c1933287503bc",
            "_model_module": "@jupyter-widgets/controls",
            "children": [
              "IPY_MODEL_3fabd669f9814940922b9aab92061a0d",
              "IPY_MODEL_d49e902e3a5847fab08351d6c1ce10c2"
            ]
          }
        },
        "edefe4a233874d17b35c1933287503bc": {
          "model_module": "@jupyter-widgets/base",
          "model_name": "LayoutModel",
          "state": {
            "_view_name": "LayoutView",
            "grid_template_rows": null,
            "right": null,
            "justify_content": null,
            "_view_module": "@jupyter-widgets/base",
            "overflow": null,
            "_model_module_version": "1.2.0",
            "_view_count": null,
            "flex_flow": null,
            "width": null,
            "min_width": null,
            "border": null,
            "align_items": null,
            "bottom": null,
            "_model_module": "@jupyter-widgets/base",
            "top": null,
            "grid_column": null,
            "overflow_y": null,
            "overflow_x": null,
            "grid_auto_flow": null,
            "grid_area": null,
            "grid_template_columns": null,
            "flex": null,
            "_model_name": "LayoutModel",
            "justify_items": null,
            "grid_row": null,
            "max_height": null,
            "align_content": null,
            "visibility": null,
            "align_self": null,
            "height": null,
            "min_height": null,
            "padding": null,
            "grid_auto_rows": null,
            "grid_gap": null,
            "max_width": null,
            "order": null,
            "_view_module_version": "1.2.0",
            "grid_template_areas": null,
            "object_position": null,
            "object_fit": null,
            "grid_auto_columns": null,
            "margin": null,
            "display": null,
            "left": null
          }
        },
        "3fabd669f9814940922b9aab92061a0d": {
          "model_module": "@jupyter-widgets/controls",
          "model_name": "FloatProgressModel",
          "state": {
            "_view_name": "ProgressView",
            "style": "IPY_MODEL_993fa5c9ff2249d29c80695607784dd3",
            "_dom_classes": [],
            "description": "100%",
            "_model_name": "FloatProgressModel",
            "bar_style": "danger",
            "max": 24,
            "_view_module": "@jupyter-widgets/controls",
            "_model_module_version": "1.5.0",
            "value": 24,
            "_view_count": null,
            "_view_module_version": "1.5.0",
            "orientation": "horizontal",
            "min": 0,
            "description_tooltip": null,
            "_model_module": "@jupyter-widgets/controls",
            "layout": "IPY_MODEL_583bc5e9acb44dbd989de768a5b8f8e0"
          }
        },
        "d49e902e3a5847fab08351d6c1ce10c2": {
          "model_module": "@jupyter-widgets/controls",
          "model_name": "HTMLModel",
          "state": {
            "_view_name": "HTMLView",
            "style": "IPY_MODEL_3675e00c90fe4aa58cbdf3b54db01a9b",
            "_dom_classes": [],
            "description": "",
            "_model_name": "HTMLModel",
            "placeholder": "​",
            "_view_module": "@jupyter-widgets/controls",
            "_model_module_version": "1.5.0",
            "value": " 24/24 [01:09&lt;00:00,  1.70s/it]",
            "_view_count": null,
            "_view_module_version": "1.5.0",
            "description_tooltip": null,
            "_model_module": "@jupyter-widgets/controls",
            "layout": "IPY_MODEL_0fb218b8ea8f41979592792ebd30720d"
          }
        },
        "993fa5c9ff2249d29c80695607784dd3": {
          "model_module": "@jupyter-widgets/controls",
          "model_name": "ProgressStyleModel",
          "state": {
            "_view_name": "StyleView",
            "_model_name": "ProgressStyleModel",
            "description_width": "initial",
            "_view_module": "@jupyter-widgets/base",
            "_model_module_version": "1.5.0",
            "_view_count": null,
            "_view_module_version": "1.2.0",
            "bar_color": null,
            "_model_module": "@jupyter-widgets/controls"
          }
        },
        "583bc5e9acb44dbd989de768a5b8f8e0": {
          "model_module": "@jupyter-widgets/base",
          "model_name": "LayoutModel",
          "state": {
            "_view_name": "LayoutView",
            "grid_template_rows": null,
            "right": null,
            "justify_content": null,
            "_view_module": "@jupyter-widgets/base",
            "overflow": null,
            "_model_module_version": "1.2.0",
            "_view_count": null,
            "flex_flow": null,
            "width": null,
            "min_width": null,
            "border": null,
            "align_items": null,
            "bottom": null,
            "_model_module": "@jupyter-widgets/base",
            "top": null,
            "grid_column": null,
            "overflow_y": null,
            "overflow_x": null,
            "grid_auto_flow": null,
            "grid_area": null,
            "grid_template_columns": null,
            "flex": null,
            "_model_name": "LayoutModel",
            "justify_items": null,
            "grid_row": null,
            "max_height": null,
            "align_content": null,
            "visibility": null,
            "align_self": null,
            "height": null,
            "min_height": null,
            "padding": null,
            "grid_auto_rows": null,
            "grid_gap": null,
            "max_width": null,
            "order": null,
            "_view_module_version": "1.2.0",
            "grid_template_areas": null,
            "object_position": null,
            "object_fit": null,
            "grid_auto_columns": null,
            "margin": null,
            "display": null,
            "left": null
          }
        },
        "3675e00c90fe4aa58cbdf3b54db01a9b": {
          "model_module": "@jupyter-widgets/controls",
          "model_name": "DescriptionStyleModel",
          "state": {
            "_view_name": "StyleView",
            "_model_name": "DescriptionStyleModel",
            "description_width": "",
            "_view_module": "@jupyter-widgets/base",
            "_model_module_version": "1.5.0",
            "_view_count": null,
            "_view_module_version": "1.2.0",
            "_model_module": "@jupyter-widgets/controls"
          }
        },
        "0fb218b8ea8f41979592792ebd30720d": {
          "model_module": "@jupyter-widgets/base",
          "model_name": "LayoutModel",
          "state": {
            "_view_name": "LayoutView",
            "grid_template_rows": null,
            "right": null,
            "justify_content": null,
            "_view_module": "@jupyter-widgets/base",
            "overflow": null,
            "_model_module_version": "1.2.0",
            "_view_count": null,
            "flex_flow": null,
            "width": null,
            "min_width": null,
            "border": null,
            "align_items": null,
            "bottom": null,
            "_model_module": "@jupyter-widgets/base",
            "top": null,
            "grid_column": null,
            "overflow_y": null,
            "overflow_x": null,
            "grid_auto_flow": null,
            "grid_area": null,
            "grid_template_columns": null,
            "flex": null,
            "_model_name": "LayoutModel",
            "justify_items": null,
            "grid_row": null,
            "max_height": null,
            "align_content": null,
            "visibility": null,
            "align_self": null,
            "height": null,
            "min_height": null,
            "padding": null,
            "grid_auto_rows": null,
            "grid_gap": null,
            "max_width": null,
            "order": null,
            "_view_module_version": "1.2.0",
            "grid_template_areas": null,
            "object_position": null,
            "object_fit": null,
            "grid_auto_columns": null,
            "margin": null,
            "display": null,
            "left": null
          }
        },
        "4a81dbcf516f4cc7a5819e3d93c4109b": {
          "model_module": "@jupyter-widgets/controls",
          "model_name": "HBoxModel",
          "state": {
            "_view_name": "HBoxView",
            "_dom_classes": [],
            "_model_name": "HBoxModel",
            "_view_module": "@jupyter-widgets/controls",
            "_model_module_version": "1.5.0",
            "_view_count": null,
            "_view_module_version": "1.5.0",
            "box_style": "",
            "layout": "IPY_MODEL_df158775e111432399c205374ad229b2",
            "_model_module": "@jupyter-widgets/controls",
            "children": [
              "IPY_MODEL_8bd4a5f496914e1abfd26c1740a54e87",
              "IPY_MODEL_886670be0c184b8a833ecb11bc7e5f63"
            ]
          }
        },
        "df158775e111432399c205374ad229b2": {
          "model_module": "@jupyter-widgets/base",
          "model_name": "LayoutModel",
          "state": {
            "_view_name": "LayoutView",
            "grid_template_rows": null,
            "right": null,
            "justify_content": null,
            "_view_module": "@jupyter-widgets/base",
            "overflow": null,
            "_model_module_version": "1.2.0",
            "_view_count": null,
            "flex_flow": null,
            "width": null,
            "min_width": null,
            "border": null,
            "align_items": null,
            "bottom": null,
            "_model_module": "@jupyter-widgets/base",
            "top": null,
            "grid_column": null,
            "overflow_y": null,
            "overflow_x": null,
            "grid_auto_flow": null,
            "grid_area": null,
            "grid_template_columns": null,
            "flex": null,
            "_model_name": "LayoutModel",
            "justify_items": null,
            "grid_row": null,
            "max_height": null,
            "align_content": null,
            "visibility": null,
            "align_self": null,
            "height": null,
            "min_height": null,
            "padding": null,
            "grid_auto_rows": null,
            "grid_gap": null,
            "max_width": null,
            "order": null,
            "_view_module_version": "1.2.0",
            "grid_template_areas": null,
            "object_position": null,
            "object_fit": null,
            "grid_auto_columns": null,
            "margin": null,
            "display": null,
            "left": null
          }
        },
        "8bd4a5f496914e1abfd26c1740a54e87": {
          "model_module": "@jupyter-widgets/controls",
          "model_name": "FloatProgressModel",
          "state": {
            "_view_name": "ProgressView",
            "style": "IPY_MODEL_6963ee20330d4792bd9fd5279b9074fc",
            "_dom_classes": [],
            "description": "100%",
            "_model_name": "FloatProgressModel",
            "bar_style": "success",
            "max": 60558,
            "_view_module": "@jupyter-widgets/controls",
            "_model_module_version": "1.5.0",
            "value": 60558,
            "_view_count": null,
            "_view_module_version": "1.5.0",
            "orientation": "horizontal",
            "min": 0,
            "description_tooltip": null,
            "_model_module": "@jupyter-widgets/controls",
            "layout": "IPY_MODEL_8292cea066a14b27bd2432369574ad9a"
          }
        },
        "886670be0c184b8a833ecb11bc7e5f63": {
          "model_module": "@jupyter-widgets/controls",
          "model_name": "HTMLModel",
          "state": {
            "_view_name": "HTMLView",
            "style": "IPY_MODEL_412cd6b9accc4dc1977b90b0db014c06",
            "_dom_classes": [],
            "description": "",
            "_model_name": "HTMLModel",
            "placeholder": "​",
            "_view_module": "@jupyter-widgets/controls",
            "_model_module_version": "1.5.0",
            "value": " 60558/60558 [01:24&lt;00:00, 715.38it/s]",
            "_view_count": null,
            "_view_module_version": "1.5.0",
            "description_tooltip": null,
            "_model_module": "@jupyter-widgets/controls",
            "layout": "IPY_MODEL_4ff45f7511fb4b6f9241adc3e612a2b2"
          }
        },
        "6963ee20330d4792bd9fd5279b9074fc": {
          "model_module": "@jupyter-widgets/controls",
          "model_name": "ProgressStyleModel",
          "state": {
            "_view_name": "StyleView",
            "_model_name": "ProgressStyleModel",
            "description_width": "initial",
            "_view_module": "@jupyter-widgets/base",
            "_model_module_version": "1.5.0",
            "_view_count": null,
            "_view_module_version": "1.2.0",
            "bar_color": null,
            "_model_module": "@jupyter-widgets/controls"
          }
        },
        "8292cea066a14b27bd2432369574ad9a": {
          "model_module": "@jupyter-widgets/base",
          "model_name": "LayoutModel",
          "state": {
            "_view_name": "LayoutView",
            "grid_template_rows": null,
            "right": null,
            "justify_content": null,
            "_view_module": "@jupyter-widgets/base",
            "overflow": null,
            "_model_module_version": "1.2.0",
            "_view_count": null,
            "flex_flow": null,
            "width": null,
            "min_width": null,
            "border": null,
            "align_items": null,
            "bottom": null,
            "_model_module": "@jupyter-widgets/base",
            "top": null,
            "grid_column": null,
            "overflow_y": null,
            "overflow_x": null,
            "grid_auto_flow": null,
            "grid_area": null,
            "grid_template_columns": null,
            "flex": null,
            "_model_name": "LayoutModel",
            "justify_items": null,
            "grid_row": null,
            "max_height": null,
            "align_content": null,
            "visibility": null,
            "align_self": null,
            "height": null,
            "min_height": null,
            "padding": null,
            "grid_auto_rows": null,
            "grid_gap": null,
            "max_width": null,
            "order": null,
            "_view_module_version": "1.2.0",
            "grid_template_areas": null,
            "object_position": null,
            "object_fit": null,
            "grid_auto_columns": null,
            "margin": null,
            "display": null,
            "left": null
          }
        },
        "412cd6b9accc4dc1977b90b0db014c06": {
          "model_module": "@jupyter-widgets/controls",
          "model_name": "DescriptionStyleModel",
          "state": {
            "_view_name": "StyleView",
            "_model_name": "DescriptionStyleModel",
            "description_width": "",
            "_view_module": "@jupyter-widgets/base",
            "_model_module_version": "1.5.0",
            "_view_count": null,
            "_view_module_version": "1.2.0",
            "_model_module": "@jupyter-widgets/controls"
          }
        },
        "4ff45f7511fb4b6f9241adc3e612a2b2": {
          "model_module": "@jupyter-widgets/base",
          "model_name": "LayoutModel",
          "state": {
            "_view_name": "LayoutView",
            "grid_template_rows": null,
            "right": null,
            "justify_content": null,
            "_view_module": "@jupyter-widgets/base",
            "overflow": null,
            "_model_module_version": "1.2.0",
            "_view_count": null,
            "flex_flow": null,
            "width": null,
            "min_width": null,
            "border": null,
            "align_items": null,
            "bottom": null,
            "_model_module": "@jupyter-widgets/base",
            "top": null,
            "grid_column": null,
            "overflow_y": null,
            "overflow_x": null,
            "grid_auto_flow": null,
            "grid_area": null,
            "grid_template_columns": null,
            "flex": null,
            "_model_name": "LayoutModel",
            "justify_items": null,
            "grid_row": null,
            "max_height": null,
            "align_content": null,
            "visibility": null,
            "align_self": null,
            "height": null,
            "min_height": null,
            "padding": null,
            "grid_auto_rows": null,
            "grid_gap": null,
            "max_width": null,
            "order": null,
            "_view_module_version": "1.2.0",
            "grid_template_areas": null,
            "object_position": null,
            "object_fit": null,
            "grid_auto_columns": null,
            "margin": null,
            "display": null,
            "left": null
          }
        },
        "feb5851b14d54b00929be2c07140bce1": {
          "model_module": "@jupyter-widgets/controls",
          "model_name": "HBoxModel",
          "state": {
            "_view_name": "HBoxView",
            "_dom_classes": [],
            "_model_name": "HBoxModel",
            "_view_module": "@jupyter-widgets/controls",
            "_model_module_version": "1.5.0",
            "_view_count": null,
            "_view_module_version": "1.5.0",
            "box_style": "",
            "layout": "IPY_MODEL_ed51c748b5cc47bd8a602aa77d2ea167",
            "_model_module": "@jupyter-widgets/controls",
            "children": [
              "IPY_MODEL_61f2d267eea149e88c30bf6626b2d4c4",
              "IPY_MODEL_29e0104e4c274213be14b21554533194"
            ]
          }
        },
        "ed51c748b5cc47bd8a602aa77d2ea167": {
          "model_module": "@jupyter-widgets/base",
          "model_name": "LayoutModel",
          "state": {
            "_view_name": "LayoutView",
            "grid_template_rows": null,
            "right": null,
            "justify_content": null,
            "_view_module": "@jupyter-widgets/base",
            "overflow": null,
            "_model_module_version": "1.2.0",
            "_view_count": null,
            "flex_flow": null,
            "width": null,
            "min_width": null,
            "border": null,
            "align_items": null,
            "bottom": null,
            "_model_module": "@jupyter-widgets/base",
            "top": null,
            "grid_column": null,
            "overflow_y": null,
            "overflow_x": null,
            "grid_auto_flow": null,
            "grid_area": null,
            "grid_template_columns": null,
            "flex": null,
            "_model_name": "LayoutModel",
            "justify_items": null,
            "grid_row": null,
            "max_height": null,
            "align_content": null,
            "visibility": null,
            "align_self": null,
            "height": null,
            "min_height": null,
            "padding": null,
            "grid_auto_rows": null,
            "grid_gap": null,
            "max_width": null,
            "order": null,
            "_view_module_version": "1.2.0",
            "grid_template_areas": null,
            "object_position": null,
            "object_fit": null,
            "grid_auto_columns": null,
            "margin": null,
            "display": null,
            "left": null
          }
        },
        "61f2d267eea149e88c30bf6626b2d4c4": {
          "model_module": "@jupyter-widgets/controls",
          "model_name": "FloatProgressModel",
          "state": {
            "_view_name": "ProgressView",
            "style": "IPY_MODEL_bd7a77301ebc4f3d9e47f635a6dc16f2",
            "_dom_classes": [],
            "description": "100%",
            "_model_name": "FloatProgressModel",
            "bar_style": "success",
            "max": 62500,
            "_view_module": "@jupyter-widgets/controls",
            "_model_module_version": "1.5.0",
            "value": 62500,
            "_view_count": null,
            "_view_module_version": "1.5.0",
            "orientation": "horizontal",
            "min": 0,
            "description_tooltip": null,
            "_model_module": "@jupyter-widgets/controls",
            "layout": "IPY_MODEL_f8032417713d4340802197cabaf0c72c"
          }
        },
        "29e0104e4c274213be14b21554533194": {
          "model_module": "@jupyter-widgets/controls",
          "model_name": "HTMLModel",
          "state": {
            "_view_name": "HTMLView",
            "style": "IPY_MODEL_240f38178c8f4765849eeee6fb3c7028",
            "_dom_classes": [],
            "description": "",
            "_model_name": "HTMLModel",
            "placeholder": "​",
            "_view_module": "@jupyter-widgets/controls",
            "_model_module_version": "1.5.0",
            "value": " 62500/62500 [05:33&lt;00:00, 187.36it/s]",
            "_view_count": null,
            "_view_module_version": "1.5.0",
            "description_tooltip": null,
            "_model_module": "@jupyter-widgets/controls",
            "layout": "IPY_MODEL_00bcbb5deab74d6f97e26bcfb3743dd8"
          }
        },
        "bd7a77301ebc4f3d9e47f635a6dc16f2": {
          "model_module": "@jupyter-widgets/controls",
          "model_name": "ProgressStyleModel",
          "state": {
            "_view_name": "StyleView",
            "_model_name": "ProgressStyleModel",
            "description_width": "initial",
            "_view_module": "@jupyter-widgets/base",
            "_model_module_version": "1.5.0",
            "_view_count": null,
            "_view_module_version": "1.2.0",
            "bar_color": null,
            "_model_module": "@jupyter-widgets/controls"
          }
        },
        "f8032417713d4340802197cabaf0c72c": {
          "model_module": "@jupyter-widgets/base",
          "model_name": "LayoutModel",
          "state": {
            "_view_name": "LayoutView",
            "grid_template_rows": null,
            "right": null,
            "justify_content": null,
            "_view_module": "@jupyter-widgets/base",
            "overflow": null,
            "_model_module_version": "1.2.0",
            "_view_count": null,
            "flex_flow": null,
            "width": null,
            "min_width": null,
            "border": null,
            "align_items": null,
            "bottom": null,
            "_model_module": "@jupyter-widgets/base",
            "top": null,
            "grid_column": null,
            "overflow_y": null,
            "overflow_x": null,
            "grid_auto_flow": null,
            "grid_area": null,
            "grid_template_columns": null,
            "flex": null,
            "_model_name": "LayoutModel",
            "justify_items": null,
            "grid_row": null,
            "max_height": null,
            "align_content": null,
            "visibility": null,
            "align_self": null,
            "height": null,
            "min_height": null,
            "padding": null,
            "grid_auto_rows": null,
            "grid_gap": null,
            "max_width": null,
            "order": null,
            "_view_module_version": "1.2.0",
            "grid_template_areas": null,
            "object_position": null,
            "object_fit": null,
            "grid_auto_columns": null,
            "margin": null,
            "display": null,
            "left": null
          }
        },
        "240f38178c8f4765849eeee6fb3c7028": {
          "model_module": "@jupyter-widgets/controls",
          "model_name": "DescriptionStyleModel",
          "state": {
            "_view_name": "StyleView",
            "_model_name": "DescriptionStyleModel",
            "description_width": "",
            "_view_module": "@jupyter-widgets/base",
            "_model_module_version": "1.5.0",
            "_view_count": null,
            "_view_module_version": "1.2.0",
            "_model_module": "@jupyter-widgets/controls"
          }
        },
        "00bcbb5deab74d6f97e26bcfb3743dd8": {
          "model_module": "@jupyter-widgets/base",
          "model_name": "LayoutModel",
          "state": {
            "_view_name": "LayoutView",
            "grid_template_rows": null,
            "right": null,
            "justify_content": null,
            "_view_module": "@jupyter-widgets/base",
            "overflow": null,
            "_model_module_version": "1.2.0",
            "_view_count": null,
            "flex_flow": null,
            "width": null,
            "min_width": null,
            "border": null,
            "align_items": null,
            "bottom": null,
            "_model_module": "@jupyter-widgets/base",
            "top": null,
            "grid_column": null,
            "overflow_y": null,
            "overflow_x": null,
            "grid_auto_flow": null,
            "grid_area": null,
            "grid_template_columns": null,
            "flex": null,
            "_model_name": "LayoutModel",
            "justify_items": null,
            "grid_row": null,
            "max_height": null,
            "align_content": null,
            "visibility": null,
            "align_self": null,
            "height": null,
            "min_height": null,
            "padding": null,
            "grid_auto_rows": null,
            "grid_gap": null,
            "max_width": null,
            "order": null,
            "_view_module_version": "1.2.0",
            "grid_template_areas": null,
            "object_position": null,
            "object_fit": null,
            "grid_auto_columns": null,
            "margin": null,
            "display": null,
            "left": null
          }
        },
        "32792eb0820e4a758ea04aa3abd149e5": {
          "model_module": "@jupyter-widgets/controls",
          "model_name": "HBoxModel",
          "state": {
            "_view_name": "HBoxView",
            "_dom_classes": [],
            "_model_name": "HBoxModel",
            "_view_module": "@jupyter-widgets/controls",
            "_model_module_version": "1.5.0",
            "_view_count": null,
            "_view_module_version": "1.5.0",
            "box_style": "",
            "layout": "IPY_MODEL_7ec04cea1d2b4e10817d77eb07415470",
            "_model_module": "@jupyter-widgets/controls",
            "children": [
              "IPY_MODEL_11cb22616afb4a4da9017cf380b2a7af",
              "IPY_MODEL_45693d96a6484b6ab79b7440dc56a769"
            ]
          }
        },
        "7ec04cea1d2b4e10817d77eb07415470": {
          "model_module": "@jupyter-widgets/base",
          "model_name": "LayoutModel",
          "state": {
            "_view_name": "LayoutView",
            "grid_template_rows": null,
            "right": null,
            "justify_content": null,
            "_view_module": "@jupyter-widgets/base",
            "overflow": null,
            "_model_module_version": "1.2.0",
            "_view_count": null,
            "flex_flow": null,
            "width": null,
            "min_width": null,
            "border": null,
            "align_items": null,
            "bottom": null,
            "_model_module": "@jupyter-widgets/base",
            "top": null,
            "grid_column": null,
            "overflow_y": null,
            "overflow_x": null,
            "grid_auto_flow": null,
            "grid_area": null,
            "grid_template_columns": null,
            "flex": null,
            "_model_name": "LayoutModel",
            "justify_items": null,
            "grid_row": null,
            "max_height": null,
            "align_content": null,
            "visibility": null,
            "align_self": null,
            "height": null,
            "min_height": null,
            "padding": null,
            "grid_auto_rows": null,
            "grid_gap": null,
            "max_width": null,
            "order": null,
            "_view_module_version": "1.2.0",
            "grid_template_areas": null,
            "object_position": null,
            "object_fit": null,
            "grid_auto_columns": null,
            "margin": null,
            "display": null,
            "left": null
          }
        },
        "11cb22616afb4a4da9017cf380b2a7af": {
          "model_module": "@jupyter-widgets/controls",
          "model_name": "FloatProgressModel",
          "state": {
            "_view_name": "ProgressView",
            "style": "IPY_MODEL_b68a72ef43fb4ea191691e2f627fdb5d",
            "_dom_classes": [],
            "description": "100%",
            "_model_name": "FloatProgressModel",
            "bar_style": "danger",
            "max": 24,
            "_view_module": "@jupyter-widgets/controls",
            "_model_module_version": "1.5.0",
            "value": 24,
            "_view_count": null,
            "_view_module_version": "1.5.0",
            "orientation": "horizontal",
            "min": 0,
            "description_tooltip": null,
            "_model_module": "@jupyter-widgets/controls",
            "layout": "IPY_MODEL_677663073c894b0397a6dda59af260c2"
          }
        },
        "45693d96a6484b6ab79b7440dc56a769": {
          "model_module": "@jupyter-widgets/controls",
          "model_name": "HTMLModel",
          "state": {
            "_view_name": "HTMLView",
            "style": "IPY_MODEL_765c0889bad24ff2a36a658b7f45634f",
            "_dom_classes": [],
            "description": "",
            "_model_name": "HTMLModel",
            "placeholder": "​",
            "_view_module": "@jupyter-widgets/controls",
            "_model_module_version": "1.5.0",
            "value": " 24/24 [04:46&lt;00:00, 10.12s/it]",
            "_view_count": null,
            "_view_module_version": "1.5.0",
            "description_tooltip": null,
            "_model_module": "@jupyter-widgets/controls",
            "layout": "IPY_MODEL_83b4d992e8a94574863821227152a8cf"
          }
        },
        "b68a72ef43fb4ea191691e2f627fdb5d": {
          "model_module": "@jupyter-widgets/controls",
          "model_name": "ProgressStyleModel",
          "state": {
            "_view_name": "StyleView",
            "_model_name": "ProgressStyleModel",
            "description_width": "initial",
            "_view_module": "@jupyter-widgets/base",
            "_model_module_version": "1.5.0",
            "_view_count": null,
            "_view_module_version": "1.2.0",
            "bar_color": null,
            "_model_module": "@jupyter-widgets/controls"
          }
        },
        "677663073c894b0397a6dda59af260c2": {
          "model_module": "@jupyter-widgets/base",
          "model_name": "LayoutModel",
          "state": {
            "_view_name": "LayoutView",
            "grid_template_rows": null,
            "right": null,
            "justify_content": null,
            "_view_module": "@jupyter-widgets/base",
            "overflow": null,
            "_model_module_version": "1.2.0",
            "_view_count": null,
            "flex_flow": null,
            "width": null,
            "min_width": null,
            "border": null,
            "align_items": null,
            "bottom": null,
            "_model_module": "@jupyter-widgets/base",
            "top": null,
            "grid_column": null,
            "overflow_y": null,
            "overflow_x": null,
            "grid_auto_flow": null,
            "grid_area": null,
            "grid_template_columns": null,
            "flex": null,
            "_model_name": "LayoutModel",
            "justify_items": null,
            "grid_row": null,
            "max_height": null,
            "align_content": null,
            "visibility": null,
            "align_self": null,
            "height": null,
            "min_height": null,
            "padding": null,
            "grid_auto_rows": null,
            "grid_gap": null,
            "max_width": null,
            "order": null,
            "_view_module_version": "1.2.0",
            "grid_template_areas": null,
            "object_position": null,
            "object_fit": null,
            "grid_auto_columns": null,
            "margin": null,
            "display": null,
            "left": null
          }
        },
        "765c0889bad24ff2a36a658b7f45634f": {
          "model_module": "@jupyter-widgets/controls",
          "model_name": "DescriptionStyleModel",
          "state": {
            "_view_name": "StyleView",
            "_model_name": "DescriptionStyleModel",
            "description_width": "",
            "_view_module": "@jupyter-widgets/base",
            "_model_module_version": "1.5.0",
            "_view_count": null,
            "_view_module_version": "1.2.0",
            "_model_module": "@jupyter-widgets/controls"
          }
        },
        "83b4d992e8a94574863821227152a8cf": {
          "model_module": "@jupyter-widgets/base",
          "model_name": "LayoutModel",
          "state": {
            "_view_name": "LayoutView",
            "grid_template_rows": null,
            "right": null,
            "justify_content": null,
            "_view_module": "@jupyter-widgets/base",
            "overflow": null,
            "_model_module_version": "1.2.0",
            "_view_count": null,
            "flex_flow": null,
            "width": null,
            "min_width": null,
            "border": null,
            "align_items": null,
            "bottom": null,
            "_model_module": "@jupyter-widgets/base",
            "top": null,
            "grid_column": null,
            "overflow_y": null,
            "overflow_x": null,
            "grid_auto_flow": null,
            "grid_area": null,
            "grid_template_columns": null,
            "flex": null,
            "_model_name": "LayoutModel",
            "justify_items": null,
            "grid_row": null,
            "max_height": null,
            "align_content": null,
            "visibility": null,
            "align_self": null,
            "height": null,
            "min_height": null,
            "padding": null,
            "grid_auto_rows": null,
            "grid_gap": null,
            "max_width": null,
            "order": null,
            "_view_module_version": "1.2.0",
            "grid_template_areas": null,
            "object_position": null,
            "object_fit": null,
            "grid_auto_columns": null,
            "margin": null,
            "display": null,
            "left": null
          }
        }
      }
    }
  },
  "cells": [
    {
      "cell_type": "markdown",
      "metadata": {
        "id": "view-in-github",
        "colab_type": "text"
      },
      "source": [
        "<a href=\"https://colab.research.google.com/github/simecek/PseudoDNA_Generator/blob/master/data/Random_Intergenomic_Seqs.ipynb\" target=\"_parent\"><img src=\"https://colab.research.google.com/assets/colab-badge.svg\" alt=\"Open In Colab\"/></a>"
      ]
    },
    {
      "cell_type": "markdown",
      "metadata": {
        "id": "yKEF8W8FHnfh",
        "colab_type": "text"
      },
      "source": [
        "# Generate Random Genome Sequences From Intergenomic Regions\n",
        "\n",
        "This notebook generates `N` random of the length `K` with the minimal distance `MIN_DIST` to any Ensembl gene.\n",
        "\n",
        "Sequences with Ns are filtered."
      ]
    },
    {
      "cell_type": "markdown",
      "metadata": {
        "id": "tMfWhUbtHsJ9",
        "colab_type": "text"
      },
      "source": [
        "## Setup\n",
        "\n",
        "Installation for colab environment."
      ]
    },
    {
      "cell_type": "code",
      "metadata": {
        "id": "AM0BwFWvHwhC",
        "colab_type": "code",
        "colab": {
          "base_uri": "https://localhost:8080/",
          "height": 1000
        },
        "outputId": "0fd6fe7d-1f36-4c25-a3a1-9eccad34572d"
      },
      "source": [
        "!pip install biopython pyensembl"
      ],
      "execution_count": 1,
      "outputs": [
        {
          "output_type": "stream",
          "text": [
            "Collecting biopython\n",
            "\u001b[?25l  Downloading https://files.pythonhosted.org/packages/a8/66/134dbd5f885fc71493c61b6cf04c9ea08082da28da5ed07709b02857cbd0/biopython-1.77-cp36-cp36m-manylinux1_x86_64.whl (2.3MB)\n",
            "\u001b[K     |████████████████████████████████| 2.3MB 3.3MB/s \n",
            "\u001b[?25hCollecting pyensembl\n",
            "\u001b[?25l  Downloading https://files.pythonhosted.org/packages/6b/d2/ef4b305af520ff7cc478d24c9b78560db20bb37be63fde7c2f83e9c6460e/pyensembl-1.8.7.tar.gz (57kB)\n",
            "\u001b[K     |████████████████████████████████| 61kB 6.3MB/s \n",
            "\u001b[?25hRequirement already satisfied: numpy in /usr/local/lib/python3.6/dist-packages (from biopython) (1.18.5)\n",
            "Collecting typechecks>=0.0.2\n",
            "  Downloading https://files.pythonhosted.org/packages/62/21/15129201c1f52f6af1e7809e96dce46da4b406c2c07fe9425e92f51edc5c/typechecks-0.1.0.tar.gz\n",
            "Requirement already satisfied: pandas>=0.15 in /usr/local/lib/python3.6/dist-packages (from pyensembl) (1.0.5)\n",
            "Collecting datacache>=1.1.4\n",
            "  Downloading https://files.pythonhosted.org/packages/f0/b9/a7114c1ac7b18bec9e0d232e65620aeb469b396ceaa85bcb6e81fe89a19d/datacache-1.1.5.tar.gz\n",
            "Collecting memoized-property>=1.0.2\n",
            "  Downloading https://files.pythonhosted.org/packages/70/db/23f8b5d86c9385299586c2469b58087f658f58eaeb414be0fd64cfd054e1/memoized-property-1.0.3.tar.gz\n",
            "Requirement already satisfied: six>=1.9.0 in /usr/local/lib/python3.6/dist-packages (from pyensembl) (1.12.0)\n",
            "Collecting gtfparse>=1.1.0\n",
            "  Downloading https://files.pythonhosted.org/packages/41/5c/8bd2e9020051ccffc60c56ae70b32a3b649ddac1962e9aa641f93542440e/gtfparse-1.2.0.tar.gz\n",
            "Collecting serializable\n",
            "  Downloading https://files.pythonhosted.org/packages/5f/e2/b08fefdd2b3bf59491170505a7eca09996606ea35ed53392cc0aa3041604/serializable-0.2.1.tar.gz\n",
            "Collecting tinytimer\n",
            "  Downloading https://files.pythonhosted.org/packages/5c/87/75d3fbe15aabd45d9b70702241787cf1f7f30dd9fabcd9bc89d828c7661d/tinytimer-0.0.0.tar.gz\n",
            "Requirement already satisfied: python-dateutil>=2.6.1 in /usr/local/lib/python3.6/dist-packages (from pandas>=0.15->pyensembl) (2.8.1)\n",
            "Requirement already satisfied: pytz>=2017.2 in /usr/local/lib/python3.6/dist-packages (from pandas>=0.15->pyensembl) (2018.9)\n",
            "Collecting appdirs>=1.4.0\n",
            "  Downloading https://files.pythonhosted.org/packages/3b/00/2344469e2084fb287c2e0b57b72910309874c3245463acd6cf5e3db69324/appdirs-1.4.4-py2.py3-none-any.whl\n",
            "Collecting progressbar33>=2.4\n",
            "  Downloading https://files.pythonhosted.org/packages/71/fc/7c8e01f41a6e671d7b11be470eeb3d15339c75ce5559935f3f55890eec6b/progressbar33-2.4.tar.gz\n",
            "Requirement already satisfied: requests>=2.5.1 in /usr/local/lib/python3.6/dist-packages (from datacache>=1.1.4->pyensembl) (2.23.0)\n",
            "Collecting mock\n",
            "  Downloading https://files.pythonhosted.org/packages/cd/74/d72daf8dff5b6566db857cfd088907bb0355f5dd2914c4b3ef065c790735/mock-4.0.2-py3-none-any.whl\n",
            "Collecting simplejson\n",
            "\u001b[?25l  Downloading https://files.pythonhosted.org/packages/98/87/a7b98aa9256c8843f92878966dc3d8d914c14aad97e2c5ce4798d5743e07/simplejson-3.17.0.tar.gz (83kB)\n",
            "\u001b[K     |████████████████████████████████| 92kB 8.2MB/s \n",
            "\u001b[?25hRequirement already satisfied: chardet<4,>=3.0.2 in /usr/local/lib/python3.6/dist-packages (from requests>=2.5.1->datacache>=1.1.4->pyensembl) (3.0.4)\n",
            "Requirement already satisfied: idna<3,>=2.5 in /usr/local/lib/python3.6/dist-packages (from requests>=2.5.1->datacache>=1.1.4->pyensembl) (2.9)\n",
            "Requirement already satisfied: certifi>=2017.4.17 in /usr/local/lib/python3.6/dist-packages (from requests>=2.5.1->datacache>=1.1.4->pyensembl) (2020.4.5.2)\n",
            "Requirement already satisfied: urllib3!=1.25.0,!=1.25.1,<1.26,>=1.21.1 in /usr/local/lib/python3.6/dist-packages (from requests>=2.5.1->datacache>=1.1.4->pyensembl) (1.24.3)\n",
            "Building wheels for collected packages: pyensembl, typechecks, datacache, memoized-property, gtfparse, serializable, tinytimer, progressbar33, simplejson\n",
            "  Building wheel for pyensembl (setup.py) ... \u001b[?25l\u001b[?25hdone\n",
            "  Created wheel for pyensembl: filename=pyensembl-1.8.7-cp36-none-any.whl size=56339 sha256=992f70d4282b56965d395d4f7375f6931b7f1bb23bb35e6b199dab56837ebd22\n",
            "  Stored in directory: /root/.cache/pip/wheels/69/8b/4d/a6c76aa39aa3619c8b8c5ff3e09cd180df57e5e9f04c655794\n",
            "  Building wheel for typechecks (setup.py) ... \u001b[?25l\u001b[?25hdone\n",
            "  Created wheel for typechecks: filename=typechecks-0.1.0-cp36-none-any.whl size=2770 sha256=e353eb0d5477a6501f8d08e199c6cba974f2c04d41fc2020a073c706a7fd572e\n",
            "  Stored in directory: /root/.cache/pip/wheels/27/ad/82/4a9bbc88f1d31bb1a0c053e29efafc02f56e2ed1598f5639b2\n",
            "  Building wheel for datacache (setup.py) ... \u001b[?25l\u001b[?25hdone\n",
            "  Created wheel for datacache: filename=datacache-1.1.5-cp36-none-any.whl size=16472 sha256=8c0a76d66021dc90ea341896db4d31e5ab87359e43f8324e0b550df865bfe1b6\n",
            "  Stored in directory: /root/.cache/pip/wheels/6b/89/37/76d23043c61b5096dd0170fd6ea2f6474b38d69965b633118a\n",
            "  Building wheel for memoized-property (setup.py) ... \u001b[?25l\u001b[?25hdone\n",
            "  Created wheel for memoized-property: filename=memoized_property-1.0.3-py2.py3-none-any.whl size=4174 sha256=bb5627a1daa622dd401a0d3c9a06b7cbbfa1a2a7ed7cc81787f82786cf199795\n",
            "  Stored in directory: /root/.cache/pip/wheels/8e/d4/82/ace27b33257f5918497d20427c0ac31d39c76e68b44d593fe6\n",
            "  Building wheel for gtfparse (setup.py) ... \u001b[?25l\u001b[?25hdone\n",
            "  Created wheel for gtfparse: filename=gtfparse-1.2.0-cp36-none-any.whl size=11883 sha256=ddc2ece871300642a6c4696ee7380ce22648e2f7fedc16da15136a2bc5222a24\n",
            "  Stored in directory: /root/.cache/pip/wheels/c4/27/96/6ba6fe28cbb162c326823553e3e45ac502160d1340566360f8\n",
            "  Building wheel for serializable (setup.py) ... \u001b[?25l\u001b[?25hdone\n",
            "  Created wheel for serializable: filename=serializable-0.2.1-cp36-none-any.whl size=8964 sha256=649f1d1ae02faa456db2886950efc3033b308afe2a899e96f24394025d36e692\n",
            "  Stored in directory: /root/.cache/pip/wheels/fc/22/e8/d0b047f8616c931713bcf88c51a539b6439297f033f428a5b5\n",
            "  Building wheel for tinytimer (setup.py) ... \u001b[?25l\u001b[?25hdone\n",
            "  Created wheel for tinytimer: filename=tinytimer-0.0.0-cp36-none-any.whl size=1893 sha256=625260f132fe9b67fbdb98e086349b92f00ca52102dec2e68bf30f33cb44887b\n",
            "  Stored in directory: /root/.cache/pip/wheels/44/70/1d/b94b98003272cf802466366ba15ee99fd3a58906e233b11db8\n",
            "  Building wheel for progressbar33 (setup.py) ... \u001b[?25l\u001b[?25hdone\n",
            "  Created wheel for progressbar33: filename=progressbar33-2.4-cp36-none-any.whl size=12153 sha256=7a6340bad22013df156c4dcf51b4acc75993bad90947154b4f42e9a4fdebef92\n",
            "  Stored in directory: /root/.cache/pip/wheels/3c/5a/22/73ae955a60c550ce36fae0f23cbb6d55bbf53123ee415f120c\n",
            "  Building wheel for simplejson (setup.py) ... \u001b[?25l\u001b[?25hdone\n",
            "  Created wheel for simplejson: filename=simplejson-3.17.0-cp36-cp36m-linux_x86_64.whl size=114202 sha256=9e09b0e9b88f352d7e40cf60b169d571f026776e4d89eb62efcecd08aff6a999\n",
            "  Stored in directory: /root/.cache/pip/wheels/86/c0/83/dcd0339abb2640544bb8e0938aab2d069cef55e5647ce6e097\n",
            "Successfully built pyensembl typechecks datacache memoized-property gtfparse serializable tinytimer progressbar33 simplejson\n",
            "Installing collected packages: biopython, typechecks, appdirs, progressbar33, mock, datacache, memoized-property, gtfparse, simplejson, serializable, tinytimer, pyensembl\n",
            "Successfully installed appdirs-1.4.4 biopython-1.77 datacache-1.1.5 gtfparse-1.2.0 memoized-property-1.0.3 mock-4.0.2 progressbar33-2.4 pyensembl-1.8.7 serializable-0.2.1 simplejson-3.17.0 tinytimer-0.0.0 typechecks-0.1.0\n"
          ],
          "name": "stdout"
        }
      ]
    },
    {
      "cell_type": "code",
      "metadata": {
        "id": "LlD3-EB2ICp9",
        "colab_type": "code",
        "colab": {
          "base_uri": "https://localhost:8080/",
          "height": 122
        },
        "outputId": "a3a05693-f59c-4ebe-c60c-68e7879e09e5"
      },
      "source": [
        "from google.colab import drive\n",
        "drive.mount('/content/drive')"
      ],
      "execution_count": 2,
      "outputs": [
        {
          "output_type": "stream",
          "text": [
            "Go to this URL in a browser: https://accounts.google.com/o/oauth2/auth?client_id=947318989803-6bn6qk8qdgf4n4g3pfee6491hc0brc4i.apps.googleusercontent.com&redirect_uri=urn%3aietf%3awg%3aoauth%3a2.0%3aoob&response_type=code&scope=email%20https%3a%2f%2fwww.googleapis.com%2fauth%2fdocs.test%20https%3a%2f%2fwww.googleapis.com%2fauth%2fdrive%20https%3a%2f%2fwww.googleapis.com%2fauth%2fdrive.photos.readonly%20https%3a%2f%2fwww.googleapis.com%2fauth%2fpeopleapi.readonly\n",
            "\n",
            "Enter your authorization code:\n",
            "··········\n",
            "Mounted at /content/drive\n"
          ],
          "name": "stdout"
        }
      ]
    },
    {
      "cell_type": "code",
      "metadata": {
        "id": "4DCA8e0mIQns",
        "colab_type": "code",
        "colab": {
          "base_uri": "https://localhost:8080/",
          "height": 1000
        },
        "outputId": "781169ef-e93e-48c6-d0f3-56b8aea6a95f"
      },
      "source": [
        "!pyensembl install --release 97 --species human"
      ],
      "execution_count": 3,
      "outputs": [
        {
          "output_type": "stream",
          "text": [
            "2020-06-25 10:14:14,601 - pyensembl.shell - INFO - Running 'install' for EnsemblRelease(release=97, species='homo_sapiens')\n",
            "2020-06-25 10:14:14,601 - pyensembl.download_cache - INFO - Fetching /root/.cache/pyensembl/GRCh38/ensembl97/Homo_sapiens.GRCh38.97.gtf.gz from URL ftp://ftp.ensembl.org/pub/release-97/gtf/homo_sapiens/Homo_sapiens.GRCh38.97.gtf.gz\n",
            "2020-06-25 10:14:14,601 - datacache.download - INFO - Downloading ftp://ftp.ensembl.org/pub/release-97/gtf/homo_sapiens/Homo_sapiens.GRCh38.97.gtf.gz to /root/.cache/pyensembl/GRCh38/ensembl97/Homo_sapiens.GRCh38.97.gtf.gz\n",
            "2020-06-25 10:14:18,410 - pyensembl.download_cache - INFO - Fetching /root/.cache/pyensembl/GRCh38/ensembl97/Homo_sapiens.GRCh38.cdna.all.fa.gz from URL ftp://ftp.ensembl.org/pub/release-97/fasta/homo_sapiens/cdna/Homo_sapiens.GRCh38.cdna.all.fa.gz\n",
            "2020-06-25 10:14:18,410 - datacache.download - INFO - Downloading ftp://ftp.ensembl.org/pub/release-97/fasta/homo_sapiens/cdna/Homo_sapiens.GRCh38.cdna.all.fa.gz to /root/.cache/pyensembl/GRCh38/ensembl97/Homo_sapiens.GRCh38.cdna.all.fa.gz\n",
            "2020-06-25 10:14:22,593 - pyensembl.download_cache - INFO - Fetching /root/.cache/pyensembl/GRCh38/ensembl97/Homo_sapiens.GRCh38.ncrna.fa.gz from URL ftp://ftp.ensembl.org/pub/release-97/fasta/homo_sapiens/ncrna/Homo_sapiens.GRCh38.ncrna.fa.gz\n",
            "2020-06-25 10:14:22,593 - datacache.download - INFO - Downloading ftp://ftp.ensembl.org/pub/release-97/fasta/homo_sapiens/ncrna/Homo_sapiens.GRCh38.ncrna.fa.gz to /root/.cache/pyensembl/GRCh38/ensembl97/Homo_sapiens.GRCh38.ncrna.fa.gz\n",
            "2020-06-25 10:14:24,884 - pyensembl.download_cache - INFO - Fetching /root/.cache/pyensembl/GRCh38/ensembl97/Homo_sapiens.GRCh38.pep.all.fa.gz from URL ftp://ftp.ensembl.org/pub/release-97/fasta/homo_sapiens/pep/Homo_sapiens.GRCh38.pep.all.fa.gz\n",
            "2020-06-25 10:14:24,884 - datacache.download - INFO - Downloading ftp://ftp.ensembl.org/pub/release-97/fasta/homo_sapiens/pep/Homo_sapiens.GRCh38.pep.all.fa.gz to /root/.cache/pyensembl/GRCh38/ensembl97/Homo_sapiens.GRCh38.pep.all.fa.gz\n",
            "2020-06-25 10:14:27,319 - pyensembl.database - INFO - Creating database: /root/.cache/pyensembl/GRCh38/ensembl97/Homo_sapiens.GRCh38.97.gtf.db\n",
            "2020-06-25 10:14:27,320 - pyensembl.database - INFO - Reading GTF from /root/.cache/pyensembl/GRCh38/ensembl97/Homo_sapiens.GRCh38.97.gtf.gz\n",
            "2020-06-25 10:15:58,992 - datacache.database_helpers - INFO - Creating database /root/.cache/pyensembl/GRCh38/ensembl97/Homo_sapiens.GRCh38.97.gtf.db containing: gene, CDS, stop_codon, transcript, exon, start_codon\n",
            "2020-06-25 10:15:58,993 - datacache.database - INFO - Running sqlite query: \"CREATE TABLE gene (start INT NOT NULL, exon_version TEXT NOT NULL, protein_version TEXT NOT NULL, end INT NOT NULL, gene_name TEXT NOT NULL, ccds_id TEXT NOT NULL, gene_biotype TEXT NOT NULL, gene_version TEXT NOT NULL, strand TEXT NOT NULL, transcript_id TEXT NOT NULL, transcript_support_level TEXT NOT NULL, source TEXT NOT NULL, exon_number TEXT NOT NULL, exon_id TEXT NOT NULL, protein_id TEXT NOT NULL, transcript_name TEXT NOT NULL, feature TEXT NOT NULL, gene_id TEXT UNIQUE PRIMARY KEY NOT NULL, seqname TEXT NOT NULL, transcript_version TEXT NOT NULL, transcript_biotype TEXT NOT NULL)\"\n",
            "2020-06-25 10:15:59,192 - datacache.database - INFO - Inserting 60617 rows into table gene\n",
            "2020-06-25 10:15:59,584 - datacache.database - INFO - Creating index on gene (seqname, start, end)\n",
            "2020-06-25 10:15:59,621 - datacache.database - INFO - Creating index on gene (gene_name)\n",
            "2020-06-25 10:15:59,656 - datacache.database - INFO - Creating index on gene (transcript_id)\n",
            "2020-06-25 10:15:59,674 - datacache.database - INFO - Creating index on gene (transcript_name)\n",
            "2020-06-25 10:15:59,693 - datacache.database - INFO - Creating index on gene (exon_id)\n",
            "2020-06-25 10:15:59,714 - datacache.database - INFO - Creating index on gene (protein_id)\n",
            "2020-06-25 10:15:59,733 - datacache.database - INFO - Creating index on gene (ccds_id)\n",
            "2020-06-25 10:15:59,751 - datacache.database - INFO - Running sqlite query: \"CREATE TABLE CDS (start INT NOT NULL, exon_version TEXT NOT NULL, protein_version TEXT NOT NULL, end INT NOT NULL, gene_name TEXT NOT NULL, ccds_id TEXT NOT NULL, gene_biotype TEXT NOT NULL, gene_version TEXT NOT NULL, strand TEXT NOT NULL, transcript_id TEXT NOT NULL, transcript_support_level TEXT NOT NULL, source TEXT NOT NULL, exon_number TEXT NOT NULL, exon_id TEXT NOT NULL, protein_id TEXT NOT NULL, transcript_name TEXT NOT NULL, feature TEXT NOT NULL, gene_id TEXT NOT NULL, seqname TEXT NOT NULL, transcript_version TEXT NOT NULL, transcript_biotype TEXT NOT NULL)\"\n",
            "2020-06-25 10:16:01,435 - datacache.database - INFO - Inserting 755075 rows into table CDS\n",
            "2020-06-25 10:16:05,121 - datacache.database - INFO - Creating index on CDS (seqname, start, end)\n",
            "2020-06-25 10:16:05,720 - datacache.database - INFO - Creating index on CDS (gene_name)\n",
            "2020-06-25 10:16:06,113 - datacache.database - INFO - Creating index on CDS (gene_id)\n",
            "2020-06-25 10:16:06,564 - datacache.database - INFO - Creating index on CDS (transcript_id)\n",
            "2020-06-25 10:16:07,051 - datacache.database - INFO - Creating index on CDS (transcript_name)\n",
            "2020-06-25 10:16:07,508 - datacache.database - INFO - Creating index on CDS (exon_id)\n",
            "2020-06-25 10:16:07,821 - datacache.database - INFO - Creating index on CDS (protein_id)\n",
            "2020-06-25 10:16:08,404 - datacache.database - INFO - Creating index on CDS (ccds_id)\n",
            "2020-06-25 10:16:08,833 - datacache.database - INFO - Running sqlite query: \"CREATE TABLE stop_codon (start INT NOT NULL, exon_version TEXT NOT NULL, protein_version TEXT NOT NULL, end INT NOT NULL, gene_name TEXT NOT NULL, ccds_id TEXT NOT NULL, gene_biotype TEXT NOT NULL, gene_version TEXT NOT NULL, strand TEXT NOT NULL, transcript_id TEXT NOT NULL, transcript_support_level TEXT NOT NULL, source TEXT NOT NULL, exon_number TEXT NOT NULL, exon_id TEXT NOT NULL, protein_id TEXT NOT NULL, transcript_name TEXT NOT NULL, feature TEXT NOT NULL, gene_id TEXT NOT NULL, seqname TEXT NOT NULL, transcript_version TEXT NOT NULL, transcript_biotype TEXT NOT NULL)\"\n",
            "2020-06-25 10:16:09,079 - datacache.database - INFO - Inserting 79498 rows into table stop_codon\n",
            "2020-06-25 10:16:09,507 - datacache.database - INFO - Creating index on stop_codon (seqname, start, end)\n",
            "2020-06-25 10:16:09,559 - datacache.database - INFO - Creating index on stop_codon (gene_name)\n",
            "2020-06-25 10:16:09,602 - datacache.database - INFO - Creating index on stop_codon (gene_id)\n",
            "2020-06-25 10:16:09,651 - datacache.database - INFO - Creating index on stop_codon (transcript_id)\n",
            "2020-06-25 10:16:09,708 - datacache.database - INFO - Creating index on stop_codon (transcript_name)\n",
            "2020-06-25 10:16:09,758 - datacache.database - INFO - Creating index on stop_codon (exon_id)\n",
            "2020-06-25 10:16:09,784 - datacache.database - INFO - Creating index on stop_codon (protein_id)\n",
            "2020-06-25 10:16:09,814 - datacache.database - INFO - Creating index on stop_codon (ccds_id)\n",
            "2020-06-25 10:16:09,861 - datacache.database - INFO - Running sqlite query: \"CREATE TABLE transcript (start INT NOT NULL, exon_version TEXT NOT NULL, protein_version TEXT NOT NULL, end INT NOT NULL, gene_name TEXT NOT NULL, ccds_id TEXT NOT NULL, gene_biotype TEXT NOT NULL, gene_version TEXT NOT NULL, strand TEXT NOT NULL, transcript_id TEXT UNIQUE PRIMARY KEY NOT NULL, transcript_support_level TEXT NOT NULL, source TEXT NOT NULL, exon_number TEXT NOT NULL, exon_id TEXT NOT NULL, protein_id TEXT NOT NULL, transcript_name TEXT NOT NULL, feature TEXT NOT NULL, gene_id TEXT NOT NULL, seqname TEXT NOT NULL, transcript_version TEXT NOT NULL, transcript_biotype TEXT NOT NULL)\"\n",
            "2020-06-25 10:16:10,450 - datacache.database - INFO - Inserting 226788 rows into table transcript\n",
            "2020-06-25 10:16:12,124 - datacache.database - INFO - Creating index on transcript (seqname, start, end)\n",
            "2020-06-25 10:16:12,267 - datacache.database - INFO - Creating index on transcript (gene_name)\n",
            "2020-06-25 10:16:12,399 - datacache.database - INFO - Creating index on transcript (gene_id)\n",
            "2020-06-25 10:16:12,554 - datacache.database - INFO - Creating index on transcript (transcript_name)\n",
            "2020-06-25 10:16:12,720 - datacache.database - INFO - Creating index on transcript (exon_id)\n",
            "2020-06-25 10:16:12,809 - datacache.database - INFO - Creating index on transcript (protein_id)\n",
            "2020-06-25 10:16:12,900 - datacache.database - INFO - Creating index on transcript (ccds_id)\n",
            "2020-06-25 10:16:13,014 - datacache.database - INFO - Running sqlite query: \"CREATE TABLE exon (start INT NOT NULL, exon_version TEXT NOT NULL, protein_version TEXT NOT NULL, end INT NOT NULL, gene_name TEXT NOT NULL, ccds_id TEXT NOT NULL, gene_biotype TEXT NOT NULL, gene_version TEXT NOT NULL, strand TEXT NOT NULL, transcript_id TEXT NOT NULL, transcript_support_level TEXT NOT NULL, source TEXT NOT NULL, exon_number TEXT NOT NULL, exon_id TEXT NOT NULL, protein_id TEXT NOT NULL, transcript_name TEXT NOT NULL, feature TEXT NOT NULL, gene_id TEXT NOT NULL, seqname TEXT NOT NULL, transcript_version TEXT NOT NULL, transcript_biotype TEXT NOT NULL)\"\n",
            "2020-06-25 10:16:16,212 - datacache.database - INFO - Inserting 1363230 rows into table exon\n",
            "2020-06-25 10:16:22,964 - datacache.database - INFO - Creating index on exon (seqname, start, end)\n",
            "2020-06-25 10:16:24,190 - datacache.database - INFO - Creating index on exon (gene_name)\n",
            "2020-06-25 10:16:25,021 - datacache.database - INFO - Creating index on exon (gene_id)\n",
            "2020-06-25 10:16:25,960 - datacache.database - INFO - Creating index on exon (transcript_id)\n",
            "2020-06-25 10:16:26,926 - datacache.database - INFO - Creating index on exon (transcript_name)\n",
            "2020-06-25 10:16:27,913 - datacache.database - INFO - Creating index on exon (exon_id)\n",
            "2020-06-25 10:16:29,214 - datacache.database - INFO - Creating index on exon (protein_id)\n",
            "2020-06-25 10:16:29,775 - datacache.database - INFO - Creating index on exon (ccds_id)\n",
            "2020-06-25 10:16:30,526 - datacache.database - INFO - Running sqlite query: \"CREATE TABLE start_codon (start INT NOT NULL, exon_version TEXT NOT NULL, protein_version TEXT NOT NULL, end INT NOT NULL, gene_name TEXT NOT NULL, ccds_id TEXT NOT NULL, gene_biotype TEXT NOT NULL, gene_version TEXT NOT NULL, strand TEXT NOT NULL, transcript_id TEXT NOT NULL, transcript_support_level TEXT NOT NULL, source TEXT NOT NULL, exon_number TEXT NOT NULL, exon_id TEXT NOT NULL, protein_id TEXT NOT NULL, transcript_name TEXT NOT NULL, feature TEXT NOT NULL, gene_id TEXT NOT NULL, seqname TEXT NOT NULL, transcript_version TEXT NOT NULL, transcript_biotype TEXT NOT NULL)\"\n",
            "2020-06-25 10:16:30,758 - datacache.database - INFO - Inserting 87301 rows into table start_codon\n",
            "2020-06-25 10:16:31,222 - datacache.database - INFO - Creating index on start_codon (seqname, start, end)\n",
            "2020-06-25 10:16:31,277 - datacache.database - INFO - Creating index on start_codon (gene_name)\n",
            "2020-06-25 10:16:31,328 - datacache.database - INFO - Creating index on start_codon (gene_id)\n",
            "2020-06-25 10:16:31,382 - datacache.database - INFO - Creating index on start_codon (transcript_id)\n",
            "2020-06-25 10:16:31,444 - datacache.database - INFO - Creating index on start_codon (transcript_name)\n",
            "2020-06-25 10:16:31,497 - datacache.database - INFO - Creating index on start_codon (exon_id)\n",
            "2020-06-25 10:16:31,535 - datacache.database - INFO - Creating index on start_codon (protein_id)\n",
            "2020-06-25 10:16:31,572 - datacache.database - INFO - Creating index on start_codon (ccds_id)\n",
            "2020-06-25 10:16:31,617 - datacache.database - INFO - Running sqlite query: \"CREATE TABLE _datacache_metadata (version INT)\"\n",
            "2020-06-25 10:16:31,618 - datacache.database - INFO - Running sqlite query: \"INSERT INTO _datacache_metadata VALUES (3)\"\n",
            "2020-06-25 10:16:34,158 - pyensembl.sequence_data - INFO - Parsing sequences from FASTA file at /root/.cache/pyensembl/GRCh38/ensembl97/Homo_sapiens.GRCh38.cdna.all.fa.gz\n",
            "2020-06-25 10:16:44,033 - pyensembl.sequence_data - INFO - Saving sequence dictionary to /root/.cache/pyensembl/GRCh38/ensembl97/Homo_sapiens.GRCh38.cdna.all.fa.gz.pickle\n",
            "2020-06-25 10:16:45,208 - pyensembl.sequence_data - INFO - Parsing sequences from FASTA file at /root/.cache/pyensembl/GRCh38/ensembl97/Homo_sapiens.GRCh38.ncrna.fa.gz\n",
            "2020-06-25 10:16:47,417 - pyensembl.sequence_data - INFO - Saving sequence dictionary to /root/.cache/pyensembl/GRCh38/ensembl97/Homo_sapiens.GRCh38.ncrna.fa.gz.pickle\n",
            "2020-06-25 10:16:47,585 - pyensembl.sequence_data - INFO - Parsing sequences from FASTA file at /root/.cache/pyensembl/GRCh38/ensembl97/Homo_sapiens.GRCh38.pep.all.fa.gz\n",
            "2020-06-25 10:16:49,468 - pyensembl.sequence_data - INFO - Saving sequence dictionary to /root/.cache/pyensembl/GRCh38/ensembl97/Homo_sapiens.GRCh38.pep.all.fa.gz.pickle\n"
          ],
          "name": "stdout"
        }
      ]
    },
    {
      "cell_type": "code",
      "metadata": {
        "id": "xMxJPPWxHnfj",
        "colab_type": "code",
        "colab": {}
      },
      "source": [
        "import pandas as pd\n",
        "import numpy as np\n",
        "import gzip\n",
        "from tqdm.notebook import tqdm\n",
        "\n",
        "from Bio import SeqIO   # for reading fasta files\n",
        "from pyensembl import EnsemblRelease   # to get the gene list\n",
        "\n",
        "ENSEMBL_RELEASE = 97\n",
        "DNA_TOPLEVEL_FASTA_PATH = \"/content/drive/My Drive/data/ensembl/Homo_sapiens.GRCh38.dna.toplevel.fa.gz\"\n",
        "\n",
        "# to generate random sequences\n",
        "N = 50_000    # how many\n",
        "K = 200       # how long\n",
        "MIN_DIST = 50 # how far should they be from the gene\n",
        "OUTPUT_FILE = '/content/drive/My Drive/data/random/random_seqs3.csv'   # where to save them\n",
        "# OUTPUT_FILE = 'random_seqs.csv'\n",
        "\n",
        "CHRS = [str(chr) for chr in range(1,23)] + ['X', 'Y', 'MT']"
      ],
      "execution_count": 4,
      "outputs": []
    },
    {
      "cell_type": "markdown",
      "metadata": {
        "id": "6n9O9VMvHnfo",
        "colab_type": "text"
      },
      "source": [
        "## Get length of each chromosome"
      ]
    },
    {
      "cell_type": "code",
      "metadata": {
        "id": "Q5hrCSRNHnfp",
        "colab_type": "code",
        "colab": {
          "base_uri": "https://localhost:8080/",
          "height": 474,
          "referenced_widgets": [
            "c0db9dc9a0f040eca79dadd004184c0f",
            "edefe4a233874d17b35c1933287503bc",
            "3fabd669f9814940922b9aab92061a0d",
            "d49e902e3a5847fab08351d6c1ce10c2",
            "993fa5c9ff2249d29c80695607784dd3",
            "583bc5e9acb44dbd989de768a5b8f8e0",
            "3675e00c90fe4aa58cbdf3b54db01a9b",
            "0fb218b8ea8f41979592792ebd30720d"
          ]
        },
        "outputId": "602c4e2d-4f39-43f3-f030-f1c9a51dcac0"
      },
      "source": [
        "def get_chr_lengths(fasta_path=DNA_TOPLEVEL_FASTA_PATH):\n",
        "    chr_lengths = {}\n",
        "    \n",
        "    with gzip.open(fasta_path, \"rt\") as handle:\n",
        "        for record in tqdm(SeqIO.parse(handle, \"fasta\"), total=24):\n",
        "            chr_lengths[record.id] = len(record.seq)\n",
        "            if record.id == \"MT\": \n",
        "                # stop, do not read small contigs\n",
        "                break\n",
        "    \n",
        "    # check that we have all chromosomes\n",
        "    assert set(chr_lengths.keys()) == set(CHRS) \n",
        "    \n",
        "    return chr_lengths\n",
        "\n",
        "contig_lengths = get_chr_lengths()\n",
        "contig_lengths"
      ],
      "execution_count": 5,
      "outputs": [
        {
          "output_type": "display_data",
          "data": {
            "application/vnd.jupyter.widget-view+json": {
              "model_id": "c0db9dc9a0f040eca79dadd004184c0f",
              "version_minor": 0,
              "version_major": 2
            },
            "text/plain": [
              "HBox(children=(FloatProgress(value=0.0, max=24.0), HTML(value='')))"
            ]
          },
          "metadata": {
            "tags": []
          }
        },
        {
          "output_type": "execute_result",
          "data": {
            "text/plain": [
              "{'1': 248956422,\n",
              " '10': 133797422,\n",
              " '11': 135086622,\n",
              " '12': 133275309,\n",
              " '13': 114364328,\n",
              " '14': 107043718,\n",
              " '15': 101991189,\n",
              " '16': 90338345,\n",
              " '17': 83257441,\n",
              " '18': 80373285,\n",
              " '19': 58617616,\n",
              " '2': 242193529,\n",
              " '20': 64444167,\n",
              " '21': 46709983,\n",
              " '22': 50818468,\n",
              " '3': 198295559,\n",
              " '4': 190214555,\n",
              " '5': 181538259,\n",
              " '6': 170805979,\n",
              " '7': 159345973,\n",
              " '8': 145138636,\n",
              " '9': 138394717,\n",
              " 'MT': 16569,\n",
              " 'X': 156040895,\n",
              " 'Y': 57227415}"
            ]
          },
          "metadata": {
            "tags": []
          },
          "execution_count": 5
        }
      ]
    },
    {
      "cell_type": "code",
      "metadata": {
        "id": "c4WSKWoRHnfu",
        "colab_type": "code",
        "colab": {
          "base_uri": "https://localhost:8080/",
          "height": 34
        },
        "outputId": "b3b6bbd9-8189-4fff-d108-43fce7fe68ff"
      },
      "source": [
        "total_length = pd.Series(contig_lengths).sum()\n",
        "total_length"
      ],
      "execution_count": 6,
      "outputs": [
        {
          "output_type": "execute_result",
          "data": {
            "text/plain": [
              "3088286401"
            ]
          },
          "metadata": {
            "tags": []
          },
          "execution_count": 6
        }
      ]
    },
    {
      "cell_type": "markdown",
      "metadata": {
        "id": "eLtdacLDHnfx",
        "colab_type": "text"
      },
      "source": [
        "## Get gene list"
      ]
    },
    {
      "cell_type": "code",
      "metadata": {
        "id": "iRzWAYenHnfy",
        "colab_type": "code",
        "colab": {}
      },
      "source": [
        "# release 97 uses human reference genome GRCh38\n",
        "data = EnsemblRelease(ENSEMBL_RELEASE)"
      ],
      "execution_count": 7,
      "outputs": []
    },
    {
      "cell_type": "code",
      "metadata": {
        "id": "EVJQO00LHnf0",
        "colab_type": "code",
        "colab": {
          "base_uri": "https://localhost:8080/",
          "height": 34
        },
        "outputId": "d605e38e-a5c0-4ace-8f26-ca3b8651f191"
      },
      "source": [
        "human_genes = data.genes()\n",
        "len(human_genes)"
      ],
      "execution_count": 8,
      "outputs": [
        {
          "output_type": "execute_result",
          "data": {
            "text/plain": [
              "60617"
            ]
          },
          "metadata": {
            "tags": []
          },
          "execution_count": 8
        }
      ]
    },
    {
      "cell_type": "code",
      "metadata": {
        "id": "8r9jj_B-Hnf3",
        "colab_type": "code",
        "colab": {
          "base_uri": "https://localhost:8080/",
          "height": 34
        },
        "outputId": "e0239d0b-65dc-4607-c79a-79c46699d840"
      },
      "source": [
        "human_genes[0]"
      ],
      "execution_count": 9,
      "outputs": [
        {
          "output_type": "execute_result",
          "data": {
            "text/plain": [
              "Gene(gene_id='ENSG00000000003', gene_name='TSPAN6', biotype='protein_coding', contig='X', start=100627109, end=100639991, strand='-', genome='GRCh38')"
            ]
          },
          "metadata": {
            "tags": []
          },
          "execution_count": 9
        }
      ]
    },
    {
      "cell_type": "code",
      "metadata": {
        "id": "97lrmGvNHnf6",
        "colab_type": "code",
        "colab": {
          "base_uri": "https://localhost:8080/",
          "height": 204
        },
        "outputId": "505bfe61-f200-4143-c8ac-a434c707fd9b"
      },
      "source": [
        "human_genes_tuples = [(x.gene_id, x.gene_name, x.biotype, x.contig, x.start, x.end, x.strand) for x in human_genes]\n",
        "human_genes_table = pd.DataFrame.from_records(human_genes_tuples, columns=[\"id\", \"symbol\", \"biotype\", \"chr\", \"start\", \"end\", \"strand\"])\n",
        "assert all(human_genes_table.start <= human_genes_table.end)\n",
        "\n",
        "human_genes_table.head()"
      ],
      "execution_count": 10,
      "outputs": [
        {
          "output_type": "execute_result",
          "data": {
            "text/html": [
              "<div>\n",
              "<style scoped>\n",
              "    .dataframe tbody tr th:only-of-type {\n",
              "        vertical-align: middle;\n",
              "    }\n",
              "\n",
              "    .dataframe tbody tr th {\n",
              "        vertical-align: top;\n",
              "    }\n",
              "\n",
              "    .dataframe thead th {\n",
              "        text-align: right;\n",
              "    }\n",
              "</style>\n",
              "<table border=\"1\" class=\"dataframe\">\n",
              "  <thead>\n",
              "    <tr style=\"text-align: right;\">\n",
              "      <th></th>\n",
              "      <th>id</th>\n",
              "      <th>symbol</th>\n",
              "      <th>biotype</th>\n",
              "      <th>chr</th>\n",
              "      <th>start</th>\n",
              "      <th>end</th>\n",
              "      <th>strand</th>\n",
              "    </tr>\n",
              "  </thead>\n",
              "  <tbody>\n",
              "    <tr>\n",
              "      <th>0</th>\n",
              "      <td>ENSG00000000003</td>\n",
              "      <td>TSPAN6</td>\n",
              "      <td>protein_coding</td>\n",
              "      <td>X</td>\n",
              "      <td>100627109</td>\n",
              "      <td>100639991</td>\n",
              "      <td>-</td>\n",
              "    </tr>\n",
              "    <tr>\n",
              "      <th>1</th>\n",
              "      <td>ENSG00000000005</td>\n",
              "      <td>TNMD</td>\n",
              "      <td>protein_coding</td>\n",
              "      <td>X</td>\n",
              "      <td>100584936</td>\n",
              "      <td>100599885</td>\n",
              "      <td>+</td>\n",
              "    </tr>\n",
              "    <tr>\n",
              "      <th>2</th>\n",
              "      <td>ENSG00000000419</td>\n",
              "      <td>DPM1</td>\n",
              "      <td>protein_coding</td>\n",
              "      <td>20</td>\n",
              "      <td>50934867</td>\n",
              "      <td>50958555</td>\n",
              "      <td>-</td>\n",
              "    </tr>\n",
              "    <tr>\n",
              "      <th>3</th>\n",
              "      <td>ENSG00000000457</td>\n",
              "      <td>SCYL3</td>\n",
              "      <td>protein_coding</td>\n",
              "      <td>1</td>\n",
              "      <td>169849631</td>\n",
              "      <td>169894267</td>\n",
              "      <td>-</td>\n",
              "    </tr>\n",
              "    <tr>\n",
              "      <th>4</th>\n",
              "      <td>ENSG00000000460</td>\n",
              "      <td>C1orf112</td>\n",
              "      <td>protein_coding</td>\n",
              "      <td>1</td>\n",
              "      <td>169662007</td>\n",
              "      <td>169854080</td>\n",
              "      <td>+</td>\n",
              "    </tr>\n",
              "  </tbody>\n",
              "</table>\n",
              "</div>"
            ],
            "text/plain": [
              "                id    symbol         biotype chr      start        end strand\n",
              "0  ENSG00000000003    TSPAN6  protein_coding   X  100627109  100639991      -\n",
              "1  ENSG00000000005      TNMD  protein_coding   X  100584936  100599885      +\n",
              "2  ENSG00000000419      DPM1  protein_coding  20   50934867   50958555      -\n",
              "3  ENSG00000000457     SCYL3  protein_coding   1  169849631  169894267      -\n",
              "4  ENSG00000000460  C1orf112  protein_coding   1  169662007  169854080      +"
            ]
          },
          "metadata": {
            "tags": []
          },
          "execution_count": 10
        }
      ]
    },
    {
      "cell_type": "code",
      "metadata": {
        "id": "B2kcMGGYHnf8",
        "colab_type": "code",
        "colab": {
          "base_uri": "https://localhost:8080/",
          "height": 459
        },
        "outputId": "3502b855-400e-449a-af14-e75512550136"
      },
      "source": [
        "excluded_regions = human_genes_table[[\"chr\", \"start\", \"end\"]][human_genes_table.chr.isin(CHRS)].copy()\n",
        "excluded_regions.chr.value_counts()"
      ],
      "execution_count": 11,
      "outputs": [
        {
          "output_type": "execute_result",
          "data": {
            "text/plain": [
              "1     5471\n",
              "2     4196\n",
              "11    3360\n",
              "3     3185\n",
              "17    3060\n",
              "6     3059\n",
              "12    3054\n",
              "7     3014\n",
              "19    2992\n",
              "5     2983\n",
              "4     2651\n",
              "16    2556\n",
              "8     2482\n",
              "X     2422\n",
              "10    2332\n",
              "9     2327\n",
              "14    2282\n",
              "15    2221\n",
              "20    1457\n",
              "13    1397\n",
              "22    1384\n",
              "18    1242\n",
              "21     872\n",
              "Y      522\n",
              "MT      37\n",
              "Name: chr, dtype: int64"
            ]
          },
          "metadata": {
            "tags": []
          },
          "execution_count": 11
        }
      ]
    },
    {
      "cell_type": "code",
      "metadata": {
        "id": "P2X_MtbZHnf_",
        "colab_type": "code",
        "colab": {
          "base_uri": "https://localhost:8080/",
          "height": 236
        },
        "outputId": "be795772-87b2-430b-ef44-d53e9b6d48fe"
      },
      "source": [
        "excluded_regions.head()"
      ],
      "execution_count": 12,
      "outputs": [
        {
          "output_type": "execute_result",
          "data": {
            "text/html": [
              "<div>\n",
              "<style scoped>\n",
              "    .dataframe tbody tr th:only-of-type {\n",
              "        vertical-align: middle;\n",
              "    }\n",
              "\n",
              "    .dataframe tbody tr th {\n",
              "        vertical-align: top;\n",
              "    }\n",
              "\n",
              "    .dataframe thead th {\n",
              "        text-align: right;\n",
              "    }\n",
              "</style>\n",
              "<table border=\"1\" class=\"dataframe\">\n",
              "  <thead>\n",
              "    <tr style=\"text-align: right;\">\n",
              "      <th></th>\n",
              "      <th>chr</th>\n",
              "      <th>start</th>\n",
              "      <th>end</th>\n",
              "    </tr>\n",
              "  </thead>\n",
              "  <tbody>\n",
              "    <tr>\n",
              "      <th>0</th>\n",
              "      <td>X</td>\n",
              "      <td>100627109</td>\n",
              "      <td>100639991</td>\n",
              "    </tr>\n",
              "    <tr>\n",
              "      <th>1</th>\n",
              "      <td>X</td>\n",
              "      <td>100584936</td>\n",
              "      <td>100599885</td>\n",
              "    </tr>\n",
              "    <tr>\n",
              "      <th>2</th>\n",
              "      <td>20</td>\n",
              "      <td>50934867</td>\n",
              "      <td>50958555</td>\n",
              "    </tr>\n",
              "    <tr>\n",
              "      <th>3</th>\n",
              "      <td>1</td>\n",
              "      <td>169849631</td>\n",
              "      <td>169894267</td>\n",
              "    </tr>\n",
              "    <tr>\n",
              "      <th>4</th>\n",
              "      <td>1</td>\n",
              "      <td>169662007</td>\n",
              "      <td>169854080</td>\n",
              "    </tr>\n",
              "  </tbody>\n",
              "</table>\n",
              "</div>"
            ],
            "text/plain": [
              "  chr      start        end\n",
              "0   X  100627109  100639991\n",
              "1   X  100584936  100599885\n",
              "2  20   50934867   50958555\n",
              "3   1  169849631  169894267\n",
              "4   1  169662007  169854080"
            ]
          },
          "metadata": {
            "tags": []
          },
          "execution_count": 12
        }
      ]
    },
    {
      "cell_type": "code",
      "metadata": {
        "id": "OtHtScsUHngB",
        "colab_type": "code",
        "colab": {
          "base_uri": "https://localhost:8080/",
          "height": 52
        },
        "outputId": "f2e3dc23-3311-4fef-bf5b-5b80af70d443"
      },
      "source": [
        "total_gene_length = ((excluded_regions.end - excluded_regions.start) + 1).sum()\n",
        "total_gene_length, total_gene_length/total_length"
      ],
      "execution_count": 15,
      "outputs": [
        {
          "output_type": "stream",
          "text": [
            "INFO:numexpr.utils:NumExpr defaulting to 2 threads.\n"
          ],
          "name": "stderr"
        },
        {
          "output_type": "execute_result",
          "data": {
            "text/plain": [
              "(1976405758, 0.6399684165820992)"
            ]
          },
          "metadata": {
            "tags": []
          },
          "execution_count": 15
        }
      ]
    },
    {
      "cell_type": "code",
      "metadata": {
        "id": "j8UQRaVcHngD",
        "colab_type": "code",
        "colab": {}
      },
      "source": [
        "excluded_regions['start_dist'] = excluded_regions['start'] - MIN_DIST - K\n",
        "excluded_regions['end_dist'] = excluded_regions['end'] + MIN_DIST"
      ],
      "execution_count": 16,
      "outputs": []
    },
    {
      "cell_type": "markdown",
      "metadata": {
        "id": "QLICtBw9HngG",
        "colab_type": "text"
      },
      "source": [
        "## Check on chr1 how many possible seqs are really there"
      ]
    },
    {
      "cell_type": "code",
      "metadata": {
        "id": "4UanHKR1HngG",
        "colab_type": "code",
        "colab": {
          "base_uri": "https://localhost:8080/",
          "height": 66,
          "referenced_widgets": [
            "4a81dbcf516f4cc7a5819e3d93c4109b",
            "df158775e111432399c205374ad229b2",
            "8bd4a5f496914e1abfd26c1740a54e87",
            "886670be0c184b8a833ecb11bc7e5f63",
            "6963ee20330d4792bd9fd5279b9074fc",
            "8292cea066a14b27bd2432369574ad9a",
            "412cd6b9accc4dc1977b90b0db014c06",
            "4ff45f7511fb4b6f9241adc3e612a2b2"
          ]
        },
        "outputId": "d4284e81-7185-49ae-e08a-42a557853e3b"
      },
      "source": [
        "c = '1'\n",
        "c_len = contig_lengths[c]\n",
        "possible_seq_starts = np.ones(c_len, dtype=bool)\n",
        "\n",
        "for i in tqdm(range(excluded_regions.shape[0])):\n",
        "    if excluded_regions.chr.values[i] == c:\n",
        "        start = max(excluded_regions.start_dist.values[i], 1)\n",
        "        end = min(excluded_regions.end_dist.values[i], c_len)\n",
        "        possible_seq_starts[(start-1):end] = 0"
      ],
      "execution_count": 17,
      "outputs": [
        {
          "output_type": "display_data",
          "data": {
            "application/vnd.jupyter.widget-view+json": {
              "model_id": "4a81dbcf516f4cc7a5819e3d93c4109b",
              "version_minor": 0,
              "version_major": 2
            },
            "text/plain": [
              "HBox(children=(FloatProgress(value=0.0, max=60558.0), HTML(value='')))"
            ]
          },
          "metadata": {
            "tags": []
          }
        },
        {
          "output_type": "stream",
          "text": [
            "\n"
          ],
          "name": "stdout"
        }
      ]
    },
    {
      "cell_type": "code",
      "metadata": {
        "id": "D1yHXijcHngJ",
        "colab_type": "code",
        "colab": {
          "base_uri": "https://localhost:8080/",
          "height": 34
        },
        "outputId": "df338de4-6a41-4b3b-afc2-4f9fc22843be"
      },
      "source": [
        "possible_seq_starts.sum(), possible_seq_starts.sum()/c_len"
      ],
      "execution_count": 18,
      "outputs": [
        {
          "output_type": "execute_result",
          "data": {
            "text/plain": [
              "(101541431, 0.4078682935120268)"
            ]
          },
          "metadata": {
            "tags": []
          },
          "execution_count": 18
        }
      ]
    },
    {
      "cell_type": "code",
      "metadata": {
        "id": "2UyDbFRnHngL",
        "colab_type": "code",
        "colab": {
          "base_uri": "https://localhost:8080/",
          "height": 714
        },
        "outputId": "d1e8771f-4de4-4c3c-8da0-b445f436b652"
      },
      "source": [
        "biotypes = pd.Series([g.biotype for g in human_genes])\n",
        "biotypes.value_counts()"
      ],
      "execution_count": 19,
      "outputs": [
        {
          "output_type": "execute_result",
          "data": {
            "text/plain": [
              "protein_coding                        19986\n",
              "lncRNA                                16828\n",
              "processed_pseudogene                  10170\n",
              "unprocessed_pseudogene                 2626\n",
              "misc_RNA                               2220\n",
              "snRNA                                  1910\n",
              "miRNA                                  1879\n",
              "TEC                                    1064\n",
              "snoRNA                                  942\n",
              "transcribed_unprocessed_pseudogene      916\n",
              "rRNA_pseudogene                         499\n",
              "transcribed_processed_pseudogene        491\n",
              "IG_V_pseudogene                         188\n",
              "IG_V_gene                               144\n",
              "transcribed_unitary_pseudogene          129\n",
              "TR_V_gene                               106\n",
              "unitary_pseudogene                       97\n",
              "TR_J_gene                                79\n",
              "rRNA                                     58\n",
              "scaRNA                                   49\n",
              "polymorphic_pseudogene                   42\n",
              "IG_D_gene                                37\n",
              "TR_V_pseudogene                          33\n",
              "Mt_tRNA                                  22\n",
              "pseudogene                               22\n",
              "IG_J_gene                                18\n",
              "IG_C_gene                                14\n",
              "IG_C_pseudogene                           9\n",
              "ribozyme                                  8\n",
              "TR_C_gene                                 6\n",
              "sRNA                                      5\n",
              "TR_D_gene                                 4\n",
              "TR_J_pseudogene                           4\n",
              "IG_J_pseudogene                           3\n",
              "translated_unprocessed_pseudogene         2\n",
              "Mt_rRNA                                   2\n",
              "translated_processed_pseudogene           2\n",
              "scRNA                                     1\n",
              "IG_pseudogene                             1\n",
              "vaultRNA                                  1\n",
              "dtype: int64"
            ]
          },
          "metadata": {
            "tags": []
          },
          "execution_count": 19
        }
      ]
    },
    {
      "cell_type": "markdown",
      "metadata": {
        "id": "zQ4J1qGeHngN",
        "colab_type": "text"
      },
      "source": [
        "## Random sequence generation"
      ]
    },
    {
      "cell_type": "code",
      "metadata": {
        "id": "M_-EBl92HngN",
        "colab_type": "code",
        "colab": {}
      },
      "source": [
        "def get_random_chr(chr_lengths: pd.Series):\n",
        "    chr_probs = chr_lengths / chr_lengths.sum()\n",
        "    return CHRS[np.argwhere(np.random.multinomial(1, chr_probs))[0][0]]\n",
        "\n",
        "def is_intersecting(c, pos, df_forbidden):\n",
        "    intersecting = (df_forbidden.chr.values == c) & (df_forbidden.start_dist.values <= pos) & (df_forbidden.end_dist.values >= pos)\n",
        "    return intersecting.any()\n",
        "\n",
        "def get_random_pos(df_forbidden: pd.DataFrame, chr_lengths: pd.Series):\n",
        "    c = get_random_chr(chr_lengths)\n",
        "    c_len = chr_lengths[c]\n",
        "    pos = np.random.randint(c_len) + 1\n",
        "    \n",
        "    while is_intersecting(c, pos, df_forbidden):\n",
        "        pos = np.random.randint(c_len) + 1\n",
        "    \n",
        "    return c, pos"
      ],
      "execution_count": 20,
      "outputs": []
    },
    {
      "cell_type": "code",
      "metadata": {
        "id": "yXyVAf2IHngP",
        "colab_type": "code",
        "colab": {
          "base_uri": "https://localhost:8080/",
          "height": 34
        },
        "outputId": "b76b1d72-834b-4a04-aa7f-72d3cc4f0e30"
      },
      "source": [
        "chr_lengths = pd.Series(contig_lengths)\n",
        "get_random_chr(chr_lengths) "
      ],
      "execution_count": 21,
      "outputs": [
        {
          "output_type": "execute_result",
          "data": {
            "text/plain": [
              "'7'"
            ]
          },
          "metadata": {
            "tags": []
          },
          "execution_count": 21
        }
      ]
    },
    {
      "cell_type": "code",
      "metadata": {
        "id": "ZGpVCmGyHngR",
        "colab_type": "code",
        "colab": {
          "base_uri": "https://localhost:8080/",
          "height": 34
        },
        "outputId": "4b8f1c0b-57b0-4bc1-f4f2-28fb6dec9bdb"
      },
      "source": [
        "is_intersecting('1', 11_000_000, excluded_regions)"
      ],
      "execution_count": 22,
      "outputs": [
        {
          "output_type": "execute_result",
          "data": {
            "text/plain": [
              "False"
            ]
          },
          "metadata": {
            "tags": []
          },
          "execution_count": 22
        }
      ]
    },
    {
      "cell_type": "code",
      "metadata": {
        "id": "A9ajShUQHngT",
        "colab_type": "code",
        "colab": {
          "base_uri": "https://localhost:8080/",
          "height": 34
        },
        "outputId": "ef310264-0503-427a-da9d-5dbff62aa0bb"
      },
      "source": [
        "get_random_pos(excluded_regions, chr_lengths)"
      ],
      "execution_count": 23,
      "outputs": [
        {
          "output_type": "execute_result",
          "data": {
            "text/plain": [
              "('20', 51087268)"
            ]
          },
          "metadata": {
            "tags": []
          },
          "execution_count": 23
        }
      ]
    },
    {
      "cell_type": "code",
      "metadata": {
        "id": "XomHieDzHngV",
        "colab_type": "code",
        "colab": {
          "base_uri": "https://localhost:8080/",
          "height": 66,
          "referenced_widgets": [
            "feb5851b14d54b00929be2c07140bce1",
            "ed51c748b5cc47bd8a602aa77d2ea167",
            "61f2d267eea149e88c30bf6626b2d4c4",
            "29e0104e4c274213be14b21554533194",
            "bd7a77301ebc4f3d9e47f635a6dc16f2",
            "f8032417713d4340802197cabaf0c72c",
            "240f38178c8f4765849eeee6fb3c7028",
            "00bcbb5deab74d6f97e26bcfb3743dd8"
          ]
        },
        "outputId": "74dd1011-10db-4337-f24a-908db1cd1765"
      },
      "source": [
        "# get extra 25% to exclude Ns later\n",
        "random_seqs = [get_random_pos(excluded_regions, chr_lengths) for i in tqdm(range(int(N*1.25)))]"
      ],
      "execution_count": 24,
      "outputs": [
        {
          "output_type": "display_data",
          "data": {
            "application/vnd.jupyter.widget-view+json": {
              "model_id": "feb5851b14d54b00929be2c07140bce1",
              "version_minor": 0,
              "version_major": 2
            },
            "text/plain": [
              "HBox(children=(FloatProgress(value=0.0, max=62500.0), HTML(value='')))"
            ]
          },
          "metadata": {
            "tags": []
          }
        },
        {
          "output_type": "stream",
          "text": [
            "\n"
          ],
          "name": "stdout"
        }
      ]
    },
    {
      "cell_type": "markdown",
      "metadata": {
        "id": "MqdGuPVqHngX",
        "colab_type": "text"
      },
      "source": [
        "## Get actual genomic sequences"
      ]
    },
    {
      "cell_type": "code",
      "metadata": {
        "id": "Ia_xkzHqHngX",
        "colab_type": "code",
        "colab": {}
      },
      "source": [
        "seqs = pd.DataFrame.from_records(random_seqs, columns=[\"chr\", \"start\"])\n",
        "seqs['end'] = seqs['start'] + K - 1\n",
        "seqs['seq'] = ''"
      ],
      "execution_count": 25,
      "outputs": []
    },
    {
      "cell_type": "code",
      "metadata": {
        "id": "HPUTyeL4HngZ",
        "colab_type": "code",
        "colab": {
          "base_uri": "https://localhost:8080/",
          "height": 204
        },
        "outputId": "e1b139ab-e72f-4504-d029-e6373e57dfe4"
      },
      "source": [
        "seqs.head()"
      ],
      "execution_count": 26,
      "outputs": [
        {
          "output_type": "execute_result",
          "data": {
            "text/html": [
              "<div>\n",
              "<style scoped>\n",
              "    .dataframe tbody tr th:only-of-type {\n",
              "        vertical-align: middle;\n",
              "    }\n",
              "\n",
              "    .dataframe tbody tr th {\n",
              "        vertical-align: top;\n",
              "    }\n",
              "\n",
              "    .dataframe thead th {\n",
              "        text-align: right;\n",
              "    }\n",
              "</style>\n",
              "<table border=\"1\" class=\"dataframe\">\n",
              "  <thead>\n",
              "    <tr style=\"text-align: right;\">\n",
              "      <th></th>\n",
              "      <th>chr</th>\n",
              "      <th>start</th>\n",
              "      <th>end</th>\n",
              "      <th>seq</th>\n",
              "    </tr>\n",
              "  </thead>\n",
              "  <tbody>\n",
              "    <tr>\n",
              "      <th>0</th>\n",
              "      <td>9</td>\n",
              "      <td>24721313</td>\n",
              "      <td>24721512</td>\n",
              "      <td></td>\n",
              "    </tr>\n",
              "    <tr>\n",
              "      <th>1</th>\n",
              "      <td>1</td>\n",
              "      <td>65643918</td>\n",
              "      <td>65644117</td>\n",
              "      <td></td>\n",
              "    </tr>\n",
              "    <tr>\n",
              "      <th>2</th>\n",
              "      <td>X</td>\n",
              "      <td>6258791</td>\n",
              "      <td>6258990</td>\n",
              "      <td></td>\n",
              "    </tr>\n",
              "    <tr>\n",
              "      <th>3</th>\n",
              "      <td>5</td>\n",
              "      <td>12882369</td>\n",
              "      <td>12882568</td>\n",
              "      <td></td>\n",
              "    </tr>\n",
              "    <tr>\n",
              "      <th>4</th>\n",
              "      <td>2</td>\n",
              "      <td>222171891</td>\n",
              "      <td>222172090</td>\n",
              "      <td></td>\n",
              "    </tr>\n",
              "  </tbody>\n",
              "</table>\n",
              "</div>"
            ],
            "text/plain": [
              "  chr      start        end seq\n",
              "0   9   24721313   24721512    \n",
              "1   1   65643918   65644117    \n",
              "2   X    6258791    6258990    \n",
              "3   5   12882369   12882568    \n",
              "4   2  222171891  222172090    "
            ]
          },
          "metadata": {
            "tags": []
          },
          "execution_count": 26
        }
      ]
    },
    {
      "cell_type": "code",
      "metadata": {
        "id": "TQsOjxmSHngb",
        "colab_type": "code",
        "colab": {
          "base_uri": "https://localhost:8080/",
          "height": 49,
          "referenced_widgets": [
            "32792eb0820e4a758ea04aa3abd149e5",
            "7ec04cea1d2b4e10817d77eb07415470",
            "11cb22616afb4a4da9017cf380b2a7af",
            "45693d96a6484b6ab79b7440dc56a769",
            "b68a72ef43fb4ea191691e2f627fdb5d",
            "677663073c894b0397a6dda59af260c2",
            "765c0889bad24ff2a36a658b7f45634f",
            "83b4d992e8a94574863821227152a8cf"
          ]
        },
        "outputId": "3ef8ce73-120d-411d-b553-981d38ae9a6e"
      },
      "source": [
        "def which(self):\n",
        "    try:\n",
        "        self = list(iter(self))\n",
        "    except TypeError as e:\n",
        "        raise Exception(\"\"\"'which' method can only be applied to iterables.\n",
        "        {}\"\"\".format(str(e)))\n",
        "    indices = [i for i, x in enumerate(self) if bool(x) == True]\n",
        "    return(indices)\n",
        "\n",
        "with gzip.open(DNA_TOPLEVEL_FASTA_PATH, \"rt\") as handle:\n",
        "    for record in tqdm(SeqIO.parse(handle, \"fasta\"), total=24):\n",
        "        sel_seqs = which(seqs.chr == record.id)\n",
        "        for i in sel_seqs:\n",
        "            seqs.loc[i, \"seq\"] = str(record.seq[(seqs.start[i]-1):seqs.end[i]])\n",
        "        \n",
        "        if record.id == \"MT\": \n",
        "            # stop, do not read small contigs\n",
        "            break"
      ],
      "execution_count": 27,
      "outputs": [
        {
          "output_type": "display_data",
          "data": {
            "application/vnd.jupyter.widget-view+json": {
              "model_id": "32792eb0820e4a758ea04aa3abd149e5",
              "version_minor": 0,
              "version_major": 2
            },
            "text/plain": [
              "HBox(children=(FloatProgress(value=0.0, max=24.0), HTML(value='')))"
            ]
          },
          "metadata": {
            "tags": []
          }
        }
      ]
    },
    {
      "cell_type": "code",
      "metadata": {
        "id": "leWUPmccHngd",
        "colab_type": "code",
        "colab": {
          "base_uri": "https://localhost:8080/",
          "height": 204
        },
        "outputId": "27371233-ecf1-43e2-e594-a9a1c5c3754b"
      },
      "source": [
        "seqs.head()"
      ],
      "execution_count": 28,
      "outputs": [
        {
          "output_type": "execute_result",
          "data": {
            "text/html": [
              "<div>\n",
              "<style scoped>\n",
              "    .dataframe tbody tr th:only-of-type {\n",
              "        vertical-align: middle;\n",
              "    }\n",
              "\n",
              "    .dataframe tbody tr th {\n",
              "        vertical-align: top;\n",
              "    }\n",
              "\n",
              "    .dataframe thead th {\n",
              "        text-align: right;\n",
              "    }\n",
              "</style>\n",
              "<table border=\"1\" class=\"dataframe\">\n",
              "  <thead>\n",
              "    <tr style=\"text-align: right;\">\n",
              "      <th></th>\n",
              "      <th>chr</th>\n",
              "      <th>start</th>\n",
              "      <th>end</th>\n",
              "      <th>seq</th>\n",
              "    </tr>\n",
              "  </thead>\n",
              "  <tbody>\n",
              "    <tr>\n",
              "      <th>0</th>\n",
              "      <td>9</td>\n",
              "      <td>24721313</td>\n",
              "      <td>24721512</td>\n",
              "      <td>ATGGCCAGTGTAGATATGAAATTTTATATCTGCAGACATTACAGAG...</td>\n",
              "    </tr>\n",
              "    <tr>\n",
              "      <th>1</th>\n",
              "      <td>1</td>\n",
              "      <td>65643918</td>\n",
              "      <td>65644117</td>\n",
              "      <td>TAAATGGAGTAACAGAAGGAGAAAAACAGGTATAAAAGGTCTAAGA...</td>\n",
              "    </tr>\n",
              "    <tr>\n",
              "      <th>2</th>\n",
              "      <td>X</td>\n",
              "      <td>6258791</td>\n",
              "      <td>6258990</td>\n",
              "      <td>GAGTCTTTGGTAATAGCCTAAATTAGGCTAAGATCAGTGGATTTAA...</td>\n",
              "    </tr>\n",
              "    <tr>\n",
              "      <th>3</th>\n",
              "      <td>5</td>\n",
              "      <td>12882369</td>\n",
              "      <td>12882568</td>\n",
              "      <td>GTTTTAAAACCTCATTCATATTCTCTACAGGAAAACATATAAAACA...</td>\n",
              "    </tr>\n",
              "    <tr>\n",
              "      <th>4</th>\n",
              "      <td>2</td>\n",
              "      <td>222171891</td>\n",
              "      <td>222172090</td>\n",
              "      <td>TAACCACCTTATCTAAAACAGCACTCCCAACCCTAACCTCTTGTCC...</td>\n",
              "    </tr>\n",
              "  </tbody>\n",
              "</table>\n",
              "</div>"
            ],
            "text/plain": [
              "  chr      start        end                                                seq\n",
              "0   9   24721313   24721512  ATGGCCAGTGTAGATATGAAATTTTATATCTGCAGACATTACAGAG...\n",
              "1   1   65643918   65644117  TAAATGGAGTAACAGAAGGAGAAAAACAGGTATAAAAGGTCTAAGA...\n",
              "2   X    6258791    6258990  GAGTCTTTGGTAATAGCCTAAATTAGGCTAAGATCAGTGGATTTAA...\n",
              "3   5   12882369   12882568  GTTTTAAAACCTCATTCATATTCTCTACAGGAAAACATATAAAACA...\n",
              "4   2  222171891  222172090  TAACCACCTTATCTAAAACAGCACTCCCAACCCTAACCTCTTGTCC..."
            ]
          },
          "metadata": {
            "tags": []
          },
          "execution_count": 28
        }
      ]
    },
    {
      "cell_type": "code",
      "metadata": {
        "id": "d9-E5cG9Hngf",
        "colab_type": "code",
        "colab": {
          "base_uri": "https://localhost:8080/",
          "height": 34
        },
        "outputId": "9a5619eb-beb5-44c0-ead7-ffcf8bae4d62"
      },
      "source": [
        "len(seqs.seq.values[0])"
      ],
      "execution_count": 29,
      "outputs": [
        {
          "output_type": "execute_result",
          "data": {
            "text/plain": [
              "200"
            ]
          },
          "metadata": {
            "tags": []
          },
          "execution_count": 29
        }
      ]
    },
    {
      "cell_type": "code",
      "metadata": {
        "id": "VMSIx3zCHngh",
        "colab_type": "code",
        "colab": {
          "base_uri": "https://localhost:8080/",
          "height": 34
        },
        "outputId": "87382d24-9e92-4b62-c8dc-22372b022450"
      },
      "source": [
        "seqs.seq.values[1]"
      ],
      "execution_count": 30,
      "outputs": [
        {
          "output_type": "execute_result",
          "data": {
            "text/plain": [
              "'TAAATGGAGTAACAGAAGGAGAAAAACAGGTATAAAAGGTCTAAGAATTGGGACGACTCAGGATATCTGATTAGAGAGTGCCTAAGGAGATTCAGCATAGTCCTGCCAGCAAAGATTATTTATTTACTTCAAGAGTTTAGAGTGGCAGTTTGGGGATAGCACCAGGAGATATCAGCTGTGATGGCTTGGAGAAACAGTGT'"
            ]
          },
          "metadata": {
            "tags": []
          },
          "execution_count": 30
        }
      ]
    },
    {
      "cell_type": "markdown",
      "metadata": {
        "id": "pLGZ-XrKHngk",
        "colab_type": "text"
      },
      "source": [
        "## Save generated sequences to file"
      ]
    },
    {
      "cell_type": "code",
      "metadata": {
        "id": "4Pqo6R5JsSxl",
        "colab_type": "code",
        "colab": {
          "base_uri": "https://localhost:8080/",
          "height": 34
        },
        "outputId": "cb8e00a4-0120-43f2-fd73-26b4152e2c8f"
      },
      "source": [
        "seqs.shape"
      ],
      "execution_count": 31,
      "outputs": [
        {
          "output_type": "execute_result",
          "data": {
            "text/plain": [
              "(62500, 4)"
            ]
          },
          "metadata": {
            "tags": []
          },
          "execution_count": 31
        }
      ]
    },
    {
      "cell_type": "code",
      "metadata": {
        "id": "nS3B-lcNta4M",
        "colab_type": "code",
        "colab": {
          "base_uri": "https://localhost:8080/",
          "height": 34
        },
        "outputId": "d11663df-067e-4390-9983-8843d2e84e13"
      },
      "source": [
        "output = seqs[~seqs.seq.str.contains(\"N\")]\n",
        "assert output.shape[0] > N\n",
        "output.shape"
      ],
      "execution_count": 34,
      "outputs": [
        {
          "output_type": "execute_result",
          "data": {
            "text/plain": [
              "(56446, 4)"
            ]
          },
          "metadata": {
            "tags": []
          },
          "execution_count": 34
        }
      ]
    },
    {
      "cell_type": "code",
      "metadata": {
        "id": "Sfj_KTv1Hngk",
        "colab_type": "code",
        "colab": {}
      },
      "source": [
        "output.head(n=N).to_csv(OUTPUT_FILE, index=False)"
      ],
      "execution_count": 35,
      "outputs": []
    }
  ]
}