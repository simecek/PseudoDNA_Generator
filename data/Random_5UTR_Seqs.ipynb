{
  "nbformat": 4,
  "nbformat_minor": 0,
  "metadata": {
    "kernelspec": {
      "display_name": "Python 3",
      "language": "python",
      "name": "python3"
    },
    "language_info": {
      "codemirror_mode": {
        "name": "ipython",
        "version": 3
      },
      "file_extension": ".py",
      "mimetype": "text/x-python",
      "name": "python",
      "nbconvert_exporter": "python",
      "pygments_lexer": "ipython3",
      "version": "3.6.9"
    },
    "colab": {
      "name": "Random_5UTR_Seqs.ipynb",
      "provenance": [],
      "collapsed_sections": [],
      "toc_visible": true,
      "include_colab_link": true
    }
  },
  "cells": [
    {
      "cell_type": "markdown",
      "metadata": {
        "id": "view-in-github",
        "colab_type": "text"
      },
      "source": [
        "<a href=\"https://colab.research.google.com/github/simecek/PseudoDNA_Generator/blob/master/data/Random_5UTR_Seqs.ipynb\" target=\"_parent\"><img src=\"https://colab.research.google.com/assets/colab-badge.svg\" alt=\"Open In Colab\"/></a>"
      ]
    },
    {
      "cell_type": "markdown",
      "metadata": {
        "id": "yKEF8W8FHnfh",
        "colab_type": "text"
      },
      "source": [
        "# Generate Random 5'UTR Sequences\n"
      ]
    },
    {
      "cell_type": "markdown",
      "metadata": {
        "id": "tMfWhUbtHsJ9",
        "colab_type": "text"
      },
      "source": [
        "## Setup\n",
        "\n",
        "Installation for colab environment."
      ]
    },
    {
      "cell_type": "code",
      "metadata": {
        "id": "AM0BwFWvHwhC",
        "colab_type": "code",
        "colab": {
          "base_uri": "https://localhost:8080/",
          "height": 1000
        },
        "outputId": "9c061b80-8e61-4ba3-b1b7-6b3f8d1c89d5"
      },
      "source": [
        "!pip install biopython pyensembl"
      ],
      "execution_count": 1,
      "outputs": [
        {
          "output_type": "stream",
          "text": [
            "Collecting biopython\n",
            "\u001b[?25l  Downloading https://files.pythonhosted.org/packages/a8/66/134dbd5f885fc71493c61b6cf04c9ea08082da28da5ed07709b02857cbd0/biopython-1.77-cp36-cp36m-manylinux1_x86_64.whl (2.3MB)\n",
            "\u001b[K     |████████████████████████████████| 2.3MB 2.7MB/s \n",
            "\u001b[?25hCollecting pyensembl\n",
            "\u001b[?25l  Downloading https://files.pythonhosted.org/packages/6b/d2/ef4b305af520ff7cc478d24c9b78560db20bb37be63fde7c2f83e9c6460e/pyensembl-1.8.7.tar.gz (57kB)\n",
            "\u001b[K     |████████████████████████████████| 61kB 7.7MB/s \n",
            "\u001b[?25hRequirement already satisfied: numpy in /usr/local/lib/python3.6/dist-packages (from biopython) (1.18.5)\n",
            "Collecting typechecks>=0.0.2\n",
            "  Downloading https://files.pythonhosted.org/packages/62/21/15129201c1f52f6af1e7809e96dce46da4b406c2c07fe9425e92f51edc5c/typechecks-0.1.0.tar.gz\n",
            "Requirement already satisfied: pandas>=0.15 in /usr/local/lib/python3.6/dist-packages (from pyensembl) (1.0.5)\n",
            "Collecting datacache>=1.1.4\n",
            "  Downloading https://files.pythonhosted.org/packages/f0/b9/a7114c1ac7b18bec9e0d232e65620aeb469b396ceaa85bcb6e81fe89a19d/datacache-1.1.5.tar.gz\n",
            "Collecting memoized-property>=1.0.2\n",
            "  Downloading https://files.pythonhosted.org/packages/70/db/23f8b5d86c9385299586c2469b58087f658f58eaeb414be0fd64cfd054e1/memoized-property-1.0.3.tar.gz\n",
            "Requirement already satisfied: six>=1.9.0 in /usr/local/lib/python3.6/dist-packages (from pyensembl) (1.12.0)\n",
            "Collecting gtfparse>=1.1.0\n",
            "  Downloading https://files.pythonhosted.org/packages/41/5c/8bd2e9020051ccffc60c56ae70b32a3b649ddac1962e9aa641f93542440e/gtfparse-1.2.0.tar.gz\n",
            "Collecting serializable\n",
            "  Downloading https://files.pythonhosted.org/packages/5f/e2/b08fefdd2b3bf59491170505a7eca09996606ea35ed53392cc0aa3041604/serializable-0.2.1.tar.gz\n",
            "Collecting tinytimer\n",
            "  Downloading https://files.pythonhosted.org/packages/5c/87/75d3fbe15aabd45d9b70702241787cf1f7f30dd9fabcd9bc89d828c7661d/tinytimer-0.0.0.tar.gz\n",
            "Requirement already satisfied: python-dateutil>=2.6.1 in /usr/local/lib/python3.6/dist-packages (from pandas>=0.15->pyensembl) (2.8.1)\n",
            "Requirement already satisfied: pytz>=2017.2 in /usr/local/lib/python3.6/dist-packages (from pandas>=0.15->pyensembl) (2018.9)\n",
            "Collecting appdirs>=1.4.0\n",
            "  Downloading https://files.pythonhosted.org/packages/3b/00/2344469e2084fb287c2e0b57b72910309874c3245463acd6cf5e3db69324/appdirs-1.4.4-py2.py3-none-any.whl\n",
            "Collecting progressbar33>=2.4\n",
            "  Downloading https://files.pythonhosted.org/packages/71/fc/7c8e01f41a6e671d7b11be470eeb3d15339c75ce5559935f3f55890eec6b/progressbar33-2.4.tar.gz\n",
            "Requirement already satisfied: requests>=2.5.1 in /usr/local/lib/python3.6/dist-packages (from datacache>=1.1.4->pyensembl) (2.23.0)\n",
            "Collecting mock\n",
            "  Downloading https://files.pythonhosted.org/packages/cd/74/d72daf8dff5b6566db857cfd088907bb0355f5dd2914c4b3ef065c790735/mock-4.0.2-py3-none-any.whl\n",
            "Collecting simplejson\n",
            "\u001b[?25l  Downloading https://files.pythonhosted.org/packages/98/87/a7b98aa9256c8843f92878966dc3d8d914c14aad97e2c5ce4798d5743e07/simplejson-3.17.0.tar.gz (83kB)\n",
            "\u001b[K     |████████████████████████████████| 92kB 8.8MB/s \n",
            "\u001b[?25hRequirement already satisfied: chardet<4,>=3.0.2 in /usr/local/lib/python3.6/dist-packages (from requests>=2.5.1->datacache>=1.1.4->pyensembl) (3.0.4)\n",
            "Requirement already satisfied: certifi>=2017.4.17 in /usr/local/lib/python3.6/dist-packages (from requests>=2.5.1->datacache>=1.1.4->pyensembl) (2020.6.20)\n",
            "Requirement already satisfied: idna<3,>=2.5 in /usr/local/lib/python3.6/dist-packages (from requests>=2.5.1->datacache>=1.1.4->pyensembl) (2.9)\n",
            "Requirement already satisfied: urllib3!=1.25.0,!=1.25.1,<1.26,>=1.21.1 in /usr/local/lib/python3.6/dist-packages (from requests>=2.5.1->datacache>=1.1.4->pyensembl) (1.24.3)\n",
            "Building wheels for collected packages: pyensembl, typechecks, datacache, memoized-property, gtfparse, serializable, tinytimer, progressbar33, simplejson\n",
            "  Building wheel for pyensembl (setup.py) ... \u001b[?25l\u001b[?25hdone\n",
            "  Created wheel for pyensembl: filename=pyensembl-1.8.7-cp36-none-any.whl size=56339 sha256=a1268f8663b5feaabab0032bd6c36af67f6081b581554a8abc999a851403ddc1\n",
            "  Stored in directory: /root/.cache/pip/wheels/69/8b/4d/a6c76aa39aa3619c8b8c5ff3e09cd180df57e5e9f04c655794\n",
            "  Building wheel for typechecks (setup.py) ... \u001b[?25l\u001b[?25hdone\n",
            "  Created wheel for typechecks: filename=typechecks-0.1.0-cp36-none-any.whl size=2770 sha256=01100b65278fbad9329cd5e4e531c24a14e73bf6ad4332efea30b679c95e72ce\n",
            "  Stored in directory: /root/.cache/pip/wheels/27/ad/82/4a9bbc88f1d31bb1a0c053e29efafc02f56e2ed1598f5639b2\n",
            "  Building wheel for datacache (setup.py) ... \u001b[?25l\u001b[?25hdone\n",
            "  Created wheel for datacache: filename=datacache-1.1.5-cp36-none-any.whl size=16472 sha256=2662a49fd29d82e4fb3f6495b8002a647894fa5c5b6cf1be954ea5588bb4cf79\n",
            "  Stored in directory: /root/.cache/pip/wheels/6b/89/37/76d23043c61b5096dd0170fd6ea2f6474b38d69965b633118a\n",
            "  Building wheel for memoized-property (setup.py) ... \u001b[?25l\u001b[?25hdone\n",
            "  Created wheel for memoized-property: filename=memoized_property-1.0.3-py2.py3-none-any.whl size=4174 sha256=02dd67ffac022ba06807934bff531a5516d4739542e0040d6072466960d46ab6\n",
            "  Stored in directory: /root/.cache/pip/wheels/8e/d4/82/ace27b33257f5918497d20427c0ac31d39c76e68b44d593fe6\n",
            "  Building wheel for gtfparse (setup.py) ... \u001b[?25l\u001b[?25hdone\n",
            "  Created wheel for gtfparse: filename=gtfparse-1.2.0-cp36-none-any.whl size=11883 sha256=3749eed4f58cb465ee0280faf8808d7e5ac0cf526bc6156dc7f770a0f08d0588\n",
            "  Stored in directory: /root/.cache/pip/wheels/c4/27/96/6ba6fe28cbb162c326823553e3e45ac502160d1340566360f8\n",
            "  Building wheel for serializable (setup.py) ... \u001b[?25l\u001b[?25hdone\n",
            "  Created wheel for serializable: filename=serializable-0.2.1-cp36-none-any.whl size=8964 sha256=2290af867a2da1f86b7e46d1df21893b6094b4d5ce806b69aaebe5ae89be9b1f\n",
            "  Stored in directory: /root/.cache/pip/wheels/fc/22/e8/d0b047f8616c931713bcf88c51a539b6439297f033f428a5b5\n",
            "  Building wheel for tinytimer (setup.py) ... \u001b[?25l\u001b[?25hdone\n",
            "  Created wheel for tinytimer: filename=tinytimer-0.0.0-cp36-none-any.whl size=1893 sha256=09b1670a160bca6110ead28fbbc27fded21aa2b3847aacdbd0e278fb1eacbf61\n",
            "  Stored in directory: /root/.cache/pip/wheels/44/70/1d/b94b98003272cf802466366ba15ee99fd3a58906e233b11db8\n",
            "  Building wheel for progressbar33 (setup.py) ... \u001b[?25l\u001b[?25hdone\n",
            "  Created wheel for progressbar33: filename=progressbar33-2.4-cp36-none-any.whl size=12153 sha256=11030992bdb3c2e4c4e63762b630f8ad1d8995e08f30526c4173b79eedf58e98\n",
            "  Stored in directory: /root/.cache/pip/wheels/3c/5a/22/73ae955a60c550ce36fae0f23cbb6d55bbf53123ee415f120c\n",
            "  Building wheel for simplejson (setup.py) ... \u001b[?25l\u001b[?25hdone\n",
            "  Created wheel for simplejson: filename=simplejson-3.17.0-cp36-cp36m-linux_x86_64.whl size=114200 sha256=99de36a5cb90e70e58f5cbf2e81a1a59871e0981ca3938869b79f0274c9b2eb4\n",
            "  Stored in directory: /root/.cache/pip/wheels/86/c0/83/dcd0339abb2640544bb8e0938aab2d069cef55e5647ce6e097\n",
            "Successfully built pyensembl typechecks datacache memoized-property gtfparse serializable tinytimer progressbar33 simplejson\n",
            "Installing collected packages: biopython, typechecks, appdirs, progressbar33, mock, datacache, memoized-property, gtfparse, simplejson, serializable, tinytimer, pyensembl\n",
            "Successfully installed appdirs-1.4.4 biopython-1.77 datacache-1.1.5 gtfparse-1.2.0 memoized-property-1.0.3 mock-4.0.2 progressbar33-2.4 pyensembl-1.8.7 serializable-0.2.1 simplejson-3.17.0 tinytimer-0.0.0 typechecks-0.1.0\n"
          ],
          "name": "stdout"
        }
      ]
    },
    {
      "cell_type": "code",
      "metadata": {
        "id": "LlD3-EB2ICp9",
        "colab_type": "code",
        "colab": {
          "base_uri": "https://localhost:8080/",
          "height": 128
        },
        "outputId": "6db348e5-d50e-42ab-9325-da76efa55a31"
      },
      "source": [
        "from google.colab import drive\n",
        "drive.mount('/content/drive')"
      ],
      "execution_count": 2,
      "outputs": [
        {
          "output_type": "stream",
          "text": [
            "Go to this URL in a browser: https://accounts.google.com/o/oauth2/auth?client_id=947318989803-6bn6qk8qdgf4n4g3pfee6491hc0brc4i.apps.googleusercontent.com&redirect_uri=urn%3aietf%3awg%3aoauth%3a2.0%3aoob&response_type=code&scope=email%20https%3a%2f%2fwww.googleapis.com%2fauth%2fdocs.test%20https%3a%2f%2fwww.googleapis.com%2fauth%2fdrive%20https%3a%2f%2fwww.googleapis.com%2fauth%2fdrive.photos.readonly%20https%3a%2f%2fwww.googleapis.com%2fauth%2fpeopleapi.readonly\n",
            "\n",
            "Enter your authorization code:\n",
            "··········\n",
            "Mounted at /content/drive\n"
          ],
          "name": "stdout"
        }
      ]
    },
    {
      "cell_type": "code",
      "metadata": {
        "id": "4DCA8e0mIQns",
        "colab_type": "code",
        "colab": {
          "base_uri": "https://localhost:8080/",
          "height": 1000
        },
        "outputId": "12ddf4af-5505-4edf-9dcc-2b47caf38d70"
      },
      "source": [
        "!pyensembl install --release 97 --species human"
      ],
      "execution_count": 3,
      "outputs": [
        {
          "output_type": "stream",
          "text": [
            "2020-06-27 22:05:54,141 - pyensembl.shell - INFO - Running 'install' for EnsemblRelease(release=97, species='homo_sapiens')\n",
            "2020-06-27 22:05:54,141 - pyensembl.download_cache - INFO - Fetching /root/.cache/pyensembl/GRCh38/ensembl97/Homo_sapiens.GRCh38.97.gtf.gz from URL ftp://ftp.ensembl.org/pub/release-97/gtf/homo_sapiens/Homo_sapiens.GRCh38.97.gtf.gz\n",
            "2020-06-27 22:05:54,141 - datacache.download - INFO - Downloading ftp://ftp.ensembl.org/pub/release-97/gtf/homo_sapiens/Homo_sapiens.GRCh38.97.gtf.gz to /root/.cache/pyensembl/GRCh38/ensembl97/Homo_sapiens.GRCh38.97.gtf.gz\n",
            "2020-06-27 22:06:01,989 - pyensembl.download_cache - INFO - Fetching /root/.cache/pyensembl/GRCh38/ensembl97/Homo_sapiens.GRCh38.cdna.all.fa.gz from URL ftp://ftp.ensembl.org/pub/release-97/fasta/homo_sapiens/cdna/Homo_sapiens.GRCh38.cdna.all.fa.gz\n",
            "2020-06-27 22:06:01,989 - datacache.download - INFO - Downloading ftp://ftp.ensembl.org/pub/release-97/fasta/homo_sapiens/cdna/Homo_sapiens.GRCh38.cdna.all.fa.gz to /root/.cache/pyensembl/GRCh38/ensembl97/Homo_sapiens.GRCh38.cdna.all.fa.gz\n",
            "2020-06-27 22:06:11,369 - pyensembl.download_cache - INFO - Fetching /root/.cache/pyensembl/GRCh38/ensembl97/Homo_sapiens.GRCh38.ncrna.fa.gz from URL ftp://ftp.ensembl.org/pub/release-97/fasta/homo_sapiens/ncrna/Homo_sapiens.GRCh38.ncrna.fa.gz\n",
            "2020-06-27 22:06:11,369 - datacache.download - INFO - Downloading ftp://ftp.ensembl.org/pub/release-97/fasta/homo_sapiens/ncrna/Homo_sapiens.GRCh38.ncrna.fa.gz to /root/.cache/pyensembl/GRCh38/ensembl97/Homo_sapiens.GRCh38.ncrna.fa.gz\n",
            "2020-06-27 22:06:16,875 - pyensembl.download_cache - INFO - Fetching /root/.cache/pyensembl/GRCh38/ensembl97/Homo_sapiens.GRCh38.pep.all.fa.gz from URL ftp://ftp.ensembl.org/pub/release-97/fasta/homo_sapiens/pep/Homo_sapiens.GRCh38.pep.all.fa.gz\n",
            "2020-06-27 22:06:16,875 - datacache.download - INFO - Downloading ftp://ftp.ensembl.org/pub/release-97/fasta/homo_sapiens/pep/Homo_sapiens.GRCh38.pep.all.fa.gz to /root/.cache/pyensembl/GRCh38/ensembl97/Homo_sapiens.GRCh38.pep.all.fa.gz\n",
            "2020-06-27 22:06:22,181 - pyensembl.database - INFO - Creating database: /root/.cache/pyensembl/GRCh38/ensembl97/Homo_sapiens.GRCh38.97.gtf.db\n",
            "2020-06-27 22:06:22,182 - pyensembl.database - INFO - Reading GTF from /root/.cache/pyensembl/GRCh38/ensembl97/Homo_sapiens.GRCh38.97.gtf.gz\n",
            "2020-06-27 22:07:46,213 - datacache.database_helpers - INFO - Creating database /root/.cache/pyensembl/GRCh38/ensembl97/Homo_sapiens.GRCh38.97.gtf.db containing: stop_codon, exon, gene, CDS, transcript, start_codon\n",
            "2020-06-27 22:07:46,213 - datacache.database - INFO - Running sqlite query: \"CREATE TABLE stop_codon (protein_id TEXT NOT NULL, gene_name TEXT NOT NULL, ccds_id TEXT NOT NULL, end INT NOT NULL, protein_version TEXT NOT NULL, transcript_id TEXT NOT NULL, transcript_version TEXT NOT NULL, exon_version TEXT NOT NULL, strand TEXT NOT NULL, feature TEXT NOT NULL, gene_version TEXT NOT NULL, seqname TEXT NOT NULL, gene_id TEXT NOT NULL, transcript_name TEXT NOT NULL, exon_number TEXT NOT NULL, gene_biotype TEXT NOT NULL, exon_id TEXT NOT NULL, source TEXT NOT NULL, start INT NOT NULL, transcript_biotype TEXT NOT NULL, transcript_support_level TEXT NOT NULL)\"\n",
            "2020-06-27 22:07:46,441 - datacache.database - INFO - Inserting 79498 rows into table stop_codon\n",
            "2020-06-27 22:07:46,833 - datacache.database - INFO - Creating index on stop_codon (seqname, start, end)\n",
            "2020-06-27 22:07:46,885 - datacache.database - INFO - Creating index on stop_codon (gene_name)\n",
            "2020-06-27 22:07:46,925 - datacache.database - INFO - Creating index on stop_codon (gene_id)\n",
            "2020-06-27 22:07:46,971 - datacache.database - INFO - Creating index on stop_codon (transcript_id)\n",
            "2020-06-27 22:07:47,023 - datacache.database - INFO - Creating index on stop_codon (transcript_name)\n",
            "2020-06-27 22:07:47,071 - datacache.database - INFO - Creating index on stop_codon (exon_id)\n",
            "2020-06-27 22:07:47,097 - datacache.database - INFO - Creating index on stop_codon (protein_id)\n",
            "2020-06-27 22:07:47,120 - datacache.database - INFO - Creating index on stop_codon (ccds_id)\n",
            "2020-06-27 22:07:47,160 - datacache.database - INFO - Running sqlite query: \"CREATE TABLE exon (protein_id TEXT NOT NULL, gene_name TEXT NOT NULL, ccds_id TEXT NOT NULL, end INT NOT NULL, protein_version TEXT NOT NULL, transcript_id TEXT NOT NULL, transcript_version TEXT NOT NULL, exon_version TEXT NOT NULL, strand TEXT NOT NULL, feature TEXT NOT NULL, gene_version TEXT NOT NULL, seqname TEXT NOT NULL, gene_id TEXT NOT NULL, transcript_name TEXT NOT NULL, exon_number TEXT NOT NULL, gene_biotype TEXT NOT NULL, exon_id TEXT NOT NULL, source TEXT NOT NULL, start INT NOT NULL, transcript_biotype TEXT NOT NULL, transcript_support_level TEXT NOT NULL)\"\n",
            "2020-06-27 22:07:50,044 - datacache.database - INFO - Inserting 1363230 rows into table exon\n",
            "2020-06-27 22:07:56,406 - datacache.database - INFO - Creating index on exon (seqname, start, end)\n",
            "2020-06-27 22:07:57,491 - datacache.database - INFO - Creating index on exon (gene_name)\n",
            "2020-06-27 22:07:58,233 - datacache.database - INFO - Creating index on exon (gene_id)\n",
            "2020-06-27 22:07:59,173 - datacache.database - INFO - Creating index on exon (transcript_id)\n",
            "2020-06-27 22:08:00,106 - datacache.database - INFO - Creating index on exon (transcript_name)\n",
            "2020-06-27 22:08:00,942 - datacache.database - INFO - Creating index on exon (exon_id)\n",
            "2020-06-27 22:08:02,062 - datacache.database - INFO - Creating index on exon (protein_id)\n",
            "2020-06-27 22:08:02,619 - datacache.database - INFO - Creating index on exon (ccds_id)\n",
            "2020-06-27 22:08:03,392 - datacache.database - INFO - Running sqlite query: \"CREATE TABLE gene (protein_id TEXT NOT NULL, gene_name TEXT NOT NULL, ccds_id TEXT NOT NULL, end INT NOT NULL, protein_version TEXT NOT NULL, transcript_id TEXT NOT NULL, transcript_version TEXT NOT NULL, exon_version TEXT NOT NULL, strand TEXT NOT NULL, feature TEXT NOT NULL, gene_version TEXT NOT NULL, seqname TEXT NOT NULL, gene_id TEXT UNIQUE PRIMARY KEY NOT NULL, transcript_name TEXT NOT NULL, exon_number TEXT NOT NULL, gene_biotype TEXT NOT NULL, exon_id TEXT NOT NULL, source TEXT NOT NULL, start INT NOT NULL, transcript_biotype TEXT NOT NULL, transcript_support_level TEXT NOT NULL)\"\n",
            "2020-06-27 22:08:03,543 - datacache.database - INFO - Inserting 60617 rows into table gene\n",
            "2020-06-27 22:08:03,901 - datacache.database - INFO - Creating index on gene (seqname, start, end)\n",
            "2020-06-27 22:08:03,935 - datacache.database - INFO - Creating index on gene (gene_name)\n",
            "2020-06-27 22:08:03,971 - datacache.database - INFO - Creating index on gene (transcript_id)\n",
            "2020-06-27 22:08:03,989 - datacache.database - INFO - Creating index on gene (transcript_name)\n",
            "2020-06-27 22:08:04,007 - datacache.database - INFO - Creating index on gene (exon_id)\n",
            "2020-06-27 22:08:04,025 - datacache.database - INFO - Creating index on gene (protein_id)\n",
            "2020-06-27 22:08:04,041 - datacache.database - INFO - Creating index on gene (ccds_id)\n",
            "2020-06-27 22:08:04,058 - datacache.database - INFO - Running sqlite query: \"CREATE TABLE CDS (protein_id TEXT NOT NULL, gene_name TEXT NOT NULL, ccds_id TEXT NOT NULL, end INT NOT NULL, protein_version TEXT NOT NULL, transcript_id TEXT NOT NULL, transcript_version TEXT NOT NULL, exon_version TEXT NOT NULL, strand TEXT NOT NULL, feature TEXT NOT NULL, gene_version TEXT NOT NULL, seqname TEXT NOT NULL, gene_id TEXT NOT NULL, transcript_name TEXT NOT NULL, exon_number TEXT NOT NULL, gene_biotype TEXT NOT NULL, exon_id TEXT NOT NULL, source TEXT NOT NULL, start INT NOT NULL, transcript_biotype TEXT NOT NULL, transcript_support_level TEXT NOT NULL)\"\n",
            "2020-06-27 22:08:05,691 - datacache.database - INFO - Inserting 755075 rows into table CDS\n",
            "2020-06-27 22:08:09,252 - datacache.database - INFO - Creating index on CDS (seqname, start, end)\n",
            "2020-06-27 22:08:09,791 - datacache.database - INFO - Creating index on CDS (gene_name)\n",
            "2020-06-27 22:08:10,158 - datacache.database - INFO - Creating index on CDS (gene_id)\n",
            "2020-06-27 22:08:10,574 - datacache.database - INFO - Creating index on CDS (transcript_id)\n",
            "2020-06-27 22:08:11,004 - datacache.database - INFO - Creating index on CDS (transcript_name)\n",
            "2020-06-27 22:08:11,429 - datacache.database - INFO - Creating index on CDS (exon_id)\n",
            "2020-06-27 22:08:11,732 - datacache.database - INFO - Creating index on CDS (protein_id)\n",
            "2020-06-27 22:08:12,229 - datacache.database - INFO - Creating index on CDS (ccds_id)\n",
            "2020-06-27 22:08:12,623 - datacache.database - INFO - Running sqlite query: \"CREATE TABLE transcript (protein_id TEXT NOT NULL, gene_name TEXT NOT NULL, ccds_id TEXT NOT NULL, end INT NOT NULL, protein_version TEXT NOT NULL, transcript_id TEXT UNIQUE PRIMARY KEY NOT NULL, transcript_version TEXT NOT NULL, exon_version TEXT NOT NULL, strand TEXT NOT NULL, feature TEXT NOT NULL, gene_version TEXT NOT NULL, seqname TEXT NOT NULL, gene_id TEXT NOT NULL, transcript_name TEXT NOT NULL, exon_number TEXT NOT NULL, gene_biotype TEXT NOT NULL, exon_id TEXT NOT NULL, source TEXT NOT NULL, start INT NOT NULL, transcript_biotype TEXT NOT NULL, transcript_support_level TEXT NOT NULL)\"\n",
            "2020-06-27 22:08:13,157 - datacache.database - INFO - Inserting 226788 rows into table transcript\n",
            "2020-06-27 22:08:14,710 - datacache.database - INFO - Creating index on transcript (seqname, start, end)\n",
            "2020-06-27 22:08:14,847 - datacache.database - INFO - Creating index on transcript (gene_name)\n",
            "2020-06-27 22:08:14,964 - datacache.database - INFO - Creating index on transcript (gene_id)\n",
            "2020-06-27 22:08:15,113 - datacache.database - INFO - Creating index on transcript (transcript_name)\n",
            "2020-06-27 22:08:15,254 - datacache.database - INFO - Creating index on transcript (exon_id)\n",
            "2020-06-27 22:08:15,342 - datacache.database - INFO - Creating index on transcript (protein_id)\n",
            "2020-06-27 22:08:15,426 - datacache.database - INFO - Creating index on transcript (ccds_id)\n",
            "2020-06-27 22:08:15,529 - datacache.database - INFO - Running sqlite query: \"CREATE TABLE start_codon (protein_id TEXT NOT NULL, gene_name TEXT NOT NULL, ccds_id TEXT NOT NULL, end INT NOT NULL, protein_version TEXT NOT NULL, transcript_id TEXT NOT NULL, transcript_version TEXT NOT NULL, exon_version TEXT NOT NULL, strand TEXT NOT NULL, feature TEXT NOT NULL, gene_version TEXT NOT NULL, seqname TEXT NOT NULL, gene_id TEXT NOT NULL, transcript_name TEXT NOT NULL, exon_number TEXT NOT NULL, gene_biotype TEXT NOT NULL, exon_id TEXT NOT NULL, source TEXT NOT NULL, start INT NOT NULL, transcript_biotype TEXT NOT NULL, transcript_support_level TEXT NOT NULL)\"\n",
            "2020-06-27 22:08:15,744 - datacache.database - INFO - Inserting 87301 rows into table start_codon\n",
            "2020-06-27 22:08:16,164 - datacache.database - INFO - Creating index on start_codon (seqname, start, end)\n",
            "2020-06-27 22:08:16,217 - datacache.database - INFO - Creating index on start_codon (gene_name)\n",
            "2020-06-27 22:08:16,261 - datacache.database - INFO - Creating index on start_codon (gene_id)\n",
            "2020-06-27 22:08:16,312 - datacache.database - INFO - Creating index on start_codon (transcript_id)\n",
            "2020-06-27 22:08:16,370 - datacache.database - INFO - Creating index on start_codon (transcript_name)\n",
            "2020-06-27 22:08:16,424 - datacache.database - INFO - Creating index on start_codon (exon_id)\n",
            "2020-06-27 22:08:16,458 - datacache.database - INFO - Creating index on start_codon (protein_id)\n",
            "2020-06-27 22:08:16,494 - datacache.database - INFO - Creating index on start_codon (ccds_id)\n",
            "2020-06-27 22:08:16,542 - datacache.database - INFO - Running sqlite query: \"CREATE TABLE _datacache_metadata (version INT)\"\n",
            "2020-06-27 22:08:16,542 - datacache.database - INFO - Running sqlite query: \"INSERT INTO _datacache_metadata VALUES (3)\"\n",
            "2020-06-27 22:08:18,847 - pyensembl.sequence_data - INFO - Parsing sequences from FASTA file at /root/.cache/pyensembl/GRCh38/ensembl97/Homo_sapiens.GRCh38.cdna.all.fa.gz\n",
            "2020-06-27 22:08:28,115 - pyensembl.sequence_data - INFO - Saving sequence dictionary to /root/.cache/pyensembl/GRCh38/ensembl97/Homo_sapiens.GRCh38.cdna.all.fa.gz.pickle\n",
            "2020-06-27 22:08:29,167 - pyensembl.sequence_data - INFO - Parsing sequences from FASTA file at /root/.cache/pyensembl/GRCh38/ensembl97/Homo_sapiens.GRCh38.ncrna.fa.gz\n",
            "2020-06-27 22:08:31,245 - pyensembl.sequence_data - INFO - Saving sequence dictionary to /root/.cache/pyensembl/GRCh38/ensembl97/Homo_sapiens.GRCh38.ncrna.fa.gz.pickle\n",
            "2020-06-27 22:08:31,402 - pyensembl.sequence_data - INFO - Parsing sequences from FASTA file at /root/.cache/pyensembl/GRCh38/ensembl97/Homo_sapiens.GRCh38.pep.all.fa.gz\n",
            "2020-06-27 22:08:33,176 - pyensembl.sequence_data - INFO - Saving sequence dictionary to /root/.cache/pyensembl/GRCh38/ensembl97/Homo_sapiens.GRCh38.pep.all.fa.gz.pickle\n"
          ],
          "name": "stdout"
        }
      ]
    },
    {
      "cell_type": "code",
      "metadata": {
        "id": "xMxJPPWxHnfj",
        "colab_type": "code",
        "colab": {}
      },
      "source": [
        "import pandas as pd\n",
        "import numpy as np\n",
        "import gzip\n",
        "from tqdm.notebook import tqdm\n",
        "\n",
        "from Bio import SeqIO   # for reading fasta files\n",
        "from pyensembl import EnsemblRelease   # to get the gene list\n",
        "\n",
        "ENSEMBL_RELEASE = 97\n",
        "DNA_TOPLEVEL_FASTA_PATH = \"/content/drive/My Drive/data/ensembl/Homo_sapiens.GRCh38.dna.toplevel.fa.gz\"\n",
        "\n",
        "# to generate random sequences\n",
        "N = 25_000    # how many\n",
        "K = 200       # how long\n",
        "OUTPUT_FILE = '/content/drive/My Drive/data/random/random_5utr_25k.csv'   # where to save them\n",
        "\n",
        "CHRS = [str(chr) for chr in range(1,23)] + ['X', 'Y', 'MT']"
      ],
      "execution_count": 24,
      "outputs": []
    },
    {
      "cell_type": "markdown",
      "metadata": {
        "id": "eLtdacLDHnfx",
        "colab_type": "text"
      },
      "source": [
        "## Get transcript list"
      ]
    },
    {
      "cell_type": "code",
      "metadata": {
        "id": "iRzWAYenHnfy",
        "colab_type": "code",
        "colab": {}
      },
      "source": [
        "# release 97 uses human reference genome GRCh38\n",
        "data = EnsemblRelease(ENSEMBL_RELEASE)"
      ],
      "execution_count": 5,
      "outputs": []
    },
    {
      "cell_type": "code",
      "metadata": {
        "id": "EVJQO00LHnf0",
        "colab_type": "code",
        "colab": {
          "base_uri": "https://localhost:8080/",
          "height": 35
        },
        "outputId": "41a94fd8-bb3d-487f-a043-061dd6b634c2"
      },
      "source": [
        "human_transcripts = data.transcript_ids()\n",
        "len(human_transcripts)"
      ],
      "execution_count": 6,
      "outputs": [
        {
          "output_type": "execute_result",
          "data": {
            "text/plain": [
              "226788"
            ]
          },
          "metadata": {
            "tags": []
          },
          "execution_count": 6
        }
      ]
    },
    {
      "cell_type": "code",
      "metadata": {
        "id": "i1dIXhzvfv6u",
        "colab_type": "code",
        "colab": {
          "base_uri": "https://localhost:8080/",
          "height": 74
        },
        "outputId": "34e2066d-77b2-45b7-d331-cc46a230facd"
      },
      "source": [
        "human_transcripts[0], data.transcript_by_id(human_transcripts[0])\n"
      ],
      "execution_count": 7,
      "outputs": [
        {
          "output_type": "execute_result",
          "data": {
            "text/plain": [
              "('ENST00000000233',\n",
              " Transcript(transcript_id='ENST00000000233', transcript_name='ARF5-201', gene_id='ENSG00000004059', biotype='protein_coding', contig='7', start=127588411, end=127591700, strand='+', genome='GRCh38'))"
            ]
          },
          "metadata": {
            "tags": []
          },
          "execution_count": 7
        }
      ]
    },
    {
      "cell_type": "code",
      "metadata": {
        "id": "8r9jj_B-Hnf3",
        "colab_type": "code",
        "colab": {}
      },
      "source": [
        "transcripts_full_info  = [data.transcript_by_id(transcript) for transcript in human_transcripts]"
      ],
      "execution_count": 8,
      "outputs": []
    },
    {
      "cell_type": "code",
      "metadata": {
        "id": "97lrmGvNHnf6",
        "colab_type": "code",
        "colab": {
          "base_uri": "https://localhost:8080/",
          "height": 198
        },
        "outputId": "f2efabfb-c0d4-4503-ce2a-70a76a3ecc50"
      },
      "source": [
        "human_transcript_tuples = [(x.transcript_id, x.gene_id, x.biotype, x.contig, x.start, x.end, x.strand, x.five_prime_utr_sequence) for x in transcripts_full_info if x.contains_start_codon & x.contains_stop_codon]\n",
        "human_transcript_table = pd.DataFrame.from_records(human_transcript_tuples, columns=[\"id\", \"gene_id\", \"biotype\", \"chr\", \"start\", \"end\", \"strand\", \"five_prime_utr_sequence\"])\n",
        "assert all(human_transcript_table.start <= human_transcript_table.end)\n",
        "\n",
        "human_transcript_table.head()"
      ],
      "execution_count": 10,
      "outputs": [
        {
          "output_type": "execute_result",
          "data": {
            "text/html": [
              "<div>\n",
              "<style scoped>\n",
              "    .dataframe tbody tr th:only-of-type {\n",
              "        vertical-align: middle;\n",
              "    }\n",
              "\n",
              "    .dataframe tbody tr th {\n",
              "        vertical-align: top;\n",
              "    }\n",
              "\n",
              "    .dataframe thead th {\n",
              "        text-align: right;\n",
              "    }\n",
              "</style>\n",
              "<table border=\"1\" class=\"dataframe\">\n",
              "  <thead>\n",
              "    <tr style=\"text-align: right;\">\n",
              "      <th></th>\n",
              "      <th>id</th>\n",
              "      <th>gene_id</th>\n",
              "      <th>biotype</th>\n",
              "      <th>chr</th>\n",
              "      <th>start</th>\n",
              "      <th>end</th>\n",
              "      <th>strand</th>\n",
              "      <th>five_prime_utr_sequence</th>\n",
              "    </tr>\n",
              "  </thead>\n",
              "  <tbody>\n",
              "    <tr>\n",
              "      <th>0</th>\n",
              "      <td>ENST00000000233</td>\n",
              "      <td>ENSG00000004059</td>\n",
              "      <td>protein_coding</td>\n",
              "      <td>7</td>\n",
              "      <td>127588411</td>\n",
              "      <td>127591700</td>\n",
              "      <td>+</td>\n",
              "      <td>CTGCTGCTGCTGCGCCCCATCCCCCCGCGGCCGGCCAGTTCCAGCC...</td>\n",
              "    </tr>\n",
              "    <tr>\n",
              "      <th>1</th>\n",
              "      <td>ENST00000000412</td>\n",
              "      <td>ENSG00000003056</td>\n",
              "      <td>protein_coding</td>\n",
              "      <td>12</td>\n",
              "      <td>8940361</td>\n",
              "      <td>8949645</td>\n",
              "      <td>-</td>\n",
              "      <td>AGAGTGGGGCACAGCGAGGCGCTAGGGGGAACGCTGGCCTCTGAAA...</td>\n",
              "    </tr>\n",
              "    <tr>\n",
              "      <th>2</th>\n",
              "      <td>ENST00000000442</td>\n",
              "      <td>ENSG00000173153</td>\n",
              "      <td>protein_coding</td>\n",
              "      <td>11</td>\n",
              "      <td>64305524</td>\n",
              "      <td>64316743</td>\n",
              "      <td>+</td>\n",
              "      <td>GTCAGCTGGAGGAAGCGGAGTAGGAAGCGGCCGCGATGTCCTTTTG...</td>\n",
              "    </tr>\n",
              "    <tr>\n",
              "      <th>3</th>\n",
              "      <td>ENST00000001008</td>\n",
              "      <td>ENSG00000004478</td>\n",
              "      <td>protein_coding</td>\n",
              "      <td>12</td>\n",
              "      <td>2794970</td>\n",
              "      <td>2805423</td>\n",
              "      <td>+</td>\n",
              "      <td>CCTACCCCAGCTCTCGCGCCGCGTGCAGAGGTGCTCAAGCCTCCTC...</td>\n",
              "    </tr>\n",
              "    <tr>\n",
              "      <th>4</th>\n",
              "      <td>ENST00000001146</td>\n",
              "      <td>ENSG00000003137</td>\n",
              "      <td>protein_coding</td>\n",
              "      <td>2</td>\n",
              "      <td>72129238</td>\n",
              "      <td>72148038</td>\n",
              "      <td>-</td>\n",
              "      <td>AGGCAATTTTTTTCCTCCCTCTCTCCGCTCCCCTCGCAGCCTCCAC...</td>\n",
              "    </tr>\n",
              "  </tbody>\n",
              "</table>\n",
              "</div>"
            ],
            "text/plain": [
              "                id  ...                            five_prime_utr_sequence\n",
              "0  ENST00000000233  ...  CTGCTGCTGCTGCGCCCCATCCCCCCGCGGCCGGCCAGTTCCAGCC...\n",
              "1  ENST00000000412  ...  AGAGTGGGGCACAGCGAGGCGCTAGGGGGAACGCTGGCCTCTGAAA...\n",
              "2  ENST00000000442  ...  GTCAGCTGGAGGAAGCGGAGTAGGAAGCGGCCGCGATGTCCTTTTG...\n",
              "3  ENST00000001008  ...  CCTACCCCAGCTCTCGCGCCGCGTGCAGAGGTGCTCAAGCCTCCTC...\n",
              "4  ENST00000001146  ...  AGGCAATTTTTTTCCTCCCTCTCTCCGCTCCCCTCGCAGCCTCCAC...\n",
              "\n",
              "[5 rows x 8 columns]"
            ]
          },
          "metadata": {
            "tags": []
          },
          "execution_count": 10
        }
      ]
    },
    {
      "cell_type": "code",
      "metadata": {
        "id": "IsJXGYXY2Rsf",
        "colab_type": "code",
        "colab": {
          "base_uri": "https://localhost:8080/",
          "height": 35
        },
        "outputId": "e424b5b1-7f62-420b-978a-7757edab7ea3"
      },
      "source": [
        "assert ~human_transcript_table.five_prime_utr_sequence.str.contains('N').any()\n",
        "\n",
        "human_transcript_table['length'] = human_transcript_table.five_prime_utr_sequence.apply(len)\n",
        "selected_regions = human_transcript_table[human_transcript_table.length > K].copy()\n",
        "\n",
        "human_transcript_table.shape, selected_regions.shape"
      ],
      "execution_count": 19,
      "outputs": [
        {
          "output_type": "execute_result",
          "data": {
            "text/plain": [
              "((68734, 9), (25178, 9))"
            ]
          },
          "metadata": {
            "tags": []
          },
          "execution_count": 19
        }
      ]
    },
    {
      "cell_type": "code",
      "metadata": {
        "id": "P2X_MtbZHnf_",
        "colab_type": "code",
        "colab": {
          "base_uri": "https://localhost:8080/",
          "height": 327
        },
        "outputId": "4d6f3ab9-0364-4bc1-c314-7574f2e4c6ad"
      },
      "source": [
        "selected_regions['random_start'] = [np.random.randint(c_len - K) for c_len in selected_regions.length]\n",
        "selected_regions['random_end'] = selected_regions['random_start'] + K - 1\n",
        "selected_regions['seq'] = ''\n",
        "for i in range(selected_regions.shape[0]):\n",
        "  selected_regions['seq'].iloc[i] = (selected_regions['five_prime_utr_sequence'].iloc[i])[selected_regions['random_start'].iloc[i]:selected_regions['random_start'].iloc[i]+200]\n",
        "selected_regions.head()"
      ],
      "execution_count": 20,
      "outputs": [
        {
          "output_type": "stream",
          "text": [
            "INFO:numexpr.utils:NumExpr defaulting to 2 threads.\n",
            "/usr/local/lib/python3.6/dist-packages/pandas/core/indexing.py:671: SettingWithCopyWarning: \n",
            "A value is trying to be set on a copy of a slice from a DataFrame\n",
            "\n",
            "See the caveats in the documentation: https://pandas.pydata.org/pandas-docs/stable/user_guide/indexing.html#returning-a-view-versus-a-copy\n",
            "  self._setitem_with_indexer(indexer, value)\n"
          ],
          "name": "stderr"
        },
        {
          "output_type": "execute_result",
          "data": {
            "text/html": [
              "<div>\n",
              "<style scoped>\n",
              "    .dataframe tbody tr th:only-of-type {\n",
              "        vertical-align: middle;\n",
              "    }\n",
              "\n",
              "    .dataframe tbody tr th {\n",
              "        vertical-align: top;\n",
              "    }\n",
              "\n",
              "    .dataframe thead th {\n",
              "        text-align: right;\n",
              "    }\n",
              "</style>\n",
              "<table border=\"1\" class=\"dataframe\">\n",
              "  <thead>\n",
              "    <tr style=\"text-align: right;\">\n",
              "      <th></th>\n",
              "      <th>id</th>\n",
              "      <th>gene_id</th>\n",
              "      <th>biotype</th>\n",
              "      <th>chr</th>\n",
              "      <th>start</th>\n",
              "      <th>end</th>\n",
              "      <th>strand</th>\n",
              "      <th>five_prime_utr_sequence</th>\n",
              "      <th>length</th>\n",
              "      <th>random_start</th>\n",
              "      <th>random_end</th>\n",
              "      <th>seq</th>\n",
              "    </tr>\n",
              "  </thead>\n",
              "  <tbody>\n",
              "    <tr>\n",
              "      <th>2</th>\n",
              "      <td>ENST00000000442</td>\n",
              "      <td>ENSG00000173153</td>\n",
              "      <td>protein_coding</td>\n",
              "      <td>11</td>\n",
              "      <td>64305524</td>\n",
              "      <td>64316743</td>\n",
              "      <td>+</td>\n",
              "      <td>GTCAGCTGGAGGAAGCGGAGTAGGAAGCGGCCGCGATGTCCTTTTG...</td>\n",
              "      <td>225</td>\n",
              "      <td>13</td>\n",
              "      <td>212</td>\n",
              "      <td>AGCGGAGTAGGAAGCGGCCGCGATGTCCTTTTGTGTCCTACAAGCA...</td>\n",
              "    </tr>\n",
              "    <tr>\n",
              "      <th>4</th>\n",
              "      <td>ENST00000001146</td>\n",
              "      <td>ENSG00000003137</td>\n",
              "      <td>protein_coding</td>\n",
              "      <td>2</td>\n",
              "      <td>72129238</td>\n",
              "      <td>72148038</td>\n",
              "      <td>-</td>\n",
              "      <td>AGGCAATTTTTTTCCTCCCTCTCTCCGCTCCCCTCGCAGCCTCCAC...</td>\n",
              "      <td>204</td>\n",
              "      <td>1</td>\n",
              "      <td>200</td>\n",
              "      <td>GGCAATTTTTTTCCTCCCTCTCTCCGCTCCCCTCGCAGCCTCCACT...</td>\n",
              "    </tr>\n",
              "    <tr>\n",
              "      <th>8</th>\n",
              "      <td>ENST00000002596</td>\n",
              "      <td>ENSG00000002587</td>\n",
              "      <td>protein_coding</td>\n",
              "      <td>4</td>\n",
              "      <td>11393150</td>\n",
              "      <td>11428894</td>\n",
              "      <td>-</td>\n",
              "      <td>CTCTGCGCCCTGGCAGCCAGGAGTCGCCGCCACGACAGCCGGGTCT...</td>\n",
              "      <td>304</td>\n",
              "      <td>99</td>\n",
              "      <td>298</td>\n",
              "      <td>TTGCTCTACCCGCCGCGGGTGCTCGGCAGTGCTGCCCATGGCCCAG...</td>\n",
              "    </tr>\n",
              "    <tr>\n",
              "      <th>9</th>\n",
              "      <td>ENST00000002829</td>\n",
              "      <td>ENSG00000001617</td>\n",
              "      <td>protein_coding</td>\n",
              "      <td>3</td>\n",
              "      <td>50155324</td>\n",
              "      <td>50189075</td>\n",
              "      <td>+</td>\n",
              "      <td>GAGCGCCCCTGAGCCTTCCCATGGCCCGGGCTGGGGCCCGGGCCCT...</td>\n",
              "      <td>289</td>\n",
              "      <td>15</td>\n",
              "      <td>214</td>\n",
              "      <td>TTCCCATGGCCCGGGCTGGGGCCCGGGCCCTCGGCTGCTGACGCGC...</td>\n",
              "    </tr>\n",
              "    <tr>\n",
              "      <th>14</th>\n",
              "      <td>ENST00000003912</td>\n",
              "      <td>ENSG00000001461</td>\n",
              "      <td>protein_coding</td>\n",
              "      <td>1</td>\n",
              "      <td>24415803</td>\n",
              "      <td>24472976</td>\n",
              "      <td>+</td>\n",
              "      <td>AATTGGGAAGGGATGAAGGAGGCTGTGCCTCCGGGTTGCACGAAGA...</td>\n",
              "      <td>715</td>\n",
              "      <td>210</td>\n",
              "      <td>409</td>\n",
              "      <td>CAGCCTTGAAGTATTCTTTTGTCATGAGGAAGTGACGGCTGCTGGA...</td>\n",
              "    </tr>\n",
              "  </tbody>\n",
              "</table>\n",
              "</div>"
            ],
            "text/plain": [
              "                 id  ...                                                seq\n",
              "2   ENST00000000442  ...  AGCGGAGTAGGAAGCGGCCGCGATGTCCTTTTGTGTCCTACAAGCA...\n",
              "4   ENST00000001146  ...  GGCAATTTTTTTCCTCCCTCTCTCCGCTCCCCTCGCAGCCTCCACT...\n",
              "8   ENST00000002596  ...  TTGCTCTACCCGCCGCGGGTGCTCGGCAGTGCTGCCCATGGCCCAG...\n",
              "9   ENST00000002829  ...  TTCCCATGGCCCGGGCTGGGGCCCGGGCCCTCGGCTGCTGACGCGC...\n",
              "14  ENST00000003912  ...  CAGCCTTGAAGTATTCTTTTGTCATGAGGAAGTGACGGCTGCTGGA...\n",
              "\n",
              "[5 rows x 12 columns]"
            ]
          },
          "metadata": {
            "tags": []
          },
          "execution_count": 20
        }
      ]
    },
    {
      "cell_type": "markdown",
      "metadata": {
        "id": "zQ4J1qGeHngN",
        "colab_type": "text"
      },
      "source": [
        "## Random transcript selection"
      ]
    },
    {
      "cell_type": "code",
      "metadata": {
        "id": "M_-EBl92HngN",
        "colab_type": "code",
        "colab": {
          "base_uri": "https://localhost:8080/",
          "height": 35
        },
        "outputId": "3ef992e2-08b8-42db-daaf-8ec4c997feba"
      },
      "source": [
        "sample_regions = selected_regions.sample(N)\n",
        "sample_regions.shape"
      ],
      "execution_count": 21,
      "outputs": [
        {
          "output_type": "execute_result",
          "data": {
            "text/plain": [
              "(25000, 12)"
            ]
          },
          "metadata": {
            "tags": []
          },
          "execution_count": 21
        }
      ]
    },
    {
      "cell_type": "code",
      "metadata": {
        "id": "Ia_xkzHqHngX",
        "colab_type": "code",
        "colab": {
          "base_uri": "https://localhost:8080/",
          "height": 198
        },
        "outputId": "f90cd4c1-c013-4987-bf5b-48855fa52dae"
      },
      "source": [
        "seqs = sample_regions[['id', 'chr', 'random_start', 'random_end', 'seq']].copy().reset_index(drop=True)\n",
        "seqs.head()"
      ],
      "execution_count": 22,
      "outputs": [
        {
          "output_type": "execute_result",
          "data": {
            "text/html": [
              "<div>\n",
              "<style scoped>\n",
              "    .dataframe tbody tr th:only-of-type {\n",
              "        vertical-align: middle;\n",
              "    }\n",
              "\n",
              "    .dataframe tbody tr th {\n",
              "        vertical-align: top;\n",
              "    }\n",
              "\n",
              "    .dataframe thead th {\n",
              "        text-align: right;\n",
              "    }\n",
              "</style>\n",
              "<table border=\"1\" class=\"dataframe\">\n",
              "  <thead>\n",
              "    <tr style=\"text-align: right;\">\n",
              "      <th></th>\n",
              "      <th>id</th>\n",
              "      <th>chr</th>\n",
              "      <th>random_start</th>\n",
              "      <th>random_end</th>\n",
              "      <th>seq</th>\n",
              "    </tr>\n",
              "  </thead>\n",
              "  <tbody>\n",
              "    <tr>\n",
              "      <th>0</th>\n",
              "      <td>ENST00000649685</td>\n",
              "      <td>X</td>\n",
              "      <td>3</td>\n",
              "      <td>202</td>\n",
              "      <td>GGAAAAAAATGAAAGGAAAAATATTTCAACCCGGCTGTCGGTCTAA...</td>\n",
              "    </tr>\n",
              "    <tr>\n",
              "      <th>1</th>\n",
              "      <td>ENST00000452583</td>\n",
              "      <td>3</td>\n",
              "      <td>110</td>\n",
              "      <td>309</td>\n",
              "      <td>GAGTATTAAAGCTATGAGTTAGAAAGGGTTGTGACATTAATGGTCC...</td>\n",
              "    </tr>\n",
              "    <tr>\n",
              "      <th>2</th>\n",
              "      <td>ENST00000360535</td>\n",
              "      <td>19</td>\n",
              "      <td>1</td>\n",
              "      <td>200</td>\n",
              "      <td>TCTCCGCCCCCACCCCCTGTCGGCGTCTGGGCCTCGTCCCCTTCTC...</td>\n",
              "    </tr>\n",
              "    <tr>\n",
              "      <th>3</th>\n",
              "      <td>ENST00000360820</td>\n",
              "      <td>12</td>\n",
              "      <td>119</td>\n",
              "      <td>318</td>\n",
              "      <td>GCCTCCCAGGGCCGCTCAGGCTGGTGGGTGTTGCCTGGTGACGGGC...</td>\n",
              "    </tr>\n",
              "    <tr>\n",
              "      <th>4</th>\n",
              "      <td>ENST00000264449</td>\n",
              "      <td>4</td>\n",
              "      <td>10</td>\n",
              "      <td>209</td>\n",
              "      <td>GCGCCGCCACCTTCGCCGCCACCGCTGCCTTTCTCCTCCTCCTGTC...</td>\n",
              "    </tr>\n",
              "  </tbody>\n",
              "</table>\n",
              "</div>"
            ],
            "text/plain": [
              "                id  ...                                                seq\n",
              "0  ENST00000649685  ...  GGAAAAAAATGAAAGGAAAAATATTTCAACCCGGCTGTCGGTCTAA...\n",
              "1  ENST00000452583  ...  GAGTATTAAAGCTATGAGTTAGAAAGGGTTGTGACATTAATGGTCC...\n",
              "2  ENST00000360535  ...  TCTCCGCCCCCACCCCCTGTCGGCGTCTGGGCCTCGTCCCCTTCTC...\n",
              "3  ENST00000360820  ...  GCCTCCCAGGGCCGCTCAGGCTGGTGGGTGTTGCCTGGTGACGGGC...\n",
              "4  ENST00000264449  ...  GCGCCGCCACCTTCGCCGCCACCGCTGCCTTTCTCCTCCTCCTGTC...\n",
              "\n",
              "[5 rows x 5 columns]"
            ]
          },
          "metadata": {
            "tags": []
          },
          "execution_count": 22
        }
      ]
    },
    {
      "cell_type": "code",
      "metadata": {
        "id": "d9-E5cG9Hngf",
        "colab_type": "code",
        "colab": {
          "base_uri": "https://localhost:8080/",
          "height": 74
        },
        "outputId": "76f0cae7-1073-4e3c-a1a8-1b155471283c"
      },
      "source": [
        "len(seqs.seq.values[0]), seqs.seq.values[0]"
      ],
      "execution_count": 23,
      "outputs": [
        {
          "output_type": "execute_result",
          "data": {
            "text/plain": [
              "(200,\n",
              " 'GGAAAAAAATGAAAGGAAAAATATTTCAACCCGGCTGTCGGTCTAAAAGAGGAGAGAATGCTTTCTTTAAAAAAGGATTGTTGATGTTATTGTTGGGAAAGACGAAAAAGGCAGAAAGATCCCAGAATATCTGATCCATTTTAATGGTTGGAACAGAAGCTGGGATAGATGGGCAGCAGAAGATCATGTGCTTCGTGATA')"
            ]
          },
          "metadata": {
            "tags": []
          },
          "execution_count": 23
        }
      ]
    },
    {
      "cell_type": "markdown",
      "metadata": {
        "id": "pLGZ-XrKHngk",
        "colab_type": "text"
      },
      "source": [
        "## Save generated sequences to file"
      ]
    },
    {
      "cell_type": "code",
      "metadata": {
        "id": "Sfj_KTv1Hngk",
        "colab_type": "code",
        "colab": {}
      },
      "source": [
        "seqs.to_csv(OUTPUT_FILE, index=False)"
      ],
      "execution_count": 25,
      "outputs": []
    }
  ]
}