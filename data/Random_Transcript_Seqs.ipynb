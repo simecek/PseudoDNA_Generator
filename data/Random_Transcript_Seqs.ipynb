{
  "nbformat": 4,
  "nbformat_minor": 0,
  "metadata": {
    "kernelspec": {
      "display_name": "Python 3",
      "language": "python",
      "name": "python3"
    },
    "language_info": {
      "codemirror_mode": {
        "name": "ipython",
        "version": 3
      },
      "file_extension": ".py",
      "mimetype": "text/x-python",
      "name": "python",
      "nbconvert_exporter": "python",
      "pygments_lexer": "ipython3",
      "version": "3.6.9"
    },
    "colab": {
      "name": "Random_Transcript_Seqs.ipynb",
      "provenance": [],
      "collapsed_sections": [],
      "toc_visible": true,
      "include_colab_link": true
    }
  },
  "cells": [
    {
      "cell_type": "markdown",
      "metadata": {
        "id": "view-in-github",
        "colab_type": "text"
      },
      "source": [
        "<a href=\"https://colab.research.google.com/github/simecek/PseudoDNA_Generator/blob/master/data/Random_Transcript_Seqs.ipynb\" target=\"_parent\"><img src=\"https://colab.research.google.com/assets/colab-badge.svg\" alt=\"Open In Colab\"/></a>"
      ]
    },
    {
      "cell_type": "markdown",
      "metadata": {
        "id": "yKEF8W8FHnfh",
        "colab_type": "text"
      },
      "source": [
        "# Generate Random Transcript Sequences\n"
      ]
    },
    {
      "cell_type": "markdown",
      "metadata": {
        "id": "tMfWhUbtHsJ9",
        "colab_type": "text"
      },
      "source": [
        "## Setup\n",
        "\n",
        "Installation for colab environment."
      ]
    },
    {
      "cell_type": "code",
      "metadata": {
        "id": "AM0BwFWvHwhC",
        "colab_type": "code",
        "colab": {
          "base_uri": "https://localhost:8080/",
          "height": 1000
        },
        "outputId": "fcce26f1-ecd5-4631-f1eb-f87870d5cad9"
      },
      "source": [
        "!pip install biopython pyensembl"
      ],
      "execution_count": 1,
      "outputs": [
        {
          "output_type": "stream",
          "text": [
            "Collecting biopython\n",
            "\u001b[?25l  Downloading https://files.pythonhosted.org/packages/a8/66/134dbd5f885fc71493c61b6cf04c9ea08082da28da5ed07709b02857cbd0/biopython-1.77-cp36-cp36m-manylinux1_x86_64.whl (2.3MB)\n",
            "\u001b[K     |████████████████████████████████| 2.3MB 2.8MB/s \n",
            "\u001b[?25hCollecting pyensembl\n",
            "\u001b[?25l  Downloading https://files.pythonhosted.org/packages/6b/d2/ef4b305af520ff7cc478d24c9b78560db20bb37be63fde7c2f83e9c6460e/pyensembl-1.8.7.tar.gz (57kB)\n",
            "\u001b[K     |████████████████████████████████| 61kB 6.7MB/s \n",
            "\u001b[?25hRequirement already satisfied: numpy in /usr/local/lib/python3.6/dist-packages (from biopython) (1.18.5)\n",
            "Collecting typechecks>=0.0.2\n",
            "  Downloading https://files.pythonhosted.org/packages/62/21/15129201c1f52f6af1e7809e96dce46da4b406c2c07fe9425e92f51edc5c/typechecks-0.1.0.tar.gz\n",
            "Requirement already satisfied: pandas>=0.15 in /usr/local/lib/python3.6/dist-packages (from pyensembl) (1.0.5)\n",
            "Collecting datacache>=1.1.4\n",
            "  Downloading https://files.pythonhosted.org/packages/f0/b9/a7114c1ac7b18bec9e0d232e65620aeb469b396ceaa85bcb6e81fe89a19d/datacache-1.1.5.tar.gz\n",
            "Collecting memoized-property>=1.0.2\n",
            "  Downloading https://files.pythonhosted.org/packages/70/db/23f8b5d86c9385299586c2469b58087f658f58eaeb414be0fd64cfd054e1/memoized-property-1.0.3.tar.gz\n",
            "Requirement already satisfied: six>=1.9.0 in /usr/local/lib/python3.6/dist-packages (from pyensembl) (1.12.0)\n",
            "Collecting gtfparse>=1.1.0\n",
            "  Downloading https://files.pythonhosted.org/packages/41/5c/8bd2e9020051ccffc60c56ae70b32a3b649ddac1962e9aa641f93542440e/gtfparse-1.2.0.tar.gz\n",
            "Collecting serializable\n",
            "  Downloading https://files.pythonhosted.org/packages/5f/e2/b08fefdd2b3bf59491170505a7eca09996606ea35ed53392cc0aa3041604/serializable-0.2.1.tar.gz\n",
            "Collecting tinytimer\n",
            "  Downloading https://files.pythonhosted.org/packages/5c/87/75d3fbe15aabd45d9b70702241787cf1f7f30dd9fabcd9bc89d828c7661d/tinytimer-0.0.0.tar.gz\n",
            "Requirement already satisfied: pytz>=2017.2 in /usr/local/lib/python3.6/dist-packages (from pandas>=0.15->pyensembl) (2018.9)\n",
            "Requirement already satisfied: python-dateutil>=2.6.1 in /usr/local/lib/python3.6/dist-packages (from pandas>=0.15->pyensembl) (2.8.1)\n",
            "Collecting appdirs>=1.4.0\n",
            "  Downloading https://files.pythonhosted.org/packages/3b/00/2344469e2084fb287c2e0b57b72910309874c3245463acd6cf5e3db69324/appdirs-1.4.4-py2.py3-none-any.whl\n",
            "Collecting progressbar33>=2.4\n",
            "  Downloading https://files.pythonhosted.org/packages/71/fc/7c8e01f41a6e671d7b11be470eeb3d15339c75ce5559935f3f55890eec6b/progressbar33-2.4.tar.gz\n",
            "Requirement already satisfied: requests>=2.5.1 in /usr/local/lib/python3.6/dist-packages (from datacache>=1.1.4->pyensembl) (2.23.0)\n",
            "Collecting mock\n",
            "  Downloading https://files.pythonhosted.org/packages/cd/74/d72daf8dff5b6566db857cfd088907bb0355f5dd2914c4b3ef065c790735/mock-4.0.2-py3-none-any.whl\n",
            "Collecting simplejson\n",
            "\u001b[?25l  Downloading https://files.pythonhosted.org/packages/98/87/a7b98aa9256c8843f92878966dc3d8d914c14aad97e2c5ce4798d5743e07/simplejson-3.17.0.tar.gz (83kB)\n",
            "\u001b[K     |████████████████████████████████| 92kB 8.0MB/s \n",
            "\u001b[?25hRequirement already satisfied: chardet<4,>=3.0.2 in /usr/local/lib/python3.6/dist-packages (from requests>=2.5.1->datacache>=1.1.4->pyensembl) (3.0.4)\n",
            "Requirement already satisfied: certifi>=2017.4.17 in /usr/local/lib/python3.6/dist-packages (from requests>=2.5.1->datacache>=1.1.4->pyensembl) (2020.6.20)\n",
            "Requirement already satisfied: idna<3,>=2.5 in /usr/local/lib/python3.6/dist-packages (from requests>=2.5.1->datacache>=1.1.4->pyensembl) (2.9)\n",
            "Requirement already satisfied: urllib3!=1.25.0,!=1.25.1,<1.26,>=1.21.1 in /usr/local/lib/python3.6/dist-packages (from requests>=2.5.1->datacache>=1.1.4->pyensembl) (1.24.3)\n",
            "Building wheels for collected packages: pyensembl, typechecks, datacache, memoized-property, gtfparse, serializable, tinytimer, progressbar33, simplejson\n",
            "  Building wheel for pyensembl (setup.py) ... \u001b[?25l\u001b[?25hdone\n",
            "  Created wheel for pyensembl: filename=pyensembl-1.8.7-cp36-none-any.whl size=56339 sha256=16120b8e9b8b73edd00f6d42385c305d3d8d39153b6f0953049357c2ecedd24e\n",
            "  Stored in directory: /root/.cache/pip/wheels/69/8b/4d/a6c76aa39aa3619c8b8c5ff3e09cd180df57e5e9f04c655794\n",
            "  Building wheel for typechecks (setup.py) ... \u001b[?25l\u001b[?25hdone\n",
            "  Created wheel for typechecks: filename=typechecks-0.1.0-cp36-none-any.whl size=2770 sha256=554931b7d62a82ffbd4325faab02206bbd6ad5740b618a4621e80d00e1c9d0c4\n",
            "  Stored in directory: /root/.cache/pip/wheels/27/ad/82/4a9bbc88f1d31bb1a0c053e29efafc02f56e2ed1598f5639b2\n",
            "  Building wheel for datacache (setup.py) ... \u001b[?25l\u001b[?25hdone\n",
            "  Created wheel for datacache: filename=datacache-1.1.5-cp36-none-any.whl size=16472 sha256=bdaa0a465c454000f6ea3d5c864ebe774b3080a96cc6a016a2e1833406a18c0d\n",
            "  Stored in directory: /root/.cache/pip/wheels/6b/89/37/76d23043c61b5096dd0170fd6ea2f6474b38d69965b633118a\n",
            "  Building wheel for memoized-property (setup.py) ... \u001b[?25l\u001b[?25hdone\n",
            "  Created wheel for memoized-property: filename=memoized_property-1.0.3-py2.py3-none-any.whl size=4174 sha256=afcb6b70801b01f8701fb180b30f3bfbe92ce36478d4280fbeaa83003d33a641\n",
            "  Stored in directory: /root/.cache/pip/wheels/8e/d4/82/ace27b33257f5918497d20427c0ac31d39c76e68b44d593fe6\n",
            "  Building wheel for gtfparse (setup.py) ... \u001b[?25l\u001b[?25hdone\n",
            "  Created wheel for gtfparse: filename=gtfparse-1.2.0-cp36-none-any.whl size=11883 sha256=acbc0b0eba1df9c67ca0f843ed2866bdd6f4493ddb168c6d68c6bbbe88173512\n",
            "  Stored in directory: /root/.cache/pip/wheels/c4/27/96/6ba6fe28cbb162c326823553e3e45ac502160d1340566360f8\n",
            "  Building wheel for serializable (setup.py) ... \u001b[?25l\u001b[?25hdone\n",
            "  Created wheel for serializable: filename=serializable-0.2.1-cp36-none-any.whl size=8964 sha256=8225d22b40283473bfb80bd1df2ff4f0f08803fe6a63d94545a9ecd11089b818\n",
            "  Stored in directory: /root/.cache/pip/wheels/fc/22/e8/d0b047f8616c931713bcf88c51a539b6439297f033f428a5b5\n",
            "  Building wheel for tinytimer (setup.py) ... \u001b[?25l\u001b[?25hdone\n",
            "  Created wheel for tinytimer: filename=tinytimer-0.0.0-cp36-none-any.whl size=1893 sha256=9282d604ac414daa82210545b62ee28d318c85c141c6c30ac210e518567cc360\n",
            "  Stored in directory: /root/.cache/pip/wheels/44/70/1d/b94b98003272cf802466366ba15ee99fd3a58906e233b11db8\n",
            "  Building wheel for progressbar33 (setup.py) ... \u001b[?25l\u001b[?25hdone\n",
            "  Created wheel for progressbar33: filename=progressbar33-2.4-cp36-none-any.whl size=12153 sha256=1ef5ff8639b435a6eb992e623f7115052b7fd1a0b94cc3843b803ad11a35d051\n",
            "  Stored in directory: /root/.cache/pip/wheels/3c/5a/22/73ae955a60c550ce36fae0f23cbb6d55bbf53123ee415f120c\n",
            "  Building wheel for simplejson (setup.py) ... \u001b[?25l\u001b[?25hdone\n",
            "  Created wheel for simplejson: filename=simplejson-3.17.0-cp36-cp36m-linux_x86_64.whl size=114206 sha256=060b2478ca22d7927f47bba06b1384d3d1e780a88c588f600e5baafdadcfd477\n",
            "  Stored in directory: /root/.cache/pip/wheels/86/c0/83/dcd0339abb2640544bb8e0938aab2d069cef55e5647ce6e097\n",
            "Successfully built pyensembl typechecks datacache memoized-property gtfparse serializable tinytimer progressbar33 simplejson\n",
            "Installing collected packages: biopython, typechecks, appdirs, progressbar33, mock, datacache, memoized-property, gtfparse, simplejson, serializable, tinytimer, pyensembl\n",
            "Successfully installed appdirs-1.4.4 biopython-1.77 datacache-1.1.5 gtfparse-1.2.0 memoized-property-1.0.3 mock-4.0.2 progressbar33-2.4 pyensembl-1.8.7 serializable-0.2.1 simplejson-3.17.0 tinytimer-0.0.0 typechecks-0.1.0\n"
          ],
          "name": "stdout"
        }
      ]
    },
    {
      "cell_type": "code",
      "metadata": {
        "id": "LlD3-EB2ICp9",
        "colab_type": "code",
        "colab": {
          "base_uri": "https://localhost:8080/",
          "height": 128
        },
        "outputId": "2028f5f4-5fa3-4023-cfb0-d843754483d6"
      },
      "source": [
        "from google.colab import drive\n",
        "drive.mount('/content/drive')"
      ],
      "execution_count": 2,
      "outputs": [
        {
          "output_type": "stream",
          "text": [
            "Go to this URL in a browser: https://accounts.google.com/o/oauth2/auth?client_id=947318989803-6bn6qk8qdgf4n4g3pfee6491hc0brc4i.apps.googleusercontent.com&redirect_uri=urn%3aietf%3awg%3aoauth%3a2.0%3aoob&response_type=code&scope=email%20https%3a%2f%2fwww.googleapis.com%2fauth%2fdocs.test%20https%3a%2f%2fwww.googleapis.com%2fauth%2fdrive%20https%3a%2f%2fwww.googleapis.com%2fauth%2fdrive.photos.readonly%20https%3a%2f%2fwww.googleapis.com%2fauth%2fpeopleapi.readonly\n",
            "\n",
            "Enter your authorization code:\n",
            "··········\n",
            "Mounted at /content/drive\n"
          ],
          "name": "stdout"
        }
      ]
    },
    {
      "cell_type": "code",
      "metadata": {
        "id": "4DCA8e0mIQns",
        "colab_type": "code",
        "colab": {
          "base_uri": "https://localhost:8080/",
          "height": 1000
        },
        "outputId": "dae9d2a8-dc67-483e-9c36-1c344bfe4c35"
      },
      "source": [
        "!pyensembl install --release 97 --species human"
      ],
      "execution_count": 3,
      "outputs": [
        {
          "output_type": "stream",
          "text": [
            "2020-06-26 16:38:58,348 - pyensembl.shell - INFO - Running 'install' for EnsemblRelease(release=97, species='homo_sapiens')\n",
            "2020-06-26 16:38:58,348 - pyensembl.download_cache - INFO - Fetching /root/.cache/pyensembl/GRCh38/ensembl97/Homo_sapiens.GRCh38.97.gtf.gz from URL ftp://ftp.ensembl.org/pub/release-97/gtf/homo_sapiens/Homo_sapiens.GRCh38.97.gtf.gz\n",
            "2020-06-26 16:38:58,349 - datacache.download - INFO - Downloading ftp://ftp.ensembl.org/pub/release-97/gtf/homo_sapiens/Homo_sapiens.GRCh38.97.gtf.gz to /root/.cache/pyensembl/GRCh38/ensembl97/Homo_sapiens.GRCh38.97.gtf.gz\n",
            "2020-06-26 16:39:01,389 - pyensembl.download_cache - INFO - Fetching /root/.cache/pyensembl/GRCh38/ensembl97/Homo_sapiens.GRCh38.cdna.all.fa.gz from URL ftp://ftp.ensembl.org/pub/release-97/fasta/homo_sapiens/cdna/Homo_sapiens.GRCh38.cdna.all.fa.gz\n",
            "2020-06-26 16:39:01,389 - datacache.download - INFO - Downloading ftp://ftp.ensembl.org/pub/release-97/fasta/homo_sapiens/cdna/Homo_sapiens.GRCh38.cdna.all.fa.gz to /root/.cache/pyensembl/GRCh38/ensembl97/Homo_sapiens.GRCh38.cdna.all.fa.gz\n",
            "2020-06-26 16:39:05,032 - pyensembl.download_cache - INFO - Fetching /root/.cache/pyensembl/GRCh38/ensembl97/Homo_sapiens.GRCh38.ncrna.fa.gz from URL ftp://ftp.ensembl.org/pub/release-97/fasta/homo_sapiens/ncrna/Homo_sapiens.GRCh38.ncrna.fa.gz\n",
            "2020-06-26 16:39:05,032 - datacache.download - INFO - Downloading ftp://ftp.ensembl.org/pub/release-97/fasta/homo_sapiens/ncrna/Homo_sapiens.GRCh38.ncrna.fa.gz to /root/.cache/pyensembl/GRCh38/ensembl97/Homo_sapiens.GRCh38.ncrna.fa.gz\n",
            "2020-06-26 16:39:07,116 - pyensembl.download_cache - INFO - Fetching /root/.cache/pyensembl/GRCh38/ensembl97/Homo_sapiens.GRCh38.pep.all.fa.gz from URL ftp://ftp.ensembl.org/pub/release-97/fasta/homo_sapiens/pep/Homo_sapiens.GRCh38.pep.all.fa.gz\n",
            "2020-06-26 16:39:07,116 - datacache.download - INFO - Downloading ftp://ftp.ensembl.org/pub/release-97/fasta/homo_sapiens/pep/Homo_sapiens.GRCh38.pep.all.fa.gz to /root/.cache/pyensembl/GRCh38/ensembl97/Homo_sapiens.GRCh38.pep.all.fa.gz\n",
            "2020-06-26 16:39:08,980 - pyensembl.database - INFO - Creating database: /root/.cache/pyensembl/GRCh38/ensembl97/Homo_sapiens.GRCh38.97.gtf.db\n",
            "2020-06-26 16:39:08,981 - pyensembl.database - INFO - Reading GTF from /root/.cache/pyensembl/GRCh38/ensembl97/Homo_sapiens.GRCh38.97.gtf.gz\n",
            "2020-06-26 16:40:35,105 - datacache.database_helpers - INFO - Creating database /root/.cache/pyensembl/GRCh38/ensembl97/Homo_sapiens.GRCh38.97.gtf.db containing: exon, start_codon, stop_codon, gene, transcript, CDS\n",
            "2020-06-26 16:40:35,105 - datacache.database - INFO - Running sqlite query: \"CREATE TABLE exon (transcript_biotype TEXT NOT NULL, transcript_support_level TEXT NOT NULL, seqname TEXT NOT NULL, gene_version TEXT NOT NULL, start INT NOT NULL, protein_version TEXT NOT NULL, transcript_version TEXT NOT NULL, ccds_id TEXT NOT NULL, gene_id TEXT NOT NULL, transcript_name TEXT NOT NULL, exon_version TEXT NOT NULL, gene_name TEXT NOT NULL, source TEXT NOT NULL, strand TEXT NOT NULL, protein_id TEXT NOT NULL, exon_id TEXT NOT NULL, transcript_id TEXT NOT NULL, exon_number TEXT NOT NULL, end INT NOT NULL, feature TEXT NOT NULL, gene_biotype TEXT NOT NULL)\"\n",
            "2020-06-26 16:40:38,087 - datacache.database - INFO - Inserting 1363230 rows into table exon\n",
            "2020-06-26 16:40:44,475 - datacache.database - INFO - Creating index on exon (seqname, start, end)\n",
            "2020-06-26 16:40:45,587 - datacache.database - INFO - Creating index on exon (gene_name)\n",
            "2020-06-26 16:40:46,381 - datacache.database - INFO - Creating index on exon (gene_id)\n",
            "2020-06-26 16:40:47,342 - datacache.database - INFO - Creating index on exon (transcript_id)\n",
            "2020-06-26 16:40:48,388 - datacache.database - INFO - Creating index on exon (transcript_name)\n",
            "2020-06-26 16:40:49,236 - datacache.database - INFO - Creating index on exon (exon_id)\n",
            "2020-06-26 16:40:50,361 - datacache.database - INFO - Creating index on exon (protein_id)\n",
            "2020-06-26 16:40:50,900 - datacache.database - INFO - Creating index on exon (ccds_id)\n",
            "2020-06-26 16:40:51,725 - datacache.database - INFO - Running sqlite query: \"CREATE TABLE start_codon (transcript_biotype TEXT NOT NULL, transcript_support_level TEXT NOT NULL, seqname TEXT NOT NULL, gene_version TEXT NOT NULL, start INT NOT NULL, protein_version TEXT NOT NULL, transcript_version TEXT NOT NULL, ccds_id TEXT NOT NULL, gene_id TEXT NOT NULL, transcript_name TEXT NOT NULL, exon_version TEXT NOT NULL, gene_name TEXT NOT NULL, source TEXT NOT NULL, strand TEXT NOT NULL, protein_id TEXT NOT NULL, exon_id TEXT NOT NULL, transcript_id TEXT NOT NULL, exon_number TEXT NOT NULL, end INT NOT NULL, feature TEXT NOT NULL, gene_biotype TEXT NOT NULL)\"\n",
            "2020-06-26 16:40:51,950 - datacache.database - INFO - Inserting 87301 rows into table start_codon\n",
            "2020-06-26 16:40:52,390 - datacache.database - INFO - Creating index on start_codon (seqname, start, end)\n",
            "2020-06-26 16:40:52,448 - datacache.database - INFO - Creating index on start_codon (gene_name)\n",
            "2020-06-26 16:40:52,499 - datacache.database - INFO - Creating index on start_codon (gene_id)\n",
            "2020-06-26 16:40:52,554 - datacache.database - INFO - Creating index on start_codon (transcript_id)\n",
            "2020-06-26 16:40:52,625 - datacache.database - INFO - Creating index on start_codon (transcript_name)\n",
            "2020-06-26 16:40:52,685 - datacache.database - INFO - Creating index on start_codon (exon_id)\n",
            "2020-06-26 16:40:52,726 - datacache.database - INFO - Creating index on start_codon (protein_id)\n",
            "2020-06-26 16:40:52,762 - datacache.database - INFO - Creating index on start_codon (ccds_id)\n",
            "2020-06-26 16:40:52,810 - datacache.database - INFO - Running sqlite query: \"CREATE TABLE stop_codon (transcript_biotype TEXT NOT NULL, transcript_support_level TEXT NOT NULL, seqname TEXT NOT NULL, gene_version TEXT NOT NULL, start INT NOT NULL, protein_version TEXT NOT NULL, transcript_version TEXT NOT NULL, ccds_id TEXT NOT NULL, gene_id TEXT NOT NULL, transcript_name TEXT NOT NULL, exon_version TEXT NOT NULL, gene_name TEXT NOT NULL, source TEXT NOT NULL, strand TEXT NOT NULL, protein_id TEXT NOT NULL, exon_id TEXT NOT NULL, transcript_id TEXT NOT NULL, exon_number TEXT NOT NULL, end INT NOT NULL, feature TEXT NOT NULL, gene_biotype TEXT NOT NULL)\"\n",
            "2020-06-26 16:40:53,035 - datacache.database - INFO - Inserting 79498 rows into table stop_codon\n",
            "2020-06-26 16:40:53,433 - datacache.database - INFO - Creating index on stop_codon (seqname, start, end)\n",
            "2020-06-26 16:40:53,483 - datacache.database - INFO - Creating index on stop_codon (gene_name)\n",
            "2020-06-26 16:40:53,527 - datacache.database - INFO - Creating index on stop_codon (gene_id)\n",
            "2020-06-26 16:40:53,573 - datacache.database - INFO - Creating index on stop_codon (transcript_id)\n",
            "2020-06-26 16:40:53,630 - datacache.database - INFO - Creating index on stop_codon (transcript_name)\n",
            "2020-06-26 16:40:53,677 - datacache.database - INFO - Creating index on stop_codon (exon_id)\n",
            "2020-06-26 16:40:53,711 - datacache.database - INFO - Creating index on stop_codon (protein_id)\n",
            "2020-06-26 16:40:53,740 - datacache.database - INFO - Creating index on stop_codon (ccds_id)\n",
            "2020-06-26 16:40:53,783 - datacache.database - INFO - Running sqlite query: \"CREATE TABLE gene (transcript_biotype TEXT NOT NULL, transcript_support_level TEXT NOT NULL, seqname TEXT NOT NULL, gene_version TEXT NOT NULL, start INT NOT NULL, protein_version TEXT NOT NULL, transcript_version TEXT NOT NULL, ccds_id TEXT NOT NULL, gene_id TEXT UNIQUE PRIMARY KEY NOT NULL, transcript_name TEXT NOT NULL, exon_version TEXT NOT NULL, gene_name TEXT NOT NULL, source TEXT NOT NULL, strand TEXT NOT NULL, protein_id TEXT NOT NULL, exon_id TEXT NOT NULL, transcript_id TEXT NOT NULL, exon_number TEXT NOT NULL, end INT NOT NULL, feature TEXT NOT NULL, gene_biotype TEXT NOT NULL)\"\n",
            "2020-06-26 16:40:53,940 - datacache.database - INFO - Inserting 60617 rows into table gene\n",
            "2020-06-26 16:40:54,315 - datacache.database - INFO - Creating index on gene (seqname, start, end)\n",
            "2020-06-26 16:40:54,349 - datacache.database - INFO - Creating index on gene (gene_name)\n",
            "2020-06-26 16:40:54,387 - datacache.database - INFO - Creating index on gene (transcript_id)\n",
            "2020-06-26 16:40:54,406 - datacache.database - INFO - Creating index on gene (transcript_name)\n",
            "2020-06-26 16:40:54,424 - datacache.database - INFO - Creating index on gene (exon_id)\n",
            "2020-06-26 16:40:54,444 - datacache.database - INFO - Creating index on gene (protein_id)\n",
            "2020-06-26 16:40:54,462 - datacache.database - INFO - Creating index on gene (ccds_id)\n",
            "2020-06-26 16:40:54,481 - datacache.database - INFO - Running sqlite query: \"CREATE TABLE transcript (transcript_biotype TEXT NOT NULL, transcript_support_level TEXT NOT NULL, seqname TEXT NOT NULL, gene_version TEXT NOT NULL, start INT NOT NULL, protein_version TEXT NOT NULL, transcript_version TEXT NOT NULL, ccds_id TEXT NOT NULL, gene_id TEXT NOT NULL, transcript_name TEXT NOT NULL, exon_version TEXT NOT NULL, gene_name TEXT NOT NULL, source TEXT NOT NULL, strand TEXT NOT NULL, protein_id TEXT NOT NULL, exon_id TEXT NOT NULL, transcript_id TEXT UNIQUE PRIMARY KEY NOT NULL, exon_number TEXT NOT NULL, end INT NOT NULL, feature TEXT NOT NULL, gene_biotype TEXT NOT NULL)\"\n",
            "2020-06-26 16:40:55,040 - datacache.database - INFO - Inserting 226788 rows into table transcript\n",
            "2020-06-26 16:40:56,636 - datacache.database - INFO - Creating index on transcript (seqname, start, end)\n",
            "2020-06-26 16:40:56,776 - datacache.database - INFO - Creating index on transcript (gene_name)\n",
            "2020-06-26 16:40:56,904 - datacache.database - INFO - Creating index on transcript (gene_id)\n",
            "2020-06-26 16:40:57,050 - datacache.database - INFO - Creating index on transcript (transcript_name)\n",
            "2020-06-26 16:40:57,198 - datacache.database - INFO - Creating index on transcript (exon_id)\n",
            "2020-06-26 16:40:57,290 - datacache.database - INFO - Creating index on transcript (protein_id)\n",
            "2020-06-26 16:40:57,378 - datacache.database - INFO - Creating index on transcript (ccds_id)\n",
            "2020-06-26 16:40:57,492 - datacache.database - INFO - Running sqlite query: \"CREATE TABLE CDS (transcript_biotype TEXT NOT NULL, transcript_support_level TEXT NOT NULL, seqname TEXT NOT NULL, gene_version TEXT NOT NULL, start INT NOT NULL, protein_version TEXT NOT NULL, transcript_version TEXT NOT NULL, ccds_id TEXT NOT NULL, gene_id TEXT NOT NULL, transcript_name TEXT NOT NULL, exon_version TEXT NOT NULL, gene_name TEXT NOT NULL, source TEXT NOT NULL, strand TEXT NOT NULL, protein_id TEXT NOT NULL, exon_id TEXT NOT NULL, transcript_id TEXT NOT NULL, exon_number TEXT NOT NULL, end INT NOT NULL, feature TEXT NOT NULL, gene_biotype TEXT NOT NULL)\"\n",
            "2020-06-26 16:40:59,240 - datacache.database - INFO - Inserting 755075 rows into table CDS\n",
            "2020-06-26 16:41:02,828 - datacache.database - INFO - Creating index on CDS (seqname, start, end)\n",
            "2020-06-26 16:41:03,419 - datacache.database - INFO - Creating index on CDS (gene_name)\n",
            "2020-06-26 16:41:03,824 - datacache.database - INFO - Creating index on CDS (gene_id)\n",
            "2020-06-26 16:41:04,242 - datacache.database - INFO - Creating index on CDS (transcript_id)\n",
            "2020-06-26 16:41:04,727 - datacache.database - INFO - Creating index on CDS (transcript_name)\n",
            "2020-06-26 16:41:05,139 - datacache.database - INFO - Creating index on CDS (exon_id)\n",
            "2020-06-26 16:41:05,455 - datacache.database - INFO - Creating index on CDS (protein_id)\n",
            "2020-06-26 16:41:05,925 - datacache.database - INFO - Creating index on CDS (ccds_id)\n",
            "2020-06-26 16:41:06,307 - datacache.database - INFO - Running sqlite query: \"CREATE TABLE _datacache_metadata (version INT)\"\n",
            "2020-06-26 16:41:06,307 - datacache.database - INFO - Running sqlite query: \"INSERT INTO _datacache_metadata VALUES (3)\"\n",
            "2020-06-26 16:41:09,023 - pyensembl.sequence_data - INFO - Parsing sequences from FASTA file at /root/.cache/pyensembl/GRCh38/ensembl97/Homo_sapiens.GRCh38.cdna.all.fa.gz\n",
            "2020-06-26 16:41:18,266 - pyensembl.sequence_data - INFO - Saving sequence dictionary to /root/.cache/pyensembl/GRCh38/ensembl97/Homo_sapiens.GRCh38.cdna.all.fa.gz.pickle\n",
            "2020-06-26 16:41:19,373 - pyensembl.sequence_data - INFO - Parsing sequences from FASTA file at /root/.cache/pyensembl/GRCh38/ensembl97/Homo_sapiens.GRCh38.ncrna.fa.gz\n",
            "2020-06-26 16:41:21,479 - pyensembl.sequence_data - INFO - Saving sequence dictionary to /root/.cache/pyensembl/GRCh38/ensembl97/Homo_sapiens.GRCh38.ncrna.fa.gz.pickle\n",
            "2020-06-26 16:41:21,652 - pyensembl.sequence_data - INFO - Parsing sequences from FASTA file at /root/.cache/pyensembl/GRCh38/ensembl97/Homo_sapiens.GRCh38.pep.all.fa.gz\n",
            "2020-06-26 16:41:23,451 - pyensembl.sequence_data - INFO - Saving sequence dictionary to /root/.cache/pyensembl/GRCh38/ensembl97/Homo_sapiens.GRCh38.pep.all.fa.gz.pickle\n"
          ],
          "name": "stdout"
        }
      ]
    },
    {
      "cell_type": "code",
      "metadata": {
        "id": "xMxJPPWxHnfj",
        "colab_type": "code",
        "colab": {}
      },
      "source": [
        "import pandas as pd\n",
        "import numpy as np\n",
        "import gzip\n",
        "from tqdm.notebook import tqdm\n",
        "\n",
        "from Bio import SeqIO   # for reading fasta files\n",
        "from pyensembl import EnsemblRelease   # to get the gene list\n",
        "\n",
        "ENSEMBL_RELEASE = 97\n",
        "DNA_TOPLEVEL_FASTA_PATH = \"/content/drive/My Drive/data/ensembl/Homo_sapiens.GRCh38.dna.toplevel.fa.gz\"\n",
        "\n",
        "# to generate random sequences\n",
        "N = 50_000    # how many\n",
        "K = 200       # how long\n",
        "OUTPUT_FILE = '/content/drive/My Drive/data/random/random_transcripts.csv'   # where to save them\n",
        "\n",
        "CHRS = [str(chr) for chr in range(1,23)] + ['X', 'Y', 'MT']"
      ],
      "execution_count": 77,
      "outputs": []
    },
    {
      "cell_type": "markdown",
      "metadata": {
        "id": "eLtdacLDHnfx",
        "colab_type": "text"
      },
      "source": [
        "## Get transcript list"
      ]
    },
    {
      "cell_type": "code",
      "metadata": {
        "id": "iRzWAYenHnfy",
        "colab_type": "code",
        "colab": {}
      },
      "source": [
        "# release 97 uses human reference genome GRCh38\n",
        "data = EnsemblRelease(ENSEMBL_RELEASE)"
      ],
      "execution_count": 34,
      "outputs": []
    },
    {
      "cell_type": "code",
      "metadata": {
        "id": "EVJQO00LHnf0",
        "colab_type": "code",
        "colab": {
          "base_uri": "https://localhost:8080/",
          "height": 35
        },
        "outputId": "61ccf21b-ac45-482e-828c-6f154b7d4232"
      },
      "source": [
        "human_transcripts = data.transcript_ids()\n",
        "len(human_transcripts)"
      ],
      "execution_count": 36,
      "outputs": [
        {
          "output_type": "execute_result",
          "data": {
            "text/plain": [
              "226788"
            ]
          },
          "metadata": {
            "tags": []
          },
          "execution_count": 36
        }
      ]
    },
    {
      "cell_type": "code",
      "metadata": {
        "id": "i1dIXhzvfv6u",
        "colab_type": "code",
        "colab": {
          "base_uri": "https://localhost:8080/",
          "height": 74
        },
        "outputId": "0456c683-267f-4cde-d446-3c9c3e6553aa"
      },
      "source": [
        "human_transcripts[0], data.transcript_by_id(human_transcripts[0])\n"
      ],
      "execution_count": 37,
      "outputs": [
        {
          "output_type": "execute_result",
          "data": {
            "text/plain": [
              "('ENST00000000233',\n",
              " Transcript(transcript_id='ENST00000000233', transcript_name='ARF5-201', gene_id='ENSG00000004059', biotype='protein_coding', contig='7', start=127588411, end=127591700, strand='+', genome='GRCh38'))"
            ]
          },
          "metadata": {
            "tags": []
          },
          "execution_count": 37
        }
      ]
    },
    {
      "cell_type": "code",
      "metadata": {
        "id": "8r9jj_B-Hnf3",
        "colab_type": "code",
        "colab": {}
      },
      "source": [
        "transcripts_full_info  = [data.transcript_by_id(transcript) for transcript in human_transcripts]"
      ],
      "execution_count": 38,
      "outputs": []
    },
    {
      "cell_type": "code",
      "metadata": {
        "id": "97lrmGvNHnf6",
        "colab_type": "code",
        "colab": {
          "base_uri": "https://localhost:8080/",
          "height": 198
        },
        "outputId": "313aa373-f20c-4292-d977-ae920c653f92"
      },
      "source": [
        "human_transcript_tuples = [(x.transcript_id, x.gene_id, x.biotype, x.contig, x.start, x.end, x.strand, x.coding_sequence) for x in transcripts_full_info if (x.biotype == 'protein_coding') & x.contains_start_codon & x.contains_stop_codon]\n",
        "human_transcript_table = pd.DataFrame.from_records(human_transcript_tuples, columns=[\"id\", \"gene_id\", \"biotype\", \"chr\", \"start\", \"end\", \"strand\", \"coding_sequence\"])\n",
        "assert all(human_transcript_table.start <= human_transcript_table.end)\n",
        "\n",
        "human_transcript_table.head()"
      ],
      "execution_count": 54,
      "outputs": [
        {
          "output_type": "execute_result",
          "data": {
            "text/html": [
              "<div>\n",
              "<style scoped>\n",
              "    .dataframe tbody tr th:only-of-type {\n",
              "        vertical-align: middle;\n",
              "    }\n",
              "\n",
              "    .dataframe tbody tr th {\n",
              "        vertical-align: top;\n",
              "    }\n",
              "\n",
              "    .dataframe thead th {\n",
              "        text-align: right;\n",
              "    }\n",
              "</style>\n",
              "<table border=\"1\" class=\"dataframe\">\n",
              "  <thead>\n",
              "    <tr style=\"text-align: right;\">\n",
              "      <th></th>\n",
              "      <th>id</th>\n",
              "      <th>gene_id</th>\n",
              "      <th>biotype</th>\n",
              "      <th>chr</th>\n",
              "      <th>start</th>\n",
              "      <th>end</th>\n",
              "      <th>strand</th>\n",
              "      <th>coding_sequence</th>\n",
              "    </tr>\n",
              "  </thead>\n",
              "  <tbody>\n",
              "    <tr>\n",
              "      <th>0</th>\n",
              "      <td>ENST00000000233</td>\n",
              "      <td>ENSG00000004059</td>\n",
              "      <td>protein_coding</td>\n",
              "      <td>7</td>\n",
              "      <td>127588411</td>\n",
              "      <td>127591700</td>\n",
              "      <td>+</td>\n",
              "      <td>ATGGGCCTCACCGTGTCCGCGCTCTTTTCGCGGATCTTCGGGAAGA...</td>\n",
              "    </tr>\n",
              "    <tr>\n",
              "      <th>1</th>\n",
              "      <td>ENST00000000412</td>\n",
              "      <td>ENSG00000003056</td>\n",
              "      <td>protein_coding</td>\n",
              "      <td>12</td>\n",
              "      <td>8940361</td>\n",
              "      <td>8949645</td>\n",
              "      <td>-</td>\n",
              "      <td>ATGTTCCCTTTCTACAGCTGCTGGAGGACTGGACTGCTACTACTAC...</td>\n",
              "    </tr>\n",
              "    <tr>\n",
              "      <th>2</th>\n",
              "      <td>ENST00000000442</td>\n",
              "      <td>ENSG00000173153</td>\n",
              "      <td>protein_coding</td>\n",
              "      <td>11</td>\n",
              "      <td>64305524</td>\n",
              "      <td>64316743</td>\n",
              "      <td>+</td>\n",
              "      <td>ATGTCCAGCCAGGTGGTGGGCATTGAGCCTCTCTACATCAAGGCAG...</td>\n",
              "    </tr>\n",
              "    <tr>\n",
              "      <th>3</th>\n",
              "      <td>ENST00000001008</td>\n",
              "      <td>ENSG00000004478</td>\n",
              "      <td>protein_coding</td>\n",
              "      <td>12</td>\n",
              "      <td>2794970</td>\n",
              "      <td>2805423</td>\n",
              "      <td>+</td>\n",
              "      <td>ATGACAGCCGAGGAGATGAAGGCGACCGAGAGCGGGGCGCAGTCGG...</td>\n",
              "    </tr>\n",
              "    <tr>\n",
              "      <th>4</th>\n",
              "      <td>ENST00000001146</td>\n",
              "      <td>ENSG00000003137</td>\n",
              "      <td>protein_coding</td>\n",
              "      <td>2</td>\n",
              "      <td>72129238</td>\n",
              "      <td>72148038</td>\n",
              "      <td>-</td>\n",
              "      <td>ATGCTCTTTGAGGGCTTGGATCTGGTGTCGGCGCTGGCCACCCTCG...</td>\n",
              "    </tr>\n",
              "  </tbody>\n",
              "</table>\n",
              "</div>"
            ],
            "text/plain": [
              "                id  ...                                    coding_sequence\n",
              "0  ENST00000000233  ...  ATGGGCCTCACCGTGTCCGCGCTCTTTTCGCGGATCTTCGGGAAGA...\n",
              "1  ENST00000000412  ...  ATGTTCCCTTTCTACAGCTGCTGGAGGACTGGACTGCTACTACTAC...\n",
              "2  ENST00000000442  ...  ATGTCCAGCCAGGTGGTGGGCATTGAGCCTCTCTACATCAAGGCAG...\n",
              "3  ENST00000001008  ...  ATGACAGCCGAGGAGATGAAGGCGACCGAGAGCGGGGCGCAGTCGG...\n",
              "4  ENST00000001146  ...  ATGCTCTTTGAGGGCTTGGATCTGGTGTCGGCGCTGGCCACCCTCG...\n",
              "\n",
              "[5 rows x 8 columns]"
            ]
          },
          "metadata": {
            "tags": []
          },
          "execution_count": 54
        }
      ]
    },
    {
      "cell_type": "code",
      "metadata": {
        "id": "IsJXGYXY2Rsf",
        "colab_type": "code",
        "colab": {
          "base_uri": "https://localhost:8080/",
          "height": 35
        },
        "outputId": "b9c46961-fb6c-4dca-ff1f-9b86fb60f6c2"
      },
      "source": [
        "assert ~human_transcript_table.coding_sequence.str.contains('N').any()\n",
        "\n",
        "human_transcript_table['length'] = human_transcript_table.coding_sequence.apply(len)\n",
        "selected_regions = human_transcript_table[human_transcript_table.length > K].copy()\n",
        "\n",
        "human_transcript_table.shape, selected_regions.shape"
      ],
      "execution_count": 68,
      "outputs": [
        {
          "output_type": "execute_result",
          "data": {
            "text/plain": [
              "((57208, 9), (55953, 9))"
            ]
          },
          "metadata": {
            "tags": []
          },
          "execution_count": 68
        }
      ]
    },
    {
      "cell_type": "code",
      "metadata": {
        "id": "P2X_MtbZHnf_",
        "colab_type": "code",
        "colab": {
          "base_uri": "https://localhost:8080/",
          "height": 309
        },
        "outputId": "9389599b-f07d-428b-d1c2-c086bb819c62"
      },
      "source": [
        "selected_regions['random_start'] = [np.random.randint(c_len-200) for c_len in selected_regions.length]\n",
        "selected_regions['random_end'] = selected_regions['random_start'] + K - 1\n",
        "selected_regions['seq'] = ''\n",
        "for i in range(selected_regions.shape[0]):\n",
        "  selected_regions['seq'].iloc[i] = (selected_regions['coding_sequence'].iloc[i])[selected_regions['random_start'].iloc[i]:selected_regions['random_start'].iloc[i]+200]\n",
        "selected_regions.head()"
      ],
      "execution_count": 73,
      "outputs": [
        {
          "output_type": "stream",
          "text": [
            "/usr/local/lib/python3.6/dist-packages/pandas/core/indexing.py:671: SettingWithCopyWarning: \n",
            "A value is trying to be set on a copy of a slice from a DataFrame\n",
            "\n",
            "See the caveats in the documentation: https://pandas.pydata.org/pandas-docs/stable/user_guide/indexing.html#returning-a-view-versus-a-copy\n",
            "  self._setitem_with_indexer(indexer, value)\n"
          ],
          "name": "stderr"
        },
        {
          "output_type": "execute_result",
          "data": {
            "text/html": [
              "<div>\n",
              "<style scoped>\n",
              "    .dataframe tbody tr th:only-of-type {\n",
              "        vertical-align: middle;\n",
              "    }\n",
              "\n",
              "    .dataframe tbody tr th {\n",
              "        vertical-align: top;\n",
              "    }\n",
              "\n",
              "    .dataframe thead th {\n",
              "        text-align: right;\n",
              "    }\n",
              "</style>\n",
              "<table border=\"1\" class=\"dataframe\">\n",
              "  <thead>\n",
              "    <tr style=\"text-align: right;\">\n",
              "      <th></th>\n",
              "      <th>id</th>\n",
              "      <th>gene_id</th>\n",
              "      <th>biotype</th>\n",
              "      <th>chr</th>\n",
              "      <th>start</th>\n",
              "      <th>end</th>\n",
              "      <th>strand</th>\n",
              "      <th>coding_sequence</th>\n",
              "      <th>length</th>\n",
              "      <th>random_start</th>\n",
              "      <th>seq</th>\n",
              "      <th>random_end</th>\n",
              "    </tr>\n",
              "  </thead>\n",
              "  <tbody>\n",
              "    <tr>\n",
              "      <th>0</th>\n",
              "      <td>ENST00000000233</td>\n",
              "      <td>ENSG00000004059</td>\n",
              "      <td>protein_coding</td>\n",
              "      <td>7</td>\n",
              "      <td>127588411</td>\n",
              "      <td>127591700</td>\n",
              "      <td>+</td>\n",
              "      <td>ATGGGCCTCACCGTGTCCGCGCTCTTTTCGCGGATCTTCGGGAAGA...</td>\n",
              "      <td>543</td>\n",
              "      <td>208</td>\n",
              "      <td>GCCAGGACAAGATTCGGCCTCTGTGGCGGCACTACTTCCAGAACAC...</td>\n",
              "      <td>407</td>\n",
              "    </tr>\n",
              "    <tr>\n",
              "      <th>1</th>\n",
              "      <td>ENST00000000412</td>\n",
              "      <td>ENSG00000003056</td>\n",
              "      <td>protein_coding</td>\n",
              "      <td>12</td>\n",
              "      <td>8940361</td>\n",
              "      <td>8949645</td>\n",
              "      <td>-</td>\n",
              "      <td>ATGTTCCCTTTCTACAGCTGCTGGAGGACTGGACTGCTACTACTAC...</td>\n",
              "      <td>834</td>\n",
              "      <td>203</td>\n",
              "      <td>AGACACATACATCTACATCTTCAGGGTGTGCCGGGAAGCTGGCAAC...</td>\n",
              "      <td>402</td>\n",
              "    </tr>\n",
              "    <tr>\n",
              "      <th>2</th>\n",
              "      <td>ENST00000000442</td>\n",
              "      <td>ENSG00000173153</td>\n",
              "      <td>protein_coding</td>\n",
              "      <td>11</td>\n",
              "      <td>64305524</td>\n",
              "      <td>64316743</td>\n",
              "      <td>+</td>\n",
              "      <td>ATGTCCAGCCAGGTGGTGGGCATTGAGCCTCTCTACATCAAGGCAG...</td>\n",
              "      <td>1272</td>\n",
              "      <td>821</td>\n",
              "      <td>CCAGCGCTCACTGCCACTGCAGGATGAGCTGGCCTTCGCTGAGGAC...</td>\n",
              "      <td>1020</td>\n",
              "    </tr>\n",
              "    <tr>\n",
              "      <th>3</th>\n",
              "      <td>ENST00000001008</td>\n",
              "      <td>ENSG00000004478</td>\n",
              "      <td>protein_coding</td>\n",
              "      <td>12</td>\n",
              "      <td>2794970</td>\n",
              "      <td>2805423</td>\n",
              "      <td>+</td>\n",
              "      <td>ATGACAGCCGAGGAGATGAAGGCGACCGAGAGCGGGGCGCAGTCGG...</td>\n",
              "      <td>1380</td>\n",
              "      <td>533</td>\n",
              "      <td>CAAGGACAAGCTCTTTGACCAGCGGGAGCTCCGCTTTGAGATTGGC...</td>\n",
              "      <td>732</td>\n",
              "    </tr>\n",
              "    <tr>\n",
              "      <th>4</th>\n",
              "      <td>ENST00000001146</td>\n",
              "      <td>ENSG00000003137</td>\n",
              "      <td>protein_coding</td>\n",
              "      <td>2</td>\n",
              "      <td>72129238</td>\n",
              "      <td>72148038</td>\n",
              "      <td>-</td>\n",
              "      <td>ATGCTCTTTGAGGGCTTGGATCTGGTGTCGGCGCTGGCCACCCTCG...</td>\n",
              "      <td>1539</td>\n",
              "      <td>1252</td>\n",
              "      <td>GCCAGGCGCGGAGCGAGGACAAGGATGGCCGCTTCCATTACCTCCC...</td>\n",
              "      <td>1451</td>\n",
              "    </tr>\n",
              "  </tbody>\n",
              "</table>\n",
              "</div>"
            ],
            "text/plain": [
              "                id  ... random_end\n",
              "0  ENST00000000233  ...        407\n",
              "1  ENST00000000412  ...        402\n",
              "2  ENST00000000442  ...       1020\n",
              "3  ENST00000001008  ...        732\n",
              "4  ENST00000001146  ...       1451\n",
              "\n",
              "[5 rows x 12 columns]"
            ]
          },
          "metadata": {
            "tags": []
          },
          "execution_count": 73
        }
      ]
    },
    {
      "cell_type": "markdown",
      "metadata": {
        "id": "zQ4J1qGeHngN",
        "colab_type": "text"
      },
      "source": [
        "## Random transcript selection"
      ]
    },
    {
      "cell_type": "code",
      "metadata": {
        "id": "M_-EBl92HngN",
        "colab_type": "code",
        "colab": {
          "base_uri": "https://localhost:8080/",
          "height": 35
        },
        "outputId": "18118a71-2c7c-4905-e340-175c10c1e10d"
      },
      "source": [
        "sample_regions = selected_regions.sample(N)\n",
        "sample_regions.shape"
      ],
      "execution_count": 74,
      "outputs": [
        {
          "output_type": "execute_result",
          "data": {
            "text/plain": [
              "(50000, 12)"
            ]
          },
          "metadata": {
            "tags": []
          },
          "execution_count": 74
        }
      ]
    },
    {
      "cell_type": "code",
      "metadata": {
        "id": "Ia_xkzHqHngX",
        "colab_type": "code",
        "colab": {
          "base_uri": "https://localhost:8080/",
          "height": 198
        },
        "outputId": "0c28f208-f866-4a3b-aa4e-e0f530ed8f8d"
      },
      "source": [
        "seqs = sample_regions[['id', 'chr', 'random_start', 'random_end', 'seq']].copy().reset_index(drop=True)\n",
        "seqs.head()"
      ],
      "execution_count": 75,
      "outputs": [
        {
          "output_type": "execute_result",
          "data": {
            "text/html": [
              "<div>\n",
              "<style scoped>\n",
              "    .dataframe tbody tr th:only-of-type {\n",
              "        vertical-align: middle;\n",
              "    }\n",
              "\n",
              "    .dataframe tbody tr th {\n",
              "        vertical-align: top;\n",
              "    }\n",
              "\n",
              "    .dataframe thead th {\n",
              "        text-align: right;\n",
              "    }\n",
              "</style>\n",
              "<table border=\"1\" class=\"dataframe\">\n",
              "  <thead>\n",
              "    <tr style=\"text-align: right;\">\n",
              "      <th></th>\n",
              "      <th>id</th>\n",
              "      <th>chr</th>\n",
              "      <th>random_start</th>\n",
              "      <th>random_end</th>\n",
              "      <th>seq</th>\n",
              "    </tr>\n",
              "  </thead>\n",
              "  <tbody>\n",
              "    <tr>\n",
              "      <th>0</th>\n",
              "      <td>ENST00000594605</td>\n",
              "      <td>19</td>\n",
              "      <td>410</td>\n",
              "      <td>609</td>\n",
              "      <td>AGTCTTGGCCAAAGAGGAGGCGCGCCGTGCACTGGAGACACCCTCG...</td>\n",
              "    </tr>\n",
              "    <tr>\n",
              "      <th>1</th>\n",
              "      <td>ENST00000638043</td>\n",
              "      <td>2</td>\n",
              "      <td>2633</td>\n",
              "      <td>2832</td>\n",
              "      <td>ACTGCAGAGTCAGCTACCCATTGGGAGTGATTTTCCTTTTGTTGGC...</td>\n",
              "    </tr>\n",
              "    <tr>\n",
              "      <th>2</th>\n",
              "      <td>ENST00000340807</td>\n",
              "      <td>13</td>\n",
              "      <td>574</td>\n",
              "      <td>773</td>\n",
              "      <td>TGACATTTTTTTTCTTGATTCCTTTGTTCATCATGATTGGGTGCTA...</td>\n",
              "    </tr>\n",
              "    <tr>\n",
              "      <th>3</th>\n",
              "      <td>ENST00000370508</td>\n",
              "      <td>10</td>\n",
              "      <td>565</td>\n",
              "      <td>764</td>\n",
              "      <td>TCCACGCCTGTGCACACAACCCAACTGGGATTGACCCAACTCCGGA...</td>\n",
              "    </tr>\n",
              "    <tr>\n",
              "      <th>4</th>\n",
              "      <td>ENST00000525064</td>\n",
              "      <td>11</td>\n",
              "      <td>164</td>\n",
              "      <td>363</td>\n",
              "      <td>ACTGGAATACCCCACCATTAGTTTACATGCATTATCCAGGGACCGA...</td>\n",
              "    </tr>\n",
              "  </tbody>\n",
              "</table>\n",
              "</div>"
            ],
            "text/plain": [
              "                id  ...                                                seq\n",
              "0  ENST00000594605  ...  AGTCTTGGCCAAAGAGGAGGCGCGCCGTGCACTGGAGACACCCTCG...\n",
              "1  ENST00000638043  ...  ACTGCAGAGTCAGCTACCCATTGGGAGTGATTTTCCTTTTGTTGGC...\n",
              "2  ENST00000340807  ...  TGACATTTTTTTTCTTGATTCCTTTGTTCATCATGATTGGGTGCTA...\n",
              "3  ENST00000370508  ...  TCCACGCCTGTGCACACAACCCAACTGGGATTGACCCAACTCCGGA...\n",
              "4  ENST00000525064  ...  ACTGGAATACCCCACCATTAGTTTACATGCATTATCCAGGGACCGA...\n",
              "\n",
              "[5 rows x 5 columns]"
            ]
          },
          "metadata": {
            "tags": []
          },
          "execution_count": 75
        }
      ]
    },
    {
      "cell_type": "code",
      "metadata": {
        "id": "d9-E5cG9Hngf",
        "colab_type": "code",
        "colab": {
          "base_uri": "https://localhost:8080/",
          "height": 35
        },
        "outputId": "6abcf93f-8230-4d41-fe01-ad6aca239678"
      },
      "source": [
        "len(seqs.seq.values[0])"
      ],
      "execution_count": 76,
      "outputs": [
        {
          "output_type": "execute_result",
          "data": {
            "text/plain": [
              "200"
            ]
          },
          "metadata": {
            "tags": []
          },
          "execution_count": 76
        }
      ]
    },
    {
      "cell_type": "markdown",
      "metadata": {
        "id": "pLGZ-XrKHngk",
        "colab_type": "text"
      },
      "source": [
        "## Save generated sequences to file"
      ]
    },
    {
      "cell_type": "code",
      "metadata": {
        "id": "Sfj_KTv1Hngk",
        "colab_type": "code",
        "colab": {}
      },
      "source": [
        "seqs.to_csv(OUTPUT_FILE, index=False)"
      ],
      "execution_count": 78,
      "outputs": []
    }
  ]
}