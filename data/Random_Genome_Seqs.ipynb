{
  "nbformat": 4,
  "nbformat_minor": 0,
  "metadata": {
    "kernelspec": {
      "display_name": "Python 3",
      "language": "python",
      "name": "python3"
    },
    "language_info": {
      "codemirror_mode": {
        "name": "ipython",
        "version": 3
      },
      "file_extension": ".py",
      "mimetype": "text/x-python",
      "name": "python",
      "nbconvert_exporter": "python",
      "pygments_lexer": "ipython3",
      "version": "3.6.9"
    },
    "colab": {
      "name": "Random_Genome_Seqs.ipynb",
      "provenance": [],
      "toc_visible": true
    },
    "widgets": {
      "application/vnd.jupyter.widget-state+json": {
        "bdc63ccaa9824ea69b708e68a8774b5f": {
          "model_module": "@jupyter-widgets/controls",
          "model_name": "HBoxModel",
          "state": {
            "_view_name": "HBoxView",
            "_dom_classes": [],
            "_model_name": "HBoxModel",
            "_view_module": "@jupyter-widgets/controls",
            "_model_module_version": "1.5.0",
            "_view_count": null,
            "_view_module_version": "1.5.0",
            "box_style": "",
            "layout": "IPY_MODEL_7cd2f240353f48c695f68e8b3be9ee71",
            "_model_module": "@jupyter-widgets/controls",
            "children": [
              "IPY_MODEL_08565919d7e8478da95b8aea8af856ef",
              "IPY_MODEL_ffa7a068467b48229ee4efa5a172068e"
            ]
          }
        },
        "7cd2f240353f48c695f68e8b3be9ee71": {
          "model_module": "@jupyter-widgets/base",
          "model_name": "LayoutModel",
          "state": {
            "_view_name": "LayoutView",
            "grid_template_rows": null,
            "right": null,
            "justify_content": null,
            "_view_module": "@jupyter-widgets/base",
            "overflow": null,
            "_model_module_version": "1.2.0",
            "_view_count": null,
            "flex_flow": null,
            "width": null,
            "min_width": null,
            "border": null,
            "align_items": null,
            "bottom": null,
            "_model_module": "@jupyter-widgets/base",
            "top": null,
            "grid_column": null,
            "overflow_y": null,
            "overflow_x": null,
            "grid_auto_flow": null,
            "grid_area": null,
            "grid_template_columns": null,
            "flex": null,
            "_model_name": "LayoutModel",
            "justify_items": null,
            "grid_row": null,
            "max_height": null,
            "align_content": null,
            "visibility": null,
            "align_self": null,
            "height": null,
            "min_height": null,
            "padding": null,
            "grid_auto_rows": null,
            "grid_gap": null,
            "max_width": null,
            "order": null,
            "_view_module_version": "1.2.0",
            "grid_template_areas": null,
            "object_position": null,
            "object_fit": null,
            "grid_auto_columns": null,
            "margin": null,
            "display": null,
            "left": null
          }
        },
        "08565919d7e8478da95b8aea8af856ef": {
          "model_module": "@jupyter-widgets/controls",
          "model_name": "FloatProgressModel",
          "state": {
            "_view_name": "ProgressView",
            "style": "IPY_MODEL_5a0aacaaa89e48deb843d9e38c411c02",
            "_dom_classes": [],
            "description": "100%",
            "_model_name": "FloatProgressModel",
            "bar_style": "danger",
            "max": 24,
            "_view_module": "@jupyter-widgets/controls",
            "_model_module_version": "1.5.0",
            "value": 24,
            "_view_count": null,
            "_view_module_version": "1.5.0",
            "orientation": "horizontal",
            "min": 0,
            "description_tooltip": null,
            "_model_module": "@jupyter-widgets/controls",
            "layout": "IPY_MODEL_a97b43a4aa054028abb6f0d7517d2706"
          }
        },
        "ffa7a068467b48229ee4efa5a172068e": {
          "model_module": "@jupyter-widgets/controls",
          "model_name": "HTMLModel",
          "state": {
            "_view_name": "HTMLView",
            "style": "IPY_MODEL_b0030d8f60cc458f8986ef96972b388e",
            "_dom_classes": [],
            "description": "",
            "_model_name": "HTMLModel",
            "placeholder": "​",
            "_view_module": "@jupyter-widgets/controls",
            "_model_module_version": "1.5.0",
            "value": " 24/24 [00:59&lt;00:00,  1.38s/it]",
            "_view_count": null,
            "_view_module_version": "1.5.0",
            "description_tooltip": null,
            "_model_module": "@jupyter-widgets/controls",
            "layout": "IPY_MODEL_39d893b4f19643438cbe8b8668b11a19"
          }
        },
        "5a0aacaaa89e48deb843d9e38c411c02": {
          "model_module": "@jupyter-widgets/controls",
          "model_name": "ProgressStyleModel",
          "state": {
            "_view_name": "StyleView",
            "_model_name": "ProgressStyleModel",
            "description_width": "initial",
            "_view_module": "@jupyter-widgets/base",
            "_model_module_version": "1.5.0",
            "_view_count": null,
            "_view_module_version": "1.2.0",
            "bar_color": null,
            "_model_module": "@jupyter-widgets/controls"
          }
        },
        "a97b43a4aa054028abb6f0d7517d2706": {
          "model_module": "@jupyter-widgets/base",
          "model_name": "LayoutModel",
          "state": {
            "_view_name": "LayoutView",
            "grid_template_rows": null,
            "right": null,
            "justify_content": null,
            "_view_module": "@jupyter-widgets/base",
            "overflow": null,
            "_model_module_version": "1.2.0",
            "_view_count": null,
            "flex_flow": null,
            "width": null,
            "min_width": null,
            "border": null,
            "align_items": null,
            "bottom": null,
            "_model_module": "@jupyter-widgets/base",
            "top": null,
            "grid_column": null,
            "overflow_y": null,
            "overflow_x": null,
            "grid_auto_flow": null,
            "grid_area": null,
            "grid_template_columns": null,
            "flex": null,
            "_model_name": "LayoutModel",
            "justify_items": null,
            "grid_row": null,
            "max_height": null,
            "align_content": null,
            "visibility": null,
            "align_self": null,
            "height": null,
            "min_height": null,
            "padding": null,
            "grid_auto_rows": null,
            "grid_gap": null,
            "max_width": null,
            "order": null,
            "_view_module_version": "1.2.0",
            "grid_template_areas": null,
            "object_position": null,
            "object_fit": null,
            "grid_auto_columns": null,
            "margin": null,
            "display": null,
            "left": null
          }
        },
        "b0030d8f60cc458f8986ef96972b388e": {
          "model_module": "@jupyter-widgets/controls",
          "model_name": "DescriptionStyleModel",
          "state": {
            "_view_name": "StyleView",
            "_model_name": "DescriptionStyleModel",
            "description_width": "",
            "_view_module": "@jupyter-widgets/base",
            "_model_module_version": "1.5.0",
            "_view_count": null,
            "_view_module_version": "1.2.0",
            "_model_module": "@jupyter-widgets/controls"
          }
        },
        "39d893b4f19643438cbe8b8668b11a19": {
          "model_module": "@jupyter-widgets/base",
          "model_name": "LayoutModel",
          "state": {
            "_view_name": "LayoutView",
            "grid_template_rows": null,
            "right": null,
            "justify_content": null,
            "_view_module": "@jupyter-widgets/base",
            "overflow": null,
            "_model_module_version": "1.2.0",
            "_view_count": null,
            "flex_flow": null,
            "width": null,
            "min_width": null,
            "border": null,
            "align_items": null,
            "bottom": null,
            "_model_module": "@jupyter-widgets/base",
            "top": null,
            "grid_column": null,
            "overflow_y": null,
            "overflow_x": null,
            "grid_auto_flow": null,
            "grid_area": null,
            "grid_template_columns": null,
            "flex": null,
            "_model_name": "LayoutModel",
            "justify_items": null,
            "grid_row": null,
            "max_height": null,
            "align_content": null,
            "visibility": null,
            "align_self": null,
            "height": null,
            "min_height": null,
            "padding": null,
            "grid_auto_rows": null,
            "grid_gap": null,
            "max_width": null,
            "order": null,
            "_view_module_version": "1.2.0",
            "grid_template_areas": null,
            "object_position": null,
            "object_fit": null,
            "grid_auto_columns": null,
            "margin": null,
            "display": null,
            "left": null
          }
        },
        "58c0985d5de5468b973d330cd6f88464": {
          "model_module": "@jupyter-widgets/controls",
          "model_name": "HBoxModel",
          "state": {
            "_view_name": "HBoxView",
            "_dom_classes": [],
            "_model_name": "HBoxModel",
            "_view_module": "@jupyter-widgets/controls",
            "_model_module_version": "1.5.0",
            "_view_count": null,
            "_view_module_version": "1.5.0",
            "box_style": "",
            "layout": "IPY_MODEL_8ddf56b41c6f402899716d9da900ce13",
            "_model_module": "@jupyter-widgets/controls",
            "children": [
              "IPY_MODEL_d2d0287a3cbe4f8093a5ffcdb08e3e63",
              "IPY_MODEL_2bd93d3fd03c46e68c08671ec9f4e419"
            ]
          }
        },
        "8ddf56b41c6f402899716d9da900ce13": {
          "model_module": "@jupyter-widgets/base",
          "model_name": "LayoutModel",
          "state": {
            "_view_name": "LayoutView",
            "grid_template_rows": null,
            "right": null,
            "justify_content": null,
            "_view_module": "@jupyter-widgets/base",
            "overflow": null,
            "_model_module_version": "1.2.0",
            "_view_count": null,
            "flex_flow": null,
            "width": null,
            "min_width": null,
            "border": null,
            "align_items": null,
            "bottom": null,
            "_model_module": "@jupyter-widgets/base",
            "top": null,
            "grid_column": null,
            "overflow_y": null,
            "overflow_x": null,
            "grid_auto_flow": null,
            "grid_area": null,
            "grid_template_columns": null,
            "flex": null,
            "_model_name": "LayoutModel",
            "justify_items": null,
            "grid_row": null,
            "max_height": null,
            "align_content": null,
            "visibility": null,
            "align_self": null,
            "height": null,
            "min_height": null,
            "padding": null,
            "grid_auto_rows": null,
            "grid_gap": null,
            "max_width": null,
            "order": null,
            "_view_module_version": "1.2.0",
            "grid_template_areas": null,
            "object_position": null,
            "object_fit": null,
            "grid_auto_columns": null,
            "margin": null,
            "display": null,
            "left": null
          }
        },
        "d2d0287a3cbe4f8093a5ffcdb08e3e63": {
          "model_module": "@jupyter-widgets/controls",
          "model_name": "FloatProgressModel",
          "state": {
            "_view_name": "ProgressView",
            "style": "IPY_MODEL_9e89046cadad43d3a592cb457191751a",
            "_dom_classes": [],
            "description": "100%",
            "_model_name": "FloatProgressModel",
            "bar_style": "success",
            "max": 60558,
            "_view_module": "@jupyter-widgets/controls",
            "_model_module_version": "1.5.0",
            "value": 60558,
            "_view_count": null,
            "_view_module_version": "1.5.0",
            "orientation": "horizontal",
            "min": 0,
            "description_tooltip": null,
            "_model_module": "@jupyter-widgets/controls",
            "layout": "IPY_MODEL_7b69f56a91744922a0342b87f5a7689a"
          }
        },
        "2bd93d3fd03c46e68c08671ec9f4e419": {
          "model_module": "@jupyter-widgets/controls",
          "model_name": "HTMLModel",
          "state": {
            "_view_name": "HTMLView",
            "style": "IPY_MODEL_c6960880c3484e0da1141a978a615acb",
            "_dom_classes": [],
            "description": "",
            "_model_name": "HTMLModel",
            "placeholder": "​",
            "_view_module": "@jupyter-widgets/controls",
            "_model_module_version": "1.5.0",
            "value": " 60558/60558 [00:40&lt;00:00, 1482.00it/s]",
            "_view_count": null,
            "_view_module_version": "1.5.0",
            "description_tooltip": null,
            "_model_module": "@jupyter-widgets/controls",
            "layout": "IPY_MODEL_42b5378f4c22402db59e31af29e0ea66"
          }
        },
        "9e89046cadad43d3a592cb457191751a": {
          "model_module": "@jupyter-widgets/controls",
          "model_name": "ProgressStyleModel",
          "state": {
            "_view_name": "StyleView",
            "_model_name": "ProgressStyleModel",
            "description_width": "initial",
            "_view_module": "@jupyter-widgets/base",
            "_model_module_version": "1.5.0",
            "_view_count": null,
            "_view_module_version": "1.2.0",
            "bar_color": null,
            "_model_module": "@jupyter-widgets/controls"
          }
        },
        "7b69f56a91744922a0342b87f5a7689a": {
          "model_module": "@jupyter-widgets/base",
          "model_name": "LayoutModel",
          "state": {
            "_view_name": "LayoutView",
            "grid_template_rows": null,
            "right": null,
            "justify_content": null,
            "_view_module": "@jupyter-widgets/base",
            "overflow": null,
            "_model_module_version": "1.2.0",
            "_view_count": null,
            "flex_flow": null,
            "width": null,
            "min_width": null,
            "border": null,
            "align_items": null,
            "bottom": null,
            "_model_module": "@jupyter-widgets/base",
            "top": null,
            "grid_column": null,
            "overflow_y": null,
            "overflow_x": null,
            "grid_auto_flow": null,
            "grid_area": null,
            "grid_template_columns": null,
            "flex": null,
            "_model_name": "LayoutModel",
            "justify_items": null,
            "grid_row": null,
            "max_height": null,
            "align_content": null,
            "visibility": null,
            "align_self": null,
            "height": null,
            "min_height": null,
            "padding": null,
            "grid_auto_rows": null,
            "grid_gap": null,
            "max_width": null,
            "order": null,
            "_view_module_version": "1.2.0",
            "grid_template_areas": null,
            "object_position": null,
            "object_fit": null,
            "grid_auto_columns": null,
            "margin": null,
            "display": null,
            "left": null
          }
        },
        "c6960880c3484e0da1141a978a615acb": {
          "model_module": "@jupyter-widgets/controls",
          "model_name": "DescriptionStyleModel",
          "state": {
            "_view_name": "StyleView",
            "_model_name": "DescriptionStyleModel",
            "description_width": "",
            "_view_module": "@jupyter-widgets/base",
            "_model_module_version": "1.5.0",
            "_view_count": null,
            "_view_module_version": "1.2.0",
            "_model_module": "@jupyter-widgets/controls"
          }
        },
        "42b5378f4c22402db59e31af29e0ea66": {
          "model_module": "@jupyter-widgets/base",
          "model_name": "LayoutModel",
          "state": {
            "_view_name": "LayoutView",
            "grid_template_rows": null,
            "right": null,
            "justify_content": null,
            "_view_module": "@jupyter-widgets/base",
            "overflow": null,
            "_model_module_version": "1.2.0",
            "_view_count": null,
            "flex_flow": null,
            "width": null,
            "min_width": null,
            "border": null,
            "align_items": null,
            "bottom": null,
            "_model_module": "@jupyter-widgets/base",
            "top": null,
            "grid_column": null,
            "overflow_y": null,
            "overflow_x": null,
            "grid_auto_flow": null,
            "grid_area": null,
            "grid_template_columns": null,
            "flex": null,
            "_model_name": "LayoutModel",
            "justify_items": null,
            "grid_row": null,
            "max_height": null,
            "align_content": null,
            "visibility": null,
            "align_self": null,
            "height": null,
            "min_height": null,
            "padding": null,
            "grid_auto_rows": null,
            "grid_gap": null,
            "max_width": null,
            "order": null,
            "_view_module_version": "1.2.0",
            "grid_template_areas": null,
            "object_position": null,
            "object_fit": null,
            "grid_auto_columns": null,
            "margin": null,
            "display": null,
            "left": null
          }
        },
        "62782fd417644eb197e76e9f25e0203b": {
          "model_module": "@jupyter-widgets/controls",
          "model_name": "HBoxModel",
          "state": {
            "_view_name": "HBoxView",
            "_dom_classes": [],
            "_model_name": "HBoxModel",
            "_view_module": "@jupyter-widgets/controls",
            "_model_module_version": "1.5.0",
            "_view_count": null,
            "_view_module_version": "1.5.0",
            "box_style": "",
            "layout": "IPY_MODEL_411e86e648ea4a03b31062a0b000ac7a",
            "_model_module": "@jupyter-widgets/controls",
            "children": [
              "IPY_MODEL_7e76e763c09d4d71922ec3a7df2a5437",
              "IPY_MODEL_8a9749fd9d8d4ea4a63c824daffe490c"
            ]
          }
        },
        "411e86e648ea4a03b31062a0b000ac7a": {
          "model_module": "@jupyter-widgets/base",
          "model_name": "LayoutModel",
          "state": {
            "_view_name": "LayoutView",
            "grid_template_rows": null,
            "right": null,
            "justify_content": null,
            "_view_module": "@jupyter-widgets/base",
            "overflow": null,
            "_model_module_version": "1.2.0",
            "_view_count": null,
            "flex_flow": null,
            "width": null,
            "min_width": null,
            "border": null,
            "align_items": null,
            "bottom": null,
            "_model_module": "@jupyter-widgets/base",
            "top": null,
            "grid_column": null,
            "overflow_y": null,
            "overflow_x": null,
            "grid_auto_flow": null,
            "grid_area": null,
            "grid_template_columns": null,
            "flex": null,
            "_model_name": "LayoutModel",
            "justify_items": null,
            "grid_row": null,
            "max_height": null,
            "align_content": null,
            "visibility": null,
            "align_self": null,
            "height": null,
            "min_height": null,
            "padding": null,
            "grid_auto_rows": null,
            "grid_gap": null,
            "max_width": null,
            "order": null,
            "_view_module_version": "1.2.0",
            "grid_template_areas": null,
            "object_position": null,
            "object_fit": null,
            "grid_auto_columns": null,
            "margin": null,
            "display": null,
            "left": null
          }
        },
        "7e76e763c09d4d71922ec3a7df2a5437": {
          "model_module": "@jupyter-widgets/controls",
          "model_name": "FloatProgressModel",
          "state": {
            "_view_name": "ProgressView",
            "style": "IPY_MODEL_365d50b708874d9f8b7d1fe9942df947",
            "_dom_classes": [],
            "description": "100%",
            "_model_name": "FloatProgressModel",
            "bar_style": "success",
            "max": 50000,
            "_view_module": "@jupyter-widgets/controls",
            "_model_module_version": "1.5.0",
            "value": 50000,
            "_view_count": null,
            "_view_module_version": "1.5.0",
            "orientation": "horizontal",
            "min": 0,
            "description_tooltip": null,
            "_model_module": "@jupyter-widgets/controls",
            "layout": "IPY_MODEL_24be381177454cfb86f5c01386c4cbb5"
          }
        },
        "8a9749fd9d8d4ea4a63c824daffe490c": {
          "model_module": "@jupyter-widgets/controls",
          "model_name": "HTMLModel",
          "state": {
            "_view_name": "HTMLView",
            "style": "IPY_MODEL_5280e7a9b1e64ed78d7b3a4e2be0b59b",
            "_dom_classes": [],
            "description": "",
            "_model_name": "HTMLModel",
            "placeholder": "​",
            "_view_module": "@jupyter-widgets/controls",
            "_model_module_version": "1.5.0",
            "value": " 50000/50000 [03:50&lt;00:00, 217.05it/s]",
            "_view_count": null,
            "_view_module_version": "1.5.0",
            "description_tooltip": null,
            "_model_module": "@jupyter-widgets/controls",
            "layout": "IPY_MODEL_22f7f83462f24b9da291b9f988f21b3a"
          }
        },
        "365d50b708874d9f8b7d1fe9942df947": {
          "model_module": "@jupyter-widgets/controls",
          "model_name": "ProgressStyleModel",
          "state": {
            "_view_name": "StyleView",
            "_model_name": "ProgressStyleModel",
            "description_width": "initial",
            "_view_module": "@jupyter-widgets/base",
            "_model_module_version": "1.5.0",
            "_view_count": null,
            "_view_module_version": "1.2.0",
            "bar_color": null,
            "_model_module": "@jupyter-widgets/controls"
          }
        },
        "24be381177454cfb86f5c01386c4cbb5": {
          "model_module": "@jupyter-widgets/base",
          "model_name": "LayoutModel",
          "state": {
            "_view_name": "LayoutView",
            "grid_template_rows": null,
            "right": null,
            "justify_content": null,
            "_view_module": "@jupyter-widgets/base",
            "overflow": null,
            "_model_module_version": "1.2.0",
            "_view_count": null,
            "flex_flow": null,
            "width": null,
            "min_width": null,
            "border": null,
            "align_items": null,
            "bottom": null,
            "_model_module": "@jupyter-widgets/base",
            "top": null,
            "grid_column": null,
            "overflow_y": null,
            "overflow_x": null,
            "grid_auto_flow": null,
            "grid_area": null,
            "grid_template_columns": null,
            "flex": null,
            "_model_name": "LayoutModel",
            "justify_items": null,
            "grid_row": null,
            "max_height": null,
            "align_content": null,
            "visibility": null,
            "align_self": null,
            "height": null,
            "min_height": null,
            "padding": null,
            "grid_auto_rows": null,
            "grid_gap": null,
            "max_width": null,
            "order": null,
            "_view_module_version": "1.2.0",
            "grid_template_areas": null,
            "object_position": null,
            "object_fit": null,
            "grid_auto_columns": null,
            "margin": null,
            "display": null,
            "left": null
          }
        },
        "5280e7a9b1e64ed78d7b3a4e2be0b59b": {
          "model_module": "@jupyter-widgets/controls",
          "model_name": "DescriptionStyleModel",
          "state": {
            "_view_name": "StyleView",
            "_model_name": "DescriptionStyleModel",
            "description_width": "",
            "_view_module": "@jupyter-widgets/base",
            "_model_module_version": "1.5.0",
            "_view_count": null,
            "_view_module_version": "1.2.0",
            "_model_module": "@jupyter-widgets/controls"
          }
        },
        "22f7f83462f24b9da291b9f988f21b3a": {
          "model_module": "@jupyter-widgets/base",
          "model_name": "LayoutModel",
          "state": {
            "_view_name": "LayoutView",
            "grid_template_rows": null,
            "right": null,
            "justify_content": null,
            "_view_module": "@jupyter-widgets/base",
            "overflow": null,
            "_model_module_version": "1.2.0",
            "_view_count": null,
            "flex_flow": null,
            "width": null,
            "min_width": null,
            "border": null,
            "align_items": null,
            "bottom": null,
            "_model_module": "@jupyter-widgets/base",
            "top": null,
            "grid_column": null,
            "overflow_y": null,
            "overflow_x": null,
            "grid_auto_flow": null,
            "grid_area": null,
            "grid_template_columns": null,
            "flex": null,
            "_model_name": "LayoutModel",
            "justify_items": null,
            "grid_row": null,
            "max_height": null,
            "align_content": null,
            "visibility": null,
            "align_self": null,
            "height": null,
            "min_height": null,
            "padding": null,
            "grid_auto_rows": null,
            "grid_gap": null,
            "max_width": null,
            "order": null,
            "_view_module_version": "1.2.0",
            "grid_template_areas": null,
            "object_position": null,
            "object_fit": null,
            "grid_auto_columns": null,
            "margin": null,
            "display": null,
            "left": null
          }
        },
        "cdb5ac1429b94fd1997d52fcb299b60b": {
          "model_module": "@jupyter-widgets/controls",
          "model_name": "HBoxModel",
          "state": {
            "_view_name": "HBoxView",
            "_dom_classes": [],
            "_model_name": "HBoxModel",
            "_view_module": "@jupyter-widgets/controls",
            "_model_module_version": "1.5.0",
            "_view_count": null,
            "_view_module_version": "1.5.0",
            "box_style": "",
            "layout": "IPY_MODEL_75a737b105ee421fa9e83dc0d0364086",
            "_model_module": "@jupyter-widgets/controls",
            "children": [
              "IPY_MODEL_61821d2aec60481ebd6f845c02d31be9",
              "IPY_MODEL_2888de4bb29b45169c5afa8c0ea43677"
            ]
          }
        },
        "75a737b105ee421fa9e83dc0d0364086": {
          "model_module": "@jupyter-widgets/base",
          "model_name": "LayoutModel",
          "state": {
            "_view_name": "LayoutView",
            "grid_template_rows": null,
            "right": null,
            "justify_content": null,
            "_view_module": "@jupyter-widgets/base",
            "overflow": null,
            "_model_module_version": "1.2.0",
            "_view_count": null,
            "flex_flow": null,
            "width": null,
            "min_width": null,
            "border": null,
            "align_items": null,
            "bottom": null,
            "_model_module": "@jupyter-widgets/base",
            "top": null,
            "grid_column": null,
            "overflow_y": null,
            "overflow_x": null,
            "grid_auto_flow": null,
            "grid_area": null,
            "grid_template_columns": null,
            "flex": null,
            "_model_name": "LayoutModel",
            "justify_items": null,
            "grid_row": null,
            "max_height": null,
            "align_content": null,
            "visibility": null,
            "align_self": null,
            "height": null,
            "min_height": null,
            "padding": null,
            "grid_auto_rows": null,
            "grid_gap": null,
            "max_width": null,
            "order": null,
            "_view_module_version": "1.2.0",
            "grid_template_areas": null,
            "object_position": null,
            "object_fit": null,
            "grid_auto_columns": null,
            "margin": null,
            "display": null,
            "left": null
          }
        },
        "61821d2aec60481ebd6f845c02d31be9": {
          "model_module": "@jupyter-widgets/controls",
          "model_name": "FloatProgressModel",
          "state": {
            "_view_name": "ProgressView",
            "style": "IPY_MODEL_ea13652263e2401db167b6baef11f1ab",
            "_dom_classes": [],
            "description": "100%",
            "_model_name": "FloatProgressModel",
            "bar_style": "danger",
            "max": 24,
            "_view_module": "@jupyter-widgets/controls",
            "_model_module_version": "1.5.0",
            "value": 24,
            "_view_count": null,
            "_view_module_version": "1.5.0",
            "orientation": "horizontal",
            "min": 0,
            "description_tooltip": null,
            "_model_module": "@jupyter-widgets/controls",
            "layout": "IPY_MODEL_c9f12af357704951a773eb611dd4cc4d"
          }
        },
        "2888de4bb29b45169c5afa8c0ea43677": {
          "model_module": "@jupyter-widgets/controls",
          "model_name": "HTMLModel",
          "state": {
            "_view_name": "HTMLView",
            "style": "IPY_MODEL_aae589e287ab40388a7b239a93dbad16",
            "_dom_classes": [],
            "description": "",
            "_model_name": "HTMLModel",
            "placeholder": "​",
            "_view_module": "@jupyter-widgets/controls",
            "_model_module_version": "1.5.0",
            "value": " 24/24 [02:22&lt;00:00,  4.22s/it]",
            "_view_count": null,
            "_view_module_version": "1.5.0",
            "description_tooltip": null,
            "_model_module": "@jupyter-widgets/controls",
            "layout": "IPY_MODEL_f4a5adeb75e1495bbe9fc75d8fffdb88"
          }
        },
        "ea13652263e2401db167b6baef11f1ab": {
          "model_module": "@jupyter-widgets/controls",
          "model_name": "ProgressStyleModel",
          "state": {
            "_view_name": "StyleView",
            "_model_name": "ProgressStyleModel",
            "description_width": "initial",
            "_view_module": "@jupyter-widgets/base",
            "_model_module_version": "1.5.0",
            "_view_count": null,
            "_view_module_version": "1.2.0",
            "bar_color": null,
            "_model_module": "@jupyter-widgets/controls"
          }
        },
        "c9f12af357704951a773eb611dd4cc4d": {
          "model_module": "@jupyter-widgets/base",
          "model_name": "LayoutModel",
          "state": {
            "_view_name": "LayoutView",
            "grid_template_rows": null,
            "right": null,
            "justify_content": null,
            "_view_module": "@jupyter-widgets/base",
            "overflow": null,
            "_model_module_version": "1.2.0",
            "_view_count": null,
            "flex_flow": null,
            "width": null,
            "min_width": null,
            "border": null,
            "align_items": null,
            "bottom": null,
            "_model_module": "@jupyter-widgets/base",
            "top": null,
            "grid_column": null,
            "overflow_y": null,
            "overflow_x": null,
            "grid_auto_flow": null,
            "grid_area": null,
            "grid_template_columns": null,
            "flex": null,
            "_model_name": "LayoutModel",
            "justify_items": null,
            "grid_row": null,
            "max_height": null,
            "align_content": null,
            "visibility": null,
            "align_self": null,
            "height": null,
            "min_height": null,
            "padding": null,
            "grid_auto_rows": null,
            "grid_gap": null,
            "max_width": null,
            "order": null,
            "_view_module_version": "1.2.0",
            "grid_template_areas": null,
            "object_position": null,
            "object_fit": null,
            "grid_auto_columns": null,
            "margin": null,
            "display": null,
            "left": null
          }
        },
        "aae589e287ab40388a7b239a93dbad16": {
          "model_module": "@jupyter-widgets/controls",
          "model_name": "DescriptionStyleModel",
          "state": {
            "_view_name": "StyleView",
            "_model_name": "DescriptionStyleModel",
            "description_width": "",
            "_view_module": "@jupyter-widgets/base",
            "_model_module_version": "1.5.0",
            "_view_count": null,
            "_view_module_version": "1.2.0",
            "_model_module": "@jupyter-widgets/controls"
          }
        },
        "f4a5adeb75e1495bbe9fc75d8fffdb88": {
          "model_module": "@jupyter-widgets/base",
          "model_name": "LayoutModel",
          "state": {
            "_view_name": "LayoutView",
            "grid_template_rows": null,
            "right": null,
            "justify_content": null,
            "_view_module": "@jupyter-widgets/base",
            "overflow": null,
            "_model_module_version": "1.2.0",
            "_view_count": null,
            "flex_flow": null,
            "width": null,
            "min_width": null,
            "border": null,
            "align_items": null,
            "bottom": null,
            "_model_module": "@jupyter-widgets/base",
            "top": null,
            "grid_column": null,
            "overflow_y": null,
            "overflow_x": null,
            "grid_auto_flow": null,
            "grid_area": null,
            "grid_template_columns": null,
            "flex": null,
            "_model_name": "LayoutModel",
            "justify_items": null,
            "grid_row": null,
            "max_height": null,
            "align_content": null,
            "visibility": null,
            "align_self": null,
            "height": null,
            "min_height": null,
            "padding": null,
            "grid_auto_rows": null,
            "grid_gap": null,
            "max_width": null,
            "order": null,
            "_view_module_version": "1.2.0",
            "grid_template_areas": null,
            "object_position": null,
            "object_fit": null,
            "grid_auto_columns": null,
            "margin": null,
            "display": null,
            "left": null
          }
        }
      }
    }
  },
  "cells": [
    {
      "cell_type": "markdown",
      "metadata": {
        "id": "yKEF8W8FHnfh",
        "colab_type": "text"
      },
      "source": [
        "# Generate Random Genome Sequences\n",
        "\n",
        "This notebook generates `N` random of the length `K` with the minimal distance `MIN_DIST` to any Ensembl gene.\n",
        "\n",
        "Note that some sequences may be missing in the human genome (= consists of 'N' letters only)."
      ]
    },
    {
      "cell_type": "markdown",
      "metadata": {
        "id": "tMfWhUbtHsJ9",
        "colab_type": "text"
      },
      "source": [
        "## Setup\n",
        "\n",
        "Installation for colab environment."
      ]
    },
    {
      "cell_type": "code",
      "metadata": {
        "id": "AM0BwFWvHwhC",
        "colab_type": "code",
        "colab": {
          "base_uri": "https://localhost:8080/",
          "height": 1000
        },
        "outputId": "2f809427-1688-452c-8360-ab1cebc1eecb"
      },
      "source": [
        "!pip install biopython pyensembl"
      ],
      "execution_count": 1,
      "outputs": [
        {
          "output_type": "stream",
          "text": [
            "Collecting biopython\n",
            "\u001b[?25l  Downloading https://files.pythonhosted.org/packages/a8/66/134dbd5f885fc71493c61b6cf04c9ea08082da28da5ed07709b02857cbd0/biopython-1.77-cp36-cp36m-manylinux1_x86_64.whl (2.3MB)\n",
            "\u001b[K     |████████████████████████████████| 2.3MB 3.4MB/s \n",
            "\u001b[?25hCollecting pyensembl\n",
            "\u001b[?25l  Downloading https://files.pythonhosted.org/packages/6b/d2/ef4b305af520ff7cc478d24c9b78560db20bb37be63fde7c2f83e9c6460e/pyensembl-1.8.7.tar.gz (57kB)\n",
            "\u001b[K     |████████████████████████████████| 61kB 6.1MB/s \n",
            "\u001b[?25hRequirement already satisfied: numpy in /usr/local/lib/python3.6/dist-packages (from biopython) (1.18.5)\n",
            "Collecting typechecks>=0.0.2\n",
            "  Downloading https://files.pythonhosted.org/packages/62/21/15129201c1f52f6af1e7809e96dce46da4b406c2c07fe9425e92f51edc5c/typechecks-0.1.0.tar.gz\n",
            "Requirement already satisfied: pandas>=0.15 in /usr/local/lib/python3.6/dist-packages (from pyensembl) (1.0.5)\n",
            "Collecting datacache>=1.1.4\n",
            "  Downloading https://files.pythonhosted.org/packages/f0/b9/a7114c1ac7b18bec9e0d232e65620aeb469b396ceaa85bcb6e81fe89a19d/datacache-1.1.5.tar.gz\n",
            "Collecting memoized-property>=1.0.2\n",
            "  Downloading https://files.pythonhosted.org/packages/70/db/23f8b5d86c9385299586c2469b58087f658f58eaeb414be0fd64cfd054e1/memoized-property-1.0.3.tar.gz\n",
            "Requirement already satisfied: six>=1.9.0 in /usr/local/lib/python3.6/dist-packages (from pyensembl) (1.12.0)\n",
            "Collecting gtfparse>=1.1.0\n",
            "  Downloading https://files.pythonhosted.org/packages/41/5c/8bd2e9020051ccffc60c56ae70b32a3b649ddac1962e9aa641f93542440e/gtfparse-1.2.0.tar.gz\n",
            "Collecting serializable\n",
            "  Downloading https://files.pythonhosted.org/packages/5f/e2/b08fefdd2b3bf59491170505a7eca09996606ea35ed53392cc0aa3041604/serializable-0.2.1.tar.gz\n",
            "Collecting tinytimer\n",
            "  Downloading https://files.pythonhosted.org/packages/5c/87/75d3fbe15aabd45d9b70702241787cf1f7f30dd9fabcd9bc89d828c7661d/tinytimer-0.0.0.tar.gz\n",
            "Requirement already satisfied: pytz>=2017.2 in /usr/local/lib/python3.6/dist-packages (from pandas>=0.15->pyensembl) (2018.9)\n",
            "Requirement already satisfied: python-dateutil>=2.6.1 in /usr/local/lib/python3.6/dist-packages (from pandas>=0.15->pyensembl) (2.8.1)\n",
            "Collecting appdirs>=1.4.0\n",
            "  Downloading https://files.pythonhosted.org/packages/3b/00/2344469e2084fb287c2e0b57b72910309874c3245463acd6cf5e3db69324/appdirs-1.4.4-py2.py3-none-any.whl\n",
            "Collecting progressbar33>=2.4\n",
            "  Downloading https://files.pythonhosted.org/packages/71/fc/7c8e01f41a6e671d7b11be470eeb3d15339c75ce5559935f3f55890eec6b/progressbar33-2.4.tar.gz\n",
            "Requirement already satisfied: requests>=2.5.1 in /usr/local/lib/python3.6/dist-packages (from datacache>=1.1.4->pyensembl) (2.23.0)\n",
            "Collecting mock\n",
            "  Downloading https://files.pythonhosted.org/packages/cd/74/d72daf8dff5b6566db857cfd088907bb0355f5dd2914c4b3ef065c790735/mock-4.0.2-py3-none-any.whl\n",
            "Collecting simplejson\n",
            "\u001b[?25l  Downloading https://files.pythonhosted.org/packages/98/87/a7b98aa9256c8843f92878966dc3d8d914c14aad97e2c5ce4798d5743e07/simplejson-3.17.0.tar.gz (83kB)\n",
            "\u001b[K     |████████████████████████████████| 92kB 7.7MB/s \n",
            "\u001b[?25hRequirement already satisfied: urllib3!=1.25.0,!=1.25.1,<1.26,>=1.21.1 in /usr/local/lib/python3.6/dist-packages (from requests>=2.5.1->datacache>=1.1.4->pyensembl) (1.24.3)\n",
            "Requirement already satisfied: certifi>=2017.4.17 in /usr/local/lib/python3.6/dist-packages (from requests>=2.5.1->datacache>=1.1.4->pyensembl) (2020.4.5.2)\n",
            "Requirement already satisfied: chardet<4,>=3.0.2 in /usr/local/lib/python3.6/dist-packages (from requests>=2.5.1->datacache>=1.1.4->pyensembl) (3.0.4)\n",
            "Requirement already satisfied: idna<3,>=2.5 in /usr/local/lib/python3.6/dist-packages (from requests>=2.5.1->datacache>=1.1.4->pyensembl) (2.9)\n",
            "Building wheels for collected packages: pyensembl, typechecks, datacache, memoized-property, gtfparse, serializable, tinytimer, progressbar33, simplejson\n",
            "  Building wheel for pyensembl (setup.py) ... \u001b[?25l\u001b[?25hdone\n",
            "  Created wheel for pyensembl: filename=pyensembl-1.8.7-cp36-none-any.whl size=56339 sha256=958342c70a49b5d5e02425b330ce7d0b49baa49d59d92f588b15b364b70e876d\n",
            "  Stored in directory: /root/.cache/pip/wheels/69/8b/4d/a6c76aa39aa3619c8b8c5ff3e09cd180df57e5e9f04c655794\n",
            "  Building wheel for typechecks (setup.py) ... \u001b[?25l\u001b[?25hdone\n",
            "  Created wheel for typechecks: filename=typechecks-0.1.0-cp36-none-any.whl size=2770 sha256=63a9b1e7292beaf2311dfa5b9c4421fa9e0e7cd1fe821a782974987917298ab3\n",
            "  Stored in directory: /root/.cache/pip/wheels/27/ad/82/4a9bbc88f1d31bb1a0c053e29efafc02f56e2ed1598f5639b2\n",
            "  Building wheel for datacache (setup.py) ... \u001b[?25l\u001b[?25hdone\n",
            "  Created wheel for datacache: filename=datacache-1.1.5-cp36-none-any.whl size=16472 sha256=84724c7b783ef7cfa567b13b47f736a4564ba60185161e9d739128f09b8c6234\n",
            "  Stored in directory: /root/.cache/pip/wheels/6b/89/37/76d23043c61b5096dd0170fd6ea2f6474b38d69965b633118a\n",
            "  Building wheel for memoized-property (setup.py) ... \u001b[?25l\u001b[?25hdone\n",
            "  Created wheel for memoized-property: filename=memoized_property-1.0.3-py2.py3-none-any.whl size=4174 sha256=82bb914fee93bbf3e13caf1914233c99e64ae8e57a19320c33c04d771a9d3d41\n",
            "  Stored in directory: /root/.cache/pip/wheels/8e/d4/82/ace27b33257f5918497d20427c0ac31d39c76e68b44d593fe6\n",
            "  Building wheel for gtfparse (setup.py) ... \u001b[?25l\u001b[?25hdone\n",
            "  Created wheel for gtfparse: filename=gtfparse-1.2.0-cp36-none-any.whl size=11883 sha256=b8613685382223eb8253f21011da8a2ca1194cce37e4c79ca368b7cbbe474471\n",
            "  Stored in directory: /root/.cache/pip/wheels/c4/27/96/6ba6fe28cbb162c326823553e3e45ac502160d1340566360f8\n",
            "  Building wheel for serializable (setup.py) ... \u001b[?25l\u001b[?25hdone\n",
            "  Created wheel for serializable: filename=serializable-0.2.1-cp36-none-any.whl size=8964 sha256=024b6ba395352861881944d71f1bdfebed5a07afe6633f9ebea35a237301f3b3\n",
            "  Stored in directory: /root/.cache/pip/wheels/fc/22/e8/d0b047f8616c931713bcf88c51a539b6439297f033f428a5b5\n",
            "  Building wheel for tinytimer (setup.py) ... \u001b[?25l\u001b[?25hdone\n",
            "  Created wheel for tinytimer: filename=tinytimer-0.0.0-cp36-none-any.whl size=1893 sha256=5122c6e7e0d6ada954179be132d3c6852fe66a54ed196575ee987c7de785a498\n",
            "  Stored in directory: /root/.cache/pip/wheels/44/70/1d/b94b98003272cf802466366ba15ee99fd3a58906e233b11db8\n",
            "  Building wheel for progressbar33 (setup.py) ... \u001b[?25l\u001b[?25hdone\n",
            "  Created wheel for progressbar33: filename=progressbar33-2.4-cp36-none-any.whl size=12153 sha256=d6d40d93c506dbaf01349e720908ffe731e4c039cd8a1fb3f19719da24dd8ddd\n",
            "  Stored in directory: /root/.cache/pip/wheels/3c/5a/22/73ae955a60c550ce36fae0f23cbb6d55bbf53123ee415f120c\n",
            "  Building wheel for simplejson (setup.py) ... \u001b[?25l\u001b[?25hdone\n",
            "  Created wheel for simplejson: filename=simplejson-3.17.0-cp36-cp36m-linux_x86_64.whl size=114208 sha256=bff65d3b159614fd48b45777daebdafd3001ddf8f4ef725002e5b72dc8049e26\n",
            "  Stored in directory: /root/.cache/pip/wheels/86/c0/83/dcd0339abb2640544bb8e0938aab2d069cef55e5647ce6e097\n",
            "Successfully built pyensembl typechecks datacache memoized-property gtfparse serializable tinytimer progressbar33 simplejson\n",
            "Installing collected packages: biopython, typechecks, appdirs, progressbar33, mock, datacache, memoized-property, gtfparse, simplejson, serializable, tinytimer, pyensembl\n",
            "Successfully installed appdirs-1.4.4 biopython-1.77 datacache-1.1.5 gtfparse-1.2.0 memoized-property-1.0.3 mock-4.0.2 progressbar33-2.4 pyensembl-1.8.7 serializable-0.2.1 simplejson-3.17.0 tinytimer-0.0.0 typechecks-0.1.0\n"
          ],
          "name": "stdout"
        }
      ]
    },
    {
      "cell_type": "code",
      "metadata": {
        "id": "LlD3-EB2ICp9",
        "colab_type": "code",
        "colab": {
          "base_uri": "https://localhost:8080/",
          "height": 122
        },
        "outputId": "cf09cbe4-f035-4e27-e8fa-89459c757e8a"
      },
      "source": [
        "from google.colab import drive\n",
        "drive.mount('/content/drive')"
      ],
      "execution_count": 2,
      "outputs": [
        {
          "output_type": "stream",
          "text": [
            "Go to this URL in a browser: https://accounts.google.com/o/oauth2/auth?client_id=947318989803-6bn6qk8qdgf4n4g3pfee6491hc0brc4i.apps.googleusercontent.com&redirect_uri=urn%3aietf%3awg%3aoauth%3a2.0%3aoob&response_type=code&scope=email%20https%3a%2f%2fwww.googleapis.com%2fauth%2fdocs.test%20https%3a%2f%2fwww.googleapis.com%2fauth%2fdrive%20https%3a%2f%2fwww.googleapis.com%2fauth%2fdrive.photos.readonly%20https%3a%2f%2fwww.googleapis.com%2fauth%2fpeopleapi.readonly\n",
            "\n",
            "Enter your authorization code:\n",
            "··········\n",
            "Mounted at /content/drive\n"
          ],
          "name": "stdout"
        }
      ]
    },
    {
      "cell_type": "code",
      "metadata": {
        "id": "4DCA8e0mIQns",
        "colab_type": "code",
        "colab": {
          "base_uri": "https://localhost:8080/",
          "height": 1000
        },
        "outputId": "df5e714d-5245-495e-80ad-8efccf66c4f6"
      },
      "source": [
        "!pyensembl install --release 97 --species human"
      ],
      "execution_count": 3,
      "outputs": [
        {
          "output_type": "stream",
          "text": [
            "2020-06-23 21:43:21,757 - pyensembl.shell - INFO - Running 'install' for EnsemblRelease(release=97, species='homo_sapiens')\n",
            "2020-06-23 21:43:21,757 - pyensembl.download_cache - INFO - Fetching /root/.cache/pyensembl/GRCh38/ensembl97/Homo_sapiens.GRCh38.97.gtf.gz from URL ftp://ftp.ensembl.org/pub/release-97/gtf/homo_sapiens/Homo_sapiens.GRCh38.97.gtf.gz\n",
            "2020-06-23 21:43:21,757 - datacache.download - INFO - Downloading ftp://ftp.ensembl.org/pub/release-97/gtf/homo_sapiens/Homo_sapiens.GRCh38.97.gtf.gz to /root/.cache/pyensembl/GRCh38/ensembl97/Homo_sapiens.GRCh38.97.gtf.gz\n",
            "2020-06-23 21:43:25,149 - pyensembl.download_cache - INFO - Fetching /root/.cache/pyensembl/GRCh38/ensembl97/Homo_sapiens.GRCh38.cdna.all.fa.gz from URL ftp://ftp.ensembl.org/pub/release-97/fasta/homo_sapiens/cdna/Homo_sapiens.GRCh38.cdna.all.fa.gz\n",
            "2020-06-23 21:43:25,150 - datacache.download - INFO - Downloading ftp://ftp.ensembl.org/pub/release-97/fasta/homo_sapiens/cdna/Homo_sapiens.GRCh38.cdna.all.fa.gz to /root/.cache/pyensembl/GRCh38/ensembl97/Homo_sapiens.GRCh38.cdna.all.fa.gz\n",
            "2020-06-23 21:43:29,473 - pyensembl.download_cache - INFO - Fetching /root/.cache/pyensembl/GRCh38/ensembl97/Homo_sapiens.GRCh38.ncrna.fa.gz from URL ftp://ftp.ensembl.org/pub/release-97/fasta/homo_sapiens/ncrna/Homo_sapiens.GRCh38.ncrna.fa.gz\n",
            "2020-06-23 21:43:29,473 - datacache.download - INFO - Downloading ftp://ftp.ensembl.org/pub/release-97/fasta/homo_sapiens/ncrna/Homo_sapiens.GRCh38.ncrna.fa.gz to /root/.cache/pyensembl/GRCh38/ensembl97/Homo_sapiens.GRCh38.ncrna.fa.gz\n",
            "2020-06-23 21:43:31,960 - pyensembl.download_cache - INFO - Fetching /root/.cache/pyensembl/GRCh38/ensembl97/Homo_sapiens.GRCh38.pep.all.fa.gz from URL ftp://ftp.ensembl.org/pub/release-97/fasta/homo_sapiens/pep/Homo_sapiens.GRCh38.pep.all.fa.gz\n",
            "2020-06-23 21:43:31,960 - datacache.download - INFO - Downloading ftp://ftp.ensembl.org/pub/release-97/fasta/homo_sapiens/pep/Homo_sapiens.GRCh38.pep.all.fa.gz to /root/.cache/pyensembl/GRCh38/ensembl97/Homo_sapiens.GRCh38.pep.all.fa.gz\n",
            "2020-06-23 21:43:34,515 - pyensembl.database - INFO - Creating database: /root/.cache/pyensembl/GRCh38/ensembl97/Homo_sapiens.GRCh38.97.gtf.db\n",
            "2020-06-23 21:43:34,516 - pyensembl.database - INFO - Reading GTF from /root/.cache/pyensembl/GRCh38/ensembl97/Homo_sapiens.GRCh38.97.gtf.gz\n",
            "2020-06-23 21:45:01,462 - datacache.database_helpers - INFO - Creating database /root/.cache/pyensembl/GRCh38/ensembl97/Homo_sapiens.GRCh38.97.gtf.db containing: exon, start_codon, transcript, gene, stop_codon, CDS\n",
            "2020-06-23 21:45:01,462 - datacache.database - INFO - Running sqlite query: \"CREATE TABLE exon (transcript_biotype TEXT NOT NULL, end INT NOT NULL, start INT NOT NULL, gene_version TEXT NOT NULL, seqname TEXT NOT NULL, gene_name TEXT NOT NULL, transcript_id TEXT NOT NULL, protein_id TEXT NOT NULL, ccds_id TEXT NOT NULL, source TEXT NOT NULL, gene_biotype TEXT NOT NULL, transcript_version TEXT NOT NULL, exon_version TEXT NOT NULL, exon_id TEXT NOT NULL, protein_version TEXT NOT NULL, exon_number TEXT NOT NULL, transcript_support_level TEXT NOT NULL, strand TEXT NOT NULL, gene_id TEXT NOT NULL, feature TEXT NOT NULL, transcript_name TEXT NOT NULL)\"\n",
            "2020-06-23 21:45:04,356 - datacache.database - INFO - Inserting 1363230 rows into table exon\n",
            "2020-06-23 21:45:10,818 - datacache.database - INFO - Creating index on exon (seqname, start, end)\n",
            "2020-06-23 21:45:11,852 - datacache.database - INFO - Creating index on exon (gene_name)\n",
            "2020-06-23 21:45:12,623 - datacache.database - INFO - Creating index on exon (gene_id)\n",
            "2020-06-23 21:45:13,641 - datacache.database - INFO - Creating index on exon (transcript_id)\n",
            "2020-06-23 21:45:14,627 - datacache.database - INFO - Creating index on exon (transcript_name)\n",
            "2020-06-23 21:45:15,542 - datacache.database - INFO - Creating index on exon (exon_id)\n",
            "2020-06-23 21:45:16,676 - datacache.database - INFO - Creating index on exon (protein_id)\n",
            "2020-06-23 21:45:17,227 - datacache.database - INFO - Creating index on exon (ccds_id)\n",
            "2020-06-23 21:45:18,037 - datacache.database - INFO - Running sqlite query: \"CREATE TABLE start_codon (transcript_biotype TEXT NOT NULL, end INT NOT NULL, start INT NOT NULL, gene_version TEXT NOT NULL, seqname TEXT NOT NULL, gene_name TEXT NOT NULL, transcript_id TEXT NOT NULL, protein_id TEXT NOT NULL, ccds_id TEXT NOT NULL, source TEXT NOT NULL, gene_biotype TEXT NOT NULL, transcript_version TEXT NOT NULL, exon_version TEXT NOT NULL, exon_id TEXT NOT NULL, protein_version TEXT NOT NULL, exon_number TEXT NOT NULL, transcript_support_level TEXT NOT NULL, strand TEXT NOT NULL, gene_id TEXT NOT NULL, feature TEXT NOT NULL, transcript_name TEXT NOT NULL)\"\n",
            "2020-06-23 21:45:18,255 - datacache.database - INFO - Inserting 87301 rows into table start_codon\n",
            "2020-06-23 21:45:18,704 - datacache.database - INFO - Creating index on start_codon (seqname, start, end)\n",
            "2020-06-23 21:45:18,759 - datacache.database - INFO - Creating index on start_codon (gene_name)\n",
            "2020-06-23 21:45:18,809 - datacache.database - INFO - Creating index on start_codon (gene_id)\n",
            "2020-06-23 21:45:18,866 - datacache.database - INFO - Creating index on start_codon (transcript_id)\n",
            "2020-06-23 21:45:18,936 - datacache.database - INFO - Creating index on start_codon (transcript_name)\n",
            "2020-06-23 21:45:19,015 - datacache.database - INFO - Creating index on start_codon (exon_id)\n",
            "2020-06-23 21:45:19,054 - datacache.database - INFO - Creating index on start_codon (protein_id)\n",
            "2020-06-23 21:45:19,091 - datacache.database - INFO - Creating index on start_codon (ccds_id)\n",
            "2020-06-23 21:45:19,141 - datacache.database - INFO - Running sqlite query: \"CREATE TABLE transcript (transcript_biotype TEXT NOT NULL, end INT NOT NULL, start INT NOT NULL, gene_version TEXT NOT NULL, seqname TEXT NOT NULL, gene_name TEXT NOT NULL, transcript_id TEXT UNIQUE PRIMARY KEY NOT NULL, protein_id TEXT NOT NULL, ccds_id TEXT NOT NULL, source TEXT NOT NULL, gene_biotype TEXT NOT NULL, transcript_version TEXT NOT NULL, exon_version TEXT NOT NULL, exon_id TEXT NOT NULL, protein_version TEXT NOT NULL, exon_number TEXT NOT NULL, transcript_support_level TEXT NOT NULL, strand TEXT NOT NULL, gene_id TEXT NOT NULL, feature TEXT NOT NULL, transcript_name TEXT NOT NULL)\"\n",
            "2020-06-23 21:45:19,718 - datacache.database - INFO - Inserting 226788 rows into table transcript\n",
            "2020-06-23 21:45:21,305 - datacache.database - INFO - Creating index on transcript (seqname, start, end)\n",
            "2020-06-23 21:45:21,434 - datacache.database - INFO - Creating index on transcript (gene_name)\n",
            "2020-06-23 21:45:21,558 - datacache.database - INFO - Creating index on transcript (gene_id)\n",
            "2020-06-23 21:45:21,713 - datacache.database - INFO - Creating index on transcript (transcript_name)\n",
            "2020-06-23 21:45:21,861 - datacache.database - INFO - Creating index on transcript (exon_id)\n",
            "2020-06-23 21:45:21,948 - datacache.database - INFO - Creating index on transcript (protein_id)\n",
            "2020-06-23 21:45:22,041 - datacache.database - INFO - Creating index on transcript (ccds_id)\n",
            "2020-06-23 21:45:22,153 - datacache.database - INFO - Running sqlite query: \"CREATE TABLE gene (transcript_biotype TEXT NOT NULL, end INT NOT NULL, start INT NOT NULL, gene_version TEXT NOT NULL, seqname TEXT NOT NULL, gene_name TEXT NOT NULL, transcript_id TEXT NOT NULL, protein_id TEXT NOT NULL, ccds_id TEXT NOT NULL, source TEXT NOT NULL, gene_biotype TEXT NOT NULL, transcript_version TEXT NOT NULL, exon_version TEXT NOT NULL, exon_id TEXT NOT NULL, protein_version TEXT NOT NULL, exon_number TEXT NOT NULL, transcript_support_level TEXT NOT NULL, strand TEXT NOT NULL, gene_id TEXT UNIQUE PRIMARY KEY NOT NULL, feature TEXT NOT NULL, transcript_name TEXT NOT NULL)\"\n",
            "2020-06-23 21:45:22,312 - datacache.database - INFO - Inserting 60617 rows into table gene\n",
            "2020-06-23 21:45:22,678 - datacache.database - INFO - Creating index on gene (seqname, start, end)\n",
            "2020-06-23 21:45:22,710 - datacache.database - INFO - Creating index on gene (gene_name)\n",
            "2020-06-23 21:45:22,745 - datacache.database - INFO - Creating index on gene (transcript_id)\n",
            "2020-06-23 21:45:22,764 - datacache.database - INFO - Creating index on gene (transcript_name)\n",
            "2020-06-23 21:45:22,784 - datacache.database - INFO - Creating index on gene (exon_id)\n",
            "2020-06-23 21:45:22,803 - datacache.database - INFO - Creating index on gene (protein_id)\n",
            "2020-06-23 21:45:22,821 - datacache.database - INFO - Creating index on gene (ccds_id)\n",
            "2020-06-23 21:45:22,839 - datacache.database - INFO - Running sqlite query: \"CREATE TABLE stop_codon (transcript_biotype TEXT NOT NULL, end INT NOT NULL, start INT NOT NULL, gene_version TEXT NOT NULL, seqname TEXT NOT NULL, gene_name TEXT NOT NULL, transcript_id TEXT NOT NULL, protein_id TEXT NOT NULL, ccds_id TEXT NOT NULL, source TEXT NOT NULL, gene_biotype TEXT NOT NULL, transcript_version TEXT NOT NULL, exon_version TEXT NOT NULL, exon_id TEXT NOT NULL, protein_version TEXT NOT NULL, exon_number TEXT NOT NULL, transcript_support_level TEXT NOT NULL, strand TEXT NOT NULL, gene_id TEXT NOT NULL, feature TEXT NOT NULL, transcript_name TEXT NOT NULL)\"\n",
            "2020-06-23 21:45:23,052 - datacache.database - INFO - Inserting 79498 rows into table stop_codon\n",
            "2020-06-23 21:45:23,436 - datacache.database - INFO - Creating index on stop_codon (seqname, start, end)\n",
            "2020-06-23 21:45:23,483 - datacache.database - INFO - Creating index on stop_codon (gene_name)\n",
            "2020-06-23 21:45:23,526 - datacache.database - INFO - Creating index on stop_codon (gene_id)\n",
            "2020-06-23 21:45:23,574 - datacache.database - INFO - Creating index on stop_codon (transcript_id)\n",
            "2020-06-23 21:45:23,629 - datacache.database - INFO - Creating index on stop_codon (transcript_name)\n",
            "2020-06-23 21:45:23,681 - datacache.database - INFO - Creating index on stop_codon (exon_id)\n",
            "2020-06-23 21:45:23,713 - datacache.database - INFO - Creating index on stop_codon (protein_id)\n",
            "2020-06-23 21:45:23,741 - datacache.database - INFO - Creating index on stop_codon (ccds_id)\n",
            "2020-06-23 21:45:23,784 - datacache.database - INFO - Running sqlite query: \"CREATE TABLE CDS (transcript_biotype TEXT NOT NULL, end INT NOT NULL, start INT NOT NULL, gene_version TEXT NOT NULL, seqname TEXT NOT NULL, gene_name TEXT NOT NULL, transcript_id TEXT NOT NULL, protein_id TEXT NOT NULL, ccds_id TEXT NOT NULL, source TEXT NOT NULL, gene_biotype TEXT NOT NULL, transcript_version TEXT NOT NULL, exon_version TEXT NOT NULL, exon_id TEXT NOT NULL, protein_version TEXT NOT NULL, exon_number TEXT NOT NULL, transcript_support_level TEXT NOT NULL, strand TEXT NOT NULL, gene_id TEXT NOT NULL, feature TEXT NOT NULL, transcript_name TEXT NOT NULL)\"\n",
            "2020-06-23 21:45:25,485 - datacache.database - INFO - Inserting 755075 rows into table CDS\n",
            "2020-06-23 21:45:29,116 - datacache.database - INFO - Creating index on CDS (seqname, start, end)\n",
            "2020-06-23 21:45:29,665 - datacache.database - INFO - Creating index on CDS (gene_name)\n",
            "2020-06-23 21:45:30,071 - datacache.database - INFO - Creating index on CDS (gene_id)\n",
            "2020-06-23 21:45:30,526 - datacache.database - INFO - Creating index on CDS (transcript_id)\n",
            "2020-06-23 21:45:30,987 - datacache.database - INFO - Creating index on CDS (transcript_name)\n",
            "2020-06-23 21:45:31,435 - datacache.database - INFO - Creating index on CDS (exon_id)\n",
            "2020-06-23 21:45:31,747 - datacache.database - INFO - Creating index on CDS (protein_id)\n",
            "2020-06-23 21:45:32,210 - datacache.database - INFO - Creating index on CDS (ccds_id)\n",
            "2020-06-23 21:45:32,607 - datacache.database - INFO - Running sqlite query: \"CREATE TABLE _datacache_metadata (version INT)\"\n",
            "2020-06-23 21:45:32,607 - datacache.database - INFO - Running sqlite query: \"INSERT INTO _datacache_metadata VALUES (3)\"\n",
            "2020-06-23 21:45:35,343 - pyensembl.sequence_data - INFO - Parsing sequences from FASTA file at /root/.cache/pyensembl/GRCh38/ensembl97/Homo_sapiens.GRCh38.cdna.all.fa.gz\n",
            "2020-06-23 21:45:45,669 - pyensembl.sequence_data - INFO - Saving sequence dictionary to /root/.cache/pyensembl/GRCh38/ensembl97/Homo_sapiens.GRCh38.cdna.all.fa.gz.pickle\n",
            "2020-06-23 21:45:47,803 - pyensembl.sequence_data - INFO - Parsing sequences from FASTA file at /root/.cache/pyensembl/GRCh38/ensembl97/Homo_sapiens.GRCh38.ncrna.fa.gz\n",
            "2020-06-23 21:45:50,665 - pyensembl.sequence_data - INFO - Saving sequence dictionary to /root/.cache/pyensembl/GRCh38/ensembl97/Homo_sapiens.GRCh38.ncrna.fa.gz.pickle\n",
            "2020-06-23 21:45:50,870 - pyensembl.sequence_data - INFO - Parsing sequences from FASTA file at /root/.cache/pyensembl/GRCh38/ensembl97/Homo_sapiens.GRCh38.pep.all.fa.gz\n",
            "2020-06-23 21:45:52,740 - pyensembl.sequence_data - INFO - Saving sequence dictionary to /root/.cache/pyensembl/GRCh38/ensembl97/Homo_sapiens.GRCh38.pep.all.fa.gz.pickle\n"
          ],
          "name": "stdout"
        }
      ]
    },
    {
      "cell_type": "code",
      "metadata": {
        "id": "xMxJPPWxHnfj",
        "colab_type": "code",
        "colab": {}
      },
      "source": [
        "import pandas as pd\n",
        "import numpy as np\n",
        "import gzip\n",
        "from tqdm.notebook import tqdm\n",
        "\n",
        "from Bio import SeqIO   # for reading fasta files\n",
        "from pyensembl import EnsemblRelease   # to get the gene list\n",
        "\n",
        "ENSEMBL_RELEASE = 97\n",
        "DNA_TOPLEVEL_FASTA_PATH = \"/content/drive/My Drive/data/ensembl/Homo_sapiens.GRCh38.dna.toplevel.fa.gz\"\n",
        "\n",
        "# to generate random sequences\n",
        "N = 50_000    # how many\n",
        "K = 200       # how long\n",
        "MIN_DIST = 50 # how far should they be from the gene\n",
        "OUTPUT_FILE = '/content/drive/My Drive/data/random/random_seqs3.csv'   # where to save them\n",
        "# OUTPUT_FILE = 'random_seqs.csv'\n",
        "\n",
        "CHRS = [str(chr) for chr in range(1,23)] + ['X', 'Y', 'MT']"
      ],
      "execution_count": 4,
      "outputs": []
    },
    {
      "cell_type": "markdown",
      "metadata": {
        "id": "6n9O9VMvHnfo",
        "colab_type": "text"
      },
      "source": [
        "## Get length of each chromosome"
      ]
    },
    {
      "cell_type": "code",
      "metadata": {
        "id": "Q5hrCSRNHnfp",
        "colab_type": "code",
        "colab": {
          "base_uri": "https://localhost:8080/",
          "height": 474,
          "referenced_widgets": [
            "bdc63ccaa9824ea69b708e68a8774b5f",
            "7cd2f240353f48c695f68e8b3be9ee71",
            "08565919d7e8478da95b8aea8af856ef",
            "ffa7a068467b48229ee4efa5a172068e",
            "5a0aacaaa89e48deb843d9e38c411c02",
            "a97b43a4aa054028abb6f0d7517d2706",
            "b0030d8f60cc458f8986ef96972b388e",
            "39d893b4f19643438cbe8b8668b11a19"
          ]
        },
        "outputId": "f7c11792-f98a-463b-dda7-4dd27e5a2309"
      },
      "source": [
        "def get_chr_lengths(fasta_path=DNA_TOPLEVEL_FASTA_PATH):\n",
        "    chr_lengths = {}\n",
        "    \n",
        "    with gzip.open(fasta_path, \"rt\") as handle:\n",
        "        for record in tqdm(SeqIO.parse(handle, \"fasta\"), total=24):\n",
        "            chr_lengths[record.id] = len(record.seq)\n",
        "            if record.id == \"MT\": \n",
        "                # stop, do not read small contigs\n",
        "                break\n",
        "    \n",
        "    # check that we have all chromosomes\n",
        "    assert set(chr_lengths.keys()) == set(CHRS) \n",
        "    \n",
        "    return chr_lengths\n",
        "\n",
        "contig_lengths = get_chr_lengths()\n",
        "contig_lengths"
      ],
      "execution_count": 5,
      "outputs": [
        {
          "output_type": "display_data",
          "data": {
            "application/vnd.jupyter.widget-view+json": {
              "model_id": "bdc63ccaa9824ea69b708e68a8774b5f",
              "version_minor": 0,
              "version_major": 2
            },
            "text/plain": [
              "HBox(children=(FloatProgress(value=0.0, max=24.0), HTML(value='')))"
            ]
          },
          "metadata": {
            "tags": []
          }
        },
        {
          "output_type": "execute_result",
          "data": {
            "text/plain": [
              "{'1': 248956422,\n",
              " '10': 133797422,\n",
              " '11': 135086622,\n",
              " '12': 133275309,\n",
              " '13': 114364328,\n",
              " '14': 107043718,\n",
              " '15': 101991189,\n",
              " '16': 90338345,\n",
              " '17': 83257441,\n",
              " '18': 80373285,\n",
              " '19': 58617616,\n",
              " '2': 242193529,\n",
              " '20': 64444167,\n",
              " '21': 46709983,\n",
              " '22': 50818468,\n",
              " '3': 198295559,\n",
              " '4': 190214555,\n",
              " '5': 181538259,\n",
              " '6': 170805979,\n",
              " '7': 159345973,\n",
              " '8': 145138636,\n",
              " '9': 138394717,\n",
              " 'MT': 16569,\n",
              " 'X': 156040895,\n",
              " 'Y': 57227415}"
            ]
          },
          "metadata": {
            "tags": []
          },
          "execution_count": 5
        }
      ]
    },
    {
      "cell_type": "code",
      "metadata": {
        "id": "c4WSKWoRHnfu",
        "colab_type": "code",
        "colab": {
          "base_uri": "https://localhost:8080/",
          "height": 34
        },
        "outputId": "b19c3ce1-15f1-437c-c6a6-211daf162a4c"
      },
      "source": [
        "total_length = pd.Series(contig_lengths).sum()\n",
        "total_length"
      ],
      "execution_count": 6,
      "outputs": [
        {
          "output_type": "execute_result",
          "data": {
            "text/plain": [
              "3088286401"
            ]
          },
          "metadata": {
            "tags": []
          },
          "execution_count": 6
        }
      ]
    },
    {
      "cell_type": "markdown",
      "metadata": {
        "id": "eLtdacLDHnfx",
        "colab_type": "text"
      },
      "source": [
        "## Get gene list"
      ]
    },
    {
      "cell_type": "code",
      "metadata": {
        "id": "iRzWAYenHnfy",
        "colab_type": "code",
        "colab": {}
      },
      "source": [
        "# release 97 uses human reference genome GRCh38\n",
        "data = EnsemblRelease(ENSEMBL_RELEASE)"
      ],
      "execution_count": 7,
      "outputs": []
    },
    {
      "cell_type": "code",
      "metadata": {
        "id": "EVJQO00LHnf0",
        "colab_type": "code",
        "colab": {
          "base_uri": "https://localhost:8080/",
          "height": 34
        },
        "outputId": "630b5f81-81a2-4bea-d7c9-1a9e604ae27c"
      },
      "source": [
        "human_genes = data.genes()\n",
        "len(human_genes)"
      ],
      "execution_count": 8,
      "outputs": [
        {
          "output_type": "execute_result",
          "data": {
            "text/plain": [
              "60617"
            ]
          },
          "metadata": {
            "tags": []
          },
          "execution_count": 8
        }
      ]
    },
    {
      "cell_type": "code",
      "metadata": {
        "id": "8r9jj_B-Hnf3",
        "colab_type": "code",
        "colab": {
          "base_uri": "https://localhost:8080/",
          "height": 34
        },
        "outputId": "47425c69-9510-49ed-e12b-afe154c2fabe"
      },
      "source": [
        "human_genes[0]"
      ],
      "execution_count": 9,
      "outputs": [
        {
          "output_type": "execute_result",
          "data": {
            "text/plain": [
              "Gene(gene_id='ENSG00000000003', gene_name='TSPAN6', biotype='protein_coding', contig='X', start=100627109, end=100639991, strand='-', genome='GRCh38')"
            ]
          },
          "metadata": {
            "tags": []
          },
          "execution_count": 9
        }
      ]
    },
    {
      "cell_type": "code",
      "metadata": {
        "id": "97lrmGvNHnf6",
        "colab_type": "code",
        "colab": {
          "base_uri": "https://localhost:8080/",
          "height": 204
        },
        "outputId": "c82d6174-59cc-43b2-ee21-801cd8cc23fd"
      },
      "source": [
        "human_genes_tuples = [(x.gene_id, x.gene_name, x.biotype, x.contig, x.start, x.end, x.strand) for x in human_genes]\n",
        "human_genes_table = pd.DataFrame.from_records(human_genes_tuples, columns=[\"id\", \"symbol\", \"biotype\", \"chr\", \"start\", \"end\", \"strand\"])\n",
        "assert all(human_genes_table.start <= human_genes_table.end)\n",
        "\n",
        "human_genes_table.head()"
      ],
      "execution_count": 10,
      "outputs": [
        {
          "output_type": "execute_result",
          "data": {
            "text/html": [
              "<div>\n",
              "<style scoped>\n",
              "    .dataframe tbody tr th:only-of-type {\n",
              "        vertical-align: middle;\n",
              "    }\n",
              "\n",
              "    .dataframe tbody tr th {\n",
              "        vertical-align: top;\n",
              "    }\n",
              "\n",
              "    .dataframe thead th {\n",
              "        text-align: right;\n",
              "    }\n",
              "</style>\n",
              "<table border=\"1\" class=\"dataframe\">\n",
              "  <thead>\n",
              "    <tr style=\"text-align: right;\">\n",
              "      <th></th>\n",
              "      <th>id</th>\n",
              "      <th>symbol</th>\n",
              "      <th>biotype</th>\n",
              "      <th>chr</th>\n",
              "      <th>start</th>\n",
              "      <th>end</th>\n",
              "      <th>strand</th>\n",
              "    </tr>\n",
              "  </thead>\n",
              "  <tbody>\n",
              "    <tr>\n",
              "      <th>0</th>\n",
              "      <td>ENSG00000000003</td>\n",
              "      <td>TSPAN6</td>\n",
              "      <td>protein_coding</td>\n",
              "      <td>X</td>\n",
              "      <td>100627109</td>\n",
              "      <td>100639991</td>\n",
              "      <td>-</td>\n",
              "    </tr>\n",
              "    <tr>\n",
              "      <th>1</th>\n",
              "      <td>ENSG00000000005</td>\n",
              "      <td>TNMD</td>\n",
              "      <td>protein_coding</td>\n",
              "      <td>X</td>\n",
              "      <td>100584936</td>\n",
              "      <td>100599885</td>\n",
              "      <td>+</td>\n",
              "    </tr>\n",
              "    <tr>\n",
              "      <th>2</th>\n",
              "      <td>ENSG00000000419</td>\n",
              "      <td>DPM1</td>\n",
              "      <td>protein_coding</td>\n",
              "      <td>20</td>\n",
              "      <td>50934867</td>\n",
              "      <td>50958555</td>\n",
              "      <td>-</td>\n",
              "    </tr>\n",
              "    <tr>\n",
              "      <th>3</th>\n",
              "      <td>ENSG00000000457</td>\n",
              "      <td>SCYL3</td>\n",
              "      <td>protein_coding</td>\n",
              "      <td>1</td>\n",
              "      <td>169849631</td>\n",
              "      <td>169894267</td>\n",
              "      <td>-</td>\n",
              "    </tr>\n",
              "    <tr>\n",
              "      <th>4</th>\n",
              "      <td>ENSG00000000460</td>\n",
              "      <td>C1orf112</td>\n",
              "      <td>protein_coding</td>\n",
              "      <td>1</td>\n",
              "      <td>169662007</td>\n",
              "      <td>169854080</td>\n",
              "      <td>+</td>\n",
              "    </tr>\n",
              "  </tbody>\n",
              "</table>\n",
              "</div>"
            ],
            "text/plain": [
              "                id    symbol         biotype chr      start        end strand\n",
              "0  ENSG00000000003    TSPAN6  protein_coding   X  100627109  100639991      -\n",
              "1  ENSG00000000005      TNMD  protein_coding   X  100584936  100599885      +\n",
              "2  ENSG00000000419      DPM1  protein_coding  20   50934867   50958555      -\n",
              "3  ENSG00000000457     SCYL3  protein_coding   1  169849631  169894267      -\n",
              "4  ENSG00000000460  C1orf112  protein_coding   1  169662007  169854080      +"
            ]
          },
          "metadata": {
            "tags": []
          },
          "execution_count": 10
        }
      ]
    },
    {
      "cell_type": "code",
      "metadata": {
        "id": "B2kcMGGYHnf8",
        "colab_type": "code",
        "colab": {
          "base_uri": "https://localhost:8080/",
          "height": 459
        },
        "outputId": "710b5305-2155-4295-9500-b63be6fd368f"
      },
      "source": [
        "excluded_regions = human_genes_table[[\"chr\", \"start\", \"end\"]][human_genes_table.chr.isin(CHRS)].copy()\n",
        "excluded_regions.chr.value_counts()"
      ],
      "execution_count": 11,
      "outputs": [
        {
          "output_type": "execute_result",
          "data": {
            "text/plain": [
              "1     5471\n",
              "2     4196\n",
              "11    3360\n",
              "3     3185\n",
              "17    3060\n",
              "6     3059\n",
              "12    3054\n",
              "7     3014\n",
              "19    2992\n",
              "5     2983\n",
              "4     2651\n",
              "16    2556\n",
              "8     2482\n",
              "X     2422\n",
              "10    2332\n",
              "9     2327\n",
              "14    2282\n",
              "15    2221\n",
              "20    1457\n",
              "13    1397\n",
              "22    1384\n",
              "18    1242\n",
              "21     872\n",
              "Y      522\n",
              "MT      37\n",
              "Name: chr, dtype: int64"
            ]
          },
          "metadata": {
            "tags": []
          },
          "execution_count": 11
        }
      ]
    },
    {
      "cell_type": "code",
      "metadata": {
        "id": "P2X_MtbZHnf_",
        "colab_type": "code",
        "colab": {
          "base_uri": "https://localhost:8080/",
          "height": 204
        },
        "outputId": "4625aa12-fa63-414c-8a96-86cb6cf2a73b"
      },
      "source": [
        "excluded_regions.head()"
      ],
      "execution_count": 12,
      "outputs": [
        {
          "output_type": "execute_result",
          "data": {
            "text/html": [
              "<div>\n",
              "<style scoped>\n",
              "    .dataframe tbody tr th:only-of-type {\n",
              "        vertical-align: middle;\n",
              "    }\n",
              "\n",
              "    .dataframe tbody tr th {\n",
              "        vertical-align: top;\n",
              "    }\n",
              "\n",
              "    .dataframe thead th {\n",
              "        text-align: right;\n",
              "    }\n",
              "</style>\n",
              "<table border=\"1\" class=\"dataframe\">\n",
              "  <thead>\n",
              "    <tr style=\"text-align: right;\">\n",
              "      <th></th>\n",
              "      <th>chr</th>\n",
              "      <th>start</th>\n",
              "      <th>end</th>\n",
              "    </tr>\n",
              "  </thead>\n",
              "  <tbody>\n",
              "    <tr>\n",
              "      <th>0</th>\n",
              "      <td>X</td>\n",
              "      <td>100627109</td>\n",
              "      <td>100639991</td>\n",
              "    </tr>\n",
              "    <tr>\n",
              "      <th>1</th>\n",
              "      <td>X</td>\n",
              "      <td>100584936</td>\n",
              "      <td>100599885</td>\n",
              "    </tr>\n",
              "    <tr>\n",
              "      <th>2</th>\n",
              "      <td>20</td>\n",
              "      <td>50934867</td>\n",
              "      <td>50958555</td>\n",
              "    </tr>\n",
              "    <tr>\n",
              "      <th>3</th>\n",
              "      <td>1</td>\n",
              "      <td>169849631</td>\n",
              "      <td>169894267</td>\n",
              "    </tr>\n",
              "    <tr>\n",
              "      <th>4</th>\n",
              "      <td>1</td>\n",
              "      <td>169662007</td>\n",
              "      <td>169854080</td>\n",
              "    </tr>\n",
              "  </tbody>\n",
              "</table>\n",
              "</div>"
            ],
            "text/plain": [
              "  chr      start        end\n",
              "0   X  100627109  100639991\n",
              "1   X  100584936  100599885\n",
              "2  20   50934867   50958555\n",
              "3   1  169849631  169894267\n",
              "4   1  169662007  169854080"
            ]
          },
          "metadata": {
            "tags": []
          },
          "execution_count": 12
        }
      ]
    },
    {
      "cell_type": "code",
      "metadata": {
        "id": "OtHtScsUHngB",
        "colab_type": "code",
        "colab": {
          "base_uri": "https://localhost:8080/",
          "height": 51
        },
        "outputId": "2deb68c2-9050-4322-a4a7-6db872a1160d"
      },
      "source": [
        "total_gene_length = ((excluded_regions.end - excluded_regions.start) + 1).sum()\n",
        "total_gene_length, total_gene_length/total_length"
      ],
      "execution_count": 13,
      "outputs": [
        {
          "output_type": "stream",
          "text": [
            "INFO:numexpr.utils:NumExpr defaulting to 2 threads.\n"
          ],
          "name": "stderr"
        },
        {
          "output_type": "execute_result",
          "data": {
            "text/plain": [
              "(1976405758, 0.6399684165820992)"
            ]
          },
          "metadata": {
            "tags": []
          },
          "execution_count": 13
        }
      ]
    },
    {
      "cell_type": "code",
      "metadata": {
        "id": "j8UQRaVcHngD",
        "colab_type": "code",
        "colab": {}
      },
      "source": [
        "excluded_regions['start_dist'] = excluded_regions['start'] - MIN_DIST - K\n",
        "excluded_regions['end_dist'] = excluded_regions['end'] + MIN_DIST"
      ],
      "execution_count": 14,
      "outputs": []
    },
    {
      "cell_type": "markdown",
      "metadata": {
        "id": "QLICtBw9HngG",
        "colab_type": "text"
      },
      "source": [
        "## Check on chr1 how many possible seqs are really there"
      ]
    },
    {
      "cell_type": "code",
      "metadata": {
        "id": "4UanHKR1HngG",
        "colab_type": "code",
        "colab": {
          "base_uri": "https://localhost:8080/",
          "height": 66,
          "referenced_widgets": [
            "58c0985d5de5468b973d330cd6f88464",
            "8ddf56b41c6f402899716d9da900ce13",
            "d2d0287a3cbe4f8093a5ffcdb08e3e63",
            "2bd93d3fd03c46e68c08671ec9f4e419",
            "9e89046cadad43d3a592cb457191751a",
            "7b69f56a91744922a0342b87f5a7689a",
            "c6960880c3484e0da1141a978a615acb",
            "42b5378f4c22402db59e31af29e0ea66"
          ]
        },
        "outputId": "d81f3e51-c561-4f79-ceb1-2b54c38447aa"
      },
      "source": [
        "c = '1'\n",
        "c_len = contig_lengths[c]\n",
        "possible_seq_starts = np.ones(c_len, dtype=bool)\n",
        "\n",
        "for i in tqdm(range(excluded_regions.shape[0])):\n",
        "    if excluded_regions.chr.values[i] == c:\n",
        "        start = max(excluded_regions.start_dist.values[i], 1)\n",
        "        end = min(excluded_regions.end_dist.values[i], c_len)\n",
        "        possible_seq_starts[(start-1):end] = 0"
      ],
      "execution_count": 15,
      "outputs": [
        {
          "output_type": "display_data",
          "data": {
            "application/vnd.jupyter.widget-view+json": {
              "model_id": "58c0985d5de5468b973d330cd6f88464",
              "version_minor": 0,
              "version_major": 2
            },
            "text/plain": [
              "HBox(children=(FloatProgress(value=0.0, max=60558.0), HTML(value='')))"
            ]
          },
          "metadata": {
            "tags": []
          }
        },
        {
          "output_type": "stream",
          "text": [
            "\n"
          ],
          "name": "stdout"
        }
      ]
    },
    {
      "cell_type": "code",
      "metadata": {
        "id": "D1yHXijcHngJ",
        "colab_type": "code",
        "colab": {
          "base_uri": "https://localhost:8080/",
          "height": 34
        },
        "outputId": "2f75e1d9-000d-4cfe-f9e9-baaf7566d128"
      },
      "source": [
        "possible_seq_starts.sum(), possible_seq_starts.sum()/c_len"
      ],
      "execution_count": 16,
      "outputs": [
        {
          "output_type": "execute_result",
          "data": {
            "text/plain": [
              "(101541431, 0.4078682935120268)"
            ]
          },
          "metadata": {
            "tags": []
          },
          "execution_count": 16
        }
      ]
    },
    {
      "cell_type": "code",
      "metadata": {
        "id": "2UyDbFRnHngL",
        "colab_type": "code",
        "colab": {
          "base_uri": "https://localhost:8080/",
          "height": 714
        },
        "outputId": "1b844434-c239-4ac8-8877-13946b926129"
      },
      "source": [
        "biotypes = pd.Series([g.biotype for g in human_genes])\n",
        "biotypes.value_counts()"
      ],
      "execution_count": 17,
      "outputs": [
        {
          "output_type": "execute_result",
          "data": {
            "text/plain": [
              "protein_coding                        19986\n",
              "lncRNA                                16828\n",
              "processed_pseudogene                  10170\n",
              "unprocessed_pseudogene                 2626\n",
              "misc_RNA                               2220\n",
              "snRNA                                  1910\n",
              "miRNA                                  1879\n",
              "TEC                                    1064\n",
              "snoRNA                                  942\n",
              "transcribed_unprocessed_pseudogene      916\n",
              "rRNA_pseudogene                         499\n",
              "transcribed_processed_pseudogene        491\n",
              "IG_V_pseudogene                         188\n",
              "IG_V_gene                               144\n",
              "transcribed_unitary_pseudogene          129\n",
              "TR_V_gene                               106\n",
              "unitary_pseudogene                       97\n",
              "TR_J_gene                                79\n",
              "rRNA                                     58\n",
              "scaRNA                                   49\n",
              "polymorphic_pseudogene                   42\n",
              "IG_D_gene                                37\n",
              "TR_V_pseudogene                          33\n",
              "pseudogene                               22\n",
              "Mt_tRNA                                  22\n",
              "IG_J_gene                                18\n",
              "IG_C_gene                                14\n",
              "IG_C_pseudogene                           9\n",
              "ribozyme                                  8\n",
              "TR_C_gene                                 6\n",
              "sRNA                                      5\n",
              "TR_D_gene                                 4\n",
              "TR_J_pseudogene                           4\n",
              "IG_J_pseudogene                           3\n",
              "Mt_rRNA                                   2\n",
              "translated_unprocessed_pseudogene         2\n",
              "translated_processed_pseudogene           2\n",
              "IG_pseudogene                             1\n",
              "scRNA                                     1\n",
              "vaultRNA                                  1\n",
              "dtype: int64"
            ]
          },
          "metadata": {
            "tags": []
          },
          "execution_count": 17
        }
      ]
    },
    {
      "cell_type": "markdown",
      "metadata": {
        "id": "zQ4J1qGeHngN",
        "colab_type": "text"
      },
      "source": [
        "## Random sequence generation"
      ]
    },
    {
      "cell_type": "code",
      "metadata": {
        "id": "M_-EBl92HngN",
        "colab_type": "code",
        "colab": {}
      },
      "source": [
        "def get_random_chr(chr_lengths: pd.Series):\n",
        "    chr_probs = chr_lengths / chr_lengths.sum()\n",
        "    return CHRS[np.argwhere(np.random.multinomial(1, chr_probs))[0][0]]\n",
        "\n",
        "def is_intersecting(c, pos, df_forbidden):\n",
        "    intersecting = (df_forbidden.chr.values == c) & (df_forbidden.start_dist.values <= pos) & (df_forbidden.end_dist.values >= pos)\n",
        "    return intersecting.any()\n",
        "\n",
        "def get_random_pos(df_forbidden: pd.DataFrame, chr_lengths: pd.Series):\n",
        "    c = get_random_chr(chr_lengths)\n",
        "    c_len = chr_lengths[c]\n",
        "    pos = np.random.randint(c_len) + 1\n",
        "    \n",
        "    while is_intersecting(c, pos, df_forbidden):\n",
        "        pos = np.random.randint(c_len) + 1\n",
        "    \n",
        "    return c, pos"
      ],
      "execution_count": 18,
      "outputs": []
    },
    {
      "cell_type": "code",
      "metadata": {
        "id": "yXyVAf2IHngP",
        "colab_type": "code",
        "colab": {
          "base_uri": "https://localhost:8080/",
          "height": 34
        },
        "outputId": "90aacd29-213e-47b3-b260-66955f8a8211"
      },
      "source": [
        "chr_lengths = pd.Series(contig_lengths)\n",
        "get_random_chr(chr_lengths) "
      ],
      "execution_count": 19,
      "outputs": [
        {
          "output_type": "execute_result",
          "data": {
            "text/plain": [
              "'17'"
            ]
          },
          "metadata": {
            "tags": []
          },
          "execution_count": 19
        }
      ]
    },
    {
      "cell_type": "code",
      "metadata": {
        "id": "ZGpVCmGyHngR",
        "colab_type": "code",
        "colab": {
          "base_uri": "https://localhost:8080/",
          "height": 34
        },
        "outputId": "dc6a4b47-a9c2-4c21-d7e8-335591c688b6"
      },
      "source": [
        "is_intersecting('1', 11_000_000, excluded_regions)"
      ],
      "execution_count": 20,
      "outputs": [
        {
          "output_type": "execute_result",
          "data": {
            "text/plain": [
              "False"
            ]
          },
          "metadata": {
            "tags": []
          },
          "execution_count": 20
        }
      ]
    },
    {
      "cell_type": "code",
      "metadata": {
        "id": "A9ajShUQHngT",
        "colab_type": "code",
        "colab": {
          "base_uri": "https://localhost:8080/",
          "height": 34
        },
        "outputId": "b22bb031-09fa-45f6-ef4a-a8c2f3cee4ca"
      },
      "source": [
        "get_random_pos(excluded_regions, chr_lengths)"
      ],
      "execution_count": 21,
      "outputs": [
        {
          "output_type": "execute_result",
          "data": {
            "text/plain": [
              "('14', 39388941)"
            ]
          },
          "metadata": {
            "tags": []
          },
          "execution_count": 21
        }
      ]
    },
    {
      "cell_type": "code",
      "metadata": {
        "id": "XomHieDzHngV",
        "colab_type": "code",
        "colab": {
          "base_uri": "https://localhost:8080/",
          "height": 66,
          "referenced_widgets": [
            "62782fd417644eb197e76e9f25e0203b",
            "411e86e648ea4a03b31062a0b000ac7a",
            "7e76e763c09d4d71922ec3a7df2a5437",
            "8a9749fd9d8d4ea4a63c824daffe490c",
            "365d50b708874d9f8b7d1fe9942df947",
            "24be381177454cfb86f5c01386c4cbb5",
            "5280e7a9b1e64ed78d7b3a4e2be0b59b",
            "22f7f83462f24b9da291b9f988f21b3a"
          ]
        },
        "outputId": "44e29c72-5025-4482-e68d-1d69eb0da240"
      },
      "source": [
        "random_seqs = [get_random_pos(excluded_regions, chr_lengths) for i in tqdm(range(N))]"
      ],
      "execution_count": 22,
      "outputs": [
        {
          "output_type": "display_data",
          "data": {
            "application/vnd.jupyter.widget-view+json": {
              "model_id": "62782fd417644eb197e76e9f25e0203b",
              "version_minor": 0,
              "version_major": 2
            },
            "text/plain": [
              "HBox(children=(FloatProgress(value=0.0, max=50000.0), HTML(value='')))"
            ]
          },
          "metadata": {
            "tags": []
          }
        },
        {
          "output_type": "stream",
          "text": [
            "\n"
          ],
          "name": "stdout"
        }
      ]
    },
    {
      "cell_type": "markdown",
      "metadata": {
        "id": "MqdGuPVqHngX",
        "colab_type": "text"
      },
      "source": [
        "## Get actual genomic sequences"
      ]
    },
    {
      "cell_type": "code",
      "metadata": {
        "id": "Ia_xkzHqHngX",
        "colab_type": "code",
        "colab": {}
      },
      "source": [
        "seqs = pd.DataFrame.from_records(random_seqs, columns=[\"chr\", \"start\"])\n",
        "seqs['end'] = seqs['start'] + K - 1\n",
        "seqs['seq'] = ''"
      ],
      "execution_count": 23,
      "outputs": []
    },
    {
      "cell_type": "code",
      "metadata": {
        "id": "HPUTyeL4HngZ",
        "colab_type": "code",
        "colab": {
          "base_uri": "https://localhost:8080/",
          "height": 204
        },
        "outputId": "9cd66c78-958b-4ec2-ed6d-f46d57f828a2"
      },
      "source": [
        "seqs.head()"
      ],
      "execution_count": 24,
      "outputs": [
        {
          "output_type": "execute_result",
          "data": {
            "text/html": [
              "<div>\n",
              "<style scoped>\n",
              "    .dataframe tbody tr th:only-of-type {\n",
              "        vertical-align: middle;\n",
              "    }\n",
              "\n",
              "    .dataframe tbody tr th {\n",
              "        vertical-align: top;\n",
              "    }\n",
              "\n",
              "    .dataframe thead th {\n",
              "        text-align: right;\n",
              "    }\n",
              "</style>\n",
              "<table border=\"1\" class=\"dataframe\">\n",
              "  <thead>\n",
              "    <tr style=\"text-align: right;\">\n",
              "      <th></th>\n",
              "      <th>chr</th>\n",
              "      <th>start</th>\n",
              "      <th>end</th>\n",
              "      <th>seq</th>\n",
              "    </tr>\n",
              "  </thead>\n",
              "  <tbody>\n",
              "    <tr>\n",
              "      <th>0</th>\n",
              "      <td>5</td>\n",
              "      <td>123461076</td>\n",
              "      <td>123461275</td>\n",
              "      <td></td>\n",
              "    </tr>\n",
              "    <tr>\n",
              "      <th>1</th>\n",
              "      <td>5</td>\n",
              "      <td>52230676</td>\n",
              "      <td>52230875</td>\n",
              "      <td></td>\n",
              "    </tr>\n",
              "    <tr>\n",
              "      <th>2</th>\n",
              "      <td>5</td>\n",
              "      <td>71940500</td>\n",
              "      <td>71940699</td>\n",
              "      <td></td>\n",
              "    </tr>\n",
              "    <tr>\n",
              "      <th>3</th>\n",
              "      <td>4</td>\n",
              "      <td>69974223</td>\n",
              "      <td>69974422</td>\n",
              "      <td></td>\n",
              "    </tr>\n",
              "    <tr>\n",
              "      <th>4</th>\n",
              "      <td>13</td>\n",
              "      <td>13243412</td>\n",
              "      <td>13243611</td>\n",
              "      <td></td>\n",
              "    </tr>\n",
              "  </tbody>\n",
              "</table>\n",
              "</div>"
            ],
            "text/plain": [
              "  chr      start        end seq\n",
              "0   5  123461076  123461275    \n",
              "1   5   52230676   52230875    \n",
              "2   5   71940500   71940699    \n",
              "3   4   69974223   69974422    \n",
              "4  13   13243412   13243611    "
            ]
          },
          "metadata": {
            "tags": []
          },
          "execution_count": 24
        }
      ]
    },
    {
      "cell_type": "code",
      "metadata": {
        "id": "TQsOjxmSHngb",
        "colab_type": "code",
        "colab": {
          "base_uri": "https://localhost:8080/",
          "height": 49,
          "referenced_widgets": [
            "cdb5ac1429b94fd1997d52fcb299b60b",
            "75a737b105ee421fa9e83dc0d0364086",
            "61821d2aec60481ebd6f845c02d31be9",
            "2888de4bb29b45169c5afa8c0ea43677",
            "ea13652263e2401db167b6baef11f1ab",
            "c9f12af357704951a773eb611dd4cc4d",
            "aae589e287ab40388a7b239a93dbad16",
            "f4a5adeb75e1495bbe9fc75d8fffdb88"
          ]
        },
        "outputId": "94a78fca-fac4-4629-ee11-ae9817320c74"
      },
      "source": [
        "def which(self):\n",
        "    try:\n",
        "        self = list(iter(self))\n",
        "    except TypeError as e:\n",
        "        raise Exception(\"\"\"'which' method can only be applied to iterables.\n",
        "        {}\"\"\".format(str(e)))\n",
        "    indices = [i for i, x in enumerate(self) if bool(x) == True]\n",
        "    return(indices)\n",
        "\n",
        "with gzip.open(DNA_TOPLEVEL_FASTA_PATH, \"rt\") as handle:\n",
        "    for record in tqdm(SeqIO.parse(handle, \"fasta\"), total=24):\n",
        "        sel_seqs = which(seqs.chr == record.id)\n",
        "        for i in sel_seqs:\n",
        "            seqs.loc[i, \"seq\"] = str(record.seq[(seqs.start[i]-1):seqs.end[i]])\n",
        "        \n",
        "        if record.id == \"MT\": \n",
        "            # stop, do not read small contigs\n",
        "            break"
      ],
      "execution_count": 25,
      "outputs": [
        {
          "output_type": "display_data",
          "data": {
            "application/vnd.jupyter.widget-view+json": {
              "model_id": "cdb5ac1429b94fd1997d52fcb299b60b",
              "version_minor": 0,
              "version_major": 2
            },
            "text/plain": [
              "HBox(children=(FloatProgress(value=0.0, max=24.0), HTML(value='')))"
            ]
          },
          "metadata": {
            "tags": []
          }
        }
      ]
    },
    {
      "cell_type": "code",
      "metadata": {
        "id": "leWUPmccHngd",
        "colab_type": "code",
        "colab": {
          "base_uri": "https://localhost:8080/",
          "height": 204
        },
        "outputId": "bb9ff347-0b5b-4e0d-c501-902680df68d4"
      },
      "source": [
        "seqs.head()"
      ],
      "execution_count": 26,
      "outputs": [
        {
          "output_type": "execute_result",
          "data": {
            "text/html": [
              "<div>\n",
              "<style scoped>\n",
              "    .dataframe tbody tr th:only-of-type {\n",
              "        vertical-align: middle;\n",
              "    }\n",
              "\n",
              "    .dataframe tbody tr th {\n",
              "        vertical-align: top;\n",
              "    }\n",
              "\n",
              "    .dataframe thead th {\n",
              "        text-align: right;\n",
              "    }\n",
              "</style>\n",
              "<table border=\"1\" class=\"dataframe\">\n",
              "  <thead>\n",
              "    <tr style=\"text-align: right;\">\n",
              "      <th></th>\n",
              "      <th>chr</th>\n",
              "      <th>start</th>\n",
              "      <th>end</th>\n",
              "      <th>seq</th>\n",
              "    </tr>\n",
              "  </thead>\n",
              "  <tbody>\n",
              "    <tr>\n",
              "      <th>0</th>\n",
              "      <td>5</td>\n",
              "      <td>123461076</td>\n",
              "      <td>123461275</td>\n",
              "      <td>CCTATGACTAGTCTATTTTTTTTTTTTTTTTTTTTTTGAGACAGAG...</td>\n",
              "    </tr>\n",
              "    <tr>\n",
              "      <th>1</th>\n",
              "      <td>5</td>\n",
              "      <td>52230676</td>\n",
              "      <td>52230875</td>\n",
              "      <td>ATTATTCAGTGATTGAATCTGTGCTAACGAAGCTGCTTTGTTCACG...</td>\n",
              "    </tr>\n",
              "    <tr>\n",
              "      <th>2</th>\n",
              "      <td>5</td>\n",
              "      <td>71940500</td>\n",
              "      <td>71940699</td>\n",
              "      <td>AACACATATAATTACCAGGAATGCAAAAAAAAAGAAAACATAAATA...</td>\n",
              "    </tr>\n",
              "    <tr>\n",
              "      <th>3</th>\n",
              "      <td>4</td>\n",
              "      <td>69974223</td>\n",
              "      <td>69974422</td>\n",
              "      <td>TGGATGCCTTATATTTCTTTTGTCTGCTTGCTCTGGATATGACTAC...</td>\n",
              "    </tr>\n",
              "    <tr>\n",
              "      <th>4</th>\n",
              "      <td>13</td>\n",
              "      <td>13243412</td>\n",
              "      <td>13243611</td>\n",
              "      <td>NNNNNNNNNNNNNNNNNNNNNNNNNNNNNNNNNNNNNNNNNNNNNN...</td>\n",
              "    </tr>\n",
              "  </tbody>\n",
              "</table>\n",
              "</div>"
            ],
            "text/plain": [
              "  chr      start        end                                                seq\n",
              "0   5  123461076  123461275  CCTATGACTAGTCTATTTTTTTTTTTTTTTTTTTTTTGAGACAGAG...\n",
              "1   5   52230676   52230875  ATTATTCAGTGATTGAATCTGTGCTAACGAAGCTGCTTTGTTCACG...\n",
              "2   5   71940500   71940699  AACACATATAATTACCAGGAATGCAAAAAAAAAGAAAACATAAATA...\n",
              "3   4   69974223   69974422  TGGATGCCTTATATTTCTTTTGTCTGCTTGCTCTGGATATGACTAC...\n",
              "4  13   13243412   13243611  NNNNNNNNNNNNNNNNNNNNNNNNNNNNNNNNNNNNNNNNNNNNNN..."
            ]
          },
          "metadata": {
            "tags": []
          },
          "execution_count": 26
        }
      ]
    },
    {
      "cell_type": "code",
      "metadata": {
        "id": "d9-E5cG9Hngf",
        "colab_type": "code",
        "colab": {
          "base_uri": "https://localhost:8080/",
          "height": 34
        },
        "outputId": "7165a88c-6729-4db6-da8e-74bbae239fe1"
      },
      "source": [
        "len(seqs.seq.values[0])"
      ],
      "execution_count": 27,
      "outputs": [
        {
          "output_type": "execute_result",
          "data": {
            "text/plain": [
              "200"
            ]
          },
          "metadata": {
            "tags": []
          },
          "execution_count": 27
        }
      ]
    },
    {
      "cell_type": "code",
      "metadata": {
        "id": "VMSIx3zCHngh",
        "colab_type": "code",
        "colab": {
          "base_uri": "https://localhost:8080/",
          "height": 54
        },
        "outputId": "b56fb069-2b9a-406f-9131-009c2895ba3a"
      },
      "source": [
        "seqs.seq.values[1]"
      ],
      "execution_count": 28,
      "outputs": [
        {
          "output_type": "execute_result",
          "data": {
            "text/plain": [
              "'ATTATTCAGTGATTGAATCTGTGCTAACGAAGCTGCTTTGTTCACGGAGGTGTCATCTGGAAGGTGAGCCTGCCCTTGTTCTGGGAGGGTATTGAATGGGTGTTGTTTTCCTCTTGTTTTTGTGGGACAAGATTCTCTTTCACAACCTCAGGGAATCTACAAACATTCTAGTAACTTCTTTTTCCCCCCACTTACTTTGA'"
            ]
          },
          "metadata": {
            "tags": []
          },
          "execution_count": 28
        }
      ]
    },
    {
      "cell_type": "markdown",
      "metadata": {
        "id": "pLGZ-XrKHngk",
        "colab_type": "text"
      },
      "source": [
        "## Save generated sequences to file"
      ]
    },
    {
      "cell_type": "code",
      "metadata": {
        "id": "Sfj_KTv1Hngk",
        "colab_type": "code",
        "colab": {}
      },
      "source": [
        "seqs.to_csv(OUTPUT_FILE, index=False)"
      ],
      "execution_count": 29,
      "outputs": []
    }
  ]
}