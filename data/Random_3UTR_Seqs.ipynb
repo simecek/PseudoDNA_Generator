{
  "nbformat": 4,
  "nbformat_minor": 0,
  "metadata": {
    "kernelspec": {
      "display_name": "Python 3",
      "language": "python",
      "name": "python3"
    },
    "language_info": {
      "codemirror_mode": {
        "name": "ipython",
        "version": 3
      },
      "file_extension": ".py",
      "mimetype": "text/x-python",
      "name": "python",
      "nbconvert_exporter": "python",
      "pygments_lexer": "ipython3",
      "version": "3.6.9"
    },
    "colab": {
      "name": "Random_3UTR_Seqs.ipynb",
      "provenance": [],
      "collapsed_sections": [],
      "toc_visible": true,
      "include_colab_link": true
    }
  },
  "cells": [
    {
      "cell_type": "markdown",
      "metadata": {
        "id": "view-in-github",
        "colab_type": "text"
      },
      "source": [
        "<a href=\"https://colab.research.google.com/github/simecek/PseudoDNA_Generator/blob/master/data/Random_3UTR_Seqs.ipynb\" target=\"_parent\"><img src=\"https://colab.research.google.com/assets/colab-badge.svg\" alt=\"Open In Colab\"/></a>"
      ]
    },
    {
      "cell_type": "markdown",
      "metadata": {
        "id": "yKEF8W8FHnfh",
        "colab_type": "text"
      },
      "source": [
        "# Generate Random 3'UTR Sequences\n"
      ]
    },
    {
      "cell_type": "markdown",
      "metadata": {
        "id": "tMfWhUbtHsJ9",
        "colab_type": "text"
      },
      "source": [
        "## Setup\n",
        "\n",
        "Installation for colab environment."
      ]
    },
    {
      "cell_type": "code",
      "metadata": {
        "id": "AM0BwFWvHwhC",
        "colab_type": "code",
        "colab": {
          "base_uri": "https://localhost:8080/",
          "height": 1000
        },
        "outputId": "65fc0540-57d0-48df-8e44-e5aaabfef55e"
      },
      "source": [
        "!pip install biopython pyensembl"
      ],
      "execution_count": 1,
      "outputs": [
        {
          "output_type": "stream",
          "text": [
            "Collecting biopython\n",
            "\u001b[?25l  Downloading https://files.pythonhosted.org/packages/a8/66/134dbd5f885fc71493c61b6cf04c9ea08082da28da5ed07709b02857cbd0/biopython-1.77-cp36-cp36m-manylinux1_x86_64.whl (2.3MB)\n",
            "\u001b[K     |████████████████████████████████| 2.3MB 5.5MB/s \n",
            "\u001b[?25hCollecting pyensembl\n",
            "\u001b[?25l  Downloading https://files.pythonhosted.org/packages/6b/d2/ef4b305af520ff7cc478d24c9b78560db20bb37be63fde7c2f83e9c6460e/pyensembl-1.8.7.tar.gz (57kB)\n",
            "\u001b[K     |████████████████████████████████| 61kB 7.1MB/s \n",
            "\u001b[?25hRequirement already satisfied: numpy in /usr/local/lib/python3.6/dist-packages (from biopython) (1.18.5)\n",
            "Collecting typechecks>=0.0.2\n",
            "  Downloading https://files.pythonhosted.org/packages/62/21/15129201c1f52f6af1e7809e96dce46da4b406c2c07fe9425e92f51edc5c/typechecks-0.1.0.tar.gz\n",
            "Requirement already satisfied: pandas>=0.15 in /usr/local/lib/python3.6/dist-packages (from pyensembl) (1.0.5)\n",
            "Collecting datacache>=1.1.4\n",
            "  Downloading https://files.pythonhosted.org/packages/f0/b9/a7114c1ac7b18bec9e0d232e65620aeb469b396ceaa85bcb6e81fe89a19d/datacache-1.1.5.tar.gz\n",
            "Collecting memoized-property>=1.0.2\n",
            "  Downloading https://files.pythonhosted.org/packages/70/db/23f8b5d86c9385299586c2469b58087f658f58eaeb414be0fd64cfd054e1/memoized-property-1.0.3.tar.gz\n",
            "Requirement already satisfied: six>=1.9.0 in /usr/local/lib/python3.6/dist-packages (from pyensembl) (1.12.0)\n",
            "Collecting gtfparse>=1.1.0\n",
            "  Downloading https://files.pythonhosted.org/packages/41/5c/8bd2e9020051ccffc60c56ae70b32a3b649ddac1962e9aa641f93542440e/gtfparse-1.2.0.tar.gz\n",
            "Collecting serializable\n",
            "  Downloading https://files.pythonhosted.org/packages/5f/e2/b08fefdd2b3bf59491170505a7eca09996606ea35ed53392cc0aa3041604/serializable-0.2.1.tar.gz\n",
            "Collecting tinytimer\n",
            "  Downloading https://files.pythonhosted.org/packages/5c/87/75d3fbe15aabd45d9b70702241787cf1f7f30dd9fabcd9bc89d828c7661d/tinytimer-0.0.0.tar.gz\n",
            "Requirement already satisfied: pytz>=2017.2 in /usr/local/lib/python3.6/dist-packages (from pandas>=0.15->pyensembl) (2018.9)\n",
            "Requirement already satisfied: python-dateutil>=2.6.1 in /usr/local/lib/python3.6/dist-packages (from pandas>=0.15->pyensembl) (2.8.1)\n",
            "Collecting appdirs>=1.4.0\n",
            "  Downloading https://files.pythonhosted.org/packages/3b/00/2344469e2084fb287c2e0b57b72910309874c3245463acd6cf5e3db69324/appdirs-1.4.4-py2.py3-none-any.whl\n",
            "Collecting progressbar33>=2.4\n",
            "  Downloading https://files.pythonhosted.org/packages/71/fc/7c8e01f41a6e671d7b11be470eeb3d15339c75ce5559935f3f55890eec6b/progressbar33-2.4.tar.gz\n",
            "Requirement already satisfied: requests>=2.5.1 in /usr/local/lib/python3.6/dist-packages (from datacache>=1.1.4->pyensembl) (2.23.0)\n",
            "Collecting mock\n",
            "  Downloading https://files.pythonhosted.org/packages/cd/74/d72daf8dff5b6566db857cfd088907bb0355f5dd2914c4b3ef065c790735/mock-4.0.2-py3-none-any.whl\n",
            "Collecting simplejson\n",
            "\u001b[?25l  Downloading https://files.pythonhosted.org/packages/98/87/a7b98aa9256c8843f92878966dc3d8d914c14aad97e2c5ce4798d5743e07/simplejson-3.17.0.tar.gz (83kB)\n",
            "\u001b[K     |████████████████████████████████| 92kB 8.1MB/s \n",
            "\u001b[?25hRequirement already satisfied: urllib3!=1.25.0,!=1.25.1,<1.26,>=1.21.1 in /usr/local/lib/python3.6/dist-packages (from requests>=2.5.1->datacache>=1.1.4->pyensembl) (1.24.3)\n",
            "Requirement already satisfied: certifi>=2017.4.17 in /usr/local/lib/python3.6/dist-packages (from requests>=2.5.1->datacache>=1.1.4->pyensembl) (2020.6.20)\n",
            "Requirement already satisfied: chardet<4,>=3.0.2 in /usr/local/lib/python3.6/dist-packages (from requests>=2.5.1->datacache>=1.1.4->pyensembl) (3.0.4)\n",
            "Requirement already satisfied: idna<3,>=2.5 in /usr/local/lib/python3.6/dist-packages (from requests>=2.5.1->datacache>=1.1.4->pyensembl) (2.9)\n",
            "Building wheels for collected packages: pyensembl, typechecks, datacache, memoized-property, gtfparse, serializable, tinytimer, progressbar33, simplejson\n",
            "  Building wheel for pyensembl (setup.py) ... \u001b[?25l\u001b[?25hdone\n",
            "  Created wheel for pyensembl: filename=pyensembl-1.8.7-cp36-none-any.whl size=56339 sha256=d5d5bd89ce4956198cfb8c7e9ec9b0c667b477cc10b4e70666d4fda7123a3048\n",
            "  Stored in directory: /root/.cache/pip/wheels/69/8b/4d/a6c76aa39aa3619c8b8c5ff3e09cd180df57e5e9f04c655794\n",
            "  Building wheel for typechecks (setup.py) ... \u001b[?25l\u001b[?25hdone\n",
            "  Created wheel for typechecks: filename=typechecks-0.1.0-cp36-none-any.whl size=2770 sha256=115cfed1ad6852a6850f4d6cef659fdc73f988550e862085e8b8ae9a07cee832\n",
            "  Stored in directory: /root/.cache/pip/wheels/27/ad/82/4a9bbc88f1d31bb1a0c053e29efafc02f56e2ed1598f5639b2\n",
            "  Building wheel for datacache (setup.py) ... \u001b[?25l\u001b[?25hdone\n",
            "  Created wheel for datacache: filename=datacache-1.1.5-cp36-none-any.whl size=16472 sha256=cad933e71a95ae51367f49dc1681d617856d9c9d7a62c1749288d568d9cdab75\n",
            "  Stored in directory: /root/.cache/pip/wheels/6b/89/37/76d23043c61b5096dd0170fd6ea2f6474b38d69965b633118a\n",
            "  Building wheel for memoized-property (setup.py) ... \u001b[?25l\u001b[?25hdone\n",
            "  Created wheel for memoized-property: filename=memoized_property-1.0.3-py2.py3-none-any.whl size=4174 sha256=6baa3539e75262dd2788534504aaeff5826be60576954c4cd55bfd0afa8a3be3\n",
            "  Stored in directory: /root/.cache/pip/wheels/8e/d4/82/ace27b33257f5918497d20427c0ac31d39c76e68b44d593fe6\n",
            "  Building wheel for gtfparse (setup.py) ... \u001b[?25l\u001b[?25hdone\n",
            "  Created wheel for gtfparse: filename=gtfparse-1.2.0-cp36-none-any.whl size=11883 sha256=802d3ad327d1d6f8e0dd70a549af9728da09b4b6fd81fd09dc80f0dc7d917430\n",
            "  Stored in directory: /root/.cache/pip/wheels/c4/27/96/6ba6fe28cbb162c326823553e3e45ac502160d1340566360f8\n",
            "  Building wheel for serializable (setup.py) ... \u001b[?25l\u001b[?25hdone\n",
            "  Created wheel for serializable: filename=serializable-0.2.1-cp36-none-any.whl size=8964 sha256=af37900592fdbac7b9f87eac55939318e2d70477f8a49d89968c079281f4329e\n",
            "  Stored in directory: /root/.cache/pip/wheels/fc/22/e8/d0b047f8616c931713bcf88c51a539b6439297f033f428a5b5\n",
            "  Building wheel for tinytimer (setup.py) ... \u001b[?25l\u001b[?25hdone\n",
            "  Created wheel for tinytimer: filename=tinytimer-0.0.0-cp36-none-any.whl size=1893 sha256=a466110efe2473701c0277c4ae791eb8c6e6ba3dfcc288e9f9dab3582f609a4f\n",
            "  Stored in directory: /root/.cache/pip/wheels/44/70/1d/b94b98003272cf802466366ba15ee99fd3a58906e233b11db8\n",
            "  Building wheel for progressbar33 (setup.py) ... \u001b[?25l\u001b[?25hdone\n",
            "  Created wheel for progressbar33: filename=progressbar33-2.4-cp36-none-any.whl size=12153 sha256=dba167936f8b4143c54d865ce2529805aad649c37177e8d20b7d1487d7baac42\n",
            "  Stored in directory: /root/.cache/pip/wheels/3c/5a/22/73ae955a60c550ce36fae0f23cbb6d55bbf53123ee415f120c\n",
            "  Building wheel for simplejson (setup.py) ... \u001b[?25l\u001b[?25hdone\n",
            "  Created wheel for simplejson: filename=simplejson-3.17.0-cp36-cp36m-linux_x86_64.whl size=114211 sha256=61bbd5f71b6d362f1be37d667248f4869a9d3e3d85afc4dd7e2cfb3ba7990b87\n",
            "  Stored in directory: /root/.cache/pip/wheels/86/c0/83/dcd0339abb2640544bb8e0938aab2d069cef55e5647ce6e097\n",
            "Successfully built pyensembl typechecks datacache memoized-property gtfparse serializable tinytimer progressbar33 simplejson\n",
            "Installing collected packages: biopython, typechecks, appdirs, progressbar33, mock, datacache, memoized-property, gtfparse, simplejson, serializable, tinytimer, pyensembl\n",
            "Successfully installed appdirs-1.4.4 biopython-1.77 datacache-1.1.5 gtfparse-1.2.0 memoized-property-1.0.3 mock-4.0.2 progressbar33-2.4 pyensembl-1.8.7 serializable-0.2.1 simplejson-3.17.0 tinytimer-0.0.0 typechecks-0.1.0\n"
          ],
          "name": "stdout"
        }
      ]
    },
    {
      "cell_type": "code",
      "metadata": {
        "id": "LlD3-EB2ICp9",
        "colab_type": "code",
        "colab": {
          "base_uri": "https://localhost:8080/",
          "height": 128
        },
        "outputId": "62598700-2386-4fb4-c4b4-146a7c5eee7d"
      },
      "source": [
        "from google.colab import drive\n",
        "drive.mount('/content/drive')"
      ],
      "execution_count": 2,
      "outputs": [
        {
          "output_type": "stream",
          "text": [
            "Go to this URL in a browser: https://accounts.google.com/o/oauth2/auth?client_id=947318989803-6bn6qk8qdgf4n4g3pfee6491hc0brc4i.apps.googleusercontent.com&redirect_uri=urn%3aietf%3awg%3aoauth%3a2.0%3aoob&response_type=code&scope=email%20https%3a%2f%2fwww.googleapis.com%2fauth%2fdocs.test%20https%3a%2f%2fwww.googleapis.com%2fauth%2fdrive%20https%3a%2f%2fwww.googleapis.com%2fauth%2fdrive.photos.readonly%20https%3a%2f%2fwww.googleapis.com%2fauth%2fpeopleapi.readonly\n",
            "\n",
            "Enter your authorization code:\n",
            "··········\n",
            "Mounted at /content/drive\n"
          ],
          "name": "stdout"
        }
      ]
    },
    {
      "cell_type": "code",
      "metadata": {
        "id": "4DCA8e0mIQns",
        "colab_type": "code",
        "colab": {
          "base_uri": "https://localhost:8080/",
          "height": 1000
        },
        "outputId": "f22e5e27-2be1-4f6b-b1d0-d5d9a459567b"
      },
      "source": [
        "!pyensembl install --release 97 --species human"
      ],
      "execution_count": 3,
      "outputs": [
        {
          "output_type": "stream",
          "text": [
            "2020-06-27 22:05:44,208 - pyensembl.shell - INFO - Running 'install' for EnsemblRelease(release=97, species='homo_sapiens')\n",
            "2020-06-27 22:05:44,208 - pyensembl.download_cache - INFO - Fetching /root/.cache/pyensembl/GRCh38/ensembl97/Homo_sapiens.GRCh38.97.gtf.gz from URL ftp://ftp.ensembl.org/pub/release-97/gtf/homo_sapiens/Homo_sapiens.GRCh38.97.gtf.gz\n",
            "2020-06-27 22:05:44,208 - datacache.download - INFO - Downloading ftp://ftp.ensembl.org/pub/release-97/gtf/homo_sapiens/Homo_sapiens.GRCh38.97.gtf.gz to /root/.cache/pyensembl/GRCh38/ensembl97/Homo_sapiens.GRCh38.97.gtf.gz\n",
            "2020-06-27 22:05:48,702 - pyensembl.download_cache - INFO - Fetching /root/.cache/pyensembl/GRCh38/ensembl97/Homo_sapiens.GRCh38.cdna.all.fa.gz from URL ftp://ftp.ensembl.org/pub/release-97/fasta/homo_sapiens/cdna/Homo_sapiens.GRCh38.cdna.all.fa.gz\n",
            "2020-06-27 22:05:48,702 - datacache.download - INFO - Downloading ftp://ftp.ensembl.org/pub/release-97/fasta/homo_sapiens/cdna/Homo_sapiens.GRCh38.cdna.all.fa.gz to /root/.cache/pyensembl/GRCh38/ensembl97/Homo_sapiens.GRCh38.cdna.all.fa.gz\n",
            "2020-06-27 22:05:53,812 - pyensembl.download_cache - INFO - Fetching /root/.cache/pyensembl/GRCh38/ensembl97/Homo_sapiens.GRCh38.ncrna.fa.gz from URL ftp://ftp.ensembl.org/pub/release-97/fasta/homo_sapiens/ncrna/Homo_sapiens.GRCh38.ncrna.fa.gz\n",
            "2020-06-27 22:05:53,812 - datacache.download - INFO - Downloading ftp://ftp.ensembl.org/pub/release-97/fasta/homo_sapiens/ncrna/Homo_sapiens.GRCh38.ncrna.fa.gz to /root/.cache/pyensembl/GRCh38/ensembl97/Homo_sapiens.GRCh38.ncrna.fa.gz\n",
            "2020-06-27 22:05:56,523 - pyensembl.download_cache - INFO - Fetching /root/.cache/pyensembl/GRCh38/ensembl97/Homo_sapiens.GRCh38.pep.all.fa.gz from URL ftp://ftp.ensembl.org/pub/release-97/fasta/homo_sapiens/pep/Homo_sapiens.GRCh38.pep.all.fa.gz\n",
            "2020-06-27 22:05:56,523 - datacache.download - INFO - Downloading ftp://ftp.ensembl.org/pub/release-97/fasta/homo_sapiens/pep/Homo_sapiens.GRCh38.pep.all.fa.gz to /root/.cache/pyensembl/GRCh38/ensembl97/Homo_sapiens.GRCh38.pep.all.fa.gz\n",
            "2020-06-27 22:05:59,211 - pyensembl.database - INFO - Creating database: /root/.cache/pyensembl/GRCh38/ensembl97/Homo_sapiens.GRCh38.97.gtf.db\n",
            "2020-06-27 22:05:59,212 - pyensembl.database - INFO - Reading GTF from /root/.cache/pyensembl/GRCh38/ensembl97/Homo_sapiens.GRCh38.97.gtf.gz\n",
            "2020-06-27 22:07:23,627 - datacache.database_helpers - INFO - Creating database /root/.cache/pyensembl/GRCh38/ensembl97/Homo_sapiens.GRCh38.97.gtf.db containing: exon, stop_codon, transcript, CDS, gene, start_codon\n",
            "2020-06-27 22:07:23,627 - datacache.database - INFO - Running sqlite query: \"CREATE TABLE exon (start INT NOT NULL, gene_name TEXT NOT NULL, exon_id TEXT NOT NULL, end INT NOT NULL, transcript_support_level TEXT NOT NULL, gene_biotype TEXT NOT NULL, strand TEXT NOT NULL, gene_id TEXT NOT NULL, exon_number TEXT NOT NULL, transcript_biotype TEXT NOT NULL, transcript_version TEXT NOT NULL, protein_version TEXT NOT NULL, transcript_id TEXT NOT NULL, exon_version TEXT NOT NULL, seqname TEXT NOT NULL, gene_version TEXT NOT NULL, transcript_name TEXT NOT NULL, source TEXT NOT NULL, feature TEXT NOT NULL, protein_id TEXT NOT NULL, ccds_id TEXT NOT NULL)\"\n",
            "2020-06-27 22:07:26,523 - datacache.database - INFO - Inserting 1363230 rows into table exon\n",
            "2020-06-27 22:07:32,868 - datacache.database - INFO - Creating index on exon (seqname, start, end)\n",
            "2020-06-27 22:07:33,935 - datacache.database - INFO - Creating index on exon (gene_name)\n",
            "2020-06-27 22:07:34,690 - datacache.database - INFO - Creating index on exon (gene_id)\n",
            "2020-06-27 22:07:35,616 - datacache.database - INFO - Creating index on exon (transcript_id)\n",
            "2020-06-27 22:07:36,582 - datacache.database - INFO - Creating index on exon (transcript_name)\n",
            "2020-06-27 22:07:37,447 - datacache.database - INFO - Creating index on exon (exon_id)\n",
            "2020-06-27 22:07:38,500 - datacache.database - INFO - Creating index on exon (protein_id)\n",
            "2020-06-27 22:07:39,084 - datacache.database - INFO - Creating index on exon (ccds_id)\n",
            "2020-06-27 22:07:39,918 - datacache.database - INFO - Running sqlite query: \"CREATE TABLE stop_codon (start INT NOT NULL, gene_name TEXT NOT NULL, exon_id TEXT NOT NULL, end INT NOT NULL, transcript_support_level TEXT NOT NULL, gene_biotype TEXT NOT NULL, strand TEXT NOT NULL, gene_id TEXT NOT NULL, exon_number TEXT NOT NULL, transcript_biotype TEXT NOT NULL, transcript_version TEXT NOT NULL, protein_version TEXT NOT NULL, transcript_id TEXT NOT NULL, exon_version TEXT NOT NULL, seqname TEXT NOT NULL, gene_version TEXT NOT NULL, transcript_name TEXT NOT NULL, source TEXT NOT NULL, feature TEXT NOT NULL, protein_id TEXT NOT NULL, ccds_id TEXT NOT NULL)\"\n",
            "2020-06-27 22:07:40,121 - datacache.database - INFO - Inserting 79498 rows into table stop_codon\n",
            "2020-06-27 22:07:40,516 - datacache.database - INFO - Creating index on stop_codon (seqname, start, end)\n",
            "2020-06-27 22:07:40,566 - datacache.database - INFO - Creating index on stop_codon (gene_name)\n",
            "2020-06-27 22:07:40,608 - datacache.database - INFO - Creating index on stop_codon (gene_id)\n",
            "2020-06-27 22:07:40,655 - datacache.database - INFO - Creating index on stop_codon (transcript_id)\n",
            "2020-06-27 22:07:40,714 - datacache.database - INFO - Creating index on stop_codon (transcript_name)\n",
            "2020-06-27 22:07:40,774 - datacache.database - INFO - Creating index on stop_codon (exon_id)\n",
            "2020-06-27 22:07:40,804 - datacache.database - INFO - Creating index on stop_codon (protein_id)\n",
            "2020-06-27 22:07:40,833 - datacache.database - INFO - Creating index on stop_codon (ccds_id)\n",
            "2020-06-27 22:07:40,881 - datacache.database - INFO - Running sqlite query: \"CREATE TABLE transcript (start INT NOT NULL, gene_name TEXT NOT NULL, exon_id TEXT NOT NULL, end INT NOT NULL, transcript_support_level TEXT NOT NULL, gene_biotype TEXT NOT NULL, strand TEXT NOT NULL, gene_id TEXT NOT NULL, exon_number TEXT NOT NULL, transcript_biotype TEXT NOT NULL, transcript_version TEXT NOT NULL, protein_version TEXT NOT NULL, transcript_id TEXT UNIQUE PRIMARY KEY NOT NULL, exon_version TEXT NOT NULL, seqname TEXT NOT NULL, gene_version TEXT NOT NULL, transcript_name TEXT NOT NULL, source TEXT NOT NULL, feature TEXT NOT NULL, protein_id TEXT NOT NULL, ccds_id TEXT NOT NULL)\"\n",
            "2020-06-27 22:07:41,465 - datacache.database - INFO - Inserting 226788 rows into table transcript\n",
            "2020-06-27 22:07:42,991 - datacache.database - INFO - Creating index on transcript (seqname, start, end)\n",
            "2020-06-27 22:07:43,124 - datacache.database - INFO - Creating index on transcript (gene_name)\n",
            "2020-06-27 22:07:43,247 - datacache.database - INFO - Creating index on transcript (gene_id)\n",
            "2020-06-27 22:07:43,380 - datacache.database - INFO - Creating index on transcript (transcript_name)\n",
            "2020-06-27 22:07:43,519 - datacache.database - INFO - Creating index on transcript (exon_id)\n",
            "2020-06-27 22:07:43,599 - datacache.database - INFO - Creating index on transcript (protein_id)\n",
            "2020-06-27 22:07:43,693 - datacache.database - INFO - Creating index on transcript (ccds_id)\n",
            "2020-06-27 22:07:43,813 - datacache.database - INFO - Running sqlite query: \"CREATE TABLE CDS (start INT NOT NULL, gene_name TEXT NOT NULL, exon_id TEXT NOT NULL, end INT NOT NULL, transcript_support_level TEXT NOT NULL, gene_biotype TEXT NOT NULL, strand TEXT NOT NULL, gene_id TEXT NOT NULL, exon_number TEXT NOT NULL, transcript_biotype TEXT NOT NULL, transcript_version TEXT NOT NULL, protein_version TEXT NOT NULL, transcript_id TEXT NOT NULL, exon_version TEXT NOT NULL, seqname TEXT NOT NULL, gene_version TEXT NOT NULL, transcript_name TEXT NOT NULL, source TEXT NOT NULL, feature TEXT NOT NULL, protein_id TEXT NOT NULL, ccds_id TEXT NOT NULL)\"\n",
            "2020-06-27 22:07:45,471 - datacache.database - INFO - Inserting 755075 rows into table CDS\n",
            "2020-06-27 22:07:49,081 - datacache.database - INFO - Creating index on CDS (seqname, start, end)\n",
            "2020-06-27 22:07:50,050 - datacache.database - INFO - Creating index on CDS (gene_name)\n",
            "2020-06-27 22:07:50,778 - datacache.database - INFO - Creating index on CDS (gene_id)\n",
            "2020-06-27 22:07:51,628 - datacache.database - INFO - Creating index on CDS (transcript_id)\n",
            "2020-06-27 22:07:52,600 - datacache.database - INFO - Creating index on CDS (transcript_name)\n",
            "2020-06-27 22:07:53,591 - datacache.database - INFO - Creating index on CDS (exon_id)\n",
            "2020-06-27 22:07:54,207 - datacache.database - INFO - Creating index on CDS (protein_id)\n",
            "2020-06-27 22:07:55,109 - datacache.database - INFO - Creating index on CDS (ccds_id)\n",
            "2020-06-27 22:07:55,858 - datacache.database - INFO - Running sqlite query: \"CREATE TABLE gene (start INT NOT NULL, gene_name TEXT NOT NULL, exon_id TEXT NOT NULL, end INT NOT NULL, transcript_support_level TEXT NOT NULL, gene_biotype TEXT NOT NULL, strand TEXT NOT NULL, gene_id TEXT UNIQUE PRIMARY KEY NOT NULL, exon_number TEXT NOT NULL, transcript_biotype TEXT NOT NULL, transcript_version TEXT NOT NULL, protein_version TEXT NOT NULL, transcript_id TEXT NOT NULL, exon_version TEXT NOT NULL, seqname TEXT NOT NULL, gene_version TEXT NOT NULL, transcript_name TEXT NOT NULL, source TEXT NOT NULL, feature TEXT NOT NULL, protein_id TEXT NOT NULL, ccds_id TEXT NOT NULL)\"\n",
            "2020-06-27 22:07:56,056 - datacache.database - INFO - Inserting 60617 rows into table gene\n",
            "2020-06-27 22:07:56,433 - datacache.database - INFO - Creating index on gene (seqname, start, end)\n",
            "2020-06-27 22:07:56,469 - datacache.database - INFO - Creating index on gene (gene_name)\n",
            "2020-06-27 22:07:56,501 - datacache.database - INFO - Creating index on gene (transcript_id)\n",
            "2020-06-27 22:07:56,519 - datacache.database - INFO - Creating index on gene (transcript_name)\n",
            "2020-06-27 22:07:56,538 - datacache.database - INFO - Creating index on gene (exon_id)\n",
            "2020-06-27 22:07:56,554 - datacache.database - INFO - Creating index on gene (protein_id)\n",
            "2020-06-27 22:07:56,573 - datacache.database - INFO - Creating index on gene (ccds_id)\n",
            "2020-06-27 22:07:56,592 - datacache.database - INFO - Running sqlite query: \"CREATE TABLE start_codon (start INT NOT NULL, gene_name TEXT NOT NULL, exon_id TEXT NOT NULL, end INT NOT NULL, transcript_support_level TEXT NOT NULL, gene_biotype TEXT NOT NULL, strand TEXT NOT NULL, gene_id TEXT NOT NULL, exon_number TEXT NOT NULL, transcript_biotype TEXT NOT NULL, transcript_version TEXT NOT NULL, protein_version TEXT NOT NULL, transcript_id TEXT NOT NULL, exon_version TEXT NOT NULL, seqname TEXT NOT NULL, gene_version TEXT NOT NULL, transcript_name TEXT NOT NULL, source TEXT NOT NULL, feature TEXT NOT NULL, protein_id TEXT NOT NULL, ccds_id TEXT NOT NULL)\"\n",
            "2020-06-27 22:07:56,834 - datacache.database - INFO - Inserting 87301 rows into table start_codon\n",
            "2020-06-27 22:07:57,283 - datacache.database - INFO - Creating index on start_codon (seqname, start, end)\n",
            "2020-06-27 22:07:57,336 - datacache.database - INFO - Creating index on start_codon (gene_name)\n",
            "2020-06-27 22:07:57,380 - datacache.database - INFO - Creating index on start_codon (gene_id)\n",
            "2020-06-27 22:07:57,429 - datacache.database - INFO - Creating index on start_codon (transcript_id)\n",
            "2020-06-27 22:07:57,489 - datacache.database - INFO - Creating index on start_codon (transcript_name)\n",
            "2020-06-27 22:07:57,539 - datacache.database - INFO - Creating index on start_codon (exon_id)\n",
            "2020-06-27 22:07:57,570 - datacache.database - INFO - Creating index on start_codon (protein_id)\n",
            "2020-06-27 22:07:57,609 - datacache.database - INFO - Creating index on start_codon (ccds_id)\n",
            "2020-06-27 22:07:57,657 - datacache.database - INFO - Running sqlite query: \"CREATE TABLE _datacache_metadata (version INT)\"\n",
            "2020-06-27 22:07:57,657 - datacache.database - INFO - Running sqlite query: \"INSERT INTO _datacache_metadata VALUES (3)\"\n",
            "2020-06-27 22:07:59,799 - pyensembl.sequence_data - INFO - Parsing sequences from FASTA file at /root/.cache/pyensembl/GRCh38/ensembl97/Homo_sapiens.GRCh38.cdna.all.fa.gz\n",
            "2020-06-27 22:08:09,053 - pyensembl.sequence_data - INFO - Saving sequence dictionary to /root/.cache/pyensembl/GRCh38/ensembl97/Homo_sapiens.GRCh38.cdna.all.fa.gz.pickle\n",
            "2020-06-27 22:08:10,240 - pyensembl.sequence_data - INFO - Parsing sequences from FASTA file at /root/.cache/pyensembl/GRCh38/ensembl97/Homo_sapiens.GRCh38.ncrna.fa.gz\n",
            "2020-06-27 22:08:12,373 - pyensembl.sequence_data - INFO - Saving sequence dictionary to /root/.cache/pyensembl/GRCh38/ensembl97/Homo_sapiens.GRCh38.ncrna.fa.gz.pickle\n",
            "2020-06-27 22:08:12,557 - pyensembl.sequence_data - INFO - Parsing sequences from FASTA file at /root/.cache/pyensembl/GRCh38/ensembl97/Homo_sapiens.GRCh38.pep.all.fa.gz\n",
            "2020-06-27 22:08:14,382 - pyensembl.sequence_data - INFO - Saving sequence dictionary to /root/.cache/pyensembl/GRCh38/ensembl97/Homo_sapiens.GRCh38.pep.all.fa.gz.pickle\n"
          ],
          "name": "stdout"
        }
      ]
    },
    {
      "cell_type": "code",
      "metadata": {
        "id": "xMxJPPWxHnfj",
        "colab_type": "code",
        "colab": {}
      },
      "source": [
        "import pandas as pd\n",
        "import numpy as np\n",
        "import gzip\n",
        "from tqdm.notebook import tqdm\n",
        "\n",
        "from Bio import SeqIO   # for reading fasta files\n",
        "from pyensembl import EnsemblRelease   # to get the gene list\n",
        "\n",
        "ENSEMBL_RELEASE = 97\n",
        "DNA_TOPLEVEL_FASTA_PATH = \"/content/drive/My Drive/data/ensembl/Homo_sapiens.GRCh38.dna.toplevel.fa.gz\"\n",
        "\n",
        "# to generate random sequences\n",
        "N = 50_000    # how many\n",
        "K = 200       # how long\n",
        "OUTPUT_FILE = '/content/drive/My Drive/data/random/random_3utr.csv'   # where to save them\n",
        "\n",
        "CHRS = [str(chr) for chr in range(1,23)] + ['X', 'Y', 'MT']"
      ],
      "execution_count": 4,
      "outputs": []
    },
    {
      "cell_type": "markdown",
      "metadata": {
        "id": "eLtdacLDHnfx",
        "colab_type": "text"
      },
      "source": [
        "## Get transcript list"
      ]
    },
    {
      "cell_type": "code",
      "metadata": {
        "id": "iRzWAYenHnfy",
        "colab_type": "code",
        "colab": {}
      },
      "source": [
        "# release 97 uses human reference genome GRCh38\n",
        "data = EnsemblRelease(ENSEMBL_RELEASE)"
      ],
      "execution_count": 5,
      "outputs": []
    },
    {
      "cell_type": "code",
      "metadata": {
        "id": "EVJQO00LHnf0",
        "colab_type": "code",
        "colab": {
          "base_uri": "https://localhost:8080/",
          "height": 35
        },
        "outputId": "bf25380d-e9b8-44f6-d837-7b0cd9c43b3d"
      },
      "source": [
        "human_transcripts = data.transcript_ids()\n",
        "len(human_transcripts)"
      ],
      "execution_count": 6,
      "outputs": [
        {
          "output_type": "execute_result",
          "data": {
            "text/plain": [
              "226788"
            ]
          },
          "metadata": {
            "tags": []
          },
          "execution_count": 6
        }
      ]
    },
    {
      "cell_type": "code",
      "metadata": {
        "id": "i1dIXhzvfv6u",
        "colab_type": "code",
        "colab": {
          "base_uri": "https://localhost:8080/",
          "height": 74
        },
        "outputId": "c83bf929-ccfc-4a22-a08f-7a9c59952c95"
      },
      "source": [
        "human_transcripts[0], data.transcript_by_id(human_transcripts[0])\n"
      ],
      "execution_count": 7,
      "outputs": [
        {
          "output_type": "execute_result",
          "data": {
            "text/plain": [
              "('ENST00000000233',\n",
              " Transcript(transcript_id='ENST00000000233', transcript_name='ARF5-201', gene_id='ENSG00000004059', biotype='protein_coding', contig='7', start=127588411, end=127591700, strand='+', genome='GRCh38'))"
            ]
          },
          "metadata": {
            "tags": []
          },
          "execution_count": 7
        }
      ]
    },
    {
      "cell_type": "code",
      "metadata": {
        "id": "8r9jj_B-Hnf3",
        "colab_type": "code",
        "colab": {}
      },
      "source": [
        "transcripts_full_info  = [data.transcript_by_id(transcript) for transcript in human_transcripts]"
      ],
      "execution_count": 8,
      "outputs": []
    },
    {
      "cell_type": "code",
      "metadata": {
        "id": "97lrmGvNHnf6",
        "colab_type": "code",
        "colab": {
          "base_uri": "https://localhost:8080/",
          "height": 198
        },
        "outputId": "1b284236-c1ea-4548-9b43-2c1be045a28b"
      },
      "source": [
        "human_transcript_tuples = [(x.transcript_id, x.gene_id, x.biotype, x.contig, x.start, x.end, x.strand, x.three_prime_utr_sequence) for x in transcripts_full_info if x.contains_start_codon & x.contains_stop_codon]\n",
        "human_transcript_table = pd.DataFrame.from_records(human_transcript_tuples, columns=[\"id\", \"gene_id\", \"biotype\", \"chr\", \"start\", \"end\", \"strand\", \"three_prime_utr_sequence\"])\n",
        "assert all(human_transcript_table.start <= human_transcript_table.end)\n",
        "\n",
        "human_transcript_table.head()"
      ],
      "execution_count": 19,
      "outputs": [
        {
          "output_type": "execute_result",
          "data": {
            "text/html": [
              "<div>\n",
              "<style scoped>\n",
              "    .dataframe tbody tr th:only-of-type {\n",
              "        vertical-align: middle;\n",
              "    }\n",
              "\n",
              "    .dataframe tbody tr th {\n",
              "        vertical-align: top;\n",
              "    }\n",
              "\n",
              "    .dataframe thead th {\n",
              "        text-align: right;\n",
              "    }\n",
              "</style>\n",
              "<table border=\"1\" class=\"dataframe\">\n",
              "  <thead>\n",
              "    <tr style=\"text-align: right;\">\n",
              "      <th></th>\n",
              "      <th>id</th>\n",
              "      <th>gene_id</th>\n",
              "      <th>biotype</th>\n",
              "      <th>chr</th>\n",
              "      <th>start</th>\n",
              "      <th>end</th>\n",
              "      <th>strand</th>\n",
              "      <th>three_prime_utr_sequence</th>\n",
              "    </tr>\n",
              "  </thead>\n",
              "  <tbody>\n",
              "    <tr>\n",
              "      <th>0</th>\n",
              "      <td>ENST00000000233</td>\n",
              "      <td>ENSG00000004059</td>\n",
              "      <td>protein_coding</td>\n",
              "      <td>7</td>\n",
              "      <td>127588411</td>\n",
              "      <td>127591700</td>\n",
              "      <td>+</td>\n",
              "      <td>CCAGCCAGGGGCAGGCCCCTGATGCCCGGAAGCTCCTGCGTGCATC...</td>\n",
              "    </tr>\n",
              "    <tr>\n",
              "      <th>1</th>\n",
              "      <td>ENST00000000412</td>\n",
              "      <td>ENSG00000003056</td>\n",
              "      <td>protein_coding</td>\n",
              "      <td>12</td>\n",
              "      <td>8940361</td>\n",
              "      <td>8949645</td>\n",
              "      <td>-</td>\n",
              "      <td>ATTGCACTTTATATGTCCAGCCTCTTCCTCAGTCCCCCAAACCAAA...</td>\n",
              "    </tr>\n",
              "    <tr>\n",
              "      <th>2</th>\n",
              "      <td>ENST00000000442</td>\n",
              "      <td>ENSG00000173153</td>\n",
              "      <td>protein_coding</td>\n",
              "      <td>11</td>\n",
              "      <td>64305524</td>\n",
              "      <td>64316743</td>\n",
              "      <td>+</td>\n",
              "      <td>GGCAAGGGGTGGGACTGGTGGGGGTTCTGGCAGGACCTGCCTAGCA...</td>\n",
              "    </tr>\n",
              "    <tr>\n",
              "      <th>3</th>\n",
              "      <td>ENST00000001008</td>\n",
              "      <td>ENSG00000004478</td>\n",
              "      <td>protein_coding</td>\n",
              "      <td>12</td>\n",
              "      <td>2794970</td>\n",
              "      <td>2805423</td>\n",
              "      <td>+</td>\n",
              "      <td>CCCCTCTCCACCAGCCCTACTCCTGCGGCTGCCTGCCCCCCAGTCT...</td>\n",
              "    </tr>\n",
              "    <tr>\n",
              "      <th>4</th>\n",
              "      <td>ENST00000001146</td>\n",
              "      <td>ENSG00000003137</td>\n",
              "      <td>protein_coding</td>\n",
              "      <td>2</td>\n",
              "      <td>72129238</td>\n",
              "      <td>72148038</td>\n",
              "      <td>-</td>\n",
              "      <td>CCCAAGACCCACCCGCCTCAGCCCAGCCCAGGCAGCGGGGTGGTGG...</td>\n",
              "    </tr>\n",
              "  </tbody>\n",
              "</table>\n",
              "</div>"
            ],
            "text/plain": [
              "                id  ...                           three_prime_utr_sequence\n",
              "0  ENST00000000233  ...  CCAGCCAGGGGCAGGCCCCTGATGCCCGGAAGCTCCTGCGTGCATC...\n",
              "1  ENST00000000412  ...  ATTGCACTTTATATGTCCAGCCTCTTCCTCAGTCCCCCAAACCAAA...\n",
              "2  ENST00000000442  ...  GGCAAGGGGTGGGACTGGTGGGGGTTCTGGCAGGACCTGCCTAGCA...\n",
              "3  ENST00000001008  ...  CCCCTCTCCACCAGCCCTACTCCTGCGGCTGCCTGCCCCCCAGTCT...\n",
              "4  ENST00000001146  ...  CCCAAGACCCACCCGCCTCAGCCCAGCCCAGGCAGCGGGGTGGTGG...\n",
              "\n",
              "[5 rows x 8 columns]"
            ]
          },
          "metadata": {
            "tags": []
          },
          "execution_count": 19
        }
      ]
    },
    {
      "cell_type": "code",
      "metadata": {
        "id": "IsJXGYXY2Rsf",
        "colab_type": "code",
        "colab": {
          "base_uri": "https://localhost:8080/",
          "height": 35
        },
        "outputId": "696bb805-9349-442b-f645-49a1626bf7ce"
      },
      "source": [
        "assert ~human_transcript_table.three_prime_utr_sequence.str.contains('N').any()\n",
        "\n",
        "human_transcript_table['length'] = human_transcript_table.three_prime_utr_sequence.apply(len)\n",
        "selected_regions = human_transcript_table[human_transcript_table.length > K].copy()\n",
        "\n",
        "human_transcript_table.shape, selected_regions.shape"
      ],
      "execution_count": 20,
      "outputs": [
        {
          "output_type": "execute_result",
          "data": {
            "text/plain": [
              "((68734, 9), (53061, 9))"
            ]
          },
          "metadata": {
            "tags": []
          },
          "execution_count": 20
        }
      ]
    },
    {
      "cell_type": "code",
      "metadata": {
        "id": "P2X_MtbZHnf_",
        "colab_type": "code",
        "colab": {
          "base_uri": "https://localhost:8080/",
          "height": 327
        },
        "outputId": "12a6202f-14e2-4477-ac01-fe83491a9c74"
      },
      "source": [
        "selected_regions['random_start'] = [np.random.randint(c_len - K) for c_len in selected_regions.length]\n",
        "selected_regions['random_end'] = selected_regions['random_start'] + K - 1\n",
        "selected_regions['seq'] = ''\n",
        "for i in range(selected_regions.shape[0]):\n",
        "  selected_regions['seq'].iloc[i] = (selected_regions['three_prime_utr_sequence'].iloc[i])[selected_regions['random_start'].iloc[i]:selected_regions['random_start'].iloc[i]+200]\n",
        "selected_regions.head()"
      ],
      "execution_count": 21,
      "outputs": [
        {
          "output_type": "stream",
          "text": [
            "INFO:numexpr.utils:NumExpr defaulting to 2 threads.\n",
            "/usr/local/lib/python3.6/dist-packages/pandas/core/indexing.py:671: SettingWithCopyWarning: \n",
            "A value is trying to be set on a copy of a slice from a DataFrame\n",
            "\n",
            "See the caveats in the documentation: https://pandas.pydata.org/pandas-docs/stable/user_guide/indexing.html#returning-a-view-versus-a-copy\n",
            "  self._setitem_with_indexer(indexer, value)\n"
          ],
          "name": "stderr"
        },
        {
          "output_type": "execute_result",
          "data": {
            "text/html": [
              "<div>\n",
              "<style scoped>\n",
              "    .dataframe tbody tr th:only-of-type {\n",
              "        vertical-align: middle;\n",
              "    }\n",
              "\n",
              "    .dataframe tbody tr th {\n",
              "        vertical-align: top;\n",
              "    }\n",
              "\n",
              "    .dataframe thead th {\n",
              "        text-align: right;\n",
              "    }\n",
              "</style>\n",
              "<table border=\"1\" class=\"dataframe\">\n",
              "  <thead>\n",
              "    <tr style=\"text-align: right;\">\n",
              "      <th></th>\n",
              "      <th>id</th>\n",
              "      <th>gene_id</th>\n",
              "      <th>biotype</th>\n",
              "      <th>chr</th>\n",
              "      <th>start</th>\n",
              "      <th>end</th>\n",
              "      <th>strand</th>\n",
              "      <th>three_prime_utr_sequence</th>\n",
              "      <th>length</th>\n",
              "      <th>random_start</th>\n",
              "      <th>random_end</th>\n",
              "      <th>seq</th>\n",
              "    </tr>\n",
              "  </thead>\n",
              "  <tbody>\n",
              "    <tr>\n",
              "      <th>0</th>\n",
              "      <td>ENST00000000233</td>\n",
              "      <td>ENSG00000004059</td>\n",
              "      <td>protein_coding</td>\n",
              "      <td>7</td>\n",
              "      <td>127588411</td>\n",
              "      <td>127591700</td>\n",
              "      <td>+</td>\n",
              "      <td>CCAGCCAGGGGCAGGCCCCTGATGCCCGGAAGCTCCTGCGTGCATC...</td>\n",
              "      <td>401</td>\n",
              "      <td>2</td>\n",
              "      <td>201</td>\n",
              "      <td>AGCCAGGGGCAGGCCCCTGATGCCCGGAAGCTCCTGCGTGCATCCC...</td>\n",
              "    </tr>\n",
              "    <tr>\n",
              "      <th>1</th>\n",
              "      <td>ENST00000000412</td>\n",
              "      <td>ENSG00000003056</td>\n",
              "      <td>protein_coding</td>\n",
              "      <td>12</td>\n",
              "      <td>8940361</td>\n",
              "      <td>8949645</td>\n",
              "      <td>-</td>\n",
              "      <td>ATTGCACTTTATATGTCCAGCCTCTTCCTCAGTCCCCCAAACCAAA...</td>\n",
              "      <td>1457</td>\n",
              "      <td>278</td>\n",
              "      <td>477</td>\n",
              "      <td>TACAATAGGCATATGGGCAAAATGGTGTAGCAGGCTCACTGGCCGT...</td>\n",
              "    </tr>\n",
              "    <tr>\n",
              "      <th>2</th>\n",
              "      <td>ENST00000000442</td>\n",
              "      <td>ENSG00000173153</td>\n",
              "      <td>protein_coding</td>\n",
              "      <td>11</td>\n",
              "      <td>64305524</td>\n",
              "      <td>64316743</td>\n",
              "      <td>+</td>\n",
              "      <td>GGCAAGGGGTGGGACTGGTGGGGGTTCTGGCAGGACCTGCCTAGCA...</td>\n",
              "      <td>777</td>\n",
              "      <td>1</td>\n",
              "      <td>200</td>\n",
              "      <td>GCAAGGGGTGGGACTGGTGGGGGTTCTGGCAGGACCTGCCTAGCAT...</td>\n",
              "    </tr>\n",
              "    <tr>\n",
              "      <th>3</th>\n",
              "      <td>ENST00000001008</td>\n",
              "      <td>ENSG00000004478</td>\n",
              "      <td>protein_coding</td>\n",
              "      <td>12</td>\n",
              "      <td>2794970</td>\n",
              "      <td>2805423</td>\n",
              "      <td>+</td>\n",
              "      <td>CCCCTCTCCACCAGCCCTACTCCTGCGGCTGCCTGCCCCCCAGTCT...</td>\n",
              "      <td>2165</td>\n",
              "      <td>1607</td>\n",
              "      <td>1806</td>\n",
              "      <td>GACTGTGCCACTGCACGCCAGCCTGGGCAAGAGAGTGAGACCATCT...</td>\n",
              "    </tr>\n",
              "    <tr>\n",
              "      <th>4</th>\n",
              "      <td>ENST00000001146</td>\n",
              "      <td>ENSG00000003137</td>\n",
              "      <td>protein_coding</td>\n",
              "      <td>2</td>\n",
              "      <td>72129238</td>\n",
              "      <td>72148038</td>\n",
              "      <td>-</td>\n",
              "      <td>CCCAAGACCCACCCGCCTCAGCCCAGCCCAGGCAGCGGGGTGGTGG...</td>\n",
              "      <td>2989</td>\n",
              "      <td>974</td>\n",
              "      <td>1173</td>\n",
              "      <td>CCTGGACTGAAGTCCGGTGCCTCTGCCTTATCCCTGGTGGAGATGG...</td>\n",
              "    </tr>\n",
              "  </tbody>\n",
              "</table>\n",
              "</div>"
            ],
            "text/plain": [
              "                id  ...                                                seq\n",
              "0  ENST00000000233  ...  AGCCAGGGGCAGGCCCCTGATGCCCGGAAGCTCCTGCGTGCATCCC...\n",
              "1  ENST00000000412  ...  TACAATAGGCATATGGGCAAAATGGTGTAGCAGGCTCACTGGCCGT...\n",
              "2  ENST00000000442  ...  GCAAGGGGTGGGACTGGTGGGGGTTCTGGCAGGACCTGCCTAGCAT...\n",
              "3  ENST00000001008  ...  GACTGTGCCACTGCACGCCAGCCTGGGCAAGAGAGTGAGACCATCT...\n",
              "4  ENST00000001146  ...  CCTGGACTGAAGTCCGGTGCCTCTGCCTTATCCCTGGTGGAGATGG...\n",
              "\n",
              "[5 rows x 12 columns]"
            ]
          },
          "metadata": {
            "tags": []
          },
          "execution_count": 21
        }
      ]
    },
    {
      "cell_type": "markdown",
      "metadata": {
        "id": "zQ4J1qGeHngN",
        "colab_type": "text"
      },
      "source": [
        "## Random transcript selection"
      ]
    },
    {
      "cell_type": "code",
      "metadata": {
        "id": "M_-EBl92HngN",
        "colab_type": "code",
        "colab": {
          "base_uri": "https://localhost:8080/",
          "height": 35
        },
        "outputId": "cddbf20c-4878-43a6-a8c3-651cf1f0ef23"
      },
      "source": [
        "sample_regions = selected_regions.sample(N)\n",
        "sample_regions.shape"
      ],
      "execution_count": 22,
      "outputs": [
        {
          "output_type": "execute_result",
          "data": {
            "text/plain": [
              "(50000, 12)"
            ]
          },
          "metadata": {
            "tags": []
          },
          "execution_count": 22
        }
      ]
    },
    {
      "cell_type": "code",
      "metadata": {
        "id": "Ia_xkzHqHngX",
        "colab_type": "code",
        "colab": {
          "base_uri": "https://localhost:8080/",
          "height": 198
        },
        "outputId": "7ac5035e-48e1-481c-f22f-770d38ee061a"
      },
      "source": [
        "seqs = sample_regions[['id', 'chr', 'random_start', 'random_end', 'seq']].copy().reset_index(drop=True)\n",
        "seqs.head()"
      ],
      "execution_count": 23,
      "outputs": [
        {
          "output_type": "execute_result",
          "data": {
            "text/html": [
              "<div>\n",
              "<style scoped>\n",
              "    .dataframe tbody tr th:only-of-type {\n",
              "        vertical-align: middle;\n",
              "    }\n",
              "\n",
              "    .dataframe tbody tr th {\n",
              "        vertical-align: top;\n",
              "    }\n",
              "\n",
              "    .dataframe thead th {\n",
              "        text-align: right;\n",
              "    }\n",
              "</style>\n",
              "<table border=\"1\" class=\"dataframe\">\n",
              "  <thead>\n",
              "    <tr style=\"text-align: right;\">\n",
              "      <th></th>\n",
              "      <th>id</th>\n",
              "      <th>chr</th>\n",
              "      <th>random_start</th>\n",
              "      <th>random_end</th>\n",
              "      <th>seq</th>\n",
              "    </tr>\n",
              "  </thead>\n",
              "  <tbody>\n",
              "    <tr>\n",
              "      <th>0</th>\n",
              "      <td>ENST00000552870</td>\n",
              "      <td>12</td>\n",
              "      <td>116</td>\n",
              "      <td>315</td>\n",
              "      <td>AAAACAAGGACTGCAGCCTAAATTCCAAATACCAGAGACTGAAATT...</td>\n",
              "    </tr>\n",
              "    <tr>\n",
              "      <th>1</th>\n",
              "      <td>ENST00000496961</td>\n",
              "      <td>1</td>\n",
              "      <td>2645</td>\n",
              "      <td>2844</td>\n",
              "      <td>GGAGTCATTTATATTCTGCAGGAGGAAGGGGCCCCAGCTGTCGCCT...</td>\n",
              "    </tr>\n",
              "    <tr>\n",
              "      <th>2</th>\n",
              "      <td>ENST00000355654</td>\n",
              "      <td>2</td>\n",
              "      <td>428</td>\n",
              "      <td>627</td>\n",
              "      <td>GTAGAGGGTGTTTTCACCTTCCAAGACATGGGGCAAAGTTTGGAGA...</td>\n",
              "    </tr>\n",
              "    <tr>\n",
              "      <th>3</th>\n",
              "      <td>ENST00000616793</td>\n",
              "      <td>5</td>\n",
              "      <td>3835</td>\n",
              "      <td>4034</td>\n",
              "      <td>GGGTTATCACTTAGGTAGAGAGCAAATGTGTTCTCCACTAGTAATA...</td>\n",
              "    </tr>\n",
              "    <tr>\n",
              "      <th>4</th>\n",
              "      <td>ENST00000541924</td>\n",
              "      <td>12</td>\n",
              "      <td>508</td>\n",
              "      <td>707</td>\n",
              "      <td>CCCCACGGTGAGCGCCCTGTGCCCCACACAGCAGGAGATGATGATA...</td>\n",
              "    </tr>\n",
              "  </tbody>\n",
              "</table>\n",
              "</div>"
            ],
            "text/plain": [
              "                id  ...                                                seq\n",
              "0  ENST00000552870  ...  AAAACAAGGACTGCAGCCTAAATTCCAAATACCAGAGACTGAAATT...\n",
              "1  ENST00000496961  ...  GGAGTCATTTATATTCTGCAGGAGGAAGGGGCCCCAGCTGTCGCCT...\n",
              "2  ENST00000355654  ...  GTAGAGGGTGTTTTCACCTTCCAAGACATGGGGCAAAGTTTGGAGA...\n",
              "3  ENST00000616793  ...  GGGTTATCACTTAGGTAGAGAGCAAATGTGTTCTCCACTAGTAATA...\n",
              "4  ENST00000541924  ...  CCCCACGGTGAGCGCCCTGTGCCCCACACAGCAGGAGATGATGATA...\n",
              "\n",
              "[5 rows x 5 columns]"
            ]
          },
          "metadata": {
            "tags": []
          },
          "execution_count": 23
        }
      ]
    },
    {
      "cell_type": "code",
      "metadata": {
        "id": "d9-E5cG9Hngf",
        "colab_type": "code",
        "colab": {
          "base_uri": "https://localhost:8080/",
          "height": 74
        },
        "outputId": "4b54c1d4-0df4-48e5-9bb2-4dd98ac1554c"
      },
      "source": [
        "len(seqs.seq.values[0]), seqs.seq.values[0]"
      ],
      "execution_count": 25,
      "outputs": [
        {
          "output_type": "execute_result",
          "data": {
            "text/plain": [
              "(200,\n",
              " 'AAAACAAGGACTGCAGCCTAAATTCCAAATACCAGAGACTGAAATTTTCAGCCTTGCTAAGGGAACATCTCGATGTTTGAACCTTTGTTGTGTTTTGTACAGGGCATTCTCTGTACTAGTTTGTCGTGGTTATAAAACAATTAGCAGAATAGCCTACATTTGTATTTATTTTCTATTCCATACTTCTGCCCACGTTGTTT')"
            ]
          },
          "metadata": {
            "tags": []
          },
          "execution_count": 25
        }
      ]
    },
    {
      "cell_type": "markdown",
      "metadata": {
        "id": "pLGZ-XrKHngk",
        "colab_type": "text"
      },
      "source": [
        "## Save generated sequences to file"
      ]
    },
    {
      "cell_type": "code",
      "metadata": {
        "id": "Sfj_KTv1Hngk",
        "colab_type": "code",
        "colab": {}
      },
      "source": [
        "seqs.to_csv(OUTPUT_FILE, index=False)"
      ],
      "execution_count": 26,
      "outputs": []
    }
  ]
}