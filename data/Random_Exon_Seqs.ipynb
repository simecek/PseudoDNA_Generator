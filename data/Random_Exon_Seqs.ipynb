{
  "nbformat": 4,
  "nbformat_minor": 0,
  "metadata": {
    "kernelspec": {
      "display_name": "Python 3",
      "language": "python",
      "name": "python3"
    },
    "language_info": {
      "codemirror_mode": {
        "name": "ipython",
        "version": 3
      },
      "file_extension": ".py",
      "mimetype": "text/x-python",
      "name": "python",
      "nbconvert_exporter": "python",
      "pygments_lexer": "ipython3",
      "version": "3.6.9"
    },
    "colab": {
      "name": "Random_Exon_Seqs.ipynb",
      "provenance": [],
      "collapsed_sections": [],
      "toc_visible": true,
      "include_colab_link": true
    },
    "widgets": {
      "application/vnd.jupyter.widget-state+json": {
        "710ee319515541cbbf9d05a282223686": {
          "model_module": "@jupyter-widgets/controls",
          "model_name": "HBoxModel",
          "state": {
            "_view_name": "HBoxView",
            "_dom_classes": [],
            "_model_name": "HBoxModel",
            "_view_module": "@jupyter-widgets/controls",
            "_model_module_version": "1.5.0",
            "_view_count": null,
            "_view_module_version": "1.5.0",
            "box_style": "",
            "layout": "IPY_MODEL_2448993f85ab496f9223de9e484ce1ee",
            "_model_module": "@jupyter-widgets/controls",
            "children": [
              "IPY_MODEL_40e6d1e72e8944ca80c04cdab713f28b",
              "IPY_MODEL_7228bcd9c6a54627b90ec8929de8cd38"
            ]
          }
        },
        "2448993f85ab496f9223de9e484ce1ee": {
          "model_module": "@jupyter-widgets/base",
          "model_name": "LayoutModel",
          "state": {
            "_view_name": "LayoutView",
            "grid_template_rows": null,
            "right": null,
            "justify_content": null,
            "_view_module": "@jupyter-widgets/base",
            "overflow": null,
            "_model_module_version": "1.2.0",
            "_view_count": null,
            "flex_flow": null,
            "width": null,
            "min_width": null,
            "border": null,
            "align_items": null,
            "bottom": null,
            "_model_module": "@jupyter-widgets/base",
            "top": null,
            "grid_column": null,
            "overflow_y": null,
            "overflow_x": null,
            "grid_auto_flow": null,
            "grid_area": null,
            "grid_template_columns": null,
            "flex": null,
            "_model_name": "LayoutModel",
            "justify_items": null,
            "grid_row": null,
            "max_height": null,
            "align_content": null,
            "visibility": null,
            "align_self": null,
            "height": null,
            "min_height": null,
            "padding": null,
            "grid_auto_rows": null,
            "grid_gap": null,
            "max_width": null,
            "order": null,
            "_view_module_version": "1.2.0",
            "grid_template_areas": null,
            "object_position": null,
            "object_fit": null,
            "grid_auto_columns": null,
            "margin": null,
            "display": null,
            "left": null
          }
        },
        "40e6d1e72e8944ca80c04cdab713f28b": {
          "model_module": "@jupyter-widgets/controls",
          "model_name": "FloatProgressModel",
          "state": {
            "_view_name": "ProgressView",
            "style": "IPY_MODEL_c21627aec2a24712be6d760bd01f2d1c",
            "_dom_classes": [],
            "description": "100%",
            "_model_name": "FloatProgressModel",
            "bar_style": "danger",
            "max": 24,
            "_view_module": "@jupyter-widgets/controls",
            "_model_module_version": "1.5.0",
            "value": 24,
            "_view_count": null,
            "_view_module_version": "1.5.0",
            "orientation": "horizontal",
            "min": 0,
            "description_tooltip": null,
            "_model_module": "@jupyter-widgets/controls",
            "layout": "IPY_MODEL_dcf022767d14464b8d976b50cfdb060c"
          }
        },
        "7228bcd9c6a54627b90ec8929de8cd38": {
          "model_module": "@jupyter-widgets/controls",
          "model_name": "HTMLModel",
          "state": {
            "_view_name": "HTMLView",
            "style": "IPY_MODEL_3c7fd10f74524436948bd076a8572ea3",
            "_dom_classes": [],
            "description": "",
            "_model_name": "HTMLModel",
            "placeholder": "​",
            "_view_module": "@jupyter-widgets/controls",
            "_model_module_version": "1.5.0",
            "value": " 24/24 [02:16&lt;00:00,  3.56s/it]",
            "_view_count": null,
            "_view_module_version": "1.5.0",
            "description_tooltip": null,
            "_model_module": "@jupyter-widgets/controls",
            "layout": "IPY_MODEL_a6c07eb97a9e49e18d0b05d7585bfce2"
          }
        },
        "c21627aec2a24712be6d760bd01f2d1c": {
          "model_module": "@jupyter-widgets/controls",
          "model_name": "ProgressStyleModel",
          "state": {
            "_view_name": "StyleView",
            "_model_name": "ProgressStyleModel",
            "description_width": "initial",
            "_view_module": "@jupyter-widgets/base",
            "_model_module_version": "1.5.0",
            "_view_count": null,
            "_view_module_version": "1.2.0",
            "bar_color": null,
            "_model_module": "@jupyter-widgets/controls"
          }
        },
        "dcf022767d14464b8d976b50cfdb060c": {
          "model_module": "@jupyter-widgets/base",
          "model_name": "LayoutModel",
          "state": {
            "_view_name": "LayoutView",
            "grid_template_rows": null,
            "right": null,
            "justify_content": null,
            "_view_module": "@jupyter-widgets/base",
            "overflow": null,
            "_model_module_version": "1.2.0",
            "_view_count": null,
            "flex_flow": null,
            "width": null,
            "min_width": null,
            "border": null,
            "align_items": null,
            "bottom": null,
            "_model_module": "@jupyter-widgets/base",
            "top": null,
            "grid_column": null,
            "overflow_y": null,
            "overflow_x": null,
            "grid_auto_flow": null,
            "grid_area": null,
            "grid_template_columns": null,
            "flex": null,
            "_model_name": "LayoutModel",
            "justify_items": null,
            "grid_row": null,
            "max_height": null,
            "align_content": null,
            "visibility": null,
            "align_self": null,
            "height": null,
            "min_height": null,
            "padding": null,
            "grid_auto_rows": null,
            "grid_gap": null,
            "max_width": null,
            "order": null,
            "_view_module_version": "1.2.0",
            "grid_template_areas": null,
            "object_position": null,
            "object_fit": null,
            "grid_auto_columns": null,
            "margin": null,
            "display": null,
            "left": null
          }
        },
        "3c7fd10f74524436948bd076a8572ea3": {
          "model_module": "@jupyter-widgets/controls",
          "model_name": "DescriptionStyleModel",
          "state": {
            "_view_name": "StyleView",
            "_model_name": "DescriptionStyleModel",
            "description_width": "",
            "_view_module": "@jupyter-widgets/base",
            "_model_module_version": "1.5.0",
            "_view_count": null,
            "_view_module_version": "1.2.0",
            "_model_module": "@jupyter-widgets/controls"
          }
        },
        "a6c07eb97a9e49e18d0b05d7585bfce2": {
          "model_module": "@jupyter-widgets/base",
          "model_name": "LayoutModel",
          "state": {
            "_view_name": "LayoutView",
            "grid_template_rows": null,
            "right": null,
            "justify_content": null,
            "_view_module": "@jupyter-widgets/base",
            "overflow": null,
            "_model_module_version": "1.2.0",
            "_view_count": null,
            "flex_flow": null,
            "width": null,
            "min_width": null,
            "border": null,
            "align_items": null,
            "bottom": null,
            "_model_module": "@jupyter-widgets/base",
            "top": null,
            "grid_column": null,
            "overflow_y": null,
            "overflow_x": null,
            "grid_auto_flow": null,
            "grid_area": null,
            "grid_template_columns": null,
            "flex": null,
            "_model_name": "LayoutModel",
            "justify_items": null,
            "grid_row": null,
            "max_height": null,
            "align_content": null,
            "visibility": null,
            "align_self": null,
            "height": null,
            "min_height": null,
            "padding": null,
            "grid_auto_rows": null,
            "grid_gap": null,
            "max_width": null,
            "order": null,
            "_view_module_version": "1.2.0",
            "grid_template_areas": null,
            "object_position": null,
            "object_fit": null,
            "grid_auto_columns": null,
            "margin": null,
            "display": null,
            "left": null
          }
        }
      }
    }
  },
  "cells": [
    {
      "cell_type": "markdown",
      "metadata": {
        "id": "view-in-github",
        "colab_type": "text"
      },
      "source": [
        "<a href=\"https://colab.research.google.com/github/simecek/PseudoDNA_Generator/blob/master/data/Random_Exon_Seqs.ipynb\" target=\"_parent\"><img src=\"https://colab.research.google.com/assets/colab-badge.svg\" alt=\"Open In Colab\"/></a>"
      ]
    },
    {
      "cell_type": "markdown",
      "metadata": {
        "id": "yKEF8W8FHnfh",
        "colab_type": "text"
      },
      "source": [
        "# Generate Random Genome Sequences\n",
        "\n",
        "This notebook generates `N` random of the length `K` with the minimal distance `MIN_DIST` to any Ensembl gene.\n",
        "\n",
        "Note that some sequences may be missing in the human genome (= consists of 'N' letters only)."
      ]
    },
    {
      "cell_type": "markdown",
      "metadata": {
        "id": "tMfWhUbtHsJ9",
        "colab_type": "text"
      },
      "source": [
        "## Setup\n",
        "\n",
        "Installation for colab environment."
      ]
    },
    {
      "cell_type": "code",
      "metadata": {
        "id": "AM0BwFWvHwhC",
        "colab_type": "code",
        "colab": {
          "base_uri": "https://localhost:8080/",
          "height": 1000
        },
        "outputId": "158730d8-e55b-4972-e834-57ab8ee8c682"
      },
      "source": [
        "!pip install biopython pyensembl"
      ],
      "execution_count": 1,
      "outputs": [
        {
          "output_type": "stream",
          "text": [
            "Collecting biopython\n",
            "\u001b[?25l  Downloading https://files.pythonhosted.org/packages/a8/66/134dbd5f885fc71493c61b6cf04c9ea08082da28da5ed07709b02857cbd0/biopython-1.77-cp36-cp36m-manylinux1_x86_64.whl (2.3MB)\n",
            "\u001b[K     |████████████████████████████████| 2.3MB 2.8MB/s \n",
            "\u001b[?25hCollecting pyensembl\n",
            "\u001b[?25l  Downloading https://files.pythonhosted.org/packages/6b/d2/ef4b305af520ff7cc478d24c9b78560db20bb37be63fde7c2f83e9c6460e/pyensembl-1.8.7.tar.gz (57kB)\n",
            "\u001b[K     |████████████████████████████████| 61kB 6.9MB/s \n",
            "\u001b[?25hRequirement already satisfied: numpy in /usr/local/lib/python3.6/dist-packages (from biopython) (1.18.5)\n",
            "Collecting typechecks>=0.0.2\n",
            "  Downloading https://files.pythonhosted.org/packages/62/21/15129201c1f52f6af1e7809e96dce46da4b406c2c07fe9425e92f51edc5c/typechecks-0.1.0.tar.gz\n",
            "Requirement already satisfied: pandas>=0.15 in /usr/local/lib/python3.6/dist-packages (from pyensembl) (1.0.5)\n",
            "Collecting datacache>=1.1.4\n",
            "  Downloading https://files.pythonhosted.org/packages/f0/b9/a7114c1ac7b18bec9e0d232e65620aeb469b396ceaa85bcb6e81fe89a19d/datacache-1.1.5.tar.gz\n",
            "Collecting memoized-property>=1.0.2\n",
            "  Downloading https://files.pythonhosted.org/packages/70/db/23f8b5d86c9385299586c2469b58087f658f58eaeb414be0fd64cfd054e1/memoized-property-1.0.3.tar.gz\n",
            "Requirement already satisfied: six>=1.9.0 in /usr/local/lib/python3.6/dist-packages (from pyensembl) (1.12.0)\n",
            "Collecting gtfparse>=1.1.0\n",
            "  Downloading https://files.pythonhosted.org/packages/41/5c/8bd2e9020051ccffc60c56ae70b32a3b649ddac1962e9aa641f93542440e/gtfparse-1.2.0.tar.gz\n",
            "Collecting serializable\n",
            "  Downloading https://files.pythonhosted.org/packages/5f/e2/b08fefdd2b3bf59491170505a7eca09996606ea35ed53392cc0aa3041604/serializable-0.2.1.tar.gz\n",
            "Collecting tinytimer\n",
            "  Downloading https://files.pythonhosted.org/packages/5c/87/75d3fbe15aabd45d9b70702241787cf1f7f30dd9fabcd9bc89d828c7661d/tinytimer-0.0.0.tar.gz\n",
            "Requirement already satisfied: python-dateutil>=2.6.1 in /usr/local/lib/python3.6/dist-packages (from pandas>=0.15->pyensembl) (2.8.1)\n",
            "Requirement already satisfied: pytz>=2017.2 in /usr/local/lib/python3.6/dist-packages (from pandas>=0.15->pyensembl) (2018.9)\n",
            "Collecting appdirs>=1.4.0\n",
            "  Downloading https://files.pythonhosted.org/packages/3b/00/2344469e2084fb287c2e0b57b72910309874c3245463acd6cf5e3db69324/appdirs-1.4.4-py2.py3-none-any.whl\n",
            "Collecting progressbar33>=2.4\n",
            "  Downloading https://files.pythonhosted.org/packages/71/fc/7c8e01f41a6e671d7b11be470eeb3d15339c75ce5559935f3f55890eec6b/progressbar33-2.4.tar.gz\n",
            "Requirement already satisfied: requests>=2.5.1 in /usr/local/lib/python3.6/dist-packages (from datacache>=1.1.4->pyensembl) (2.23.0)\n",
            "Collecting mock\n",
            "  Downloading https://files.pythonhosted.org/packages/cd/74/d72daf8dff5b6566db857cfd088907bb0355f5dd2914c4b3ef065c790735/mock-4.0.2-py3-none-any.whl\n",
            "Collecting simplejson\n",
            "\u001b[?25l  Downloading https://files.pythonhosted.org/packages/98/87/a7b98aa9256c8843f92878966dc3d8d914c14aad97e2c5ce4798d5743e07/simplejson-3.17.0.tar.gz (83kB)\n",
            "\u001b[K     |████████████████████████████████| 92kB 8.2MB/s \n",
            "\u001b[?25hRequirement already satisfied: certifi>=2017.4.17 in /usr/local/lib/python3.6/dist-packages (from requests>=2.5.1->datacache>=1.1.4->pyensembl) (2020.6.20)\n",
            "Requirement already satisfied: chardet<4,>=3.0.2 in /usr/local/lib/python3.6/dist-packages (from requests>=2.5.1->datacache>=1.1.4->pyensembl) (3.0.4)\n",
            "Requirement already satisfied: idna<3,>=2.5 in /usr/local/lib/python3.6/dist-packages (from requests>=2.5.1->datacache>=1.1.4->pyensembl) (2.9)\n",
            "Requirement already satisfied: urllib3!=1.25.0,!=1.25.1,<1.26,>=1.21.1 in /usr/local/lib/python3.6/dist-packages (from requests>=2.5.1->datacache>=1.1.4->pyensembl) (1.24.3)\n",
            "Building wheels for collected packages: pyensembl, typechecks, datacache, memoized-property, gtfparse, serializable, tinytimer, progressbar33, simplejson\n",
            "  Building wheel for pyensembl (setup.py) ... \u001b[?25l\u001b[?25hdone\n",
            "  Created wheel for pyensembl: filename=pyensembl-1.8.7-cp36-none-any.whl size=56339 sha256=de89c466e039d9e4fe0783f73b5efa20d42289c87e9423f5f36231f4a881b114\n",
            "  Stored in directory: /root/.cache/pip/wheels/69/8b/4d/a6c76aa39aa3619c8b8c5ff3e09cd180df57e5e9f04c655794\n",
            "  Building wheel for typechecks (setup.py) ... \u001b[?25l\u001b[?25hdone\n",
            "  Created wheel for typechecks: filename=typechecks-0.1.0-cp36-none-any.whl size=2770 sha256=d95d1e69205aa3ed3187bfdacfb30292c3e9043c17dddcae12fe4522423990c8\n",
            "  Stored in directory: /root/.cache/pip/wheels/27/ad/82/4a9bbc88f1d31bb1a0c053e29efafc02f56e2ed1598f5639b2\n",
            "  Building wheel for datacache (setup.py) ... \u001b[?25l\u001b[?25hdone\n",
            "  Created wheel for datacache: filename=datacache-1.1.5-cp36-none-any.whl size=16472 sha256=18d7b0c1b2a084aa4a540108f9f3b6396db29f3adcdf89029b438cdf7fe62fde\n",
            "  Stored in directory: /root/.cache/pip/wheels/6b/89/37/76d23043c61b5096dd0170fd6ea2f6474b38d69965b633118a\n",
            "  Building wheel for memoized-property (setup.py) ... \u001b[?25l\u001b[?25hdone\n",
            "  Created wheel for memoized-property: filename=memoized_property-1.0.3-py2.py3-none-any.whl size=4174 sha256=53d2ff2d207c3837b2681fdb149847f9ca4dd4ce2bd55974f081589125aa0622\n",
            "  Stored in directory: /root/.cache/pip/wheels/8e/d4/82/ace27b33257f5918497d20427c0ac31d39c76e68b44d593fe6\n",
            "  Building wheel for gtfparse (setup.py) ... \u001b[?25l\u001b[?25hdone\n",
            "  Created wheel for gtfparse: filename=gtfparse-1.2.0-cp36-none-any.whl size=11883 sha256=e933e6ebeafee9b1297045560c3c838477300f018c0e8e606511dfd01cfe6765\n",
            "  Stored in directory: /root/.cache/pip/wheels/c4/27/96/6ba6fe28cbb162c326823553e3e45ac502160d1340566360f8\n",
            "  Building wheel for serializable (setup.py) ... \u001b[?25l\u001b[?25hdone\n",
            "  Created wheel for serializable: filename=serializable-0.2.1-cp36-none-any.whl size=8964 sha256=9448821d903745b016d7052affe6a4d5304f65614c9252769e2b49166635e8ce\n",
            "  Stored in directory: /root/.cache/pip/wheels/fc/22/e8/d0b047f8616c931713bcf88c51a539b6439297f033f428a5b5\n",
            "  Building wheel for tinytimer (setup.py) ... \u001b[?25l\u001b[?25hdone\n",
            "  Created wheel for tinytimer: filename=tinytimer-0.0.0-cp36-none-any.whl size=1893 sha256=1d26f2b2ddb739757a115904301979f26f28e2cb5e879516d7035a4be8775fe7\n",
            "  Stored in directory: /root/.cache/pip/wheels/44/70/1d/b94b98003272cf802466366ba15ee99fd3a58906e233b11db8\n",
            "  Building wheel for progressbar33 (setup.py) ... \u001b[?25l\u001b[?25hdone\n",
            "  Created wheel for progressbar33: filename=progressbar33-2.4-cp36-none-any.whl size=12153 sha256=c013dc8b8c250b221af6a664404cfbbc507cde87f2b010c3b83bfede386733d3\n",
            "  Stored in directory: /root/.cache/pip/wheels/3c/5a/22/73ae955a60c550ce36fae0f23cbb6d55bbf53123ee415f120c\n",
            "  Building wheel for simplejson (setup.py) ... \u001b[?25l\u001b[?25hdone\n",
            "  Created wheel for simplejson: filename=simplejson-3.17.0-cp36-cp36m-linux_x86_64.whl size=114203 sha256=4179b8d87550011738f332f6c859bff1dd973c3969c7a6e366454417b34b7921\n",
            "  Stored in directory: /root/.cache/pip/wheels/86/c0/83/dcd0339abb2640544bb8e0938aab2d069cef55e5647ce6e097\n",
            "Successfully built pyensembl typechecks datacache memoized-property gtfparse serializable tinytimer progressbar33 simplejson\n",
            "Installing collected packages: biopython, typechecks, appdirs, progressbar33, mock, datacache, memoized-property, gtfparse, simplejson, serializable, tinytimer, pyensembl\n",
            "Successfully installed appdirs-1.4.4 biopython-1.77 datacache-1.1.5 gtfparse-1.2.0 memoized-property-1.0.3 mock-4.0.2 progressbar33-2.4 pyensembl-1.8.7 serializable-0.2.1 simplejson-3.17.0 tinytimer-0.0.0 typechecks-0.1.0\n"
          ],
          "name": "stdout"
        }
      ]
    },
    {
      "cell_type": "code",
      "metadata": {
        "id": "LlD3-EB2ICp9",
        "colab_type": "code",
        "colab": {
          "base_uri": "https://localhost:8080/",
          "height": 128
        },
        "outputId": "add0c332-3f12-4129-884c-da182f57fa80"
      },
      "source": [
        "from google.colab import drive\n",
        "drive.mount('/content/drive')"
      ],
      "execution_count": 2,
      "outputs": [
        {
          "output_type": "stream",
          "text": [
            "Go to this URL in a browser: https://accounts.google.com/o/oauth2/auth?client_id=947318989803-6bn6qk8qdgf4n4g3pfee6491hc0brc4i.apps.googleusercontent.com&redirect_uri=urn%3aietf%3awg%3aoauth%3a2.0%3aoob&response_type=code&scope=email%20https%3a%2f%2fwww.googleapis.com%2fauth%2fdocs.test%20https%3a%2f%2fwww.googleapis.com%2fauth%2fdrive%20https%3a%2f%2fwww.googleapis.com%2fauth%2fdrive.photos.readonly%20https%3a%2f%2fwww.googleapis.com%2fauth%2fpeopleapi.readonly\n",
            "\n",
            "Enter your authorization code:\n",
            "··········\n",
            "Mounted at /content/drive\n"
          ],
          "name": "stdout"
        }
      ]
    },
    {
      "cell_type": "code",
      "metadata": {
        "id": "4DCA8e0mIQns",
        "colab_type": "code",
        "colab": {
          "base_uri": "https://localhost:8080/",
          "height": 1000
        },
        "outputId": "97b4b556-e218-4697-c642-4623264ec6de"
      },
      "source": [
        "!pyensembl install --release 97 --species human"
      ],
      "execution_count": 3,
      "outputs": [
        {
          "output_type": "stream",
          "text": [
            "2020-06-27 15:39:24,691 - pyensembl.shell - INFO - Running 'install' for EnsemblRelease(release=97, species='homo_sapiens')\n",
            "2020-06-27 15:39:24,691 - pyensembl.download_cache - INFO - Fetching /root/.cache/pyensembl/GRCh38/ensembl97/Homo_sapiens.GRCh38.97.gtf.gz from URL ftp://ftp.ensembl.org/pub/release-97/gtf/homo_sapiens/Homo_sapiens.GRCh38.97.gtf.gz\n",
            "2020-06-27 15:39:24,691 - datacache.download - INFO - Downloading ftp://ftp.ensembl.org/pub/release-97/gtf/homo_sapiens/Homo_sapiens.GRCh38.97.gtf.gz to /root/.cache/pyensembl/GRCh38/ensembl97/Homo_sapiens.GRCh38.97.gtf.gz\n",
            "2020-06-27 15:39:27,732 - pyensembl.download_cache - INFO - Fetching /root/.cache/pyensembl/GRCh38/ensembl97/Homo_sapiens.GRCh38.cdna.all.fa.gz from URL ftp://ftp.ensembl.org/pub/release-97/fasta/homo_sapiens/cdna/Homo_sapiens.GRCh38.cdna.all.fa.gz\n",
            "2020-06-27 15:39:27,732 - datacache.download - INFO - Downloading ftp://ftp.ensembl.org/pub/release-97/fasta/homo_sapiens/cdna/Homo_sapiens.GRCh38.cdna.all.fa.gz to /root/.cache/pyensembl/GRCh38/ensembl97/Homo_sapiens.GRCh38.cdna.all.fa.gz\n",
            "2020-06-27 15:39:31,334 - pyensembl.download_cache - INFO - Fetching /root/.cache/pyensembl/GRCh38/ensembl97/Homo_sapiens.GRCh38.ncrna.fa.gz from URL ftp://ftp.ensembl.org/pub/release-97/fasta/homo_sapiens/ncrna/Homo_sapiens.GRCh38.ncrna.fa.gz\n",
            "2020-06-27 15:39:31,334 - datacache.download - INFO - Downloading ftp://ftp.ensembl.org/pub/release-97/fasta/homo_sapiens/ncrna/Homo_sapiens.GRCh38.ncrna.fa.gz to /root/.cache/pyensembl/GRCh38/ensembl97/Homo_sapiens.GRCh38.ncrna.fa.gz\n",
            "2020-06-27 15:39:33,258 - pyensembl.download_cache - INFO - Fetching /root/.cache/pyensembl/GRCh38/ensembl97/Homo_sapiens.GRCh38.pep.all.fa.gz from URL ftp://ftp.ensembl.org/pub/release-97/fasta/homo_sapiens/pep/Homo_sapiens.GRCh38.pep.all.fa.gz\n",
            "2020-06-27 15:39:33,258 - datacache.download - INFO - Downloading ftp://ftp.ensembl.org/pub/release-97/fasta/homo_sapiens/pep/Homo_sapiens.GRCh38.pep.all.fa.gz to /root/.cache/pyensembl/GRCh38/ensembl97/Homo_sapiens.GRCh38.pep.all.fa.gz\n",
            "2020-06-27 15:39:35,135 - pyensembl.database - INFO - Creating database: /root/.cache/pyensembl/GRCh38/ensembl97/Homo_sapiens.GRCh38.97.gtf.db\n",
            "2020-06-27 15:39:35,136 - pyensembl.database - INFO - Reading GTF from /root/.cache/pyensembl/GRCh38/ensembl97/Homo_sapiens.GRCh38.97.gtf.gz\n",
            "2020-06-27 15:40:58,843 - datacache.database_helpers - INFO - Creating database /root/.cache/pyensembl/GRCh38/ensembl97/Homo_sapiens.GRCh38.97.gtf.db containing: exon, start_codon, stop_codon, transcript, CDS, gene\n",
            "2020-06-27 15:40:58,844 - datacache.database - INFO - Running sqlite query: \"CREATE TABLE exon (protein_id TEXT NOT NULL, transcript_support_level TEXT NOT NULL, gene_version TEXT NOT NULL, protein_version TEXT NOT NULL, strand TEXT NOT NULL, exon_number TEXT NOT NULL, end INT NOT NULL, gene_biotype TEXT NOT NULL, transcript_name TEXT NOT NULL, start INT NOT NULL, feature TEXT NOT NULL, seqname TEXT NOT NULL, exon_version TEXT NOT NULL, exon_id TEXT NOT NULL, ccds_id TEXT NOT NULL, gene_id TEXT NOT NULL, gene_name TEXT NOT NULL, transcript_version TEXT NOT NULL, source TEXT NOT NULL, transcript_id TEXT NOT NULL, transcript_biotype TEXT NOT NULL)\"\n",
            "2020-06-27 15:41:01,776 - datacache.database - INFO - Inserting 1363230 rows into table exon\n",
            "2020-06-27 15:41:08,087 - datacache.database - INFO - Creating index on exon (seqname, start, end)\n",
            "2020-06-27 15:41:09,133 - datacache.database - INFO - Creating index on exon (gene_name)\n",
            "2020-06-27 15:41:09,924 - datacache.database - INFO - Creating index on exon (gene_id)\n",
            "2020-06-27 15:41:10,877 - datacache.database - INFO - Creating index on exon (transcript_id)\n",
            "2020-06-27 15:41:11,866 - datacache.database - INFO - Creating index on exon (transcript_name)\n",
            "2020-06-27 15:41:12,697 - datacache.database - INFO - Creating index on exon (exon_id)\n",
            "2020-06-27 15:41:13,782 - datacache.database - INFO - Creating index on exon (protein_id)\n",
            "2020-06-27 15:41:14,263 - datacache.database - INFO - Creating index on exon (ccds_id)\n",
            "2020-06-27 15:41:15,096 - datacache.database - INFO - Running sqlite query: \"CREATE TABLE start_codon (protein_id TEXT NOT NULL, transcript_support_level TEXT NOT NULL, gene_version TEXT NOT NULL, protein_version TEXT NOT NULL, strand TEXT NOT NULL, exon_number TEXT NOT NULL, end INT NOT NULL, gene_biotype TEXT NOT NULL, transcript_name TEXT NOT NULL, start INT NOT NULL, feature TEXT NOT NULL, seqname TEXT NOT NULL, exon_version TEXT NOT NULL, exon_id TEXT NOT NULL, ccds_id TEXT NOT NULL, gene_id TEXT NOT NULL, gene_name TEXT NOT NULL, transcript_version TEXT NOT NULL, source TEXT NOT NULL, transcript_id TEXT NOT NULL, transcript_biotype TEXT NOT NULL)\"\n",
            "2020-06-27 15:41:15,310 - datacache.database - INFO - Inserting 87301 rows into table start_codon\n",
            "2020-06-27 15:41:15,862 - datacache.database - INFO - Creating index on start_codon (seqname, start, end)\n",
            "2020-06-27 15:41:15,982 - datacache.database - INFO - Creating index on start_codon (gene_name)\n",
            "2020-06-27 15:41:16,094 - datacache.database - INFO - Creating index on start_codon (gene_id)\n",
            "2020-06-27 15:41:16,251 - datacache.database - INFO - Creating index on start_codon (transcript_id)\n",
            "2020-06-27 15:41:16,366 - datacache.database - INFO - Creating index on start_codon (transcript_name)\n",
            "2020-06-27 15:41:16,464 - datacache.database - INFO - Creating index on start_codon (exon_id)\n",
            "2020-06-27 15:41:16,523 - datacache.database - INFO - Creating index on start_codon (protein_id)\n",
            "2020-06-27 15:41:16,580 - datacache.database - INFO - Creating index on start_codon (ccds_id)\n",
            "2020-06-27 15:41:16,666 - datacache.database - INFO - Running sqlite query: \"CREATE TABLE stop_codon (protein_id TEXT NOT NULL, transcript_support_level TEXT NOT NULL, gene_version TEXT NOT NULL, protein_version TEXT NOT NULL, strand TEXT NOT NULL, exon_number TEXT NOT NULL, end INT NOT NULL, gene_biotype TEXT NOT NULL, transcript_name TEXT NOT NULL, start INT NOT NULL, feature TEXT NOT NULL, seqname TEXT NOT NULL, exon_version TEXT NOT NULL, exon_id TEXT NOT NULL, ccds_id TEXT NOT NULL, gene_id TEXT NOT NULL, gene_name TEXT NOT NULL, transcript_version TEXT NOT NULL, source TEXT NOT NULL, transcript_id TEXT NOT NULL, transcript_biotype TEXT NOT NULL)\"\n",
            "2020-06-27 15:41:17,075 - datacache.database - INFO - Inserting 79498 rows into table stop_codon\n",
            "2020-06-27 15:41:17,819 - datacache.database - INFO - Creating index on stop_codon (seqname, start, end)\n",
            "2020-06-27 15:41:17,916 - datacache.database - INFO - Creating index on stop_codon (gene_name)\n",
            "2020-06-27 15:41:17,995 - datacache.database - INFO - Creating index on stop_codon (gene_id)\n",
            "2020-06-27 15:41:18,081 - datacache.database - INFO - Creating index on stop_codon (transcript_id)\n",
            "2020-06-27 15:41:18,187 - datacache.database - INFO - Creating index on stop_codon (transcript_name)\n",
            "2020-06-27 15:41:18,267 - datacache.database - INFO - Creating index on stop_codon (exon_id)\n",
            "2020-06-27 15:41:18,312 - datacache.database - INFO - Creating index on stop_codon (protein_id)\n",
            "2020-06-27 15:41:18,353 - datacache.database - INFO - Creating index on stop_codon (ccds_id)\n",
            "2020-06-27 15:41:18,439 - datacache.database - INFO - Running sqlite query: \"CREATE TABLE transcript (protein_id TEXT NOT NULL, transcript_support_level TEXT NOT NULL, gene_version TEXT NOT NULL, protein_version TEXT NOT NULL, strand TEXT NOT NULL, exon_number TEXT NOT NULL, end INT NOT NULL, gene_biotype TEXT NOT NULL, transcript_name TEXT NOT NULL, start INT NOT NULL, feature TEXT NOT NULL, seqname TEXT NOT NULL, exon_version TEXT NOT NULL, exon_id TEXT NOT NULL, ccds_id TEXT NOT NULL, gene_id TEXT NOT NULL, gene_name TEXT NOT NULL, transcript_version TEXT NOT NULL, source TEXT NOT NULL, transcript_id TEXT UNIQUE PRIMARY KEY NOT NULL, transcript_biotype TEXT NOT NULL)\"\n",
            "2020-06-27 15:41:19,537 - datacache.database - INFO - Inserting 226788 rows into table transcript\n",
            "2020-06-27 15:41:22,261 - datacache.database - INFO - Creating index on transcript (seqname, start, end)\n",
            "2020-06-27 15:41:22,395 - datacache.database - INFO - Creating index on transcript (gene_name)\n",
            "2020-06-27 15:41:22,526 - datacache.database - INFO - Creating index on transcript (gene_id)\n",
            "2020-06-27 15:41:22,674 - datacache.database - INFO - Creating index on transcript (transcript_name)\n",
            "2020-06-27 15:41:22,809 - datacache.database - INFO - Creating index on transcript (exon_id)\n",
            "2020-06-27 15:41:22,900 - datacache.database - INFO - Creating index on transcript (protein_id)\n",
            "2020-06-27 15:41:22,984 - datacache.database - INFO - Creating index on transcript (ccds_id)\n",
            "2020-06-27 15:41:23,097 - datacache.database - INFO - Running sqlite query: \"CREATE TABLE CDS (protein_id TEXT NOT NULL, transcript_support_level TEXT NOT NULL, gene_version TEXT NOT NULL, protein_version TEXT NOT NULL, strand TEXT NOT NULL, exon_number TEXT NOT NULL, end INT NOT NULL, gene_biotype TEXT NOT NULL, transcript_name TEXT NOT NULL, start INT NOT NULL, feature TEXT NOT NULL, seqname TEXT NOT NULL, exon_version TEXT NOT NULL, exon_id TEXT NOT NULL, ccds_id TEXT NOT NULL, gene_id TEXT NOT NULL, gene_name TEXT NOT NULL, transcript_version TEXT NOT NULL, source TEXT NOT NULL, transcript_id TEXT NOT NULL, transcript_biotype TEXT NOT NULL)\"\n",
            "2020-06-27 15:41:24,858 - datacache.database - INFO - Inserting 755075 rows into table CDS\n",
            "2020-06-27 15:41:28,453 - datacache.database - INFO - Creating index on CDS (seqname, start, end)\n",
            "2020-06-27 15:41:28,968 - datacache.database - INFO - Creating index on CDS (gene_name)\n",
            "2020-06-27 15:41:29,361 - datacache.database - INFO - Creating index on CDS (gene_id)\n",
            "2020-06-27 15:41:29,847 - datacache.database - INFO - Creating index on CDS (transcript_id)\n",
            "2020-06-27 15:41:30,388 - datacache.database - INFO - Creating index on CDS (transcript_name)\n",
            "2020-06-27 15:41:30,823 - datacache.database - INFO - Creating index on CDS (exon_id)\n",
            "2020-06-27 15:41:31,123 - datacache.database - INFO - Creating index on CDS (protein_id)\n",
            "2020-06-27 15:41:31,571 - datacache.database - INFO - Creating index on CDS (ccds_id)\n",
            "2020-06-27 15:41:31,973 - datacache.database - INFO - Running sqlite query: \"CREATE TABLE gene (protein_id TEXT NOT NULL, transcript_support_level TEXT NOT NULL, gene_version TEXT NOT NULL, protein_version TEXT NOT NULL, strand TEXT NOT NULL, exon_number TEXT NOT NULL, end INT NOT NULL, gene_biotype TEXT NOT NULL, transcript_name TEXT NOT NULL, start INT NOT NULL, feature TEXT NOT NULL, seqname TEXT NOT NULL, exon_version TEXT NOT NULL, exon_id TEXT NOT NULL, ccds_id TEXT NOT NULL, gene_id TEXT UNIQUE PRIMARY KEY NOT NULL, gene_name TEXT NOT NULL, transcript_version TEXT NOT NULL, source TEXT NOT NULL, transcript_id TEXT NOT NULL, transcript_biotype TEXT NOT NULL)\"\n",
            "2020-06-27 15:41:32,119 - datacache.database - INFO - Inserting 60617 rows into table gene\n",
            "2020-06-27 15:41:32,486 - datacache.database - INFO - Creating index on gene (seqname, start, end)\n",
            "2020-06-27 15:41:32,519 - datacache.database - INFO - Creating index on gene (gene_name)\n",
            "2020-06-27 15:41:32,553 - datacache.database - INFO - Creating index on gene (transcript_id)\n",
            "2020-06-27 15:41:32,572 - datacache.database - INFO - Creating index on gene (transcript_name)\n",
            "2020-06-27 15:41:32,590 - datacache.database - INFO - Creating index on gene (exon_id)\n",
            "2020-06-27 15:41:32,608 - datacache.database - INFO - Creating index on gene (protein_id)\n",
            "2020-06-27 15:41:32,624 - datacache.database - INFO - Creating index on gene (ccds_id)\n",
            "2020-06-27 15:41:32,642 - datacache.database - INFO - Running sqlite query: \"CREATE TABLE _datacache_metadata (version INT)\"\n",
            "2020-06-27 15:41:32,642 - datacache.database - INFO - Running sqlite query: \"INSERT INTO _datacache_metadata VALUES (3)\"\n",
            "2020-06-27 15:41:34,573 - pyensembl.sequence_data - INFO - Parsing sequences from FASTA file at /root/.cache/pyensembl/GRCh38/ensembl97/Homo_sapiens.GRCh38.cdna.all.fa.gz\n",
            "2020-06-27 15:41:43,832 - pyensembl.sequence_data - INFO - Saving sequence dictionary to /root/.cache/pyensembl/GRCh38/ensembl97/Homo_sapiens.GRCh38.cdna.all.fa.gz.pickle\n",
            "2020-06-27 15:41:45,083 - pyensembl.sequence_data - INFO - Parsing sequences from FASTA file at /root/.cache/pyensembl/GRCh38/ensembl97/Homo_sapiens.GRCh38.ncrna.fa.gz\n",
            "2020-06-27 15:41:47,206 - pyensembl.sequence_data - INFO - Saving sequence dictionary to /root/.cache/pyensembl/GRCh38/ensembl97/Homo_sapiens.GRCh38.ncrna.fa.gz.pickle\n",
            "2020-06-27 15:41:47,358 - pyensembl.sequence_data - INFO - Parsing sequences from FASTA file at /root/.cache/pyensembl/GRCh38/ensembl97/Homo_sapiens.GRCh38.pep.all.fa.gz\n",
            "2020-06-27 15:41:49,151 - pyensembl.sequence_data - INFO - Saving sequence dictionary to /root/.cache/pyensembl/GRCh38/ensembl97/Homo_sapiens.GRCh38.pep.all.fa.gz.pickle\n"
          ],
          "name": "stdout"
        }
      ]
    },
    {
      "cell_type": "code",
      "metadata": {
        "id": "xMxJPPWxHnfj",
        "colab_type": "code",
        "colab": {}
      },
      "source": [
        "import pandas as pd\n",
        "import numpy as np\n",
        "import gzip\n",
        "from tqdm.notebook import tqdm\n",
        "\n",
        "from Bio import SeqIO   # for reading fasta files\n",
        "from pyensembl import EnsemblRelease   # to get the gene list\n",
        "\n",
        "ENSEMBL_RELEASE = 97\n",
        "DNA_TOPLEVEL_FASTA_PATH = \"/content/drive/My Drive/data/ensembl/Homo_sapiens.GRCh38.dna.toplevel.fa.gz\"\n",
        "\n",
        "# to generate random sequences\n",
        "N = 50_000    # how many\n",
        "K = 200       # how long\n",
        "MIN_DIST = 50 # how far should they be from the gene\n",
        "OUTPUT_FILE = '/content/drive/My Drive/data/random/random_exons.csv'   # where to save them\n",
        "# OUTPUT_FILE = 'random_seqs.csv'\n",
        "\n",
        "CHRS = [str(chr) for chr in range(1,23)] + ['X', 'Y', 'MT']"
      ],
      "execution_count": 4,
      "outputs": []
    },
    {
      "cell_type": "markdown",
      "metadata": {
        "id": "eLtdacLDHnfx",
        "colab_type": "text"
      },
      "source": [
        "## Get exon list"
      ]
    },
    {
      "cell_type": "code",
      "metadata": {
        "id": "iRzWAYenHnfy",
        "colab_type": "code",
        "colab": {}
      },
      "source": [
        "# release 97 uses human reference genome GRCh38\n",
        "data = EnsemblRelease(ENSEMBL_RELEASE)"
      ],
      "execution_count": 5,
      "outputs": []
    },
    {
      "cell_type": "code",
      "metadata": {
        "id": "EVJQO00LHnf0",
        "colab_type": "code",
        "colab": {
          "base_uri": "https://localhost:8080/",
          "height": 35
        },
        "outputId": "f7668f05-a6e1-4898-80b0-6a94dfd79885"
      },
      "source": [
        "human_exons = data.exon_ids()\n",
        "len(human_exons)"
      ],
      "execution_count": 6,
      "outputs": [
        {
          "output_type": "execute_result",
          "data": {
            "text/plain": [
              "745513"
            ]
          },
          "metadata": {
            "tags": []
          },
          "execution_count": 6
        }
      ]
    },
    {
      "cell_type": "code",
      "metadata": {
        "id": "i1dIXhzvfv6u",
        "colab_type": "code",
        "colab": {
          "base_uri": "https://localhost:8080/",
          "height": 54
        },
        "outputId": "b61626ef-9e4e-4a35-ad7a-c36d5bc1e7fa"
      },
      "source": [
        "human_exons[0], data.exon_by_id(human_exons[0])\n"
      ],
      "execution_count": 7,
      "outputs": [
        {
          "output_type": "execute_result",
          "data": {
            "text/plain": [
              "('ENSE00000327880',\n",
              " Exon(exon_id='ENSE00000327880', gene_id='ENSG00000009780', gene_name='FAM76A', contig='1', start=27732603, end=27732657, strand='+'))"
            ]
          },
          "metadata": {
            "tags": []
          },
          "execution_count": 7
        }
      ]
    },
    {
      "cell_type": "code",
      "metadata": {
        "id": "8r9jj_B-Hnf3",
        "colab_type": "code",
        "colab": {}
      },
      "source": [
        "exons_full_info  = [data.exon_by_id(exon) for exon in human_exons]"
      ],
      "execution_count": 8,
      "outputs": []
    },
    {
      "cell_type": "code",
      "metadata": {
        "id": "97lrmGvNHnf6",
        "colab_type": "code",
        "colab": {
          "base_uri": "https://localhost:8080/",
          "height": 198
        },
        "outputId": "db4b2c4d-f800-4023-cf16-37004494e8c8"
      },
      "source": [
        "human_exon_tuples = [(x.exon_id, x.gene_id, x.gene_name, x.contig, x.start, x.end, x.strand) for x in exons_full_info]\n",
        "human_exon_table = pd.DataFrame.from_records(human_exon_tuples, columns=[\"id\", \"gene_id\", \"gene_symbol\", \"chr\", \"start\", \"end\", \"strand\"])\n",
        "assert all(human_exon_table.start <= human_exon_table.end)\n",
        "\n",
        "human_exon_table.head()"
      ],
      "execution_count": 9,
      "outputs": [
        {
          "output_type": "execute_result",
          "data": {
            "text/html": [
              "<div>\n",
              "<style scoped>\n",
              "    .dataframe tbody tr th:only-of-type {\n",
              "        vertical-align: middle;\n",
              "    }\n",
              "\n",
              "    .dataframe tbody tr th {\n",
              "        vertical-align: top;\n",
              "    }\n",
              "\n",
              "    .dataframe thead th {\n",
              "        text-align: right;\n",
              "    }\n",
              "</style>\n",
              "<table border=\"1\" class=\"dataframe\">\n",
              "  <thead>\n",
              "    <tr style=\"text-align: right;\">\n",
              "      <th></th>\n",
              "      <th>id</th>\n",
              "      <th>gene_id</th>\n",
              "      <th>gene_symbol</th>\n",
              "      <th>chr</th>\n",
              "      <th>start</th>\n",
              "      <th>end</th>\n",
              "      <th>strand</th>\n",
              "    </tr>\n",
              "  </thead>\n",
              "  <tbody>\n",
              "    <tr>\n",
              "      <th>0</th>\n",
              "      <td>ENSE00000327880</td>\n",
              "      <td>ENSG00000009780</td>\n",
              "      <td>FAM76A</td>\n",
              "      <td>1</td>\n",
              "      <td>27732603</td>\n",
              "      <td>27732657</td>\n",
              "      <td>+</td>\n",
              "    </tr>\n",
              "    <tr>\n",
              "      <th>1</th>\n",
              "      <td>ENSE00000328922</td>\n",
              "      <td>ENSG00000034533</td>\n",
              "      <td>ASTE1</td>\n",
              "      <td>3</td>\n",
              "      <td>131018506</td>\n",
              "      <td>131018716</td>\n",
              "      <td>-</td>\n",
              "    </tr>\n",
              "    <tr>\n",
              "      <th>2</th>\n",
              "      <td>ENSE00000329326</td>\n",
              "      <td>ENSG00000129295</td>\n",
              "      <td>LRRC6</td>\n",
              "      <td>8</td>\n",
              "      <td>132583694</td>\n",
              "      <td>132583779</td>\n",
              "      <td>-</td>\n",
              "    </tr>\n",
              "    <tr>\n",
              "      <th>3</th>\n",
              "      <td>ENSE00000330966</td>\n",
              "      <td>ENSG00000040608</td>\n",
              "      <td>RTN4R</td>\n",
              "      <td>22</td>\n",
              "      <td>20241417</td>\n",
              "      <td>20243110</td>\n",
              "      <td>-</td>\n",
              "    </tr>\n",
              "    <tr>\n",
              "      <th>4</th>\n",
              "      <td>ENSE00000331106</td>\n",
              "      <td>ENSG00000063515</td>\n",
              "      <td>GSC2</td>\n",
              "      <td>22</td>\n",
              "      <td>19148576</td>\n",
              "      <td>19149095</td>\n",
              "      <td>-</td>\n",
              "    </tr>\n",
              "  </tbody>\n",
              "</table>\n",
              "</div>"
            ],
            "text/plain": [
              "                id          gene_id gene_symbol  ...      start        end  strand\n",
              "0  ENSE00000327880  ENSG00000009780      FAM76A  ...   27732603   27732657       +\n",
              "1  ENSE00000328922  ENSG00000034533       ASTE1  ...  131018506  131018716       -\n",
              "2  ENSE00000329326  ENSG00000129295       LRRC6  ...  132583694  132583779       -\n",
              "3  ENSE00000330966  ENSG00000040608       RTN4R  ...   20241417   20243110       -\n",
              "4  ENSE00000331106  ENSG00000063515        GSC2  ...   19148576   19149095       -\n",
              "\n",
              "[5 rows x 7 columns]"
            ]
          },
          "metadata": {
            "tags": []
          },
          "execution_count": 9
        }
      ]
    },
    {
      "cell_type": "code",
      "metadata": {
        "id": "B2kcMGGYHnf8",
        "colab_type": "code",
        "colab": {
          "base_uri": "https://localhost:8080/",
          "height": 490
        },
        "outputId": "b780f819-e2bc-4676-c029-cf5746e7b592"
      },
      "source": [
        "selected_regions = human_exon_table[[\"chr\", \"start\", \"end\"]][human_exon_table.chr.isin(CHRS) & ((human_exon_table.end - human_exon_table.start) >= K)].copy()\n",
        "selected_regions.chr.value_counts()"
      ],
      "execution_count": 12,
      "outputs": [
        {
          "output_type": "execute_result",
          "data": {
            "text/plain": [
              "1     23714\n",
              "2     18929\n",
              "3     15756\n",
              "11    15213\n",
              "19    15123\n",
              "17    15102\n",
              "12    14259\n",
              "16    12452\n",
              "7     12396\n",
              "5     12357\n",
              "6     12345\n",
              "4     10457\n",
              "8     10156\n",
              "15     9543\n",
              "14     9305\n",
              "9      9156\n",
              "10     8957\n",
              "X      7854\n",
              "20     5810\n",
              "22     5591\n",
              "18     4871\n",
              "13     4699\n",
              "21     3189\n",
              "Y       914\n",
              "MT       15\n",
              "Name: chr, dtype: int64"
            ]
          },
          "metadata": {
            "tags": []
          },
          "execution_count": 12
        }
      ]
    },
    {
      "cell_type": "code",
      "metadata": {
        "id": "P2X_MtbZHnf_",
        "colab_type": "code",
        "colab": {
          "base_uri": "https://localhost:8080/",
          "height": 198
        },
        "outputId": "d09e1ca7-ba74-49e7-b38b-303e0f69625b"
      },
      "source": [
        "selected_regions['length'] = selected_regions.end - selected_regions.start + 1\n",
        "selected_regions['random_pos'] = [np.random.randint(c_len - K) for c_len in selected_regions.length]\n",
        "selected_regions['random_start'] = selected_regions.start + selected_regions.random_pos\n",
        "selected_regions.head()"
      ],
      "execution_count": 13,
      "outputs": [
        {
          "output_type": "execute_result",
          "data": {
            "text/html": [
              "<div>\n",
              "<style scoped>\n",
              "    .dataframe tbody tr th:only-of-type {\n",
              "        vertical-align: middle;\n",
              "    }\n",
              "\n",
              "    .dataframe tbody tr th {\n",
              "        vertical-align: top;\n",
              "    }\n",
              "\n",
              "    .dataframe thead th {\n",
              "        text-align: right;\n",
              "    }\n",
              "</style>\n",
              "<table border=\"1\" class=\"dataframe\">\n",
              "  <thead>\n",
              "    <tr style=\"text-align: right;\">\n",
              "      <th></th>\n",
              "      <th>chr</th>\n",
              "      <th>start</th>\n",
              "      <th>end</th>\n",
              "      <th>length</th>\n",
              "      <th>random_pos</th>\n",
              "      <th>random_start</th>\n",
              "    </tr>\n",
              "  </thead>\n",
              "  <tbody>\n",
              "    <tr>\n",
              "      <th>1</th>\n",
              "      <td>3</td>\n",
              "      <td>131018506</td>\n",
              "      <td>131018716</td>\n",
              "      <td>211</td>\n",
              "      <td>1</td>\n",
              "      <td>131018507</td>\n",
              "    </tr>\n",
              "    <tr>\n",
              "      <th>3</th>\n",
              "      <td>22</td>\n",
              "      <td>20241417</td>\n",
              "      <td>20243110</td>\n",
              "      <td>1694</td>\n",
              "      <td>931</td>\n",
              "      <td>20242348</td>\n",
              "    </tr>\n",
              "    <tr>\n",
              "      <th>4</th>\n",
              "      <td>22</td>\n",
              "      <td>19148576</td>\n",
              "      <td>19149095</td>\n",
              "      <td>520</td>\n",
              "      <td>2</td>\n",
              "      <td>19148578</td>\n",
              "    </tr>\n",
              "    <tr>\n",
              "      <th>8</th>\n",
              "      <td>11</td>\n",
              "      <td>2412754</td>\n",
              "      <td>2413012</td>\n",
              "      <td>259</td>\n",
              "      <td>40</td>\n",
              "      <td>2412794</td>\n",
              "    </tr>\n",
              "    <tr>\n",
              "      <th>31</th>\n",
              "      <td>15</td>\n",
              "      <td>40899144</td>\n",
              "      <td>40901014</td>\n",
              "      <td>1871</td>\n",
              "      <td>190</td>\n",
              "      <td>40899334</td>\n",
              "    </tr>\n",
              "  </tbody>\n",
              "</table>\n",
              "</div>"
            ],
            "text/plain": [
              "   chr      start        end  length  random_pos  random_start\n",
              "1    3  131018506  131018716     211           1     131018507\n",
              "3   22   20241417   20243110    1694         931      20242348\n",
              "4   22   19148576   19149095     520           2      19148578\n",
              "8   11    2412754    2413012     259          40       2412794\n",
              "31  15   40899144   40901014    1871         190      40899334"
            ]
          },
          "metadata": {
            "tags": []
          },
          "execution_count": 13
        }
      ]
    },
    {
      "cell_type": "markdown",
      "metadata": {
        "id": "zQ4J1qGeHngN",
        "colab_type": "text"
      },
      "source": [
        "## Random exon selection"
      ]
    },
    {
      "cell_type": "code",
      "metadata": {
        "id": "M_-EBl92HngN",
        "colab_type": "code",
        "colab": {
          "base_uri": "https://localhost:8080/",
          "height": 35
        },
        "outputId": "347eff2b-643d-4a50-af8c-9997b3b66ec7"
      },
      "source": [
        "sample_regions = selected_regions.sample(N)\n",
        "sample_regions.shape"
      ],
      "execution_count": 14,
      "outputs": [
        {
          "output_type": "execute_result",
          "data": {
            "text/plain": [
              "(50000, 6)"
            ]
          },
          "metadata": {
            "tags": []
          },
          "execution_count": 14
        }
      ]
    },
    {
      "cell_type": "markdown",
      "metadata": {
        "id": "MqdGuPVqHngX",
        "colab_type": "text"
      },
      "source": [
        "## Get actual genomic sequences"
      ]
    },
    {
      "cell_type": "code",
      "metadata": {
        "id": "Ia_xkzHqHngX",
        "colab_type": "code",
        "colab": {}
      },
      "source": [
        "seqs = sample_regions[['chr', 'random_start']].copy().reset_index(drop=True)\n",
        "seqs['random_end'] = seqs['random_start'] + K - 1\n",
        "seqs['seq'] = ''"
      ],
      "execution_count": 15,
      "outputs": []
    },
    {
      "cell_type": "code",
      "metadata": {
        "id": "HPUTyeL4HngZ",
        "colab_type": "code",
        "colab": {
          "base_uri": "https://localhost:8080/",
          "height": 198
        },
        "outputId": "3dd117a5-4ccd-4baa-b475-c97f0a29ef88"
      },
      "source": [
        "seqs.head()"
      ],
      "execution_count": 16,
      "outputs": [
        {
          "output_type": "execute_result",
          "data": {
            "text/html": [
              "<div>\n",
              "<style scoped>\n",
              "    .dataframe tbody tr th:only-of-type {\n",
              "        vertical-align: middle;\n",
              "    }\n",
              "\n",
              "    .dataframe tbody tr th {\n",
              "        vertical-align: top;\n",
              "    }\n",
              "\n",
              "    .dataframe thead th {\n",
              "        text-align: right;\n",
              "    }\n",
              "</style>\n",
              "<table border=\"1\" class=\"dataframe\">\n",
              "  <thead>\n",
              "    <tr style=\"text-align: right;\">\n",
              "      <th></th>\n",
              "      <th>chr</th>\n",
              "      <th>random_start</th>\n",
              "      <th>random_end</th>\n",
              "      <th>seq</th>\n",
              "    </tr>\n",
              "  </thead>\n",
              "  <tbody>\n",
              "    <tr>\n",
              "      <th>0</th>\n",
              "      <td>1</td>\n",
              "      <td>236763182</td>\n",
              "      <td>236763381</td>\n",
              "      <td></td>\n",
              "    </tr>\n",
              "    <tr>\n",
              "      <th>1</th>\n",
              "      <td>17</td>\n",
              "      <td>8289582</td>\n",
              "      <td>8289781</td>\n",
              "      <td></td>\n",
              "    </tr>\n",
              "    <tr>\n",
              "      <th>2</th>\n",
              "      <td>3</td>\n",
              "      <td>100455979</td>\n",
              "      <td>100456178</td>\n",
              "      <td></td>\n",
              "    </tr>\n",
              "    <tr>\n",
              "      <th>3</th>\n",
              "      <td>10</td>\n",
              "      <td>94852754</td>\n",
              "      <td>94852953</td>\n",
              "      <td></td>\n",
              "    </tr>\n",
              "    <tr>\n",
              "      <th>4</th>\n",
              "      <td>1</td>\n",
              "      <td>209756085</td>\n",
              "      <td>209756284</td>\n",
              "      <td></td>\n",
              "    </tr>\n",
              "  </tbody>\n",
              "</table>\n",
              "</div>"
            ],
            "text/plain": [
              "  chr  random_start  random_end seq\n",
              "0   1     236763182   236763381    \n",
              "1  17       8289582     8289781    \n",
              "2   3     100455979   100456178    \n",
              "3  10      94852754    94852953    \n",
              "4   1     209756085   209756284    "
            ]
          },
          "metadata": {
            "tags": []
          },
          "execution_count": 16
        }
      ]
    },
    {
      "cell_type": "code",
      "metadata": {
        "id": "TQsOjxmSHngb",
        "colab_type": "code",
        "colab": {
          "base_uri": "https://localhost:8080/",
          "height": 49,
          "referenced_widgets": [
            "710ee319515541cbbf9d05a282223686",
            "2448993f85ab496f9223de9e484ce1ee",
            "40e6d1e72e8944ca80c04cdab713f28b",
            "7228bcd9c6a54627b90ec8929de8cd38",
            "c21627aec2a24712be6d760bd01f2d1c",
            "dcf022767d14464b8d976b50cfdb060c",
            "3c7fd10f74524436948bd076a8572ea3",
            "a6c07eb97a9e49e18d0b05d7585bfce2"
          ]
        },
        "outputId": "8eb52e99-6d72-4437-8213-ed0c88f428d2"
      },
      "source": [
        "def which(self):\n",
        "    try:\n",
        "        self = list(iter(self))\n",
        "    except TypeError as e:\n",
        "        raise Exception(\"\"\"'which' method can only be applied to iterables.\n",
        "        {}\"\"\".format(str(e)))\n",
        "    indices = [i for i, x in enumerate(self) if bool(x) == True]\n",
        "    return(indices)\n",
        "\n",
        "with gzip.open(DNA_TOPLEVEL_FASTA_PATH, \"rt\") as handle:\n",
        "    for record in tqdm(SeqIO.parse(handle, \"fasta\"), total=24):\n",
        "        sel_seqs = which(seqs.chr == record.id)\n",
        "        for i in sel_seqs:\n",
        "            seqs.loc[i, \"seq\"] = str(record.seq[(seqs.random_start[i]-1):seqs.random_end[i]])\n",
        "        \n",
        "        if record.id == \"MT\": \n",
        "            # stop, do not read small contigs\n",
        "            break"
      ],
      "execution_count": 17,
      "outputs": [
        {
          "output_type": "display_data",
          "data": {
            "application/vnd.jupyter.widget-view+json": {
              "model_id": "710ee319515541cbbf9d05a282223686",
              "version_minor": 0,
              "version_major": 2
            },
            "text/plain": [
              "HBox(children=(FloatProgress(value=0.0, max=24.0), HTML(value='')))"
            ]
          },
          "metadata": {
            "tags": []
          }
        }
      ]
    },
    {
      "cell_type": "code",
      "metadata": {
        "id": "leWUPmccHngd",
        "colab_type": "code",
        "colab": {
          "base_uri": "https://localhost:8080/",
          "height": 198
        },
        "outputId": "3ba0d94e-07c8-4f02-c254-42e70d163649"
      },
      "source": [
        "seqs.head()"
      ],
      "execution_count": 18,
      "outputs": [
        {
          "output_type": "execute_result",
          "data": {
            "text/html": [
              "<div>\n",
              "<style scoped>\n",
              "    .dataframe tbody tr th:only-of-type {\n",
              "        vertical-align: middle;\n",
              "    }\n",
              "\n",
              "    .dataframe tbody tr th {\n",
              "        vertical-align: top;\n",
              "    }\n",
              "\n",
              "    .dataframe thead th {\n",
              "        text-align: right;\n",
              "    }\n",
              "</style>\n",
              "<table border=\"1\" class=\"dataframe\">\n",
              "  <thead>\n",
              "    <tr style=\"text-align: right;\">\n",
              "      <th></th>\n",
              "      <th>chr</th>\n",
              "      <th>random_start</th>\n",
              "      <th>random_end</th>\n",
              "      <th>seq</th>\n",
              "    </tr>\n",
              "  </thead>\n",
              "  <tbody>\n",
              "    <tr>\n",
              "      <th>0</th>\n",
              "      <td>1</td>\n",
              "      <td>236763182</td>\n",
              "      <td>236763381</td>\n",
              "      <td>GACTACCCAAAAGATTTTTGGCACTTACAATTTTTAAAATAGTTTA...</td>\n",
              "    </tr>\n",
              "    <tr>\n",
              "      <th>1</th>\n",
              "      <td>17</td>\n",
              "      <td>8289582</td>\n",
              "      <td>8289781</td>\n",
              "      <td>AGCCCCCGTAAGGAGGAAGGAACGGGCGGGTATCTCATGACTGGGT...</td>\n",
              "    </tr>\n",
              "    <tr>\n",
              "      <th>2</th>\n",
              "      <td>3</td>\n",
              "      <td>100455979</td>\n",
              "      <td>100456178</td>\n",
              "      <td>TGAGCCCCAATTCACCATTTCAGGATGTGGATGGGGGCGGGGTTGG...</td>\n",
              "    </tr>\n",
              "    <tr>\n",
              "      <th>3</th>\n",
              "      <td>10</td>\n",
              "      <td>94852754</td>\n",
              "      <td>94852953</td>\n",
              "      <td>AGGGCCTGGCCCGCATGGAGCTGTTTTTATTCCTGACCTTCATTTT...</td>\n",
              "    </tr>\n",
              "    <tr>\n",
              "      <th>4</th>\n",
              "      <td>1</td>\n",
              "      <td>209756085</td>\n",
              "      <td>209756284</td>\n",
              "      <td>GGGTTTGCGAACCTTGTGGCTTTGTCTGTTTCCTGTTTCAGCAAGG...</td>\n",
              "    </tr>\n",
              "  </tbody>\n",
              "</table>\n",
              "</div>"
            ],
            "text/plain": [
              "  chr  ...                                                seq\n",
              "0   1  ...  GACTACCCAAAAGATTTTTGGCACTTACAATTTTTAAAATAGTTTA...\n",
              "1  17  ...  AGCCCCCGTAAGGAGGAAGGAACGGGCGGGTATCTCATGACTGGGT...\n",
              "2   3  ...  TGAGCCCCAATTCACCATTTCAGGATGTGGATGGGGGCGGGGTTGG...\n",
              "3  10  ...  AGGGCCTGGCCCGCATGGAGCTGTTTTTATTCCTGACCTTCATTTT...\n",
              "4   1  ...  GGGTTTGCGAACCTTGTGGCTTTGTCTGTTTCCTGTTTCAGCAAGG...\n",
              "\n",
              "[5 rows x 4 columns]"
            ]
          },
          "metadata": {
            "tags": []
          },
          "execution_count": 18
        }
      ]
    },
    {
      "cell_type": "code",
      "metadata": {
        "id": "d9-E5cG9Hngf",
        "colab_type": "code",
        "colab": {
          "base_uri": "https://localhost:8080/",
          "height": 35
        },
        "outputId": "a5b96348-3f10-4410-c970-5faed656027a"
      },
      "source": [
        "len(seqs.seq.values[0])"
      ],
      "execution_count": 19,
      "outputs": [
        {
          "output_type": "execute_result",
          "data": {
            "text/plain": [
              "200"
            ]
          },
          "metadata": {
            "tags": []
          },
          "execution_count": 19
        }
      ]
    },
    {
      "cell_type": "code",
      "metadata": {
        "id": "VMSIx3zCHngh",
        "colab_type": "code",
        "colab": {
          "base_uri": "https://localhost:8080/",
          "height": 54
        },
        "outputId": "d1550402-0b5b-40cb-e63b-15d3f8be4872"
      },
      "source": [
        "seqs.seq.values[1]"
      ],
      "execution_count": 20,
      "outputs": [
        {
          "output_type": "execute_result",
          "data": {
            "application/vnd.google.colaboratory.intrinsic": {
              "type": "string"
            },
            "text/plain": [
              "'AGCCCCCGTAAGGAGGAAGGAACGGGCGGGTATCTCATGACTGGGTTCCCAGGAGAATCGGGCTGGGAGGGACAGAACAGGGAGACTCACTGGTGGGATCCTCCAAGGAAGCAGGAGTGGGCCAGAGGTTTGGGGTAACTGATACCCAGGTCCTCTGGGGAACAGGAATTGGCAATTTCCAAACCTCAGGCCTGGATGAT'"
            ]
          },
          "metadata": {
            "tags": []
          },
          "execution_count": 20
        }
      ]
    },
    {
      "cell_type": "code",
      "metadata": {
        "id": "Xn43tzWHl_8N",
        "colab_type": "code",
        "colab": {
          "base_uri": "https://localhost:8080/",
          "height": 35
        },
        "outputId": "99563053-4505-4d4f-db0d-7835c5d71828"
      },
      "source": [
        "any(seqs.seq.str.contains('N'))"
      ],
      "execution_count": 21,
      "outputs": [
        {
          "output_type": "execute_result",
          "data": {
            "text/plain": [
              "False"
            ]
          },
          "metadata": {
            "tags": []
          },
          "execution_count": 21
        }
      ]
    },
    {
      "cell_type": "markdown",
      "metadata": {
        "id": "pLGZ-XrKHngk",
        "colab_type": "text"
      },
      "source": [
        "## Save generated sequences to file"
      ]
    },
    {
      "cell_type": "code",
      "metadata": {
        "id": "Sfj_KTv1Hngk",
        "colab_type": "code",
        "colab": {}
      },
      "source": [
        "seqs.to_csv(OUTPUT_FILE, index=False)"
      ],
      "execution_count": 22,
      "outputs": []
    }
  ]
}